{
 "cells": [
  {
   "cell_type": "code",
   "execution_count": 5,
   "id": "82004822",
   "metadata": {},
   "outputs": [
    {
     "data": {
      "text/plain": [
       "8"
      ]
     },
     "execution_count": 5,
     "metadata": {},
     "output_type": "execute_result"
    }
   ],
   "source": [
    "a = 1+2+3\n",
    "+3+ 5"
   ]
  },
  {
   "cell_type": "code",
   "execution_count": 6,
   "id": "586dccaa",
   "metadata": {},
   "outputs": [
    {
     "name": "stdout",
     "output_type": "stream",
     "text": [
      "28\n"
     ]
    }
   ],
   "source": [
    "a = 1+9+9+9\n",
    "+3+5+3\n",
    "print(a)"
   ]
  },
  {
   "cell_type": "code",
   "execution_count": 9,
   "id": "a3badb10",
   "metadata": {},
   "outputs": [
    {
     "name": "stdout",
     "output_type": "stream",
     "text": [
      "39\n"
     ]
    }
   ],
   "source": [
    "a = 1+9+9+9\\\n",
    "+3+5+3\n",
    "print(a)"
   ]
  },
  {
   "cell_type": "code",
   "execution_count": 10,
   "id": "43556159",
   "metadata": {},
   "outputs": [
    {
     "name": "stdout",
     "output_type": "stream",
     "text": [
      "39\n"
     ]
    }
   ],
   "source": [
    "a = (1+9+9+9\n",
    "+3+5+3)\n",
    "print(a)"
   ]
  },
  {
   "cell_type": "code",
   "execution_count": 11,
   "id": "4c35841c",
   "metadata": {},
   "outputs": [
    {
     "name": "stdout",
     "output_type": "stream",
     "text": [
      "39\n"
     ]
    }
   ],
   "source": [
    "a = (1+9+9+9\n",
    "    +3+5+3)\n",
    "print(a)"
   ]
  },
  {
   "cell_type": "code",
   "execution_count": 15,
   "id": "dda4d359",
   "metadata": {},
   "outputs": [
    {
     "data": {
      "text/plain": [
       "19"
      ]
     },
     "execution_count": 15,
     "metadata": {},
     "output_type": "execute_result"
    }
   ],
   "source": [
    "# this will print the last line of code only \n",
    "a = 1 + 2 + 3 + 4 \n",
    "5 + 6+ 7+ 8\n",
    "+9 + 10"
   ]
  },
  {
   "cell_type": "code",
   "execution_count": 16,
   "id": "0ec47636",
   "metadata": {},
   "outputs": [
    {
     "ename": "SyntaxError",
     "evalue": "invalid syntax (1747692524.py, line 1)",
     "output_type": "error",
     "traceback": [
      "\u001b[1;36m  Input \u001b[1;32mIn [16]\u001b[1;36m\u001b[0m\n\u001b[1;33m    a = 1 + 2 + 3 + 4 +\u001b[0m\n\u001b[1;37m                        ^\u001b[0m\n\u001b[1;31mSyntaxError\u001b[0m\u001b[1;31m:\u001b[0m invalid syntax\n"
     ]
    }
   ],
   "source": [
    "# if the code is ending with + then error \n",
    "a = 1 + 2 + 3 + 4 + \n",
    "5 + 6+ 7+ 8+ \n",
    "9 + 10"
   ]
  },
  {
   "cell_type": "code",
   "execution_count": 17,
   "id": "d217e9e4",
   "metadata": {},
   "outputs": [],
   "source": [
    "my_list = [1]\n",
    "my_tuple = (1,)"
   ]
  },
  {
   "cell_type": "code",
   "execution_count": 18,
   "id": "4a127e28",
   "metadata": {},
   "outputs": [
    {
     "data": {
      "text/plain": [
       "([1], (1,))"
      ]
     },
     "execution_count": 18,
     "metadata": {},
     "output_type": "execute_result"
    }
   ],
   "source": [
    "my_list,my_tuple"
   ]
  },
  {
   "cell_type": "code",
   "execution_count": 19,
   "id": "26b15138",
   "metadata": {},
   "outputs": [
    {
     "ename": "SyntaxError",
     "evalue": "unexpected EOF while parsing (990727948.py, line 4)",
     "output_type": "error",
     "traceback": [
      "\u001b[1;36m  Input \u001b[1;32mIn [19]\u001b[1;36m\u001b[0m\n\u001b[1;33m    8 + 9 + 10\u001b[0m\n\u001b[1;37m              ^\u001b[0m\n\u001b[1;31mSyntaxError\u001b[0m\u001b[1;31m:\u001b[0m unexpected EOF while parsing\n"
     ]
    }
   ],
   "source": [
    "a = (1 + 2 + 3 + 4 +\n",
    "     \n",
    "     5 + 6 + 7 + \n",
    "     8 + 9 + 10"
   ]
  },
  {
   "cell_type": "code",
   "execution_count": 23,
   "id": "0f8bd4ce",
   "metadata": {},
   "outputs": [
    {
     "data": {
      "text/plain": [
       "'adfdfdasfdsafsdfasdfdsafsdfsdafsdafsdafsdafsadfasdfdsalfksd;lfkasflsd;aflkasd;lfk'"
      ]
     },
     "execution_count": 23,
     "metadata": {},
     "output_type": "execute_result"
    }
   ],
   "source": [
    "x = 'adfdfdasfdsafsdfasdfdsafsdfsdafsdafsdafsdafsadfasdf\\\n",
    "dsalfksd;lfkasflsd;aflkasd;lfk'\n",
    "x"
   ]
  },
  {
   "cell_type": "code",
   "execution_count": 24,
   "id": "97edf0c6",
   "metadata": {},
   "outputs": [
    {
     "name": "stdout",
     "output_type": "stream",
     "text": [
      "adfdfdasfdsafsdfasdfdsafsdfsdafsdafsdafsdafsadfasdf\n",
      "dsalfksd;lfkasflsd;aflkasd;lfk\n"
     ]
    }
   ],
   "source": [
    "print('adfdfdasfdsafsdfasdfdsafsdfsdafsdafsdafsdafsadfasdf\\ndsalfksd;lfkasflsd;aflkasd;lfk')"
   ]
  },
  {
   "cell_type": "code",
   "execution_count": 31,
   "id": "c51de55d",
   "metadata": {},
   "outputs": [
    {
     "data": {
      "text/plain": [
       "(1, 2)"
      ]
     },
     "execution_count": 31,
     "metadata": {},
     "output_type": "execute_result"
    }
   ],
   "source": [
    "# Know the differnece\n",
    "a, b = 1,2\n",
    "a,b"
   ]
  },
  {
   "cell_type": "code",
   "execution_count": 32,
   "id": "d25ee6ef",
   "metadata": {},
   "outputs": [
    {
     "name": "stdout",
     "output_type": "stream",
     "text": [
      "1\n",
      "2\n"
     ]
    },
    {
     "data": {
      "text/plain": [
       "(None, None)"
      ]
     },
     "execution_count": 32,
     "metadata": {},
     "output_type": "execute_result"
    }
   ],
   "source": [
    "a,b = 1,2\n",
    "print(a), print(b)"
   ]
  },
  {
   "cell_type": "code",
   "execution_count": 33,
   "id": "8008f66b",
   "metadata": {},
   "outputs": [
    {
     "data": {
      "text/plain": [
       "(2, 1)"
      ]
     },
     "execution_count": 33,
     "metadata": {},
     "output_type": "execute_result"
    }
   ],
   "source": [
    "a,b = b,a\n",
    "a,b"
   ]
  },
  {
   "cell_type": "code",
   "execution_count": 34,
   "id": "10beeb9f",
   "metadata": {},
   "outputs": [
    {
     "data": {
      "text/plain": [
       "(1, 2, 3)"
      ]
     },
     "execution_count": 34,
     "metadata": {},
     "output_type": "execute_result"
    }
   ],
   "source": [
    "x = 1; y=2; z=3;\n",
    "x,y,z"
   ]
  },
  {
   "cell_type": "code",
   "execution_count": 36,
   "id": "1c34af7b",
   "metadata": {},
   "outputs": [
    {
     "name": "stdout",
     "output_type": "stream",
     "text": [
      "This is also a\n",
      "perfect example of\n",
      "ahjcdjh\n",
      "sdjbdkjas\n",
      "mnbscjsab\n",
      "bkjabfa\n",
      "multi-line comments\n"
     ]
    }
   ],
   "source": [
    "print('''This is also a\n",
    "perfect example of\n",
    "ahjcdjh\n",
    "sdjbdkjas\n",
    "mnbscjsab\n",
    "bkjabfa\n",
    "multi-line comments''')"
   ]
  },
  {
   "cell_type": "code",
   "execution_count": null,
   "id": "0fe58d97",
   "metadata": {},
   "outputs": [],
   "source": []
  }
 ],
 "metadata": {
  "kernelspec": {
   "display_name": "Python 3 (ipykernel)",
   "language": "python",
   "name": "python3"
  },
  "language_info": {
   "codemirror_mode": {
    "name": "ipython",
    "version": 3
   },
   "file_extension": ".py",
   "mimetype": "text/x-python",
   "name": "python",
   "nbconvert_exporter": "python",
   "pygments_lexer": "ipython3",
   "version": "3.9.12"
  }
 },
 "nbformat": 4,
 "nbformat_minor": 5
}
