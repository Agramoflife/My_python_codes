{
 "cells": [
  {
   "cell_type": "markdown",
   "id": "a7eb5005",
   "metadata": {},
   "source": [
    "# oops concepts - inheritence, polymorphisms"
   ]
  },
  {
   "cell_type": "code",
   "execution_count": 30,
   "id": "aab30e90",
   "metadata": {},
   "outputs": [],
   "source": [
    "class circle:\n",
    "    def __init__(self,radius=0):\n",
    "        self.radius = radius\n",
    "        self.area = 3.14*radius**2\n",
    "        \n",
    "    def new_radius(self,new_radius):\n",
    "        self.radius = new_radius\n",
    "        area = 3.14*radius**2"
   ]
  },
  {
   "cell_type": "code",
   "execution_count": 31,
   "id": "d03d1e54",
   "metadata": {},
   "outputs": [],
   "source": [
    "cir1 = circle(4)"
   ]
  },
  {
   "cell_type": "code",
   "execution_count": 32,
   "id": "b84198d2",
   "metadata": {},
   "outputs": [
    {
     "data": {
      "text/plain": [
       "50.24"
      ]
     },
     "execution_count": 32,
     "metadata": {},
     "output_type": "execute_result"
    }
   ],
   "source": [
    "cir1.area"
   ]
  },
  {
   "cell_type": "code",
   "execution_count": 22,
   "id": "e3c4fe57",
   "metadata": {},
   "outputs": [],
   "source": [
    "class circle:\n",
    "    def __init__(self,radius):\n",
    "        self.radius = radius\n",
    "        self.area = 3.14*self.radius**2"
   ]
  },
  {
   "cell_type": "code",
   "execution_count": 23,
   "id": "cb03efa0",
   "metadata": {},
   "outputs": [],
   "source": [
    "cir2 = circle(14)"
   ]
  },
  {
   "cell_type": "code",
   "execution_count": 24,
   "id": "370cd1ea",
   "metadata": {},
   "outputs": [
    {
     "data": {
      "text/plain": [
       "14"
      ]
     },
     "execution_count": 24,
     "metadata": {},
     "output_type": "execute_result"
    }
   ],
   "source": [
    "cir2.radius"
   ]
  },
  {
   "cell_type": "code",
   "execution_count": 25,
   "id": "97eb43f8",
   "metadata": {},
   "outputs": [
    {
     "ename": "AttributeError",
     "evalue": "type object 'circle' has no attribute 'area'",
     "output_type": "error",
     "traceback": [
      "\u001b[1;31m---------------------------------------------------------------------------\u001b[0m",
      "\u001b[1;31mAttributeError\u001b[0m                            Traceback (most recent call last)",
      "Input \u001b[1;32mIn [25]\u001b[0m, in \u001b[0;36m<cell line: 1>\u001b[1;34m()\u001b[0m\n\u001b[1;32m----> 1\u001b[0m \u001b[43mcircle\u001b[49m\u001b[38;5;241;43m.\u001b[39;49m\u001b[43marea\u001b[49m\n",
      "\u001b[1;31mAttributeError\u001b[0m: type object 'circle' has no attribute 'area'"
     ]
    }
   ],
   "source": [
    "circle.area"
   ]
  },
  {
   "cell_type": "code",
   "execution_count": 38,
   "id": "0ed0bbf8",
   "metadata": {},
   "outputs": [],
   "source": [
    "class gola:\n",
    "    \n",
    "    def __init__(self,radius): # if we add radius = 3 we are actually give default values to radius\n",
    "        self.radius = radius \n",
    "        self.area = 3.14*radius*radius \n",
    "        \n",
    "    \n",
    "    def new_radius(self,new_radius):\n",
    "        self.radius = new_radius\n",
    "        y = (f'New radius set to {self.radius}')\n",
    "        return y\n",
    "    \n",
    "    def circum(self):\n",
    "        cir = 2*3.14*self.radius\n",
    "        return cir\n",
    "        "
   ]
  },
  {
   "cell_type": "code",
   "execution_count": 39,
   "id": "750670fe",
   "metadata": {},
   "outputs": [],
   "source": [
    "c2 = gola(3)"
   ]
  },
  {
   "cell_type": "code",
   "execution_count": 40,
   "id": "af623f6a",
   "metadata": {},
   "outputs": [
    {
     "data": {
      "text/plain": [
       "28.259999999999998"
      ]
     },
     "execution_count": 40,
     "metadata": {},
     "output_type": "execute_result"
    }
   ],
   "source": [
    "c2.area"
   ]
  },
  {
   "cell_type": "code",
   "execution_count": 41,
   "id": "1732ecfe",
   "metadata": {},
   "outputs": [
    {
     "data": {
      "text/plain": [
       "'New radius set to 4'"
      ]
     },
     "execution_count": 41,
     "metadata": {},
     "output_type": "execute_result"
    }
   ],
   "source": [
    "c2.new_radius(4)"
   ]
  },
  {
   "cell_type": "code",
   "execution_count": 42,
   "id": "f663fdac",
   "metadata": {},
   "outputs": [
    {
     "data": {
      "text/plain": [
       "25.12"
      ]
     },
     "execution_count": 42,
     "metadata": {},
     "output_type": "execute_result"
    }
   ],
   "source": [
    "c2.circum()"
   ]
  },
  {
   "cell_type": "code",
   "execution_count": 60,
   "id": "18793138",
   "metadata": {},
   "outputs": [],
   "source": [
    "class saturn:\n",
    "    def __init__(self):\n",
    "        self.colour = 'green'\n",
    "    def motto(self):\n",
    "        m = 'chal bosedk'\n",
    "        return m, self.colour\n",
    "            \n",
    "class jupiter:\n",
    "    def __init__(self):\n",
    "        self.colour = 'blue'\n",
    "        \n",
    "    def motto(self):\n",
    "        m='hatt bc'\n",
    "        return m,self.colour"
   ]
  },
  {
   "cell_type": "code",
   "execution_count": 61,
   "id": "cc050916",
   "metadata": {},
   "outputs": [],
   "source": [
    "house1 = saturn()"
   ]
  },
  {
   "cell_type": "code",
   "execution_count": 62,
   "id": "6ba13df4",
   "metadata": {},
   "outputs": [
    {
     "data": {
      "text/plain": [
       "('chal bosedk', 'green')"
      ]
     },
     "execution_count": 62,
     "metadata": {},
     "output_type": "execute_result"
    }
   ],
   "source": [
    "house1.motto()"
   ]
  },
  {
   "cell_type": "code",
   "execution_count": 63,
   "id": "91048242",
   "metadata": {},
   "outputs": [],
   "source": [
    "house2 = jupiter()"
   ]
  },
  {
   "cell_type": "code",
   "execution_count": 64,
   "id": "f574180e",
   "metadata": {},
   "outputs": [
    {
     "data": {
      "text/plain": [
       "('hatt bc', 'blue')"
      ]
     },
     "execution_count": 64,
     "metadata": {},
     "output_type": "execute_result"
    }
   ],
   "source": [
    "house2.motto()"
   ]
  },
  {
   "cell_type": "code",
   "execution_count": 65,
   "id": "1f5338d1",
   "metadata": {},
   "outputs": [],
   "source": [
    "house3 = jupiter()"
   ]
  },
  {
   "cell_type": "code",
   "execution_count": 66,
   "id": "25948737",
   "metadata": {},
   "outputs": [
    {
     "data": {
      "text/plain": [
       "('hatt bc', 'blue')"
      ]
     },
     "execution_count": 66,
     "metadata": {},
     "output_type": "execute_result"
    }
   ],
   "source": [
    "house3.motto()"
   ]
  },
  {
   "cell_type": "markdown",
   "id": "53193d25",
   "metadata": {},
   "source": [
    "In short 2 different class can have same function and to call the function you will have to call upon respective class"
   ]
  },
  {
   "cell_type": "code",
   "execution_count": 3,
   "id": "431fe1a7",
   "metadata": {},
   "outputs": [],
   "source": [
    "class circle1:\n",
    "    def __init__(self,radius=1):\n",
    "        self.radius = radius \n",
    "        self.area = 3.14*radius*radius\n",
    "    \n",
    "    def new_radius(self,new_radius):\n",
    "        self.radius = new_radius\n",
    "        return self.radius\n",
    "    def circum1(self):\n",
    "        cir = 2*3.14*self.radius\n",
    "        return cir"
   ]
  },
  {
   "cell_type": "code",
   "execution_count": 4,
   "id": "158b755e",
   "metadata": {},
   "outputs": [],
   "source": [
    "cir = circle1()"
   ]
  },
  {
   "cell_type": "code",
   "execution_count": 5,
   "id": "d667f9b2",
   "metadata": {},
   "outputs": [
    {
     "data": {
      "text/plain": [
       "3"
      ]
     },
     "execution_count": 5,
     "metadata": {},
     "output_type": "execute_result"
    }
   ],
   "source": [
    "cir.new_radius(3)"
   ]
  },
  {
   "cell_type": "code",
   "execution_count": 6,
   "id": "1c6559f8",
   "metadata": {},
   "outputs": [
    {
     "data": {
      "text/plain": [
       "18.84"
      ]
     },
     "execution_count": 6,
     "metadata": {},
     "output_type": "execute_result"
    }
   ],
   "source": [
    "cir.circum1()"
   ]
  },
  {
   "cell_type": "code",
   "execution_count": 7,
   "id": "05dbdf5a",
   "metadata": {},
   "outputs": [
    {
     "data": {
      "text/plain": [
       "3.14"
      ]
     },
     "execution_count": 7,
     "metadata": {},
     "output_type": "execute_result"
    }
   ],
   "source": [
    "cir.area"
   ]
  },
  {
   "cell_type": "markdown",
   "id": "9426a5cd",
   "metadata": {},
   "source": [
    "# error handling "
   ]
  },
  {
   "cell_type": "code",
   "execution_count": 16,
   "id": "da5a2983",
   "metadata": {},
   "outputs": [
    {
     "name": "stdout",
     "output_type": "stream",
     "text": [
      "9\n",
      "9\n",
      "1\n",
      "We divide number 1 by number 2\n"
     ]
    }
   ],
   "source": [
    "val1 = int(input())\n",
    "val2 = int(input())\n",
    "try:\n",
    "    ans = val1/val2\n",
    "except:\n",
    "    print('Please enter non zero denominator')\n",
    "else:\n",
    "    print(int(ans))\n",
    "finally:\n",
    "    print('We divide number 1 by number 2')\n",
    "    "
   ]
  },
  {
   "cell_type": "code",
   "execution_count": 2,
   "id": "9fe3fe2d",
   "metadata": {},
   "outputs": [
    {
     "ename": "SyntaxError",
     "evalue": "invalid syntax (2176792885.py, line 1)",
     "output_type": "error",
     "traceback": [
      "\u001b[1;36m  Input \u001b[1;32mIn [2]\u001b[1;36m\u001b[0m\n\u001b[1;33m    $ pip install openai\u001b[0m\n\u001b[1;37m    ^\u001b[0m\n\u001b[1;31mSyntaxError\u001b[0m\u001b[1;31m:\u001b[0m invalid syntax\n"
     ]
    }
   ],
   "source": [
    "$ pip install openai"
   ]
  },
  {
   "cell_type": "code",
   "execution_count": 2,
   "id": "c234ead0",
   "metadata": {},
   "outputs": [
    {
     "ename": "ModuleNotFoundError",
     "evalue": "No module named 'geopy'",
     "output_type": "error",
     "traceback": [
      "\u001b[1;31m---------------------------------------------------------------------------\u001b[0m",
      "\u001b[1;31mModuleNotFoundError\u001b[0m                       Traceback (most recent call last)",
      "Input \u001b[1;32mIn [2]\u001b[0m, in \u001b[0;36m<cell line: 1>\u001b[1;34m()\u001b[0m\n\u001b[1;32m----> 1\u001b[0m \u001b[38;5;28;01mimport\u001b[39;00m \u001b[38;5;21;01mgeopy\u001b[39;00m\u001b[38;5;21;01m.\u001b[39;00m\u001b[38;5;21;01mdistance\u001b[39;00m\n",
      "\u001b[1;31mModuleNotFoundError\u001b[0m: No module named 'geopy'"
     ]
    }
   ],
   "source": [
    "import geopy.distance"
   ]
  },
  {
   "cell_type": "code",
   "execution_count": 3,
   "id": "385b8696",
   "metadata": {},
   "outputs": [
    {
     "ename": "ModuleNotFoundError",
     "evalue": "No module named 'geopy'",
     "output_type": "error",
     "traceback": [
      "\u001b[1;31m---------------------------------------------------------------------------\u001b[0m",
      "\u001b[1;31mModuleNotFoundError\u001b[0m                       Traceback (most recent call last)",
      "Input \u001b[1;32mIn [3]\u001b[0m, in \u001b[0;36m<cell line: 1>\u001b[1;34m()\u001b[0m\n\u001b[1;32m----> 1\u001b[0m \u001b[38;5;28;01mimport\u001b[39;00m \u001b[38;5;21;01mgeopy\u001b[39;00m\u001b[38;5;21;01m.\u001b[39;00m\u001b[38;5;21;01mdistance\u001b[39;00m\n\u001b[0;32m      3\u001b[0m \u001b[38;5;28;01mdef\u001b[39;00m \u001b[38;5;21mget_distance\u001b[39m(location_1, location_2):\n\u001b[0;32m      5\u001b[0m     distance \u001b[38;5;241m=\u001b[39m geopy\u001b[38;5;241m.\u001b[39mdistance\u001b[38;5;241m.\u001b[39mdistance(location_1, location_2)\u001b[38;5;241m.\u001b[39mkm\n",
      "\u001b[1;31mModuleNotFoundError\u001b[0m: No module named 'geopy'"
     ]
    }
   ],
   "source": [
    "import geopy.distance\n",
    "        \n",
    "def get_distance(location_1, location_2):\n",
    "\n",
    "    distance = geopy.distance.distance(location_1, location_2).km\n",
    "\n",
    "    return distance"
   ]
  },
  {
   "cell_type": "code",
   "execution_count": 4,
   "id": "841cbe0b",
   "metadata": {},
   "outputs": [
    {
     "name": "stdout",
     "output_type": "stream",
     "text": [
      "Defaulting to user installation because normal site-packages is not writeableNote: you may need to restart the kernel to use updated packages.\n",
      "Collecting geopy\n",
      "  Downloading geopy-2.3.0-py3-none-any.whl (119 kB)\n",
      "Collecting geographiclib<3,>=1.52\n",
      "  Downloading geographiclib-2.0-py3-none-any.whl (40 kB)\n",
      "Installing collected packages: geographiclib, geopy\n",
      "Successfully installed geographiclib-2.0 geopy-2.3.0\n",
      "\n"
     ]
    }
   ],
   "source": [
    "pip install geopy"
   ]
  },
  {
   "cell_type": "code",
   "execution_count": 1,
   "id": "d2ed7642",
   "metadata": {},
   "outputs": [],
   "source": [
    "import geopy.distance"
   ]
  },
  {
   "cell_type": "code",
   "execution_count": 3,
   "id": "f8233046",
   "metadata": {},
   "outputs": [],
   "source": [
    "kolkata = (22.5726, 88.3639)\n",
    "delhi = (28.7041, 77.1025)"
   ]
  },
  {
   "cell_type": "code",
   "execution_count": 4,
   "id": "07c0862b",
   "metadata": {},
   "outputs": [
    {
     "data": {
      "text/plain": [
       "1318.13891581683"
      ]
     },
     "execution_count": 4,
     "metadata": {},
     "output_type": "execute_result"
    }
   ],
   "source": [
    "geopy.distance.distance(kolkata,delhi).km"
   ]
  },
  {
   "cell_type": "code",
   "execution_count": 5,
   "id": "9b903dae",
   "metadata": {},
   "outputs": [],
   "source": [
    "koregaonpark = (18.5362, 73.8940)\n",
    "hinjewadi = (18.5913, 73.7389)"
   ]
  },
  {
   "cell_type": "code",
   "execution_count": 8,
   "id": "adb9375a",
   "metadata": {},
   "outputs": [
    {
     "data": {
      "text/plain": [
       "17.471891884520698"
      ]
     },
     "execution_count": 8,
     "metadata": {},
     "output_type": "execute_result"
    }
   ],
   "source": [
    "geopy.distance.distance(koregaonpark,hinjewadi).km"
   ]
  },
  {
   "cell_type": "code",
   "execution_count": 15,
   "id": "1af21a71",
   "metadata": {},
   "outputs": [],
   "source": [
    "def get_distance(location1,location2):\n",
    "    travel_km = geopy.distance.distance(location1,location2).km\n",
    "    return travel_km\n",
    "    "
   ]
  },
  {
   "cell_type": "code",
   "execution_count": 16,
   "id": "3900f511",
   "metadata": {},
   "outputs": [
    {
     "data": {
      "text/plain": [
       "17.471891884520698"
      ]
     },
     "execution_count": 16,
     "metadata": {},
     "output_type": "execute_result"
    }
   ],
   "source": [
    "get_distance(koregaonpark,hinjewadi)"
   ]
  },
  {
   "cell_type": "code",
   "execution_count": 20,
   "id": "a5d3b807",
   "metadata": {},
   "outputs": [],
   "source": [
    "def current_time(cur_time):\n",
    "    if cur_time > 7 and cur_time <= 12:\n",
    "        charge = 25\n",
    "    \n",
    "    elif cur_time > 12 and cur_time <= 16:\n",
    "        charge = 20\n",
    "    \n",
    "    elif cur_time > 16 and cur_time <= 23:\n",
    "        charge = 30\n",
    "    \n",
    "    return charge"
   ]
  },
  {
   "cell_type": "code",
   "execution_count": 24,
   "id": "60f07d55",
   "metadata": {},
   "outputs": [
    {
     "data": {
      "text/plain": [
       "25"
      ]
     },
     "execution_count": 24,
     "metadata": {},
     "output_type": "execute_result"
    }
   ],
   "source": [
    "current_time(12)"
   ]
  },
  {
   "cell_type": "code",
   "execution_count": 29,
   "id": "a7ea7880",
   "metadata": {},
   "outputs": [],
   "source": [
    "def fare(pickup,drop,timecap):\n",
    "    charge = get_distance(pickup,drop)*current_time(timecap)\n",
    "    return charge"
   ]
  },
  {
   "cell_type": "code",
   "execution_count": 33,
   "id": "db3d2dad",
   "metadata": {},
   "outputs": [
    {
     "data": {
      "text/plain": [
       "436.79729711301746"
      ]
     },
     "execution_count": 33,
     "metadata": {},
     "output_type": "execute_result"
    }
   ],
   "source": [
    "fare(koregaonpark,hinjewadi,9)"
   ]
  },
  {
   "cell_type": "code",
   "execution_count": 34,
   "id": "7eaac897",
   "metadata": {},
   "outputs": [],
   "source": [
    "import math"
   ]
  },
  {
   "cell_type": "code",
   "execution_count": 40,
   "id": "d0a12e4a",
   "metadata": {},
   "outputs": [
    {
     "data": {
      "text/plain": [
       "11.0"
      ]
     },
     "execution_count": 40,
     "metadata": {},
     "output_type": "execute_result"
    }
   ],
   "source": [
    "x = math.sqrt(121)\n",
    "x"
   ]
  },
  {
   "cell_type": "markdown",
   "id": "735f1e8b",
   "metadata": {},
   "source": [
    "## via class"
   ]
  },
  {
   "cell_type": "code",
   "execution_count": 68,
   "id": "baa5768b",
   "metadata": {},
   "outputs": [],
   "source": [
    "class location_distance:\n",
    "    def __init__(self):\n",
    "        pass\n",
    "    \n",
    "    def getting_loc(self,loc1,loc2):\n",
    "        drop_distance = geopy.distance.distance(loc1,loc2).km\n",
    "        \n",
    "        return drop_distance\n",
    "        "
   ]
  },
  {
   "cell_type": "code",
   "execution_count": 43,
   "id": "7ee62898",
   "metadata": {},
   "outputs": [],
   "source": [
    "travel = location_distance()"
   ]
  },
  {
   "cell_type": "code",
   "execution_count": 52,
   "id": "2080f9e8",
   "metadata": {},
   "outputs": [
    {
     "data": {
      "text/plain": [
       "17.471891884520698"
      ]
     },
     "execution_count": 52,
     "metadata": {},
     "output_type": "execute_result"
    }
   ],
   "source": [
    "travel.getting_loc(koregaonpark,hinjewadi)"
   ]
  },
  {
   "cell_type": "code",
   "execution_count": 70,
   "id": "373f4e60",
   "metadata": {},
   "outputs": [
    {
     "data": {
      "text/plain": [
       "17.471891884520698"
      ]
     },
     "execution_count": 70,
     "metadata": {},
     "output_type": "execute_result"
    }
   ],
   "source": [
    "location_distance.getting_loc(0,koregaonpark,hinjewadi)"
   ]
  },
  {
   "cell_type": "code",
   "execution_count": 82,
   "id": "1b2661e5",
   "metadata": {},
   "outputs": [],
   "source": [
    "class price:\n",
    "    def __init__(self):\n",
    "        pass\n",
    "    \n",
    "    def get_price(self,instance_time):\n",
    "        \n",
    "        if instance_time > 7 and instance_time <= 12:\n",
    "            charge = 25\n",
    "    \n",
    "        elif instance_time > 12 and instance_time <= 16:\n",
    "            charge = 20\n",
    "    \n",
    "        elif instance_time > 16 and instance_time <= 23:\n",
    "            charge = 30\n",
    "    \n",
    "        return charge\n",
    "        \n",
    "        "
   ]
  },
  {
   "cell_type": "code",
   "execution_count": 67,
   "id": "7d5e5ed4",
   "metadata": {},
   "outputs": [
    {
     "data": {
      "text/plain": [
       "30"
      ]
     },
     "execution_count": 67,
     "metadata": {},
     "output_type": "execute_result"
    }
   ],
   "source": [
    "price.get_price(17)"
   ]
  },
  {
   "cell_type": "code",
   "execution_count": 106,
   "id": "6f0ffc2b",
   "metadata": {},
   "outputs": [],
   "source": [
    "def get_price_via_class_e(p,d,t):\n",
    "    \n",
    "'''never call a method without instanciating the class it will be like doing string.upper() without creating the string class\n",
    "but if you still want to look cool/fool then use arbitary values for self and pass\n",
    " charge = location_distance.getting_loc(0,p,d)*price.get_price(0,t) - this line of code will work its like calling class.meth\n",
    " od in the class'''\n",
    "    \n",
    "    charge = location_distance.getting_loc(p,d)*price.get_price(t) # this will give error because we are doing class.method\n",
    "    return charge\n"
   ]
  },
  {
   "cell_type": "code",
   "execution_count": 100,
   "id": "e13c65b9",
   "metadata": {},
   "outputs": [],
   "source": [
    "def get_price_via_class(p,d,t):\n",
    "    \n",
    "    pickup_loc = location_distance() # creating instance of class location_distance\n",
    "    tim = price() # creating instance of class price\n",
    "    charge = pickup_loc.getting_loc(p,d)*tim.get_price(t)\n",
    "    return charge"
   ]
  },
  {
   "cell_type": "code",
   "execution_count": 101,
   "id": "51fd9977",
   "metadata": {},
   "outputs": [
    {
     "data": {
      "text/plain": [
       "436.79729711301746"
      ]
     },
     "execution_count": 101,
     "metadata": {},
     "output_type": "execute_result"
    }
   ],
   "source": [
    "get_price_via_class(koregaonpark,hinjewadi,11)"
   ]
  },
  {
   "cell_type": "markdown",
   "id": "19007e07",
   "metadata": {},
   "source": [
    "# lectures code written by instructors "
   ]
  },
  {
   "cell_type": "code",
   "execution_count": 10,
   "id": "79e65fa7",
   "metadata": {},
   "outputs": [],
   "source": [
    "# Calculate the distance between the pick-up location and the drop location\n",
    "\n",
    "import geopy.distance\n",
    "        \n",
    "def get_distance(location_1, location_2):\n",
    "\n",
    "    distance = geopy.distance.distance(location_1, location_2).km\n",
    "\n",
    "    return distance"
   ]
  },
  {
   "cell_type": "code",
   "execution_count": 11,
   "id": "3caa7a29",
   "metadata": {},
   "outputs": [],
   "source": [
    "def get_price_per_km(hour):\n",
    "    \n",
    "    if (hour > 8) & (hour < 11):\n",
    "        price_per_km = 20\n",
    "    elif (hour > 18) & (hour < 21):\n",
    "        price_per_km = 15\n",
    "    else:\n",
    "        price_per_km = 10\n",
    "        \n",
    "    return price_per_km"
   ]
  },
  {
   "cell_type": "code",
   "execution_count": 12,
   "id": "d2082ef2",
   "metadata": {},
   "outputs": [],
   "source": [
    "def get_final_price(pick_up_location, drop_location, booking_hour):\n",
    "    \n",
    "    total_distance = get_distance(pick_up_location, drop_location)\n",
    "    actual_price_per_km = get_price_per_km(booking_hour)\n",
    "    \n",
    "    final_price = round(total_distance * actual_price_per_km, 2)\n",
    "    \n",
    "    return final_price"
   ]
  },
  {
   "cell_type": "code",
   "execution_count": 13,
   "id": "f9098db4",
   "metadata": {},
   "outputs": [],
   "source": [
    "# Inputs\n",
    "\n",
    "pick_up_location = (24, 70)\n",
    "drop_location = (24.1, 70.1)\n",
    "booking_time = 19"
   ]
  },
  {
   "cell_type": "code",
   "execution_count": 14,
   "id": "72695097",
   "metadata": {},
   "outputs": [
    {
     "data": {
      "text/plain": [
       "225.56"
      ]
     },
     "execution_count": 14,
     "metadata": {},
     "output_type": "execute_result"
    }
   ],
   "source": [
    "# Output\n",
    "\n",
    "get_final_price(pick_up_location, drop_location, booking_time)"
   ]
  },
  {
   "cell_type": "markdown",
   "id": "53e7fb29",
   "metadata": {},
   "source": [
    "## via class"
   ]
  },
  {
   "cell_type": "code",
   "execution_count": 71,
   "id": "b5f8c3b8",
   "metadata": {},
   "outputs": [],
   "source": [
    "import geopy.distance\n",
    "import math\n",
    "\n",
    "class Maps:\n",
    "    \n",
    "    def __init__(self):\n",
    "        pass\n",
    "        \n",
    "    def get_distance(self, location_1, location_2):\n",
    "\n",
    "        try:\n",
    "            distance = geopy.distance.distance(location_1, location_2).km\n",
    "        except:\n",
    "            distance = math.sqrt((location_1[0]-location_2[0])^2 + (location_1[1]-location_2[1])^2)\n",
    "            \n",
    "        return distance"
   ]
  },
  {
   "cell_type": "code",
   "execution_count": 120,
   "id": "27ae404d",
   "metadata": {},
   "outputs": [
    {
     "ename": "TypeError",
     "evalue": "get_distance() missing 1 required positional argument: 'location_2'",
     "output_type": "error",
     "traceback": [
      "\u001b[1;31m---------------------------------------------------------------------------\u001b[0m",
      "\u001b[1;31mTypeError\u001b[0m                                 Traceback (most recent call last)",
      "Input \u001b[1;32mIn [120]\u001b[0m, in \u001b[0;36m<cell line: 1>\u001b[1;34m()\u001b[0m\n\u001b[1;32m----> 1\u001b[0m \u001b[43mMaps\u001b[49m\u001b[38;5;241;43m.\u001b[39;49m\u001b[43mget_distance\u001b[49m\u001b[43m(\u001b[49m\u001b[43mkoregaonpark\u001b[49m\u001b[43m,\u001b[49m\u001b[43mhinjewadi\u001b[49m\u001b[43m)\u001b[49m\n",
      "\u001b[1;31mTypeError\u001b[0m: get_distance() missing 1 required positional argument: 'location_2'"
     ]
    }
   ],
   "source": [
    "Maps.get_distance(koregaonpark,hinjewadi)"
   ]
  },
  {
   "cell_type": "code",
   "execution_count": null,
   "id": "76e06ed6",
   "metadata": {},
   "outputs": [],
   "source": []
  },
  {
   "cell_type": "code",
   "execution_count": 117,
   "id": "be748e0a",
   "metadata": {},
   "outputs": [],
   "source": [
    "class SurgePricing:\n",
    "    \n",
    "    def __init__(self):\n",
    "        pass\n",
    "\n",
    "    def get_price_per_km(self, hour):\n",
    "\n",
    "        try:\n",
    "\n",
    "            if (hour > 8) & (hour < 11):\n",
    "                price_per_km = 20\n",
    "            elif (hour > 18) & (hour < 21):\n",
    "                price_per_km = 15\n",
    "            else:\n",
    "                price_per_km = 10\n",
    "\n",
    "        except:\n",
    "\n",
    "            price_per_km = 10\n",
    "\n",
    "        return price_per_km"
   ]
  },
  {
   "cell_type": "code",
   "execution_count": 122,
   "id": "ee83179b",
   "metadata": {},
   "outputs": [
    {
     "ename": "TypeError",
     "evalue": "get_price_per_km() missing 1 required positional argument: 'hour'",
     "output_type": "error",
     "traceback": [
      "\u001b[1;31m---------------------------------------------------------------------------\u001b[0m",
      "\u001b[1;31mTypeError\u001b[0m                                 Traceback (most recent call last)",
      "Input \u001b[1;32mIn [122]\u001b[0m, in \u001b[0;36m<cell line: 1>\u001b[1;34m()\u001b[0m\n\u001b[1;32m----> 1\u001b[0m \u001b[43mSurgePricing\u001b[49m\u001b[38;5;241;43m.\u001b[39;49m\u001b[43mget_price_per_km\u001b[49m\u001b[43m(\u001b[49m\u001b[38;5;241;43m16\u001b[39;49m\u001b[43m)\u001b[49m\n",
      "\u001b[1;31mTypeError\u001b[0m: get_price_per_km() missing 1 required positional argument: 'hour'"
     ]
    }
   ],
   "source": [
    "SurgePricing.get_price_per_km(16)"
   ]
  },
  {
   "cell_type": "code",
   "execution_count": null,
   "id": "5e8e5bfd",
   "metadata": {},
   "outputs": [],
   "source": [
    "Note here we are calling class.methods"
   ]
  },
  {
   "cell_type": "code",
   "execution_count": 124,
   "id": "99235a11",
   "metadata": {},
   "outputs": [],
   "source": [
    "def get_final_price(pick_up_location, drop_location, booking_hour):\n",
    "    \n",
    "    maps = Maps() # see for yourself even they knew about the class instantiating error\n",
    "    surge = SurgePricing()\n",
    "    \n",
    "    total_distance = maps.get_distance(pick_up_location, drop_location)\n",
    "    actual_price_per_km = surge.get_price_per_km(booking_hour)\n",
    "    \n",
    "    final_price = round(total_distance * actual_price_per_km, 2)\n",
    "    \n",
    "    return final_price"
   ]
  },
  {
   "cell_type": "code",
   "execution_count": 123,
   "id": "da9fcfe0",
   "metadata": {},
   "outputs": [
    {
     "data": {
      "text/plain": [
       "174.72"
      ]
     },
     "execution_count": 123,
     "metadata": {},
     "output_type": "execute_result"
    }
   ],
   "source": [
    "get_final_price(koregaonpark,hinjewadi,17)"
   ]
  },
  {
   "cell_type": "markdown",
   "id": "d08d131a",
   "metadata": {},
   "source": [
    "this is a functions"
   ]
  },
  {
   "cell_type": "markdown",
   "id": "3a244d29",
   "metadata": {},
   "source": [
    "# A major learning in the class lecture during coding\n"
   ]
  },
  {
   "cell_type": "markdown",
   "id": "0c02b123",
   "metadata": {},
   "source": [
    "When you create a class and methods of that class and if you want to acess to the methods of that class then you can not cut the line you will have to go step wise first create an instance of the class then call the method associated with the class\n",
    "if you directly call the methods of the class with out instantiating the class it will give error this "
   ]
  },
  {
   "cell_type": "code",
   "execution_count": 85,
   "id": "3f8730e4",
   "metadata": {},
   "outputs": [],
   "source": [
    "t = price()"
   ]
  },
  {
   "cell_type": "code",
   "execution_count": 86,
   "id": "52afb6a3",
   "metadata": {},
   "outputs": [
    {
     "data": {
      "text/plain": [
       "25"
      ]
     },
     "execution_count": 86,
     "metadata": {},
     "output_type": "execute_result"
    }
   ],
   "source": [
    "t.get_price(8)"
   ]
  },
  {
   "cell_type": "code",
   "execution_count": 94,
   "id": "1a899b84",
   "metadata": {},
   "outputs": [
    {
     "ename": "TypeError",
     "evalue": "get_price() missing 1 required positional argument: 'instance_time'",
     "output_type": "error",
     "traceback": [
      "\u001b[1;31m---------------------------------------------------------------------------\u001b[0m",
      "\u001b[1;31mTypeError\u001b[0m                                 Traceback (most recent call last)",
      "Input \u001b[1;32mIn [94]\u001b[0m, in \u001b[0;36m<cell line: 2>\u001b[1;34m()\u001b[0m\n\u001b[0;32m      1\u001b[0m \u001b[38;5;66;03m#calling the method of the class price without instantiating the class will give the error \u001b[39;00m\n\u001b[1;32m----> 2\u001b[0m \u001b[43mprice\u001b[49m\u001b[38;5;241;43m.\u001b[39;49m\u001b[43mget_price\u001b[49m\u001b[43m(\u001b[49m\u001b[38;5;241;43m8\u001b[39;49m\u001b[43m)\u001b[49m\n",
      "\u001b[1;31mTypeError\u001b[0m: get_price() missing 1 required positional argument: 'instance_time'"
     ]
    }
   ],
   "source": [
    "#calling the method of the class price without instantiating the class will give the error \n",
    "price.get_price(8)\n",
    "\n",
    "# this is similar to calling \n",
    "list.append(5) # avoid this "
   ]
  },
  {
   "cell_type": "code",
   "execution_count": 95,
   "id": "78cf367c",
   "metadata": {},
   "outputs": [],
   "source": [
    "# to circumvent the error you can provide any random value in for the self argument"
   ]
  },
  {
   "cell_type": "code",
   "execution_count": 97,
   "id": "bd404765",
   "metadata": {},
   "outputs": [
    {
     "data": {
      "text/plain": [
       "25"
      ]
     },
     "execution_count": 97,
     "metadata": {},
     "output_type": "execute_result"
    }
   ],
   "source": [
    "price.get_price(0,8) # not 0 is arbitary number and you can chose any "
   ]
  },
  {
   "cell_type": "markdown",
   "id": "7acc0fdf",
   "metadata": {},
   "source": [
    "# CHAT GPT"
   ]
  },
  {
   "cell_type": "markdown",
   "id": "7be91545",
   "metadata": {},
   "source": [
    "Can we call the methods of the class with out instantiating the class ?"
   ]
  },
  {
   "cell_type": "markdown",
   "id": "3e3d485a",
   "metadata": {},
   "source": [
    "Yes, in Python, you can call some methods of a class without instantiating the class, using a class method or a static method.\n",
    "\n",
    "A class method is a method that is bound to the class and not the instance of the class. It is defined using the @classmethod decorator and takes the class itself as the first argument (by convention named cls) instead of the instance of the class (which is conventionally named self). Here is an example:"
   ]
  },
  {
   "cell_type": "code",
   "execution_count": 107,
   "id": "811000c1",
   "metadata": {},
   "outputs": [
    {
     "name": "stdout",
     "output_type": "stream",
     "text": [
      "This is a class method of MyClass class\n",
      "arg1 = Hello, arg2 = World\n"
     ]
    }
   ],
   "source": [
    "class MyClass:\n",
    "    @classmethod\n",
    "    def my_class_method(cls, arg1, arg2):\n",
    "        print(f\"This is a class method of {cls.__name__} class\")\n",
    "        print(f\"arg1 = {arg1}, arg2 = {arg2}\")\n",
    "        \n",
    "MyClass.my_class_method(\"Hello\", \"World\")\n"
   ]
  },
  {
   "cell_type": "markdown",
   "id": "f661b70d",
   "metadata": {},
   "source": [
    "As you can see, we called the my_class_method method of the MyClass class directly, without instantiating the class first.\n",
    "\n",
    "Similarly, a static method is a method that is bound to the class and does not have access to the instance of the class or the class itself. It is defined using the @staticmethod decorator and does not take any special first argument like cls or self. Here is an example:\n",
    "\n",
    "python\n",
    "Copy code"
   ]
  },
  {
   "cell_type": "code",
   "execution_count": 108,
   "id": "2c881eea",
   "metadata": {},
   "outputs": [
    {
     "name": "stdout",
     "output_type": "stream",
     "text": [
      "This is a static method of MyClass class\n",
      "arg1 = Hello, arg2 = World\n"
     ]
    }
   ],
   "source": [
    "class MyClass:\n",
    "    @staticmethod\n",
    "    def my_static_method(arg1, arg2):\n",
    "        print(f\"This is a static method of MyClass class\")\n",
    "        print(f\"arg1 = {arg1}, arg2 = {arg2}\")\n",
    "        \n",
    "MyClass.my_static_method(\"Hello\", \"World\")\n"
   ]
  },
  {
   "cell_type": "markdown",
   "id": "1c44319c",
   "metadata": {},
   "source": [
    "As you can see, we called the my_static_method method of the MyClass class directly, without instantiating the class first."
   ]
  },
  {
   "cell_type": "markdown",
   "id": "42a21404",
   "metadata": {},
   "source": [
    "# inheritence"
   ]
  },
  {
   "cell_type": "code",
   "execution_count": 87,
   "id": "11168572",
   "metadata": {},
   "outputs": [],
   "source": [
    "#parent class\n",
    "class adhaar:\n",
    "    def __init__(self,name,adhaar_number,address):\n",
    "        self.name = name\n",
    "        self.adhaar_number= adhaar_number\n",
    "        self.address = address\n",
    "        \n",
    "    def generate_adhaar(self):\n",
    "        print(f\"Name = {self.name}\\nAdhaar_id = {self.adhaar_number}\\nAddress = {self.address}\")\n",
    "        \n",
    "#child class\n",
    "class employee(adhaar): # this is you are calling the parent \n",
    "    def __init__(self,name,adhaar_number,address,uid,post,salary):\n",
    "        self.uid = uid # we are just taking the new attributes so wait what happens to hte old attribute\n",
    "        self.post = post # we will call the adhaar init and its arguments simple \n",
    "        self.salary = salary # we don't have to define it agian it done\n",
    "        \n",
    "        \n",
    "        # this is you are inherting its attributes and methods \n",
    "        adhaar.__init__(self,name,adhaar_number,address)# consider this as a function.method anologus for easy undertanding but not\n",
    "    \n",
    "    def generate_id_card(self):\n",
    "        print('Name :',self.name)\n",
    "        print('Gov_id :',self.adhaar_number)\n",
    "        print('Emp_id: ',self.uid)\n",
    "        print('Post : ',self.post)\n",
    "    \n",
    "    def salary_details(self):\n",
    "        print('Job_title :',self.post)\n",
    "        print('Salary : ',self.salary)"
   ]
  },
  {
   "cell_type": "code",
   "execution_count": null,
   "id": "a7c3e12f",
   "metadata": {},
   "outputs": [],
   "source": [
    "#Lets create intanciate parent class"
   ]
  },
  {
   "cell_type": "code",
   "execution_count": null,
   "id": "5edb6817",
   "metadata": {},
   "outputs": [],
   "source": []
  },
  {
   "cell_type": "code",
   "execution_count": 73,
   "id": "73c6a4c7",
   "metadata": {},
   "outputs": [],
   "source": [
    "male = adhaar('Deepu Kumar',8055642092,'Pune')"
   ]
  },
  {
   "cell_type": "code",
   "execution_count": 74,
   "id": "cc27aa73",
   "metadata": {},
   "outputs": [
    {
     "name": "stdout",
     "output_type": "stream",
     "text": [
      "Name = Deepu Kumar\n",
      "Adhaar_id = 8055642092\n",
      "Address = Pune\n"
     ]
    }
   ],
   "source": [
    "male.generate_adhaar()"
   ]
  },
  {
   "cell_type": "code",
   "execution_count": 82,
   "id": "56783e59",
   "metadata": {},
   "outputs": [
    {
     "ename": "AttributeError",
     "evalue": "'adhaar' object has no attribute 'salary_details'",
     "output_type": "error",
     "traceback": [
      "\u001b[1;31m---------------------------------------------------------------------------\u001b[0m",
      "\u001b[1;31mAttributeError\u001b[0m                            Traceback (most recent call last)",
      "Input \u001b[1;32mIn [82]\u001b[0m, in \u001b[0;36m<cell line: 4>\u001b[1;34m()\u001b[0m\n\u001b[0;32m      1\u001b[0m \u001b[38;5;124;03m'''A parent can't inherent his childs trait \u001b[39;00m\n\u001b[0;32m      2\u001b[0m \u001b[38;5;124;03mchild inherts parent traits\u001b[39;00m\n\u001b[0;32m      3\u001b[0m \u001b[38;5;124;03msimillary a parent class can't have access to methods of child class '''\u001b[39;00m\n\u001b[1;32m----> 4\u001b[0m \u001b[43mmale\u001b[49m\u001b[38;5;241;43m.\u001b[39;49m\u001b[43msalary_details\u001b[49m()\n",
      "\u001b[1;31mAttributeError\u001b[0m: 'adhaar' object has no attribute 'salary_details'"
     ]
    }
   ],
   "source": [
    "'''A parent can't inherent his childs trait \n",
    "child inherts parent traits\n",
    "simillary a parent class can't have access to methods of child class '''\n",
    "male.salary_details()"
   ]
  },
  {
   "cell_type": "code",
   "execution_count": 83,
   "id": "b85322c1",
   "metadata": {},
   "outputs": [],
   "source": [
    "#name,adhaar_number,address,uid,post,salary\n",
    "'''When you are born you get the parents house, his wealths, connections access etc\n",
    "similarly when you create a instance of child class  you have to give the wealth(attributes aka arguments here) to the child \n",
    "class'''\n",
    "emp1 = employee('Deepu kumar',8055642092,'Pune',135,'Machine learning engineer',83000)"
   ]
  },
  {
   "cell_type": "code",
   "execution_count": 71,
   "id": "93c0dfc9",
   "metadata": {},
   "outputs": [
    {
     "name": "stdout",
     "output_type": "stream",
     "text": [
      "Name : Deepu kumar\n",
      "Gov_id : 8055642092\n",
      "Emp_id:  135\n",
      "Post :  Machine learning engineer\n"
     ]
    }
   ],
   "source": [
    "emp1.generate_id_card()"
   ]
  },
  {
   "cell_type": "code",
   "execution_count": 76,
   "id": "0758d98d",
   "metadata": {},
   "outputs": [
    {
     "name": "stdout",
     "output_type": "stream",
     "text": [
      "Job_title : Machine learning engineer\n",
      "Salary :  83000\n"
     ]
    }
   ],
   "source": [
    "emp1.salary_details()"
   ]
  },
  {
   "cell_type": "markdown",
   "id": "ecb06aa4",
   "metadata": {},
   "source": [
    "# Appart form the access to the attributes of the class we have some built ins to get the additional custoumised attributes of the class"
   ]
  },
  {
   "cell_type": "code",
   "execution_count": 78,
   "id": "cb64d757",
   "metadata": {},
   "outputs": [
    {
     "data": {
      "text/plain": [
       "'Deepu kumar'"
      ]
     },
     "execution_count": 78,
     "metadata": {},
     "output_type": "execute_result"
    }
   ],
   "source": [
    "emp1.name # using the inheretence property calling the parent attribute"
   ]
  },
  {
   "cell_type": "code",
   "execution_count": 80,
   "id": "85ca19e2",
   "metadata": {},
   "outputs": [
    {
     "data": {
      "text/plain": [
       "{'uid': 135,\n",
       " 'post': 'Machine learning engineer',\n",
       " 'salary': 83000,\n",
       " 'name': 'Deepu kumar',\n",
       " 'adhaar_number': 8055642092,\n",
       " 'address': 'Pune'}"
      ]
     },
     "execution_count": 80,
     "metadata": {},
     "output_type": "execute_result"
    }
   ],
   "source": [
    "emp1.__dict__ "
   ]
  },
  {
   "cell_type": "markdown",
   "id": "bbb094f2",
   "metadata": {},
   "source": [
    "Every Python class keeps following built-in attributes and they can be accessed using dot operator like any other attribute −\n",
    "\n",
    "dict − Dictionary containing the class's namespace.\n",
    "\n",
    "doc − Class documentation string or none, if undefined.\n",
    "\n",
    "name − Class name.\n",
    "\n",
    "module − Module name in which the class is defined. This attribute is \"main\" in interactive mode.\n",
    "\n",
    "[ ]\n"
   ]
  },
  {
   "cell_type": "code",
   "execution_count": 84,
   "id": "aaf1936a",
   "metadata": {},
   "outputs": [],
   "source": [
    "emp1.__doc__"
   ]
  },
  {
   "cell_type": "code",
   "execution_count": 85,
   "id": "fc3d8bd6",
   "metadata": {},
   "outputs": [
    {
     "ename": "AttributeError",
     "evalue": "'employee' object has no attribute '__name__'",
     "output_type": "error",
     "traceback": [
      "\u001b[1;31m---------------------------------------------------------------------------\u001b[0m",
      "\u001b[1;31mAttributeError\u001b[0m                            Traceback (most recent call last)",
      "Input \u001b[1;32mIn [85]\u001b[0m, in \u001b[0;36m<cell line: 1>\u001b[1;34m()\u001b[0m\n\u001b[1;32m----> 1\u001b[0m \u001b[43memp1\u001b[49m\u001b[38;5;241;43m.\u001b[39;49m\u001b[38;5;18;43m__name__\u001b[39;49m\n",
      "\u001b[1;31mAttributeError\u001b[0m: 'employee' object has no attribute '__name__'"
     ]
    }
   ],
   "source": [
    "emp1.__name__"
   ]
  },
  {
   "cell_type": "code",
   "execution_count": 86,
   "id": "1432b2cf",
   "metadata": {},
   "outputs": [
    {
     "data": {
      "text/plain": [
       "'__main__'"
      ]
     },
     "execution_count": 86,
     "metadata": {},
     "output_type": "execute_result"
    }
   ],
   "source": [
    "emp1.__module__"
   ]
  },
  {
   "cell_type": "code",
   "execution_count": 1,
   "id": "ffc39c4b",
   "metadata": {},
   "outputs": [],
   "source": [
    "a = 2"
   ]
  },
  {
   "cell_type": "code",
   "execution_count": 2,
   "id": "77176ccf",
   "metadata": {},
   "outputs": [
    {
     "ename": "AttributeError",
     "evalue": "'int' object has no attribute '__name__'",
     "output_type": "error",
     "traceback": [
      "\u001b[1;31m---------------------------------------------------------------------------\u001b[0m",
      "\u001b[1;31mAttributeError\u001b[0m                            Traceback (most recent call last)",
      "Input \u001b[1;32mIn [2]\u001b[0m, in \u001b[0;36m<cell line: 1>\u001b[1;34m()\u001b[0m\n\u001b[1;32m----> 1\u001b[0m \u001b[43ma\u001b[49m\u001b[38;5;241;43m.\u001b[39;49m\u001b[38;5;18;43m__name__\u001b[39;49m\n",
      "\u001b[1;31mAttributeError\u001b[0m: 'int' object has no attribute '__name__'"
     ]
    }
   ],
   "source": [
    "a.__name__"
   ]
  },
  {
   "cell_type": "code",
   "execution_count": 4,
   "id": "c5fdc46c",
   "metadata": {},
   "outputs": [
    {
     "ename": "AttributeError",
     "evalue": "'MyClass' object has no attribute '__name__'",
     "output_type": "error",
     "traceback": [
      "\u001b[1;31m---------------------------------------------------------------------------\u001b[0m",
      "\u001b[1;31mAttributeError\u001b[0m                            Traceback (most recent call last)",
      "Input \u001b[1;32mIn [4]\u001b[0m, in \u001b[0;36m<cell line: 5>\u001b[1;34m()\u001b[0m\n\u001b[0;32m      2\u001b[0m     \u001b[38;5;28;01mpass\u001b[39;00m\n\u001b[0;32m      4\u001b[0m obj \u001b[38;5;241m=\u001b[39m MyClass()\n\u001b[1;32m----> 5\u001b[0m \u001b[38;5;28mprint\u001b[39m(\u001b[43mobj\u001b[49m\u001b[38;5;241;43m.\u001b[39;49m\u001b[38;5;18;43m__name__\u001b[39;49m)\n",
      "\u001b[1;31mAttributeError\u001b[0m: 'MyClass' object has no attribute '__name__'"
     ]
    }
   ],
   "source": [
    "class MyClass:\n",
    "    pass\n",
    "\n",
    "obj = MyClass()\n",
    "print(obj.__name__)  # Output: MyClass\n"
   ]
  },
  {
   "cell_type": "code",
   "execution_count": 5,
   "id": "b55a48e8",
   "metadata": {},
   "outputs": [
    {
     "name": "stdout",
     "output_type": "stream",
     "text": [
      "MyClass\n"
     ]
    }
   ],
   "source": [
    "class MyClass:\n",
    "    pass\n",
    "\n",
    "obj = MyClass()\n",
    "class_name = type(obj).__name__\n",
    "print(class_name) \n"
   ]
  },
  {
   "cell_type": "code",
   "execution_count": 7,
   "id": "f9106204",
   "metadata": {},
   "outputs": [
    {
     "name": "stdout",
     "output_type": "stream",
     "text": [
      "deepu\n"
     ]
    }
   ],
   "source": [
    "class deepu:\n",
    "    pass\n",
    "\n",
    "obj = deepu()\n",
    "class_name = type(obj).__name__\n",
    "print(class_name) "
   ]
  },
  {
   "cell_type": "code",
   "execution_count": null,
   "id": "f3a97471",
   "metadata": {},
   "outputs": [],
   "source": []
  }
 ],
 "metadata": {
  "kernelspec": {
   "display_name": "Python 3 (ipykernel)",
   "language": "python",
   "name": "python3"
  },
  "language_info": {
   "codemirror_mode": {
    "name": "ipython",
    "version": 3
   },
   "file_extension": ".py",
   "mimetype": "text/x-python",
   "name": "python",
   "nbconvert_exporter": "python",
   "pygments_lexer": "ipython3",
   "version": "3.9.12"
  }
 },
 "nbformat": 4,
 "nbformat_minor": 5
}
