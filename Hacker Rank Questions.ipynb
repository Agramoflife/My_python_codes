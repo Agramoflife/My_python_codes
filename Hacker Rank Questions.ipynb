{
 "cells": [
  {
   "cell_type": "code",
   "execution_count": 5,
   "id": "27df9146",
   "metadata": {},
   "outputs": [
    {
     "name": "stdout",
     "output_type": "stream",
     "text": [
      "[[0, 0, 0], [0, 0, 1], [0, 0, 2], [0, 1, 0], [0, 1, 1], [0, 1, 2], [0, 2, 0], [0, 2, 1], [0, 2, 2], [1, 0, 0], [1, 0, 1], [1, 0, 2], [1, 1, 0], [1, 1, 1], [1, 1, 2], [1, 2, 0], [1, 2, 1], [1, 2, 2], [2, 0, 0], [2, 0, 1], [2, 0, 2], [2, 1, 0], [2, 1, 1], [2, 1, 2], [2, 2, 0], [2, 2, 1], [2, 2, 2]]\n"
     ]
    },
    {
     "ename": "ValueError",
     "evalue": "list.remove(x): x not in list",
     "output_type": "error",
     "traceback": [
      "\u001b[1;31m---------------------------------------------------------------------------\u001b[0m",
      "\u001b[1;31mValueError\u001b[0m                                Traceback (most recent call last)",
      "Input \u001b[1;32mIn [5]\u001b[0m, in \u001b[0;36m<cell line: 17>\u001b[1;34m()\u001b[0m\n\u001b[0;32m     14\u001b[0m \u001b[38;5;66;03m# print(empty_list_2)   \u001b[39;00m\n\u001b[0;32m     15\u001b[0m \u001b[38;5;28mprint\u001b[39m(empty_list)\n\u001b[1;32m---> 17\u001b[0m \u001b[43mempty_list\u001b[49m\u001b[38;5;241;43m.\u001b[39;49m\u001b[43mremove\u001b[49m\u001b[43m(\u001b[49m\u001b[43mempty_list_2\u001b[49m\u001b[43m)\u001b[49m\n",
      "\u001b[1;31mValueError\u001b[0m: list.remove(x): x not in list"
     ]
    }
   ],
   "source": [
    "# Same code as below, this was in working phase \n",
    "empty_list = []\n",
    "empty_list_2 = []\n",
    "for i in range(3):\n",
    "    for j in range(3):\n",
    "        for k in range(3):\n",
    "            coordinates = [i,j,k]\n",
    "            empty_list.append(coordinates)\n",
    "# all_cord = empty_list\n",
    "\n",
    "for elem in empty_list:\n",
    "    if sum(elem) != 3:\n",
    "        empty_list_2.append(elem)\n",
    "\n",
    "# print(empty_list_2)   \n",
    "print(empty_list)\n",
    "\n",
    "empty_list.remove(empty_list_2)\n"
   ]
  },
  {
   "cell_type": "code",
   "execution_count": null,
   "id": "88ca4218",
   "metadata": {},
   "outputs": [],
   "source": [
    "\n"
   ]
  },
  {
   "cell_type": "code",
   "execution_count": 22,
   "id": "a327f8cf",
   "metadata": {},
   "outputs": [
    {
     "ename": "TypeError",
     "evalue": "unhashable type: 'set'",
     "output_type": "error",
     "traceback": [
      "\u001b[1;31m---------------------------------------------------------------------------\u001b[0m",
      "\u001b[1;31mTypeError\u001b[0m                                 Traceback (most recent call last)",
      "Input \u001b[1;32mIn [22]\u001b[0m, in \u001b[0;36m<cell line: 2>\u001b[1;34m()\u001b[0m\n\u001b[0;32m      5\u001b[0m     \u001b[38;5;28;01mfor\u001b[39;00m j \u001b[38;5;129;01min\u001b[39;00m \u001b[38;5;28mrange\u001b[39m(\u001b[38;5;241m3\u001b[39m):\n\u001b[0;32m      6\u001b[0m         setty \u001b[38;5;241m=\u001b[39m {i,j}\n\u001b[1;32m----> 7\u001b[0m         \u001b[43mempty_set\u001b[49m\u001b[38;5;241;43m.\u001b[39;49m\u001b[43madd\u001b[49m\u001b[43m(\u001b[49m\u001b[43msetty\u001b[49m\u001b[43m)\u001b[49m\n\u001b[0;32m      8\u001b[0m \u001b[38;5;28mprint\u001b[39m(empty_set)\n",
      "\u001b[1;31mTypeError\u001b[0m: unhashable type: 'set'"
     ]
    }
   ],
   "source": [
    "empty_set = set()\n",
    "for i in range(3):\n",
    "#     empty_set.add(i) \n",
    "#     print(empty_set) This piece of code works though \n",
    "    for j in range(3):\n",
    "        setty = {i,j}\n",
    "        empty_set.add(setty)\n",
    "print(empty_set)\n",
    "    \n"
   ]
  },
  {
   "cell_type": "markdown",
   "id": "8b48f175",
   "metadata": {},
   "source": [
    "### Write a code to generate all the possible coordinates of cuboid, which follows folllowing conditions \n",
    "### 1. The sum of cordinates should not be equal to user defined value n.\n",
    "### 2. It should have an input of 3D point.\n",
    "### 3. Convert the code into one-liner(list comprehensioin)\n",
    "### 4. Convert the code into function."
   ]
  },
  {
   "cell_type": "code",
   "execution_count": 4,
   "id": "ef872653",
   "metadata": {},
   "outputs": [
    {
     "name": "stdout",
     "output_type": "stream",
     "text": [
      "1\n",
      "2\n",
      "2\n",
      "3\n",
      "\n",
      "[[0, 0, 0], [0, 0, 1], [0, 0, 2], [0, 1, 0], [0, 1, 1], [0, 2, 0], [0, 2, 2], [1, 0, 0], [1, 0, 1], [1, 1, 0], [1, 1, 2], [1, 2, 1], [1, 2, 2]]\n"
     ]
    }
   ],
   "source": [
    "x = int(input())\n",
    "y = int(input())\n",
    "z = int(input())\n",
    "n = int(input())\n",
    "print('') # for the extra space    \n",
    "empty_list_A = []\n",
    "empty_list_B = []\n",
    "for i in range(x+1):\n",
    "    for j in range(y+1):\n",
    "        for k in range(z+1):\n",
    "            cord = [i,j,k]\n",
    "            empty_list_A.append(cord)\n",
    "\n",
    "for elem in empty_list_A:\n",
    "    if sum(elem) != n:\n",
    "        empty_list_B.append(elem)\n",
    "\n",
    "print(empty_list_B) "
   ]
  },
  {
   "cell_type": "markdown",
   "id": "40a74c63",
   "metadata": {},
   "source": [
    "Please explain the correlation between user input and no. of cordinates and loops "
   ]
  },
  {
   "cell_type": "code",
   "execution_count": null,
   "id": "a5424102",
   "metadata": {},
   "outputs": [],
   "source": [
    "x = int(input())\n",
    "y = int(input())\n",
    "z = int(input())\n",
    "n = int(input())\n",
    "print('') # for the extra space    \n",
    "empty_list_A = []\n",
    "empty_list_B = []\n",
    "for i in range(x+1):\n",
    "    for j in range(y+1):\n",
    "        for k in range(z+1):\n",
    "            cord = [i,j,k]\n",
    "            empty_list_A.append(cord)\n",
    "\n",
    "for elem in empty_list_A:\n",
    "    if sum(elem) != n:\n",
    "        empty_list_B.append(elem)\n",
    "\n",
    "print(empty_list_B) "
   ]
  },
  {
   "cell_type": "markdown",
   "id": "739b3b0a",
   "metadata": {},
   "source": [
    "## The same code in one liner or in list comprehesion for is "
   ]
  },
  {
   "cell_type": "code",
   "execution_count": 2,
   "id": "2b925d35",
   "metadata": {},
   "outputs": [
    {
     "name": "stdout",
     "output_type": "stream",
     "text": [
      "1\n",
      "1\n",
      "1\n",
      "2\n",
      "[[0, 0, 0], [0, 0, 1], [0, 1, 0], [1, 0, 0], [1, 1, 1]]\n"
     ]
    }
   ],
   "source": [
    "x = int(input())\n",
    "y = int(input())\n",
    "z = int(input())\n",
    "n = int(input())\n",
    "listy = [[k,j,i] for k in range(z+1) for j in range(y+1) for i in range(x+1) if i+j+k != n]\n",
    "print(listy) # please explain the order of i,j,k \n",
    "        "
   ]
  },
  {
   "cell_type": "code",
   "execution_count": 8,
   "id": "b2ebd48a",
   "metadata": {},
   "outputs": [
    {
     "name": "stdout",
     "output_type": "stream",
     "text": [
      "[[0, 0, 0], [0, 0, 1], [0, 1, 0], [0, 1, 1], [0, 2, 0], [1, 0, 0], [1, 0, 1], [1, 1, 0], [1, 2, 1], [2, 0, 0], [2, 1, 1], [2, 2, 0], [2, 2, 1], [3, 0, 1], [3, 1, 0], [3, 1, 1], [3, 2, 0], [3, 2, 1]]\n"
     ]
    }
   ],
   "source": [
    "listy = [[k,j,i] for k in range(4) for j in range(3) for i in range(2) if i+j+k != 3]\n",
    "print(listy)"
   ]
  },
  {
   "cell_type": "code",
   "execution_count": 7,
   "id": "43f652da",
   "metadata": {},
   "outputs": [
    {
     "name": "stdout",
     "output_type": "stream",
     "text": [
      "0 0 0\n",
      "0 0 1\n",
      "0 0 2\n",
      "0 1 0\n",
      "0 1 1\n",
      "0 1 3\n",
      "0 2 0\n",
      "0 2 2\n",
      "0 2 3\n",
      "1 0 0\n",
      "1 0 1\n",
      "1 0 3\n",
      "1 1 0\n",
      "1 1 2\n",
      "1 1 3\n",
      "1 2 1\n",
      "1 2 2\n",
      "1 2 3\n"
     ]
    }
   ],
   "source": [
    "for i in range(2):\n",
    "    for j in range(3):\n",
    "        for k in range(4):\n",
    "#             print(i,j,k)\n",
    "            \n",
    "            if i+j+k != 3:\n",
    "                print(i,j,k)"
   ]
  },
  {
   "cell_type": "code",
   "execution_count": 10,
   "id": "8ee1cee9",
   "metadata": {},
   "outputs": [
    {
     "name": "stdout",
     "output_type": "stream",
     "text": [
      "[[0, 0, 0], [0, 0, 1], [0, 0, 2], [0, 1, 0], [0, 1, 1], [0, 1, 3], [0, 2, 0], [0, 2, 2], [0, 2, 3], [1, 0, 0], [1, 0, 1], [1, 0, 3], [1, 1, 0], [1, 1, 2], [1, 1, 3], [1, 2, 1], [1, 2, 2], [1, 2, 3]]\n"
     ]
    }
   ],
   "source": [
    "listy = [[i,j,k] for i in range(2) for j in range(3) for k in range(4) if i+j+k != 3]\n",
    "print(listy)"
   ]
  },
  {
   "cell_type": "code",
   "execution_count": 11,
   "id": "d84caf79",
   "metadata": {},
   "outputs": [
    {
     "name": "stdout",
     "output_type": "stream",
     "text": [
      "[[0, 0, 0], [0, 0, 1], [0, 1, 0], [1, 0, 0], [1, 1, 1]]\n"
     ]
    }
   ],
   "source": [
    "listy = [[i,j,k] for i in range(2) for j in range(2) for k in range(2) if i+j+k != 2]\n",
    "print(listy) # this is the correct way to write list comprehension "
   ]
  },
  {
   "cell_type": "markdown",
   "id": "5f18464c",
   "metadata": {},
   "source": [
    "# Lets learn how to import files in python or more specifically into pandas"
   ]
  },
  {
   "cell_type": "markdown",
   "id": "3b47c750",
   "metadata": {},
   "source": [
    "So what just happened here . So python is "
   ]
  },
  {
   "cell_type": "code",
   "execution_count": 4,
   "id": "06eabc9e",
   "metadata": {},
   "outputs": [
    {
     "data": {
      "text/plain": [
       "'C:\\\\Users\\\\Deepu\\\\Documents\\\\My_Python_codes'"
      ]
     },
     "execution_count": 4,
     "metadata": {},
     "output_type": "execute_result"
    }
   ],
   "source": [
    "pwd # this is to where is python right now in what directory "
   ]
  },
  {
   "cell_type": "code",
   "execution_count": 5,
   "id": "f8559050",
   "metadata": {},
   "outputs": [
    {
     "name": "stdout",
     "output_type": "stream",
     "text": [
      "C:\\Users\\Deepu\\Desktop\n"
     ]
    }
   ],
   "source": [
    "cd C:\\Users\\Deepu\\Desktop # NOw we have to change the direction to the path of the file by using cd path"
   ]
  },
  {
   "cell_type": "code",
   "execution_count": 6,
   "id": "ce68874f",
   "metadata": {},
   "outputs": [
    {
     "data": {
      "text/plain": [
       "'C:\\\\Users\\\\Deepu\\\\Desktop'"
      ]
     },
     "execution_count": 6,
     "metadata": {},
     "output_type": "execute_result"
    }
   ],
   "source": [
    "pwd # Now check again if the directory of the python has change or not "
   ]
  },
  {
   "cell_type": "code",
   "execution_count": 9,
   "id": "033db6af",
   "metadata": {},
   "outputs": [
    {
     "data": {
      "text/html": [
       "<div>\n",
       "<style scoped>\n",
       "    .dataframe tbody tr th:only-of-type {\n",
       "        vertical-align: middle;\n",
       "    }\n",
       "\n",
       "    .dataframe tbody tr th {\n",
       "        vertical-align: top;\n",
       "    }\n",
       "\n",
       "    .dataframe thead th {\n",
       "        text-align: right;\n",
       "    }\n",
       "</style>\n",
       "<table border=\"1\" class=\"dataframe\">\n",
       "  <thead>\n",
       "    <tr style=\"text-align: right;\">\n",
       "      <th></th>\n",
       "      <th>Client Name</th>\n",
       "      <th>Email</th>\n",
       "      <th>Groups</th>\n",
       "      <th>Last Message</th>\n",
       "      <th>Last File</th>\n",
       "      <th>Last Page</th>\n",
       "    </tr>\n",
       "  </thead>\n",
       "  <tbody>\n",
       "    <tr>\n",
       "      <th>0</th>\n",
       "      <td>Paritosh Mishra</td>\n",
       "      <td>paritosh.mishra29@gmail.com</td>\n",
       "      <td>Attempt to contact; Lost lead</td>\n",
       "      <td>-</td>\n",
       "      <td>-</td>\n",
       "      <td>-</td>\n",
       "    </tr>\n",
       "    <tr>\n",
       "      <th>1</th>\n",
       "      <td>Ashish Lamkhade</td>\n",
       "      <td>lamkhade.ashish64@gmail.com</td>\n",
       "      <td>Hot lead</td>\n",
       "      <td>-</td>\n",
       "      <td>-</td>\n",
       "      <td>-</td>\n",
       "    </tr>\n",
       "    <tr>\n",
       "      <th>2</th>\n",
       "      <td>Ramesh Patil</td>\n",
       "      <td>rameshspatil79@gmail.com</td>\n",
       "      <td>-</td>\n",
       "      <td>-</td>\n",
       "      <td>-</td>\n",
       "      <td>-</td>\n",
       "    </tr>\n",
       "    <tr>\n",
       "      <th>3</th>\n",
       "      <td>Sandeep Hajare</td>\n",
       "      <td>Sandeep.hajare@gmail.com</td>\n",
       "      <td>-</td>\n",
       "      <td>-</td>\n",
       "      <td>-</td>\n",
       "      <td>-</td>\n",
       "    </tr>\n",
       "    <tr>\n",
       "      <th>4</th>\n",
       "      <td>Amol Navale</td>\n",
       "      <td>amolnavale04@gmail.com</td>\n",
       "      <td>-</td>\n",
       "      <td>-</td>\n",
       "      <td>-</td>\n",
       "      <td>-</td>\n",
       "    </tr>\n",
       "    <tr>\n",
       "      <th>...</th>\n",
       "      <td>...</td>\n",
       "      <td>...</td>\n",
       "      <td>...</td>\n",
       "      <td>...</td>\n",
       "      <td>...</td>\n",
       "      <td>...</td>\n",
       "    </tr>\n",
       "    <tr>\n",
       "      <th>2500</th>\n",
       "      <td>Test Lead</td>\n",
       "      <td>support@privyr.com</td>\n",
       "      <td>-</td>\n",
       "      <td>-</td>\n",
       "      <td>-</td>\n",
       "      <td>-</td>\n",
       "    </tr>\n",
       "    <tr>\n",
       "      <th>2501</th>\n",
       "      <td>Alok Mukherjee</td>\n",
       "      <td>-</td>\n",
       "      <td>Warm lead</td>\n",
       "      <td>2021-03-12 - 01:27 PM</td>\n",
       "      <td>2021-03-12 - 01:27 PM</td>\n",
       "      <td>-</td>\n",
       "    </tr>\n",
       "    <tr>\n",
       "      <th>2502</th>\n",
       "      <td>Test Client for Priyanka</td>\n",
       "      <td>support@privyr.com</td>\n",
       "      <td>-</td>\n",
       "      <td>-</td>\n",
       "      <td>-</td>\n",
       "      <td>-</td>\n",
       "    </tr>\n",
       "    <tr>\n",
       "      <th>2503</th>\n",
       "      <td>pavan</td>\n",
       "      <td>-</td>\n",
       "      <td>Dealer; Outside Pune; Warm lead</td>\n",
       "      <td>2021-03-05 - 03:37 PM</td>\n",
       "      <td>2021-03-05 - 03:19 PM</td>\n",
       "      <td>2021-03-03 - 06:12 PM</td>\n",
       "    </tr>\n",
       "    <tr>\n",
       "      <th>2504</th>\n",
       "      <td>Privyr Support</td>\n",
       "      <td>support@privyr.com</td>\n",
       "      <td>-</td>\n",
       "      <td>-</td>\n",
       "      <td>-</td>\n",
       "      <td>-</td>\n",
       "    </tr>\n",
       "  </tbody>\n",
       "</table>\n",
       "<p>2505 rows × 6 columns</p>\n",
       "</div>"
      ],
      "text/plain": [
       "                    Client Name                        Email  \\\n",
       "0               Paritosh Mishra  paritosh.mishra29@gmail.com   \n",
       "1               Ashish Lamkhade  lamkhade.ashish64@gmail.com   \n",
       "2                  Ramesh Patil     rameshspatil79@gmail.com   \n",
       "3                Sandeep Hajare     Sandeep.hajare@gmail.com   \n",
       "4                   Amol Navale       amolnavale04@gmail.com   \n",
       "...                         ...                          ...   \n",
       "2500                  Test Lead           support@privyr.com   \n",
       "2501             Alok Mukherjee                            -   \n",
       "2502  Test Client for Priyanka            support@privyr.com   \n",
       "2503                      pavan                            -   \n",
       "2504             Privyr Support           support@privyr.com   \n",
       "\n",
       "                               Groups           Last Message  \\\n",
       "0       Attempt to contact; Lost lead                      -   \n",
       "1                            Hot lead                      -   \n",
       "2                                   -                      -   \n",
       "3                                   -                      -   \n",
       "4                                   -                      -   \n",
       "...                               ...                    ...   \n",
       "2500                                -                      -   \n",
       "2501                        Warm lead  2021-03-12 - 01:27 PM   \n",
       "2502                                -                      -   \n",
       "2503  Dealer; Outside Pune; Warm lead  2021-03-05 - 03:37 PM   \n",
       "2504                                -                      -   \n",
       "\n",
       "                  Last File              Last Page  \n",
       "0                         -                      -  \n",
       "1                         -                      -  \n",
       "2                         -                      -  \n",
       "3                         -                      -  \n",
       "4                         -                      -  \n",
       "...                     ...                    ...  \n",
       "2500                      -                      -  \n",
       "2501  2021-03-12 - 01:27 PM                      -  \n",
       "2502                      -                      -  \n",
       "2503  2021-03-05 - 03:19 PM  2021-03-03 - 06:12 PM  \n",
       "2504                      -                      -  \n",
       "\n",
       "[2505 rows x 6 columns]"
      ]
     },
     "metadata": {},
     "output_type": "display_data"
    }
   ],
   "source": [
    "import pandas as pd\n",
    "\n",
    "df = pd.read_csv('data.csv') # Now here we just have to give the name of the file \n",
    "\n",
    "display(df) "
   ]
  },
  {
   "cell_type": "code",
   "execution_count": 15,
   "id": "fdd376e1",
   "metadata": {},
   "outputs": [
    {
     "data": {
      "text/html": [
       "<div>\n",
       "<style scoped>\n",
       "    .dataframe tbody tr th:only-of-type {\n",
       "        vertical-align: middle;\n",
       "    }\n",
       "\n",
       "    .dataframe tbody tr th {\n",
       "        vertical-align: top;\n",
       "    }\n",
       "\n",
       "    .dataframe thead th {\n",
       "        text-align: right;\n",
       "    }\n",
       "</style>\n",
       "<table border=\"1\" class=\"dataframe\">\n",
       "  <thead>\n",
       "    <tr style=\"text-align: right;\">\n",
       "      <th></th>\n",
       "      <th>Client Name</th>\n",
       "      <th>Email</th>\n",
       "      <th>Groups</th>\n",
       "      <th>Last Message</th>\n",
       "      <th>Last File</th>\n",
       "      <th>Last Page</th>\n",
       "    </tr>\n",
       "  </thead>\n",
       "  <tbody>\n",
       "    <tr>\n",
       "      <th>2485</th>\n",
       "      <td>Prashant Jadhav</td>\n",
       "      <td>pjadgav067@gmail.com</td>\n",
       "      <td>Attempt to contact</td>\n",
       "      <td>2021-03-07 - 02:21 PM</td>\n",
       "      <td>2021-03-07 - 02:22 PM</td>\n",
       "      <td>-</td>\n",
       "    </tr>\n",
       "    <tr>\n",
       "      <th>2486</th>\n",
       "      <td>Bhimrao Gaikwad</td>\n",
       "      <td>brsweet.gai@gmail.com</td>\n",
       "      <td>Lost lead</td>\n",
       "      <td>2021-03-07 - 02:19 PM</td>\n",
       "      <td>2021-03-07 - 02:20 PM</td>\n",
       "      <td>-</td>\n",
       "    </tr>\n",
       "    <tr>\n",
       "      <th>2487</th>\n",
       "      <td>Santosh Bhosale</td>\n",
       "      <td>sbpainter170@gmail.com</td>\n",
       "      <td>-</td>\n",
       "      <td>-</td>\n",
       "      <td>-</td>\n",
       "      <td>-</td>\n",
       "    </tr>\n",
       "    <tr>\n",
       "      <th>2488</th>\n",
       "      <td>Vijay Chavan</td>\n",
       "      <td>chavan.vijay96@gmail.com</td>\n",
       "      <td>Attempt to contact</td>\n",
       "      <td>2021-03-07 - 02:17 PM</td>\n",
       "      <td>2021-03-07 - 02:18 PM</td>\n",
       "      <td>-</td>\n",
       "    </tr>\n",
       "    <tr>\n",
       "      <th>2489</th>\n",
       "      <td>Kiran Latne</td>\n",
       "      <td>dr.drkiran4u@yahoo.com</td>\n",
       "      <td>Hot lead</td>\n",
       "      <td>-</td>\n",
       "      <td>-</td>\n",
       "      <td>-</td>\n",
       "    </tr>\n",
       "    <tr>\n",
       "      <th>2490</th>\n",
       "      <td>Subhra Kanta Patel</td>\n",
       "      <td>subhraa123@gmail.com</td>\n",
       "      <td>Attempt to contact</td>\n",
       "      <td>2021-03-07 - 02:16 PM</td>\n",
       "      <td>2021-03-07 - 02:16 PM</td>\n",
       "      <td>-</td>\n",
       "    </tr>\n",
       "    <tr>\n",
       "      <th>2491</th>\n",
       "      <td>Babulal Ramaji Choudhary</td>\n",
       "      <td>manishahardware.electronics@gmail.com</td>\n",
       "      <td>-</td>\n",
       "      <td>-</td>\n",
       "      <td>-</td>\n",
       "      <td>-</td>\n",
       "    </tr>\n",
       "    <tr>\n",
       "      <th>2492</th>\n",
       "      <td>Ashish Jadhav Deshmukh</td>\n",
       "      <td>ashishjadhav3441@gmail.com</td>\n",
       "      <td>-</td>\n",
       "      <td>2021-03-03 - 08:45 PM</td>\n",
       "      <td>-</td>\n",
       "      <td>-</td>\n",
       "    </tr>\n",
       "    <tr>\n",
       "      <th>2493</th>\n",
       "      <td>Gautam Bamne</td>\n",
       "      <td>gautambamne@gmail.com</td>\n",
       "      <td>Cold lead</td>\n",
       "      <td>2021-03-07 - 02:08 PM</td>\n",
       "      <td>-</td>\n",
       "      <td>2021-03-07 - 02:12 PM</td>\n",
       "    </tr>\n",
       "    <tr>\n",
       "      <th>2494</th>\n",
       "      <td>Hitendra Jaiswal</td>\n",
       "      <td>hitendra.j12@gmail.com</td>\n",
       "      <td>Cold lead</td>\n",
       "      <td>2021-03-07 - 02:05 PM</td>\n",
       "      <td>2021-03-07 - 02:06 PM</td>\n",
       "      <td>-</td>\n",
       "    </tr>\n",
       "    <tr>\n",
       "      <th>2495</th>\n",
       "      <td>Ca Arvind Singh</td>\n",
       "      <td>arvindsingh8426@gmail.com</td>\n",
       "      <td>-</td>\n",
       "      <td>-</td>\n",
       "      <td>-</td>\n",
       "      <td>-</td>\n",
       "    </tr>\n",
       "    <tr>\n",
       "      <th>2496</th>\n",
       "      <td>Kaleem Shaikh</td>\n",
       "      <td>shak.aleem@gmail.com</td>\n",
       "      <td>Attempt to contact</td>\n",
       "      <td>2021-03-07 - 02:01 PM</td>\n",
       "      <td>2021-03-07 - 02:03 PM</td>\n",
       "      <td>-</td>\n",
       "    </tr>\n",
       "    <tr>\n",
       "      <th>2497</th>\n",
       "      <td>Mallikarjun</td>\n",
       "      <td>mallikarjunbisnal@gmail.com</td>\n",
       "      <td>Warm lead</td>\n",
       "      <td>-</td>\n",
       "      <td>-</td>\n",
       "      <td>-</td>\n",
       "    </tr>\n",
       "    <tr>\n",
       "      <th>2498</th>\n",
       "      <td>Test Lead</td>\n",
       "      <td>support@privyr.com</td>\n",
       "      <td>-</td>\n",
       "      <td>2021-03-03 - 07:22 PM</td>\n",
       "      <td>-</td>\n",
       "      <td>-</td>\n",
       "    </tr>\n",
       "    <tr>\n",
       "      <th>2499</th>\n",
       "      <td>Test Lead</td>\n",
       "      <td>support@privyr.com</td>\n",
       "      <td>-</td>\n",
       "      <td>-</td>\n",
       "      <td>-</td>\n",
       "      <td>-</td>\n",
       "    </tr>\n",
       "    <tr>\n",
       "      <th>2500</th>\n",
       "      <td>Test Lead</td>\n",
       "      <td>support@privyr.com</td>\n",
       "      <td>-</td>\n",
       "      <td>-</td>\n",
       "      <td>-</td>\n",
       "      <td>-</td>\n",
       "    </tr>\n",
       "    <tr>\n",
       "      <th>2501</th>\n",
       "      <td>Alok Mukherjee</td>\n",
       "      <td>-</td>\n",
       "      <td>Warm lead</td>\n",
       "      <td>2021-03-12 - 01:27 PM</td>\n",
       "      <td>2021-03-12 - 01:27 PM</td>\n",
       "      <td>-</td>\n",
       "    </tr>\n",
       "    <tr>\n",
       "      <th>2502</th>\n",
       "      <td>Test Client for Priyanka</td>\n",
       "      <td>support@privyr.com</td>\n",
       "      <td>-</td>\n",
       "      <td>-</td>\n",
       "      <td>-</td>\n",
       "      <td>-</td>\n",
       "    </tr>\n",
       "    <tr>\n",
       "      <th>2503</th>\n",
       "      <td>pavan</td>\n",
       "      <td>-</td>\n",
       "      <td>Dealer; Outside Pune; Warm lead</td>\n",
       "      <td>2021-03-05 - 03:37 PM</td>\n",
       "      <td>2021-03-05 - 03:19 PM</td>\n",
       "      <td>2021-03-03 - 06:12 PM</td>\n",
       "    </tr>\n",
       "    <tr>\n",
       "      <th>2504</th>\n",
       "      <td>Privyr Support</td>\n",
       "      <td>support@privyr.com</td>\n",
       "      <td>-</td>\n",
       "      <td>-</td>\n",
       "      <td>-</td>\n",
       "      <td>-</td>\n",
       "    </tr>\n",
       "  </tbody>\n",
       "</table>\n",
       "</div>"
      ],
      "text/plain": [
       "                    Client Name                                  Email  \\\n",
       "2485            Prashant Jadhav                   pjadgav067@gmail.com   \n",
       "2486            Bhimrao Gaikwad                  brsweet.gai@gmail.com   \n",
       "2487            Santosh Bhosale                 sbpainter170@gmail.com   \n",
       "2488               Vijay Chavan               chavan.vijay96@gmail.com   \n",
       "2489                Kiran Latne                 dr.drkiran4u@yahoo.com   \n",
       "2490         Subhra Kanta Patel                   subhraa123@gmail.com   \n",
       "2491   Babulal Ramaji Choudhary  manishahardware.electronics@gmail.com   \n",
       "2492     Ashish Jadhav Deshmukh             ashishjadhav3441@gmail.com   \n",
       "2493               Gautam Bamne                  gautambamne@gmail.com   \n",
       "2494           Hitendra Jaiswal                 hitendra.j12@gmail.com   \n",
       "2495            Ca Arvind Singh              arvindsingh8426@gmail.com   \n",
       "2496              Kaleem Shaikh                   shak.aleem@gmail.com   \n",
       "2497                Mallikarjun            mallikarjunbisnal@gmail.com   \n",
       "2498                  Test Lead                     support@privyr.com   \n",
       "2499                  Test Lead                     support@privyr.com   \n",
       "2500                  Test Lead                     support@privyr.com   \n",
       "2501             Alok Mukherjee                                      -   \n",
       "2502  Test Client for Priyanka                      support@privyr.com   \n",
       "2503                      pavan                                      -   \n",
       "2504             Privyr Support                     support@privyr.com   \n",
       "\n",
       "                               Groups           Last Message  \\\n",
       "2485               Attempt to contact  2021-03-07 - 02:21 PM   \n",
       "2486                        Lost lead  2021-03-07 - 02:19 PM   \n",
       "2487                                -                      -   \n",
       "2488               Attempt to contact  2021-03-07 - 02:17 PM   \n",
       "2489                         Hot lead                      -   \n",
       "2490               Attempt to contact  2021-03-07 - 02:16 PM   \n",
       "2491                                -                      -   \n",
       "2492                                -  2021-03-03 - 08:45 PM   \n",
       "2493                        Cold lead  2021-03-07 - 02:08 PM   \n",
       "2494                        Cold lead  2021-03-07 - 02:05 PM   \n",
       "2495                                -                      -   \n",
       "2496               Attempt to contact  2021-03-07 - 02:01 PM   \n",
       "2497                        Warm lead                      -   \n",
       "2498                                -  2021-03-03 - 07:22 PM   \n",
       "2499                                -                      -   \n",
       "2500                                -                      -   \n",
       "2501                        Warm lead  2021-03-12 - 01:27 PM   \n",
       "2502                                -                      -   \n",
       "2503  Dealer; Outside Pune; Warm lead  2021-03-05 - 03:37 PM   \n",
       "2504                                -                      -   \n",
       "\n",
       "                  Last File              Last Page  \n",
       "2485  2021-03-07 - 02:22 PM                      -  \n",
       "2486  2021-03-07 - 02:20 PM                      -  \n",
       "2487                      -                      -  \n",
       "2488  2021-03-07 - 02:18 PM                      -  \n",
       "2489                      -                      -  \n",
       "2490  2021-03-07 - 02:16 PM                      -  \n",
       "2491                      -                      -  \n",
       "2492                      -                      -  \n",
       "2493                      -  2021-03-07 - 02:12 PM  \n",
       "2494  2021-03-07 - 02:06 PM                      -  \n",
       "2495                      -                      -  \n",
       "2496  2021-03-07 - 02:03 PM                      -  \n",
       "2497                      -                      -  \n",
       "2498                      -                      -  \n",
       "2499                      -                      -  \n",
       "2500                      -                      -  \n",
       "2501  2021-03-12 - 01:27 PM                      -  \n",
       "2502                      -                      -  \n",
       "2503  2021-03-05 - 03:19 PM  2021-03-03 - 06:12 PM  \n",
       "2504                      -                      -  "
      ]
     },
     "execution_count": 15,
     "metadata": {},
     "output_type": "execute_result"
    }
   ],
   "source": [
    "df.tail(20)"
   ]
  },
  {
   "cell_type": "code",
   "execution_count": 17,
   "id": "d4fff398",
   "metadata": {},
   "outputs": [
    {
     "data": {
      "text/plain": [
       "Index(['Client Name', 'Email', 'Groups', 'Last Message', 'Last File',\n",
       "       'Last Page'],\n",
       "      dtype='object')"
      ]
     },
     "execution_count": 17,
     "metadata": {},
     "output_type": "execute_result"
    }
   ],
   "source": [
    "df.columns"
   ]
  },
  {
   "cell_type": "code",
   "execution_count": null,
   "id": "505f119a",
   "metadata": {},
   "outputs": [],
   "source": []
  },
  {
   "cell_type": "code",
   "execution_count": 5,
   "id": "44d1360c",
   "metadata": {},
   "outputs": [
    {
     "name": "stdout",
     "output_type": "stream",
     "text": [
      "[4, 6, 1]\n",
      "[4, 1, 6]\n",
      "[1, 4, 6]\n"
     ]
    }
   ],
   "source": [
    "listy = [6,4,1]\n",
    "a = len(listy) # this is done to run the loop \n",
    "for i in range(1,a): # range is used to run the loop smoothly we had this issue wile solving alone \n",
    "    value = listy[i] # define to swap value \n",
    "    j = i\n",
    "    while j>0 and listy[j-1] > value: #swaping process starts\n",
    "        listy[j] = listy[j-1]\n",
    "        j = j-1\n",
    "        listy[j] = value\n",
    "        print(listy)\n",
    "        "
   ]
  },
  {
   "cell_type": "code",
   "execution_count": 22,
   "id": "7583b4c8",
   "metadata": {},
   "outputs": [
    {
     "name": "stdout",
     "output_type": "stream",
     "text": [
      "[1, 1, 1, 1, 1, 1]\n",
      "[1, 1, 1, 1, 1, 1]\n",
      "[1, 1, 1, 1, 1, 1]\n",
      "[1, 1, 1, 1, 1, 1, 2, 2, 2]\n",
      "[1, 1, 1, 1, 1, 1, 2, 2, 2, 3, 3]\n",
      "[1, 1, 1, 1, 1, 1, 2, 2, 2, 3, 3, 4]\n",
      "[1, 1, 1, 1, 1, 1, 2, 2, 2, 3, 3, 4]\n"
     ]
    },
    {
     "ename": "IndexError",
     "evalue": "list index out of range",
     "output_type": "error",
     "traceback": [
      "\u001b[1;31m---------------------------------------------------------------------------\u001b[0m",
      "\u001b[1;31mIndexError\u001b[0m                                Traceback (most recent call last)",
      "Input \u001b[1;32mIn [22]\u001b[0m, in \u001b[0;36m<cell line: 3>\u001b[1;34m()\u001b[0m\n\u001b[0;32m      5\u001b[0m \u001b[38;5;66;03m#     print(value)\u001b[39;00m\n\u001b[0;32m      6\u001b[0m     j \u001b[38;5;241m=\u001b[39m i \u001b[38;5;241m+\u001b[39m \u001b[38;5;241m1\u001b[39m\n\u001b[1;32m----> 7\u001b[0m     \u001b[38;5;28;01mwhile\u001b[39;00m value \u001b[38;5;241m!=\u001b[39m \u001b[43mlisty\u001b[49m\u001b[43m[\u001b[49m\u001b[43mj\u001b[49m\u001b[43m]\u001b[49m \u001b[38;5;129;01mand\u001b[39;00m j \u001b[38;5;241m<\u001b[39m \u001b[38;5;28mlen\u001b[39m(listy)\u001b[38;5;241m-\u001b[39m\u001b[38;5;241m1\u001b[39m:\n\u001b[0;32m      8\u001b[0m         unique\u001b[38;5;241m.\u001b[39mappend(value)\n\u001b[0;32m      9\u001b[0m         j \u001b[38;5;241m+\u001b[39m\u001b[38;5;241m=\u001b[39m \u001b[38;5;241m1\u001b[39m\n",
      "\u001b[1;31mIndexError\u001b[0m: list index out of range"
     ]
    }
   ],
   "source": [
    "listy = [1,2,2,2,3,4,5,6]\n",
    "unique = []\n",
    "for i in range(0,len(listy)):\n",
    "    value = listy[i]\n",
    "#     print(value)\n",
    "    j = i + 1\n",
    "    while value != listy[j] and j < len(listy)-1:\n",
    "        unique.append(value)\n",
    "        j += 1\n",
    "    print(unique)\n",
    "        \n",
    "    "
   ]
  },
  {
   "cell_type": "code",
   "execution_count": null,
   "id": "3e77b304",
   "metadata": {},
   "outputs": [],
   "source": [
    "listy = [1,2,2,2,3,4,5,6]"
   ]
  },
  {
   "cell_type": "code",
   "execution_count": 6,
   "id": "a78334a0",
   "metadata": {},
   "outputs": [
    {
     "name": "stdout",
     "output_type": "stream",
     "text": [
      "2\n",
      "Please enter name: deepu\n",
      "Please enter score: 43\n"
     ]
    },
    {
     "ename": "TypeError",
     "evalue": "'float' object is not iterable",
     "output_type": "error",
     "traceback": [
      "\u001b[1;31m---------------------------------------------------------------------------\u001b[0m",
      "\u001b[1;31mTypeError\u001b[0m                                 Traceback (most recent call last)",
      "Input \u001b[1;32mIn [6]\u001b[0m, in \u001b[0;36m<cell line: 2>\u001b[1;34m()\u001b[0m\n\u001b[0;32m      3\u001b[0m name \u001b[38;5;241m=\u001b[39m \u001b[38;5;28minput\u001b[39m(\u001b[38;5;124m'\u001b[39m\u001b[38;5;124mPlease enter name: \u001b[39m\u001b[38;5;124m'\u001b[39m)\n\u001b[0;32m      4\u001b[0m score \u001b[38;5;241m=\u001b[39m \u001b[38;5;28mfloat\u001b[39m(\u001b[38;5;28minput\u001b[39m(\u001b[38;5;124m'\u001b[39m\u001b[38;5;124mPlease enter score: \u001b[39m\u001b[38;5;124m'\u001b[39m))\n\u001b[1;32m----> 5\u001b[0m zippy \u001b[38;5;241m=\u001b[39m \u001b[38;5;28mlist\u001b[39m(\u001b[38;5;28;43mzip\u001b[39;49m\u001b[43m(\u001b[49m\u001b[43mname\u001b[49m\u001b[43m,\u001b[49m\u001b[43mscore\u001b[49m\u001b[43m)\u001b[49m) \n\u001b[0;32m      6\u001b[0m list_a \u001b[38;5;241m=\u001b[39m name\n\u001b[0;32m      7\u001b[0m list_b \u001b[38;5;241m=\u001b[39m score\n",
      "\u001b[1;31mTypeError\u001b[0m: 'float' object is not iterable"
     ]
    }
   ],
   "source": [
    "list_1 = []\n",
    "for _ in range(int(input())):\n",
    "    name = input('Please enter name: ')\n",
    "    score = float(input('Please enter score: '))\n",
    "    zippy = list(zip(name,score)) \n",
    "    list_a = name\n",
    "    list_b = score\n",
    "print(list_a)\n",
    "print(list_b)\n",
    "    "
   ]
  },
  {
   "cell_type": "code",
   "execution_count": 8,
   "id": "010cdcda",
   "metadata": {},
   "outputs": [
    {
     "name": "stdout",
     "output_type": "stream",
     "text": [
      "deepu 12\n",
      "chitu 23\n",
      "amit 43\n"
     ]
    }
   ],
   "source": [
    "x = ['deepu','chitu','amit']\n",
    "y = [12,23,43]\n",
    "for i,j in zip(x,y):\n",
    "    print(i,j)"
   ]
  },
  {
   "cell_type": "code",
   "execution_count": 12,
   "id": "c507ca10",
   "metadata": {},
   "outputs": [
    {
     "data": {
      "text/plain": [
       "[('Deepu', 43), ('Chitu', 23), ('Amit', 53)]"
      ]
     },
     "execution_count": 12,
     "metadata": {},
     "output_type": "execute_result"
    }
   ],
   "source": [
    "x = ['Deepu','Chitu','Amit']\n",
    "y = [43,23,53]\n",
    "z = list(zip(x,y))\n",
    "z"
   ]
  },
  {
   "cell_type": "code",
   "execution_count": null,
   "id": "b0237299",
   "metadata": {},
   "outputs": [],
   "source": [
    "x=int(input(\"enter the size of list\"))\n",
    "y= int(input(\"enter the size of sublist\"))\n",
    "list1=[]\n",
    "sublist=[]\n",
    "for i in range(x):\n",
    "    for j in range(y):\n",
    "        sublist.append(input())\n",
    "        print(sublist)\n",
    "    list1.append(sublist)\n",
    "#     print(list1)\n",
    "    sublist=[]\n",
    "print (list1)"
   ]
  },
  {
   "cell_type": "code",
   "execution_count": 18,
   "id": "3143e561",
   "metadata": {},
   "outputs": [
    {
     "name": "stdout",
     "output_type": "stream",
     "text": [
      "['Deepu', 43]\n",
      "['Deepu', 43, 'Rahul', 43]\n",
      "['Deepu', 43, 'Rahul', 43, 'Sanjay', 43]\n",
      "[['Deepu', 43, 'Rahul', 43, 'Sanjay', 43]]\n",
      "['Deepu', 43, 'Rahul', 43, 'Sanjay', 43, 'Deepu', 34]\n",
      "['Deepu', 43, 'Rahul', 43, 'Sanjay', 43, 'Deepu', 34, 'Rahul', 34]\n",
      "['Deepu', 43, 'Rahul', 43, 'Sanjay', 43, 'Deepu', 34, 'Rahul', 34, 'Sanjay', 34]\n",
      "[['Deepu', 43, 'Rahul', 43, 'Sanjay', 43, 'Deepu', 34, 'Rahul', 34, 'Sanjay', 34], ['Deepu', 43, 'Rahul', 43, 'Sanjay', 43, 'Deepu', 34, 'Rahul', 34, 'Sanjay', 34]]\n",
      "['Deepu', 43, 'Rahul', 43, 'Sanjay', 43, 'Deepu', 34, 'Rahul', 34, 'Sanjay', 34, 'Deepu', 12]\n",
      "['Deepu', 43, 'Rahul', 43, 'Sanjay', 43, 'Deepu', 34, 'Rahul', 34, 'Sanjay', 34, 'Deepu', 12, 'Rahul', 12]\n",
      "['Deepu', 43, 'Rahul', 43, 'Sanjay', 43, 'Deepu', 34, 'Rahul', 34, 'Sanjay', 34, 'Deepu', 12, 'Rahul', 12, 'Sanjay', 12]\n",
      "[['Deepu', 43, 'Rahul', 43, 'Sanjay', 43, 'Deepu', 34, 'Rahul', 34, 'Sanjay', 34, 'Deepu', 12, 'Rahul', 12, 'Sanjay', 12], ['Deepu', 43, 'Rahul', 43, 'Sanjay', 43, 'Deepu', 34, 'Rahul', 34, 'Sanjay', 34, 'Deepu', 12, 'Rahul', 12, 'Sanjay', 12], ['Deepu', 43, 'Rahul', 43, 'Sanjay', 43, 'Deepu', 34, 'Rahul', 34, 'Sanjay', 34, 'Deepu', 12, 'Rahul', 12, 'Sanjay', 12]]\n"
     ]
    }
   ],
   "source": [
    "x = ['Deepu','Rahul','Sanjay']\n",
    "y = [43,34,12]\n",
    "nested_1 = []\n",
    "nested_2 = []\n",
    "for i in y:\n",
    "    for j in x:\n",
    "        nested_1.append(j)\n",
    "        nested_1.append(i)\n",
    "        print(nested_1)\n",
    "#         print(f' inside the nested loop {j}')\n",
    "    nested_2.append(nested_1)\n",
    "    print(nested_2)\n",
    "#     print(f'inside the for loop {i}')        \n",
    "        "
   ]
  },
  {
   "cell_type": "code",
   "execution_count": 40,
   "id": "d6bae1d9",
   "metadata": {
    "collapsed": true
   },
   "outputs": [
    {
     "name": "stdout",
     "output_type": "stream",
     "text": [
      "[[]]\n",
      "[[], 'Deepu', []]\n",
      "[[], 'Deepu', [], 'Sachin', []]\n",
      "[[], 'Deepu', [], 'Sachin', [], 'Mehra', []]\n",
      "[[], 'Deepu', [], 'Sachin', [], 'Mehra', [], 'Anil']\n"
     ]
    }
   ],
   "source": [
    "list_a = ['Deepu','Sachin','Mehra','Anil']\n",
    "list_b = [32,43,34,35]\n",
    "emp = []\n",
    "emp_2 = []\n",
    "for i in range(4):\n",
    "    emp.append([])\n",
    "    print(emp)\n",
    "    for j in range(1):\n",
    "        emp.append(list_a[i])\n",
    "print(emp)\n",
    "            "
   ]
  },
  {
   "cell_type": "code",
   "execution_count": 41,
   "id": "5f0ed6b5",
   "metadata": {},
   "outputs": [
    {
     "name": "stdout",
     "output_type": "stream",
     "text": [
      "[[0, 0, 0], [1, 1, 1], [2, 2, 2], [3, 3, 3]]\n"
     ]
    }
   ],
   "source": [
    "# we will first do it with normal for loop\n",
    "empty = [] # define an empty list before hand \n",
    "for numb1 in range(4): # there will be 4 ieration process\n",
    "    empty.append([]) # there will be 4 empty list append in the 'empty' list already defined in the above line \n",
    "    \n",
    "    for numb2 in range(3):\n",
    "        empty[numb1].append(numb1) # now [[][][][]] we are append numb1 in empty list whose index value is 0,1,2,3 this can be done as the list is empty \n",
    "        # empty[numb1].append(numb2)\n",
    "        \n",
    "print(empty)   "
   ]
  },
  {
   "cell_type": "code",
   "execution_count": 61,
   "id": "5bb1638b",
   "metadata": {},
   "outputs": [
    {
     "name": "stdout",
     "output_type": "stream",
     "text": [
      "[['a', 9], ['b', 8], ['c', 7]]\n"
     ]
    }
   ],
   "source": [
    "# damn bro \n",
    "list_a =['a','b','c']\n",
    "list_b = [9,8,7]\n",
    "empty = []\n",
    "for i in range(len(list_a)):\n",
    "    empty.append([])\n",
    " \n",
    "    \n",
    "    for j in range(1):\n",
    "        empty[i].append(list_a[i])\n",
    "    empty[i].append(list_b[i])    \n",
    "print(empty)    "
   ]
  },
  {
   "cell_type": "code",
   "execution_count": 53,
   "id": "b5bd3dfe",
   "metadata": {},
   "outputs": [
    {
     "name": "stdout",
     "output_type": "stream",
     "text": [
      "[9, 8, 7]\n"
     ]
    }
   ],
   "source": [
    "l=[9,8,7,5]\n",
    "emp =[]\n",
    "for i in range(3):\n",
    "    emp.append(l[i])\n",
    "print(emp)    \n",
    "    "
   ]
  },
  {
   "cell_type": "code",
   "execution_count": 65,
   "id": "45b3bc17",
   "metadata": {},
   "outputs": [
    {
     "name": "stdout",
     "output_type": "stream",
     "text": [
      "[['Deepu', 32], ['Sachin', 36], ['Mehra', 38], ['Anil', 35], ['Chitu', 33], ['Amit', 34], ['Vikas', 39]]\n"
     ]
    }
   ],
   "source": [
    "name = ['Deepu','Sachin','Mehra','Anil','Chitu','Amit','Vikas']\n",
    "marks = [32,36,38,35,33,34,39]\n",
    "empty_list = []\n",
    "for i in range(len(name)):\n",
    "    empty_list.append([])\n",
    "#print(empty_list)\n",
    "    for j in range(1):\n",
    "        empty_list[i].append(name[i])\n",
    "# print(empty_list)\n",
    "    empty_list[i].append(marks[i])\n",
    "print(empty_list)    \n",
    "    "
   ]
  },
  {
   "cell_type": "markdown",
   "id": "7b38e319",
   "metadata": {},
   "source": [
    "# Nested list question"
   ]
  },
  {
   "cell_type": "markdown",
   "id": "df328d96",
   "metadata": {},
   "source": [
    "## How to take user input"
   ]
  },
  {
   "cell_type": "code",
   "execution_count": null,
   "id": "1ff873aa",
   "metadata": {},
   "outputs": [],
   "source": [
    "x = [] # creating empty boxes\n",
    "y = []\n",
    "for _ in range(int(input('Enter the no. of iteration: '))): # this is the syntax\n",
    "    name = input('Please enter name: ')\n",
    "    score = int(input('Please enter marks: '))\n",
    "    x.append(name) # will append what ever name you are entering in the list x\n",
    "    y.append(score) # will append what ever name you are entering in the list y\n",
    "print(x)\n",
    "print(y)\n",
    "# We will document this tomorrow "
   ]
  },
  {
   "cell_type": "markdown",
   "id": "0d4a3510",
   "metadata": {},
   "source": [
    "## lets created a nested list "
   ]
  },
  {
   "cell_type": "code",
   "execution_count": null,
   "id": "bc63d929",
   "metadata": {},
   "outputs": [],
   "source": [
    "x = ['a','b','c','d']\n",
    "y = [1,2,3,4]\n",
    "z = []\n",
    "for i in range(len(x)):\n",
    "    z.append([]) # we have created empty boxes, we will append elements in x and elements in y one after the other \n",
    "#     print(z)\n",
    "    for j in range(1):\n",
    "        z[i].append(x[i])# here we are appending x[i] that is first element of x in empty box z[i] in z\n",
    "#         print(z)\n",
    "    z[i].append(y[i])# now since we have appended \n",
    "print(z) "
   ]
  },
  {
   "cell_type": "markdown",
   "id": "6ab62a4f",
   "metadata": {},
   "source": [
    "# lets add a no. at first position using loop and built in insert function"
   ]
  },
  {
   "cell_type": "code",
   "execution_count": 1,
   "id": "ef510268",
   "metadata": {},
   "outputs": [
    {
     "name": "stdout",
     "output_type": "stream",
     "text": [
      "[4564, 1, 3, 5]\n"
     ]
    }
   ],
   "source": [
    "# Lets do it with the built in method first \n",
    "lis = [1,3,5]\n",
    "lis.insert(0,4564) # argument are index, the no. you want to add\n",
    "print(lis)"
   ]
  },
  {
   "cell_type": "code",
   "execution_count": 2,
   "id": "5aaa386d",
   "metadata": {},
   "outputs": [
    {
     "name": "stdout",
     "output_type": "stream",
     "text": [
      "Please enter the no. you want to add at first place: 78767\n",
      "[78767, 1, 3, 5]\n"
     ]
    }
   ],
   "source": [
    "# lets do it with the for loop \n",
    "val = int(input('Please enter the no. you want to add at first place: '))\n",
    "lis = [1,3,5]\n",
    "lisy = [] # creat an empty list and append the input val\n",
    "lisy.append(val)\n",
    "for i in range(len(lis)): # using range for index append all the elements in lis into lisy\n",
    "    lisy.append(lis[i])\n",
    "print(lisy)    "
   ]
  },
  {
   "cell_type": "code",
   "execution_count": 3,
   "id": "e06d0aa7",
   "metadata": {},
   "outputs": [],
   "source": [
    "# Next try adding an user defined no. at user defined index without using built in method"
   ]
  },
  {
   "cell_type": "code",
   "execution_count": 5,
   "id": "b28ab070",
   "metadata": {},
   "outputs": [
    {
     "name": "stdout",
     "output_type": "stream",
     "text": [
      "2447648187267529568\n"
     ]
    }
   ],
   "source": [
    "d='deepu'\n",
    "print(hash(d)) # returns a number this means its immutable"
   ]
  },
  {
   "cell_type": "code",
   "execution_count": 2,
   "id": "737df3c7",
   "metadata": {},
   "outputs": [
    {
     "name": "stdout",
     "output_type": "stream",
     "text": [
      "4\n"
     ]
    }
   ],
   "source": [
    "x = 4\n",
    "print(hash(x)) # return the variable assigned this means its mutable i.e int is mutable"
   ]
  },
  {
   "cell_type": "code",
   "execution_count": 7,
   "id": "84905e97",
   "metadata": {},
   "outputs": [
    {
     "name": "stdout",
     "output_type": "stream",
     "text": [
      "922337203685478404\n"
     ]
    }
   ],
   "source": [
    "x = 4.4\n",
    "print(hash(x)) #returns a number this means it is immutable "
   ]
  },
  {
   "cell_type": "code",
   "execution_count": 11,
   "id": "b8832acd",
   "metadata": {},
   "outputs": [
    {
     "name": "stdout",
     "output_type": "stream",
     "text": [
      "(1, 2, 3, 4)\n",
      "590899387183067792\n"
     ]
    }
   ],
   "source": [
    "l = [1,2,3,4]\n",
    "t = tuple(l)\n",
    "print(t)\n",
    "print(hash(t))"
   ]
  },
  {
   "cell_type": "code",
   "execution_count": 2,
   "id": "9946461b",
   "metadata": {},
   "outputs": [
    {
     "name": "stdout",
     "output_type": "stream",
     "text": [
      "['This', 'is', 'a', 'string']\n"
     ]
    }
   ],
   "source": [
    "x = 'This is a string'\n",
    "a=x.split(\" \")\n",
    "print(a)"
   ]
  },
  {
   "cell_type": "code",
   "execution_count": 4,
   "id": "d93a1e35",
   "metadata": {},
   "outputs": [
    {
     "name": "stdout",
     "output_type": "stream",
     "text": [
      "This-is-a-string\n"
     ]
    }
   ],
   "source": [
    "a = \"-\".join(a)\n",
    "print(a)\n"
   ]
  },
  {
   "cell_type": "code",
   "execution_count": 8,
   "id": "90683d4e",
   "metadata": {},
   "outputs": [
    {
     "name": "stdout",
     "output_type": "stream",
     "text": [
      "this is cool \n",
      "this is cool \n"
     ]
    }
   ],
   "source": [
    "line = str(input())\n",
    "string = line.split(\" \")\n",
    "hyphened_string=\" \".join(string)\n",
    "print(hyphened_string)"
   ]
  },
  {
   "cell_type": "code",
   "execution_count": 10,
   "id": "011b20a4",
   "metadata": {},
   "outputs": [
    {
     "data": {
      "text/plain": [
       "'d-e-e-p-u- -k-u-m-a-r'"
      ]
     },
     "execution_count": 10,
     "metadata": {},
     "output_type": "execute_result"
    }
   ],
   "source": [
    "x = 'deepu kumar'\n",
    "'-'.join(x)"
   ]
  },
  {
   "cell_type": "code",
   "execution_count": 12,
   "id": "f126739a",
   "metadata": {},
   "outputs": [
    {
     "data": {
      "text/plain": [
       "'1 2 3'"
      ]
     },
     "execution_count": 12,
     "metadata": {},
     "output_type": "execute_result"
    }
   ],
   "source": [
    "lis = ['1','2','3']\n",
    "' '.join(lis)"
   ]
  },
  {
   "cell_type": "code",
   "execution_count": 15,
   "id": "97e61ccc",
   "metadata": {},
   "outputs": [
    {
     "name": "stdout",
     "output_type": "stream",
     "text": [
      "this is us\n",
      "this-is-us\n"
     ]
    }
   ],
   "source": [
    "string = str(input())\n",
    "splity = string.split(' ')\n",
    "#print(splity)\n",
    "hypened_string='-'.join(splity)\n",
    "print(hypened_string)"
   ]
  },
  {
   "cell_type": "code",
   "execution_count": null,
   "id": "0d6b5bc1",
   "metadata": {},
   "outputs": [],
   "source": []
  },
  {
   "cell_type": "code",
   "execution_count": 8,
   "id": "9f1c9c10",
   "metadata": {},
   "outputs": [
    {
     "name": "stdout",
     "output_type": "stream",
     "text": [
      "['a', 'b', 'r', 'a', 'c', 'k', 'd', 'a', 'b', 'r', 'a']\n",
      "abrackdabra\n"
     ]
    }
   ],
   "source": [
    "s = 'abracadabra'\n",
    "y  = []\n",
    "for i in s:\n",
    "    y.append(i)\n",
    "y[5] = 'k'   \n",
    "print(y)\n",
    "z=''.join(y)\n",
    "print(z)"
   ]
  },
  {
   "cell_type": "code",
   "execution_count": null,
   "id": "8f169e27",
   "metadata": {},
   "outputs": [],
   "source": []
  }
 ],
 "metadata": {
  "kernelspec": {
   "display_name": "Python 3 (ipykernel)",
   "language": "python",
   "name": "python3"
  },
  "language_info": {
   "codemirror_mode": {
    "name": "ipython",
    "version": 3
   },
   "file_extension": ".py",
   "mimetype": "text/x-python",
   "name": "python",
   "nbconvert_exporter": "python",
   "pygments_lexer": "ipython3",
   "version": "3.9.12"
  }
 },
 "nbformat": 4,
 "nbformat_minor": 5
}
