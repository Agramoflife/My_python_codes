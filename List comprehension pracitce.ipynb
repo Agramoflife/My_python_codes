{
 "cells": [
  {
   "cell_type": "code",
   "execution_count": 8,
   "id": "86d5a172",
   "metadata": {},
   "outputs": [
    {
     "name": "stdout",
     "output_type": "stream",
     "text": [
      "[1, 4, 9, 16, 25, 36, 49, 64, 81, 100]\n"
     ]
    }
   ],
   "source": [
    "x = [1,2,3,4,5,6,7,8,9,10]\n",
    "squared_numbered = [number**2 for number in x] # write 1st - for numbers in x than the logic infornt of it i.e number** 2\n",
    "# write this part first - for iterator in iterable\n",
    "# write this part second - iterator ** 2\n",
    "# sum up in this for second part 1st, first part 2nd\n",
    "# iterator ** 2 for iterator in iterable\n",
    "# assign variable \n",
    "#call the function\n",
    "print(squared_numbered)"
   ]
  },
  {
   "cell_type": "code",
   "execution_count": 32,
   "id": "b8b63ea8",
   "metadata": {},
   "outputs": [
    {
     "name": "stdout",
     "output_type": "stream",
     "text": [
      "[1, 4, 9, 16, 25, 36, 49, 64, 81]\n",
      "CPU times: total: 0 ns\n",
      "Wall time: 0 ns\n"
     ]
    },
    {
     "data": {
      "text/plain": [
       "[1, 4, 9, 16, 25, 36, 49, 64, 81]"
      ]
     },
     "execution_count": 32,
     "metadata": {},
     "output_type": "execute_result"
    }
   ],
   "source": [
    "square=[i**2 for i in range(1,10)]\n",
    "print(square)\n",
    "\n",
    "# This is the list comprehensive way to write the code in one line \n",
    "# This is why it is also called as a one liner\n",
    "# what did we do\n",
    "# we combined the variable assigning part, the for loop part , the logic i.e i**2 part all in one\n",
    "# we are also saving on the append function\n",
    "# To use multiple line comment use \"\"\" comments \"\"\" I don't know why its not working here but works in other IDE\n"
   ]
  },
  {
   "cell_type": "code",
   "execution_count": 34,
   "id": "a1d1bcc3",
   "metadata": {},
   "outputs": [
    {
     "name": "stdout",
     "output_type": "stream",
     "text": [
      "[1, 4, 9, 16, 25, 36, 49, 64, 81, 100]\n",
      "CPU times: total: 0 ns\n",
      "Wall time: 0 ns\n"
     ]
    },
    {
     "data": {
      "text/plain": [
       "[1, 4, 9, 16, 25, 36, 49, 64, 81, 100]"
      ]
     },
     "execution_count": 34,
     "metadata": {},
     "output_type": "execute_result"
    }
   ],
   "source": [
    "number = range(1,11)\n",
    "empty_list_for_storing_squared_number = []\n",
    "for numb in number:\n",
    "    square = numb**2\n",
    "    empty_list_for_storing_squared_number.append(square)\n",
    "print(empty_list_for_storing_squared_number)\n",
    "\n",
    "# We used 5 line of code here whereas in the list comprehension it was done in one line of code\n",
    "# Hence they are elegant in nature and do calucation fast and helps save time"
   ]
  },
  {
   "cell_type": "markdown",
   "id": "eb97614d",
   "metadata": {},
   "source": [
    "### magic function \n"
   ]
  },
  {
   "cell_type": "code",
   "execution_count": 39,
   "id": "bca67774",
   "metadata": {},
   "outputs": [
    {
     "name": "stdout",
     "output_type": "stream",
     "text": [
      "CPU times: total: 0 ns\n",
      "Wall time: 0 ns\n",
      "[1, 4, 9, 16, 25, 36, 49, 64, 81, 100, 121, 144, 169, 196, 225, 256, 289, 324, 361, 400, 441, 484, 529, 576, 625, 676, 729, 784, 841, 900, 961, 1024, 1089, 1156, 1225, 1296, 1369, 1444, 1521, 1600, 1681, 1764, 1849, 1936, 2025, 2116, 2209, 2304, 2401]\n"
     ]
    }
   ],
   "source": [
    "# With the help of %time we can check the time taken by the interpreter to execute the code\n",
    "# %time is whitespace sensitive \n",
    "%time number = range(1,50)\n",
    "empty_list_for_storing_squared_number = []\n",
    "for numb in number:\n",
    "    square = numb**2\n",
    "    empty_list_for_storing_squared_number.append(square)\n",
    "print(empty_list_for_storing_squared_number)\n"
   ]
  },
  {
   "cell_type": "code",
   "execution_count": 42,
   "id": "243d3826",
   "metadata": {},
   "outputs": [
    {
     "name": "stdout",
     "output_type": "stream",
     "text": [
      "CPU times: total: 0 ns\n",
      "Wall time: 0 ns\n"
     ]
    },
    {
     "data": {
      "text/plain": [
       "[1, 4, 9, 16, 25, 36, 49, 64, 81]"
      ]
     },
     "execution_count": 42,
     "metadata": {},
     "output_type": "execute_result"
    }
   ],
   "source": [
    "%time [i**2 for i in range(1,10)]"
   ]
  },
  {
   "cell_type": "markdown",
   "id": "ac8d3ef7",
   "metadata": {},
   "source": []
  },
  {
   "cell_type": "markdown",
   "id": "01025f9b",
   "metadata": {},
   "source": [
    "# Now lets apply condition to list comprehension"
   ]
  },
  {
   "cell_type": "code",
   "execution_count": 45,
   "id": "42c0899a",
   "metadata": {},
   "outputs": [
    {
     "name": "stdout",
     "output_type": "stream",
     "text": [
      "[4, 16, 36, 64, 100, 144, 196, 256, 324, 400]\n"
     ]
    }
   ],
   "source": [
    "number_list=range(1,21)\n",
    "square_number=[numb**2 for numb in number_list if numb % 2 == 0]\n",
    "print(square_number)"
   ]
  },
  {
   "cell_type": "code",
   "execution_count": 50,
   "id": "62fe8f3f",
   "metadata": {},
   "outputs": [
    {
     "name": "stdout",
     "output_type": "stream",
     "text": [
      "[4, 16, 36, 64, 100, 144, 196, 256, 324, 400]\n"
     ]
    }
   ],
   "source": [
    "# The same code in normal condition\n",
    "number_list = range(1,21)\n",
    "empty_list_to_store_the_squared_number = []\n",
    "\n",
    "for numb in number_list:\n",
    "    if numb % 2 == 0:\n",
    "        square_number = numb**2\n",
    "        empty_list_to_store_the_squared_number.append(square_number)\n",
    "print(empty_list_to_store_the_squared_number)\n",
    "    \n",
    "#     else:\n",
    "#         print('I am just happy') # learn something frim this mistake it wise to do so "
   ]
  },
  {
   "cell_type": "markdown",
   "id": "53db594d",
   "metadata": {},
   "source": [
    "To understand the contition in list comprehesion follow the same step which you use during the normal code done above\n",
    "\n",
    "first wirte the for statement \n",
    "\n",
    "second write the if statement logic\n",
    "\n",
    "third wirte the iterator logic\n",
    "\n",
    "then arrange it\n",
    "\n",
    "first goes to 2nd position second goes to 3rd position third goes to 1st postition in the list comprehension"
   ]
  },
  {
   "cell_type": "markdown",
   "id": "5180a9cd",
   "metadata": {},
   "source": [
    "### list_comprehension = (iterator logic for loop intitation code if statement logic) "
   ]
  },
  {
   "cell_type": "code",
   "execution_count": 52,
   "id": "850ab37f",
   "metadata": {},
   "outputs": [
    {
     "name": "stdout",
     "output_type": "stream",
     "text": [
      "[1, 9, 25, 49, 81, 121, 169, 225, 289, 361]\n"
     ]
    }
   ],
   "source": [
    "odd_square = [numb ** 2 for numb in range(1,21) if numb % 2 != 0]\n",
    "print(odd_square)\n",
    "# list comprehension code for odd square no."
   ]
  },
  {
   "cell_type": "markdown",
   "id": "533b0a99",
   "metadata": {},
   "source": [
    "# list comprehension with if else condition\n"
   ]
  },
  {
   "cell_type": "code",
   "execution_count": 53,
   "id": "95a35058",
   "metadata": {},
   "outputs": [
    {
     "ename": "SyntaxError",
     "evalue": "invalid syntax (2209818530.py, line 3)",
     "output_type": "error",
     "traceback": [
      "\u001b[1;36m  Input \u001b[1;32mIn [53]\u001b[1;36m\u001b[0m\n\u001b[1;33m    list_comprehension = [numb**2 for numb in range(1,21) if numb % 2 == 0 else numb **3]\u001b[0m\n\u001b[1;37m                                                                           ^\u001b[0m\n\u001b[1;31mSyntaxError\u001b[0m\u001b[1;31m:\u001b[0m invalid syntax\n"
     ]
    }
   ],
   "source": [
    "# Well ideally if you are following the conpect you would presume that the else condition will be after the if in list \n",
    "# comprehension lets check for ourselfs\n",
    "list_comprehension = [numb**2 for numb in range(1,21) if numb % 2 == 0 else numb **3]"
   ]
  },
  {
   "cell_type": "code",
   "execution_count": 2,
   "id": "abdcc396",
   "metadata": {},
   "outputs": [
    {
     "name": "stdout",
     "output_type": "stream",
     "text": [
      "{1: 1, 3: 27, 5: 125, 7: 343, 9: 729, 11: 1331, 13: 2197, 15: 3375, 17: 4913, 19: 6859}\n",
      "{0: 0, 2: 4, 4: 16, 6: 36, 8: 64, 10: 100, 12: 144, 14: 196, 16: 256, 18: 324, 20: 400}\n"
     ]
    }
   ],
   "source": [
    "# So our presumption is wrong hence lets find the correct way of writing the if else condition in list comprehension form\n",
    "# lets just first write the steps involved to write the if else function\n",
    "numb_list = range(0,21)\n",
    "emp1 = []\n",
    "emp2 = []\n",
    "for number in numb_list:\n",
    "    if number % 2 == 0:\n",
    "        square = number ** 2\n",
    "        emp1.append(square)\n",
    "    \n",
    "       \n",
    "    else:\n",
    "        cube = number ** 3\n",
    "        emp2.append(cube)\n",
    "        #print(emp2)\n",
    "        \n",
    "\n",
    "#tot = emp1 + emp2\n",
    "emp3 = []\n",
    "for odd in range(1,21)[::2]:\n",
    "  emp3.append(odd)\n",
    "#print(emp3)\n",
    "\n",
    "\n",
    "emp4 = []\n",
    "for even in range(0,21)[::2]:\n",
    "  emp4.append(even)\n",
    "#print(emp4)  \n",
    "\n",
    "\n",
    "zipodd = dict(zip(emp3,emp2))\n",
    "print(zipodd)\n",
    "zipeven = dict(zip(emp4,emp1))\n",
    "print(zipeven)\n",
    "\n",
    "\n",
    "#after this step you will have to merge and than sort the dict and than pick the value elements and put it in a list \n",
    "# Your job will be done\n",
    "# I have to solve this code and optimize it as well\n",
    "# You fucking embicle , asshole why the fuck are you creating 4 empty list \n",
    "# You fucking piece of shit "
   ]
  },
  {
   "cell_type": "code",
   "execution_count": 3,
   "id": "14ee9718",
   "metadata": {},
   "outputs": [
    {
     "name": "stdout",
     "output_type": "stream",
     "text": [
      "[1, 4, 27, 16, 125, 36, 343, 64, 729, 100, 1331, 144, 2197, 196, 3375, 256, 4913, 324, 6859, 400]\n"
     ]
    }
   ],
   "source": [
    "# since we saw in the above code that there is so much of hassle to write this code \n",
    "# But by using the list comprehensive we could do this eaisly \n",
    "square_even_cube_odd = [number ** 2 if number % 2 == 0 else number ** 3 for number in range(1,21)]\n",
    "print(square_even_cube_odd)\n",
    "# You see why list comprehension is so elegant and time saving\n",
    "# How shall you write such code \n",
    "# easy \n",
    "# follow what you did in the above code\n",
    "# first start with the for condition\n",
    "# second write if condition \n",
    "# on the left of the if condition write (if satifys) if line of code\n",
    "# on the right of if write else condition \n",
    "# on the right of else condition wirte the else line of code \n",
    "# arrage \n",
    "#if line of code goes 1st followed by if condition than followed by else condition followed by else line of code and finaly \n",
    "# the for condition\n"
   ]
  },
  {
   "cell_type": "code",
   "execution_count": 2,
   "id": "8aad4845",
   "metadata": {},
   "outputs": [
    {
     "name": "stdout",
     "output_type": "stream",
     "text": [
      "[1, 4, 27, 16, 125, 36, 343, 64, 729, 100, 1331, 144, 2197, 196, 3375, 256, 4913, 324, 6859, 400]\n"
     ]
    }
   ],
   "source": [
    "# same code written in three different logic\n",
    "just for practice\n",
    "square_cube = [i ** 2 if i % 2 == 0 else i ** 3 for i in range(1,21)]\n",
    "print(square_cube)"
   ]
  },
  {
   "cell_type": "code",
   "execution_count": 5,
   "id": "a44d5ccb",
   "metadata": {},
   "outputs": [
    {
     "name": "stdout",
     "output_type": "stream",
     "text": [
      "[1, 4, 27, 16, 125, 36, 343, 64, 729, 100, 1331, 144, 2197, 196, 3375, 256, 4913, 324, 6859, 400]\n"
     ]
    }
   ],
   "source": [
    "#using two if code for even square and odd cube\n",
    "\n",
    "\n",
    "emptylist = []\n",
    "for number in range(1,21):\n",
    "    if number % 2 == 0:\n",
    "        square = number ** 2\n",
    "        emptylist.append(square)\n",
    "    \n",
    "    if number % 2 == 1:                #you can try nested here Do it in the upper if code block\n",
    "        cube = number ** 3\n",
    "        emptylist.append(cube)\n",
    "\n",
    "print(emptylist)        \n",
    "        \n",
    "    "
   ]
  },
  {
   "cell_type": "code",
   "execution_count": 9,
   "id": "d83841e1",
   "metadata": {},
   "outputs": [
    {
     "name": "stdout",
     "output_type": "stream",
     "text": [
      "[1]\n",
      "[1, 4, 27]\n",
      "[1, 4, 27, 16, 125]\n",
      "[1, 4, 27, 16, 125, 36, 343]\n",
      "[1, 4, 27, 16, 125, 36, 343, 64, 729]\n",
      "[1, 4, 27, 16, 125, 36, 343, 64, 729, 100, 1331]\n",
      "[1, 4, 27, 16, 125, 36, 343, 64, 729, 100, 1331, 144, 2197]\n",
      "[1, 4, 27, 16, 125, 36, 343, 64, 729, 100, 1331, 144, 2197, 196, 3375]\n",
      "[1, 4, 27, 16, 125, 36, 343, 64, 729, 100, 1331, 144, 2197, 196, 3375, 256, 4913]\n",
      "[1, 4, 27, 16, 125, 36, 343, 64, 729, 100, 1331, 144, 2197, 196, 3375, 256, 4913, 324, 6859]\n"
     ]
    }
   ],
   "source": [
    "emptylist = []\n",
    "for number in range(1,21):\n",
    "    if number % 2 == 0:\n",
    "        square = number ** 2\n",
    "        emptylist.append(square)\n",
    "    \n",
    "    else:\n",
    "        cube = number ** 3\n",
    "        emptylist.append(cube)\n",
    "        \n",
    "        print(emptylist) # I have to understand how this code works "
   ]
  },
  {
   "cell_type": "code",
   "execution_count": 2,
   "id": "8af62035",
   "metadata": {},
   "outputs": [
    {
     "name": "stdout",
     "output_type": "stream",
     "text": [
      "[1, 4, 27, 16, 125, 36, 343, 64, 729, 100, 1331, 144, 2197, 196, 3375, 256, 4913, 324, 6859, 400]\n"
     ]
    }
   ],
   "source": [
    "# square even cube odd code uisng if elif\n",
    "empty_list = []\n",
    "for numb in range(1,21):\n",
    "    if numb % 2 == 0:\n",
    "        square = numb**2\n",
    "        empty_list.append(square)\n",
    "    \n",
    "    elif numb % 2 != 0:\n",
    "        cube = numb ** 3\n",
    "        empty_list.append(cube)\n",
    "print(empty_list) \n",
    "\n",
    "# All this code can be converted in oneliner by list comprehension method "
   ]
  },
  {
   "cell_type": "markdown",
   "id": "65b1978f",
   "metadata": {},
   "source": [
    "Q. What is a predicate in list comprehension ?\n",
    "\n",
    "Ans. A predicate is a fuction that always returns true or false by performing some condition operations in a filter method\n",
    "example - the part = \" if number % 2 == 0 \" is predicate in the list comprehension "
   ]
  },
  {
   "cell_type": "code",
   "execution_count": 5,
   "id": "b77c5dab",
   "metadata": {},
   "outputs": [
    {
     "name": "stdout",
     "output_type": "stream",
     "text": [
      "0\n",
      "0\n",
      "0\n",
      "1\n",
      "0\n",
      "2\n",
      "1\n",
      "0\n",
      "1\n",
      "1\n",
      "1\n",
      "2\n",
      "2\n",
      "0\n",
      "2\n",
      "1\n",
      "2\n",
      "2\n",
      "3\n",
      "0\n",
      "3\n",
      "1\n",
      "3\n",
      "2\n"
     ]
    }
   ],
   "source": [
    "for numb1 in range(0,4):\n",
    "    for numb2 in range(0,3):\n",
    "        print(numb1)\n",
    "        \n",
    "        print(numb2)"
   ]
  },
  {
   "cell_type": "markdown",
   "id": "ee73259c",
   "metadata": {},
   "source": [
    "# list comprehension for nested for "
   ]
  },
  {
   "cell_type": "markdown",
   "id": "0501eafb",
   "metadata": {},
   "source": [
    "**Lets learn how to create a nested list using for loop**"
   ]
  },
  {
   "cell_type": "code",
   "execution_count": 3,
   "id": "f16f6067",
   "metadata": {},
   "outputs": [
    {
     "name": "stdout",
     "output_type": "stream",
     "text": [
      "[[0, 1, 2, 3, 4, 5], [0, 1, 2, 3, 4, 5], [0, 1, 2, 3, 4, 5], [0, 1, 2, 3, 4, 5]]\n"
     ]
    }
   ],
   "source": [
    "#creating an empty box first\n",
    "box = []\n",
    "\n",
    "#running loop to create 4 empty box in the parent box\n",
    "for i in range(4):\n",
    "    box.append([]) # this is just telling the loop that you have to do 4 iteration and in that iteration you have to put 4 empty\n",
    "                   # boxes in the parent box\n",
    "        \n",
    "    for j in range(6): # defining how many number you want to put in box\n",
    "        box[i].append(j) # iteration on the box sequence\n",
    "print(box)        "
   ]
  },
  {
   "cell_type": "code",
   "execution_count": 2,
   "id": "779452b8",
   "metadata": {},
   "outputs": [
    {
     "name": "stdout",
     "output_type": "stream",
     "text": [
      "[[0, 0, 0], [1, 1, 1], [2, 2, 2], [3, 3, 3]]\n"
     ]
    }
   ],
   "source": [
    "# we will first do it with normal for loop\n",
    "empty = [] # define an empty list before hand \n",
    "for numb1 in range(4): # there will be 4 ieration process\n",
    "    empty.append([]) # there will be 4 empty list append in the 'empty' list already defined in the above line \n",
    "    \n",
    "    for numb2 in range(3):\n",
    "        empty[numb1].append(numb1) # now [[][][][]] we are append numb1 in empty list whose index value is 0,1,2,3 this can be done as the list is empty \n",
    "        # empty[numb1].append(numb2)\n",
    "        \n",
    "print(empty)    \n",
    "    "
   ]
  },
  {
   "cell_type": "code",
   "execution_count": 3,
   "id": "1044e3d9",
   "metadata": {},
   "outputs": [
    {
     "name": "stdout",
     "output_type": "stream",
     "text": [
      "[[0, 0, 0], [1, 1, 1], [2, 2, 2], [3, 3, 3]]\n"
     ]
    }
   ],
   "source": [
    "# same code using list comprehension\n",
    "empty = [[numb1 for numb2 in range(3)]for numb1 in range(4)]\n",
    "print(empty)\n",
    "# same output with one liner"
   ]
  },
  {
   "cell_type": "raw",
   "id": "570b9f5a",
   "metadata": {},
   "source": [
    "Lets break the syntax of the above code \n",
    "empty = [[] for i in range(4)] ---- as we know the out put is on the right hand side of the for so this will create 4 [] empty boxes this is similar to writing [i for i in range(4)] which we give out put as values range in iterative terms i.e i\n",
    "\n",
    "Now as we have empty box lets try to add values in it how can we do that it is simple by running a list compreshion again"
   ]
  },
  {
   "cell_type": "code",
   "execution_count": 11,
   "id": "97dd7e4f",
   "metadata": {},
   "outputs": [
    {
     "name": "stdout",
     "output_type": "stream",
     "text": [
      "[[], [], [], []]\n"
     ]
    }
   ],
   "source": [
    "# creating empty box\n",
    "empty_box = [ [] for i in range(4) ]\n",
    "print(empty_box)"
   ]
  },
  {
   "cell_type": "code",
   "execution_count": 8,
   "id": "2c946977",
   "metadata": {},
   "outputs": [
    {
     "name": "stdout",
     "output_type": "stream",
     "text": [
      "[[0, 1, 2], [0, 1, 2], [0, 1, 2], [0, 1, 2]]\n"
     ]
    }
   ],
   "source": [
    "valued = [ [ j for j in range(3)] for i in range(4)] # this will have j values in the empty boxes\n",
    "print(valued)"
   ]
  },
  {
   "cell_type": "markdown",
   "id": "7636a2d3",
   "metadata": {},
   "source": [
    "### with every iteration  we are  appending  values in list as it is mutable we do have that luxury"
   ]
  },
  {
   "cell_type": "markdown",
   "id": "ee408e3f",
   "metadata": {},
   "source": [
    "**NOTE:The nested loop flow in list comprehension follow the same path as a regular nested loop that is the parent loop comes first then comes the child loop**"
   ]
  },
  {
   "cell_type": "code",
   "execution_count": 9,
   "id": "9e505da1",
   "metadata": {},
   "outputs": [
    {
     "name": "stdout",
     "output_type": "stream",
     "text": [
      "[(0, 0, 0), (0, 0, 1), (0, 1, 0), (0, 1, 1), (1, 0, 0), (1, 0, 1), (1, 1, 0), (1, 1, 1)]\n"
     ]
    },
    {
     "data": {
      "text/plain": [
       "tuple"
      ]
     },
     "execution_count": 9,
     "metadata": {},
     "output_type": "execute_result"
    }
   ],
   "source": [
    "# what if you want to write 3 nested loop and want output as i,j,k lets write a code for it\n",
    "_3nested = [(i,j,k) for i in range(2) for j in range(2) for k in range(2)]\n",
    "print(_3nested)\n",
    "type(_3nested[0])"
   ]
  },
  {
   "cell_type": "markdown",
   "id": "750b4473",
   "metadata": {},
   "source": [
    "### with every iteration we are creating new tuple we are not appending any values in tuple a it is immutable we don't have that luxury"
   ]
  },
  {
   "cell_type": "markdown",
   "id": "760245a6",
   "metadata": {},
   "source": [
    "# string comprehension\n",
    "\n"
   ]
  },
  {
   "cell_type": "code",
   "execution_count": 14,
   "id": "65f6705d",
   "metadata": {},
   "outputs": [
    {
     "name": "stdout",
     "output_type": "stream",
     "text": [
      "['I have left every thing on God', ' I love what I am doing']\n"
     ]
    }
   ],
   "source": [
    "# code to test deliminter \n",
    "string = 'I have left every thing on God, I love what I am doing'\n",
    "print(string.split(','))"
   ]
  },
  {
   "cell_type": "code",
   "execution_count": 5,
   "id": "4a3a57d4",
   "metadata": {},
   "outputs": [
    {
     "name": "stdout",
     "output_type": "stream",
     "text": [
      "['I', 'a', 'e', 'i', 'a', 'b']\n"
     ]
    }
   ],
   "source": [
    "# code using loops\n",
    "string = 'I am enrolled in alma better '\n",
    "empty = []\n",
    "for word in string.split():\n",
    "    empty.append(word[0]) # here we are just appending the first letter of the iterator \n",
    "print(empty)    "
   ]
  },
  {
   "cell_type": "code",
   "execution_count": 7,
   "id": "bf0c87ba",
   "metadata": {},
   "outputs": [
    {
     "name": "stdout",
     "output_type": "stream",
     "text": [
      "['I', 'a', 'e', 'i', 'a', 'b']\n"
     ]
    }
   ],
   "source": [
    "#code using string comprehension\n",
    "string = 'I am enrolled in alma better'\n",
    "empty = [word[0] for word in string.split()] # follows the same writing flow \n",
    "print(empty)"
   ]
  },
  {
   "cell_type": "code",
   "execution_count": 11,
   "id": "a17ef458",
   "metadata": {},
   "outputs": [
    {
     "name": "stdout",
     "output_type": "stream",
     "text": [
      "['A', 'l', 'p', 'h', 'a', 'b', 'e', 't', ' ', 'I', 'n', 'c']\n"
     ]
    }
   ],
   "source": [
    "# using loop\n",
    "my_string = 'Alphabet Inc'\n",
    "empty = [i for i in my_string]\n",
    "print(empty)\n"
   ]
  },
  {
   "cell_type": "code",
   "execution_count": 10,
   "id": "b25442ae",
   "metadata": {},
   "outputs": [
    {
     "name": "stdout",
     "output_type": "stream",
     "text": [
      "['A', 'l', 'p', 'h', 'a', 'b', 'e', 't', ' ', 'I', 'n', 'c']\n"
     ]
    }
   ],
   "source": [
    "# using string comprehension\n",
    "my_string = 'Alphabet Inc'\n",
    "empty_list = []\n",
    "for i in my_string:\n",
    "    empty_list.append(i)\n",
    "print(empty_list)    "
   ]
  },
  {
   "cell_type": "code",
   "execution_count": 12,
   "id": "e215c983",
   "metadata": {},
   "outputs": [
    {
     "name": "stdout",
     "output_type": "stream",
     "text": [
      "['My', 'name', 'is', 'deepu']\n"
     ]
    }
   ],
   "source": [
    "# testing the delimiter \n",
    "x = 'My name is deepu'\n",
    "print(x.split(' '))\n",
    "# success "
   ]
  },
  {
   "cell_type": "code",
   "execution_count": 13,
   "id": "d677942f",
   "metadata": {},
   "outputs": [
    {
     "name": "stdout",
     "output_type": "stream",
     "text": [
      "{'deepu'}\n"
     ]
    }
   ],
   "source": [
    "set = {'deepu','deepu'}\n",
    "print(set)"
   ]
  },
  {
   "cell_type": "code",
   "execution_count": 15,
   "id": "93a1abbb",
   "metadata": {},
   "outputs": [
    {
     "name": "stdout",
     "output_type": "stream",
     "text": [
      "['I', 'c', 't', 'e', 'w', 'm', 'N', 'y', 'c', 'd', 'k', 'w', 'y', 't', 't', 's', 'l', 'm', 'c', 'y', 'i', 'I', 'a', 'n', 'i', 'd', 'S', 'I', 'a', 't', 'd']\n"
     ]
    }
   ],
   "source": [
    "# Same problem different solution\n",
    "\n",
    "x = \"It ceases to exist without me. No, you clearly don't know who you're talking to, so let me clue you in. I am not in danger, Skyler. I am the danger.\"\n",
    "first_letters = []\n",
    "for i in range(len(x.split(' '))):\n",
    "    first_letters.append(x.split(' ')[i][0])\n",
    "print(first_letters) "
   ]
  },
  {
   "cell_type": "code",
   "execution_count": 16,
   "id": "08a2ae20",
   "metadata": {},
   "outputs": [
    {
     "name": "stdout",
     "output_type": "stream",
     "text": [
      "['I', 'c', 't', 'e', 'w', 'm', 'N', 'y', 'c', 'd', 'k', 'w', 'y', 't', 't', 's', 'l', 'm', 'c', 'y', 'i', 'I', 'a', 'n', 'i', 'd', 'S', 'I', 'a', 't', 'd', 'I', 'c', 't', 'e', 'w', 'm', 'N', 'y', 'c', 'd', 'k', 'w', 'y', 't', 't', 's', 'l', 'm', 'c', 'y', 'i', 'I', 'a', 'n', 'i', 'd', 'S', 'I', 'a', 't', 'd']\n"
     ]
    }
   ],
   "source": [
    "# method 2\n",
    "words_by_walter = x.split(' ')\n",
    "for word in words_by_walter:\n",
    "    first_letters.append(word[0])\n",
    "print(first_letters)"
   ]
  },
  {
   "cell_type": "code",
   "execution_count": 18,
   "id": "fe1f538d",
   "metadata": {},
   "outputs": [
    {
     "name": "stdout",
     "output_type": "stream",
     "text": [
      "['I', 'c', 't', 'e', 'w', 'm', 'N', 'y', 'c', 'd', 'k', 'w', 'y', 't', 't', 's', 'l', 'm', 'c', 'y', 'i', 'I', 'a', 'n', 'i', 'd', 'S', 'I', 'a', 't', 'd']\n"
     ]
    }
   ],
   "source": [
    "# method 3 via list comprehension\n",
    "walter = [word[0] for word in words_by_walter]\n",
    "print(walter)"
   ]
  },
  {
   "cell_type": "markdown",
   "id": "b5f69a11",
   "metadata": {},
   "source": [
    "# Tuple comprehension "
   ]
  },
  {
   "cell_type": "markdown",
   "id": "e1781731",
   "metadata": {},
   "source": [
    "## We are basically creating a list comprehesion and converting it into tuple comprehension"
   ]
  },
  {
   "cell_type": "code",
   "execution_count": null,
   "id": "e048736c",
   "metadata": {},
   "outputs": [],
   "source": [
    "This is agains similar to zip i am talking about constructors here "
   ]
  },
  {
   "cell_type": "code",
   "execution_count": 10,
   "id": "87e1cc46",
   "metadata": {},
   "outputs": [
    {
     "name": "stdout",
     "output_type": "stream",
     "text": [
      "('Monday', 'Tuesday', 'Wednesday', 'Thursday', 'Friday', 'Saturday', 'Sunday')\n"
     ]
    }
   ],
   "source": [
    "# tuple comprehension\n",
    "# Note: For tuple comprehension the code is encoded in curve brackets and tuple is written afore curve brackets  \n",
    "# becasue curve brackets represents function hence to avoid confusion we write tuple afore curve brackets \n",
    "days = ('Monday','Tuesday','Wednesday','Thursday','Friday','Saturday','Sunday') \n",
    "empty_tuple=tuple(day for day in days) \n",
    "print(empty_tuple)"
   ]
  },
  {
   "cell_type": "code",
   "execution_count": 2,
   "id": "4a73ecc2",
   "metadata": {},
   "outputs": [
    {
     "name": "stdout",
     "output_type": "stream",
     "text": [
      "Monda\n"
     ]
    }
   ],
   "source": [
    "x = 'Monday'\n",
    "print(x[:-1]) # direction is positive here(left to right). It is wise to use posititve values in positive direction "
   ]
  },
  {
   "cell_type": "code",
   "execution_count": 8,
   "id": "615db382",
   "metadata": {},
   "outputs": [
    {
     "name": "stdout",
     "output_type": "stream",
     "text": [
      "oM\n"
     ]
    }
   ],
   "source": [
    "x = 'Monday'\n",
    "print(x[1::-1]) # the step defines the direction of the slicing negative means form right to left and positive vice versa"
   ]
  },
  {
   "cell_type": "code",
   "execution_count": 21,
   "id": "5162d859",
   "metadata": {},
   "outputs": [
    {
     "name": "stdout",
     "output_type": "stream",
     "text": [
      "('Mon', 'Tues', 'Wednes', 'Thurs', 'Fri', 'Satur', 'Sun')\n"
     ]
    }
   ],
   "source": [
    "days = ('Monday', 'Tuesday', 'Wednesday', 'Thursday', 'Friday', 'Saturday', 'Sunday')\n",
    "empty_tuple = tuple(day[:-3]for day in days) # Now here in day[:3] - we have set the direction to be positive and since we want\n",
    "#to eliminate the last three we took - index as the last 3 are same and -3 will be same and converted in positive index by \n",
    "#python to respective positive to do slicing if we use positive index than it would be a vairable as it would change for all \n",
    "#items \n",
    "print(empty_tuple)"
   ]
  },
  {
   "cell_type": "code",
   "execution_count": 24,
   "id": "3a3780c9",
   "metadata": {},
   "outputs": [
    {
     "name": "stdout",
     "output_type": "stream",
     "text": [
      "<generator object <genexpr> at 0x0000014278534EB0>\n"
     ]
    }
   ],
   "source": [
    "sliced = (word[:-3] for word in days)\n",
    "print(sliced)\n",
    "# you will have to convert it into tuple \n",
    "# this is what I meant when I said it is similar to list"
   ]
  },
  {
   "cell_type": "markdown",
   "id": "edbb45ee",
   "metadata": {},
   "source": [
    "# Set comprehension "
   ]
  },
  {
   "cell_type": "code",
   "execution_count": 14,
   "id": "3684f609",
   "metadata": {},
   "outputs": [
    {
     "name": "stdout",
     "output_type": "stream",
     "text": [
      "<class 'set'>\n",
      "{'purpose', 'you', 'no', 'its', 'There', 'to', 'who', 'life', 'defines', 'is'}\n"
     ]
    }
   ],
   "source": [
    "# code for set in loops \n",
    "# Note - there is no append method in set hence we use add method instead of append \n",
    "\n",
    "Set = ['There' , 'is', 'no', 'purpose', 'to', 'life', 'its', 'you', 'who', 'defines', 'purpose']\n",
    "print(type(Set))\n",
    "\n",
    "empty = set()\n",
    "for word in Set:\n",
    "    empty.add(word)\n",
    "    #empty.add(word[0]) you can use it to get only the first letter of the words\n",
    "print(empty)    \n"
   ]
  },
  {
   "cell_type": "code",
   "execution_count": null,
   "id": "c9878dd6",
   "metadata": {},
   "outputs": [],
   "source": [
    "list = [3,2,1,5,6,7,8,87]\n",
    "print(set(list)) # Order of the set is not preserved and is arranged in assending order"
   ]
  },
  {
   "cell_type": "code",
   "execution_count": 18,
   "id": "69b12cd2",
   "metadata": {},
   "outputs": [
    {
     "name": "stdout",
     "output_type": "stream",
     "text": [
      "{'purpose', 'you', 'no', 'its', 'There', 'to', 'who', 'life', 'defines', 'is'}\n",
      "{'y', 'd', 't', 'i', 'w', 'T', 'l', 'p', 'n'}\n"
     ]
    }
   ],
   "source": [
    "# code using set comprehension\n",
    "\n",
    "undata = ['There' , 'is', 'no', 'purpose', 'to', 'life', 'its', 'you', 'who', 'defines', 'purpose']\n",
    "empty = {word for word in undata} \n",
    "empty1 = {word[0] for word in undata} # gives your the first letter of the words \n",
    "\n",
    "print(empty)\n",
    "print(empty1)"
   ]
  },
  {
   "cell_type": "markdown",
   "id": "8eab7a44",
   "metadata": {},
   "source": [
    "# Dictonary comprehension\n",
    "### We can also flip the key and values in the dictonary "
   ]
  },
  {
   "cell_type": "code",
   "execution_count": 22,
   "id": "0697a396",
   "metadata": {},
   "outputs": [
    {
     "name": "stdout",
     "output_type": "stream",
     "text": [
      "{'New Delhi': 'India', 'Lahore': 'Pakistan', 'Dhaka': 'Bangladesh', 'Colombo': 'Sri lanka', 'Kathmandu': 'Nepal', 'naypyidaw': 'Mynmar'}\n"
     ]
    }
   ],
   "source": [
    "# flip using loop\n",
    "stcap={'India':'New Delhi','Pakistan':'Lahore','Bangladesh':'Dhaka','Sri lanka':'Colombo','Nepal':'Kathmandu', \\\n",
    "       'Mynmar':'naypyidaw'}\n",
    "empty = {}\n",
    "for country,city in stcap.items():\n",
    "    empty[city]=country\n",
    "print(empty)    \n"
   ]
  },
  {
   "cell_type": "code",
   "execution_count": 25,
   "id": "66a24f39",
   "metadata": {},
   "outputs": [
    {
     "name": "stdout",
     "output_type": "stream",
     "text": [
      "{'India': 'New Delhi', 'Pakistan': 'Lahore', 'Bangladesh': 'Dhaka', 'Sri lanka': 'Colombo', 'Nepal': 'Kathmandu', 'Mynmar': 'naypyidaw'}\n",
      "{'New Delhi': 'India', 'Lahore': 'Pakistan', 'Dhaka': 'Bangladesh', 'Colombo': 'Sri lanka', 'Kathmandu': 'Nepal', 'naypyidaw': 'Mynmar'}\n"
     ]
    }
   ],
   "source": [
    "empty = {country:city for country, city in stcap.items()}\n",
    "print(empty)\n",
    "empty_re = {city:country for country, city in stcap.items()}\n",
    "print(empty_re)"
   ]
  },
  {
   "cell_type": "code",
   "execution_count": 1,
   "id": "2af519b2",
   "metadata": {},
   "outputs": [
    {
     "name": "stdout",
     "output_type": "stream",
     "text": [
      "{'N': 'I', 'L': 'P', 'D': 'B', 'C': 'S', 'K': 'N', 'n': 'M'}\n"
     ]
    }
   ],
   "source": [
    "stcap={'India':'New Delhi','Pakistan':'Lahore','Bangladesh':'Dhaka','Sri lanka':'Colombo','Nepal':'Kathmandu', \\\n",
    "       'Mynmar':'naypyidaw'}\n",
    "empty_dict = {}\n",
    "for country, city in stcap.items():\n",
    "    empty_dict[city[0]] = country[0] #\n",
    "print(empty_dict)    \n",
    "    \n",
    "    "
   ]
  },
  {
   "cell_type": "code",
   "execution_count": 26,
   "id": "ce64ac91",
   "metadata": {},
   "outputs": [
    {
     "name": "stdout",
     "output_type": "stream",
     "text": [
      "{1: 'a', 2: 'b', 3: 'c', 4: 'd', 5: 'e'}\n",
      "{'a': 1, 'b': 2, 'c': 3, 'd': 4, 'e': 5}\n"
     ]
    }
   ],
   "source": [
    "# You can also flip vales like this\n",
    "x = (1,2,3,4,5)\n",
    "y = ('a','b','c','d','e')\n",
    "dicty = dict(zip(x,y))\n",
    "print(dicty)\n",
    "m = []\n",
    "for i,j in dicty.items():\n",
    "    e = (j,i)\n",
    "    m.append(e)\n",
    "print(dict(m))  "
   ]
  },
  {
   "cell_type": "code",
   "execution_count": null,
   "id": "ed377eb1",
   "metadata": {},
   "outputs": [],
   "source": []
  }
 ],
 "metadata": {
  "kernelspec": {
   "display_name": "Python 3 (ipykernel)",
   "language": "python",
   "name": "python3"
  },
  "language_info": {
   "codemirror_mode": {
    "name": "ipython",
    "version": 3
   },
   "file_extension": ".py",
   "mimetype": "text/x-python",
   "name": "python",
   "nbconvert_exporter": "python",
   "pygments_lexer": "ipython3",
   "version": "3.9.12"
  }
 },
 "nbformat": 4,
 "nbformat_minor": 5
}
