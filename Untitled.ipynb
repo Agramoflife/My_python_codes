{
 "cells": [
  {
   "cell_type": "code",
   "execution_count": 1,
   "id": "5a2fbd44",
   "metadata": {},
   "outputs": [],
   "source": [
    "import numpy as deepu "
   ]
  },
  {
   "cell_type": "code",
   "execution_count": 3,
   "id": "ad39a6b8",
   "metadata": {},
   "outputs": [
    {
     "data": {
      "text/plain": [
       "numpy.ndarray"
      ]
     },
     "execution_count": 3,
     "metadata": {},
     "output_type": "execute_result"
    }
   ],
   "source": [
    "type(deepu.array([1,2,3]))"
   ]
  },
  {
   "cell_type": "code",
   "execution_count": 16,
   "id": "527dfd6f",
   "metadata": {},
   "outputs": [],
   "source": [
    "import numpy as np"
   ]
  },
  {
   "cell_type": "code",
   "execution_count": 5,
   "id": "efcfb954",
   "metadata": {},
   "outputs": [],
   "source": [
    "array = np.array([1,2,3,4,5])"
   ]
  },
  {
   "cell_type": "code",
   "execution_count": 6,
   "id": "163a0942",
   "metadata": {},
   "outputs": [
    {
     "name": "stdout",
     "output_type": "stream",
     "text": [
      "[1 2 3 4 5]\n"
     ]
    }
   ],
   "source": [
    "print(array)"
   ]
  },
  {
   "cell_type": "code",
   "execution_count": 30,
   "id": "ad9564b2",
   "metadata": {},
   "outputs": [
    {
     "name": "stdout",
     "output_type": "stream",
     "text": [
      "[[4, 3, 2], [4, 3, 2], [4, 3, 2], [4, 3, 2]]\n",
      "[[4 3 2]\n",
      " [4 3 2]\n",
      " [4 3 2]\n",
      " [4 3 2]]\n"
     ]
    }
   ],
   "source": [
    "y = []\n",
    "for i in range(4):\n",
    "    y.append([])\n",
    "    for j in range(4,1,-1):\n",
    "        y[i].append(j)\n",
    "print(y)\n",
    "array3d = np.array(y)\n",
    "print(array3d)"
   ]
  },
  {
   "cell_type": "code",
   "execution_count": 32,
   "id": "15aee025",
   "metadata": {},
   "outputs": [
    {
     "name": "stdout",
     "output_type": "stream",
     "text": [
      "[9]\n"
     ]
    }
   ],
   "source": [
    "print(np.array([9]))"
   ]
  },
  {
   "cell_type": "code",
   "execution_count": 33,
   "id": "4af08a76",
   "metadata": {},
   "outputs": [
    {
     "data": {
      "text/plain": [
       "3"
      ]
     },
     "execution_count": 33,
     "metadata": {},
     "output_type": "execute_result"
    }
   ],
   "source": [
    "np.add(1,2)"
   ]
  },
  {
   "cell_type": "code",
   "execution_count": 34,
   "id": "8eb1303f",
   "metadata": {},
   "outputs": [
    {
     "data": {
      "text/plain": [
       "array([2, 4, 6, 8])"
      ]
     },
     "execution_count": 34,
     "metadata": {},
     "output_type": "execute_result"
    }
   ],
   "source": [
    "lis1 = [1,2,3,4]\n",
    "lis2 = [1,2,3,4]\n",
    "np.add(lis1,lis2)"
   ]
  },
  {
   "cell_type": "code",
   "execution_count": 35,
   "id": "91110d53",
   "metadata": {},
   "outputs": [
    {
     "data": {
      "text/plain": [
       "array([3, 4, 5])"
      ]
     },
     "execution_count": 35,
     "metadata": {},
     "output_type": "execute_result"
    }
   ],
   "source": [
    "lis1 = [1,2,3]\n",
    "lis = 2\n",
    "np.add(lis1,lis)"
   ]
  },
  {
   "cell_type": "code",
   "execution_count": 36,
   "id": "9609dc5b",
   "metadata": {},
   "outputs": [
    {
     "data": {
      "text/plain": [
       "[1, 2, 3]"
      ]
     },
     "execution_count": 36,
     "metadata": {},
     "output_type": "execute_result"
    }
   ],
   "source": [
    "lis1"
   ]
  },
  {
   "cell_type": "code",
   "execution_count": 37,
   "id": "7415b48d",
   "metadata": {},
   "outputs": [
    {
     "data": {
      "text/plain": [
       "[1, 2, 3, 4]"
      ]
     },
     "execution_count": 37,
     "metadata": {},
     "output_type": "execute_result"
    }
   ],
   "source": [
    "lis2"
   ]
  },
  {
   "cell_type": "code",
   "execution_count": 38,
   "id": "1627009a",
   "metadata": {},
   "outputs": [],
   "source": [
    "del lis1"
   ]
  },
  {
   "cell_type": "code",
   "execution_count": 39,
   "id": "f4a267c0",
   "metadata": {},
   "outputs": [],
   "source": [
    "del lis2"
   ]
  },
  {
   "cell_type": "code",
   "execution_count": 40,
   "id": "4698a9b1",
   "metadata": {},
   "outputs": [],
   "source": [
    "lis1 = [1,2,3,4]\n",
    "lis2 = [1,2,3,4]\n",
    "lis3 = lis1 + lis2"
   ]
  },
  {
   "cell_type": "code",
   "execution_count": 41,
   "id": "d9ab070c",
   "metadata": {},
   "outputs": [
    {
     "data": {
      "text/plain": [
       "[1, 2, 3, 4, 1, 2, 3, 4]"
      ]
     },
     "execution_count": 41,
     "metadata": {},
     "output_type": "execute_result"
    }
   ],
   "source": [
    "lis3"
   ]
  },
  {
   "cell_type": "code",
   "execution_count": 42,
   "id": "17f77d39",
   "metadata": {},
   "outputs": [
    {
     "ename": "AttributeError",
     "evalue": "'list' object has no attribute 'add'",
     "output_type": "error",
     "traceback": [
      "\u001b[1;31m---------------------------------------------------------------------------\u001b[0m",
      "\u001b[1;31mAttributeError\u001b[0m                            Traceback (most recent call last)",
      "Input \u001b[1;32mIn [42]\u001b[0m, in \u001b[0;36m<cell line: 1>\u001b[1;34m()\u001b[0m\n\u001b[1;32m----> 1\u001b[0m \u001b[43mlis1\u001b[49m\u001b[38;5;241;43m.\u001b[39;49m\u001b[43madd\u001b[49m(lis2)\n",
      "\u001b[1;31mAttributeError\u001b[0m: 'list' object has no attribute 'add'"
     ]
    }
   ],
   "source": [
    "lis1.add(lis2)"
   ]
  },
  {
   "cell_type": "code",
   "execution_count": 43,
   "id": "b8c017fd",
   "metadata": {},
   "outputs": [
    {
     "ename": "SyntaxError",
     "evalue": "invalid syntax (3978248298.py, line 1)",
     "output_type": "error",
     "traceback": [
      "\u001b[1;36m  Input \u001b[1;32mIn [43]\u001b[1;36m\u001b[0m\n\u001b[1;33m    So addition in numpy is done using broadcasting\u001b[0m\n\u001b[1;37m       ^\u001b[0m\n\u001b[1;31mSyntaxError\u001b[0m\u001b[1;31m:\u001b[0m invalid syntax\n"
     ]
    }
   ],
   "source": [
    "So addition in numpy is done using broadcasting "
   ]
  },
  {
   "cell_type": "code",
   "execution_count": 45,
   "id": "bfd3794e",
   "metadata": {},
   "outputs": [
    {
     "name": "stdout",
     "output_type": "stream",
     "text": [
      "[2, 4, 6, 8]\n"
     ]
    }
   ],
   "source": [
    "sum_lis = []\n",
    "for i,j in zip(lis1,lis2):\n",
    "    z = i+j\n",
    "    sum_lis.append(z)\n",
    "print(sum_lis)    "
   ]
  },
  {
   "cell_type": "markdown",
   "id": "3d588d71",
   "metadata": {},
   "source": [
    "so above can be done using broadcasting "
   ]
  },
  {
   "cell_type": "code",
   "execution_count": 51,
   "id": "4f93646f",
   "metadata": {},
   "outputs": [
    {
     "name": "stdout",
     "output_type": "stream",
     "text": [
      "[2 4 6 8]\n"
     ]
    }
   ],
   "source": [
    "array1 = np.array(lis1)\n",
    "array2 = np.array(lis2)\n",
    "array3 = np.add(array1,array2)\n",
    "print(array3)"
   ]
  },
  {
   "cell_type": "code",
   "execution_count": 55,
   "id": "f0ccb3ed",
   "metadata": {},
   "outputs": [
    {
     "data": {
      "text/plain": [
       "1"
      ]
     },
     "execution_count": 55,
     "metadata": {},
     "output_type": "execute_result"
    }
   ],
   "source": [
    "array1.ndim"
   ]
  },
  {
   "cell_type": "code",
   "execution_count": 56,
   "id": "dac7612c",
   "metadata": {},
   "outputs": [
    {
     "data": {
      "text/plain": [
       "(4,)"
      ]
     },
     "execution_count": 56,
     "metadata": {},
     "output_type": "execute_result"
    }
   ],
   "source": [
    "array1.shape"
   ]
  },
  {
   "cell_type": "code",
   "execution_count": 58,
   "id": "4b8683b9",
   "metadata": {},
   "outputs": [
    {
     "data": {
      "text/plain": [
       "0"
      ]
     },
     "execution_count": 58,
     "metadata": {},
     "output_type": "execute_result"
    }
   ],
   "source": [
    "np.array(1).ndim"
   ]
  },
  {
   "cell_type": "code",
   "execution_count": 1,
   "id": "a4792ba7",
   "metadata": {},
   "outputs": [],
   "source": [
    "import numpy as sex"
   ]
  },
  {
   "cell_type": "code",
   "execution_count": 2,
   "id": "926fcd1b",
   "metadata": {},
   "outputs": [
    {
     "data": {
      "text/plain": [
       "array([1, 2, 3])"
      ]
     },
     "execution_count": 2,
     "metadata": {},
     "output_type": "execute_result"
    }
   ],
   "source": [
    "sex.array([1,2,3])"
   ]
  },
  {
   "cell_type": "code",
   "execution_count": 3,
   "id": "29590f81",
   "metadata": {},
   "outputs": [],
   "source": [
    "# sex is alias of numpy here"
   ]
  },
  {
   "cell_type": "code",
   "execution_count": 4,
   "id": "6a5bde2f",
   "metadata": {},
   "outputs": [],
   "source": [
    "import numpy as np"
   ]
  },
  {
   "cell_type": "code",
   "execution_count": 5,
   "id": "2e22cc3b",
   "metadata": {},
   "outputs": [
    {
     "ename": "TypeError",
     "evalue": "can only concatenate list (not \"int\") to list",
     "output_type": "error",
     "traceback": [
      "\u001b[1;31m---------------------------------------------------------------------------\u001b[0m",
      "\u001b[1;31mTypeError\u001b[0m                                 Traceback (most recent call last)",
      "Input \u001b[1;32mIn [5]\u001b[0m, in \u001b[0;36m<cell line: 2>\u001b[1;34m()\u001b[0m\n\u001b[0;32m      1\u001b[0m lis  \u001b[38;5;241m=\u001b[39m [\u001b[38;5;241m1\u001b[39m,\u001b[38;5;241m2\u001b[39m,\u001b[38;5;241m3\u001b[39m]\n\u001b[1;32m----> 2\u001b[0m lis3 \u001b[38;5;241m=\u001b[39m \u001b[43mlis\u001b[49m\u001b[43m \u001b[49m\u001b[38;5;241;43m+\u001b[39;49m\u001b[43m \u001b[49m\u001b[38;5;241;43m5\u001b[39;49m\n",
      "\u001b[1;31mTypeError\u001b[0m: can only concatenate list (not \"int\") to list"
     ]
    }
   ],
   "source": [
    "lis  = [1,2,3]\n",
    "lis3 = lis + 5"
   ]
  },
  {
   "cell_type": "code",
   "execution_count": 8,
   "id": "933c8702",
   "metadata": {},
   "outputs": [
    {
     "name": "stdout",
     "output_type": "stream",
     "text": [
      "[6 7 8]\n"
     ]
    }
   ],
   "source": [
    "arraylis = np.array(lis)\n",
    "arraylis = arraylis + 5\n",
    "print(arraylis)\n",
    "# easy to add unlike list"
   ]
  },
  {
   "cell_type": "code",
   "execution_count": 9,
   "id": "e30ae603",
   "metadata": {},
   "outputs": [
    {
     "data": {
      "text/plain": [
       "array([7, 8, 9])"
      ]
     },
     "execution_count": 9,
     "metadata": {},
     "output_type": "execute_result"
    }
   ],
   "source": [
    "np.add(lis,6)"
   ]
  },
  {
   "cell_type": "code",
   "execution_count": 12,
   "id": "b25e44bd",
   "metadata": {},
   "outputs": [
    {
     "ename": "TypeError",
     "evalue": "return arrays must be of ArrayType",
     "output_type": "error",
     "traceback": [
      "\u001b[1;31m---------------------------------------------------------------------------\u001b[0m",
      "\u001b[1;31mTypeError\u001b[0m                                 Traceback (most recent call last)",
      "Input \u001b[1;32mIn [12]\u001b[0m, in \u001b[0;36m<cell line: 1>\u001b[1;34m()\u001b[0m\n\u001b[1;32m----> 1\u001b[0m \u001b[43mnp\u001b[49m\u001b[38;5;241;43m.\u001b[39;49m\u001b[43madd\u001b[49m\u001b[43m(\u001b[49m\u001b[43mlis\u001b[49m\u001b[43m,\u001b[49m\u001b[43mlis\u001b[49m\u001b[43m,\u001b[49m\u001b[43mlis\u001b[49m\u001b[43m)\u001b[49m\n",
      "\u001b[1;31mTypeError\u001b[0m: return arrays must be of ArrayType"
     ]
    }
   ],
   "source": [
    "np.add(lis,lis,lis)"
   ]
  },
  {
   "cell_type": "code",
   "execution_count": 14,
   "id": "38f3645d",
   "metadata": {},
   "outputs": [
    {
     "data": {
      "text/plain": [
       "1"
      ]
     },
     "execution_count": 14,
     "metadata": {},
     "output_type": "execute_result"
    }
   ],
   "source": [
    "np.array([]).ndim"
   ]
  },
  {
   "cell_type": "code",
   "execution_count": 16,
   "id": "d6126aaa",
   "metadata": {},
   "outputs": [
    {
     "data": {
      "text/plain": [
       "0"
      ]
     },
     "execution_count": 16,
     "metadata": {},
     "output_type": "execute_result"
    }
   ],
   "source": [
    "np.array(1).ndim"
   ]
  },
  {
   "cell_type": "code",
   "execution_count": 19,
   "id": "74a64436",
   "metadata": {},
   "outputs": [
    {
     "name": "stdout",
     "output_type": "stream",
     "text": [
      "[1 2 3 4]\n",
      "[1, 2, 3, 4]\n",
      "<class 'list'>\n",
      "<class 'numpy.ndarray'>\n",
      "int32\n"
     ]
    },
    {
     "data": {
      "text/plain": [
       "array([1., 2., 3., 4.])"
      ]
     },
     "execution_count": 19,
     "metadata": {},
     "output_type": "execute_result"
    }
   ],
   "source": [
    "l = [1,2,3,4]\n",
    "array = np.array(l)\n",
    "print(array)\n",
    "print(l)\n",
    "print(type(l))\n",
    "print(type(array))\n",
    "print(array.dtype)\n",
    "array.astype(float) # converts it from int to float"
   ]
  },
  {
   "cell_type": "code",
   "execution_count": 21,
   "id": "89304e24",
   "metadata": {},
   "outputs": [
    {
     "name": "stdout",
     "output_type": "stream",
     "text": [
      "[[0, 1, 2, 3], [0, 1, 2, 3], [0, 1, 2, 3]]\n"
     ]
    }
   ],
   "source": [
    "y = []\n",
    "for i in range(3):\n",
    "    y.append([])\n",
    "    for j in range(4):\n",
    "        y[i].append(j)\n",
    "print(y)        "
   ]
  },
  {
   "cell_type": "code",
   "execution_count": 23,
   "id": "56ca2a10",
   "metadata": {},
   "outputs": [
    {
     "name": "stdout",
     "output_type": "stream",
     "text": [
      "[[0 1 2 3]\n",
      " [0 1 2 3]\n",
      " [0 1 2 3]]\n"
     ]
    }
   ],
   "source": [
    "array_2d = np.array(y)\n",
    "print(array_2d).shape"
   ]
  },
  {
   "cell_type": "code",
   "execution_count": 62,
   "id": "17d17420",
   "metadata": {},
   "outputs": [
    {
     "name": "stdout",
     "output_type": "stream",
     "text": [
      "1 3 4\n"
     ]
    },
    {
     "ename": "SyntaxError",
     "evalue": "invalid syntax (<string>, line 1)",
     "output_type": "error",
     "traceback": [
      "Traceback \u001b[1;36m(most recent call last)\u001b[0m:\n",
      "  File \u001b[0;32mC:\\ProgramData\\Anaconda3\\lib\\site-packages\\IPython\\core\\interactiveshell.py:3369\u001b[0m in \u001b[0;35mrun_code\u001b[0m\n    exec(code_obj, self.user_global_ns, self.user_ns)\n",
      "\u001b[1;36m  Input \u001b[1;32mIn [62]\u001b[1;36m in \u001b[1;35m<cell line: 1>\u001b[1;36m\u001b[0m\n\u001b[1;33m    val = eval(input())\u001b[0m\n",
      "\u001b[1;36m  File \u001b[1;32m<string>:1\u001b[1;36m\u001b[0m\n\u001b[1;33m    1 3 4\u001b[0m\n\u001b[1;37m      ^\u001b[0m\n\u001b[1;31mSyntaxError\u001b[0m\u001b[1;31m:\u001b[0m invalid syntax\n"
     ]
    }
   ],
   "source": [
    "val = eval(input())\n",
    "print(val)"
   ]
  },
  {
   "cell_type": "code",
   "execution_count": 61,
   "id": "8fc97d24",
   "metadata": {},
   "outputs": [
    {
     "data": {
      "text/plain": [
       "3"
      ]
     },
     "execution_count": 61,
     "metadata": {},
     "output_type": "execute_result"
    }
   ],
   "source": [
    "x = 3.9\n",
    "int(x)"
   ]
  },
  {
   "cell_type": "code",
   "execution_count": 66,
   "id": "850e71f9",
   "metadata": {},
   "outputs": [
    {
     "data": {
      "text/plain": [
       "array([[1, 2, 3],\n",
       "       [4, 5, 6],\n",
       "       [7, 8, 9]])"
      ]
     },
     "execution_count": 66,
     "metadata": {},
     "output_type": "execute_result"
    }
   ],
   "source": [
    "array_1=np.arange(1,10)\n",
    "np.reshape(array_1,(3,3))"
   ]
  },
  {
   "cell_type": "code",
   "execution_count": 68,
   "id": "0b2f2c9f",
   "metadata": {},
   "outputs": [
    {
     "name": "stdout",
     "output_type": "stream",
     "text": [
      "1 2 3 4 5\n"
     ]
    },
    {
     "ename": "SyntaxError",
     "evalue": "invalid syntax (<string>, line 1)",
     "output_type": "error",
     "traceback": [
      "Traceback \u001b[1;36m(most recent call last)\u001b[0m:\n",
      "  File \u001b[0;32mC:\\ProgramData\\Anaconda3\\lib\\site-packages\\IPython\\core\\interactiveshell.py:3369\u001b[0m in \u001b[0;35mrun_code\u001b[0m\n    exec(code_obj, self.user_global_ns, self.user_ns)\n",
      "\u001b[1;36m  Input \u001b[1;32mIn [68]\u001b[1;36m in \u001b[1;35m<cell line: 1>\u001b[1;36m\u001b[0m\n\u001b[1;33m    nums = eval(input())\u001b[0m\n",
      "\u001b[1;36m  File \u001b[1;32m<string>:1\u001b[1;36m\u001b[0m\n\u001b[1;33m    1 2 3 4 5\u001b[0m\n\u001b[1;37m      ^\u001b[0m\n\u001b[1;31mSyntaxError\u001b[0m\u001b[1;31m:\u001b[0m invalid syntax\n"
     ]
    }
   ],
   "source": [
    "nums = eval(input())\n",
    "print(nums)"
   ]
  },
  {
   "cell_type": "code",
   "execution_count": 20,
   "id": "5dcf1e57",
   "metadata": {},
   "outputs": [
    {
     "name": "stdout",
     "output_type": "stream",
     "text": [
      "1 2 3 4 5 6 7 8 9 \n",
      "[[1 2 3]\n",
      " [4 5 6]\n",
      " [7 8 9]]\n"
     ]
    }
   ],
   "source": [
    "val = input().strip()\n",
    "stringed=val.split(' ')\n",
    "int_numbs=[eval(i) for i in stringed]\n",
    "array_1d = np.array(int_numbs)\n",
    "#print(array_1d)\n",
    "matrix = np.reshape(array_1d,(3,3))\n",
    "print(matrix)"
   ]
  },
  {
   "cell_type": "code",
   "execution_count": 48,
   "id": "a4df364e",
   "metadata": {},
   "outputs": [
    {
     "name": "stdout",
     "output_type": "stream",
     "text": [
      "3 2\n",
      "1 2 \n",
      "3 4\n",
      "[[1 3]\n",
      " [2 4]]\n",
      "[1 2 3 4]\n"
     ]
    }
   ],
   "source": [
    "val1 = input().strip()\n",
    "stringed1 = val1.split(' ')\n",
    "pform1 = [eval(i) for i in stringed1]\n",
    "#print(tuple(pform1))\n",
    "numbers_input = []\n",
    "for i in range(pform1[0]):\n",
    "    val2 = input().strip()\n",
    "    string2=val2.split(' ')\n",
    "    pform2 = [eval(j) for j in string2] \n",
    "    numbers_input.append(pform2)\n",
    "#print(numbers_input)\n",
    "actual_array = np.array(numbers_input)\n",
    "print(actual_array.transpose())\n",
    "print(actual_array.flatten())"
   ]
  },
  {
   "cell_type": "code",
   "execution_count": 54,
   "id": "23a6720d",
   "metadata": {},
   "outputs": [
    {
     "name": "stdout",
     "output_type": "stream",
     "text": [
      "[[[4 5 6 7]\n",
      "  [4 5 6 7]\n",
      "  [4 5 6 7]]\n",
      "\n",
      " [[4 5 6 7]\n",
      "  [4 5 6 7]\n",
      "  [4 5 6 7]]\n",
      "\n",
      " [[4 5 6 7]\n",
      "  [4 5 6 7]\n",
      "  [4 5 6 7]]\n",
      "\n",
      " [[4 5 6 7]\n",
      "  [4 5 6 7]\n",
      "  [4 5 6 7]]]\n"
     ]
    }
   ],
   "source": [
    "y = []\n",
    "for i in range(4):\n",
    "    y.append([])\n",
    "    for j in range(3):\n",
    "        y[i].append([])\n",
    "        for k in range(4,8):\n",
    "            y[i][j].append(k)\n",
    "            \n",
    "#print(y) \n",
    "array_3d = np.array(y)\n",
    "print(array_3d)"
   ]
  },
  {
   "cell_type": "code",
   "execution_count": 55,
   "id": "47beed35",
   "metadata": {},
   "outputs": [
    {
     "data": {
      "text/plain": [
       "3"
      ]
     },
     "execution_count": 55,
     "metadata": {},
     "output_type": "execute_result"
    }
   ],
   "source": [
    "array_3d.ndim"
   ]
  },
  {
   "cell_type": "code",
   "execution_count": 56,
   "id": "41a498c5",
   "metadata": {},
   "outputs": [
    {
     "data": {
      "text/plain": [
       "(4, 3, 4)"
      ]
     },
     "execution_count": 56,
     "metadata": {},
     "output_type": "execute_result"
    }
   ],
   "source": [
    "array_3d.shape"
   ]
  },
  {
   "cell_type": "code",
   "execution_count": 57,
   "id": "415216b3",
   "metadata": {},
   "outputs": [
    {
     "data": {
      "text/plain": [
       "7"
      ]
     },
     "execution_count": 57,
     "metadata": {},
     "output_type": "execute_result"
    }
   ],
   "source": [
    "array_3d[2,2,3]"
   ]
  },
  {
   "cell_type": "code",
   "execution_count": 58,
   "id": "4a1e951a",
   "metadata": {},
   "outputs": [
    {
     "data": {
      "text/plain": [
       "48"
      ]
     },
     "execution_count": 58,
     "metadata": {},
     "output_type": "execute_result"
    }
   ],
   "source": [
    "array_3d.size"
   ]
  },
  {
   "cell_type": "code",
   "execution_count": 59,
   "id": "2db28da4",
   "metadata": {},
   "outputs": [
    {
     "data": {
      "text/plain": [
       "dtype('int32')"
      ]
     },
     "execution_count": 59,
     "metadata": {},
     "output_type": "execute_result"
    }
   ],
   "source": [
    "array_3d.dtype"
   ]
  },
  {
   "cell_type": "code",
   "execution_count": 61,
   "id": "f19c09b8",
   "metadata": {},
   "outputs": [
    {
     "data": {
      "text/plain": [
       "array([[[4., 5., 6., 7.],\n",
       "        [4., 5., 6., 7.],\n",
       "        [4., 5., 6., 7.]],\n",
       "\n",
       "       [[4., 5., 6., 7.],\n",
       "        [4., 5., 6., 7.],\n",
       "        [4., 5., 6., 7.]],\n",
       "\n",
       "       [[4., 5., 6., 7.],\n",
       "        [4., 5., 6., 7.],\n",
       "        [4., 5., 6., 7.]],\n",
       "\n",
       "       [[4., 5., 6., 7.],\n",
       "        [4., 5., 6., 7.],\n",
       "        [4., 5., 6., 7.]]])"
      ]
     },
     "execution_count": 61,
     "metadata": {},
     "output_type": "execute_result"
    }
   ],
   "source": [
    "array_3d.astype(float)"
   ]
  },
  {
   "cell_type": "code",
   "execution_count": 1,
   "id": "56afd8cb",
   "metadata": {},
   "outputs": [],
   "source": [
    "import numpy as np"
   ]
  },
  {
   "cell_type": "code",
   "execution_count": 2,
   "id": "d2a29493",
   "metadata": {},
   "outputs": [],
   "source": [
    "lis1 = [1,2,3]\n",
    "lis2 = [5,3,1]\n",
    "ar1 = np.array(lis1)\n",
    "ar2 = np.array(lis2)"
   ]
  },
  {
   "cell_type": "code",
   "execution_count": 3,
   "id": "55fed34f",
   "metadata": {},
   "outputs": [
    {
     "data": {
      "text/plain": [
       "array([6, 5, 4])"
      ]
     },
     "execution_count": 3,
     "metadata": {},
     "output_type": "execute_result"
    }
   ],
   "source": [
    "np.add(lis1,lis2)"
   ]
  },
  {
   "cell_type": "code",
   "execution_count": 4,
   "id": "7e35bb42",
   "metadata": {},
   "outputs": [
    {
     "data": {
      "text/plain": [
       "array([1, 2, 3, 4])"
      ]
     },
     "execution_count": 4,
     "metadata": {},
     "output_type": "execute_result"
    }
   ],
   "source": [
    "tupl = (1,2,3,4)\n",
    "np.array(tupl)"
   ]
  },
  {
   "cell_type": "code",
   "execution_count": 10,
   "id": "d795bd61",
   "metadata": {},
   "outputs": [],
   "source": [
    "def dicty(**b):\n",
    "    return b"
   ]
  },
  {
   "cell_type": "code",
   "execution_count": 11,
   "id": "59b3e75d",
   "metadata": {},
   "outputs": [
    {
     "name": "stdout",
     "output_type": "stream",
     "text": [
      "{'a': 1, 'b': 2, 'c': 3, 'd': 4}\n"
     ]
    }
   ],
   "source": [
    "dict1=dicty(a=1,b=2,c=3,d=4)\n",
    "print(dict1)"
   ]
  },
  {
   "cell_type": "code",
   "execution_count": 15,
   "id": "59ff80b8",
   "metadata": {},
   "outputs": [
    {
     "name": "stdout",
     "output_type": "stream",
     "text": [
      "{'a': 1, 'b': 2, 'c': 3, 'd': 4}\n",
      "<class 'numpy.ndarray'>\n"
     ]
    }
   ],
   "source": [
    "print(np.array(dict1))\n",
    "print(type(np.array(dict1)))"
   ]
  },
  {
   "cell_type": "code",
   "execution_count": 19,
   "id": "290d9e58",
   "metadata": {},
   "outputs": [
    {
     "data": {
      "text/plain": [
       "array([1, 2, 3, 4])"
      ]
     },
     "execution_count": 19,
     "metadata": {},
     "output_type": "execute_result"
    }
   ],
   "source": [
    "lis = [1,2,3,4]\n",
    "np.array(lis)"
   ]
  },
  {
   "cell_type": "code",
   "execution_count": 39,
   "id": "375b7b0b",
   "metadata": {},
   "outputs": [],
   "source": [
    "array1d = np.array([1,2,3,4,5])"
   ]
  },
  {
   "cell_type": "code",
   "execution_count": 44,
   "id": "88ee5e64",
   "metadata": {},
   "outputs": [
    {
     "name": "stdout",
     "output_type": "stream",
     "text": [
      "[[0, 1, 2], [0, 1, 2], [0, 1, 2]]\n"
     ]
    }
   ],
   "source": [
    "y = []\n",
    "for i in range(3):\n",
    "    y.append([])\n",
    "    for j in range(3):\n",
    "        y[i].append(j)\n",
    "print(y)        "
   ]
  },
  {
   "cell_type": "code",
   "execution_count": 45,
   "id": "2e6eb3a6",
   "metadata": {},
   "outputs": [
    {
     "name": "stdout",
     "output_type": "stream",
     "text": [
      "[[0 1 2]\n",
      " [0 1 2]\n",
      " [0 1 2]]\n"
     ]
    },
    {
     "data": {
      "text/plain": [
       "2"
      ]
     },
     "execution_count": 45,
     "metadata": {},
     "output_type": "execute_result"
    }
   ],
   "source": [
    "array2d = np.array(y)\n",
    "print(array2d)\n",
    "array2d.ndim"
   ]
  },
  {
   "cell_type": "code",
   "execution_count": 29,
   "id": "3d8009e9",
   "metadata": {},
   "outputs": [
    {
     "name": "stdout",
     "output_type": "stream",
     "text": [
      "[[[0, 1, 2], [0, 1, 2], [0, 1, 2], [0, 1, 2]], [[0, 1, 2], [0, 1, 2], [0, 1, 2], [0, 1, 2]], [[0, 1, 2], [0, 1, 2], [0, 1, 2], [0, 1, 2]]]\n"
     ]
    }
   ],
   "source": [
    "y = []\n",
    "for i in range(3):\n",
    "    y.append([])\n",
    "    for j in range(4):\n",
    "        y[i].append([])\n",
    "        for k in range(3):\n",
    "            y[i][j].append(k)\n",
    "                \n",
    "print(y)                \n",
    "                "
   ]
  },
  {
   "cell_type": "code",
   "execution_count": 31,
   "id": "2c51e526",
   "metadata": {},
   "outputs": [
    {
     "name": "stdout",
     "output_type": "stream",
     "text": [
      "[[[0 1 2]\n",
      "  [0 1 2]\n",
      "  [0 1 2]\n",
      "  [0 1 2]]\n",
      "\n",
      " [[0 1 2]\n",
      "  [0 1 2]\n",
      "  [0 1 2]\n",
      "  [0 1 2]]\n",
      "\n",
      " [[0 1 2]\n",
      "  [0 1 2]\n",
      "  [0 1 2]\n",
      "  [0 1 2]]]\n"
     ]
    }
   ],
   "source": [
    "array3d = np.array(y)\n",
    "print(array3d)"
   ]
  },
  {
   "cell_type": "code",
   "execution_count": 35,
   "id": "a25bf01a",
   "metadata": {},
   "outputs": [
    {
     "name": "stdout",
     "output_type": "stream",
     "text": [
      "[[[[1, 2, 3], [1, 2, 3]], [[1, 2, 3], [1, 2, 3]], [[1, 2, 3], [1, 2, 3]]], [[[1, 2, 3], [1, 2, 3]], [[1, 2, 3], [1, 2, 3]], [[1, 2, 3], [1, 2, 3]]]]\n"
     ]
    }
   ],
   "source": [
    "z = []\n",
    "for i in range(2):\n",
    "    z.append([])\n",
    "    for j in range(3):\n",
    "        z[i].append([])\n",
    "        for k in range(2):\n",
    "            z[i][j].append([])\n",
    "            for m in range(1,4):\n",
    "                z[i][j][k].append(m)\n",
    "        \n",
    "print(z)        "
   ]
  },
  {
   "cell_type": "code",
   "execution_count": 38,
   "id": "f3407f74",
   "metadata": {},
   "outputs": [],
   "source": [
    "array4d=np.array(z)"
   ]
  },
  {
   "cell_type": "code",
   "execution_count": 41,
   "id": "7e3c86cf",
   "metadata": {},
   "outputs": [
    {
     "data": {
      "text/plain": [
       "(5,)"
      ]
     },
     "execution_count": 41,
     "metadata": {},
     "output_type": "execute_result"
    }
   ],
   "source": [
    "array1d.shape"
   ]
  },
  {
   "cell_type": "code",
   "execution_count": 46,
   "id": "22c83eb9",
   "metadata": {},
   "outputs": [
    {
     "data": {
      "text/plain": [
       "(3, 3)"
      ]
     },
     "execution_count": 46,
     "metadata": {},
     "output_type": "execute_result"
    }
   ],
   "source": [
    "array2d.shape"
   ]
  },
  {
   "cell_type": "code",
   "execution_count": 47,
   "id": "285115fc",
   "metadata": {},
   "outputs": [
    {
     "data": {
      "text/plain": [
       "(3, 4, 3)"
      ]
     },
     "execution_count": 47,
     "metadata": {},
     "output_type": "execute_result"
    }
   ],
   "source": [
    "array3d.shape"
   ]
  },
  {
   "cell_type": "code",
   "execution_count": 48,
   "id": "f60e26f5",
   "metadata": {},
   "outputs": [
    {
     "data": {
      "text/plain": [
       "(2, 3, 2, 3)"
      ]
     },
     "execution_count": 48,
     "metadata": {},
     "output_type": "execute_result"
    }
   ],
   "source": [
    "array4d.shape"
   ]
  },
  {
   "cell_type": "code",
   "execution_count": 51,
   "id": "1f37b15d",
   "metadata": {},
   "outputs": [
    {
     "data": {
      "text/plain": [
       "(1, 2, 3, 4)"
      ]
     },
     "execution_count": 51,
     "metadata": {},
     "output_type": "execute_result"
    }
   ],
   "source": [
    "array1d.ndim,array2d.ndim,array3d.ndim,array4d.ndim"
   ]
  },
  {
   "cell_type": "code",
   "execution_count": 52,
   "id": "7b39614a",
   "metadata": {},
   "outputs": [
    {
     "data": {
      "text/plain": [
       "36"
      ]
     },
     "execution_count": 52,
     "metadata": {},
     "output_type": "execute_result"
    }
   ],
   "source": [
    "array4d.size"
   ]
  },
  {
   "cell_type": "code",
   "execution_count": 53,
   "id": "cd6b6d2c",
   "metadata": {},
   "outputs": [
    {
     "data": {
      "text/plain": [
       "dtype('int32')"
      ]
     },
     "execution_count": 53,
     "metadata": {},
     "output_type": "execute_result"
    }
   ],
   "source": [
    "array3d.dtype"
   ]
  },
  {
   "cell_type": "code",
   "execution_count": 54,
   "id": "33f517a1",
   "metadata": {},
   "outputs": [
    {
     "data": {
      "text/plain": [
       "array([[[0., 1., 2.],\n",
       "        [0., 1., 2.],\n",
       "        [0., 1., 2.],\n",
       "        [0., 1., 2.]],\n",
       "\n",
       "       [[0., 1., 2.],\n",
       "        [0., 1., 2.],\n",
       "        [0., 1., 2.],\n",
       "        [0., 1., 2.]],\n",
       "\n",
       "       [[0., 1., 2.],\n",
       "        [0., 1., 2.],\n",
       "        [0., 1., 2.],\n",
       "        [0., 1., 2.]]])"
      ]
     },
     "execution_count": 54,
     "metadata": {},
     "output_type": "execute_result"
    }
   ],
   "source": [
    "array3d.astype(float)"
   ]
  },
  {
   "cell_type": "code",
   "execution_count": 56,
   "id": "d7016da1",
   "metadata": {},
   "outputs": [
    {
     "data": {
      "text/plain": [
       "array([[[0, 1, 2],\n",
       "        [0, 1, 2],\n",
       "        [0, 1, 2],\n",
       "        [0, 1, 2]],\n",
       "\n",
       "       [[0, 1, 2],\n",
       "        [0, 1, 2],\n",
       "        [0, 1, 2],\n",
       "        [0, 1, 2]],\n",
       "\n",
       "       [[0, 1, 2],\n",
       "        [0, 1, 2],\n",
       "        [0, 1, 2],\n",
       "        [0, 1, 2]]])"
      ]
     },
     "execution_count": 56,
     "metadata": {},
     "output_type": "execute_result"
    }
   ],
   "source": [
    "array3d"
   ]
  },
  {
   "cell_type": "code",
   "execution_count": 58,
   "id": "a913a616",
   "metadata": {},
   "outputs": [
    {
     "name": "stdout",
     "output_type": "stream",
     "text": [
      "[3, 4, 5, 7]\n"
     ]
    }
   ],
   "source": [
    "lis = [7,5,4,3,]\n",
    "lis.sort()\n",
    "print(lis)"
   ]
  },
  {
   "cell_type": "code",
   "execution_count": 59,
   "id": "a5bb53ad",
   "metadata": {},
   "outputs": [],
   "source": [
    "import sys "
   ]
  },
  {
   "cell_type": "code",
   "execution_count": 67,
   "id": "0bc4cca5",
   "metadata": {},
   "outputs": [
    {
     "data": {
      "text/plain": [
       "184"
      ]
     },
     "execution_count": 67,
     "metadata": {},
     "output_type": "execute_result"
    }
   ],
   "source": [
    "s = [1,2,3,4,5,6,7,8,9,0,11,12,13,14]\n",
    "sys.getsizeof(s)"
   ]
  },
  {
   "cell_type": "code",
   "execution_count": 68,
   "id": "6cbd5921",
   "metadata": {},
   "outputs": [
    {
     "data": {
      "text/plain": [
       "array([ 1,  2,  3,  4,  5,  6,  7,  8,  9,  0, 11, 12, 13, 14])"
      ]
     },
     "execution_count": 68,
     "metadata": {},
     "output_type": "execute_result"
    }
   ],
   "source": [
    "array=np.array(s)\n",
    "array"
   ]
  },
  {
   "cell_type": "code",
   "execution_count": 69,
   "id": "055716d4",
   "metadata": {},
   "outputs": [
    {
     "data": {
      "text/plain": [
       "160"
      ]
     },
     "execution_count": 69,
     "metadata": {},
     "output_type": "execute_result"
    }
   ],
   "source": [
    "sys.getsizeof(array)"
   ]
  },
  {
   "cell_type": "code",
   "execution_count": 72,
   "id": "93e6311a",
   "metadata": {},
   "outputs": [
    {
     "data": {
      "text/plain": [
       "4"
      ]
     },
     "execution_count": 72,
     "metadata": {},
     "output_type": "execute_result"
    }
   ],
   "source": [
    "np.array([]).itemsize"
   ]
  },
  {
   "cell_type": "code",
   "execution_count": 73,
   "id": "d34f0ba6",
   "metadata": {},
   "outputs": [],
   "source": [
    "l = np.array([])"
   ]
  },
  {
   "cell_type": "code",
   "execution_count": 74,
   "id": "ad3f557c",
   "metadata": {},
   "outputs": [
    {
     "data": {
      "text/plain": [
       "104"
      ]
     },
     "execution_count": 74,
     "metadata": {},
     "output_type": "execute_result"
    }
   ],
   "source": [
    "sys.getsizeof(l)"
   ]
  },
  {
   "cell_type": "code",
   "execution_count": 76,
   "id": "234c0866",
   "metadata": {},
   "outputs": [
    {
     "data": {
      "text/plain": [
       "56"
      ]
     },
     "execution_count": 76,
     "metadata": {},
     "output_type": "execute_result"
    }
   ],
   "source": [
    "e = []\n",
    "sys.getsizeof(e)"
   ]
  },
  {
   "cell_type": "code",
   "execution_count": 80,
   "id": "4ffc9952",
   "metadata": {},
   "outputs": [
    {
     "data": {
      "text/plain": [
       "64"
      ]
     },
     "execution_count": 80,
     "metadata": {},
     "output_type": "execute_result"
    }
   ],
   "source": [
    "z = [1]\n",
    "sys.getsizeof(z)"
   ]
  },
  {
   "cell_type": "code",
   "execution_count": null,
   "id": "7890acc6",
   "metadata": {},
   "outputs": [],
   "source": [
    "# consider bucket and toys \n",
    "sys.getsizeof gives the size of bucket only \n",
    "itemsize in np gives the size of the toys only "
   ]
  },
  {
   "cell_type": "code",
   "execution_count": 82,
   "id": "fdfcc411",
   "metadata": {},
   "outputs": [
    {
     "data": {
      "text/plain": [
       "array([[4],\n",
       "       [5],\n",
       "       [6]])"
      ]
     },
     "execution_count": 82,
     "metadata": {},
     "output_type": "execute_result"
    }
   ],
   "source": [
    "b = np.array([[4], [5], [6]])\n",
    "b # is"
   ]
  },
  {
   "cell_type": "code",
   "execution_count": 83,
   "id": "0b80340c",
   "metadata": {},
   "outputs": [
    {
     "data": {
      "text/plain": [
       "array([1, 2, 3])"
      ]
     },
     "execution_count": 83,
     "metadata": {},
     "output_type": "execute_result"
    }
   ],
   "source": [
    "\n",
    "a = np.array([1, 2, 3])\n",
    "a"
   ]
  },
  {
   "cell_type": "code",
   "execution_count": 2,
   "id": "64d3ce78",
   "metadata": {},
   "outputs": [],
   "source": [
    "import numpy as np\n",
    "import sys"
   ]
  },
  {
   "cell_type": "code",
   "execution_count": 19,
   "id": "405de5a9",
   "metadata": {},
   "outputs": [
    {
     "data": {
      "text/plain": [
       "64"
      ]
     },
     "execution_count": 19,
     "metadata": {},
     "output_type": "execute_result"
    }
   ],
   "source": [
    "lis = [23]\n",
    "sys.getsizeof(lis)"
   ]
  },
  {
   "cell_type": "code",
   "execution_count": 20,
   "id": "4d04275d",
   "metadata": {},
   "outputs": [],
   "source": [
    "lis = [23]\n",
    "a=np.array(lis)"
   ]
  },
  {
   "cell_type": "code",
   "execution_count": 16,
   "id": "2ea46539",
   "metadata": {},
   "outputs": [
    {
     "data": {
      "text/plain": [
       "4"
      ]
     },
     "execution_count": 16,
     "metadata": {},
     "output_type": "execute_result"
    }
   ],
   "source": [
    "a.itemsize"
   ]
  },
  {
   "cell_type": "code",
   "execution_count": 21,
   "id": "b194127e",
   "metadata": {},
   "outputs": [
    {
     "name": "stdout",
     "output_type": "stream",
     "text": [
      "Size of list: 120 bytes\n",
      "Size of numpy array: 20 bytes\n"
     ]
    }
   ],
   "source": [
    "import sys\n",
    "import numpy as np\n",
    "\n",
    "my_list = [1, 2, 3, 4, 5]\n",
    "my_array = np.array(my_list)\n",
    "\n",
    "print(f\"Size of list: {sys.getsizeof(my_list)} bytes\")\n",
    "print(f\"Size of numpy array: {my_array.nbytes} bytes\")"
   ]
  },
  {
   "cell_type": "code",
   "execution_count": 24,
   "id": "00ad5c9d",
   "metadata": {},
   "outputs": [
    {
     "data": {
      "text/plain": [
       "20"
      ]
     },
     "execution_count": 24,
     "metadata": {},
     "output_type": "execute_result"
    }
   ],
   "source": [
    "my_array.itemsize\n",
    "my_array.nbytes"
   ]
  },
  {
   "cell_type": "code",
   "execution_count": 35,
   "id": "72187e30",
   "metadata": {},
   "outputs": [],
   "source": [
    "import time"
   ]
  },
  {
   "cell_type": "code",
   "execution_count": 28,
   "id": "b02434e2",
   "metadata": {},
   "outputs": [
    {
     "data": {
      "text/plain": [
       "datetime.datetime(2023, 4, 2, 13, 25, 10, 596305)"
      ]
     },
     "execution_count": 28,
     "metadata": {},
     "output_type": "execute_result"
    }
   ],
   "source": [
    "datetime.now()"
   ]
  },
  {
   "cell_type": "code",
   "execution_count": 36,
   "id": "34852d6d",
   "metadata": {},
   "outputs": [
    {
     "data": {
      "text/plain": [
       "1680422170.7253394"
      ]
     },
     "execution_count": 36,
     "metadata": {},
     "output_type": "execute_result"
    }
   ],
   "source": [
    "time.time()"
   ]
  },
  {
   "cell_type": "code",
   "execution_count": 78,
   "id": "76a58391",
   "metadata": {},
   "outputs": [
    {
     "name": "stdout",
     "output_type": "stream",
     "text": [
      "0.19046235084533691\n"
     ]
    }
   ],
   "source": [
    "start=time.time()\n",
    "size = 1000000\n",
    "lis1 = range(size)\n",
    "lis2 = range(size)\n",
    "[i*j for i,j in zip(lis1,lis2)]\n",
    "#end = time.time()\n",
    "print(time.time() - start)"
   ]
  },
  {
   "cell_type": "code",
   "execution_count": 80,
   "id": "480f823e",
   "metadata": {},
   "outputs": [
    {
     "name": "stdout",
     "output_type": "stream",
     "text": [
      "0.30503416061401367\n",
      "[     0      1      2 ... 999997 999998 999999]\n"
     ]
    }
   ],
   "source": [
    "start = time.time()\n",
    "array1 = np.array(lis1)\n",
    "array2 = np.array(lis2)\n",
    "array3 = array1*array2\n",
    "#end = time.time()\n",
    "print(time.time() - start)\n",
    "print(array1)"
   ]
  },
  {
   "cell_type": "code",
   "execution_count": 73,
   "id": "498adb62",
   "metadata": {},
   "outputs": [
    {
     "name": "stdout",
     "output_type": "stream",
     "text": [
      "Time taken by Lists to perform multiplication: 0.17063379287719727 seconds\n",
      "Time taken by NumPy Arrays to perform multiplication: 0.015627145767211914 seconds\n"
     ]
    }
   ],
   "source": [
    "#import numpy as np\n",
    "#import time \n",
    "   \n",
    "# size of arrays and lists \n",
    "size = 1000000\n",
    "   \n",
    "# declaring lists \n",
    "list1 = range(size) \n",
    "list2 = range(size) \n",
    "   \n",
    "# declaring arrays \n",
    "array1 = np.arange(size)   \n",
    "array2 = np.arange(size) \n",
    "   \n",
    "# capturing time before the multiplication of Python lists \n",
    "initialTime = time.time() \n",
    "  \n",
    "# multiplying  elements of both the lists and stored in another list \n",
    "resultantList = [(a * b) for a, b in zip(list1, list2)] \n",
    "   \n",
    "# calculating execution time \n",
    "print(\"Time taken by Lists to perform multiplication:\",  \n",
    "      (time.time() - initialTime), \n",
    "      \"seconds\") \n",
    "   \n",
    "# capturing time before the multiplication of Numpy arrays \n",
    "initialTime = time.time() \n",
    "  \n",
    "# multiplying  elements of both the Numpy arrays and stored in another Numpy array  \n",
    "resultantArray = array1 * array2 \n",
    "   \n",
    "# calculating execution time  \n",
    "print(\"Time taken by NumPy Arrays to perform multiplication:\", \n",
    "      (time.time() - initialTime), \n",
    "      \"seconds\") "
   ]
  },
  {
   "cell_type": "code",
   "execution_count": 74,
   "id": "035261f2",
   "metadata": {},
   "outputs": [
    {
     "name": "stdout",
     "output_type": "stream",
     "text": [
      "[     0      1      2 ... 999997 999998 999999]\n"
     ]
    }
   ],
   "source": [
    "print(array1)"
   ]
  },
  {
   "cell_type": "code",
   "execution_count": 77,
   "id": "21c377a1",
   "metadata": {},
   "outputs": [
    {
     "name": "stdout",
     "output_type": "stream",
     "text": [
      "12\n"
     ]
    }
   ],
   "source": [
    "size = 12\n",
    "\n",
    "list1 = range(size)\n",
    "list2 = range(size)\n",
    "\n",
    "array1 = np.array(size)\n",
    "array2 = np.array(size)\n",
    "\n",
    "print(array1)"
   ]
  },
  {
   "cell_type": "code",
   "execution_count": null,
   "id": "0996b187",
   "metadata": {},
   "outputs": [],
   "source": [
    "size = 1000000\n",
    "list1 = range(size) \n",
    "list2 = range(size) \n",
    "array1 = np.arange(size)   \n",
    "array2 = np.arange(size) \n",
    "resultantArray = array1 * array2 \n"
   ]
  },
  {
   "cell_type": "markdown",
   "id": "b2519a27",
   "metadata": {},
   "source": [
    "# This is the right lines of code "
   ]
  },
  {
   "cell_type": "code",
   "execution_count": 97,
   "id": "682f72ee",
   "metadata": {},
   "outputs": [],
   "source": [
    "size = 10000000"
   ]
  },
  {
   "cell_type": "code",
   "execution_count": 102,
   "id": "43fcc0a1",
   "metadata": {},
   "outputs": [
    {
     "name": "stdout",
     "output_type": "stream",
     "text": [
      "1.9476799964904785\n"
     ]
    }
   ],
   "source": [
    "start = time.time()\n",
    "list1 = range(size)\n",
    "list2 = range(size)\n",
    "[i*j for i,j in zip(list1,list2)]\n",
    "print(time.time() - start)"
   ]
  },
  {
   "cell_type": "code",
   "execution_count": 103,
   "id": "d442a0c7",
   "metadata": {},
   "outputs": [
    {
     "name": "stdout",
     "output_type": "stream",
     "text": [
      "0.11865949630737305\n"
     ]
    }
   ],
   "source": [
    "start = time.time()\n",
    "array1 = np.arange(size)\n",
    "array2 = np.arange(size)\n",
    "resultant_array = array1*array2\n",
    "print(time.time()-start)"
   ]
  },
  {
   "cell_type": "code",
   "execution_count": 113,
   "id": "021c440f",
   "metadata": {},
   "outputs": [
    {
     "data": {
      "text/plain": [
       "80000056"
      ]
     },
     "execution_count": 113,
     "metadata": {},
     "output_type": "execute_result"
    }
   ],
   "source": [
    "sys.getsizeof(list(list1)) # this gets the size of the list object"
   ]
  },
  {
   "cell_type": "markdown",
   "id": "a7e11a1a",
   "metadata": {},
   "source": [
    "GPT says this is wrongh"
   ]
  },
  {
   "cell_type": "code",
   "execution_count": 108,
   "id": "1e090405",
   "metadata": {},
   "outputs": [
    {
     "data": {
      "text/plain": [
       "480000000"
      ]
     },
     "execution_count": 108,
     "metadata": {},
     "output_type": "execute_result"
    }
   ],
   "source": [
    "sys.getsizeof(list1)*len(list1) # this gets the size of the entire elements of the list"
   ]
  },
  {
   "cell_type": "code",
   "execution_count": 110,
   "id": "5590fce5",
   "metadata": {},
   "outputs": [
    {
     "data": {
      "text/plain": [
       "4"
      ]
     },
     "execution_count": 110,
     "metadata": {},
     "output_type": "execute_result"
    }
   ],
   "source": [
    "array1.itemsize # get size of one one element "
   ]
  },
  {
   "cell_type": "code",
   "execution_count": 111,
   "id": "964963bc",
   "metadata": {},
   "outputs": [
    {
     "data": {
      "text/plain": [
       "40000000"
      ]
     },
     "execution_count": 111,
     "metadata": {},
     "output_type": "execute_result"
    }
   ],
   "source": [
    "array1.itemsize*array1.size # get size of entire element"
   ]
  },
  {
   "cell_type": "code",
   "execution_count": 106,
   "id": "adc3d0d2",
   "metadata": {},
   "outputs": [
    {
     "data": {
      "text/plain": [
       "40000000"
      ]
     },
     "execution_count": 106,
     "metadata": {},
     "output_type": "execute_result"
    }
   ],
   "source": [
    "array1.nbytes"
   ]
  },
  {
   "cell_type": "code",
   "execution_count": 112,
   "id": "24101536",
   "metadata": {},
   "outputs": [
    {
     "data": {
      "text/plain": [
       "range(0, 10000000)"
      ]
     },
     "execution_count": 112,
     "metadata": {},
     "output_type": "execute_result"
    }
   ],
   "source": [
    "list1"
   ]
  },
  {
   "cell_type": "code",
   "execution_count": 116,
   "id": "07b8dcdd",
   "metadata": {},
   "outputs": [
    {
     "data": {
      "text/plain": [
       "array([[-2064879237,  1846109967],\n",
       "       [ 2090996189,   908304989]])"
      ]
     },
     "execution_count": 116,
     "metadata": {},
     "output_type": "execute_result"
    }
   ],
   "source": [
    "np.empty((2,2),dtype = int)"
   ]
  },
  {
   "cell_type": "code",
   "execution_count": 117,
   "id": "79ece7f8",
   "metadata": {},
   "outputs": [
    {
     "data": {
      "text/plain": [
       "array([[[ 2019893792,  1953850213,  1701994341,  1936029041],\n",
       "        [  539763316,  1919252002,  1852795251,   572537378],\n",
       "        [  573713973,         381,   901776193, -2147476869]],\n",
       "\n",
       "       [[ -152358232,         379,         202,           0],\n",
       "        [          0,           0,           0,           0],\n",
       "        [          0,         379,  1936532091,  1684627303]]])"
      ]
     },
     "execution_count": 117,
     "metadata": {},
     "output_type": "execute_result"
    }
   ],
   "source": [
    "np.empty((2,3,4),dtype = int )"
   ]
  },
  {
   "cell_type": "code",
   "execution_count": 123,
   "id": "1e7b9cad",
   "metadata": {},
   "outputs": [
    {
     "data": {
      "text/plain": [
       "array([[0, 0, 0],\n",
       "       [0, 0, 0],\n",
       "       [0, 0, 0]])"
      ]
     },
     "execution_count": 123,
     "metadata": {},
     "output_type": "execute_result"
    }
   ],
   "source": [
    "np.zeros((3,3),dtype = int)"
   ]
  },
  {
   "cell_type": "code",
   "execution_count": 125,
   "id": "a15b18ce",
   "metadata": {},
   "outputs": [
    {
     "data": {
      "text/plain": [
       "array([[1, 1, 1],\n",
       "       [1, 1, 1]])"
      ]
     },
     "execution_count": 125,
     "metadata": {},
     "output_type": "execute_result"
    }
   ],
   "source": [
    "np.ones((2,3),dtype = int)"
   ]
  },
  {
   "cell_type": "code",
   "execution_count": 130,
   "id": "810fbec5",
   "metadata": {},
   "outputs": [
    {
     "data": {
      "text/plain": [
       "array([[ -175926640,         379,           0],\n",
       "       [          0,           5, -2147483648]])"
      ]
     },
     "execution_count": 130,
     "metadata": {},
     "output_type": "execute_result"
    }
   ],
   "source": [
    "np.empty((2,3),dtype = int)"
   ]
  },
  {
   "cell_type": "code",
   "execution_count": 131,
   "id": "9a5e9095",
   "metadata": {},
   "outputs": [
    {
     "data": {
      "text/plain": [
       "array([[0, 0, 0],\n",
       "       [0, 0, 0]])"
      ]
     },
     "execution_count": 131,
     "metadata": {},
     "output_type": "execute_result"
    }
   ],
   "source": [
    "np.zeros((2,3), dtype = int)"
   ]
  },
  {
   "cell_type": "code",
   "execution_count": 132,
   "id": "2887c3d0",
   "metadata": {},
   "outputs": [
    {
     "data": {
      "text/plain": [
       "array([[1., 1., 1.],\n",
       "       [1., 1., 1.]])"
      ]
     },
     "execution_count": 132,
     "metadata": {},
     "output_type": "execute_result"
    }
   ],
   "source": [
    "np.ones((2,3))"
   ]
  },
  {
   "cell_type": "code",
   "execution_count": 133,
   "id": "a024f46d",
   "metadata": {},
   "outputs": [
    {
     "data": {
      "text/plain": [
       "array([[1, 1, 1],\n",
       "       [1, 1, 1]])"
      ]
     },
     "execution_count": 133,
     "metadata": {},
     "output_type": "execute_result"
    }
   ],
   "source": [
    "np.ones((2,3),dtype = int)"
   ]
  },
  {
   "cell_type": "code",
   "execution_count": 134,
   "id": "e29fc98a",
   "metadata": {},
   "outputs": [
    {
     "name": "stdout",
     "output_type": "stream",
     "text": [
      "[ 0  1  2  3  4  5  6  7  8  9 10 11 12 13 14 15]\n"
     ]
    }
   ],
   "source": [
    "array1 = np.arange(16)\n",
    "print(array1)"
   ]
  },
  {
   "cell_type": "code",
   "execution_count": 136,
   "id": "a4b757a0",
   "metadata": {},
   "outputs": [
    {
     "data": {
      "text/plain": [
       "array([[ 0,  1,  2,  3],\n",
       "       [ 4,  5,  6,  7],\n",
       "       [ 8,  9, 10, 11],\n",
       "       [12, 13, 14, 15]])"
      ]
     },
     "execution_count": 136,
     "metadata": {},
     "output_type": "execute_result"
    }
   ],
   "source": [
    "array1.reshape((4,4))"
   ]
  },
  {
   "cell_type": "code",
   "execution_count": 140,
   "id": "52ad1d76",
   "metadata": {},
   "outputs": [
    {
     "data": {
      "text/plain": [
       "array([[ 0,  1,  2,  3],\n",
       "       [ 4,  5,  6,  7],\n",
       "       [ 8,  9, 10, 11],\n",
       "       [12, 13, 14, 15]])"
      ]
     },
     "execution_count": 140,
     "metadata": {},
     "output_type": "execute_result"
    }
   ],
   "source": [
    "array1.shape =(4,4)\n",
    "array1"
   ]
  },
  {
   "cell_type": "code",
   "execution_count": 141,
   "id": "e1ea39a0",
   "metadata": {},
   "outputs": [
    {
     "data": {
      "text/plain": [
       "array([1, 2, 3, 4, 5, 6, 7, 8, 9])"
      ]
     },
     "execution_count": 141,
     "metadata": {},
     "output_type": "execute_result"
    }
   ],
   "source": [
    "np.arange(1,10)"
   ]
  },
  {
   "cell_type": "code",
   "execution_count": 157,
   "id": "92644004",
   "metadata": {},
   "outputs": [
    {
     "data": {
      "text/plain": [
       "array([[ 1.,  3.],\n",
       "       [ 5.,  7.],\n",
       "       [ 9., 11.]])"
      ]
     },
     "execution_count": 157,
     "metadata": {},
     "output_type": "execute_result"
    }
   ],
   "source": [
    "a=np.arange(1,12,2,dtype= float)\n",
    "a.shape = (2,3)\n",
    "np.reshape(a,(3,2))"
   ]
  },
  {
   "cell_type": "code",
   "execution_count": 162,
   "id": "531d9a47",
   "metadata": {},
   "outputs": [
    {
     "data": {
      "text/plain": [
       "(array([ 1.        ,  3.14285714,  5.28571429,  7.42857143,  9.57142857,\n",
       "        11.71428571, 13.85714286, 16.        ]),\n",
       " 2.142857142857143)"
      ]
     },
     "execution_count": 162,
     "metadata": {},
     "output_type": "execute_result"
    }
   ],
   "source": [
    "np.linspace(1,16,8,endpoint = True,retstep = True)"
   ]
  },
  {
   "cell_type": "code",
   "execution_count": 170,
   "id": "2d3f29d9",
   "metadata": {},
   "outputs": [
    {
     "data": {
      "text/plain": [
       "array([ 1.,  2.,  3.,  4.,  5.,  6.,  7.,  8.,  9., 10.])"
      ]
     },
     "execution_count": 170,
     "metadata": {},
     "output_type": "execute_result"
    }
   ],
   "source": [
    "np.linspace(1,10,10,endpoint = True )"
   ]
  },
  {
   "cell_type": "code",
   "execution_count": 173,
   "id": "7839ca36",
   "metadata": {},
   "outputs": [
    {
     "data": {
      "text/plain": [
       "array([[0.21736718, 0.79086883, 0.99942075, 0.62610827],\n",
       "       [0.68623866, 0.65797189, 0.91696516, 0.33250347],\n",
       "       [0.65937402, 0.95336485, 0.96166112, 0.96115966]])"
      ]
     },
     "execution_count": 173,
     "metadata": {},
     "output_type": "execute_result"
    }
   ],
   "source": [
    "np.random.random((3,4))"
   ]
  },
  {
   "cell_type": "code",
   "execution_count": 174,
   "id": "56f73cbc",
   "metadata": {},
   "outputs": [
    {
     "data": {
      "text/plain": [
       "3"
      ]
     },
     "execution_count": 174,
     "metadata": {},
     "output_type": "execute_result"
    }
   ],
   "source": [
    "np.random.randint(3,4)"
   ]
  },
  {
   "cell_type": "code",
   "execution_count": 175,
   "id": "711e0624",
   "metadata": {},
   "outputs": [
    {
     "data": {
      "text/plain": [
       "array([[0.87918242, 0.21466821, 0.46581696, 0.16090161],\n",
       "       [0.46686545, 0.83147416, 0.99802922, 0.4081631 ],\n",
       "       [0.30950446, 0.57616482, 0.35624341, 0.18149953]])"
      ]
     },
     "execution_count": 175,
     "metadata": {},
     "output_type": "execute_result"
    }
   ],
   "source": [
    "np.random.random((3,4))"
   ]
  },
  {
   "cell_type": "code",
   "execution_count": 176,
   "id": "2ba42b8d",
   "metadata": {},
   "outputs": [
    {
     "data": {
      "text/plain": [
       "array([[3, 2, 1],\n",
       "       [9, 3, 9]])"
      ]
     },
     "execution_count": 176,
     "metadata": {},
     "output_type": "execute_result"
    }
   ],
   "source": [
    "np.random.randint(1,10,size=(2,3))"
   ]
  },
  {
   "cell_type": "code",
   "execution_count": 177,
   "id": "29f7fd47",
   "metadata": {},
   "outputs": [
    {
     "data": {
      "text/plain": [
       "array([[11, 11, 11],\n",
       "       [11, 11, 11],\n",
       "       [11, 11, 11]])"
      ]
     },
     "execution_count": 177,
     "metadata": {},
     "output_type": "execute_result"
    }
   ],
   "source": [
    "np.full((3,3),11)"
   ]
  },
  {
   "cell_type": "code",
   "execution_count": 179,
   "id": "1dfe2104",
   "metadata": {},
   "outputs": [],
   "source": [
    "a=np.ones((3,3),dtype = int)"
   ]
  },
  {
   "cell_type": "code",
   "execution_count": 180,
   "id": "a9653d26",
   "metadata": {},
   "outputs": [
    {
     "data": {
      "text/plain": [
       "array([[11, 11, 11],\n",
       "       [11, 11, 11],\n",
       "       [11, 11, 11]])"
      ]
     },
     "execution_count": 180,
     "metadata": {},
     "output_type": "execute_result"
    }
   ],
   "source": [
    "a*11"
   ]
  },
  {
   "cell_type": "code",
   "execution_count": 181,
   "id": "0ba2968f",
   "metadata": {},
   "outputs": [
    {
     "data": {
      "text/plain": [
       "array([[34, 34, 34, 34],\n",
       "       [34, 34, 34, 34],\n",
       "       [34, 34, 34, 34]])"
      ]
     },
     "execution_count": 181,
     "metadata": {},
     "output_type": "execute_result"
    }
   ],
   "source": [
    "np.full((3,4),34)"
   ]
  },
  {
   "cell_type": "code",
   "execution_count": 187,
   "id": "e238f971",
   "metadata": {},
   "outputs": [],
   "source": [
    "a=np.ones((3,4),dtype = int)"
   ]
  },
  {
   "cell_type": "code",
   "execution_count": 188,
   "id": "74b6730c",
   "metadata": {},
   "outputs": [
    {
     "data": {
      "text/plain": [
       "array([[34, 34, 34, 34],\n",
       "       [34, 34, 34, 34],\n",
       "       [34, 34, 34, 34]])"
      ]
     },
     "execution_count": 188,
     "metadata": {},
     "output_type": "execute_result"
    }
   ],
   "source": [
    "a*34"
   ]
  },
  {
   "cell_type": "code",
   "execution_count": 194,
   "id": "2e115e52",
   "metadata": {},
   "outputs": [
    {
     "data": {
      "text/plain": [
       "array([[1, 0, 0, 0, 0, 0],\n",
       "       [0, 1, 0, 0, 0, 0],\n",
       "       [0, 0, 1, 0, 0, 0],\n",
       "       [0, 0, 0, 1, 0, 0],\n",
       "       [0, 0, 0, 0, 1, 0],\n",
       "       [0, 0, 0, 0, 0, 1]])"
      ]
     },
     "execution_count": 194,
     "metadata": {},
     "output_type": "execute_result"
    }
   ],
   "source": [
    "np.identity(6,dtype= int)"
   ]
  },
  {
   "cell_type": "code",
   "execution_count": 201,
   "id": "1d7541ed",
   "metadata": {},
   "outputs": [
    {
     "data": {
      "text/plain": [
       "array([16, 22, 23, 19, 20])"
      ]
     },
     "execution_count": 201,
     "metadata": {},
     "output_type": "execute_result"
    }
   ],
   "source": [
    "np.random.seed(1)\n",
    "a=np.random.randint(11,40, size = (5))\n",
    "a"
   ]
  },
  {
   "cell_type": "code",
   "execution_count": 202,
   "id": "9a7d2d2c",
   "metadata": {},
   "outputs": [
    {
     "data": {
      "text/plain": [
       "16"
      ]
     },
     "execution_count": 202,
     "metadata": {},
     "output_type": "execute_result"
    }
   ],
   "source": [
    "a[0]"
   ]
  },
  {
   "cell_type": "code",
   "execution_count": 203,
   "id": "709f2bb1",
   "metadata": {},
   "outputs": [
    {
     "data": {
      "text/plain": [
       "array([23, 22, 16])"
      ]
     },
     "execution_count": 203,
     "metadata": {},
     "output_type": "execute_result"
    }
   ],
   "source": [
    "a[-3::-1]"
   ]
  },
  {
   "cell_type": "code",
   "execution_count": 204,
   "id": "37461626",
   "metadata": {},
   "outputs": [
    {
     "data": {
      "text/plain": [
       "array([16, 23, 20])"
      ]
     },
     "execution_count": 204,
     "metadata": {},
     "output_type": "execute_result"
    }
   ],
   "source": [
    "a[0::2]"
   ]
  },
  {
   "cell_type": "code",
   "execution_count": 209,
   "id": "531cbec3",
   "metadata": {},
   "outputs": [
    {
     "data": {
      "text/plain": [
       "array([[0.69232262, 0.87638915, 0.89460666],\n",
       "       [0.08504421, 0.03905478, 0.16983042],\n",
       "       [0.8781425 , 0.09834683, 0.42110763],\n",
       "       [0.95788953, 0.53316528, 0.69187711],\n",
       "       [0.31551563, 0.68650093, 0.83462567]])"
      ]
     },
     "execution_count": 209,
     "metadata": {},
     "output_type": "execute_result"
    }
   ],
   "source": [
    "np.random.random((5,3))"
   ]
  },
  {
   "cell_type": "code",
   "execution_count": 210,
   "id": "6496b81d",
   "metadata": {},
   "outputs": [],
   "source": [
    "b = np.random.randint(1,30,size=(4,4))"
   ]
  },
  {
   "cell_type": "code",
   "execution_count": 211,
   "id": "d9e0403e",
   "metadata": {},
   "outputs": [
    {
     "data": {
      "text/plain": [
       "array([[14, 20, 10, 19],\n",
       "       [16,  1,  5, 26],\n",
       "       [16,  3, 24,  8],\n",
       "       [27, 26,  9, 23]])"
      ]
     },
     "execution_count": 211,
     "metadata": {},
     "output_type": "execute_result"
    }
   ],
   "source": [
    "b "
   ]
  },
  {
   "cell_type": "code",
   "execution_count": 212,
   "id": "c81fe920",
   "metadata": {},
   "outputs": [
    {
     "data": {
      "text/plain": [
       "24"
      ]
     },
     "execution_count": 212,
     "metadata": {},
     "output_type": "execute_result"
    }
   ],
   "source": [
    "b[2,2]"
   ]
  },
  {
   "cell_type": "code",
   "execution_count": 213,
   "id": "4d988ebe",
   "metadata": {},
   "outputs": [
    {
     "data": {
      "text/plain": [
       "array([[ 1,  5],\n",
       "       [ 3, 24]])"
      ]
     },
     "execution_count": 213,
     "metadata": {},
     "output_type": "execute_result"
    }
   ],
   "source": [
    "b[1:3,1:3]"
   ]
  },
  {
   "cell_type": "code",
   "execution_count": 216,
   "id": "0b653a14",
   "metadata": {},
   "outputs": [
    {
     "data": {
      "text/plain": [
       "array([[24,  3],\n",
       "       [ 5,  1]])"
      ]
     },
     "execution_count": 216,
     "metadata": {},
     "output_type": "execute_result"
    }
   ],
   "source": [
    "b[-2:-4:-1,-2:-4:-1]"
   ]
  },
  {
   "cell_type": "code",
   "execution_count": 219,
   "id": "8febe1e5",
   "metadata": {},
   "outputs": [
    {
     "name": "stdout",
     "output_type": "stream",
     "text": [
      "[[8 4 1 9]\n",
      " [8 8 2 2]\n",
      " [4 1 9 7]]\n",
      "the argument for the index is like (row,coloum) in 2 d matrix\n"
     ]
    }
   ],
   "source": [
    "two_array = np.random.randint(1,10, size = (3,4))\n",
    "print(two_array)\n",
    "two_array[1,2] # so this is basically get me the element which is at 2nd row and 3rd coloum and since we know that the rows and\n",
    "#coloum start form 0 and 0 in array so the index of second row is 1 and the index of 3rd coloum is 2\n",
    "print('the argument for the index is like (row,coloum) in 2 d matrix')"
   ]
  },
  {
   "cell_type": "code",
   "execution_count": 220,
   "id": "e1a278f0",
   "metadata": {},
   "outputs": [
    {
     "data": {
      "text/plain": [
       "7"
      ]
     },
     "execution_count": 220,
     "metadata": {},
     "output_type": "execute_result"
    }
   ],
   "source": [
    "two_array[2,3]"
   ]
  },
  {
   "cell_type": "code",
   "execution_count": 222,
   "id": "2fa984c3",
   "metadata": {},
   "outputs": [
    {
     "data": {
      "text/plain": [
       "array([[[53, 86, 71,  3],\n",
       "        [77, 92, 22, 76],\n",
       "        [ 8, 78, 73, 76],\n",
       "        [77, 44, 21, 31],\n",
       "        [37,  8, 46, 69]],\n",
       "\n",
       "       [[58, 83, 97, 14],\n",
       "        [11, 24, 82,  8],\n",
       "        [25, 75, 93, 21],\n",
       "        [33, 13, 66, 95],\n",
       "        [61, 25, 83, 98]],\n",
       "\n",
       "       [[ 3, 93, 99, 11],\n",
       "        [55, 97, 83, 87],\n",
       "        [71, 67, 72, 49],\n",
       "        [55, 16,  6, 18],\n",
       "        [43, 21, 49, 23]]])"
      ]
     },
     "execution_count": 222,
     "metadata": {},
     "output_type": "execute_result"
    }
   ],
   "source": [
    "a = np.random.randint(1,100,size=(3,5,4))\n",
    "a"
   ]
  },
  {
   "cell_type": "code",
   "execution_count": 225,
   "id": "7a787c04",
   "metadata": {},
   "outputs": [
    {
     "data": {
      "text/plain": [
       "array([[[98, 83],\n",
       "        [95, 66]],\n",
       "\n",
       "       [[69, 46],\n",
       "        [31, 21]]])"
      ]
     },
     "execution_count": 225,
     "metadata": {},
     "output_type": "execute_result"
    }
   ],
   "source": [
    "a[-2::-1,-1:-3:-1,-1:-3:-1]"
   ]
  },
  {
   "cell_type": "code",
   "execution_count": 227,
   "id": "c4b17246",
   "metadata": {},
   "outputs": [
    {
     "data": {
      "text/plain": [
       "array([[41, 16, 73, 23, 44, 83],\n",
       "       [76,  8, 35, 50, 96, 76],\n",
       "       [86, 48, 64, 32, 91, 21],\n",
       "       [38, 40, 68,  5, 43, 52],\n",
       "       [39, 34, 59, 68, 70, 89]])"
      ]
     },
     "execution_count": 227,
     "metadata": {},
     "output_type": "execute_result"
    }
   ],
   "source": [
    "np.random.seed(2)\n",
    "m = np.random.randint(1,100,size=(5,6))\n",
    "m"
   ]
  },
  {
   "cell_type": "code",
   "execution_count": 231,
   "id": "7c6653d0",
   "metadata": {},
   "outputs": [
    {
     "data": {
      "text/plain": [
       "array([[41, 76, 86, 38, 39],\n",
       "       [16,  8, 48, 40, 34],\n",
       "       [73, 35, 64, 68, 59],\n",
       "       [23, 50, 32,  5, 68],\n",
       "       [44, 96, 91, 43, 70],\n",
       "       [83, 76, 21, 52, 89]])"
      ]
     },
     "execution_count": 231,
     "metadata": {},
     "output_type": "execute_result"
    }
   ],
   "source": [
    "m.transpose()"
   ]
  },
  {
   "cell_type": "code",
   "execution_count": 232,
   "id": "486669f2",
   "metadata": {},
   "outputs": [
    {
     "data": {
      "text/plain": [
       "array([[41, 76, 86, 38, 39],\n",
       "       [16,  8, 48, 40, 34],\n",
       "       [73, 35, 64, 68, 59],\n",
       "       [23, 50, 32,  5, 68],\n",
       "       [44, 96, 91, 43, 70],\n",
       "       [83, 76, 21, 52, 89]])"
      ]
     },
     "execution_count": 232,
     "metadata": {},
     "output_type": "execute_result"
    }
   ],
   "source": [
    "np.transpose(m)"
   ]
  },
  {
   "cell_type": "code",
   "execution_count": 233,
   "id": "545d0038",
   "metadata": {},
   "outputs": [
    {
     "data": {
      "text/plain": [
       "array([[41, 16, 73],\n",
       "       [23, 44, 83],\n",
       "       [76,  8, 35],\n",
       "       [50, 96, 76],\n",
       "       [86, 48, 64],\n",
       "       [32, 91, 21],\n",
       "       [38, 40, 68],\n",
       "       [ 5, 43, 52],\n",
       "       [39, 34, 59],\n",
       "       [68, 70, 89]])"
      ]
     },
     "execution_count": 233,
     "metadata": {},
     "output_type": "execute_result"
    }
   ],
   "source": [
    "np.reshape(m,(10,3))"
   ]
  },
  {
   "cell_type": "code",
   "execution_count": 236,
   "id": "96b09712",
   "metadata": {},
   "outputs": [
    {
     "name": "stdout",
     "output_type": "stream",
     "text": [
      "[[41 16]\n",
      " [73 23]\n",
      " [44 83]\n",
      " [76  8]\n",
      " [35 50]\n",
      " [96 76]\n",
      " [86 48]\n",
      " [64 32]\n",
      " [91 21]\n",
      " [38 40]\n",
      " [68  5]\n",
      " [43 52]\n",
      " [39 34]\n",
      " [59 68]\n",
      " [70 89]]\n"
     ]
    }
   ],
   "source": [
    "m.shape = (15,2)\n",
    "print(m)"
   ]
  },
  {
   "cell_type": "code",
   "execution_count": 241,
   "id": "e0279683",
   "metadata": {},
   "outputs": [
    {
     "ename": "AttributeError",
     "evalue": "module 'numpy' has no attribute 'flatten'",
     "output_type": "error",
     "traceback": [
      "\u001b[1;31m---------------------------------------------------------------------------\u001b[0m",
      "\u001b[1;31mAttributeError\u001b[0m                            Traceback (most recent call last)",
      "Input \u001b[1;32mIn [241]\u001b[0m, in \u001b[0;36m<cell line: 1>\u001b[1;34m()\u001b[0m\n\u001b[1;32m----> 1\u001b[0m \u001b[43mnp\u001b[49m\u001b[38;5;241;43m.\u001b[39;49m\u001b[43mflatten\u001b[49m(m)\n",
      "File \u001b[1;32mC:\\ProgramData\\Anaconda3\\lib\\site-packages\\numpy\\__init__.py:313\u001b[0m, in \u001b[0;36m__getattr__\u001b[1;34m(attr)\u001b[0m\n\u001b[0;32m    310\u001b[0m     \u001b[38;5;28;01mfrom\u001b[39;00m \u001b[38;5;21;01m.\u001b[39;00m\u001b[38;5;21;01mtesting\u001b[39;00m \u001b[38;5;28;01mimport\u001b[39;00m Tester\n\u001b[0;32m    311\u001b[0m     \u001b[38;5;28;01mreturn\u001b[39;00m Tester\n\u001b[1;32m--> 313\u001b[0m \u001b[38;5;28;01mraise\u001b[39;00m \u001b[38;5;167;01mAttributeError\u001b[39;00m(\u001b[38;5;124m\"\u001b[39m\u001b[38;5;124mmodule \u001b[39m\u001b[38;5;132;01m{!r}\u001b[39;00m\u001b[38;5;124m has no attribute \u001b[39m\u001b[38;5;124m\"\u001b[39m\n\u001b[0;32m    314\u001b[0m                      \u001b[38;5;124m\"\u001b[39m\u001b[38;5;132;01m{!r}\u001b[39;00m\u001b[38;5;124m\"\u001b[39m\u001b[38;5;241m.\u001b[39mformat(\u001b[38;5;18m__name__\u001b[39m, attr))\n",
      "\u001b[1;31mAttributeError\u001b[0m: module 'numpy' has no attribute 'flatten'"
     ]
    }
   ],
   "source": [
    "np.flatten(m)"
   ]
  },
  {
   "cell_type": "code",
   "execution_count": 242,
   "id": "aca7f258",
   "metadata": {},
   "outputs": [
    {
     "data": {
      "text/plain": [
       "array([41, 16, 73, 23, 44, 83, 76,  8, 35, 50, 96, 76, 86, 48, 64, 32, 91,\n",
       "       21, 38, 40, 68,  5, 43, 52, 39, 34, 59, 68, 70, 89])"
      ]
     },
     "execution_count": 242,
     "metadata": {},
     "output_type": "execute_result"
    }
   ],
   "source": [
    "m.flatten()"
   ]
  },
  {
   "cell_type": "code",
   "execution_count": 246,
   "id": "022da28b",
   "metadata": {},
   "outputs": [
    {
     "data": {
      "text/plain": [
       "array([[[41, 16, 73, 23, 44],\n",
       "        [83, 76,  8, 35, 50]],\n",
       "\n",
       "       [[96, 76, 86, 48, 64],\n",
       "        [32, 91, 21, 38, 40]],\n",
       "\n",
       "       [[68,  5, 43, 52, 39],\n",
       "        [34, 59, 68, 70, 89]]])"
      ]
     },
     "execution_count": 246,
     "metadata": {},
     "output_type": "execute_result"
    }
   ],
   "source": [
    "np.resize(m,(3,2,5))"
   ]
  },
  {
   "cell_type": "code",
   "execution_count": 247,
   "id": "6b253eb8",
   "metadata": {},
   "outputs": [
    {
     "name": "stdout",
     "output_type": "stream",
     "text": [
      "[1, 100, 3, 4]\n",
      "[1, 100, 3, 4]\n"
     ]
    }
   ],
   "source": [
    "a = [1,2,3,4]\n",
    "b = a\n",
    "b[1] = 100\n",
    "print(a)\n",
    "print(b)"
   ]
  },
  {
   "cell_type": "code",
   "execution_count": 248,
   "id": "276575f5",
   "metadata": {},
   "outputs": [
    {
     "name": "stdout",
     "output_type": "stream",
     "text": [
      "[1, 2, 3, 4]\n",
      "[1, 1345, 3, 4]\n"
     ]
    }
   ],
   "source": [
    "a = [1,2,3,4]\n",
    "b = list(a)\n",
    "b[1] = 1345\n",
    "print(a)\n",
    "print(b)"
   ]
  },
  {
   "cell_type": "code",
   "execution_count": 253,
   "id": "7d917fe1",
   "metadata": {},
   "outputs": [
    {
     "name": "stdout",
     "output_type": "stream",
     "text": [
      "[1, 2, 3, [100, 12, 21]]\n",
      "[1, 3452435, 3, [100, 12, 21]]\n"
     ]
    }
   ],
   "source": [
    "a = [1,2,3,[34,12,21]]\n",
    "b = list(a)\n",
    "b[3][0] = 100\n",
    "b[1] = 3452435\n",
    "print(a)\n",
    "print(b)"
   ]
  },
  {
   "cell_type": "code",
   "execution_count": 255,
   "id": "bec4606f",
   "metadata": {},
   "outputs": [
    {
     "data": {
      "text/plain": [
       "array([[172, 112, 105, 100],\n",
       "       [128, 127, 171, 175],\n",
       "       [185, 147, 193, 117],\n",
       "       [131, 123, 132, 162],\n",
       "       [110, 115, 168, 139]])"
      ]
     },
     "execution_count": 255,
     "metadata": {},
     "output_type": "execute_result"
    }
   ],
   "source": [
    "np.random.seed(15)\n",
    "m = np.random.randint(100,199,size = (5,4))\n",
    "m"
   ]
  },
  {
   "cell_type": "code",
   "execution_count": 256,
   "id": "816086c4",
   "metadata": {},
   "outputs": [
    {
     "data": {
      "text/plain": [
       "array([[172, 128, 185, 131, 110],\n",
       "       [112, 127, 147, 123, 115],\n",
       "       [105, 171, 193, 132, 168],\n",
       "       [100, 175, 117, 162, 139]])"
      ]
     },
     "execution_count": 256,
     "metadata": {},
     "output_type": "execute_result"
    }
   ],
   "source": [
    "m.transpose()"
   ]
  },
  {
   "cell_type": "code",
   "execution_count": 257,
   "id": "742db5b4",
   "metadata": {},
   "outputs": [
    {
     "data": {
      "text/plain": [
       "array([[172, 128, 185, 131, 110],\n",
       "       [112, 127, 147, 123, 115],\n",
       "       [105, 171, 193, 132, 168],\n",
       "       [100, 175, 117, 162, 139]])"
      ]
     },
     "execution_count": 257,
     "metadata": {},
     "output_type": "execute_result"
    }
   ],
   "source": [
    "np.transpose(m)"
   ]
  },
  {
   "cell_type": "code",
   "execution_count": 258,
   "id": "0356e63a",
   "metadata": {},
   "outputs": [
    {
     "data": {
      "text/plain": [
       "array([[172, 112, 105, 100, 128],\n",
       "       [127, 171, 175, 185, 147],\n",
       "       [193, 117, 131, 123, 132],\n",
       "       [162, 110, 115, 168, 139]])"
      ]
     },
     "execution_count": 258,
     "metadata": {},
     "output_type": "execute_result"
    }
   ],
   "source": [
    "m.shape = (4,5)\n",
    "m"
   ]
  },
  {
   "cell_type": "code",
   "execution_count": 261,
   "id": "6eb00c95",
   "metadata": {},
   "outputs": [
    {
     "data": {
      "text/plain": [
       "array([[[172, 112],\n",
       "        [105, 100],\n",
       "        [128, 127],\n",
       "        [171, 175],\n",
       "        [185, 147]],\n",
       "\n",
       "       [[193, 117],\n",
       "        [131, 123],\n",
       "        [132, 162],\n",
       "        [110, 115],\n",
       "        [168, 139]]])"
      ]
     },
     "execution_count": 261,
     "metadata": {},
     "output_type": "execute_result"
    }
   ],
   "source": [
    "np.reshape(m,(2,5,2))"
   ]
  },
  {
   "cell_type": "code",
   "execution_count": 264,
   "id": "1669ecd1",
   "metadata": {},
   "outputs": [
    {
     "data": {
      "text/plain": [
       "array([172, 112, 105, 100])"
      ]
     },
     "execution_count": 264,
     "metadata": {},
     "output_type": "execute_result"
    }
   ],
   "source": [
    "np.resize(m,4)"
   ]
  },
  {
   "cell_type": "code",
   "execution_count": 265,
   "id": "23c6fe16",
   "metadata": {},
   "outputs": [
    {
     "ename": "ValueError",
     "evalue": "cannot resize an array that references or is referenced\nby another array in this way.\nUse the np.resize function or refcheck=False",
     "output_type": "error",
     "traceback": [
      "\u001b[1;31m---------------------------------------------------------------------------\u001b[0m",
      "\u001b[1;31mValueError\u001b[0m                                Traceback (most recent call last)",
      "Input \u001b[1;32mIn [265]\u001b[0m, in \u001b[0;36m<cell line: 1>\u001b[1;34m()\u001b[0m\n\u001b[1;32m----> 1\u001b[0m \u001b[43mm\u001b[49m\u001b[38;5;241;43m.\u001b[39;49m\u001b[43mresize\u001b[49m\u001b[43m(\u001b[49m\u001b[38;5;241;43m30\u001b[39;49m\u001b[43m)\u001b[49m\n",
      "\u001b[1;31mValueError\u001b[0m: cannot resize an array that references or is referenced\nby another array in this way.\nUse the np.resize function or refcheck=False"
     ]
    }
   ],
   "source": [
    "m.resize(30)"
   ]
  },
  {
   "cell_type": "code",
   "execution_count": 269,
   "id": "8cf507f7",
   "metadata": {},
   "outputs": [],
   "source": [
    "x=np.resize(m,(40))"
   ]
  },
  {
   "cell_type": "code",
   "execution_count": 271,
   "id": "be22ed1d",
   "metadata": {},
   "outputs": [],
   "source": [
    "z=np.reshape(x,(2,4,5))"
   ]
  },
  {
   "cell_type": "code",
   "execution_count": 272,
   "id": "3c772887",
   "metadata": {},
   "outputs": [
    {
     "data": {
      "text/plain": [
       "array([172, 112, 105, 100, 128, 127, 171, 175, 185, 147, 193, 117, 131,\n",
       "       123, 132, 162, 110, 115, 168, 139, 172, 112, 105, 100, 128, 127,\n",
       "       171, 175, 185, 147, 193, 117, 131, 123, 132, 162, 110, 115, 168,\n",
       "       139])"
      ]
     },
     "execution_count": 272,
     "metadata": {},
     "output_type": "execute_result"
    }
   ],
   "source": [
    "z.flatten()"
   ]
  },
  {
   "cell_type": "code",
   "execution_count": 273,
   "id": "b6ebb787",
   "metadata": {},
   "outputs": [
    {
     "ename": "AttributeError",
     "evalue": "module 'numpy' has no attribute 'flatten'",
     "output_type": "error",
     "traceback": [
      "\u001b[1;31m---------------------------------------------------------------------------\u001b[0m",
      "\u001b[1;31mAttributeError\u001b[0m                            Traceback (most recent call last)",
      "Input \u001b[1;32mIn [273]\u001b[0m, in \u001b[0;36m<cell line: 1>\u001b[1;34m()\u001b[0m\n\u001b[1;32m----> 1\u001b[0m \u001b[43mnp\u001b[49m\u001b[38;5;241;43m.\u001b[39;49m\u001b[43mflatten\u001b[49m(z)\n",
      "File \u001b[1;32mC:\\ProgramData\\Anaconda3\\lib\\site-packages\\numpy\\__init__.py:313\u001b[0m, in \u001b[0;36m__getattr__\u001b[1;34m(attr)\u001b[0m\n\u001b[0;32m    310\u001b[0m     \u001b[38;5;28;01mfrom\u001b[39;00m \u001b[38;5;21;01m.\u001b[39;00m\u001b[38;5;21;01mtesting\u001b[39;00m \u001b[38;5;28;01mimport\u001b[39;00m Tester\n\u001b[0;32m    311\u001b[0m     \u001b[38;5;28;01mreturn\u001b[39;00m Tester\n\u001b[1;32m--> 313\u001b[0m \u001b[38;5;28;01mraise\u001b[39;00m \u001b[38;5;167;01mAttributeError\u001b[39;00m(\u001b[38;5;124m\"\u001b[39m\u001b[38;5;124mmodule \u001b[39m\u001b[38;5;132;01m{!r}\u001b[39;00m\u001b[38;5;124m has no attribute \u001b[39m\u001b[38;5;124m\"\u001b[39m\n\u001b[0;32m    314\u001b[0m                      \u001b[38;5;124m\"\u001b[39m\u001b[38;5;132;01m{!r}\u001b[39;00m\u001b[38;5;124m\"\u001b[39m\u001b[38;5;241m.\u001b[39mformat(\u001b[38;5;18m__name__\u001b[39m, attr))\n",
      "\u001b[1;31mAttributeError\u001b[0m: module 'numpy' has no attribute 'flatten'"
     ]
    }
   ],
   "source": [
    "np.flatten(z)"
   ]
  },
  {
   "cell_type": "code",
   "execution_count": 274,
   "id": "90865472",
   "metadata": {},
   "outputs": [
    {
     "name": "stdout",
     "output_type": "stream",
     "text": [
      "[1, 34, 3]\n",
      "[1, 34, 3]\n"
     ]
    }
   ],
   "source": [
    "a = [1,2,3]\n",
    "b = a\n",
    "b[1] = 34\n",
    "print(a)\n",
    "print(b)"
   ]
  },
  {
   "cell_type": "code",
   "execution_count": 275,
   "id": "f10569ad",
   "metadata": {},
   "outputs": [
    {
     "name": "stdout",
     "output_type": "stream",
     "text": [
      "[1, 2, 3]\n",
      "[1, 122, 3]\n"
     ]
    }
   ],
   "source": [
    "a = [1,2,3]\n",
    "b = list(a)\n",
    "b[1] = 122\n",
    "print(a)\n",
    "print(b)"
   ]
  },
  {
   "cell_type": "code",
   "execution_count": 276,
   "id": "ca9f1225",
   "metadata": {},
   "outputs": [
    {
     "name": "stdout",
     "output_type": "stream",
     "text": [
      "[1, 2, 3, [34, 12, 'deepu']]\n",
      "[999, 2, 3, [34, 12, 'deepu']]\n"
     ]
    }
   ],
   "source": [
    "a = [1,2,3,[34,12,563]]\n",
    "b = list(a) # shallow copy the nested list is point to same object\n",
    "b[0] = 999\n",
    "b[3][-1] = 'deepu'\n",
    "print(a)\n",
    "print(b)"
   ]
  },
  {
   "cell_type": "code",
   "execution_count": 280,
   "id": "a5bffca0",
   "metadata": {},
   "outputs": [
    {
     "name": "stdout",
     "output_type": "stream",
     "text": [
      "[1, 2, 3, [32, 23, 101]]\n",
      "[9999, 2, 3, [32, 23, 101]]\n"
     ]
    }
   ],
   "source": [
    "a = [1,2,3,[32,23,43]]\n",
    "b = a.copy() # still shallow copy import copy module \n",
    "b[0] = 9999\n",
    "b[-1][-1] = 101\n",
    "print(a)\n",
    "print(b)"
   ]
  },
  {
   "cell_type": "markdown",
   "id": "5aa263ad",
   "metadata": {},
   "source": [
    "ops you forget to import deep copy"
   ]
  },
  {
   "cell_type": "code",
   "execution_count": 279,
   "id": "5a992e1b",
   "metadata": {},
   "outputs": [
    {
     "name": "stdout",
     "output_type": "stream",
     "text": [
      "[1, 2, 3, [32, 23, 43]]\n",
      "[9999, 2, 3, [32, 23, 101]]\n"
     ]
    }
   ],
   "source": [
    "import copy\n",
    "a = [1,2,3,[32,23,43]]\n",
    "b = copy.deepcopy(a)\n",
    "b[0] = 9999\n",
    "b[-1][-1] = 101\n",
    "print(a)\n",
    "print(b)"
   ]
  },
  {
   "cell_type": "code",
   "execution_count": 283,
   "id": "1519e8a3",
   "metadata": {},
   "outputs": [
    {
     "name": "stdout",
     "output_type": "stream",
     "text": [
      "[  1 100   3   4   5   6   7   8   9]\n",
      "[  1 100   3   4   5   6   7   8   9]\n"
     ]
    }
   ],
   "source": [
    "a = np.arange(1,10)\n",
    "b = a.view() # shallow copy\n",
    "a[1] = 100\n",
    "print(a)\n",
    "print(b)"
   ]
  },
  {
   "cell_type": "code",
   "execution_count": 285,
   "id": "b649d78f",
   "metadata": {},
   "outputs": [
    {
     "name": "stdout",
     "output_type": "stream",
     "text": [
      "[100  12  13  14  15  16  17  18  19]\n",
      "[11 12 13 14 15 16 17 18 19]\n"
     ]
    }
   ],
   "source": [
    "a = np.arange(11,20)\n",
    "b = a.copy()\n",
    "a[0] = 100\n",
    "print(a)\n",
    "print(b)"
   ]
  },
  {
   "cell_type": "code",
   "execution_count": 7,
   "id": "dfb581cd",
   "metadata": {},
   "outputs": [
    {
     "data": {
      "text/plain": [
       "array([[[1, 1, 1],\n",
       "        [1, 1, 1],\n",
       "        [1, 1, 1]],\n",
       "\n",
       "       [[1, 1, 1],\n",
       "        [1, 1, 1],\n",
       "        [1, 1, 1]],\n",
       "\n",
       "       [[1, 1, 1],\n",
       "        [1, 1, 1],\n",
       "        [1, 1, 1]]])"
      ]
     },
     "execution_count": 7,
     "metadata": {},
     "output_type": "execute_result"
    }
   ],
   "source": [
    "import numpy as np\n",
    "np.zeros((3,3,3),dtype=int)\n",
    "np.ones((3,3,3),dtype = int)"
   ]
  },
  {
   "cell_type": "code",
   "execution_count": 12,
   "id": "e040ea08",
   "metadata": {},
   "outputs": [
    {
     "name": "stdout",
     "output_type": "stream",
     "text": [
      "3 3 3\n",
      "[[[0 0 0]\n",
      "  [0 0 0]\n",
      "  [0 0 0]]\n",
      "\n",
      " [[0 0 0]\n",
      "  [0 0 0]\n",
      "  [0 0 0]]\n",
      "\n",
      " [[0 0 0]\n",
      "  [0 0 0]\n",
      "  [0 0 0]]]\n",
      "[[[1 1 1]\n",
      "  [1 1 1]\n",
      "  [1 1 1]]\n",
      "\n",
      " [[1 1 1]\n",
      "  [1 1 1]\n",
      "  [1 1 1]]\n",
      "\n",
      " [[1 1 1]\n",
      "  [1 1 1]\n",
      "  [1 1 1]]]\n"
     ]
    }
   ],
   "source": [
    "val = input().strip()\n",
    "user_input = tuple(eval(i) for i in val.split(' '))\n",
    "#print(user_input)\n",
    "array1 = np.zeros((user_input),dtype = int)\n",
    "array2 = np.ones((user_input),dtype = int)\n",
    "print(array1)\n",
    "print(array2)"
   ]
  },
  {
   "cell_type": "code",
   "execution_count": 16,
   "id": "36ab3716",
   "metadata": {},
   "outputs": [
    {
     "ename": "SyntaxError",
     "evalue": "invalid syntax (477988178.py, line 1)",
     "output_type": "error",
     "traceback": [
      "\u001b[1;36m  Input \u001b[1;32mIn [16]\u001b[1;36m\u001b[0m\n\u001b[1;33m    np.identity((3,3)dtype = int)\u001b[0m\n\u001b[1;37m                     ^\u001b[0m\n\u001b[1;31mSyntaxError\u001b[0m\u001b[1;31m:\u001b[0m invalid syntax\n"
     ]
    }
   ],
   "source": [
    "np.identity((3,3)dtype = int)"
   ]
  },
  {
   "cell_type": "code",
   "execution_count": 21,
   "id": "f4235aab",
   "metadata": {},
   "outputs": [
    {
     "name": "stdout",
     "output_type": "stream",
     "text": [
      "3 3\n",
      "[[1. 0. 0.]\n",
      " [0. 1. 0.]\n",
      " [0. 0. 1.]]\n"
     ]
    }
   ],
   "source": [
    "val = input().strip()\n",
    "user_input = {eval(i) for i in val.split(' ')}\n",
    "arg = list(user_input)\n",
    "array = np.identity(arg[-1])\n",
    "print(array)"
   ]
  },
  {
   "cell_type": "code",
   "execution_count": 22,
   "id": "5c149ba6",
   "metadata": {},
   "outputs": [],
   "source": [
    "import numpy as np"
   ]
  },
  {
   "cell_type": "code",
   "execution_count": 24,
   "id": "5737d845",
   "metadata": {},
   "outputs": [
    {
     "data": {
      "text/plain": [
       "array([[1, 2, 3],\n",
       "       [1, 2, 3]])"
      ]
     },
     "execution_count": 24,
     "metadata": {},
     "output_type": "execute_result"
    }
   ],
   "source": [
    "li1 = [1,2,3]\n",
    "li2 = [1,2,3]\n",
    "np.array((li1,li2))"
   ]
  },
  {
   "cell_type": "code",
   "execution_count": 26,
   "id": "ad08b9ed",
   "metadata": {},
   "outputs": [
    {
     "data": {
      "text/plain": [
       "array([2, 4, 6])"
      ]
     },
     "execution_count": 26,
     "metadata": {},
     "output_type": "execute_result"
    }
   ],
   "source": [
    "np.add(li1,li2)"
   ]
  },
  {
   "cell_type": "code",
   "execution_count": 28,
   "id": "ae909549",
   "metadata": {},
   "outputs": [
    {
     "data": {
      "text/plain": [
       "0"
      ]
     },
     "execution_count": 28,
     "metadata": {},
     "output_type": "execute_result"
    }
   ],
   "source": [
    "np.array(6).ndim"
   ]
  },
  {
   "cell_type": "code",
   "execution_count": 30,
   "id": "4f267a4e",
   "metadata": {},
   "outputs": [
    {
     "data": {
      "text/plain": [
       "1"
      ]
     },
     "execution_count": 30,
     "metadata": {},
     "output_type": "execute_result"
    }
   ],
   "source": [
    "l = []\n",
    "np.array(l).ndim"
   ]
  },
  {
   "cell_type": "code",
   "execution_count": 31,
   "id": "58673c57",
   "metadata": {},
   "outputs": [
    {
     "data": {
      "text/plain": [
       "1"
      ]
     },
     "execution_count": 31,
     "metadata": {},
     "output_type": "execute_result"
    }
   ],
   "source": [
    "lis1 =[1,2,3,4]\n",
    "np.array(lis1).ndim"
   ]
  },
  {
   "cell_type": "code",
   "execution_count": 32,
   "id": "5f5962f5",
   "metadata": {},
   "outputs": [],
   "source": [
    "val = 8\n",
    "list1 = [1,2,3,4]\n",
    "list2 = [[1,2,3,4], [1,2,3,4]]\n",
    "list3 =[[[1,2,3,4], [1,2,3,4]],[[1,2,3,4], [1,2,3,4]]]"
   ]
  },
  {
   "cell_type": "code",
   "execution_count": 33,
   "id": "7e48e20d",
   "metadata": {},
   "outputs": [],
   "source": [
    "array0 = np.array(val)\n",
    "array1 = np.array(list1)\n",
    "array2 = np.array(list2)\n",
    "array3 = np.array(list3)"
   ]
  },
  {
   "cell_type": "code",
   "execution_count": 35,
   "id": "443fb2d8",
   "metadata": {},
   "outputs": [
    {
     "name": "stdout",
     "output_type": "stream",
     "text": [
      "8\n",
      "0\n",
      "()\n",
      "1\n",
      "int32\n"
     ]
    }
   ],
   "source": [
    "print(array0)\n",
    "print(array0.ndim)\n",
    "print(array0.shape)\n",
    "print(array0.size)\n",
    "print(array0.dtype)"
   ]
  },
  {
   "cell_type": "code",
   "execution_count": 36,
   "id": "f11ad663",
   "metadata": {},
   "outputs": [
    {
     "name": "stdout",
     "output_type": "stream",
     "text": [
      "[1 2 3 4]\n",
      "1\n",
      "(4,)\n",
      "4\n",
      "int32\n"
     ]
    }
   ],
   "source": [
    "print(array1)\n",
    "print(array1.ndim)\n",
    "print(array1.shape)\n",
    "print(array1.size)\n",
    "print(array1.dtype)"
   ]
  },
  {
   "cell_type": "code",
   "execution_count": 37,
   "id": "aca7ae15",
   "metadata": {},
   "outputs": [
    {
     "name": "stdout",
     "output_type": "stream",
     "text": [
      "[[[1 2 3 4]\n",
      "  [1 2 3 4]]\n",
      "\n",
      " [[1 2 3 4]\n",
      "  [1 2 3 4]]]\n"
     ]
    }
   ],
   "source": [
    "print(array3)"
   ]
  },
  {
   "cell_type": "code",
   "execution_count": 39,
   "id": "38c7913e",
   "metadata": {},
   "outputs": [
    {
     "data": {
      "text/plain": [
       "array([[[1., 2., 3., 4.],\n",
       "        [1., 2., 3., 4.]],\n",
       "\n",
       "       [[1., 2., 3., 4.],\n",
       "        [1., 2., 3., 4.]]])"
      ]
     },
     "execution_count": 39,
     "metadata": {},
     "output_type": "execute_result"
    }
   ],
   "source": [
    "array3.astype(float)"
   ]
  },
  {
   "cell_type": "code",
   "execution_count": 42,
   "id": "f66b3440",
   "metadata": {},
   "outputs": [],
   "source": [
    "#performation\n",
    "import time "
   ]
  },
  {
   "cell_type": "code",
   "execution_count": 50,
   "id": "7263767f",
   "metadata": {},
   "outputs": [
    {
     "name": "stdout",
     "output_type": "stream",
     "text": [
      "1.9761171340942383\n",
      "0.02898716926574707\n"
     ]
    }
   ],
   "source": [
    "size = 10000000\n",
    "lis1 = range(size)\n",
    "lis2 = range(size)\n",
    "start = time.time()\n",
    "[i*j for i,j in zip(lis1,lis2)]\n",
    "print(time.time()-start)\n",
    "\n",
    "array1 = np.arange(size)\n",
    "array2 = np.arange(size)\n",
    "start1 = time.time()\n",
    "array3 = array1*array2\n",
    "print(time.time()-start1)"
   ]
  },
  {
   "cell_type": "code",
   "execution_count": 59,
   "id": "0a9842ea",
   "metadata": {},
   "outputs": [
    {
     "name": "stdout",
     "output_type": "stream",
     "text": [
      "856\n",
      "72\n",
      "8\n"
     ]
    }
   ],
   "source": [
    "import sys\n",
    "size = 100\n",
    "lis = list(range(size))\n",
    "print(sys.getsizeof(lis))\n",
    "arrray = np.arange(size)\n",
    "print(array.nbytes)\n",
    "print(array.itemsize)"
   ]
  },
  {
   "cell_type": "code",
   "execution_count": 60,
   "id": "b150c25d",
   "metadata": {},
   "outputs": [
    {
     "ename": "TypeError",
     "evalue": "can only concatenate list (not \"int\") to list",
     "output_type": "error",
     "traceback": [
      "\u001b[1;31m---------------------------------------------------------------------------\u001b[0m",
      "\u001b[1;31mTypeError\u001b[0m                                 Traceback (most recent call last)",
      "Input \u001b[1;32mIn [60]\u001b[0m, in \u001b[0;36m<cell line: 2>\u001b[1;34m()\u001b[0m\n\u001b[0;32m      1\u001b[0m lis \u001b[38;5;241m=\u001b[39m [\u001b[38;5;241m1\u001b[39m,\u001b[38;5;241m2\u001b[39m,\u001b[38;5;241m3\u001b[39m,\u001b[38;5;241m4\u001b[39m] \n\u001b[1;32m----> 2\u001b[0m lis \u001b[38;5;241m=\u001b[39m \u001b[43mlis\u001b[49m\u001b[43m \u001b[49m\u001b[38;5;241;43m+\u001b[39;49m\u001b[43m \u001b[49m\u001b[38;5;241;43m4\u001b[39;49m\n",
      "\u001b[1;31mTypeError\u001b[0m: can only concatenate list (not \"int\") to list"
     ]
    }
   ],
   "source": [
    "lis = [1,2,3,4] \n",
    "lis = lis + 4"
   ]
  },
  {
   "cell_type": "code",
   "execution_count": 61,
   "id": "940a9dba",
   "metadata": {},
   "outputs": [
    {
     "name": "stdout",
     "output_type": "stream",
     "text": [
      "[5, 6, 7, 8]\n"
     ]
    }
   ],
   "source": [
    "z = []\n",
    "for i in lis:\n",
    "    y = i+4\n",
    "    z.append(y)\n",
    "print(z)    "
   ]
  },
  {
   "cell_type": "code",
   "execution_count": 62,
   "id": "b7cdfbd9",
   "metadata": {},
   "outputs": [
    {
     "name": "stdout",
     "output_type": "stream",
     "text": [
      "[1 2 3 4]\n",
      "[5 6 7 8]\n"
     ]
    }
   ],
   "source": [
    "array = np.array(lis)\n",
    "print(array)\n",
    "array = array + 4\n",
    "print(array)"
   ]
  },
  {
   "cell_type": "code",
   "execution_count": 67,
   "id": "a4f1f5a4",
   "metadata": {},
   "outputs": [
    {
     "data": {
      "text/plain": [
       "array([[4128860, 6029375, 3801155, 5570652],\n",
       "       [6619251, 7536754, 4456540, 6619237],\n",
       "       [7667824, 4259932, 7340144, 6357060],\n",
       "       [6357108, 4980828, 6488175, 7077985]])"
      ]
     },
     "execution_count": 67,
     "metadata": {},
     "output_type": "execute_result"
    }
   ],
   "source": [
    "np.empty((4,4),dtype = int)"
   ]
  },
  {
   "cell_type": "code",
   "execution_count": 68,
   "id": "130bf58d",
   "metadata": {},
   "outputs": [
    {
     "data": {
      "text/plain": [
       "array([[[         0, 1072693248,          0],\n",
       "        [         0,          0,          0],\n",
       "        [         0,          0,          0]],\n",
       "\n",
       "       [[1072693248,          0,          0],\n",
       "        [         0,          0,          0],\n",
       "        [         0,          0, 1072693248]]])"
      ]
     },
     "execution_count": 68,
     "metadata": {},
     "output_type": "execute_result"
    }
   ],
   "source": [
    "np.empty((2,3,3),dtype = int)"
   ]
  },
  {
   "cell_type": "code",
   "execution_count": 69,
   "id": "9ac0bc17",
   "metadata": {},
   "outputs": [
    {
     "data": {
      "text/plain": [
       "array([[0, 0, 0, 0],\n",
       "       [0, 0, 0, 0],\n",
       "       [0, 0, 0, 0]])"
      ]
     },
     "execution_count": 69,
     "metadata": {},
     "output_type": "execute_result"
    }
   ],
   "source": [
    "np.empty((3,4),dtype = int)"
   ]
  },
  {
   "cell_type": "code",
   "execution_count": 70,
   "id": "9c6d68ad",
   "metadata": {},
   "outputs": [
    {
     "data": {
      "text/plain": [
       "array([[0., 0., 0.],\n",
       "       [0., 0., 0.],\n",
       "       [0., 0., 0.]])"
      ]
     },
     "execution_count": 70,
     "metadata": {},
     "output_type": "execute_result"
    }
   ],
   "source": [
    "np.zeros((3,3),dtype = float )"
   ]
  },
  {
   "cell_type": "code",
   "execution_count": 71,
   "id": "e5b49219",
   "metadata": {},
   "outputs": [
    {
     "data": {
      "text/plain": [
       "array([[0, 0, 0, 0],\n",
       "       [0, 0, 0, 0],\n",
       "       [0, 0, 0, 0],\n",
       "       [0, 0, 0, 0]])"
      ]
     },
     "execution_count": 71,
     "metadata": {},
     "output_type": "execute_result"
    }
   ],
   "source": [
    "np.zeros((4,4),dtype = int )"
   ]
  },
  {
   "cell_type": "code",
   "execution_count": 72,
   "id": "3ee936b9",
   "metadata": {},
   "outputs": [
    {
     "data": {
      "text/plain": [
       "array([[1., 1., 1., 1., 1.]])"
      ]
     },
     "execution_count": 72,
     "metadata": {},
     "output_type": "execute_result"
    }
   ],
   "source": [
    "np.ones((1,5))"
   ]
  },
  {
   "cell_type": "code",
   "execution_count": 73,
   "id": "72bbba6b",
   "metadata": {},
   "outputs": [
    {
     "data": {
      "text/plain": [
       "array([[1, 1, 1],\n",
       "       [1, 1, 1],\n",
       "       [1, 1, 1],\n",
       "       [1, 1, 1]])"
      ]
     },
     "execution_count": 73,
     "metadata": {},
     "output_type": "execute_result"
    }
   ],
   "source": [
    "np.ones((4,3),dtype = int )"
   ]
  },
  {
   "cell_type": "code",
   "execution_count": 75,
   "id": "0d3d2596",
   "metadata": {},
   "outputs": [
    {
     "data": {
      "text/plain": [
       "array([[1, 0, 0],\n",
       "       [0, 1, 0],\n",
       "       [0, 0, 1]])"
      ]
     },
     "execution_count": 75,
     "metadata": {},
     "output_type": "execute_result"
    }
   ],
   "source": [
    "np.identity(3,dtype = int)"
   ]
  },
  {
   "cell_type": "code",
   "execution_count": 77,
   "id": "97898725",
   "metadata": {},
   "outputs": [
    {
     "name": "stdout",
     "output_type": "stream",
     "text": [
      "[ 0  1  2  3  4  5  6  7  8  9 10 11 12 13 14 15 16 17 18 19 20 21 22 23\n",
      " 24 25 26 27 28 29]\n"
     ]
    },
    {
     "data": {
      "text/plain": [
       "array([[[ 0,  1,  2,  3,  4],\n",
       "        [ 5,  6,  7,  8,  9],\n",
       "        [10, 11, 12, 13, 14]],\n",
       "\n",
       "       [[15, 16, 17, 18, 19],\n",
       "        [20, 21, 22, 23, 24],\n",
       "        [25, 26, 27, 28, 29]]])"
      ]
     },
     "execution_count": 77,
     "metadata": {},
     "output_type": "execute_result"
    }
   ],
   "source": [
    "a1=np.arange(30)\n",
    "print(a1)\n",
    "np.reshape(a1,(2,3,5))"
   ]
  },
  {
   "cell_type": "code",
   "execution_count": 79,
   "id": "d069656b",
   "metadata": {},
   "outputs": [
    {
     "name": "stdout",
     "output_type": "stream",
     "text": [
      "[[ 0  1  2]\n",
      " [ 3  4  5]\n",
      " [ 6  7  8]\n",
      " [ 9 10 11]\n",
      " [12 13 14]\n",
      " [15 16 17]\n",
      " [18 19 20]\n",
      " [21 22 23]\n",
      " [24 25 26]\n",
      " [27 28 29]]\n"
     ]
    }
   ],
   "source": [
    "a1.shape = (10,3)\n",
    "print(a1)"
   ]
  },
  {
   "cell_type": "code",
   "execution_count": 80,
   "id": "0ac7dcc5",
   "metadata": {},
   "outputs": [
    {
     "data": {
      "text/plain": [
       "array([[[ 0,  1,  2,  3,  4],\n",
       "        [ 5,  6,  7,  8,  9]],\n",
       "\n",
       "       [[10, 11, 12, 13, 14],\n",
       "        [15, 16, 17, 18, 19]],\n",
       "\n",
       "       [[20, 21, 22, 23, 24],\n",
       "        [25, 26, 27, 28, 29]]])"
      ]
     },
     "execution_count": 80,
     "metadata": {},
     "output_type": "execute_result"
    }
   ],
   "source": [
    "a1.shape = (3,2,5)\n",
    "a1"
   ]
  },
  {
   "cell_type": "code",
   "execution_count": 82,
   "id": "efa7e058",
   "metadata": {},
   "outputs": [
    {
     "data": {
      "text/plain": [
       "array([ 1.,  6., 11., 16., 21., 26., 31., 36., 41., 46., 51., 56., 61.,\n",
       "       66., 71., 76., 81., 86., 91., 96.])"
      ]
     },
     "execution_count": 82,
     "metadata": {},
     "output_type": "execute_result"
    }
   ],
   "source": [
    "np.arange(1,100,5,dtype = float)"
   ]
  },
  {
   "cell_type": "code",
   "execution_count": 83,
   "id": "0a0a7eaf",
   "metadata": {},
   "outputs": [
    {
     "data": {
      "text/plain": [
       "array([  1.,  12.,  23.,  34.,  45.,  56.,  67.,  78.,  89., 100.])"
      ]
     },
     "execution_count": 83,
     "metadata": {},
     "output_type": "execute_result"
    }
   ],
   "source": [
    "np.linspace(1,100,10)"
   ]
  },
  {
   "cell_type": "code",
   "execution_count": 84,
   "id": "03b2846b",
   "metadata": {},
   "outputs": [
    {
     "data": {
      "text/plain": [
       "(array([  1.,  12.,  23.,  34.,  45.,  56.,  67.,  78.,  89., 100.]), 11.0)"
      ]
     },
     "execution_count": 84,
     "metadata": {},
     "output_type": "execute_result"
    }
   ],
   "source": [
    "np.linspace(1,100,10,endpoint = True, retstep = True )"
   ]
  },
  {
   "cell_type": "code",
   "execution_count": 85,
   "id": "9e8a8aca",
   "metadata": {},
   "outputs": [
    {
     "data": {
      "text/plain": [
       "array([[0.64553283, 0.89998498, 0.39656634, 0.98729154],\n",
       "       [0.26682029, 0.31120628, 0.85458431, 0.91663963],\n",
       "       [0.93740952, 0.16254103, 0.72004545, 0.68329116]])"
      ]
     },
     "execution_count": 85,
     "metadata": {},
     "output_type": "execute_result"
    }
   ],
   "source": [
    "np.random.random((3,4))"
   ]
  },
  {
   "cell_type": "code",
   "execution_count": 89,
   "id": "296ed44c",
   "metadata": {},
   "outputs": [
    {
     "name": "stdout",
     "output_type": "stream",
     "text": [
      "[[0.5488135  0.71518937 0.60276338 0.54488318]\n",
      " [0.4236548  0.64589411 0.43758721 0.891773  ]\n",
      " [0.96366276 0.38344152 0.79172504 0.52889492]]\n"
     ]
    }
   ],
   "source": [
    "np.random.seed(0)\n",
    "y = np.random.random((3,4))\n",
    "print(y)"
   ]
  },
  {
   "cell_type": "code",
   "execution_count": 92,
   "id": "7512f73f",
   "metadata": {},
   "outputs": [
    {
     "data": {
      "text/plain": [
       "array([[ 1,  1,  5,  6],\n",
       "       [ 7,  9, 18, 16],\n",
       "       [ 5, 10, 11,  2],\n",
       "       [ 2,  8, 10,  4]])"
      ]
     },
     "execution_count": 92,
     "metadata": {},
     "output_type": "execute_result"
    }
   ],
   "source": [
    "np.random.randint(1,20,size = (4,4))"
   ]
  },
  {
   "cell_type": "code",
   "execution_count": 94,
   "id": "e0d0a9be",
   "metadata": {},
   "outputs": [
    {
     "data": {
      "text/plain": [
       "array([[5, 5, 5],\n",
       "       [5, 5, 5],\n",
       "       [5, 5, 5],\n",
       "       [5, 5, 5]])"
      ]
     },
     "execution_count": 94,
     "metadata": {},
     "output_type": "execute_result"
    }
   ],
   "source": [
    "np.full((4,3),5)"
   ]
  },
  {
   "cell_type": "code",
   "execution_count": 98,
   "id": "5d88280f",
   "metadata": {},
   "outputs": [
    {
     "data": {
      "text/plain": [
       "array([[5, 5, 5, 5],\n",
       "       [5, 5, 5, 5],\n",
       "       [5, 5, 5, 5],\n",
       "       [5, 5, 5, 5]])"
      ]
     },
     "execution_count": 98,
     "metadata": {},
     "output_type": "execute_result"
    }
   ],
   "source": [
    "5*np.ones((4,4),dtype = int)"
   ]
  },
  {
   "cell_type": "code",
   "execution_count": 99,
   "id": "3e65ea1e",
   "metadata": {},
   "outputs": [
    {
     "data": {
      "text/plain": [
       "array([[5, 5, 5],\n",
       "       [5, 5, 5],\n",
       "       [5, 5, 5]])"
      ]
     },
     "execution_count": 99,
     "metadata": {},
     "output_type": "execute_result"
    }
   ],
   "source": [
    "np.ones((3,3),dtype = int) * 5"
   ]
  },
  {
   "cell_type": "code",
   "execution_count": 100,
   "id": "bee22a68",
   "metadata": {},
   "outputs": [
    {
     "data": {
      "text/plain": [
       "array([[1, 0, 0, 0],\n",
       "       [0, 1, 0, 0],\n",
       "       [0, 0, 1, 0],\n",
       "       [0, 0, 0, 1]])"
      ]
     },
     "execution_count": 100,
     "metadata": {},
     "output_type": "execute_result"
    }
   ],
   "source": [
    "np.identity(4,dtype = int)"
   ]
  },
  {
   "cell_type": "code",
   "execution_count": 101,
   "id": "92e94922",
   "metadata": {},
   "outputs": [
    {
     "data": {
      "text/plain": [
       "array([[1., 0., 0., 0., 0.],\n",
       "       [0., 1., 0., 0., 0.],\n",
       "       [0., 0., 1., 0., 0.],\n",
       "       [0., 0., 0., 1., 0.],\n",
       "       [0., 0., 0., 0., 1.]])"
      ]
     },
     "execution_count": 101,
     "metadata": {},
     "output_type": "execute_result"
    }
   ],
   "source": [
    "np.identity(5)"
   ]
  },
  {
   "cell_type": "code",
   "execution_count": 105,
   "id": "c848a3af",
   "metadata": {},
   "outputs": [],
   "source": [
    "a = np.arange(19)"
   ]
  },
  {
   "cell_type": "code",
   "execution_count": 106,
   "id": "73942193",
   "metadata": {},
   "outputs": [
    {
     "data": {
      "text/plain": [
       "array([ 0,  1,  2,  3,  4,  5,  6,  7,  8,  9, 10, 11, 12, 13, 14, 15, 16,\n",
       "       17, 18])"
      ]
     },
     "execution_count": 106,
     "metadata": {},
     "output_type": "execute_result"
    }
   ],
   "source": [
    "np.transpose(a)"
   ]
  },
  {
   "cell_type": "code",
   "execution_count": 111,
   "id": "913a8f02",
   "metadata": {},
   "outputs": [
    {
     "data": {
      "text/plain": [
       "array([[49, 78, 44, 99],\n",
       "       [94, 22, 59, 63],\n",
       "       [ 4, 74, 24, 36],\n",
       "       [99,  1, 60, 95],\n",
       "       [43, 11,  3, 68]])"
      ]
     },
     "execution_count": 111,
     "metadata": {},
     "output_type": "execute_result"
    }
   ],
   "source": [
    "np.random.randint(1,100,size =(4,5)).transpose()"
   ]
  },
  {
   "cell_type": "code",
   "execution_count": 116,
   "id": "41f7eb64",
   "metadata": {},
   "outputs": [
    {
     "data": {
      "text/plain": [
       "array([[0.66017354, 0.29828233, 0.65210327],\n",
       "       [0.29007761, 0.56996491, 0.43141844],\n",
       "       [0.61801543, 0.59087276, 0.8965466 ],\n",
       "       [0.4287687 , 0.57432525, 0.36756187],\n",
       "       [0.13547406, 0.65320082, 0.43586493]])"
      ]
     },
     "execution_count": 116,
     "metadata": {},
     "output_type": "execute_result"
    }
   ],
   "source": [
    "a = np.random.random((3,5))\n",
    "np.transpose(a)"
   ]
  },
  {
   "cell_type": "code",
   "execution_count": 120,
   "id": "5ff0eaa5",
   "metadata": {},
   "outputs": [],
   "source": [
    "b=np.empty((5,5), dtype = int)"
   ]
  },
  {
   "cell_type": "code",
   "execution_count": 121,
   "id": "4a5c1530",
   "metadata": {},
   "outputs": [
    {
     "data": {
      "text/plain": [
       "array([[        50,         48,         84,         54,         56],\n",
       "       [        48,         52,         48,         58,         50],\n",
       "       [        50,         45,         57,         51,         50],\n",
       "       [        51,         48,         58,         50,         90],\n",
       "       [        45,         52,         53,         46, 1650865464]])"
      ]
     },
     "execution_count": 121,
     "metadata": {},
     "output_type": "execute_result"
    }
   ],
   "source": [
    "np.transpose(b)"
   ]
  },
  {
   "cell_type": "code",
   "execution_count": 123,
   "id": "0063a2a2",
   "metadata": {},
   "outputs": [
    {
     "data": {
      "text/plain": [
       "array([        50,         48,         50,         51,         45,\n",
       "               48,         52,         45,         48,         52,\n",
       "               84,         48,         57,         58,         53,\n",
       "               54,         58,         51,         50,         46,\n",
       "               56,         50,         50,         90, 1650865464])"
      ]
     },
     "execution_count": 123,
     "metadata": {},
     "output_type": "execute_result"
    }
   ],
   "source": [
    "b.flatten()"
   ]
  },
  {
   "cell_type": "code",
   "execution_count": 125,
   "id": "18b3ac17",
   "metadata": {},
   "outputs": [
    {
     "name": "stdout",
     "output_type": "stream",
     "text": [
      "[99, 2, 3, 4]\n",
      "[99, 2, 3, 4]\n"
     ]
    }
   ],
   "source": [
    "a = [1,2,3,4]\n",
    "b = a\n",
    "b[0] = 99\n",
    "print(b)\n",
    "print(a)"
   ]
  },
  {
   "cell_type": "code",
   "execution_count": 126,
   "id": "f43060d1",
   "metadata": {},
   "outputs": [
    {
     "name": "stdout",
     "output_type": "stream",
     "text": [
      "[1, 2, 3, 4]\n",
      "[200, 2, 3, 4]\n"
     ]
    }
   ],
   "source": [
    "a = [1,2,3,4]\n",
    "b = list(a)\n",
    "b[0] = 200\n",
    "print(a)\n",
    "print(b)"
   ]
  },
  {
   "cell_type": "code",
   "execution_count": 131,
   "id": "296c7f62",
   "metadata": {},
   "outputs": [
    {
     "name": "stdout",
     "output_type": "stream",
     "text": [
      "[1 2 3]\n",
      "[  1 100   3]\n"
     ]
    }
   ],
   "source": [
    "array1 = np.array([1,2,3])\n",
    "array2 = array1.copy()\n",
    "array2[1] =100\n",
    "print(array1)\n",
    "print(array2)"
   ]
  },
  {
   "cell_type": "code",
   "execution_count": 132,
   "id": "b08e295b",
   "metadata": {},
   "outputs": [
    {
     "name": "stdout",
     "output_type": "stream",
     "text": [
      "[  1 989   3   3]\n",
      "[1 2 3 3]\n"
     ]
    }
   ],
   "source": [
    "array = np.array([1,2,3,3])\n",
    "arrayn =  array.copy()\n",
    "arrayn[1] = 989\n",
    "print(arrayn)\n",
    "print(array)"
   ]
  },
  {
   "cell_type": "code",
   "execution_count": 134,
   "id": "6e8b983d",
   "metadata": {},
   "outputs": [
    {
     "data": {
      "text/plain": [
       "array([34, 35, 36, 37, 38, 39, 40, 41, 42, 43, 44, 45, 46, 47, 48])"
      ]
     },
     "execution_count": 134,
     "metadata": {},
     "output_type": "execute_result"
    }
   ],
   "source": [
    "a=np.arange(34,49)\n",
    "a"
   ]
  },
  {
   "cell_type": "code",
   "execution_count": 136,
   "id": "ba3e4a63",
   "metadata": {},
   "outputs": [
    {
     "data": {
      "text/plain": [
       "array([34, 37, 40, 43, 46])"
      ]
     },
     "execution_count": 136,
     "metadata": {},
     "output_type": "execute_result"
    }
   ],
   "source": [
    "a[::3]"
   ]
  },
  {
   "cell_type": "code",
   "execution_count": 138,
   "id": "0a8c9980",
   "metadata": {},
   "outputs": [
    {
     "name": "stdout",
     "output_type": "stream",
     "text": [
      "[[1 2 3 4 5]]\n"
     ]
    }
   ],
   "source": [
    "a = np.array([1,2,3,4,5],ndmin = 2)\n",
    "print(a)"
   ]
  },
  {
   "cell_type": "code",
   "execution_count": null,
   "id": "dc78a80c",
   "metadata": {},
   "outputs": [],
   "source": []
  }
 ],
 "metadata": {
  "kernelspec": {
   "display_name": "Python 3 (ipykernel)",
   "language": "python",
   "name": "python3"
  },
  "language_info": {
   "codemirror_mode": {
    "name": "ipython",
    "version": 3
   },
   "file_extension": ".py",
   "mimetype": "text/x-python",
   "name": "python",
   "nbconvert_exporter": "python",
   "pygments_lexer": "ipython3",
   "version": "3.9.12"
  }
 },
 "nbformat": 4,
 "nbformat_minor": 5
}
