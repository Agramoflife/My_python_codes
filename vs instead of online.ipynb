{
 "cells": [
  {
   "cell_type": "markdown",
   "metadata": {},
   "source": [
    "Using vs instead of online python complier "
   ]
  },
  {
   "cell_type": "markdown",
   "metadata": {},
   "source": [
    "Error and exception handling "
   ]
  },
  {
   "cell_type": "code",
   "execution_count": null,
   "metadata": {},
   "outputs": [],
   "source": [
    "try:\n",
    "    print('Hey! I am in try block')\n",
    "    print('Rr', whatup)\n",
    "\n",
    "except:\n",
    "    print('I am in except block now because your try block has an error ')\n",
    "\n",
    "else:\n",
    "    print('Now I am in else block')\n",
    "    \n",
    "finally:\n",
    "    print('Now I am in finally block')\n",
    "    "
   ]
  },
  {
   "cell_type": "code",
   "execution_count": 4,
   "metadata": {},
   "outputs": [
    {
     "name": "stdout",
     "output_type": "stream",
     "text": [
      "5.0\n",
      "I am in else block I will be executed if yor try works\n",
      "Hurray!\n"
     ]
    }
   ],
   "source": [
    "# control flow of the error and exception handling \n",
    "# control flow when there is no error in the try code block\n",
    "a = 5\n",
    "b = 1\n",
    "\n",
    "try:\n",
    "    print( a/b) # if this break\n",
    "except:\n",
    "    print('opps please enter non zero number only in denomminator')  #this will work\n",
    "else:\n",
    "    print('I am in else block I will be executed if yor try works') # this will not work\n",
    "    \n",
    "finally:\n",
    "    print('Hurray!')      # this is always work    "
   ]
  },
  {
   "cell_type": "code",
   "execution_count": 5,
   "metadata": {},
   "outputs": [
    {
     "name": "stdout",
     "output_type": "stream",
     "text": [
      "I am in the try code block and I am the first list of code\n",
      "Now I am in except code block. 1st line of code\n",
      "At the end I am in finally block of code\n"
     ]
    }
   ],
   "source": [
    "#control flow when there is error in the try code block \n",
    "\n",
    "try:\n",
    "    print('I am in the try code block and I am the first list of code')\n",
    "    Print('Try block second line of code', second_line_of_code)\n",
    "\n",
    "except:\n",
    "    print('Now I am in except code block. 1st line of code')\n",
    "\n",
    "else:\n",
    "    print('I am in else line of code , 1st line of code')\n",
    "\n",
    "finally:\n",
    "    print('At the end I am in finally block of code')\n",
    "\n",
    "\n"
   ]
  },
  {
   "cell_type": "code",
   "execution_count": 2,
   "metadata": {},
   "outputs": [
    {
     "ename": "TypeError",
     "evalue": "unhashable type: 'list'",
     "output_type": "error",
     "traceback": [
      "\u001b[1;31m---------------------------------------------------------------------------\u001b[0m",
      "\u001b[1;31mTypeError\u001b[0m                                 Traceback (most recent call last)",
      "Cell \u001b[1;32mIn [2], line 4\u001b[0m\n\u001b[0;32m      2\u001b[0m emp_sr\u001b[39m=\u001b[39m[\u001b[39m7\u001b[39m,\u001b[39m8\u001b[39m,\u001b[39m9\u001b[39m]\n\u001b[0;32m      3\u001b[0m dicty \u001b[39m=\u001b[39m \u001b[39mzip\u001b[39m(listy,emp_sr)\n\u001b[1;32m----> 4\u001b[0m my_dict \u001b[39m=\u001b[39m \u001b[39mdict\u001b[39;49m(dicty)\n\u001b[0;32m      5\u001b[0m \u001b[39mprint\u001b[39m(my_dict)\n",
      "\u001b[1;31mTypeError\u001b[0m: unhashable type: 'list'"
     ]
    }
   ],
   "source": [
    "listy=[[1,2,3],[4,5,6],[7,8,9]] # where as listy =[1,2,3] works\n",
    "emp_sr=[7,8,9]\n",
    "dicty = zip(listy,emp_sr)\n",
    "my_dict = dict(dicty)\n",
    "print(my_dict)"
   ]
  },
  {
   "cell_type": "code",
   "execution_count": 9,
   "metadata": {},
   "outputs": [
    {
     "name": "stdout",
     "output_type": "stream",
     "text": [
      "[5, 5, 6, 9]\n"
     ]
    }
   ],
   "source": [
    "lsts = [[5,5,4,3,1,2,3,4],[5,5,7,8],[5,5,6,9]]\n",
    "min_len = len(lsts[0])\n",
    "# print(min_len)\n",
    "\n",
    "for l in lsts:\n",
    "    if len(l) <= min_len:\n",
    "        min_len = len(l)\n",
    "        min_len_list = l\n",
    "print(min_len_list)            "
   ]
  },
  {
   "cell_type": "code",
   "execution_count": 12,
   "metadata": {},
   "outputs": [],
   "source": [
    "\n",
    "def min_list(lsts):\n",
    "    min_lsts = len(lsts[0])\n",
    "\n",
    "    for l in lsts:\n",
    "        if len(l) <= min_lsts:\n",
    "            min_lsts = len(l)\n",
    "            min_lsts_elem = l\n",
    "            return min_lsts_elem\n"
   ]
  },
  {
   "cell_type": "code",
   "execution_count": 13,
   "metadata": {},
   "outputs": [
    {
     "name": "stdout",
     "output_type": "stream",
     "text": [
      "[5, 5]\n"
     ]
    }
   ],
   "source": [
    "print(min_list(lsts = [[5,5],[5,5,7,8],[5,5,6,9]]))"
   ]
  },
  {
   "cell_type": "markdown",
   "metadata": {},
   "source": [
    "I have to save the below code for future use "
   ]
  },
  {
   "cell_type": "code",
   "execution_count": 20,
   "metadata": {},
   "outputs": [
    {
     "name": "stdout",
     "output_type": "stream",
     "text": [
      "0\n"
     ]
    }
   ],
   "source": [
    "#code to print the least no. in list\n",
    "listy = [12,2,3,4,5,6,7,0,9]\n",
    "least_numb = listy[0]\n",
    "for i in listy:\n",
    "    if i <= least_numb:\n",
    "        least_numb = i\n",
    "        # print(least_numb, end=',') #  this will print all saved elements in one line \n",
    "        # print(least_numb) \n",
    "print(least_numb) # it prints the last saved item that is least_numb = o        "
   ]
  },
  {
   "cell_type": "code",
   "execution_count": 6,
   "metadata": {},
   "outputs": [
    {
     "name": "stdout",
     "output_type": "stream",
     "text": [
      "{5: 2, 4: 2, 3: 2, 1: 1, 2: 1}\n"
     ]
    }
   ],
   "source": [
    "m = [5,5,4,3,1,2,3,4]\n",
    "d = {}\n",
    "for elem in m:\n",
    "    if elem in d.keys(): # the code below is very important as it is first time i heard we have created counter here by hardik sir \n",
    "        d[elem] = d[elem] + 1\n",
    "    else:\n",
    "        d[elem] = 1    \n",
    "print(d)        "
   ]
  },
  {
   "cell_type": "code",
   "execution_count": 12,
   "metadata": {},
   "outputs": [
    {
     "name": "stdout",
     "output_type": "stream",
     "text": [
      "{5: 6, 4: 2, 3: 2, 1: 1, 2: 1, 7: 1, 8: 1, 6: 1, 9: 1}\n"
     ]
    }
   ],
   "source": [
    "m = [[5,5,4,3,1,2,3,4],[5,5,7,8],[5,5,6,9]]\n",
    "x = {}\n",
    "for i in m:\n",
    "    for j in i:\n",
    "        if j in x:\n",
    "            x[j] = x[j] + 1\n",
    "        else:\n",
    "            x[j] = 1        \n",
    "print(x)            "
   ]
  },
  {
   "cell_type": "code",
   "execution_count": 16,
   "metadata": {},
   "outputs": [],
   "source": [
    "lsts = [[5,5,4,3,1,2,3,4],[5,5,7,8],[5,5,6,9]]\n",
    "\n",
    "def intersection(lsts):\n",
    "    min_lsts_value = len(lsts[0])\n",
    "    for l in lsts:\n",
    "        if len(l) <= min_lsts_value:\n",
    "            min_list_value = len(l)\n",
    "            min_lsts = l\n",
    "\n",
    "    dicty = {}\n",
    "    for i in min_lsts:\n",
    "        if  i in dict:\n",
    "            dicty[i] = dicty[i] + 1\n",
    "                    \n",
    "        else:\n",
    "            dicty[i] = 1\n",
    "\n",
    "    for key in dicty:\n",
    "        for l in lsts:\n",
    "            count = 0\n",
    "\n",
    "            for key in dicty:\n",
    "                key in l        \n",
    "            "
   ]
  },
  {
   "cell_type": "code",
   "execution_count": 24,
   "metadata": {},
   "outputs": [
    {
     "name": "stdout",
     "output_type": "stream",
     "text": [
      "[5, 5, 6, 9]\n"
     ]
    }
   ],
   "source": [
    "# the smallest list code\n",
    "lsts = [[5,5,4,3,1,2,3,4],[5,5,7,8],[5,5,6,9]]\n",
    "min_lsts_value = len(lsts[0])\n",
    "for l in lsts:\n",
    "    if len(l) <= min_lsts_value:\n",
    "        min_list_value = len(l)\n",
    "        min_lsts = l\n",
    "print(min_lsts)"
   ]
  },
  {
   "cell_type": "code",
   "execution_count": 25,
   "metadata": {},
   "outputs": [
    {
     "name": "stdout",
     "output_type": "stream",
     "text": [
      "{5: 2, 6: 1, 9: 1}\n"
     ]
    }
   ],
   "source": [
    "# converting the samllest list into dictonary\n",
    "dicty = {}\n",
    "for i in min_lsts:\n",
    "    if  i in dicty.keys():\n",
    "        dicty[i] = dicty[i] + 1\n",
    "                    \n",
    "    else:\n",
    "        dicty[i] = 1\n",
    "print(dicty)        "
   ]
  },
  {
   "cell_type": "code",
   "execution_count": 5,
   "metadata": {},
   "outputs": [
    {
     "name": "stdout",
     "output_type": "stream",
     "text": [
      "4\n"
     ]
    }
   ],
   "source": [
    "l = [1,2,2,2,3,4,5]\n",
    "s = set(l)\n",
    "z = list(s)\n",
    "z\n",
    "print(z[-2])"
   ]
  },
  {
   "cell_type": "code",
   "execution_count": 7,
   "metadata": {},
   "outputs": [
    {
     "ename": "TypeError",
     "evalue": "'int' object is not iterable",
     "output_type": "error",
     "traceback": [
      "\u001b[1;31m---------------------------------------------------------------------------\u001b[0m",
      "\u001b[1;31mTypeError\u001b[0m                                 Traceback (most recent call last)",
      "Cell \u001b[1;32mIn [7], line 2\u001b[0m\n\u001b[0;32m      1\u001b[0m listy \u001b[39m=\u001b[39m \u001b[39mint\u001b[39m(\u001b[39minput\u001b[39m())\n\u001b[1;32m----> 2\u001b[0m setty \u001b[39m=\u001b[39m \u001b[39mset\u001b[39;49m(listy)\n\u001b[0;32m      3\u001b[0m my_list \u001b[39m=\u001b[39m \u001b[39mlist\u001b[39m(setty)\n\u001b[0;32m      4\u001b[0m \u001b[39mprint\u001b[39m(my_list[\u001b[39m-\u001b[39m\u001b[39m2\u001b[39m])\n",
      "\u001b[1;31mTypeError\u001b[0m: 'int' object is not iterable"
     ]
    }
   ],
   "source": [
    "listy = int(input())\n",
    "setty = set(listy)\n",
    "my_list = list(setty)\n",
    "print(my_list[-2])"
   ]
  },
  {
   "cell_type": "code",
   "execution_count": 8,
   "metadata": {},
   "outputs": [
    {
     "name": "stdout",
     "output_type": "stream",
     "text": [
      "You entered  6\n"
     ]
    }
   ],
   "source": [
    "my_name = int(input('please enter a no.'))\n",
    "print('You entered ',my_name)"
   ]
  },
  {
   "cell_type": "code",
   "execution_count": 14,
   "metadata": {},
   "outputs": [],
   "source": [
    "# sort no. in assending order \n",
    "my_list = [1,1,2,4,4,3,6,5,9,8,7,7,0,0,5,4,1,11,23,65,77]\n"
   ]
  },
  {
   "cell_type": "code",
   "execution_count": 15,
   "metadata": {},
   "outputs": [],
   "source": [
    "if __name__ == '__main__':\n",
    "    n = int(input())\n",
    "    arr = map(int, input().split())"
   ]
  },
  {
   "cell_type": "code",
   "execution_count": 5,
   "metadata": {},
   "outputs": [
    {
     "name": "stdout",
     "output_type": "stream",
     "text": [
      "5\n",
      "4\n"
     ]
    }
   ],
   "source": [
    "a = 4\n",
    "b = 5\n",
    "c = b\n",
    "d = a\n",
    "print(c)\n",
    "print(d)"
   ]
  },
  {
   "cell_type": "code",
   "execution_count": 7,
   "metadata": {},
   "outputs": [
    {
     "name": "stdout",
     "output_type": "stream",
     "text": [
      "5 0\n",
      "0 5\n"
     ]
    }
   ],
   "source": [
    "x=5\n",
    "y=0\n",
    "print(x,y)\n",
    "x,y = y,x\n",
    "print(x,y)"
   ]
  },
  {
   "cell_type": "code",
   "execution_count": 36,
   "metadata": {},
   "outputs": [
    {
     "ename": "TypeError",
     "evalue": "list indices must be integers or slices, not range",
     "output_type": "error",
     "traceback": [
      "\u001b[1;31m---------------------------------------------------------------------------\u001b[0m",
      "\u001b[1;31mTypeError\u001b[0m                                 Traceback (most recent call last)",
      "Cell \u001b[1;32mIn [36], line 4\u001b[0m\n\u001b[0;32m      2\u001b[0m rando \u001b[39m=\u001b[39m ll[\u001b[39m4\u001b[39m]\n\u001b[0;32m      3\u001b[0m \u001b[39mfor\u001b[39;00m i \u001b[39min\u001b[39;00m ll:\n\u001b[1;32m----> 4\u001b[0m     \u001b[39mif\u001b[39;00m i \u001b[39m<\u001b[39m\u001b[39m=\u001b[39m ll[\u001b[39mrange\u001b[39;49m(\u001b[39m1\u001b[39;49m,\u001b[39m7\u001b[39;49m)]:\n\u001b[0;32m      5\u001b[0m         rando \u001b[39m=\u001b[39m i\n\u001b[0;32m      6\u001b[0m         \u001b[39mprint\u001b[39m(i)\n",
      "\u001b[1;31mTypeError\u001b[0m: list indices must be integers or slices, not range"
     ]
    }
   ],
   "source": [
    "ll= [1,3,2,4,6,7,0]\n",
    "rando = ll[4]\n",
    "for i in ll:\n",
    "    if i <= ll[range(1,7)]:\n",
    "        rando = i\n",
    "        print(i)\n",
    "       "
   ]
  },
  {
   "cell_type": "code",
   "execution_count": null,
   "metadata": {},
   "outputs": [],
   "source": [
    "a = [2,4,7,1,9,33]\n",
    "for x in a:\n",
    "    for y in a[1:]:\n",
    "        print (x,y)"
   ]
  },
  {
   "cell_type": "code",
   "execution_count": 1,
   "metadata": {},
   "outputs": [
    {
     "name": "stdout",
     "output_type": "stream",
     "text": [
      "Defaulting to user installation because normal site-packages is not writeable\n",
      "Requirement already satisfied: numpy in c:\\users\\deepu\\appdata\\roaming\\python\\python310\\site-packages (1.23.4)\n",
      "Note: you may need to restart the kernel to use updated packages.\n"
     ]
    },
    {
     "name": "stderr",
     "output_type": "stream",
     "text": [
      "\n",
      "[notice] A new release of pip available: 22.2.2 -> 22.3.1\n",
      "[notice] To update, run: python.exe -m pip install --upgrade pip\n"
     ]
    }
   ],
   "source": [
    "pip install numpy"
   ]
  },
  {
   "cell_type": "code",
   "execution_count": 2,
   "metadata": {},
   "outputs": [],
   "source": [
    "import numpy as np"
   ]
  },
  {
   "cell_type": "code",
   "execution_count": 3,
   "metadata": {},
   "outputs": [
    {
     "data": {
      "text/plain": [
       "array([0.70332609, 0.57108426, 0.34883402, 0.57337555, 0.74540157])"
      ]
     },
     "execution_count": 3,
     "metadata": {},
     "output_type": "execute_result"
    }
   ],
   "source": [
    "arr = np.random.random(5)\n",
    "arr"
   ]
  },
  {
   "cell_type": "code",
   "execution_count": 13,
   "metadata": {},
   "outputs": [
    {
     "name": "stdout",
     "output_type": "stream",
     "text": [
      "0 0 0\n",
      "0 0 1\n",
      "0 0 2\n",
      "0 0 3\n",
      "0 0 4\n",
      "0 1 0\n",
      "0 1 1\n",
      "0 1 2\n",
      "0 1 3\n",
      "0 1 4\n",
      "0 2 0\n",
      "0 2 1\n",
      "0 2 2\n",
      "0 2 3\n",
      "0 2 4\n",
      "0 3 0\n",
      "0 3 1\n",
      "0 3 2\n",
      "0 3 3\n",
      "0 3 4\n",
      "0 4 0\n",
      "0 4 1\n",
      "0 4 2\n",
      "0 4 3\n",
      "0 4 4\n",
      "0 5 0\n",
      "0 5 1\n",
      "0 5 2\n",
      "0 5 3\n",
      "0 5 4\n",
      "0 6 0\n",
      "0 6 1\n",
      "0 6 2\n",
      "0 6 3\n",
      "0 6 4\n",
      "0 7 0\n",
      "0 7 1\n",
      "0 7 2\n",
      "0 7 3\n",
      "0 7 4\n",
      "1 0 0\n",
      "1 0 1\n",
      "1 0 2\n",
      "1 0 3\n",
      "1 0 4\n",
      "1 1 0\n",
      "1 1 1\n",
      "1 1 2\n",
      "1 1 3\n",
      "1 1 4\n",
      "1 2 0\n",
      "1 2 1\n",
      "1 2 2\n",
      "1 2 3\n",
      "1 2 4\n",
      "1 3 0\n",
      "1 3 1\n",
      "1 3 2\n",
      "1 3 3\n",
      "1 3 4\n",
      "1 4 0\n",
      "1 4 1\n",
      "1 4 2\n",
      "1 4 3\n",
      "1 4 4\n",
      "1 5 0\n",
      "1 5 1\n",
      "1 5 2\n",
      "1 5 3\n",
      "1 5 4\n",
      "1 6 0\n",
      "1 6 1\n",
      "1 6 2\n",
      "1 6 3\n",
      "1 6 4\n",
      "1 7 0\n",
      "1 7 1\n",
      "1 7 2\n",
      "1 7 3\n",
      "1 7 4\n",
      "2 0 0\n",
      "2 0 1\n",
      "2 0 2\n",
      "2 0 3\n",
      "2 0 4\n",
      "2 1 0\n",
      "2 1 1\n",
      "2 1 2\n",
      "2 1 3\n",
      "2 1 4\n",
      "2 2 0\n",
      "2 2 1\n",
      "2 2 2\n",
      "2 2 3\n",
      "2 2 4\n",
      "2 3 0\n",
      "2 3 1\n",
      "2 3 2\n",
      "2 3 3\n",
      "2 3 4\n",
      "2 4 0\n",
      "2 4 1\n",
      "2 4 2\n",
      "2 4 3\n",
      "2 4 4\n",
      "2 5 0\n",
      "2 5 1\n",
      "2 5 2\n",
      "2 5 3\n",
      "2 5 4\n",
      "2 6 0\n",
      "2 6 1\n",
      "2 6 2\n",
      "2 6 3\n",
      "2 6 4\n",
      "2 7 0\n",
      "2 7 1\n",
      "2 7 2\n",
      "2 7 3\n",
      "2 7 4\n",
      "3 0 0\n",
      "3 0 1\n",
      "3 0 2\n",
      "3 0 3\n",
      "3 0 4\n",
      "3 1 0\n",
      "3 1 1\n",
      "3 1 2\n",
      "3 1 3\n",
      "3 1 4\n",
      "3 2 0\n",
      "3 2 1\n",
      "3 2 2\n",
      "3 2 3\n",
      "3 2 4\n",
      "3 3 0\n",
      "3 3 1\n",
      "3 3 2\n",
      "3 3 3\n",
      "3 3 4\n",
      "3 4 0\n",
      "3 4 1\n",
      "3 4 2\n",
      "3 4 3\n",
      "3 4 4\n",
      "3 5 0\n",
      "3 5 1\n",
      "3 5 2\n",
      "3 5 3\n",
      "3 5 4\n",
      "3 6 0\n",
      "3 6 1\n",
      "3 6 2\n",
      "3 6 3\n",
      "3 6 4\n",
      "3 7 0\n",
      "3 7 1\n",
      "3 7 2\n",
      "3 7 3\n",
      "3 7 4\n",
      "4 0 0\n",
      "4 0 1\n",
      "4 0 2\n",
      "4 0 3\n",
      "4 0 4\n",
      "4 1 0\n",
      "4 1 1\n",
      "4 1 2\n",
      "4 1 3\n",
      "4 1 4\n",
      "4 2 0\n",
      "4 2 1\n",
      "4 2 2\n",
      "4 2 3\n",
      "4 2 4\n",
      "4 3 0\n",
      "4 3 1\n",
      "4 3 2\n",
      "4 3 3\n",
      "4 3 4\n",
      "4 4 0\n",
      "4 4 1\n",
      "4 4 2\n",
      "4 4 3\n",
      "4 4 4\n",
      "4 5 0\n",
      "4 5 1\n",
      "4 5 2\n",
      "4 5 3\n",
      "4 5 4\n",
      "4 6 0\n",
      "4 6 1\n",
      "4 6 2\n",
      "4 6 3\n",
      "4 6 4\n",
      "4 7 0\n",
      "4 7 1\n",
      "4 7 2\n",
      "4 7 3\n",
      "4 7 4\n",
      "5 0 0\n",
      "5 0 1\n",
      "5 0 2\n",
      "5 0 3\n",
      "5 0 4\n",
      "5 1 0\n",
      "5 1 1\n",
      "5 1 2\n",
      "5 1 3\n",
      "5 1 4\n",
      "5 2 0\n",
      "5 2 1\n",
      "5 2 2\n",
      "5 2 3\n",
      "5 2 4\n",
      "5 3 0\n",
      "5 3 1\n",
      "5 3 2\n",
      "5 3 3\n",
      "5 3 4\n",
      "5 4 0\n",
      "5 4 1\n",
      "5 4 2\n",
      "5 4 3\n",
      "5 4 4\n",
      "5 5 0\n",
      "5 5 1\n",
      "5 5 2\n",
      "5 5 3\n",
      "5 5 4\n",
      "5 6 0\n",
      "5 6 1\n",
      "5 6 2\n",
      "5 6 3\n",
      "5 6 4\n",
      "5 7 0\n",
      "5 7 1\n",
      "5 7 2\n",
      "5 7 3\n",
      "5 7 4\n"
     ]
    }
   ],
   "source": [
    "\n",
    "for x in range(6):\n",
    "    for y in range(8):\n",
    "        for z in range(5):\n",
    "            print(x,y,z)\n",
    "\n",
    "            # if x+y+z == 3:\n",
    "            #     print(x,y,z)\n"
   ]
  },
  {
   "cell_type": "code",
   "execution_count": 17,
   "metadata": {},
   "outputs": [
    {
     "name": "stdout",
     "output_type": "stream",
     "text": [
      "[1, 1, 2, 2, 2, 3, 5, 7, 35, 545, 654]\n"
     ]
    }
   ],
   "source": [
    "# insertation sort \n",
    "isty = [1,2,3,1,2,35,5,654,2,545,7]\n",
    "a = len(listy)\n",
    "for i in range(1,a):\n",
    "    value = listy[i]\n",
    "    j = i\n",
    "    while j > 0 and listy[j-1]>value:\n",
    "        listy[j] = listy[j-1]\n",
    "        j = j-1\n",
    "        listy[j] = value\n",
    "print(listy)"
   ]
  },
  {
   "cell_type": "code",
   "execution_count": 6,
   "metadata": {},
   "outputs": [
    {
     "name": "stdout",
     "output_type": "stream",
     "text": [
      "hello world \n"
     ]
    }
   ],
   "source": [
    "print('hello world ')"
   ]
  },
  {
   "cell_type": "code",
   "execution_count": null,
   "metadata": {},
   "outputs": [],
   "source": [
    "# to swap no. with out condition \n",
    "listy = [1,2,3,1,2,35,5,654,2,545]\n",
    "a = len(listy)\n",
    "for i in range(1,a,2):\n",
    "    value = listy[i] \n",
    "    j = i\n",
    "    listy[j] = listy[j-1]\n",
    "    j = j-1\n",
    "    listy[j] = value\n",
    "    print(listy)"
   ]
  },
  {
   "cell_type": "code",
   "execution_count": 20,
   "metadata": {},
   "outputs": [
    {
     "data": {
      "text/plain": [
       "90"
      ]
     },
     "execution_count": 20,
     "metadata": {},
     "output_type": "execute_result"
    }
   ],
   "source": [
    "list8 = [12,4,54,3,434,67,34,90]\n",
    "for i in range(1,len(list8)):\n",
    "    value = list8[i]\n",
    "    j = i\n",
    "    while j > 0 and list8[j-1] > value:\n",
    "        list8[j]= list8[j-1]\n",
    "        j -= 1\n",
    "    list8[j] = value\n",
    "# list8     \n",
    "ordered_list = listy    \n",
    "empty_list = []\n",
    "for elem in range(1,len(listy)+1):\n",
    "    empty_list.append(elem)\n",
    "dicty = dict(zip(empty_list,list8))\n",
    "dicty[len(list8)-1]    \n",
    "      "
   ]
  },
  {
   "cell_type": "code",
   "execution_count": 4,
   "metadata": {},
   "outputs": [
    {
     "name": "stdout",
     "output_type": "stream",
     "text": [
      "1\n",
      "2\n",
      "3\n",
      "4\n",
      "5\n",
      "6\n",
      "7\n",
      "8\n",
      "9\n",
      "10\n",
      "Now I am out of the while loop\n"
     ]
    }
   ],
   "source": [
    "# Explanation of the reason why j > 0 condition is applied\n",
    "j = 1 \n",
    "while j <= 10:\n",
    "    print(j)\n",
    "    j += 1\n",
    "print('Now I am out of the while loop')    "
   ]
  },
  {
   "cell_type": "code",
   "execution_count": 32,
   "metadata": {},
   "outputs": [
    {
     "name": "stdout",
     "output_type": "stream",
     "text": [
      "{1: 2, 2: 3, 3: 5, 4: 6, 5: 6}\n",
      "6\n"
     ]
    }
   ],
   "source": [
    "arr = [2,3,6,6,5]\n",
    "for i in range(1,len(arr)):\n",
    "    value = arr[i]\n",
    "    j = i\n",
    "    while j > 0 and arr[j-1]>value:\n",
    "        arr[j] = arr[j-1]\n",
    "        j -= 1\n",
    "    arr[j] = value\n",
    "# arr    \n",
    "    \n",
    "listy = []    \n",
    "for j in range(1,len(arr)+1):\n",
    "    listy.append(j)\n",
    "    \n",
    "    dicty = dict(zip(listy,arr))\n",
    "\n",
    "print(dicty)\n",
    "print(dicty[len(arr)-1])    \n"
   ]
  },
  {
   "cell_type": "code",
   "execution_count": 31,
   "metadata": {},
   "outputs": [
    {
     "data": {
      "text/plain": [
       "<map at 0x164f478d390>"
      ]
     },
     "execution_count": 31,
     "metadata": {},
     "output_type": "execute_result"
    }
   ],
   "source": [
    "# The reason why hacker rank map code was throwing error\n",
    "def sq(n):\n",
    "    return n*2\n",
    "\n",
    "lis = [1,2,3,4]\n",
    "mappy = map(sq,lis)\n"
   ]
  },
  {
   "cell_type": "code",
   "execution_count": 40,
   "metadata": {},
   "outputs": [
    {
     "name": "stdout",
     "output_type": "stream",
     "text": [
      "{0, 1, 3, 4, 5, 6, 8, 9}\n"
     ]
    },
    {
     "data": {
      "text/plain": [
       "{1: 0, 2: 1, 3: 3, 4: 4, 5: 5, 6: 6, 7: 8, 8: 9}"
      ]
     },
     "execution_count": 40,
     "metadata": {},
     "output_type": "execute_result"
    }
   ],
   "source": [
    "lis1 = [1,1,3,3,4,5,6,6,8,9,9,0]\n",
    "sety = set(lis1)\n",
    "print(sety)\n",
    "emp = set()\n",
    "for i in range(1,len(lis1)):\n",
    "    emp.add(i)\n",
    "\n",
    "dicy = dict(zip(emp,sety))\n",
    "dicy     "
   ]
  },
  {
   "cell_type": "code",
   "execution_count": null,
   "metadata": {},
   "outputs": [],
   "source": [
    "# working code \n",
    "if __name__ == '__main__':\n",
    "    n = int(input())\n",
    "    arr = list(map(int, input().split()))\n",
    "    listy = arr\n",
    "    for i in range(1,n):\n",
    "        value = listy[i]\n",
    "        j = i\n",
    "        while j > 0 and listy[j-1]>value:\n",
    "            listy[j] = listy[j-1]\n",
    "            j -= 1\n",
    "        listy[j] = value\n",
    "    \n",
    "    listy1 = []    \n",
    "    for j in range(1,n+1):\n",
    "        listy1.append(j)\n",
    "    \n",
    "    dicty = dict(zip(listy1,listy))\n",
    "    print(dicty[len(listy)-1])    \n"
   ]
  },
  {
   "cell_type": "code",
   "execution_count": 41,
   "metadata": {},
   "outputs": [
    {
     "name": "stdout",
     "output_type": "stream",
     "text": [
      "6\n"
     ]
    }
   ],
   "source": [
    "sety = {1,2,3,4,5,6}\n",
    "print(len(sety))"
   ]
  },
  {
   "cell_type": "code",
   "execution_count": null,
   "metadata": {},
   "outputs": [],
   "source": [
    "# failed test case \n",
    "# input = [57,-57,57,57]\n",
    "# my code output = 57\n",
    "# answer should be = -57"
   ]
  }
 ],
 "metadata": {
  "kernelspec": {
   "display_name": "Python 3.10.7 64-bit",
   "language": "python",
   "name": "python3"
  },
  "language_info": {
   "codemirror_mode": {
    "name": "ipython",
    "version": 3
   },
   "file_extension": ".py",
   "mimetype": "text/x-python",
   "name": "python",
   "nbconvert_exporter": "python",
   "pygments_lexer": "ipython3",
   "version": "3.10.7"
  },
  "orig_nbformat": 4,
  "vscode": {
   "interpreter": {
    "hash": "26de051ba29f2982a8de78e945f0abaf191376122a1563185a90213a26c5da77"
   }
  }
 },
 "nbformat": 4,
 "nbformat_minor": 2
}
