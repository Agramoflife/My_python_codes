{
 "cells": [
  {
   "cell_type": "markdown",
   "id": "851d8692",
   "metadata": {},
   "source": [
    "# How to take user input "
   ]
  },
  {
   "cell_type": "code",
   "execution_count": 4,
   "id": "7ad1c89e",
   "metadata": {},
   "outputs": [
    {
     "name": "stdout",
     "output_type": "stream",
     "text": [
      "1\n",
      "Please enter name: d\n",
      "Please enter marks: 43\n",
      "['d']\n",
      "[43]\n"
     ]
    }
   ],
   "source": [
    "x = []\n",
    "y = []\n",
    "for _ in range(int(input())): # \n",
    "    name = input('Please enter name: ')\n",
    "    score = int(input('Please enter marks: '))\n",
    "    x.append(name)\n",
    "    y.append(score)\n",
    "print(x)\n",
    "print(y)\n",
    "# We will document this tomorrow "
   ]
  },
  {
   "cell_type": "code",
   "execution_count": 1,
   "id": "5986b5d5",
   "metadata": {},
   "outputs": [
    {
     "name": "stdout",
     "output_type": "stream",
     "text": [
      "2\n",
      "sww\n",
      "as\n"
     ]
    },
    {
     "ename": "ValueError",
     "evalue": "could not convert string to float: 'as'",
     "output_type": "error",
     "traceback": [
      "\u001b[1;31m---------------------------------------------------------------------------\u001b[0m",
      "\u001b[1;31mValueError\u001b[0m                                Traceback (most recent call last)",
      "Input \u001b[1;32mIn [1]\u001b[0m, in \u001b[0;36m<cell line: 1>\u001b[1;34m()\u001b[0m\n\u001b[0;32m      1\u001b[0m \u001b[38;5;28;01mfor\u001b[39;00m _ \u001b[38;5;129;01min\u001b[39;00m \u001b[38;5;28mrange\u001b[39m(\u001b[38;5;28mint\u001b[39m(\u001b[38;5;28minput\u001b[39m())):\n\u001b[0;32m      2\u001b[0m        name \u001b[38;5;241m=\u001b[39m \u001b[38;5;28minput\u001b[39m()\n\u001b[1;32m----> 3\u001b[0m        score \u001b[38;5;241m=\u001b[39m \u001b[38;5;28;43mfloat\u001b[39;49m\u001b[43m(\u001b[49m\u001b[38;5;28;43minput\u001b[39;49m\u001b[43m(\u001b[49m\u001b[43m)\u001b[49m\u001b[43m)\u001b[49m\n",
      "\u001b[1;31mValueError\u001b[0m: could not convert string to float: 'as'"
     ]
    }
   ],
   "source": [
    " for _ in range(int(input())):\n",
    "        name = input()\n",
    "        score = float(input())"
   ]
  },
  {
   "cell_type": "markdown",
   "id": "2fe48e07",
   "metadata": {},
   "source": [
    "# lets created a nested list \n"
   ]
  },
  {
   "cell_type": "code",
   "execution_count": 12,
   "id": "194aed6f",
   "metadata": {},
   "outputs": [
    {
     "name": "stdout",
     "output_type": "stream",
     "text": [
      "[['a', 1], ['b', 2], ['c', 3], ['d', 4]]\n"
     ]
    }
   ],
   "source": [
    "x = ['a','b','c','d']\n",
    "y = [1,2,3,4]\n",
    "z = []\n",
    "for i in range(len(x)):\n",
    "    z.append([])\n",
    "#     print(z)\n",
    "    for j in range(1):\n",
    "        z[i].append(x[i])\n",
    "#         print(z)\n",
    "    z[i].append(y[i])\n",
    "print(z)    "
   ]
  },
  {
   "cell_type": "code",
   "execution_count": 5,
   "id": "8b66db98",
   "metadata": {},
   "outputs": [
    {
     "ename": "NameError",
     "evalue": "name 'a' is not defined",
     "output_type": "error",
     "traceback": [
      "\u001b[1;31m---------------------------------------------------------------------------\u001b[0m",
      "\u001b[1;31mNameError\u001b[0m                                 Traceback (most recent call last)",
      "Input \u001b[1;32mIn [5]\u001b[0m, in \u001b[0;36m<cell line: 1>\u001b[1;34m()\u001b[0m\n\u001b[1;32m----> 1\u001b[0m x \u001b[38;5;241m=\u001b[39m [\u001b[43ma\u001b[49m,b,c,d]\n\u001b[0;32m      2\u001b[0m y \u001b[38;5;241m=\u001b[39m [\u001b[38;5;241m1\u001b[39m,\u001b[38;5;241m2\u001b[39m,\u001b[38;5;241m3\u001b[39m,\u001b[38;5;241m4\u001b[39m]\n\u001b[0;32m      3\u001b[0m z \u001b[38;5;241m=\u001b[39m []\n",
      "\u001b[1;31mNameError\u001b[0m: name 'a' is not defined"
     ]
    }
   ],
   "source": [
    "x = [a,b,c,d]\n",
    "y = [1,2,3,4]\n",
    "z = []\n",
    "for i in range(len(x)):\n",
    "    z.append([])\n",
    "    print(z)\n",
    "#     for j in range(1):\n",
    "#         z[i].append(x[i])\n",
    "#     x[i].append(y[i])\n",
    "# print(z)    "
   ]
  },
  {
   "cell_type": "code",
   "execution_count": 20,
   "id": "56e18cd0",
   "metadata": {},
   "outputs": [
    {
     "name": "stdout",
     "output_type": "stream",
     "text": [
      "[['Deepu', 34], ['Amit', 23], ['Chitu', 43], ['Vikas', 45], ['Pawan', 32]]\n"
     ]
    }
   ],
   "source": [
    "x = ['Deepu','Amit','Chitu','Vikas','Pawan']\n",
    "y = [34,23,43,45,32]\n",
    "z = []\n",
    "for i in range(len(x)):\n",
    "    z.append([])\n",
    "    for j in range(1):\n",
    "        z[i].append(x[i])\n",
    "        z[i].append(y[i])\n",
    "print(z)        "
   ]
  },
  {
   "cell_type": "markdown",
   "id": "afa55f26",
   "metadata": {},
   "source": [
    "**First write the logic how will you go about this problem**"
   ]
  },
  {
   "cell_type": "markdown",
   "id": "e509fb4b",
   "metadata": {},
   "source": [
    "You will create an empty list \n",
    "\n",
    "Then you will create empty list within empty list \n",
    "\n",
    "Then using index you will append the element of x list into the first empty list in the z using index\n",
    "\n",
    "Then again append y elment in the z using index"
   ]
  },
  {
   "cell_type": "code",
   "execution_count": null,
   "id": "f3f7c8db",
   "metadata": {},
   "outputs": [],
   "source": [
    "list_x = ['Deepu','Rahul', 'Vikas','Bhanu']\n",
    "list_y = [23,32,34,43,]\n",
    "list_z = []"
   ]
  },
  {
   "cell_type": "code",
   "execution_count": 27,
   "id": "446cbe89",
   "metadata": {},
   "outputs": [
    {
     "name": "stdout",
     "output_type": "stream",
     "text": [
      "34\n",
      "23\n",
      "43\n",
      "45\n",
      "32\n"
     ]
    }
   ],
   "source": [
    "nested = [['Deepu', 34], ['Amit', 23], ['Chitu', 43], ['Vikas', 45], ['Pawan', 32]]\n",
    "for i in nested:\n",
    "    print(i[1])"
   ]
  },
  {
   "cell_type": "code",
   "execution_count": 2,
   "id": "d6e63acc",
   "metadata": {},
   "outputs": [],
   "source": [
    "dicty = {'deepu':34,'rahul':43,'Sanjay':43}"
   ]
  },
  {
   "cell_type": "code",
   "execution_count": 4,
   "id": "c7d62c28",
   "metadata": {},
   "outputs": [
    {
     "ename": "KeyError",
     "evalue": "34",
     "output_type": "error",
     "traceback": [
      "\u001b[1;31m---------------------------------------------------------------------------\u001b[0m",
      "\u001b[1;31mKeyError\u001b[0m                                  Traceback (most recent call last)",
      "Input \u001b[1;32mIn [4]\u001b[0m, in \u001b[0;36m<cell line: 1>\u001b[1;34m()\u001b[0m\n\u001b[1;32m----> 1\u001b[0m \u001b[43mdicty\u001b[49m\u001b[43m[\u001b[49m\u001b[38;5;241;43m34\u001b[39;49m\u001b[43m]\u001b[49m\n",
      "\u001b[1;31mKeyError\u001b[0m: 34"
     ]
    }
   ],
   "source": [
    "dicty[34]"
   ]
  },
  {
   "cell_type": "code",
   "execution_count": 10,
   "id": "2d9f211f",
   "metadata": {},
   "outputs": [
    {
     "data": {
      "text/plain": [
       "2"
      ]
     },
     "execution_count": 10,
     "metadata": {},
     "output_type": "execute_result"
    }
   ],
   "source": [
    "dicty = {1:2,2:3,3:5}\n",
    "dicty[1]"
   ]
  },
  {
   "cell_type": "code",
   "execution_count": 34,
   "id": "5fbeae6a",
   "metadata": {},
   "outputs": [
    {
     "name": "stdout",
     "output_type": "stream",
     "text": [
      "['Sanjay', 'Rahul']\n"
     ]
    }
   ],
   "source": [
    "listy = [['Deepu',23],['Sanjay',43],['Rahul',43]]\n",
    "emp = []\n",
    "for i in listy:\n",
    "    if i[1] == 43:\n",
    "        emp.append(i[0])\n",
    "sorted(emp,reverse=False)\n",
    "print(emp)"
   ]
  },
  {
   "cell_type": "code",
   "execution_count": 2,
   "id": "d32ef5c9",
   "metadata": {
    "scrolled": true
   },
   "outputs": [
    {
     "name": "stdout",
     "output_type": "stream",
     "text": [
      "4\n",
      "Please enter name of the student: Rachel\n",
      "Please enter the score of the student: -50\n",
      "Please enter name of the student: Mawer\n",
      "Please enter the score of the student: -50\n",
      "Please enter name of the student: Sheen\n",
      "Please enter the score of the student: -50\n",
      "Please enter name of the student: Shaheen\n",
      "Please enter the score of the student: 51\n",
      "[['Rachel', -50.0], ['Mawer', -50.0], ['Sheen', -50.0], ['Shaheen', 51.0]]\n",
      "[-50.0, -50.0, -50.0, 51.0]\n",
      "Shaheen\n"
     ]
    }
   ],
   "source": [
    "x_name = []\n",
    "y_score = []\n",
    "for _ in range(int(input())):\n",
    "    name = input('Please enter name of the student: ')\n",
    "    score = float(input('Please enter the score of the student: '))\n",
    "    x_name.append(name)\n",
    "    y_score.append(score)\n",
    "# print(x_name,y_score)    \n",
    "\n",
    "# We are creating a nested list \n",
    "nested = []\n",
    "for i in range(len(x_name)):\n",
    "    nested.append([])\n",
    "    for j in range(1):\n",
    "        nested[i].append(x_name[i])\n",
    "        nested[i].append(y_score[i])\n",
    "print(nested) \n",
    "\n",
    "# finding the smallest score \n",
    "for i in range(1,len(y_score)):\n",
    "    value = y_score[i]\n",
    "    j = i\n",
    "    while j > 0 and y_score[j-1] > value:\n",
    "        y_score[j] = y_score[j-1]\n",
    "        j -= 1\n",
    "    y_score[j] = value \n",
    "print(y_score)\n",
    "\n",
    "# reduce the frequency of the score to just one \n",
    "dicty = {}\n",
    "for s in y_score:\n",
    "    if s in dicty:\n",
    "        dicty[s] += 1\n",
    "    else:\n",
    "        dicty[s] = 1\n",
    "non_repeating = list(dicty.keys())        \n",
    "    \n",
    "\n",
    "# print the name of the 2nd lowest\n",
    "result = []\n",
    "for nest in nested:\n",
    "    if nest[1] == non_repeating[1]:\n",
    "        result.append(nest[0])\n",
    "\n",
    "arranged = sorted(result, reverse = False)        \n",
    "for item in arranged:\n",
    "    print(item)"
   ]
  },
  {
   "cell_type": "code",
   "execution_count": null,
   "id": "1cd549e7",
   "metadata": {},
   "outputs": [],
   "source": [
    "4\n",
    "Please enter name of the student: Rachel\n",
    "Please enter the score of the student: -50\n",
    "Please enter name of the student: Mawer\n",
    "Please enter the score of the student: -50\n",
    "Please enter name of the student: Sheen\n",
    "Please enter the score of the student: -50\n",
    "Please enter name of the student: Shaheen\n",
    "Please enter the score of the student: 51\n"
   ]
  },
  {
   "cell_type": "code",
   "execution_count": 43,
   "id": "ae1d018d",
   "metadata": {},
   "outputs": [
    {
     "name": "stdout",
     "output_type": "stream",
     "text": [
      "[34.3, 43.22, 54.23]\n"
     ]
    }
   ],
   "source": [
    "y_score = [34.3,54.23,43.22]\n",
    "for i in range(1,len(y_score)):\n",
    "    value = y_score[i]\n",
    "    j = i\n",
    "    while j > 0 and y_score[j-1] > value:\n",
    "        y_score[j] = y_score[j-1]\n",
    "        j -= 1\n",
    "    y_score[j] = value \n",
    "print(y_score)    "
   ]
  },
  {
   "cell_type": "code",
   "execution_count": 46,
   "id": "5005a519",
   "metadata": {},
   "outputs": [
    {
     "name": "stdout",
     "output_type": "stream",
     "text": [
      "deepu \n"
     ]
    }
   ],
   "source": [
    "nes=[['deepu ', 43.0], ['sanjay', 45.0], ['rahul', 55.0]]\n",
    "for i in nes:\n",
    "    if i[1] == 43.0:\n",
    "        print(i[0])"
   ]
  },
  {
   "cell_type": "code",
   "execution_count": 15,
   "id": "ce980272",
   "metadata": {},
   "outputs": [
    {
     "name": "stdout",
     "output_type": "stream",
     "text": [
      "{-50.0: 3, 51.0: 1}\n",
      "[-50.0, 51.0]\n"
     ]
    }
   ],
   "source": [
    "sortit = {}\n",
    "lis = [-50.0, -50.0, -50.0, 51.0]\n",
    "for i in lis:\n",
    "    if i in sortit:\n",
    "        sortit[i] += 1\n",
    "        \n",
    "    else:\n",
    "        sortit[i] = 1\n",
    "print(sortit)  \n",
    "print(list(sortit.keys()))\n"
   ]
  },
  {
   "cell_type": "code",
   "execution_count": 1,
   "id": "0d751114",
   "metadata": {},
   "outputs": [
    {
     "name": "stdout",
     "output_type": "stream",
     "text": [
      "{1: 3, 2: 2, 3: 2, 4: 2, 5: 1, 6: 1}\n"
     ]
    }
   ],
   "source": [
    "lis = [1,1,1,2,2,3,4,4,3,5,6]\n",
    "dicty = {}\n",
    "for i in lis:\n",
    "    if i in dicty:\n",
    "        dicty[i] = dicty[i] + 1\n",
    "    else:\n",
    "        dicty[i] = 1\n",
    "print(dicty)        "
   ]
  },
  {
   "cell_type": "markdown",
   "id": "baae59a4",
   "metadata": {},
   "source": [
    "# Finding the percentage "
   ]
  },
  {
   "cell_type": "code",
   "execution_count": 24,
   "id": "dba13701",
   "metadata": {},
   "outputs": [
    {
     "name": "stdout",
     "output_type": "stream",
     "text": [
      "Enter the name of the student whose average marks you want to find: Malika\n",
      "56.0\n"
     ]
    }
   ],
   "source": [
    "lis = {'Krishna': [67.0, 68.0, 69.0], 'Arjun': [70.0, 98.0, 63.0], 'Malika': [52.0, 56.0, 60.0]}\n",
    "val = input('Enter the name of the student whose average marks you want to find: ')\n",
    "y = sum(lis[val])/len(lis[val])\n",
    "result = round(y,3)\n",
    "print(result)"
   ]
  },
  {
   "cell_type": "code",
   "execution_count": 18,
   "id": "567ece0f",
   "metadata": {},
   "outputs": [
    {
     "name": "stdout",
     "output_type": "stream",
     "text": [
      "10\n"
     ]
    }
   ],
   "source": [
    "z = [1,2,3,4]\n",
    "print(sum(z))"
   ]
  },
  {
   "cell_type": "code",
   "execution_count": 28,
   "id": "833a83d4",
   "metadata": {},
   "outputs": [
    {
     "name": "stdout",
     "output_type": "stream",
     "text": [
      "98.3\n"
     ]
    }
   ],
   "source": [
    "y = 98.3\n",
    "result = round(y,3)\n",
    "print(result*1.00)"
   ]
  },
  {
   "cell_type": "code",
   "execution_count": 53,
   "id": "75ced079",
   "metadata": {},
   "outputs": [
    {
     "name": "stdout",
     "output_type": "stream",
     "text": [
      "69.00\n",
      "69.0000\n"
     ]
    }
   ],
   "source": [
    "y = 69.0\n",
    "print(\"%.2f\" % y) # \n",
    "print(\"%.4f\" % y)\n"
   ]
  },
  {
   "cell_type": "code",
   "execution_count": 54,
   "id": "e6c173c2",
   "metadata": {},
   "outputs": [
    {
     "name": "stdout",
     "output_type": "stream",
     "text": [
      "1.987600\n"
     ]
    }
   ],
   "source": [
    "floatNumber = 1.9876\n",
    "\n",
    "print(\"%f\" % floatNumber) # by default it takes up to 6 places from the right of the point \n",
    "# 1.987600"
   ]
  },
  {
   "cell_type": "code",
   "execution_count": 55,
   "id": "3b29c547",
   "metadata": {},
   "outputs": [],
   "source": [
    "lis = {'Krishna': [67.0, 68.0, 69.0], 'Arjun': [70.0, 98.0, 63.0], 'Malika': [52.0, 56.0, 60.0]}\n"
   ]
  },
  {
   "cell_type": "code",
   "execution_count": 1,
   "id": "28a002b5",
   "metadata": {},
   "outputs": [
    {
     "name": "stdout",
     "output_type": "stream",
     "text": [
      "15\n"
     ]
    }
   ],
   "source": [
    "lis = [1,2,3,4,5]\n",
    "value = 0\n",
    "for i in lis:\n",
    "    value = value + i\n",
    "print(value)    "
   ]
  },
  {
   "cell_type": "code",
   "execution_count": 1,
   "id": "7148c010",
   "metadata": {},
   "outputs": [
    {
     "name": "stdout",
     "output_type": "stream",
     "text": [
      "[5]\n"
     ]
    }
   ],
   "source": [
    "lis = []\n",
    "lis.append(5)\n",
    "print(lis)"
   ]
  },
  {
   "cell_type": "code",
   "execution_count": 3,
   "id": "d433ef2d",
   "metadata": {},
   "outputs": [
    {
     "name": "stdout",
     "output_type": "stream",
     "text": [
      "3\n"
     ]
    }
   ],
   "source": [
    "if __name__ == '__main__':\n",
    "    N = int(input())\n",
    "    \n",
    "    "
   ]
  },
  {
   "cell_type": "code",
   "execution_count": 7,
   "id": "01eccbb7",
   "metadata": {},
   "outputs": [
    {
     "name": "stdout",
     "output_type": "stream",
     "text": [
      "[6, 5, 10]\n"
     ]
    }
   ],
   "source": [
    "lis = []\n",
    "lis.append(5)\n",
    "lis.append(10)\n",
    "lis.insert(0,6)\n",
    "print(lis)\n"
   ]
  },
  {
   "cell_type": "code",
   "execution_count": 9,
   "id": "c7351681",
   "metadata": {},
   "outputs": [
    {
     "name": "stdout",
     "output_type": "stream",
     "text": [
      "Please enter the no. you want in the first place: 789\n",
      "[789, 1, 2, 3]\n"
     ]
    }
   ],
   "source": [
    "val = int(input('Please enter the no. you want in the first place: '))\n",
    "lis = [1,2,3,8,9]\n",
    "lisy = []\n",
    "lisy.append(val)\n",
    "for i in range(len(lis)):\n",
    "    lisy.append(lis[i])\n",
    "print(lisy)    \n",
    "    \n",
    "    "
   ]
  },
  {
   "cell_type": "code",
   "execution_count": 16,
   "id": "155caafd",
   "metadata": {},
   "outputs": [
    {
     "ename": "IndentationError",
     "evalue": "expected an indented block (403097700.py, line 10)",
     "output_type": "error",
     "traceback": [
      "\u001b[1;36m  Input \u001b[1;32mIn [16]\u001b[1;36m\u001b[0m\n\u001b[1;33m    \u001b[0m\n\u001b[1;37m    ^\u001b[0m\n\u001b[1;31mIndentationError\u001b[0m\u001b[1;31m:\u001b[0m expected an indented block\n"
     ]
    }
   ],
   "source": [
    "if __name__ == '__main__':\n",
    "    N = int(input('Enter the times you want to use this feature : '))\n",
    "    for i in range(N):\n",
    "        cmd = input()\n",
    "        if cmd[i] == insert:\n",
    "            \n",
    "            \n",
    "        \n",
    "    \n",
    "        \n",
    "        "
   ]
  },
  {
   "cell_type": "code",
   "execution_count": 6,
   "id": "10332820",
   "metadata": {},
   "outputs": [
    {
     "name": "stdout",
     "output_type": "stream",
     "text": [
      "Enter the times you want to use this feature3\n",
      "deepu \n",
      "You have entered deepu \n",
      "rahul \n",
      "You have entered rahul \n",
      "sanjay \n",
      "You have entered sanjay \n"
     ]
    }
   ],
   "source": [
    "val = int(input('Enter the times you want to use this feature'))\n",
    "for i in range(val):\n",
    "    name = input()\n",
    "    print('You have entered',name)"
   ]
  },
  {
   "cell_type": "code",
   "execution_count": 2,
   "id": "2457d21e",
   "metadata": {},
   "outputs": [
    {
     "name": "stdout",
     "output_type": "stream",
     "text": [
      "3\n",
      "deepu\n",
      "You have entered deepu\n",
      "sanjay\n",
      "You have entered sanjay\n",
      "rahul\n",
      "You have entered rahul\n"
     ]
    }
   ],
   "source": [
    "val = int(input())\n",
    "for i in range(val):\n",
    "    name = input()\n",
    "    print('You have entered',name)"
   ]
  },
  {
   "cell_type": "code",
   "execution_count": null,
   "id": "175b3523",
   "metadata": {},
   "outputs": [],
   "source": [
    "val = int(input('Enter how many time you want to run this algo: '))\n",
    "for i in range"
   ]
  },
  {
   "cell_type": "code",
   "execution_count": 8,
   "id": "1b10ff4c",
   "metadata": {},
   "outputs": [
    {
     "name": "stdout",
     "output_type": "stream",
     "text": [
      "3\n",
      "deepu \n",
      "sanjay \n",
      "rahul \n",
      "['deepu ', 'sanjay ', 'rahul ']\n"
     ]
    }
   ],
   "source": [
    "y = []\n",
    "for _ in range(int(input())):\n",
    "    name = input()\n",
    "    y.append(name)\n",
    "print(y)    "
   ]
  },
  {
   "cell_type": "code",
   "execution_count": 9,
   "id": "7c2e5fda",
   "metadata": {
    "scrolled": true
   },
   "outputs": [
    {
     "name": "stdout",
     "output_type": "stream",
     "text": [
      "3\n",
      "deepu \n",
      "ajay \n",
      "sanjay \n",
      "['deepu ', 'ajay ', 'sanjay ']\n"
     ]
    }
   ],
   "source": [
    "# does the same work as above code \n",
    "y = []\n",
    "for i in range(int(input())):\n",
    "    name = input()\n",
    "    y.append(name)\n",
    "print(y)  "
   ]
  },
  {
   "cell_type": "markdown",
   "id": "28f80db5",
   "metadata": {},
   "source": [
    "# Nested list question what will you learn here how to take user define input which is both in string and int form \n",
    "# Use the slicing knowledge and datatype conversion function"
   ]
  },
  {
   "cell_type": "code",
   "execution_count": 49,
   "id": "f4b98fb2",
   "metadata": {},
   "outputs": [
    {
     "name": "stdout",
     "output_type": "stream",
     "text": [
      "Enter how many times you want to run this algo: 12\n",
      "Enter command: insert 0 5\n",
      "Enter command: insert 1 10\n",
      "Enter command: insert 0 6\n",
      "Enter command: print\n",
      "[6, 5, 10]\n",
      "Enter command: remove 6\n",
      "Enter command: append 9\n",
      "Enter command: append 1\n",
      "Enter command: sort\n",
      "Enter command: print\n",
      "[1, 5, 9, 10]\n",
      "Enter command: pop\n",
      "Enter command: reverse\n",
      "Enter command: print\n",
      "[9, 5, 1]\n"
     ]
    }
   ],
   "source": [
    "val = int(input('Enter how many times you want to run this algo: '))\n",
    "lis = []\n",
    "for i in range(val):\n",
    "    operation = input('Enter command: ').strip()\n",
    "    if operation[:6] == 'insert':\n",
    "       lis.insert(int(operation[7]),int(operation[9:]))\n",
    "    elif operation == 'print':\n",
    "        print(lis)\n",
    "    elif operation[:6] == 'remove':\n",
    "        lis.remove(int(operation[7:]))\n",
    "    elif operation[0:6] == 'append':\n",
    "        lis.append(int(operation[7:]))\n",
    "    elif operation == 'sort':\n",
    "        lis.sort()\n",
    "    elif operation == 'pop':\n",
    "        lis.pop()\n",
    "    elif operation == 'reverse':\n",
    "        lis.reverse()\n",
    "            "
   ]
  },
  {
   "cell_type": "code",
   "execution_count": 14,
   "id": "cf615813",
   "metadata": {},
   "outputs": [
    {
     "name": "stdout",
     "output_type": "stream",
     "text": [
      "[5]\n"
     ]
    }
   ],
   "source": [
    "lis = []\n",
    "lis.insert(0,5)\n",
    "print(lis)"
   ]
  },
  {
   "cell_type": "code",
   "execution_count": 2,
   "id": "cb4bd633",
   "metadata": {},
   "outputs": [
    {
     "name": "stdout",
     "output_type": "stream",
     "text": [
      "2\n",
      "yes my lady\n"
     ]
    }
   ],
   "source": [
    "val = int(input())\n",
    "if val == 2:\n",
    "    print('yes my lady')"
   ]
  },
  {
   "cell_type": "code",
   "execution_count": 16,
   "id": "75c10b28",
   "metadata": {},
   "outputs": [
    {
     "name": "stdout",
     "output_type": "stream",
     "text": [
      "please enter no.  e\n",
      "hey\n"
     ]
    }
   ],
   "source": [
    "val = str(input('please enter no. '))\n",
    "if val[1] == 'e':\n",
    "    print('hey')\n"
   ]
  },
  {
   "cell_type": "code",
   "execution_count": 14,
   "id": "2b5a5283",
   "metadata": {},
   "outputs": [
    {
     "name": "stdout",
     "output_type": "stream",
     "text": [
      "e\n"
     ]
    }
   ],
   "source": [
    "lis = 'deepu'\n",
    "print(lis[1])"
   ]
  },
  {
   "cell_type": "code",
   "execution_count": 21,
   "id": "a4f5b68e",
   "metadata": {},
   "outputs": [
    {
     "name": "stdout",
     "output_type": "stream",
     "text": [
      "       Deepu\n",
      "D\n"
     ]
    }
   ],
   "source": [
    "val = input().strip()\n",
    "print(val[0])"
   ]
  },
  {
   "cell_type": "code",
   "execution_count": 38,
   "id": "68736208",
   "metadata": {},
   "outputs": [
    {
     "name": "stdout",
     "output_type": "stream",
     "text": [
      "<class 'int'>\n",
      "5\n"
     ]
    }
   ],
   "source": [
    "l = []\n",
    "f = 'insert 0 5'\n",
    "print(type(int(f[7])))\n",
    "print(f[9])"
   ]
  },
  {
   "cell_type": "code",
   "execution_count": 48,
   "id": "bf9de64a",
   "metadata": {},
   "outputs": [
    {
     "name": "stdout",
     "output_type": "stream",
     "text": [
      "[1, 2, 3, 45]\n"
     ]
    }
   ],
   "source": [
    "listy = [3,2,1,45]\n",
    "listy.sort()\n",
    "print(listy)"
   ]
  },
  {
   "cell_type": "markdown",
   "id": "0c5a03c7",
   "metadata": {},
   "source": [
    "# Tuple Hash"
   ]
  },
  {
   "cell_type": "markdown",
   "id": "fd141b8b",
   "metadata": {},
   "source": [
    "Hash function basically creates a hash value of immutable objects like tupe and int"
   ]
  },
  {
   "cell_type": "code",
   "execution_count": null,
   "id": "51083a32",
   "metadata": {},
   "outputs": [],
   "source": []
  },
  {
   "cell_type": "markdown",
   "id": "a8b147da",
   "metadata": {},
   "source": [
    "# conveting the letter from big to small and viceversa"
   ]
  },
  {
   "cell_type": "code",
   "execution_count": 21,
   "id": "c795a476",
   "metadata": {},
   "outputs": [
    {
     "name": "stdout",
     "output_type": "stream",
     "text": [
      "pYTHONIST 2\n"
     ]
    }
   ],
   "source": [
    "string = 'Pythonist 2'\n",
    "y = ''\n",
    "for letter in string:\n",
    "    if letter == letter.upper():\n",
    "        small = letter.lower()\n",
    "#         print(small)\n",
    "        y = y + small # reassigning the value as there is no append function in string why because its imutable \n",
    "    else:\n",
    "        big = letter.upper()\n",
    "#         print(big)\n",
    "        y = y + big # reassigning the y \n",
    "print(y) "
   ]
  },
  {
   "cell_type": "code",
   "execution_count": 2,
   "id": "96823ef6",
   "metadata": {},
   "outputs": [
    {
     "data": {
      "text/plain": [
       "'DEEPU'"
      ]
     },
     "execution_count": 2,
     "metadata": {},
     "output_type": "execute_result"
    }
   ],
   "source": [
    "x = 'deepu'\n",
    "x.upper()"
   ]
  },
  {
   "cell_type": "code",
   "execution_count": 7,
   "id": "fb6b49f1",
   "metadata": {},
   "outputs": [
    {
     "data": {
      "text/plain": [
       "'23'"
      ]
     },
     "execution_count": 7,
     "metadata": {},
     "output_type": "execute_result"
    }
   ],
   "source": [
    "x = '2'\n",
    "y = '3'\n",
    "x+y"
   ]
  },
  {
   "cell_type": "code",
   "execution_count": 19,
   "id": "1e329e38",
   "metadata": {},
   "outputs": [
    {
     "name": "stdout",
     "output_type": "stream",
     "text": [
      "deepu\n",
      "DEEPU\n"
     ]
    }
   ],
   "source": [
    "string = str(input())\n",
    "y = ''\n",
    "for letter in string:\n",
    "    if letter == letter.upper():\n",
    "        small = letter.lower()\n",
    "#         print(small)\n",
    "        y = y + small # reassigning the value as there is no append function in string why because its imutable \n",
    "    else:\n",
    "        big = letter.upper()\n",
    "#         print(big)\n",
    "        y = y + big # reassigning the y \n",
    "print(y) "
   ]
  },
  {
   "cell_type": "code",
   "execution_count": 20,
   "id": "690eca76",
   "metadata": {},
   "outputs": [
    {
     "ename": "NameError",
     "evalue": "name 'swap_case' is not defined",
     "output_type": "error",
     "traceback": [
      "\u001b[1;31m---------------------------------------------------------------------------\u001b[0m",
      "\u001b[1;31mNameError\u001b[0m                                 Traceback (most recent call last)",
      "Input \u001b[1;32mIn [20]\u001b[0m, in \u001b[0;36m<cell line: 2>\u001b[1;34m()\u001b[0m\n\u001b[0;32m      1\u001b[0m test \u001b[38;5;241m=\u001b[39m \u001b[38;5;124m'\u001b[39m\u001b[38;5;124mDeepu\u001b[39m\u001b[38;5;124m'\u001b[39m\n\u001b[1;32m----> 2\u001b[0m \u001b[43mswap_case\u001b[49m(test)\n",
      "\u001b[1;31mNameError\u001b[0m: name 'swap_case' is not defined"
     ]
    }
   ],
   "source": [
    "test = 'Deepu'\n",
    "swap_case(test)"
   ]
  },
  {
   "cell_type": "code",
   "execution_count": 22,
   "id": "ba235c79",
   "metadata": {},
   "outputs": [
    {
     "name": "stdout",
     "output_type": "stream",
     "text": [
      "pYTHONIST 2\n"
     ]
    }
   ],
   "source": [
    "s = 'Pythonist 2'\n",
    "y = ''\n",
    "for letter in s:\n",
    "    if letter == letter.upper():\n",
    "        small = letter.lower()\n",
    "#         print(small)\n",
    "        y = y + small # reassigning the value as there is no append function in string why because its imutable \n",
    "    else:\n",
    "        big = letter.upper()\n",
    "#         print(big)\n",
    "        y = y + big # reassigning the y \n",
    "print(y) "
   ]
  },
  {
   "cell_type": "code",
   "execution_count": 26,
   "id": "ac0e7624",
   "metadata": {},
   "outputs": [],
   "source": [
    "def swap_case(s):\n",
    "    y = ''\n",
    "    for letter in s:\n",
    "        if letter == letter.upper():\n",
    "            small = letter.lower()\n",
    "#           print(small)\n",
    "            y = y + small # reassigning the value as there is no append function in string why because its imutable \n",
    "        else:\n",
    "            big = letter.upper()\n",
    "#             print(big)\n",
    "            y = y + big # reassigning the y \n",
    "\n",
    "    return y"
   ]
  },
  {
   "cell_type": "code",
   "execution_count": 28,
   "id": "2b6cfba8",
   "metadata": {},
   "outputs": [
    {
     "data": {
      "text/plain": [
       "\"i DON'T KNOW SHE SEEMS TO BE QUITE HIGH MAINTAINENCE\""
      ]
     },
     "execution_count": 28,
     "metadata": {},
     "output_type": "execute_result"
    }
   ],
   "source": [
    "swap_case('I don\\'t know she seems to be quite high maintainence')"
   ]
  },
  {
   "cell_type": "code",
   "execution_count": null,
   "id": "ce1b8626",
   "metadata": {},
   "outputs": [],
   "source": []
  },
  {
   "cell_type": "code",
   "execution_count": null,
   "id": "ea4eec7e",
   "metadata": {},
   "outputs": [],
   "source": [
    "x = 'ABCDCDC'\n",
    "y = 'CDC'\n",
    "for i in range(len(x+1))"
   ]
  },
  {
   "cell_type": "code",
   "execution_count": 13,
   "id": "b53ab606",
   "metadata": {},
   "outputs": [
    {
     "name": "stdout",
     "output_type": "stream",
     "text": [
      "['ABC', 'BCD', 'CDC', 'DCD', 'CDC']\n"
     ]
    },
    {
     "data": {
      "text/plain": [
       "2"
      ]
     },
     "execution_count": 13,
     "metadata": {},
     "output_type": "execute_result"
    }
   ],
   "source": [
    "x = 'ABCDCDC'\n",
    "y='CDC'\n",
    "empty = []\n",
    "for i in range(0,len(x)):\n",
    "    if i < len(x) - (len(y)-1):\n",
    "        empty.append(x[i:i+len(y)])\n",
    "print(empty) \n",
    "empty.count('CDC')"
   ]
  },
  {
   "cell_type": "code",
   "execution_count": 22,
   "id": "17df3b5a",
   "metadata": {},
   "outputs": [
    {
     "data": {
      "text/plain": [
       "True"
      ]
     },
     "execution_count": 22,
     "metadata": {},
     "output_type": "execute_result"
    }
   ],
   "source": [
    "s = 'qA2'\n",
    "for i in s:\n",
    "    if i.isdigit() == True:\n",
    "        z = str(i)\n",
    "z.isdigit()    \n",
    "# for k in s:\n",
    "#         if k.isdigit() == True:\n",
    "#             print('True')\n",
    "#             #break\n",
    "#         else:\n",
    "#             print('False')\n",
    "#             #break \n",
    "        "
   ]
  },
  {
   "cell_type": "code",
   "execution_count": 21,
   "id": "aa43cd9f",
   "metadata": {},
   "outputs": [
    {
     "data": {
      "text/plain": [
       "4"
      ]
     },
     "execution_count": 21,
     "metadata": {},
     "output_type": "execute_result"
    }
   ],
   "source": [
    "y = 'Deepu'\n",
    "y.find('u')"
   ]
  },
  {
   "cell_type": "code",
   "execution_count": 11,
   "id": "a0211373",
   "metadata": {},
   "outputs": [
    {
     "data": {
      "text/plain": [
       "int"
      ]
     },
     "execution_count": 11,
     "metadata": {},
     "output_type": "execute_result"
    }
   ],
   "source": [
    "z = '2-1'\n",
    "type(eval(z))"
   ]
  },
  {
   "cell_type": "code",
   "execution_count": 19,
   "id": "b93ab21a",
   "metadata": {},
   "outputs": [
    {
     "ename": "NameError",
     "evalue": "name 'a' is not defined",
     "output_type": "error",
     "traceback": [
      "\u001b[1;31m---------------------------------------------------------------------------\u001b[0m",
      "\u001b[1;31mNameError\u001b[0m                                 Traceback (most recent call last)",
      "Input \u001b[1;32mIn [19]\u001b[0m, in \u001b[0;36m<cell line: 5>\u001b[1;34m()\u001b[0m\n\u001b[0;32m      3\u001b[0m     \u001b[38;5;28;01mif\u001b[39;00m i\u001b[38;5;241m.\u001b[39misdigit() \u001b[38;5;241m==\u001b[39m \u001b[38;5;28;01mTrue\u001b[39;00m:\n\u001b[0;32m      4\u001b[0m         a \u001b[38;5;241m=\u001b[39m (i)\n\u001b[1;32m----> 5\u001b[0m \u001b[43ma\u001b[49m\u001b[38;5;241m.\u001b[39misdigit()\n",
      "\u001b[1;31mNameError\u001b[0m: name 'a' is not defined"
     ]
    }
   ],
   "source": [
    "s = 'qA'\n",
    "for i in s:\n",
    "    if i.isdigit() == True:\n",
    "        a = (i)\n",
    "a.isdigit() "
   ]
  },
  {
   "cell_type": "code",
   "execution_count": 49,
   "id": "e76a22ec",
   "metadata": {},
   "outputs": [
    {
     "name": "stdout",
     "output_type": "stream",
     "text": [
      "True\n",
      "False\n"
     ]
    }
   ],
   "source": [
    "s = 'qA2'\n",
    "\n",
    "for i in s:\n",
    "    while i.isdigit() == True:\n",
    "        print(\"True\")\n",
    "        \n",
    "        \n",
    "        \n",
    "print(False)\n",
    "\n",
    "            "
   ]
  },
  {
   "cell_type": "code",
   "execution_count": 28,
   "id": "04e092b5",
   "metadata": {},
   "outputs": [
    {
     "data": {
      "text/plain": [
       "False"
      ]
     },
     "execution_count": 28,
     "metadata": {},
     "output_type": "execute_result"
    }
   ],
   "source": [
    "s.isdigit()"
   ]
  },
  {
   "cell_type": "code",
   "execution_count": 6,
   "id": "830297f4",
   "metadata": {},
   "outputs": [
    {
     "data": {
      "text/plain": [
       "True"
      ]
     },
     "execution_count": 6,
     "metadata": {},
     "output_type": "execute_result"
    }
   ],
   "source": [
    "\n",
    "all([12,2,2,2,'true'])"
   ]
  },
  {
   "cell_type": "code",
   "execution_count": 8,
   "id": "ba4313ca",
   "metadata": {},
   "outputs": [
    {
     "data": {
      "text/plain": [
       "True"
      ]
     },
     "execution_count": 8,
     "metadata": {},
     "output_type": "execute_result"
    }
   ],
   "source": [
    "string = 'qA2'\n",
    "string.isalnum()\n"
   ]
  },
  {
   "cell_type": "code",
   "execution_count": 11,
   "id": "daca5179",
   "metadata": {},
   "outputs": [
    {
     "data": {
      "text/plain": [
       "False"
      ]
     },
     "execution_count": 11,
     "metadata": {},
     "output_type": "execute_result"
    }
   ],
   "source": [
    "string.isalpha()"
   ]
  },
  {
   "cell_type": "code",
   "execution_count": 17,
   "id": "937c84b4",
   "metadata": {},
   "outputs": [
    {
     "name": "stdout",
     "output_type": "stream",
     "text": [
      "[True, True, False]\n",
      "True\n"
     ]
    }
   ],
   "source": [
    "y = []\n",
    "for i in string:\n",
    "    y.append(i.isalpha())\n",
    "print(y)\n",
    "print(False in y)\n",
    "    "
   ]
  },
  {
   "cell_type": "code",
   "execution_count": 18,
   "id": "d7ce92f2",
   "metadata": {},
   "outputs": [
    {
     "name": "stdout",
     "output_type": "stream",
     "text": [
      "[False, False, True]\n",
      "True\n"
     ]
    }
   ],
   "source": [
    "y = []\n",
    "for i in string:\n",
    "    y.append(i.isdigit())\n",
    "print(y)\n",
    "print(False in y)\n",
    "    "
   ]
  },
  {
   "cell_type": "code",
   "execution_count": 19,
   "id": "125f5451",
   "metadata": {},
   "outputs": [
    {
     "name": "stdout",
     "output_type": "stream",
     "text": [
      "[False, True, False]\n",
      "True\n"
     ]
    }
   ],
   "source": [
    "y = []\n",
    "for i in string:\n",
    "    y.append(i.isupper())\n",
    "print(y)\n",
    "print(False in y)"
   ]
  },
  {
   "cell_type": "code",
   "execution_count": null,
   "id": "ddd8d95f",
   "metadata": {},
   "outputs": [],
   "source": [
    "string."
   ]
  },
  {
   "cell_type": "code",
   "execution_count": 2,
   "id": "3f7227c5",
   "metadata": {},
   "outputs": [],
   "source": [
    "import numpy as np"
   ]
  },
  {
   "cell_type": "code",
   "execution_count": 3,
   "id": "b6e75058",
   "metadata": {},
   "outputs": [
    {
     "name": "stdout",
     "output_type": "stream",
     "text": [
      "[[1 2]\n",
      " [1 2]\n",
      " [1 2]\n",
      " [1 2]]\n"
     ]
    }
   ],
   "source": [
    "l1 =[[1,2],[1,2],[1,2],[1,2]]\n",
    "array1 = np.array(l1)\n",
    "print(array1)"
   ]
  },
  {
   "cell_type": "code",
   "execution_count": 5,
   "id": "bd21d976",
   "metadata": {},
   "outputs": [
    {
     "data": {
      "text/plain": [
       "array([[3, 4],\n",
       "       [3, 4],\n",
       "       [3, 4]])"
      ]
     },
     "execution_count": 5,
     "metadata": {},
     "output_type": "execute_result"
    }
   ],
   "source": [
    "l2 = [[3,4],[3,4],[3,4]]\n",
    "array2 = np.array(l2)\n",
    "array2"
   ]
  },
  {
   "cell_type": "code",
   "execution_count": 12,
   "id": "b81f4743",
   "metadata": {},
   "outputs": [
    {
     "data": {
      "text/plain": [
       "array([[1, 2],\n",
       "       [1, 2],\n",
       "       [1, 2],\n",
       "       [1, 2],\n",
       "       [3, 4],\n",
       "       [3, 4],\n",
       "       [3, 4]])"
      ]
     },
     "execution_count": 12,
     "metadata": {},
     "output_type": "execute_result"
    }
   ],
   "source": [
    "np.concatenate((array1,array2),axis = 0)"
   ]
  },
  {
   "cell_type": "code",
   "execution_count": 13,
   "id": "472b2176",
   "metadata": {},
   "outputs": [
    {
     "name": "stdout",
     "output_type": "stream",
     "text": [
      "4 3 2\n"
     ]
    },
    {
     "ename": "ValueError",
     "evalue": "invalid literal for int() with base 10: '4 3 2'",
     "output_type": "error",
     "traceback": [
      "\u001b[1;31m---------------------------------------------------------------------------\u001b[0m",
      "\u001b[1;31mValueError\u001b[0m                                Traceback (most recent call last)",
      "Input \u001b[1;32mIn [13]\u001b[0m, in \u001b[0;36m<cell line: 1>\u001b[1;34m()\u001b[0m\n\u001b[1;32m----> 1\u001b[0m val1 \u001b[38;5;241m=\u001b[39m \u001b[38;5;28;43mint\u001b[39;49m\u001b[43m(\u001b[49m\u001b[38;5;28;43minput\u001b[39;49m\u001b[43m(\u001b[49m\u001b[43m)\u001b[49m\u001b[43m)\u001b[49m\n\u001b[0;32m      2\u001b[0m \u001b[38;5;28;01mfor\u001b[39;00m i \u001b[38;5;129;01min\u001b[39;00m \u001b[38;5;28mrange\u001b[39m(val1[\u001b[38;5;241m0\u001b[39m]\u001b[38;5;241m+\u001b[39mval[\u001b[38;5;241m-\u001b[39m\u001b[38;5;241m1\u001b[39m]):\n\u001b[0;32m      3\u001b[0m     values \u001b[38;5;241m=\u001b[39m \u001b[38;5;28mint\u001b[39m(\u001b[38;5;28minput\u001b[39m())\n",
      "\u001b[1;31mValueError\u001b[0m: invalid literal for int() with base 10: '4 3 2'"
     ]
    }
   ],
   "source": [
    "val1 = int(input()).strip()\n",
    "va1 = eval(val1)\n",
    "for i in range(val1[0]+val[-1]):\n",
    "    values = int(input())\n",
    "    print(values)\n"
   ]
  },
  {
   "cell_type": "code",
   "execution_count": 33,
   "id": "dd25dde0",
   "metadata": {},
   "outputs": [
    {
     "name": "stdout",
     "output_type": "stream",
     "text": [
      "4 3 2\n",
      "1 2\n",
      "1 2\n",
      "1 2\n",
      "1 2\n",
      " 3 4\n",
      "3 4\n",
      "3 4\n",
      "[[1 2]\n",
      " [1 2]\n",
      " [1 2]\n",
      " [1 2]\n",
      " [3 4]\n",
      " [3 4]\n",
      " [3 4]]\n"
     ]
    }
   ],
   "source": [
    "val1 = input().strip()\n",
    "val = val1.split(' ')\n",
    "master_input = [eval(i) for i in val]\n",
    "list1 = []\n",
    "for i in range(master_input[0]): #master_input[0]+master_input[1]\n",
    "    mat_val = input().strip()\n",
    "    inti=[eval(a) for a in mat_val.split(' ')]\n",
    "    list1.append(inti)\n",
    "#print(list1)    \n",
    "array1 = np.array(list1)\n",
    "list2=[]\n",
    "for j in range(master_input[1]):\n",
    "    mat_val2 = input().strip()\n",
    "    inti2 = [eval(b) for b in mat_val2.split(' ')]\n",
    "    list2.append(inti2)\n",
    "array2 = np.array(list2)\n",
    "print(np.concatenate((array1,array2)))\n",
    "    \n",
    "    "
   ]
  },
  {
   "cell_type": "code",
   "execution_count": 26,
   "id": "41dddfd2",
   "metadata": {},
   "outputs": [
    {
     "data": {
      "text/plain": [
       "int"
      ]
     },
     "execution_count": 26,
     "metadata": {},
     "output_type": "execute_result"
    }
   ],
   "source": [
    "type(eval('5'))"
   ]
  },
  {
   "cell_type": "code",
   "execution_count": 1,
   "id": "6b1faaf7",
   "metadata": {},
   "outputs": [
    {
     "name": "stdout",
     "output_type": "stream",
     "text": [
      "3 3\n",
      "[[ 1.  0.  0.]\n",
      " [ 0.  1.  0.]\n",
      " [ 0.  0.  1.]]\n"
     ]
    }
   ],
   "source": [
    "import numpy as np\n",
    "np.set_printoptions(legacy='1.13')\n",
    "val = input().strip()\n",
    "user_input = {eval(i) for i in val.split(' ')}\n",
    "arg = list(user_input)\n",
    "array = np.identity(arg[-1])\n",
    "print(array)"
   ]
  },
  {
   "cell_type": "code",
   "execution_count": 4,
   "id": "d8de564e",
   "metadata": {},
   "outputs": [
    {
     "name": "stdout",
     "output_type": "stream",
     "text": [
      "2 3\n"
     ]
    },
    {
     "ename": "AttributeError",
     "evalue": "'list' object has no attribute 'unique'",
     "output_type": "error",
     "traceback": [
      "\u001b[1;31m---------------------------------------------------------------------------\u001b[0m",
      "\u001b[1;31mAttributeError\u001b[0m                            Traceback (most recent call last)",
      "Input \u001b[1;32mIn [4]\u001b[0m, in \u001b[0;36m<cell line: 5>\u001b[1;34m()\u001b[0m\n\u001b[0;32m      3\u001b[0m val \u001b[38;5;241m=\u001b[39m \u001b[38;5;28minput\u001b[39m()\u001b[38;5;241m.\u001b[39mstrip()\n\u001b[0;32m      4\u001b[0m user_input \u001b[38;5;241m=\u001b[39m [\u001b[38;5;28meval\u001b[39m(i) \u001b[38;5;28;01mfor\u001b[39;00m i \u001b[38;5;129;01min\u001b[39;00m val\u001b[38;5;241m.\u001b[39msplit(\u001b[38;5;124m'\u001b[39m\u001b[38;5;124m \u001b[39m\u001b[38;5;124m'\u001b[39m)]\n\u001b[1;32m----> 5\u001b[0m \u001b[38;5;28mprint\u001b[39m(\u001b[43muser_input\u001b[49m\u001b[38;5;241;43m.\u001b[39;49m\u001b[43munique\u001b[49m())\n",
      "\u001b[1;31mAttributeError\u001b[0m: 'list' object has no attribute 'unique'"
     ]
    }
   ],
   "source": [
    "import numpy as np\n",
    "np.set_printoptions(legacy='1.13')\n",
    "val = input().strip()\n",
    "user_input = [eval(i) for i in val.split(' ')]\n",
    "print(user_input.unique())\n",
    "# arg = list(user_input)\n",
    "# array = np.identity(arg[-1])\n",
    "# print(array)"
   ]
  },
  {
   "cell_type": "code",
   "execution_count": 10,
   "id": "f6bcd181",
   "metadata": {},
   "outputs": [
    {
     "ename": "AttributeError",
     "evalue": "'numpy.ndarray' object has no attribute 'u'",
     "output_type": "error",
     "traceback": [
      "\u001b[1;31m---------------------------------------------------------------------------\u001b[0m",
      "\u001b[1;31mAttributeError\u001b[0m                            Traceback (most recent call last)",
      "Input \u001b[1;32mIn [10]\u001b[0m, in \u001b[0;36m<cell line: 3>\u001b[1;34m()\u001b[0m\n\u001b[0;32m      1\u001b[0m a \u001b[38;5;241m=\u001b[39m [\u001b[38;5;241m3\u001b[39m,\u001b[38;5;241m3\u001b[39m]\n\u001b[0;32m      2\u001b[0m ar \u001b[38;5;241m=\u001b[39m np\u001b[38;5;241m.\u001b[39marray(a)\n\u001b[1;32m----> 3\u001b[0m \u001b[43mar\u001b[49m\u001b[38;5;241;43m.\u001b[39;49m\u001b[43mu\u001b[49m\n",
      "\u001b[1;31mAttributeError\u001b[0m: 'numpy.ndarray' object has no attribute 'u'"
     ]
    }
   ],
   "source": [
    "a = [3,3]\n",
    "ar = np.array(a)\n",
    "ar.u"
   ]
  },
  {
   "cell_type": "code",
   "execution_count": 11,
   "id": "32ebf709",
   "metadata": {},
   "outputs": [
    {
     "data": {
      "text/plain": [
       "(3,)"
      ]
     },
     "execution_count": 11,
     "metadata": {},
     "output_type": "execute_result"
    }
   ],
   "source": [
    "tuple(np.unique(ar))"
   ]
  },
  {
   "cell_type": "code",
   "execution_count": 44,
   "id": "cdc6c82e",
   "metadata": {},
   "outputs": [
    {
     "name": "stdout",
     "output_type": "stream",
     "text": [
      "3 3\n",
      "(3, 3)\n",
      "(3,)\n",
      "[[1. 0. 0.]\n",
      " [0. 1. 0.]\n",
      " [0. 0. 1.]]\n"
     ]
    }
   ],
   "source": [
    "val = input().strip()\n",
    "a = tuple(eval(i) for i in val.split(' '))\n",
    "print(a)\n",
    "ip = tuple(list(set(a)))\n",
    "print(ip)\n",
    "if len(ip) == 1:\n",
    "    print(np.identity(ip[0]))\n",
    "else:\n",
    "    print(ip)\n",
    "    print(np.eye(a[0],a[1]))\n",
    "        \n",
    "        "
   ]
  },
  {
   "cell_type": "code",
   "execution_count": 40,
   "id": "fc463d03",
   "metadata": {},
   "outputs": [
    {
     "data": {
      "text/plain": [
       "array([[1., 0., 0.],\n",
       "       [0., 1., 0.],\n",
       "       [0., 0., 1.],\n",
       "       [0., 0., 0.],\n",
       "       [0., 0., 0.]])"
      ]
     },
     "execution_count": 40,
     "metadata": {},
     "output_type": "execute_result"
    }
   ],
   "source": [
    "t = (5,3)\n",
    "np.eye(t[0],t[1])\n"
   ]
  },
  {
   "cell_type": "code",
   "execution_count": 83,
   "id": "4d52546b",
   "metadata": {},
   "outputs": [
    {
     "name": "stdout",
     "output_type": "stream",
     "text": [
      "2 4\n",
      "1 2 3 4\n",
      "1 2 3 4\n",
      "5 6 7 7\n",
      "5 6 7 7\n",
      "[[ 6  8 10 11]]\n",
      "[[-4 -4 -4 -3]]\n",
      "[[ 5 12 21 28]]\n",
      "[[0. 0. 0. 1.]]\n",
      "[[1 2 3 4]]\n",
      "[[    1    64  2187 16384]]\n"
     ]
    }
   ],
   "source": [
    "val = input().strip()\n",
    "a = [eval(i) for i in val.split(' ')]\n",
    "#print(a)\n",
    "for i in range(a[0]):\n",
    "    mat = input().strip()\n",
    "    mat_val = [eval(item) for item in mat.split(' ')]\n",
    "    array1 = np.array(mat_val,ndmin = 2)\n",
    "    #print(array1)  \n",
    "for j in range(a[0]):\n",
    "    mat2 = input().strip()\n",
    "    mat_val2 = [eval(item) for item in mat2.split(' ')]\n",
    "    array2 = np.array(mat_val2, ndmin = 2)\n",
    "    #print(array2)      \n",
    "print(np.add(array1,array2))\n",
    "print(np.subtract(array1,array2))\n",
    "print(np.multiply(array1,array2))\n",
    "print(np.around(np.divide(array1,array2)))\n",
    "print(np.mod(array1,array2))\n",
    "print(np.power(array1,array2))   "
   ]
  },
  {
   "cell_type": "raw",
   "id": "a14a10d5",
   "metadata": {},
   "source": [
    "# wrong output\n",
    "2 4\n",
    "1 2 3 4\n",
    "1 2 3 4\n",
    "5 6 7 7\n",
    "5 6 7 7\n",
    "[[ 6  8 10 11]]\n",
    "[[-4 -4 -4 -3]]\n",
    "[[ 5 12 21 28]]\n",
    "[[0. 0. 0. 1.]]\n",
    "[[1 2 3 4]]\n",
    "[[    1    64  2187 16384]]"
   ]
  },
  {
   "cell_type": "code",
   "execution_count": 79,
   "id": "64178545",
   "metadata": {},
   "outputs": [
    {
     "name": "stdout",
     "output_type": "stream",
     "text": [
      "[ 6  8 10 12]\n",
      "[-4 -4 -4 -4]\n",
      "[ 5 12 21 32]\n",
      "[0 0 0 0]\n",
      "[1 2 3 4]\n",
      "[    1    64  2187 65536]\n"
     ]
    }
   ],
   "source": [
    "array1 = np.array([1,2,3,4])\n",
    "array2 = np.array([5,6,7,8])\n",
    "print(np.add(array1,array2))\n",
    "print(np.subtract(array1,array2))\n",
    "print(np.multiply(array1,array2))\n",
    "print(np.divide(array1,array2).astype(int))\n",
    "print(np.mod(array1,array2))\n",
    "print(np.power(array1,array2))\n",
    "\n"
   ]
  },
  {
   "cell_type": "code",
   "execution_count": 74,
   "id": "7a28ac78",
   "metadata": {},
   "outputs": [
    {
     "data": {
      "text/plain": [
       "array([[1, 2, 3, 4]])"
      ]
     },
     "execution_count": 74,
     "metadata": {},
     "output_type": "execute_result"
    }
   ],
   "source": [
    "np.array([1,2,3,4],ndmin=2)"
   ]
  },
  {
   "cell_type": "code",
   "execution_count": 4,
   "id": "ec566ffd",
   "metadata": {},
   "outputs": [
    {
     "name": "stdout",
     "output_type": "stream",
     "text": [
      "1 4\n",
      "1 2 3 4\n",
      "5 6 7 8\n",
      "[[ 6  8 10 12]]\n",
      "[[-4 -4 -4 -4]]\n",
      "[[ 5 12 21 32]]\n",
      "[[0. 0. 0. 0.]]\n",
      "[[1 2 3 4]]\n",
      "[[    1    64  2187 65536]]\n"
     ]
    }
   ],
   "source": [
    "val = input().strip()\n",
    "a = [eval(i) for i in val.split(' ')]\n",
    "#print(a)\n",
    "emp1 = []\n",
    "for i in range(a[0]):\n",
    "    mat = input().strip()\n",
    "    mat_val = [eval(item) for item in mat.split(' ')]\n",
    "    emp1.append(mat_val)\n",
    "    array1 = np.array(emp1)\n",
    "    #print(array1)\n",
    "emp2 =[]\n",
    "for j in range(a[0]):\n",
    "    mat2 = input().strip()\n",
    "    mat_val2 = [eval(item) for item in mat2.split(' ')]\n",
    "    emp2.append(mat_val2)\n",
    "    array2 = np.array(emp2)\n",
    "    #print(array2)      \n",
    "print(np.add(array1,array2))\n",
    "print(np.subtract(array1,array2))\n",
    "print(np.multiply(array1,array2))\n",
    "print(np.around(np.divide(array1,array2)))\n",
    "print(np.mod(array1,array2))\n",
    "print(np.power(array1,array2))  "
   ]
  },
  {
   "cell_type": "code",
   "execution_count": 2,
   "id": "41c04613",
   "metadata": {},
   "outputs": [],
   "source": [
    "import numpy as np"
   ]
  },
  {
   "cell_type": "code",
   "execution_count": 7,
   "id": "dc338c41",
   "metadata": {},
   "outputs": [
    {
     "name": "stdout",
     "output_type": "stream",
     "text": [
      "1.1 2.2 3.3 4.4 5.5 6.6 7.7 8.8 9.9\n",
      "[1. 2. 3. 4. 5. 6. 7. 8. 9.]\n",
      "[ 2.  3.  4.  5.  6.  7.  8.  9. 10.]\n",
      "[ 1.  2.  3.  4.  6.  7.  8.  9. 10.]\n"
     ]
    }
   ],
   "source": [
    "val = input().strip()\n",
    "ip = [eval(i) for i in val.split(' ')]\n",
    "array = np.array(ip)\n",
    "print(np.floor(array))\n",
    "print(np.ceil(array))\n",
    "print(np.rint(array))"
   ]
  },
  {
   "cell_type": "code",
   "execution_count": 17,
   "id": "3786b83d",
   "metadata": {},
   "outputs": [
    {
     "name": "stdout",
     "output_type": "stream",
     "text": [
      "2 2\n",
      "1 2\n",
      "3 2\n",
      "16\n"
     ]
    }
   ],
   "source": [
    "val = input().strip()\n",
    "ip = [eval(i) for i in val.split(' ')]\n",
    "y = []\n",
    "for i in range(ip[0]):\n",
    "    ipa = input().strip()\n",
    "    ui=[eval(j) for j in ipa.split(' ')]\n",
    "    y.append(ui)\n",
    "array = np.array(y) \n",
    "p=(np.sum(array,axis = 0))\n",
    "\n",
    "print(np.product(p))"
   ]
  },
  {
   "cell_type": "code",
   "execution_count": 14,
   "id": "513363d9",
   "metadata": {},
   "outputs": [
    {
     "data": {
      "text/plain": [
       "12"
      ]
     },
     "execution_count": 14,
     "metadata": {},
     "output_type": "execute_result"
    }
   ],
   "source": [
    "np.prod([[1,2],[3,2]])"
   ]
  },
  {
   "cell_type": "code",
   "execution_count": 15,
   "id": "d9035d13",
   "metadata": {},
   "outputs": [
    {
     "data": {
      "text/plain": [
       "16"
      ]
     },
     "execution_count": 15,
     "metadata": {},
     "output_type": "execute_result"
    }
   ],
   "source": [
    "l = [4,4]\n",
    "np.prod(l)"
   ]
  },
  {
   "cell_type": "code",
   "execution_count": 22,
   "id": "887802fa",
   "metadata": {},
   "outputs": [
    {
     "name": "stdout",
     "output_type": "stream",
     "text": [
      "4 2\n",
      "2 5\n",
      "3 7\n",
      "1 3\n",
      "4 0\n",
      "[[2 5]\n",
      " [3 7]\n",
      " [1 3]\n",
      " [4 0]]\n",
      "0\n"
     ]
    }
   ],
   "source": [
    "val = input().strip()\n",
    "ip = [eval(i) for i in val.split(' ')]\n",
    "y = []\n",
    "for i in range(ip[0]):\n",
    "    ipa = input().strip()\n",
    "    ui=[eval(j) for j in ipa.split(' ')]\n",
    "    y.append(ui)\n",
    "array = np.array(y) \n",
    "print(array)\n",
    "l=np.min(array,axis = 1)\n",
    "print(np.max(l,axis = 0))"
   ]
  },
  {
   "cell_type": "code",
   "execution_count": 28,
   "id": "bae6d4d3",
   "metadata": {},
   "outputs": [
    {
     "name": "stdout",
     "output_type": "stream",
     "text": [
      "2 2\n",
      "1 2\n",
      "3 4\n",
      "[[1 2]\n",
      " [3 4]]\n",
      "[ 1.5  3.5]\n",
      "[ 1.  1.]\n",
      "1.11803398875\n"
     ]
    }
   ],
   "source": [
    "val = input().strip()\n",
    "np.set_printoptions(legacy='1.13')\n",
    "ip = [eval(i) for i in val.split(' ')]\n",
    "y = []\n",
    "for i in range(ip[0]):\n",
    "    ipa = input().strip()\n",
    "    ui=[eval(j) for j in ipa.split(' ')]\n",
    "    y.append(ui)\n",
    "array = np.array(y) \n",
    "print(array)\n",
    "print(np.mean(array,axis = 1))\n",
    "print(np.var(array,axis = 0))\n",
    "print(round(np.std(array),11))\n"
   ]
  },
  {
   "cell_type": "code",
   "execution_count": 32,
   "id": "5ede50d2",
   "metadata": {},
   "outputs": [],
   "source": [
    "a=np.ones((2,2))*1.1"
   ]
  },
  {
   "cell_type": "code",
   "execution_count": 33,
   "id": "a40d5f6b",
   "metadata": {},
   "outputs": [
    {
     "data": {
      "text/plain": [
       "0.0"
      ]
     },
     "execution_count": 33,
     "metadata": {},
     "output_type": "execute_result"
    }
   ],
   "source": [
    "np.linalg.det(a)"
   ]
  },
  {
   "cell_type": "code",
   "execution_count": 35,
   "id": "91c515f0",
   "metadata": {},
   "outputs": [
    {
     "name": "stdout",
     "output_type": "stream",
     "text": [
      "2\n",
      "1.1 1.1\n",
      "1.1 1.1\n",
      "0.0\n"
     ]
    }
   ],
   "source": [
    "val = input().strip()\n",
    "np.set_printoptions(legacy='1.13')\n",
    "ip = [eval(i) for i in val.split(' ')]\n",
    "y = []\n",
    "for i in range(ip[0]):\n",
    "    ipa = input().strip()\n",
    "    ui=[eval(j) for j in ipa.split(' ')]\n",
    "    y.append(ui)\n",
    "array = np.array(y) \n",
    "#print(array)\n",
    "print(np.linalg.det(array))"
   ]
  },
  {
   "cell_type": "code",
   "execution_count": null,
   "id": "fa979b43",
   "metadata": {},
   "outputs": [],
   "source": []
  }
 ],
 "metadata": {
  "kernelspec": {
   "display_name": "Python 3 (ipykernel)",
   "language": "python",
   "name": "python3"
  },
  "language_info": {
   "codemirror_mode": {
    "name": "ipython",
    "version": 3
   },
   "file_extension": ".py",
   "mimetype": "text/x-python",
   "name": "python",
   "nbconvert_exporter": "python",
   "pygments_lexer": "ipython3",
   "version": "3.9.12"
  }
 },
 "nbformat": 4,
 "nbformat_minor": 5
}
