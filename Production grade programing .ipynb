{
 "cells": [
  {
   "cell_type": "markdown",
   "id": "b97eddf7",
   "metadata": {},
   "source": [
    "# Watched iteration no. 1 - unstructured code \n"
   ]
  },
  {
   "cell_type": "markdown",
   "id": "a1fc4e71",
   "metadata": {},
   "source": [
    "It's a line of code for the concept of class , attributes , methods "
   ]
  },
  {
   "cell_type": "code",
   "execution_count": 3,
   "id": "9adeac34",
   "metadata": {},
   "outputs": [
    {
     "name": "stdout",
     "output_type": "stream",
     "text": [
      "The length of your instance rect is 4\n",
      "The breadth of your instance rect is 8\n",
      "The area of your instance rect is  32\n",
      "The perimeter of your instance rect is  24\n",
      "The new user defined dimension of the same instance rect is (8, 12)\n"
     ]
    }
   ],
   "source": [
    "class rectangle: \n",
    "    # attributes aka property \n",
    "    def __init__(self,length,breadth):\n",
    "        self.length = length\n",
    "        self.breadth = breadth\n",
    "        \n",
    "        # Methods privilaged to the class rectangel only \n",
    "    \n",
    "    def area(self):\n",
    "        a = self.length * self.breadth\n",
    "        return a\n",
    "    \n",
    "    def perimeter(self):\n",
    "        p = 2 *self.length + 2 * self.breadth\n",
    "        return p\n",
    "    \n",
    "    def new_dim(self,new_length,new_breadth):\n",
    "        self.length = new_length\n",
    "        self.breadth = new_breadth\n",
    "        return self.length,self.breadth\n",
    "\n",
    "rect = rectangle(4,8)\n",
    "print('The length of your instance rect is',rect.length)\n",
    "print('The breadth of your instance rect is',rect.breadth)\n",
    "print('The area of your instance rect is ',rect.area())\n",
    "print('The perimeter of your instance rect is ',rect.perimeter())\n",
    "print('The new user defined dimension of the same instance rect is',rect.new_dim(8,12))"
   ]
  },
  {
   "cell_type": "code",
   "execution_count": 6,
   "id": "2c0f1062",
   "metadata": {},
   "outputs": [
    {
     "name": "stdout",
     "output_type": "stream",
     "text": [
      "96\n",
      "8 12\n"
     ]
    }
   ],
   "source": [
    "print(rect.area()) # The area of the rectangle is now as per the new dimensions set by the user \n",
    "print(rect.length ,rect.breadth) # new dimensions"
   ]
  },
  {
   "cell_type": "markdown",
   "id": "9a14e571",
   "metadata": {},
   "source": [
    "its a line of code to understand the concept of inheritence (pinak extra lecture)"
   ]
  },
  {
   "cell_type": "code",
   "execution_count": 1,
   "id": "dee70b4d",
   "metadata": {},
   "outputs": [
    {
     "name": "stdout",
     "output_type": "stream",
     "text": [
      "Name: Deepu kumar\n",
      "Adhaar no.: 1234567890101\n",
      "In hand salary: 1.2 lacs\n",
      "Job position: data scientist\n",
      "None\n",
      "\n",
      "Name  Deepu kumar\n",
      "Adhaar no.  1234567890101\n",
      "None\n"
     ]
    }
   ],
   "source": [
    "'''lets understand this so \n",
    "so here we are create parent class and it has 2 methods now consider this methods as property like house and furniture now if \n",
    "you are a child of your parent you have the privilage of having a house and furniture and you can use it \n",
    "similaly a child class will also have the privilage to use the methods , attributes of the parent class '''\n",
    "\n",
    "class adhaar():\n",
    "    def __init__(self,name,adhaar_number): # this is how I have created the attributes \n",
    "        self.name = name\n",
    "        self.adhaar_number = adhaar_number \n",
    "        \n",
    "    def details1(self): # this is method which is analogous to lets say house\n",
    "        print(self.name)\n",
    "        print(self.adhaar_number)\n",
    "        \n",
    "    def state(self): # and this method is analohous to furniture \n",
    "        print('Name ',self.name)\n",
    "        print('Adhaar no. ',self.adhaar_number)\n",
    "    \n",
    "class employee(adhaar):\n",
    "    def __init__(self,name,adhaar_number,salary,post):\n",
    "        self.salary = salary \n",
    "        self.post = post\n",
    "        \n",
    "        adhaar. __init__(self,name,adhaar_number)\n",
    "    \n",
    "    def details2(self):\n",
    "        print(self.name)\n",
    "        print(self.adhaar_number)\n",
    "        print(self.salary)\n",
    "        print(self.post)\n",
    "    \n",
    "    def detailed(self):\n",
    "        print('Name:',self.name)\n",
    "        print('Adhaar no.:',self.adhaar_number)\n",
    "        print('In hand salary:',self.salary)\n",
    "        print('Job position:',self.post)\n",
    "        \n",
    "        \n",
    "emp_A = employee('Deepu kumar','1234567890101','1.2 lacs','data scientist')\n",
    "print(emp_A.detailed()) \n",
    "print('')\n",
    "print(emp_A.state()) # this methods is defined in parent class and we are calling form child class\n",
    "# employee is child class and adhaar is parent class\n"
   ]
  },
  {
   "cell_type": "markdown",
   "id": "379ac422",
   "metadata": {},
   "source": [
    "There is other way as well where we can call the class and function"
   ]
  },
  {
   "cell_type": "code",
   "execution_count": 1,
   "id": "18ef300d",
   "metadata": {},
   "outputs": [
    {
     "name": "stdout",
     "output_type": "stream",
     "text": [
      "Name: Deepu\n",
      "Class: 12 B\n",
      "school attended: Army Public School\n",
      "Medium of teaching: English\n",
      "None\n",
      "Name of the school Army Public School\n",
      "Medium of teaching English\n",
      "None\n"
     ]
    },
    {
     "ename": "AttributeError",
     "evalue": "'school' object has no attribute 'explict_profile'",
     "output_type": "error",
     "traceback": [
      "\u001b[1;31m---------------------------------------------------------------------------\u001b[0m",
      "\u001b[1;31mAttributeError\u001b[0m                            Traceback (most recent call last)",
      "Input \u001b[1;32mIn [1]\u001b[0m, in \u001b[0;36m<cell line: 33>\u001b[1;34m()\u001b[0m\n\u001b[0;32m     31\u001b[0m \u001b[38;5;28mprint\u001b[39m(c\u001b[38;5;241m.\u001b[39mexplict_profile())\n\u001b[0;32m     32\u001b[0m \u001b[38;5;28mprint\u001b[39m(c\u001b[38;5;241m.\u001b[39mstudent_profile())\n\u001b[1;32m---> 33\u001b[0m \u001b[38;5;28mprint\u001b[39m(\u001b[43mb\u001b[49m\u001b[38;5;241;43m.\u001b[39;49m\u001b[43mexplict_profile\u001b[49m())\n",
      "\u001b[1;31mAttributeError\u001b[0m: 'school' object has no attribute 'explict_profile'"
     ]
    }
   ],
   "source": [
    "class school():\n",
    "    def __init__(self,school_name,medium):\n",
    "        self.school_name = school_name\n",
    "        self.medium = medium \n",
    "    \n",
    "    def student_profile(self):\n",
    "        print('Name of the school',self.school_name)\n",
    "        print('Medium of teaching',self.medium)\n",
    "        \n",
    "class student(school):\n",
    "    \n",
    "    def __init__(self,school_name,medium,student_name,grade):\n",
    "        self.student_name = student_name\n",
    "        self.grade = grade\n",
    "        \n",
    "        \n",
    "        school. __init__(self,school_name,medium)\n",
    "        \n",
    "    def explict_profile(self):\n",
    "        print('Name:',self.student_name)\n",
    "        print('Class:',self.grade)\n",
    "        print('school attended:',self.school_name)\n",
    "        print('Medium of teaching:',self.medium)\n",
    "        \n",
    "        \n",
    "# a = student('Aps','English','Deepu','12 B')        \n",
    "# print(a.explict_profile())\n",
    "\n",
    "b = school('Army Public School','English')\n",
    "c = student(b.school_name,b.medium,'Deepu','12 B')\n",
    "print(c.explict_profile())\n",
    "print(c.student_profile())\n",
    "print(b.explict_profile())# this will give error as this method is not in the parent class - understand this with this analogy \n",
    "# parent-since I have to one to teach life lesson ( reason no father ) I will learn to survive by handling what ever life \n",
    "#throws at me \n",
    "# so life throws me problem I found solution i.e methods , Now I have cetain methods associated with only myself\n",
    "# child - class ,I will pass down my life learning that is my methods to my child and he will also have his own learning i.e \n",
    "# his own methods , he can using my learning and his learning \n",
    "# Note I can not his learning as when i was fighting with life he was not born \n",
    "# Taking this analogy parnent class can not use child class method\n",
    "\n",
    "\n",
    "        \n",
    "        "
   ]
  },
  {
   "cell_type": "markdown",
   "id": "5f852565",
   "metadata": {},
   "source": [
    "Using vs instead of online python complier"
   ]
  },
  {
   "cell_type": "markdown",
   "id": "32cdd31a",
   "metadata": {},
   "source": [
    "Error and exception handling"
   ]
  },
  {
   "cell_type": "code",
   "execution_count": 1,
   "id": "249d9f8d",
   "metadata": {},
   "outputs": [
    {
     "name": "stdout",
     "output_type": "stream",
     "text": [
      "Hey! I am in try block\n",
      "I am in except block now because your try block has an error \n",
      "Now I am in finally block\n"
     ]
    }
   ],
   "source": [
    "try:\n",
    "    print('Hey! I am in try block')\n",
    "    print('Rr', whatup)\n",
    "\n",
    "except:\n",
    "    print('I am in except block now because your try block has an error ')\n",
    "\n",
    "else:\n",
    "    print('Now I am in else block')\n",
    "    \n",
    "finally:\n",
    "    print('Now I am in finally block')\n",
    "    "
   ]
  },
  {
   "cell_type": "code",
   "execution_count": 2,
   "id": "c2e62ecd",
   "metadata": {},
   "outputs": [
    {
     "name": "stdout",
     "output_type": "stream",
     "text": [
      "5.0\n",
      "I am in else block I will be executed if yor try works\n",
      "Hurray!\n"
     ]
    }
   ],
   "source": [
    "# control flow of the error and exception handling \n",
    "# control flow when there is no error in the try code block\n",
    "a = 5\n",
    "b = 1\n",
    "\n",
    "try:\n",
    "    print( a/b) # if this break\n",
    "except:\n",
    "    print('opps please enter non zero number only in denomminator')  #this will work\n",
    "else:\n",
    "    print('I am in else block I will be executed if yor try works') # this will not work\n",
    "    \n",
    "finally:\n",
    "    print('Hurray!')      # this is always work    "
   ]
  },
  {
   "cell_type": "code",
   "execution_count": 3,
   "id": "234e321e",
   "metadata": {},
   "outputs": [
    {
     "name": "stdout",
     "output_type": "stream",
     "text": [
      "I am in the try code block and I am the first list of code\n",
      "Now I am in except code block. 1st line of code\n",
      "At the end I am in finally block of code\n"
     ]
    }
   ],
   "source": [
    "#control flow when there is error in the try code block \n",
    "\n",
    "try:\n",
    "    print('I am in the try code block and I am the first list of code')\n",
    "    Print('Try block second line of code', second_line_of_code)\n",
    "\n",
    "except:\n",
    "    print('Now I am in except code block. 1st line of code')\n",
    "\n",
    "else:\n",
    "    print('I am in else line of code , 1st line of code')\n",
    "\n",
    "finally:\n",
    "    print('At the end I am in finally block of code')\n",
    "\n",
    "\n"
   ]
  },
  {
   "cell_type": "code",
   "execution_count": 4,
   "id": "4463b6a7",
   "metadata": {},
   "outputs": [
    {
     "ename": "NameError",
     "evalue": "name 'x' is not defined",
     "output_type": "error",
     "traceback": [
      "\u001b[1;31m---------------------------------------------------------------------------\u001b[0m",
      "\u001b[1;31mNameError\u001b[0m                                 Traceback (most recent call last)",
      "Input \u001b[1;32mIn [4]\u001b[0m, in \u001b[0;36m<cell line: 1>\u001b[1;34m()\u001b[0m\n\u001b[1;32m----> 1\u001b[0m deepu \u001b[38;5;241m=\u001b[39m \u001b[43mx\u001b[49m \u001b[38;5;241m+\u001b[39m y \n\u001b[0;32m      2\u001b[0m x \u001b[38;5;241m=\u001b[39m \u001b[38;5;241m3\u001b[39m\n\u001b[0;32m      3\u001b[0m y \u001b[38;5;241m=\u001b[39m \u001b[38;5;241m10\u001b[39m\n",
      "\u001b[1;31mNameError\u001b[0m: name 'x' is not defined"
     ]
    }
   ],
   "source": [
    "deepu = x + y \n",
    "x = 3\n",
    "y = 10\n",
    "deepu"
   ]
  },
  {
   "cell_type": "code",
   "execution_count": null,
   "id": "d80e1675",
   "metadata": {},
   "outputs": [],
   "source": []
  }
 ],
 "metadata": {
  "kernelspec": {
   "display_name": "Python 3 (ipykernel)",
   "language": "python",
   "name": "python3"
  },
  "language_info": {
   "codemirror_mode": {
    "name": "ipython",
    "version": 3
   },
   "file_extension": ".py",
   "mimetype": "text/x-python",
   "name": "python",
   "nbconvert_exporter": "python",
   "pygments_lexer": "ipython3",
   "version": "3.9.12"
  }
 },
 "nbformat": 4,
 "nbformat_minor": 5
}
