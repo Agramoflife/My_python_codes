{
 "cells": [
  {
   "cell_type": "markdown",
   "id": "121c3544",
   "metadata": {},
   "source": [
    "# add on concepts in functions\n"
   ]
  },
  {
   "cell_type": "raw",
   "id": "cf7146fd",
   "metadata": {},
   "source": [
    "In a function once you have a return statement the interpreter gets out of the function and the code after function is not exectuted\n",
    "\n",
    "Consider this as an anology of a mouse entering a maze once it enters and gets outs it doesnot go back in the maze\n",
    "\n",
    "2 retruns return a tuple eg return mean, median it will give out put as (mean, median) \n",
    "\n",
    "The *arg take n numbers of arguments as tuple **arg takes n numbers of arguments and convert it into dictonary "
   ]
  },
  {
   "cell_type": "code",
   "execution_count": null,
   "id": "25ae43ac",
   "metadata": {},
   "outputs": [],
   "source": [
    "multivariable returns can be used for tuple unpacking as well\n",
    "eg if you have return mean, mode then you can use tuple unpacking and assigne variable for mean and mode\n",
    "x,y,... = function with multivariable output"
   ]
  },
  {
   "cell_type": "markdown",
   "id": "f115fbae",
   "metadata": {},
   "source": [
    "## unlimited user arguments "
   ]
  },
  {
   "cell_type": "code",
   "execution_count": 24,
   "id": "8647b17f",
   "metadata": {},
   "outputs": [],
   "source": [
    "def sum_stararg(*numb):\n",
    "    \n",
    "    y = []\n",
    "    total = 0\n",
    "    for i in numb:#it can take integers and can iterate behind the scene it would be converting it into iterateable objects \n",
    "        total = total + i\n",
    "        \n",
    "    return total,type(numb) # note not type(*numb) why because *numb converts all input in a box numb    \n",
    "# iteratables objects like list,tuple,string,dictionary   "
   ]
  },
  {
   "cell_type": "code",
   "execution_count": null,
   "id": "08257466",
   "metadata": {},
   "outputs": [],
   "source": [
    "visit to read more\n",
    "\n",
    "https://realpython.com/python-kwargs-and-args/     "
   ]
  },
  {
   "cell_type": "code",
   "execution_count": 27,
   "id": "016f62de",
   "metadata": {},
   "outputs": [
    {
     "name": "stdout",
     "output_type": "stream",
     "text": [
      "(39, <class 'tuple'>)\n"
     ]
    }
   ],
   "source": [
    "print(sum_stararg(1,2,1,2,3,4,5,6,7,8))"
   ]
  },
  {
   "cell_type": "markdown",
   "id": "8a2417c7",
   "metadata": {},
   "source": [
    "## NOTE"
   ]
  },
  {
   "cell_type": "raw",
   "id": "fa9b00b2",
   "metadata": {},
   "source": [
    "So what is happening behind the scene is that the function is taking unlimited parameters(arguments when you are calling the function) of integers which are not itertable and packing them into a single object-variable named numb and then running lines of code on it, Note the object type of the numb is tuple always.\n",
    "NOTE: Since now you know that *numb where the input goes and numb is the name of the bucket then there onwards woy address the bucket numb in the code if you want to do something like in the above case I wanted to find the type of the numb and I typed type(*numb) which is wrong we will have to type(numb) because that is something which has all the parameters"
   ]
  },
  {
   "cell_type": "markdown",
   "id": "d2af8622",
   "metadata": {},
   "source": [
    "what if you want to create an unlimited dictonary you can use **kwarg like shown below and when you are entering arguments make sure that the arguments are not in string data type"
   ]
  },
  {
   "cell_type": "code",
   "execution_count": 2,
   "id": "af30fa87",
   "metadata": {},
   "outputs": [],
   "source": [
    "def dictonary(**para):\n",
    "    return type(para)\n",
    "        "
   ]
  },
  {
   "cell_type": "code",
   "execution_count": 3,
   "id": "f7210e32",
   "metadata": {},
   "outputs": [
    {
     "ename": "SyntaxError",
     "evalue": "expression cannot contain assignment, perhaps you meant \"==\"? (1677821020.py, line 1)",
     "output_type": "error",
     "traceback": [
      "\u001b[1;36m  Input \u001b[1;32mIn [3]\u001b[1;36m\u001b[0m\n\u001b[1;33m    dictonary('a'= 1)\u001b[0m\n\u001b[1;37m              ^\u001b[0m\n\u001b[1;31mSyntaxError\u001b[0m\u001b[1;31m:\u001b[0m expression cannot contain assignment, perhaps you meant \"==\"?\n"
     ]
    }
   ],
   "source": [
    "dictonary('a'= 1)"
   ]
  },
  {
   "cell_type": "code",
   "execution_count": 5,
   "id": "c361b980",
   "metadata": {},
   "outputs": [
    {
     "data": {
      "text/plain": [
       "dict"
      ]
     },
     "execution_count": 5,
     "metadata": {},
     "output_type": "execute_result"
    }
   ],
   "source": [
    "dictonary(a=1) # avoid putting the argument in string data type"
   ]
  },
  {
   "cell_type": "code",
   "execution_count": 9,
   "id": "13b6ae6d",
   "metadata": {},
   "outputs": [],
   "source": [
    "def dicloop(**val):\n",
    "    for i in val.items(): \n",
    "        print(i)"
   ]
  },
  {
   "cell_type": "code",
   "execution_count": 8,
   "id": "4060b681",
   "metadata": {},
   "outputs": [
    {
     "name": "stdout",
     "output_type": "stream",
     "text": [
      "('d', 2)\n",
      "('c', 4)\n"
     ]
    }
   ],
   "source": [
    "dicloop(d=2,c=4)"
   ]
  },
  {
   "cell_type": "markdown",
   "id": "4fa55078",
   "metadata": {},
   "source": [
    "# error handling control flow with nested try"
   ]
  },
  {
   "cell_type": "code",
   "execution_count": 12,
   "id": "2b2e1649",
   "metadata": {},
   "outputs": [
    {
     "name": "stdout",
     "output_type": "stream",
     "text": [
      "Error occured\n"
     ]
    }
   ],
   "source": [
    "try:\n",
    "    a = 1\n",
    "    #print(adefewdwd)\n",
    "    try:\n",
    "      print(type(afggdgdsgg))\n",
    "    except:\n",
    "      print('Error occured')\n",
    "except Exception as ex:\n",
    "    print('The error is : ', ex)\n",
    "    print(b, type(b))"
   ]
  },
  {
   "cell_type": "code",
   "execution_count": 15,
   "id": "f9ab2ac1",
   "metadata": {},
   "outputs": [
    {
     "name": "stdout",
     "output_type": "stream",
     "text": [
      "Error occured\n"
     ]
    }
   ],
   "source": [
    "'''In the above code since the error was handled well in the inner try and expect block the interpreter did not entered the \n",
    "outer expect block'''\n",
    "a = 1\n",
    "    #print(adefewdwd)\n",
    "try:\n",
    "    print(type(afggdgdsgg))\n",
    "except:\n",
    "    print('Error occured')"
   ]
  },
  {
   "cell_type": "code",
   "execution_count": 20,
   "id": "0f4304dc",
   "metadata": {},
   "outputs": [
    {
     "name": "stdout",
     "output_type": "stream",
     "text": [
      "The error is :  name 'adefewdwd' is not defined\n"
     ]
    }
   ],
   "source": [
    "# lets make the code such that it does not enter the inner try\n",
    "try:\n",
    "    a = 1\n",
    "    print(adefewdwd) # error will ocure here and it will not go in the inner try\n",
    "    try:\n",
    "      print(type(afggdgdsgg))\n",
    "    except:\n",
    "      print('Error occured')\n",
    "except Exception as ex: # the code will jump to this line as the code below print(afggdgsdsgg) threw an error\n",
    "    print('The error is : ', ex) # this is to store the error in a variable \n",
    "    "
   ]
  },
  {
   "cell_type": "markdown",
   "id": "30ddbfb0",
   "metadata": {},
   "source": [
    "# Now lets start with the functions "
   ]
  },
  {
   "cell_type": "markdown",
   "id": "21788837",
   "metadata": {},
   "source": [
    "# Writing a function \n"
   ]
  },
  {
   "cell_type": "code",
   "execution_count": 1,
   "id": "01fbe5c1",
   "metadata": {},
   "outputs": [
    {
     "name": "stdout",
     "output_type": "stream",
     "text": [
      "The number is even\n"
     ]
    }
   ],
   "source": [
    "# function for odd even number \n",
    "\n",
    "def function_odd_even(numb): # we have defined the name of the function and argumnet* of it, here def stands for define \n",
    "    if numb % 2 == 0:   # we have written the logic part of the function what will it do if called\n",
    "        print('The number is even')\n",
    "    else:\n",
    "        print('The number is odd')\n",
    "        \n",
    "\n",
    "function_odd_even(32)        # we have called the function by its name and put argument in it "
   ]
  },
  {
   "cell_type": "code",
   "execution_count": 2,
   "id": "e913f39a",
   "metadata": {},
   "outputs": [
    {
     "name": "stdout",
     "output_type": "stream",
     "text": [
      "The number is odd\n"
     ]
    }
   ],
   "source": [
    "function_odd_even(435) # the funciton is callable throughtout the nothebook "
   ]
  },
  {
   "cell_type": "code",
   "execution_count": 4,
   "id": "ec907681",
   "metadata": {},
   "outputs": [
    {
     "name": "stdout",
     "output_type": "stream",
     "text": [
      "Please enter a number: 67\n",
      "The number is odd\n"
     ]
    }
   ],
   "source": [
    "# You can take the user input as well \n",
    "\n",
    "val = function_odd_even(int(input('Please enter a number: ')))"
   ]
  },
  {
   "cell_type": "markdown",
   "id": "6f25ff9b",
   "metadata": {},
   "source": [
    "# print and return  statements \n"
   ]
  },
  {
   "cell_type": "code",
   "execution_count": 14,
   "id": "d3513c9a",
   "metadata": {},
   "outputs": [
    {
     "name": "stdout",
     "output_type": "stream",
     "text": [
      "8\n",
      "10\n"
     ]
    }
   ],
   "source": [
    "def pow(a,b): # here a and b are parameters\n",
    "    c = a**b\n",
    "    return c # retrun is used to use the value by the computer # to extract the value of c out of function to reuse it we use\n",
    "    #keyword return print will just show and not used in the next line of code   \n",
    " \n",
    "powered = pow(2,3) # here a and b are arguments \n",
    "print(powered) \n",
    "type(powered)\n",
    "add = 2 + powered\n",
    "print(add)\n"
   ]
  },
  {
   "cell_type": "code",
   "execution_count": 16,
   "id": "2e78acb6",
   "metadata": {},
   "outputs": [
    {
     "name": "stdout",
     "output_type": "stream",
     "text": [
      "8\n"
     ]
    },
    {
     "ename": "TypeError",
     "evalue": "unsupported operand type(s) for +: 'int' and 'NoneType'",
     "output_type": "error",
     "traceback": [
      "\u001b[1;31m---------------------------------------------------------------------------\u001b[0m",
      "\u001b[1;31mTypeError\u001b[0m                                 Traceback (most recent call last)",
      "Input \u001b[1;32mIn [16]\u001b[0m, in \u001b[0;36m<cell line: 8>\u001b[1;34m()\u001b[0m\n\u001b[0;32m      5\u001b[0m power1 \u001b[38;5;241m=\u001b[39m \u001b[38;5;28mpow\u001b[39m(\u001b[38;5;241m2\u001b[39m,\u001b[38;5;241m3\u001b[39m)\n\u001b[0;32m      6\u001b[0m \u001b[38;5;66;03m# print(power1)\u001b[39;00m\n\u001b[0;32m      7\u001b[0m \u001b[38;5;66;03m# type(power1)\u001b[39;00m\n\u001b[1;32m----> 8\u001b[0m add \u001b[38;5;241m=\u001b[39m \u001b[38;5;241;43m2\u001b[39;49m\u001b[43m \u001b[49m\u001b[38;5;241;43m+\u001b[39;49m\u001b[43m \u001b[49m\u001b[43mpower1\u001b[49m\n\u001b[0;32m      9\u001b[0m \u001b[38;5;28mprint\u001b[39m(add)\n",
      "\u001b[1;31mTypeError\u001b[0m: unsupported operand type(s) for +: 'int' and 'NoneType'"
     ]
    }
   ],
   "source": [
    "def pow(a,b):\n",
    "    c = a ** b\n",
    "    print(c) # here it is used for user display it can not be used by te computer again \n",
    "\n",
    "power1 = pow(2,3)\n",
    "# # print(power1)\n",
    "# # type(power1)\n",
    "# add = 2 + power1 # we can not use it further \n",
    "# print(add)"
   ]
  },
  {
   "cell_type": "code",
   "execution_count": 18,
   "id": "15ecf129",
   "metadata": {},
   "outputs": [
    {
     "ename": "SyntaxError",
     "evalue": "invalid syntax (3269393843.py, line 3)",
     "output_type": "error",
     "traceback": [
      "\u001b[1;36m  Input \u001b[1;32mIn [18]\u001b[1;36m\u001b[0m\n\u001b[1;33m    return the number a to the power\u001b[0m\n\u001b[1;37m               ^\u001b[0m\n\u001b[1;31mSyntaxError\u001b[0m\u001b[1;31m:\u001b[0m invalid syntax\n"
     ]
    }
   ],
   "source": [
    "def exp(a,b):\n",
    "    c = a ** b\n",
    "    return the number a to the power\n",
    "\n",
    "e = exp(a,b)\n",
    "print(e)"
   ]
  },
  {
   "cell_type": "code",
   "execution_count": 26,
   "id": "13dc713c",
   "metadata": {},
   "outputs": [
    {
     "name": "stdout",
     "output_type": "stream",
     "text": [
      "Name: Deepu\n",
      "Age: 28\n"
     ]
    }
   ],
   "source": [
    "# string function\n",
    "def name_age(name,age):\n",
    "    print('Name:', name)\n",
    "    print('Age:', age)\n",
    "    return \n",
    "info=name_age('Deepu', 28)\n"
   ]
  },
  {
   "cell_type": "markdown",
   "id": "61890af9",
   "metadata": {},
   "source": [
    "## Writing a function to extract first letter of the words"
   ]
  },
  {
   "cell_type": "code",
   "execution_count": 14,
   "id": "a0c03e2a",
   "metadata": {},
   "outputs": [
    {
     "name": "stdout",
     "output_type": "stream",
     "text": [
      "['W', 'M', 'S', 'O', 'F', 'R', 'I', 'C', 'I', 'c', 'H', 'F', 'I', 'L', 'W', 'Y']\n"
     ]
    }
   ],
   "source": [
    "# This is using for loop code \n",
    "def first_letter(sentence):\n",
    "    '''This function will extract the first letter from the word''' # Doc string \n",
    "    list_of_words = sentence.split() # assign variable for userinput \n",
    "    empty_list = [] # asssign empty_list to collect and append values\n",
    "    for word in list_of_words: # start the for loop\n",
    "        empty_list.append(word[0]) # append only the first letter of the word by using index i.e word[0]\n",
    "    print (empty_list) # use print to display or return to use in the next line of code more like linking the output to variable\n",
    "#     return \n",
    "\n",
    "user_string = \"Wise Men Say Only Fools Rush In Cause I can't Help Falling In Love With You\"\n",
    "first_letter(user_string)\n",
    "\n",
    "# lets try running the function in the next cell "
   ]
  },
  {
   "cell_type": "code",
   "execution_count": 15,
   "id": "79d11a7d",
   "metadata": {},
   "outputs": [
    {
     "name": "stdout",
     "output_type": "stream",
     "text": [
      "['L', 'i', 'a', 'q', 't', 'd', 'm', 't', 'h', 'b', 'p', 's', 'a', 's', 'a', 's', 'p', 'f', 't', 'w', 'd', 'n', 'a', 'i', 'd', 'b', 't', 'c', 'f', 'g', 'r', 't', 's', 'm', 'e', 't', 'a', 'r', 'V', 'f', 'o', 'l', 'e', 's', 'a', 'p', 'a', 'f', 'p', 'a', 'b', 'B', 'i', 't', 's', 't', 's', 'l']\n",
      "None\n"
     ]
    }
   ],
   "source": [
    "user_stringA = \"Life is a quality that distinguishes matter that has biological processes, \\\n",
    "such as signaling and self-sustaining processes, from that which does not, and is defined \\\n",
    "by the capacity for growth, reaction to stimuli, metabolism, energy transformation, and \\\n",
    "reproduction.[1][2] Various forms of life exist, such as plants, animals, fungi, protists,\\\n",
    "archaea, and bacteria. Biology is the science that studies life.\"\n",
    "\n",
    "test = first_letter(user_stringA)\n",
    "print(test) # this will give 'one'as the function is not returning any value to variable it is just displaying the output \n",
    "# understand it by showroom display and watch analogy \n"
   ]
  },
  {
   "cell_type": "code",
   "execution_count": 17,
   "id": "fa21e91c",
   "metadata": {},
   "outputs": [
    {
     "name": "stdout",
     "output_type": "stream",
     "text": [
      "['O', 'G', 'A', 'D', 'a', 'L', 'U', 'M', 'A', 'L', 'F', 'W', 'T', 'B', 'O', 'T', 'T']\n"
     ]
    }
   ],
   "source": [
    "# writing the same function using list comprehension\n",
    "def comprehension_code_first_letter_extract(sentence):\n",
    "    ''' This is a list comprehension code to extract the first letter of the sentence'''\n",
    "    list_of_words = sentence.split() # convert the userinput into list of words \n",
    "    first_letter = [word[0] for word in list_of_words] # using list comprehension extract first letter of the word \n",
    "    print(first_letter) # Always keep in mind whether you want to use retrun or print as per usecase\n",
    "\n",
    "my_user = \"Only Girls And Dogs are Loved Unconditionlly Men Are Loved For What They Bring On The Table\"\n",
    "comprehension_code_first_letter_extract(my_user) "
   ]
  },
  {
   "cell_type": "markdown",
   "id": "465beb8f",
   "metadata": {},
   "source": [
    "## Write a code to create a function to find the factorial of a number "
   ]
  },
  {
   "cell_type": "code",
   "execution_count": 18,
   "id": "2e98f37d",
   "metadata": {},
   "outputs": [
    {
     "name": "stdout",
     "output_type": "stream",
     "text": [
      "3628800\n"
     ]
    }
   ],
   "source": [
    "# First we will write a code to find the factorial of a number and then we will try to create a function out of it \n",
    "initial_value = 1\n",
    "for number in range(1,11):\n",
    "    initial_value = initial_value * number\n",
    "print(initial_value)    \n"
   ]
  },
  {
   "cell_type": "code",
   "execution_count": 29,
   "id": "f40c2a17",
   "metadata": {},
   "outputs": [
    {
     "name": "stdout",
     "output_type": "stream",
     "text": [
      "3628800\n",
      "None\n"
     ]
    }
   ],
   "source": [
    "# make a function out of it\n",
    "def factorial(a,b):\n",
    "    initial_value = a\n",
    "    for number in range(a,b):\n",
    "        initial_value = initial_value * number\n",
    "    print(initial_value)\n",
    "    \n",
    "    \n",
    "fact = factorial(1,11)\n",
    "print(fact)\n",
    "\n",
    "#Some of the problems we have encountered here are \n",
    "# the range issue it take value till range - 1\n",
    "# the user has to enter two arguments which does not make any sense\n",
    "# Lets solve these problems in next cell "
   ]
  },
  {
   "cell_type": "code",
   "execution_count": 31,
   "id": "65bf7800",
   "metadata": {},
   "outputs": [
    {
     "data": {
      "text/plain": [
       "3628800"
      ]
     },
     "execution_count": 31,
     "metadata": {},
     "output_type": "execute_result"
    }
   ],
   "source": [
    "# optimizing the code \n",
    "def factorial_improved(number):\n",
    "    initial_value = 1 # this assigning is doing two things for us A-It is initializing the value of variable initial__value\n",
    "    # sp that it can be used in the loop code block ,B - it is being used to set the starting range as concidentally both \n",
    "    # both are equal to 1\n",
    "    numb_inside_function = number + 1 # since the range take value till range - 1, we had to clibrate for the factorial thing \n",
    "    for numb in range(initial_value,numb_inside_function):\n",
    "        initial_value = initial_value * numb\n",
    "    return(initial_value) # assign the value to the variable so that it can be used in the next line of code\n",
    "\n",
    "factorial_improved(10)\n",
    "    "
   ]
  },
  {
   "cell_type": "code",
   "execution_count": 25,
   "id": "160bbb02",
   "metadata": {},
   "outputs": [
    {
     "name": "stdout",
     "output_type": "stream",
     "text": [
      "3628800\n"
     ]
    }
   ],
   "source": [
    "# we did not take in account that what if the user enters 0\n",
    "initial_value = 1\n",
    "x = 10\n",
    "range_end = x + 1\n",
    "\n",
    "if x == 0:\n",
    "    print('The factorial of 0 is 1')\n",
    "\n",
    "elif x < 0:\n",
    "    print('The factorial can not be calculated')\n",
    "    \n",
    "else: \n",
    "    for number in range(initial_value,range_end):\n",
    "        initial_value = initial_value * number\n",
    "    print(initial_value) # make sure where you place this print it is important # keep it in else code block -why-code & see o/p\n",
    "\n",
    "        "
   ]
  },
  {
   "cell_type": "code",
   "execution_count": 55,
   "id": "6dfe86db",
   "metadata": {},
   "outputs": [
    {
     "name": "stdout",
     "output_type": "stream",
     "text": [
      "3628800\n"
     ]
    },
    {
     "data": {
      "text/plain": [
       "int"
      ]
     },
     "execution_count": 55,
     "metadata": {},
     "output_type": "execute_result"
    }
   ],
   "source": [
    "# Now we will make a function out of it\n",
    "def factorial_improvised(number):\n",
    "    '''The improvised function contains the code for user entries like zero,negative numbers,positive numbers'''\n",
    "    initial_value = 1\n",
    "    factorial_end_value = number + 1\n",
    "    if number == 0:\n",
    "        print('The factorial of Zero is 1')\n",
    "    \n",
    "    elif number < 0:\n",
    "        print('The factorial can not be determined by the code')\n",
    "        \n",
    "    else:\n",
    "        for numb in range(initial_value,factorial_end_value):\n",
    "            initial_value = initial_value * numb\n",
    "        return(initial_value) #keep it in else code block - why - try the other way and see what happens \n",
    "\n",
    "fact=factorial_improvised(10)\n",
    "print(fact)\n",
    "type(fact) # because I have used return here it the function output is linked with the variable and hence we get the type as int\n",
    "\n"
   ]
  },
  {
   "cell_type": "markdown",
   "id": "2a204275",
   "metadata": {},
   "source": [
    "#   We can used our created function to find the factorial of list of number using list comprehension as well\n"
   ]
  },
  {
   "cell_type": "code",
   "execution_count": 57,
   "id": "439e6df9",
   "metadata": {},
   "outputs": [
    {
     "name": "stdout",
     "output_type": "stream",
     "text": [
      "[2, 24, 720, 5040, 40320, 479001600, 1307674368000, 6402373705728000]\n"
     ]
    }
   ],
   "source": [
    "list_of_numbers = [2,4,6,7,8,12,15,18]\n",
    "facty=[factorial_improvised(number) for number in list_of_numbers] # we are using our own created function- factorial_improvised\n",
    "print(facty) # we just have to call the functioin by its name"
   ]
  },
  {
   "cell_type": "markdown",
   "id": "d5ed7d1a",
   "metadata": {},
   "source": [
    "# function to extract the month and give quarter"
   ]
  },
  {
   "cell_type": "code",
   "execution_count": 11,
   "id": "3b10d046",
   "metadata": {
    "scrolled": true
   },
   "outputs": [
    {
     "name": "stdout",
     "output_type": "stream",
     "text": [
      "Please enter the date in DD/MM/YYYY format: 12/08/2002\n",
      "\n",
      "You are in third quarter of 2002\n"
     ]
    }
   ],
   "source": [
    "# let first code conventionally \n",
    "# user input date \n",
    "val = str(input('Please enter the date in DD/MM/YYYY format: '))\n",
    "print('')\n",
    "if int(val[3:5]) >= 1 and int(val[3:5]) <=3:\n",
    "    print(f'You are in first quarter of {val[:-5:-1]}') # your slicing code to extract year from date is wrong please reconsider \n",
    "\n",
    "elif int(val[3:5]) >=4 and int(val[3:5]) <= 6:\n",
    "    print('You are in second quarter of',val[-1:-5:-1])# your slicing code to extract year from date is wrong please reconside \n",
    "\n",
    "elif int(val[3:5]) >=7 and int(val[3:5]) <= 9:\n",
    "    print('You are in third quarter of',val[-1:-5:-1])# your slicing code to extract year from date is wrong please reconsider \n",
    "\n",
    "else:\n",
    "    print('You are in fourth quarter of',val[-1:-5:-1])# your slicing code to extract year from date is wrong please reconsider\n",
    "    "
   ]
  },
  {
   "cell_type": "code",
   "execution_count": 2,
   "id": "6006b231",
   "metadata": {},
   "outputs": [
    {
     "name": "stdout",
     "output_type": "stream",
     "text": [
      "Please enter the date in DD/MM/YYYY format: 12/06/2000\n",
      "\n",
      "Your entered date is 12/06/2000 and you are in 2000  -Q2\n"
     ]
    }
   ],
   "source": [
    "#This is another way of using the print or retrun function in code \n",
    "# Here we have assign variable with the same name in different if and elif code block\n",
    "\n",
    "val = str(input('Please enter the date in DD/MM/YYYY format: '))\n",
    "print('')\n",
    "if int(val[3:5]) >= 1 and int(val[3:5]) <=3:\n",
    "    quarter = val[-4:] +' '+ '-Q1' # this is the correct slicing code to extract year from the date \n",
    "    # print(f'You are in first quarter of {val[:-5:-1]}')\n",
    "\n",
    "elif int(val[3:5]) >=4 and int(val[3:5]) <= 6:\n",
    "    quarter = val[-4:] +' '+ '-Q2'\n",
    "    # print('You are in second quarter of',val[-1:-5:-1])\n",
    "\n",
    "elif int(val[3:5]) >=7 and int(val[3:5]) <= 9:\n",
    "    quarter = val[-4:] +' '+ '-Q3'\n",
    "    # print('You are in third quarter of',val[-1:-5:-1])\n",
    "\n",
    "else:\n",
    "    quarter = val[-4:] +' '+ '-Q4'\n",
    "    # print('You are in fourth quarter of',val[-1:-5:-1])\n",
    "    \n",
    "print(f'Your entered date is {val} and you are in {quarter}')    \n",
    "    "
   ]
  },
  {
   "cell_type": "markdown",
   "id": "1a09869b",
   "metadata": {},
   "source": [
    "### Due to the limited knowledge we posses at this point of time we will have to enter the date in string for the funciton to work \n"
   ]
  },
  {
   "cell_type": "code",
   "execution_count": 20,
   "id": "2f527f2c",
   "metadata": {},
   "outputs": [
    {
     "name": "stdout",
     "output_type": "stream",
     "text": [
      "2000 -Q2\n",
      "<class 'str'>\n"
     ]
    }
   ],
   "source": [
    "# lets first dicide in what format do we want the user to enter the date \n",
    "# lets go for some different format this time \n",
    "# We will follow YYYY-MM-DD format in the string\n",
    "# This is written as per the alma better colab notebook \n",
    "\n",
    "def quarter_function(user_date):\n",
    "    ''' This funciton will extract the month and year from the user data and return year and quarter\n",
    "        Some condition are the user data has to be in string and the date format has to be\n",
    "        YYYY-MM-DD ''' # Please chech the indentation of the docs as the to have to be indented otherwise it will throw error\n",
    "    user_input_month = user_date[5:7]\n",
    "    user_input_year = user_date[0:4]\n",
    "    \n",
    "    if int(user_input_month) >= 1 and int(user_input_month) <= 3:\n",
    "        quarter = user_input_year +' '+'-Q1'\n",
    "    \n",
    "    elif int(user_input_month) >= 4 and int(user_input_month) <= 6:\n",
    "        quarter = user_input_year +' '+'-Q2'\n",
    "    \n",
    "    elif int(user_input_month) >= 7 and int(user_input_month) <= 9:\n",
    "        quarter = user_input_year +' '+'-Q3'\n",
    "    \n",
    "    else:\n",
    "        quarter = user_input_year +' '+'-Q4'\n",
    "    \n",
    "#     print(f'The entered date is {user_date} \\nAnd you are in {quarter}')\n",
    "    return quarter # this can be used in further line of code it links the the value with the variable \n",
    "    \n",
    "date = '2000-06-30'\n",
    "print(quarter_function(date))\n",
    "print(type(date))\n",
    "    "
   ]
  },
  {
   "cell_type": "code",
   "execution_count": 16,
   "id": "de794f30",
   "metadata": {},
   "outputs": [],
   "source": [
    "# Now lets make function out of the code which I wrote \n",
    "# you are having a problem in this do it when you will be making notes for this chapter \n",
    ".\n",
    ".\n",
    ".\n",
    ".\n",
    ".\n",
    ".\n",
    ".\n",
    ".\n",
    ".\n"
   ]
  },
  {
   "cell_type": "markdown",
   "id": "ddf80d2a",
   "metadata": {},
   "source": [
    "# Multiple return"
   ]
  },
  {
   "cell_type": "code",
   "execution_count": 24,
   "id": "ae828d3b",
   "metadata": {},
   "outputs": [
    {
     "name": "stdout",
     "output_type": "stream",
     "text": [
      "You have entered 10\n"
     ]
    },
    {
     "data": {
      "text/plain": [
       "'Even'"
      ]
     },
     "execution_count": 24,
     "metadata": {},
     "output_type": "execute_result"
    }
   ],
   "source": [
    "def odd_even_with_two_return(number):\n",
    "    print(f'You have entered {number}')\n",
    "    if number % 2 == 0:\n",
    "        return 'Even'\n",
    "    \n",
    "    else:\n",
    "        return 'Odd'\n",
    "    \n",
    "    \n",
    "odd_even_with_two_return(10) "
   ]
  },
  {
   "cell_type": "markdown",
   "id": "fe2871fa",
   "metadata": {},
   "source": [
    "### You are having a bit of confusion about how to call a function, Let's clear that thing first "
   ]
  },
  {
   "cell_type": "code",
   "execution_count": 25,
   "id": "c94c649b",
   "metadata": {},
   "outputs": [
    {
     "name": "stdout",
     "output_type": "stream",
     "text": [
      "You have entered 10\n",
      "Even\n"
     ]
    }
   ],
   "source": [
    "# assigning a variable \n",
    "# assigning variable to funciton\n",
    "# than calling the variable\n",
    "my_number = 10\n",
    "p_my_number = odd_even_with_two_return(my_number)\n",
    "print(p_my_number)\n"
   ]
  },
  {
   "cell_type": "code",
   "execution_count": 26,
   "id": "9329d976",
   "metadata": {},
   "outputs": [
    {
     "name": "stdout",
     "output_type": "stream",
     "text": [
      "You have entered 11\n"
     ]
    },
    {
     "data": {
      "text/plain": [
       "'Odd'"
      ]
     },
     "execution_count": 26,
     "metadata": {},
     "output_type": "execute_result"
    }
   ],
   "source": [
    "#directly calling the function \n",
    "odd_even_with_two_return(11)"
   ]
  },
  {
   "cell_type": "markdown",
   "id": "244caea5",
   "metadata": {},
   "source": [
    "# write a function for sort, mean , median , mode "
   ]
  },
  {
   "cell_type": "code",
   "execution_count": 5,
   "id": "1c951160",
   "metadata": {},
   "outputs": [
    {
     "name": "stdout",
     "output_type": "stream",
     "text": [
      "([1, 2, 4, 5, 7, 7, 7, 7, 7, 7, 8, 8, 9, 10, 23], 7.47, 7, 7)\n"
     ]
    }
   ],
   "source": [
    "# Note this code is written by me alma better code may differ\n",
    "\n",
    "def sort_mean_median_mode(my_list):\n",
    "    my_list.sort()\n",
    "    # return my_list\n",
    "    \n",
    "    #for sum of the elements in the list\n",
    "    mean = round(sum(my_list)/len(my_list),2)\n",
    "    # return my_list , summed\n",
    "    \n",
    "    if len(my_list) % 2 == 0:\n",
    "        mean_A=my_list[int(len(my_list)/2)]\n",
    "        mean_B=my_list[int(len(my_list)/2)-1]\n",
    "        median = mean_A/2 + mean_B/2\n",
    "        \n",
    "    else:\n",
    "        element_improvised = len(my_list)  + 1\n",
    "        median = my_list[int(element_improvised/2)]\n",
    "        \n",
    "#     return my_list,mean, median \n",
    "\n",
    "# The code for mode is in progress I am working on it \n",
    "# This is the code for mode\n",
    "# I have to comment the codes\n",
    "# See if there is any flaw in the mode code\n",
    "    empty=[]\n",
    "    for i in my_list:\n",
    "        y=my_list.count(i)\n",
    "        empty.append(y)\n",
    "    \n",
    "    mapped=dict(zip(my_list,empty))\n",
    "    # print(mapped)\n",
    "    mode = max(zip(mapped.values(), mapped.keys()))[1] # Have to understand this part [] - you see this and the first thing\n",
    "    #that should come to your mind in index \n",
    "    # print(mode)   \n",
    "    \n",
    "    \n",
    "    return my_list, mean, median, mode\n",
    "\n",
    "        \n",
    "    \n",
    "    \n",
    "x = [1,5,2,7,8,4,8,7,7,7,7,7,9,10,23]\n",
    "print(sort_mean_median_mode(x))\n"
   ]
  },
  {
   "cell_type": "code",
   "execution_count": 2,
   "id": "b0aeaa8e",
   "metadata": {},
   "outputs": [
    {
     "name": "stdout",
     "output_type": "stream",
     "text": [
      "{1: 2, 2: 2, 3: 4, 4: 1, 5: 1, 6: 1}\n",
      "4\n"
     ]
    }
   ],
   "source": [
    "# code for mode under construction \n",
    "my_list = [1,2,3,2,1,3,3,3,4,5,6]\n",
    "empty=[]\n",
    "for i in my_list:\n",
    "    y=my_list.count(i)\n",
    "    empty.append(y)\n",
    "    \n",
    "mapped=dict(zip(my_list,empty))\n",
    "print(mapped)\n",
    "print(max(mapped.values()))# we have got the max value we have to code to find the key of max value"
   ]
  },
  {
   "cell_type": "markdown",
   "id": "02b2e4a1",
   "metadata": {},
   "source": [
    "# If you have multiple returns in the function you can assigne each return with a variable name"
   ]
  },
  {
   "cell_type": "code",
   "execution_count": 8,
   "id": "269510fc",
   "metadata": {
    "scrolled": true
   },
   "outputs": [
    {
     "data": {
      "text/plain": [
       "[1, 1, 2, 2, 2, 3, 3, 4, 6, 7, 8, 9, 11, 13]"
      ]
     },
     "execution_count": 8,
     "metadata": {},
     "output_type": "execute_result"
    }
   ],
   "source": [
    "my_list = [1,2,3,2,1,2,3,4,6,7,8,9,11,13]\n",
    "my_sort, my_mean, my_median, my_mode = sort_mean_median_mode(my_list) # we have assigne each return with variable \n",
    "#print(sort_mean_median_mode(my_list))\n",
    "my_sort # variable assigned for sorted list (return)"
   ]
  },
  {
   "cell_type": "code",
   "execution_count": 9,
   "id": "bf9d772d",
   "metadata": {},
   "outputs": [
    {
     "data": {
      "text/plain": [
       "5.14"
      ]
     },
     "execution_count": 9,
     "metadata": {},
     "output_type": "execute_result"
    }
   ],
   "source": [
    "my_mean # variable assigned for mean (return)"
   ]
  },
  {
   "cell_type": "code",
   "execution_count": 10,
   "id": "c1662815",
   "metadata": {},
   "outputs": [
    {
     "data": {
      "text/plain": [
       "3.5"
      ]
     },
     "execution_count": 10,
     "metadata": {},
     "output_type": "execute_result"
    }
   ],
   "source": [
    "my_median # variable assigned for meidian (return)"
   ]
  },
  {
   "cell_type": "code",
   "execution_count": 11,
   "id": "41b67efa",
   "metadata": {},
   "outputs": [
    {
     "data": {
      "text/plain": [
       "2"
      ]
     },
     "execution_count": 11,
     "metadata": {},
     "output_type": "execute_result"
    }
   ],
   "source": [
    "my_mode # variable assigned for mode (return)"
   ]
  },
  {
   "cell_type": "markdown",
   "id": "da3a4714",
   "metadata": {},
   "source": [
    "# Write a function to add element to a list "
   ]
  },
  {
   "cell_type": "code",
   "execution_count": 1,
   "id": "1afa421e",
   "metadata": {},
   "outputs": [
    {
     "name": "stdout",
     "output_type": "stream",
     "text": [
      "[1, 2, 3, 4, 40]\n"
     ]
    }
   ],
   "source": [
    "# We can do this by two ways first using append and other with out using append \n",
    "# You can do it by first writing the code and then converting it into function \n",
    "# we will do it directly this time \n",
    "def add_element_with_append(my_list,elem):\n",
    "    my_list.append(elem)\n",
    "    return my_list\n",
    "\n",
    "hey_list = [1,2,3,4]\n",
    "whats_up_list = add_element_with_append(hey_list,40) # this is another way to print the result \n",
    "print(whats_up_list)"
   ]
  },
  {
   "cell_type": "code",
   "execution_count": 2,
   "id": "64521e67",
   "metadata": {},
   "outputs": [
    {
     "name": "stdout",
     "output_type": "stream",
     "text": [
      "[1, 2, 4, 3, 58]\n"
     ]
    }
   ],
   "source": [
    "# In this we will not use append\n",
    "def add_element_without_append(my_list,elem):\n",
    "    my_list = my_list + [elem] # reassigning \n",
    "    return my_list \n",
    "\n",
    "\n",
    "hi_list = [1,2,4,3]\n",
    "print(add_element_without_append(hi_list,58)) # this is the classical method for printing "
   ]
  },
  {
   "cell_type": "markdown",
   "id": "581eb8c0",
   "metadata": {},
   "source": [
    "## NOTE - Hacker Rank question - In case you are getting none in the function value along with the result and you want just the result use return instead of print if there are mutliple print function like the one in the leap year"
   ]
  },
  {
   "cell_type": "code",
   "execution_count": 4,
   "id": "48dbc18c",
   "metadata": {},
   "outputs": [
    {
     "name": "stdout",
     "output_type": "stream",
     "text": [
      "5\n",
      "12345\n"
     ]
    }
   ],
   "source": [
    "# this will go in Hacker rank section \n",
    "val = int(input())\n",
    "emp_string = ''\n",
    "for numb in range(1,val+1):\n",
    "    emp_string = emp_string + str(numb)\n",
    "    \n",
    "print(emp_string)  "
   ]
  },
  {
   "cell_type": "markdown",
   "id": "fafb30d6",
   "metadata": {},
   "source": [
    "# Write a code to add an user defined element at a user defined index in the list "
   ]
  },
  {
   "cell_type": "code",
   "execution_count": 2,
   "id": "13772b94",
   "metadata": {},
   "outputs": [
    {
     "name": "stdout",
     "output_type": "stream",
     "text": [
      "[1, 2, 3, 69, 4, 5]\n",
      "[1, 2, 193, 3, 4, 5]\n"
     ]
    }
   ],
   "source": [
    "def add_element_to_defined_index(my_list,ind,value):\n",
    "    listy = my_list[:ind] + [value] + my_list[ind:] # cuts the list into 2 parts and add/append the element in the first list \n",
    "    return listy                                    # and then add/extend the the lists again and return\n",
    "\n",
    "list_1 = [1,2,3,4,5]\n",
    "print(add_element_to_defined_index(list_1,3,69))\n",
    "print(add_element_to_defined_index(list_1,2,193))\n"
   ]
  },
  {
   "cell_type": "code",
   "execution_count": 6,
   "id": "a9bbbd5a",
   "metadata": {},
   "outputs": [
    {
     "name": "stdout",
     "output_type": "stream",
     "text": [
      "None\n"
     ]
    }
   ],
   "source": [
    "# built in inset function does the same job\n",
    "my_list_1 = [1,2,3,4,5]\n",
    "new_my_list = my_list_1.insert(2,1990)\n",
    "print(new_my_list)\n",
    "# Now stop and this why is the error thrown ot you \n",
    "# Think - the same mistake you did with append \n",
    "# since list is mutable hence using insert changes the original list \n",
    "# You don't have to assign new variable to print the new list just call the old list because the old list mutated"
   ]
  },
  {
   "cell_type": "code",
   "execution_count": 9,
   "id": "519f8356",
   "metadata": {},
   "outputs": [
    {
     "name": "stdout",
     "output_type": "stream",
     "text": [
      "['apple', 'banana', 495357, 'cherry', 'dragon fruit']\n"
     ]
    }
   ],
   "source": [
    "# you can do the same thing using insert method \n",
    "# it take two arguments , first argument is index and the second one is value\n",
    "my_listy = [ 'apple','banana','cherry','dragon fruit']\n",
    "my_listy.insert(2,495357)\n",
    "print(my_listy)"
   ]
  },
  {
   "cell_type": "code",
   "execution_count": 4,
   "id": "f7cb9865",
   "metadata": {},
   "outputs": [],
   "source": [
    "my_list_2 = [1,3,5,7]\n",
    "my_list_2_new = add_element_to_defined_index(my_list_2,2,49)"
   ]
  },
  {
   "cell_type": "code",
   "execution_count": 5,
   "id": "29025abc",
   "metadata": {},
   "outputs": [
    {
     "data": {
      "text/plain": [
       "[1, 3, 49, 5, 7]"
      ]
     },
     "execution_count": 5,
     "metadata": {},
     "output_type": "execute_result"
    }
   ],
   "source": [
    "my_list_2_new # this is because of the return statement "
   ]
  },
  {
   "cell_type": "markdown",
   "id": "2ef3986c",
   "metadata": {},
   "source": [
    "# Global and local variable"
   ]
  },
  {
   "cell_type": "markdown",
   "id": "55211e1a",
   "metadata": {},
   "source": [
    "x = 3 - this thing which we are actually doing since inception of our python journey, is assigning x = 3 globally \n",
    "this x can be used throughout the code. \n",
    "We can also use variable in function but it is restricted to that particular function (just like methods restricted to certain data types) In order to overcome this problem we can use the keyword 'global' in the function \n",
    "Note: While defining the global variable outside function we don't use global keyword we simply write x=3 it defines it globaly\n",
    "by default\n"
   ]
  },
  {
   "cell_type": "code",
   "execution_count": 4,
   "id": "4bf3729a",
   "metadata": {},
   "outputs": [
    {
     "name": "stdout",
     "output_type": "stream",
     "text": [
      "Sanjay\n",
      "Sanjay\n"
     ]
    }
   ],
   "source": [
    "x = 'Deepu'\n",
    "def experiment():\n",
    "    global x  # This line of code will overwrite the value of x to new value of x that you define \n",
    "    x = 'Sanjay' # The value of x will now be Sanjay through out the code line\n",
    "    return x\n",
    "\n",
    "print(experiment())\n",
    "print(x)"
   ]
  },
  {
   "cell_type": "code",
   "execution_count": 5,
   "id": "0dfaa270",
   "metadata": {},
   "outputs": [
    {
     "data": {
      "text/plain": [
       "'Sanjay'"
      ]
     },
     "execution_count": 5,
     "metadata": {},
     "output_type": "execute_result"
    }
   ],
   "source": [
    "x"
   ]
  },
  {
   "cell_type": "markdown",
   "id": "8c4b7fcb",
   "metadata": {},
   "source": [
    "lets try an another example with modified return"
   ]
  },
  {
   "cell_type": "code",
   "execution_count": 6,
   "id": "db5c9f0a",
   "metadata": {},
   "outputs": [
    {
     "name": "stdout",
     "output_type": "stream",
     "text": [
      "2500\n"
     ]
    }
   ],
   "source": [
    "x = 40\n",
    "def return_experiment():\n",
    "    global x \n",
    "    x = 50\n",
    "    return x ** 2\n",
    "\n",
    "print(return_experiment())"
   ]
  },
  {
   "cell_type": "code",
   "execution_count": 7,
   "id": "6a731613",
   "metadata": {},
   "outputs": [
    {
     "data": {
      "text/plain": [
       "50"
      ]
     },
     "execution_count": 7,
     "metadata": {},
     "output_type": "execute_result"
    }
   ],
   "source": [
    "x # overwrites the x = 40 to x = 50 because of global keyword in function "
   ]
  },
  {
   "cell_type": "code",
   "execution_count": null,
   "id": "7c2c4b9f",
   "metadata": {},
   "outputs": [],
   "source": []
  }
 ],
 "metadata": {
  "kernelspec": {
   "display_name": "Python 3 (ipykernel)",
   "language": "python",
   "name": "python3"
  },
  "language_info": {
   "codemirror_mode": {
    "name": "ipython",
    "version": 3
   },
   "file_extension": ".py",
   "mimetype": "text/x-python",
   "name": "python",
   "nbconvert_exporter": "python",
   "pygments_lexer": "ipython3",
   "version": "3.9.12"
  }
 },
 "nbformat": 4,
 "nbformat_minor": 5
}
