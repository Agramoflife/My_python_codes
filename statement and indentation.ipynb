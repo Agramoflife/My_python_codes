{
 "cells": [
  {
   "cell_type": "markdown",
   "id": "93d189d4",
   "metadata": {},
   "source": [
    "# Statement and indentation"
   ]
  },
  {
   "cell_type": "markdown",
   "id": "e3a55c57",
   "metadata": {},
   "source": [
    "Write a Python program to calculate a dog's age in dog's years. Note: For the first two years, a dog year is equal to 10.5 human years.After that, each dog year equals 4 human years."
   ]
  },
  {
   "cell_type": "code",
   "execution_count": 3,
   "id": "67e3aee3",
   "metadata": {},
   "outputs": [
    {
     "name": "stdout",
     "output_type": "stream",
     "text": [
      "2\n",
      "21.0\n"
     ]
    }
   ],
   "source": [
    "#my code\n",
    "age_input = int(input())\n",
    "if 0 <= age_input <= 2:\n",
    "    print(age_input*10.5)\n",
    "else:\n",
    "    print(21 + (age_input - 2)* 4)"
   ]
  },
  {
   "cell_type": "code",
   "execution_count": null,
   "id": "89248d9c",
   "metadata": {},
   "outputs": [],
   "source": [
    "#sol code\n",
    "# your code goes here\n",
    "h_age = int(input())\n",
    "d_age = 0\n",
    "if h_age <= 2 and h_age >= 0:\n",
    "        d_age = h_age * 10.5\n",
    "else:\n",
    "        d_age = 21 + (h_age - 2)*4\n",
    "\n",
    "print(\"Dog's age:\", d_age)"
   ]
  },
  {
   "cell_type": "markdown",
   "id": "575e8401",
   "metadata": {},
   "source": [
    "Write a Python program to check whether an alphabet is a vowel or consonant."
   ]
  },
  {
   "cell_type": "code",
   "execution_count": 16,
   "id": "3e4119ad",
   "metadata": {},
   "outputs": [
    {
     "data": {
      "text/plain": [
       "['hello']"
      ]
     },
     "execution_count": 16,
     "metadata": {},
     "output_type": "execute_result"
    }
   ],
   "source": [
    "#So before going forward lets clear the confusion between \n",
    "x = 'hello'\n",
    "x.split()"
   ]
  },
  {
   "cell_type": "code",
   "execution_count": 17,
   "id": "6266aa56",
   "metadata": {},
   "outputs": [
    {
     "data": {
      "text/plain": [
       "['h', 'e', 'l', 'l', 'o']"
      ]
     },
     "execution_count": 17,
     "metadata": {},
     "output_type": "execute_result"
    }
   ],
   "source": [
    "x = 'hello'\n",
    "list(x)"
   ]
  },
  {
   "cell_type": "code",
   "execution_count": 18,
   "id": "cc0ac35f",
   "metadata": {},
   "outputs": [],
   "source": [
    "# These both are two differnt functions"
   ]
  },
  {
   "cell_type": "code",
   "execution_count": 22,
   "id": "7c5738ae",
   "metadata": {},
   "outputs": [
    {
     "name": "stdout",
     "output_type": "stream",
     "text": [
      "a\n",
      "Vowel\n"
     ]
    }
   ],
   "source": [
    "#my sol\n",
    "val = input()\n",
    "vowels = 'aeiou'\n",
    "lis = list(vowels)\n",
    "if val.lower() in lis: # val.lower will convert the alphabet into lower and check if its in lis\n",
    "    print('Vowel')\n",
    "else:\n",
    "    print('Not a vowel')"
   ]
  },
  {
   "cell_type": "code",
   "execution_count": null,
   "id": "225372af",
   "metadata": {},
   "outputs": [],
   "source": [
    "#code sol\n",
    "# your code goes here\n",
    "l = input()\n",
    "\n",
    "if l in ('a', 'e', 'i', 'o', 'u', 'A', 'E', 'I', 'O', 'U'):\n",
    "        print(\"Vowel\")\n",
    "else:\n",
    "        print(\"Consonant\") "
   ]
  },
  {
   "cell_type": "markdown",
   "id": "67841329",
   "metadata": {},
   "source": [
    "Write a Python program to convert month name to a number of days. Print 'Wrong month name' for incorrect input. Note: February has 28/29 days."
   ]
  },
  {
   "cell_type": "code",
   "execution_count": 33,
   "id": "86d2f555",
   "metadata": {},
   "outputs": [
    {
     "name": "stdout",
     "output_type": "stream",
     "text": [
      "JANUARY\n",
      "31\n"
     ]
    }
   ],
   "source": [
    "val = str(input())\n",
    "lis1 = ['january','march','may','july','august','october','december']\n",
    "lis2 = ['april','june','september','november']\n",
    "if val.lower() in lis1:\n",
    "    print(31)\n",
    "elif val.lower in lis2:\n",
    "    print(30)\n",
    "elif val.lower() == 'feburary':\n",
    "    print('28/29')\n",
    "else:\n",
    "    print('Wrong month name')"
   ]
  },
  {
   "cell_type": "markdown",
   "id": "04a37aa0",
   "metadata": {},
   "source": [
    "Write a Python program to check a triangle is equilateral, isosceles or scalene. Note : An equilateral triangle is a triangle in which all three sides are equal. A scalene triangle is a triangle that has three unequal sides. An isosceles triangle is a triangle with (at least) two equal sides."
   ]
  },
  {
   "cell_type": "code",
   "execution_count": 44,
   "id": "32fd3287",
   "metadata": {},
   "outputs": [
    {
     "name": "stdout",
     "output_type": "stream",
     "text": [
      "1\n",
      "1\n",
      "3\n",
      "Isoceles\n"
     ]
    }
   ],
   "source": [
    "#my code\n",
    "val1 = int(input())\n",
    "val2 = int(input())\n",
    "val3 = int(input())\n",
    "if val1 != val2 and val1 != val3:\n",
    "    print('Scalen')\n",
    "elif val1 == val2 == val3:\n",
    "    print('Equaliteral')\n",
    "else:\n",
    "    print('Isoceles')"
   ]
  },
  {
   "cell_type": "code",
   "execution_count": 45,
   "id": "299be6c0",
   "metadata": {},
   "outputs": [
    {
     "name": "stdout",
     "output_type": "stream",
     "text": [
      "1\n",
      "1\n",
      "2\n",
      "Isosceles triangle\n"
     ]
    }
   ],
   "source": [
    "# code sol\n",
    "# your code goes here\n",
    "x = int(input())\n",
    "y = int(input())\n",
    "z = int(input())\n",
    "\n",
    "if x == y == z:\n",
    "        print(\"Equilateral triangle\")\n",
    "elif x==y or y==z or z==x:\n",
    "        print(\"Isosceles triangle\")\n",
    "else:\n",
    "        print(\"Scalene triangle\")"
   ]
  },
  {
   "cell_type": "markdown",
   "id": "f5125754",
   "metadata": {},
   "source": [
    "Write a Python program to find the biggest even number between two numbers inclusive."
   ]
  },
  {
   "cell_type": "code",
   "execution_count": 71,
   "id": "097282f5",
   "metadata": {},
   "outputs": [
    {
     "name": "stdout",
     "output_type": "stream",
     "text": [
      "51\n",
      "12\n",
      "50\n"
     ]
    }
   ],
   "source": [
    "x = int(input())\n",
    "y = int(input())\n",
    "if x > y:\n",
    "    if x % 2 == 0:\n",
    "        print(x)\n",
    "    else:\n",
    "        print(x - 1)\n",
    "elif y % 2 == 0:\n",
    "    print(y)\n",
    "\n",
    "else:\n",
    "    print(y-1)"
   ]
  },
  {
   "cell_type": "code",
   "execution_count": 61,
   "id": "50153ca1",
   "metadata": {},
   "outputs": [
    {
     "name": "stdout",
     "output_type": "stream",
     "text": [
      "I am in else block\n"
     ]
    }
   ],
   "source": [
    "if 0:\n",
    "    print('I am in if block')\n",
    "else:\n",
    "    print('I am in else block')"
   ]
  },
  {
   "cell_type": "code",
   "execution_count": 62,
   "id": "6cea6b34",
   "metadata": {},
   "outputs": [
    {
     "name": "stdout",
     "output_type": "stream",
     "text": [
      "I am in else block\n"
     ]
    }
   ],
   "source": [
    "if None:\n",
    "    print('I am in if block')\n",
    "else:\n",
    "    print('I am in else block')\n",
    "    "
   ]
  },
  {
   "cell_type": "code",
   "execution_count": 66,
   "id": "8961bbd5",
   "metadata": {},
   "outputs": [
    {
     "name": "stdout",
     "output_type": "stream",
     "text": [
      "True\n"
     ]
    }
   ],
   "source": [
    "if 1:\n",
    "    print('True')\n",
    "else:\n",
    "    print('false')"
   ]
  },
  {
   "cell_type": "code",
   "execution_count": null,
   "id": "a30bd96b",
   "metadata": {},
   "outputs": [],
   "source": [
    "empty and null none are consider false"
   ]
  },
  {
   "cell_type": "code",
   "execution_count": 70,
   "id": "baa999ce",
   "metadata": {},
   "outputs": [
    {
     "name": "stdout",
     "output_type": "stream",
     "text": [
      "51\n",
      "12\n",
      "-1\n",
      "12\n"
     ]
    }
   ],
   "source": [
    "m = int(input())\n",
    "n = int(input())\n",
    "if m > n or (m == n and m % 2 == 1):\n",
    "    print(\"-1\")\n",
    "if n % 2 == 0: \n",
    "    print(n) \n",
    "else:\n",
    "    print(n - 1)"
   ]
  },
  {
   "cell_type": "code",
   "execution_count": null,
   "id": "9b23f4f4",
   "metadata": {},
   "outputs": [],
   "source": []
  }
 ],
 "metadata": {
  "kernelspec": {
   "display_name": "Python 3 (ipykernel)",
   "language": "python",
   "name": "python3"
  },
  "language_info": {
   "codemirror_mode": {
    "name": "ipython",
    "version": 3
   },
   "file_extension": ".py",
   "mimetype": "text/x-python",
   "name": "python",
   "nbconvert_exporter": "python",
   "pygments_lexer": "ipython3",
   "version": "3.9.12"
  }
 },
 "nbformat": 4,
 "nbformat_minor": 5
}
