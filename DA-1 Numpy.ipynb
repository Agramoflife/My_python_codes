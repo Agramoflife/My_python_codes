{
 "cells": [
  {
   "cell_type": "markdown",
   "id": "0348e8bd",
   "metadata": {},
   "source": [
    "# Watch iteration -1"
   ]
  },
  {
   "cell_type": "markdown",
   "id": "f26df24a",
   "metadata": {},
   "source": [
    "**Things to cover how are arrays sored in memory , broadcastig rules**"
   ]
  },
  {
   "cell_type": "code",
   "execution_count": 9,
   "id": "ac4fc2f5",
   "metadata": {},
   "outputs": [],
   "source": [
    "import numpy as sex # import library as alias(this is what ever name you want to give)"
   ]
  },
  {
   "cell_type": "code",
   "execution_count": 18,
   "id": "fc97381a",
   "metadata": {},
   "outputs": [
    {
     "name": "stdout",
     "output_type": "stream",
     "text": [
      "[1 2 3 4]\n",
      "<class 'numpy.ndarray'>\n"
     ]
    }
   ],
   "source": [
    "# how to define an array in python using numpy\n",
    "my_array = sex.array([1,2,3,4]) # variable name of array = lib_name.array.([])\n",
    "print(my_array)\n",
    "print(type(my_array)) # This is no longer a list this is a ndarry( n-dimensional array)"
   ]
  },
  {
   "cell_type": "markdown",
   "id": "78c0e38a",
   "metadata": {},
   "source": [
    "lets breakdown everything\n",
    "\n",
    "my_array = we are assigning name of the variable array in which we will store it \n",
    "\n",
    "sex = this is the alias we used for numpy so basically it is numpy.\n",
    "\n",
    ".array() = so traditionally .xyz means that we are calling method or we are calling function available in only that data type \n",
    "         similarly here we are calling functions which are available in numpy library hence we are using sex.array() so its \n",
    "         just a functin which is available in the numpy lib\n",
    "\n",
    "([1,2,3,4]) =  so we are passing argument in the numpy function here and the argument is a list \n",
    "so this is how we are storing array in python using numpy. We can also use array lib to store array"
   ]
  },
  {
   "cell_type": "code",
   "execution_count": 1,
   "id": "86782f9b",
   "metadata": {},
   "outputs": [],
   "source": [
    "# lets make our learning environment clean and not use profane words \n",
    "import numpy as np"
   ]
  },
  {
   "cell_type": "code",
   "execution_count": 2,
   "id": "68725851",
   "metadata": {},
   "outputs": [
    {
     "ename": "TypeError",
     "evalue": "add() takes from 2 to 3 positional arguments but 1 were given",
     "output_type": "error",
     "traceback": [
      "\u001b[1;31m---------------------------------------------------------------------------\u001b[0m",
      "\u001b[1;31mTypeError\u001b[0m                                 Traceback (most recent call last)",
      "Input \u001b[1;32mIn [2]\u001b[0m, in \u001b[0;36m<cell line: 2>\u001b[1;34m()\u001b[0m\n\u001b[0;32m      1\u001b[0m lis \u001b[38;5;241m=\u001b[39m [\u001b[38;5;241m1\u001b[39m,\u001b[38;5;241m2\u001b[39m,\u001b[38;5;241m3\u001b[39m,\u001b[38;5;241m4\u001b[39m]\n\u001b[1;32m----> 2\u001b[0m ad \u001b[38;5;241m=\u001b[39m \u001b[43mnp\u001b[49m\u001b[38;5;241;43m.\u001b[39;49m\u001b[43madd\u001b[49m\u001b[43m(\u001b[49m\u001b[43mlis\u001b[49m\u001b[43m)\u001b[49m\n\u001b[0;32m      3\u001b[0m \u001b[38;5;28mprint\u001b[39m(ad)\n",
      "\u001b[1;31mTypeError\u001b[0m: add() takes from 2 to 3 positional arguments but 1 were given"
     ]
    }
   ],
   "source": [
    "lis = [1,2,3,4]\n",
    "ad = np.add(lis)\n",
    "print(ad)"
   ]
  },
  {
   "cell_type": "code",
   "execution_count": 3,
   "id": "0ac7bd87",
   "metadata": {},
   "outputs": [
    {
     "name": "stdout",
     "output_type": "stream",
     "text": [
      "9\n"
     ]
    }
   ],
   "source": [
    "print(np.add(3,6)) # not taking 3 arguments\n",
    "# it can take more than 3 argumnets\n",
    "# no it does not take more then two arguments "
   ]
  },
  {
   "cell_type": "code",
   "execution_count": 6,
   "id": "58af23c5",
   "metadata": {},
   "outputs": [
    {
     "ename": "TypeError",
     "evalue": "add() takes from 2 to 3 positional arguments but 1 were given",
     "output_type": "error",
     "traceback": [
      "\u001b[1;31m---------------------------------------------------------------------------\u001b[0m",
      "\u001b[1;31mTypeError\u001b[0m                                 Traceback (most recent call last)",
      "Input \u001b[1;32mIn [6]\u001b[0m, in \u001b[0;36m<cell line: 6>\u001b[1;34m()\u001b[0m\n\u001b[0;32m      4\u001b[0m array4 \u001b[38;5;241m=\u001b[39m np\u001b[38;5;241m.\u001b[39marray([\u001b[38;5;241m13\u001b[39m,\u001b[38;5;241m14\u001b[39m,\u001b[38;5;241m15\u001b[39m,\u001b[38;5;241m16\u001b[39m])\n\u001b[0;32m      5\u001b[0m array5 \u001b[38;5;241m=\u001b[39m np\u001b[38;5;241m.\u001b[39marray([\u001b[38;5;241m17\u001b[39m,\u001b[38;5;241m18\u001b[39m,\u001b[38;5;241m19\u001b[39m,\u001b[38;5;241m20\u001b[39m])\n\u001b[1;32m----> 6\u001b[0m \u001b[38;5;28mprint\u001b[39m(\u001b[43mnp\u001b[49m\u001b[38;5;241;43m.\u001b[39;49m\u001b[43madd\u001b[49m\u001b[43m(\u001b[49m\u001b[43m(\u001b[49m\u001b[43marray1\u001b[49m\u001b[43m,\u001b[49m\u001b[43marray2\u001b[49m\u001b[43m,\u001b[49m\u001b[43marray3\u001b[49m\u001b[43m,\u001b[49m\u001b[43marray4\u001b[49m\u001b[43m,\u001b[49m\u001b[43marray5\u001b[49m\u001b[43m)\u001b[49m\u001b[43m)\u001b[49m)\n",
      "\u001b[1;31mTypeError\u001b[0m: add() takes from 2 to 3 positional arguments but 1 were given"
     ]
    }
   ],
   "source": [
    "array1 = np.array([1,2,3,4])\n",
    "array2 = np.array([5,6,7,8])\n",
    "array3 = np.array([9,10,11,12])\n",
    "array4 = np.array([13,14,15,16])\n",
    "array5 = np.array([17,18,19,20])\n",
    "print(np.add(array1,array2,array3,array4,array5))"
   ]
  },
  {
   "cell_type": "code",
   "execution_count": 4,
   "id": "fe623cb6",
   "metadata": {},
   "outputs": [
    {
     "name": "stdout",
     "output_type": "stream",
     "text": [
      "[1 2 3 4]\n",
      "[1. 2. 3. 4.]\n"
     ]
    }
   ],
   "source": [
    "# lets create an array first \n",
    "'''There are two methods to create an array one is np.array() and the other is np.asarray() in both of them you can pass a dtype\n",
    "i.e what datatype you want the array to be in default is int '''\n",
    "l = [1,2,3,4]\n",
    "print(np.array(l))\n",
    "print(np.asarray(l,dtype = float)) # s\n"
   ]
  },
  {
   "cell_type": "markdown",
   "id": "be11b073",
   "metadata": {},
   "source": [
    "# Lets create a 0-d array "
   ]
  },
  {
   "cell_type": "code",
   "execution_count": 3,
   "id": "639e0905",
   "metadata": {},
   "outputs": [
    {
     "name": "stdout",
     "output_type": "stream",
     "text": [
      "1\n"
     ]
    },
    {
     "data": {
      "text/plain": [
       "0"
      ]
     },
     "execution_count": 3,
     "metadata": {},
     "output_type": "execute_result"
    }
   ],
   "source": [
    "arr = np.array(1) # a single element are generally 0-d\n",
    "print(arr)\n",
    "arr.ndim"
   ]
  },
  {
   "cell_type": "markdown",
   "id": "d8945c81",
   "metadata": {},
   "source": [
    "# Lets create a 1- D array "
   ]
  },
  {
   "cell_type": "code",
   "execution_count": 5,
   "id": "f1f360c4",
   "metadata": {},
   "outputs": [
    {
     "name": "stdout",
     "output_type": "stream",
     "text": [
      "[1 2 3 1 5 6]\n"
     ]
    },
    {
     "data": {
      "text/plain": [
       "1"
      ]
     },
     "execution_count": 5,
     "metadata": {},
     "output_type": "execute_result"
    }
   ],
   "source": [
    "my_array_1 = np.array([1,2,3,1,5,6])\n",
    "print(my_array_1)\n",
    "\n",
    "# This is 1-D array it is a list inside array function "
   ]
  },
  {
   "cell_type": "markdown",
   "id": "cb315aeb",
   "metadata": {},
   "source": [
    "# Lets create a 2- D array\n",
    " We have create [ [ ] , [ ] ] which is a nested list or we can say a list in a list . A list in a list is called 2-d array \n",
    " \n",
    " We can also say that **collection of 1-d array is 2-d array**"
   ]
  },
  {
   "cell_type": "code",
   "execution_count": 15,
   "id": "0040d8a7",
   "metadata": {},
   "outputs": [
    {
     "name": "stdout",
     "output_type": "stream",
     "text": [
      "[[ 1  2  3]\n",
      " [24  2  5]]\n"
     ]
    },
    {
     "data": {
      "text/plain": [
       "(2, 3)"
      ]
     },
     "execution_count": 15,
     "metadata": {},
     "output_type": "execute_result"
    }
   ],
   "source": [
    "my_array_2 = np.array([[1,2,3],[24,2,5]])\n",
    "print(my_array_2)\n",
    "my_array_2.shape\n",
    "# mind the square brackets its a list in a list that is square brackets in square brackets to avoid error"
   ]
  },
  {
   "cell_type": "markdown",
   "id": "becc3b64",
   "metadata": {},
   "source": [
    "# Let's create a 3-d array"
   ]
  },
  {
   "cell_type": "markdown",
   "id": "5a8b1afb",
   "metadata": {},
   "source": [
    "3-d array is basically a collection of 2-d arrays\n",
    "\n",
    "how shall you create the array \n",
    "\n",
    "Well start by creating 1-d then 2-d and then 3-d\n"
   ]
  },
  {
   "cell_type": "code",
   "execution_count": 5,
   "id": "3be98699",
   "metadata": {},
   "outputs": [
    {
     "name": "stdout",
     "output_type": "stream",
     "text": [
      "[[[ 1  2  3]\n",
      "  [24  2  5]]\n",
      "\n",
      " [[ 4  5  6]\n",
      "  [ 7  8  9]]]\n"
     ]
    }
   ],
   "source": [
    "my_array_3 = np.array([[[1,2,3],[24,2,5]],[[4,5,6],[7,8,9]]])\n",
    "print(my_array_3)\n",
    "# np.shape(my_array_3)\n"
   ]
  },
  {
   "cell_type": "markdown",
   "id": "3ab471ae",
   "metadata": {},
   "source": [
    "# let's create a 4-d array\n",
    "A 4-d array is a collection of 3-d array "
   ]
  },
  {
   "cell_type": "code",
   "execution_count": 31,
   "id": "13ace109",
   "metadata": {},
   "outputs": [
    {
     "name": "stdout",
     "output_type": "stream",
     "text": [
      "[[[[ 1  2]\n",
      "   [ 3  4]]\n",
      "\n",
      "  [[ 5  6]\n",
      "   [ 7  8]]]\n",
      "\n",
      "\n",
      " [[[ 9 10]\n",
      "   [11 12]]\n",
      "\n",
      "  [[13 14]\n",
      "   [15 16]]]]\n"
     ]
    },
    {
     "data": {
      "text/plain": [
       "(2, 2, 2, 2)"
      ]
     },
     "execution_count": 31,
     "metadata": {},
     "output_type": "execute_result"
    }
   ],
   "source": [
    "my_array_4 = np.array([[[[1,2],[3,4]],[[5,6],[7,8]]],[[[9,10],[11,12]],[[13,14],[15,16]]]])\n",
    "print(my_array_4)\n",
    "my_array_4.shape"
   ]
  },
  {
   "cell_type": "code",
   "execution_count": 9,
   "id": "c2619ad5",
   "metadata": {},
   "outputs": [
    {
     "data": {
      "text/plain": [
       "1"
      ]
     },
     "execution_count": 9,
     "metadata": {},
     "output_type": "execute_result"
    }
   ],
   "source": [
    "np.array([]).ndim # this takes [] as a empty sequence of no number hence this is 1 dimension"
   ]
  },
  {
   "cell_type": "code",
   "execution_count": 12,
   "id": "8e3467da",
   "metadata": {},
   "outputs": [
    {
     "data": {
      "text/plain": [
       "0"
      ]
     },
     "execution_count": 12,
     "metadata": {},
     "output_type": "execute_result"
    }
   ],
   "source": [
    "np.array(14343).ndim # this takes the value 14343 as an individual number with no other sequence"
   ]
  },
  {
   "cell_type": "markdown",
   "id": "ffd45af0",
   "metadata": {},
   "source": [
    "**why us np.array([]) is 1 dimension and np.array(11) is zero dimension ?**\n",
    "\n",
    "np.array([]) creates an empty array with one dimension, while np.array(1) creates a zero-dimensional array containing the value 1. This is because the input to the np.array() function is interpreted as a nested sequence of objects, where each level of nesting corresponds to one dimension of the resulting array. In the case of np.array([]), the input is an empty sequence, which is interpreted as a one-dimensional array with zero elements. In the case of np.array(1), the input is not a sequence, so it is interpreted as a zero-dimensional array containing a single element."
   ]
  },
  {
   "cell_type": "markdown",
   "id": "64d6b3a9",
   "metadata": {},
   "source": [
    "A nested sequence of objects refers to a sequence that contains other sequences as its elements. Each level of nesting corresponds to one dimension of the resulting array. For example, if you pass a list of lists to the np.array() function, it will create a two-dimensional array where the outer list represents the rows and the inner lists represent the columns. Similarly, if you pass a list of lists of lists, it will create a three-dimensional array, and so on."
   ]
  },
  {
   "cell_type": "markdown",
   "id": "10fa2956",
   "metadata": {},
   "source": [
    "## Note: To find the dimension of array - count the no. of square brackets you have to remove to reach to the first element "
   ]
  },
  {
   "cell_type": "markdown",
   "id": "e697e1ad",
   "metadata": {},
   "source": [
    "# Some methods in array \n",
    "\n",
    "shape - So what exactly does the spape method do \n",
    "\n",
    "It basically tells us the structure of the array \n",
    "so it works like this suppose you have to find the shape of a 3-d array so 3-d array will be made of combination of 2-d arrays \n",
    "so the first element in the tuple will give you the no. 2-d array element in the array , the second element in the tulple will give the no. of 1-d array and the third will give the no. of element in the 1-d array so your output will be like (a,b,c)\n",
    "\n",
    "note - 1-d array will have o/p - (a,) where a is no. of elements inside the array. No. of elements in the tuple is the dimension of the array\n",
    "\n",
    "2-d array will have o/p - (a,b) where a is the no. of 1-d array , b is the no. of element in 1-d array and dimension of array is the number of elements in the tuple here the tuple has a,b i.e 2 elements hence the dim is 2\n",
    "\n",
    "3-d array will have o/p - (a,b,c) where a is the no. of 2-d array, b is the no. of 1-d array & c is the elements in the 1-d arr\n",
    "The dimension is 3 as there are three elements in the tuple \n",
    "\n",
    "4-d array will have o/p - (a,b,c,d) where a is the no. of 3-day array, b is the no. of 2-d array , c is the no of 1-d array and \n",
    "d is the no. of element in 1 d array. And the dimension of this array will be 4 as there are 4 elements in the tuple\n",
    "\n",
    "**Also the no. of elements in the tuple(in the o/p) is the dimension of the array** "
   ]
  },
  {
   "cell_type": "code",
   "execution_count": 10,
   "id": "f97df235",
   "metadata": {},
   "outputs": [
    {
     "name": "stdout",
     "output_type": "stream",
     "text": [
      "(5,)\n"
     ]
    }
   ],
   "source": [
    "# finding the shape of array \n",
    "arr1 = np.array([1,2,3,3,5])\n",
    "print(arr1.shape) # so 1-d is collection of elemetns hence out put in no. of elements inside the array"
   ]
  },
  {
   "cell_type": "code",
   "execution_count": 12,
   "id": "0fafcae0",
   "metadata": {},
   "outputs": [
    {
     "name": "stdout",
     "output_type": "stream",
     "text": [
      "(2, 5)\n"
     ]
    }
   ],
   "source": [
    "arr2 = np.array([[1,2,3,3,5],[1,2,3,3,5]])\n",
    "print(arr2.shape) # here this is a 2-d array hence it is a collection of 1-d array. lets understand,it has two 1-D array hence 'a' = 2\n",
    "# inside the 1-D array it has 5 elements hence 'b' = 5. output is (a,b) = (2,5)"
   ]
  },
  {
   "cell_type": "code",
   "execution_count": 15,
   "id": "e6375b1c",
   "metadata": {},
   "outputs": [
    {
     "name": "stdout",
     "output_type": "stream",
     "text": [
      "(4, 2, 5)\n"
     ]
    }
   ],
   "source": [
    "arr3 = np.array([[[1,2,3,3,5],[1,2,3,3,5]],[[1,2,3,3,5],[1,2,3,3,5]],[[1,2,3,3,5],[1,2,3,3,5]],[[1,2,3,3,5],[1,2,3,3,5]]])\n",
    "print(arr3.shape) # it is a 3-d array which means it is a collection of 2-d array. lets check the no. of 2-d arrays, we have 4\n",
    "#2-d array hence 'a' = 4, Now in 2-d array, 2-d array is it self a collection of 1-d array so there are 2 , 1-d arrays so 'b'\n",
    "# is 2 , Now the 1 - d is collection of elements lets count the no. of elements in 1-d there are 5 elements 'c'= 5\n",
    "# hence (a,b,c) = (4,2,5)\n",
    "# Note since it is giveing there elements in the o/p the dimension of the arr3 is there so just by counting the element of tuple\n",
    "# we can get the dimensions of the array"
   ]
  },
  {
   "cell_type": "code",
   "execution_count": 7,
   "id": "3dd3f3ae",
   "metadata": {},
   "outputs": [
    {
     "name": "stdout",
     "output_type": "stream",
     "text": [
      "(2, 2, 2, 5)\n"
     ]
    }
   ],
   "source": [
    "arr4 = np.array([[[[1,2,3,3,5],[1,2,3,3,5]],[[1,2,3,3,5],[1,2,3,3,5]]],[[[1,2,3,3,5],[1,2,3,3,5]],[[1,2,3,3,5],[1,2,3,3,5]]]])\n",
    "print(arr4.shape)\n",
    "# count the no. of opening square brackets and you will get the dimensions\n",
    "# now since you know the dimensions you have acquainted your self with the no. of elements in the tuple \n",
    "# 4-d is collection of 3-d there are 2, 3-d elements hence 'a'= 2\n",
    "# 3-d is collection of 2-d there are 2 , 2-d elements hence 'b'= 2\n",
    "# 2-d is collection of 1-d there are 2 , 1-d elements hence 'c' = 2\n",
    "# 1-d is collection of elements , there are 5 elements in 1-d hence 'd' = 5"
   ]
  },
  {
   "cell_type": "markdown",
   "id": "f083c2c3",
   "metadata": {},
   "source": [
    "### ndim method \n",
    "the ndim method gives us the dimension of the array"
   ]
  },
  {
   "cell_type": "code",
   "execution_count": 22,
   "id": "fa8e55c8",
   "metadata": {},
   "outputs": [
    {
     "data": {
      "text/plain": [
       "2"
      ]
     },
     "execution_count": 22,
     "metadata": {},
     "output_type": "execute_result"
    }
   ],
   "source": [
    "arr_1 = np.array([[1,2,3,3,5],[1,2,3,3,5]])\n",
    "arr_1.ndim # trick 2 bracket hence 2 dimension\n"
   ]
  },
  {
   "cell_type": "markdown",
   "id": "e17f724a",
   "metadata": {},
   "source": [
    "### size method \n",
    "it gives the no. of elements in the array irrespective of the the square brackets \n"
   ]
  },
  {
   "cell_type": "code",
   "execution_count": 24,
   "id": "52498e85",
   "metadata": {},
   "outputs": [
    {
     "data": {
      "text/plain": [
       "10"
      ]
     },
     "execution_count": 24,
     "metadata": {},
     "output_type": "execute_result"
    }
   ],
   "source": [
    "#\n",
    "arr_1 = np.array([[1,2,3,3,5],[1,2,3,3,5]])\n",
    "arr_1.size"
   ]
  },
  {
   "cell_type": "code",
   "execution_count": 25,
   "id": "4d880085",
   "metadata": {},
   "outputs": [
    {
     "data": {
      "text/plain": [
       "40"
      ]
     },
     "execution_count": 25,
     "metadata": {},
     "output_type": "execute_result"
    }
   ],
   "source": [
    "arr4 = np.array([[[[1,2,3,3,5],[1,2,3,3,5]],[[1,2,3,3,5],[1,2,3,3,5]]],[[[1,2,3,3,5],[1,2,3,3,5]],[[1,2,3,3,5],[1,2,3,3,5]]]])\n",
    "arr4.size"
   ]
  },
  {
   "cell_type": "markdown",
   "id": "fca7341d",
   "metadata": {},
   "source": [
    "### dtype\n",
    "it tells us the type of data eg is it a int array, float array etc"
   ]
  },
  {
   "cell_type": "code",
   "execution_count": 32,
   "id": "b3df7e87",
   "metadata": {},
   "outputs": [
    {
     "data": {
      "text/plain": [
       "dtype('int32')"
      ]
     },
     "execution_count": 32,
     "metadata": {},
     "output_type": "execute_result"
    }
   ],
   "source": [
    "arr4 = np.array([[[[1,2,3,3,5],[1,2,3,3,5]],[[1,2,3,3,5],[1,2,3,3,5]]],[[[1,2,3,3,5],[1,2,3,3,5]],[[1,2,3,3,5],[1,2,3,3,5]]]])\n",
    "arr4.dtype"
   ]
  },
  {
   "cell_type": "code",
   "execution_count": 27,
   "id": "472fff7f",
   "metadata": {},
   "outputs": [
    {
     "data": {
      "text/plain": [
       "dtype('int32')"
      ]
     },
     "execution_count": 27,
     "metadata": {},
     "output_type": "execute_result"
    }
   ],
   "source": [
    "arr5 = np.array([1,2,3,4,5])\n",
    "arr5.dtype"
   ]
  },
  {
   "cell_type": "markdown",
   "id": "c6795a2e",
   "metadata": {},
   "source": [
    "### astype\n",
    "it can covert data type into another desired data type"
   ]
  },
  {
   "cell_type": "code",
   "execution_count": 34,
   "id": "29674e90",
   "metadata": {},
   "outputs": [
    {
     "data": {
      "text/plain": [
       "array([1., 2., 3., 4., 5.])"
      ]
     },
     "execution_count": 34,
     "metadata": {},
     "output_type": "execute_result"
    }
   ],
   "source": [
    "arr6 = np.array([1,2,3,4,5])\n",
    "arr6.astype(float)\n",
    "# now it is in decimals"
   ]
  },
  {
   "cell_type": "markdown",
   "id": "aa2db1fe",
   "metadata": {},
   "source": [
    "# How to iterate over 2 list simultaneously using to iterators \n",
    "while iterating over 2 list you have to use zip method \n",
    "    "
   ]
  },
  {
   "cell_type": "code",
   "execution_count": 3,
   "id": "6a15a40a",
   "metadata": {},
   "outputs": [
    {
     "name": "stdout",
     "output_type": "stream",
     "text": [
      "6\n",
      "14\n",
      "24\n",
      "36\n",
      "50\n",
      "[6, 14, 24, 36, 50]\n"
     ]
    }
   ],
   "source": [
    "list_1 = [1,2,3,4,5]\n",
    "list_2 = [6,7,8,9,10]\n",
    "emp = []\n",
    "for i,j in zip(list_1,list_2):\n",
    "    c = i*j\n",
    "    emp.append(c)\n",
    "    print(c) # in step for \n",
    "\n",
    "print(emp)  # in list form      "
   ]
  },
  {
   "cell_type": "code",
   "execution_count": 4,
   "id": "c4e84732",
   "metadata": {},
   "outputs": [
    {
     "name": "stdout",
     "output_type": "stream",
     "text": [
      "[6, 14, 24, 36, 50]\n"
     ]
    }
   ],
   "source": [
    "# iterating two list using list comprehension\n",
    "emp = [i*j for i,j in zip(list_1,list_2)] # don't have to assigne any variable here\n",
    "print(emp)"
   ]
  },
  {
   "cell_type": "markdown",
   "id": "565ccc23",
   "metadata": {},
   "source": [
    "### performance perspective\n",
    "ndarrray takes less time to execute codes \n"
   ]
  },
  {
   "cell_type": "code",
   "execution_count": 7,
   "id": "ad484031",
   "metadata": {},
   "outputs": [
    {
     "name": "stdout",
     "output_type": "stream",
     "text": [
      "0.0009980201721191406\n"
     ]
    }
   ],
   "source": [
    "import time # this is to measure how much time does it take to execute \n",
    "size = 1000\n",
    "list_1 = range(size)\n",
    "list_2 = range(size)\n",
    "initial_time = time.time() # it basically note the time \n",
    "listy = [i*j for i,j in zip(list_1,list_2)]\n",
    "# print(listy)\n",
    "print(time.time()-initial_time)"
   ]
  },
  {
   "cell_type": "code",
   "execution_count": 8,
   "id": "b6e7ed27",
   "metadata": {},
   "outputs": [
    {
     "name": "stdout",
     "output_type": "stream",
     "text": [
      "0.007006645202636719\n"
     ]
    }
   ],
   "source": [
    "import numpy as np\n",
    "import time \n",
    "initial_time= time.time() # note time at the start of the code\n",
    "array_1 = np.arange(size)\n",
    "array_2 = np.arange(size)\n",
    "resultant_array = array_1*array_2\n",
    "resultant_array\n",
    "final_time = time.time() # note time at the end of the code\n",
    "print(final_time-initial_time) "
   ]
  },
  {
   "cell_type": "markdown",
   "id": "e9a3e174",
   "metadata": {},
   "source": [
    "You can also print the array"
   ]
  },
  {
   "cell_type": "code",
   "execution_count": 53,
   "id": "3c464183",
   "metadata": {},
   "outputs": [
    {
     "name": "stdout",
     "output_type": "stream",
     "text": [
      "[0 1 2 3 4 5 6 7 8 9]\n"
     ]
    },
    {
     "data": {
      "text/plain": [
       "numpy.ndarray"
      ]
     },
     "execution_count": 53,
     "metadata": {},
     "output_type": "execute_result"
    }
   ],
   "source": [
    "size = 10\n",
    "arr = np.arange(size)\n",
    "print(arr)\n",
    "type(arr)"
   ]
  },
  {
   "cell_type": "markdown",
   "id": "a79546d6",
   "metadata": {},
   "source": [
    "### Memory perspective \n",
    "ndarray takes a lot less memory when compared to list "
   ]
  },
  {
   "cell_type": "code",
   "execution_count": 24,
   "id": "4fe042f4",
   "metadata": {},
   "outputs": [
    {
     "name": "stdout",
     "output_type": "stream",
     "text": [
      "152\n"
     ]
    }
   ],
   "source": [
    "# there is a confusion in the sys.getsizeof() method get it cleared \n",
    "import sys # module \n",
    "list_ = [0,1,2,3,4,5,6,7,8,9]\n",
    "print(sys.getsizeof(list_)) # it gives the size of the data type and we have multipled it by len(list_) "
   ]
  },
  {
   "cell_type": "code",
   "execution_count": 51,
   "id": "c2a937d4",
   "metadata": {},
   "outputs": [
    {
     "name": "stdout",
     "output_type": "stream",
     "text": [
      "4\n",
      "40\n"
     ]
    }
   ],
   "source": [
    "# ths looks fine\n",
    "arry = np.array([0,1,2,3,4,5,6,7,8,9])\n",
    "print(arry.itemsize) # in numpy to get the memory used ,variable.itemsize is used it gives the memory of one element \n",
    "print(arry.itemsize*arry.size) # this will give the memory of the entire array"
   ]
  },
  {
   "cell_type": "markdown",
   "id": "6c7d3618",
   "metadata": {},
   "source": [
    "update your understanding: So basically the itemsize method in sys module gives us the memory size of a **single** datatype in the array the underlying principle or the essence of the sentences are kind of same \n",
    "\n",
    "lets understand it with an example "
   ]
  },
  {
   "cell_type": "markdown",
   "id": "b33f4c2f",
   "metadata": {},
   "source": [
    "**Lets understand the itemsize which is limited to numpy in intracacy**"
   ]
  },
  {
   "cell_type": "code",
   "execution_count": 11,
   "id": "8839653e",
   "metadata": {},
   "outputs": [
    {
     "name": "stdout",
     "output_type": "stream",
     "text": [
      " Memory of datatype int with 4 elements in the array 4\n",
      " Memory of datatype int with 10 elements in the array 4\n",
      "Memory of datatype float with 4 elements in the array 8\n",
      "Memory of datatype float with 10 elements in the array 8\n"
     ]
    }
   ],
   "source": [
    "array_1 = np.array([1,2,3,4])\n",
    "print(f' Memory of datatype int with 4 elements in the array {array_1.itemsize}') # \n",
    "array_2 = np.array([1,2,3,4,5,6,7,8,9,0])\n",
    "print(f' Memory of datatype int with 10 elements in the array {array_2.itemsize}')\n",
    "# The data type is int here\n",
    "# The item size of array_1 and array_2 will be same as itemsize method will give the memory size of one element or datatype\n",
    "array_3 = np.array([1.1,2.2,3.3,4.4])\n",
    "print(f'Memory of datatype float with 4 elements in the array {array_3.itemsize}')\n",
    "array_4 = np.array([1.1,2.2,3.3,4.4,5.5,6.6,7.7,8.8,9.9])\n",
    "print(f'Memory of datatype float with 10 elements in the array {array_4.itemsize}')\n",
    "# The item size of array_3 and array_4 will be same as itemsize method will give the memory size of one element or datatype \n",
    "# The datatype in this case is float "
   ]
  },
  {
   "cell_type": "code",
   "execution_count": 37,
   "id": "3bfc3f50",
   "metadata": {},
   "outputs": [
    {
     "name": "stdout",
     "output_type": "stream",
     "text": [
      " The memory of empty list is 56\n",
      "The memory of one element in the list is 64\n",
      " The memory of two elements in the list is 72\n",
      "The memory of ten elements in the list is 152\n",
      " Every int element in the list has size of 8 bytes\n",
      "We have also seen that in the above example if we reckon thing the memory of each element comes out to be 9.6 bytes\n"
     ]
    }
   ],
   "source": [
    "# lets understand the getsizeof method in the sys module \n",
    "# lets do it for list first\n",
    "import sys \n",
    "print(f' The memory of empty list is {sys.getsizeof([])}')\n",
    "print(f'The memory of one element in the list is {sys.getsizeof([1])}')\n",
    "print(f' The memory of two elements in the list is {sys.getsizeof([1,2])}')\n",
    "print(f'The memory of ten elements in the list is {sys.getsizeof([1,2,3,4,5,6,7,8,9,9])}')\n",
    "print(' Every int element in the list has size of 8 bytes')\n",
    "print('We have also seen that in the above example if we reckon thing the memory of each element comes out to be 9.6 bytes')"
   ]
  },
  {
   "cell_type": "code",
   "execution_count": 41,
   "id": "1bd86959",
   "metadata": {},
   "outputs": [
    {
     "name": "stdout",
     "output_type": "stream",
     "text": [
      "[]\n",
      "The memory of an empty array is 104\n",
      " The memory of one element in the array is 108\n",
      "The memory of two elements in the array is 112\n",
      " We can conclude here that an element in the array occupies around 4bytes of data\n",
      "The memory of ten elements in the array is 144\n"
     ]
    }
   ],
   "source": [
    "import numpy as np\n",
    "emp_list = []\n",
    "emp_array = np.array(emp_list)\n",
    "print(emp_array)\n",
    "print(f'The memory of an empty array is {sys.getsizeof(emp_array)}')\n",
    "print(f' The memory of one element in the array is {sys.getsizeof(np.array([1]))}')\n",
    "print(f'The memory of two elements in the array is {sys.getsizeof(np.array([1,2]))}')\n",
    "print(' We can conclude here that an element in the array occupies around 4bytes of data')\n",
    "print(f'The memory of ten elements in the array is {sys.getsizeof(np.array([1,2,3,4,5,6,7,8,9,0]))}')\n"
   ]
  },
  {
   "cell_type": "markdown",
   "id": "b5416f9a",
   "metadata": {},
   "source": [
    "**consider bucket and toys**\n",
    "\n",
    "**sys.getsizeof gives the size of bucket only \n",
    "itemsize in np gives the size of the toys only \n",
    "I asked this in bingchat**"
   ]
  },
  {
   "cell_type": "markdown",
   "id": "a9127929",
   "metadata": {},
   "source": [
    "**So we can come to the conclusion that memory wise the array beats the list, arrays individually takes about half the memory than list**"
   ]
  },
  {
   "cell_type": "markdown",
   "id": "c51e0589",
   "metadata": {},
   "source": [
    "### functionality perspective  "
   ]
  },
  {
   "cell_type": "code",
   "execution_count": 56,
   "id": "26e361a3",
   "metadata": {},
   "outputs": [
    {
     "ename": "TypeError",
     "evalue": "can only concatenate list (not \"int\") to list",
     "output_type": "error",
     "traceback": [
      "\u001b[1;31m---------------------------------------------------------------------------\u001b[0m",
      "\u001b[1;31mTypeError\u001b[0m                                 Traceback (most recent call last)",
      "Input \u001b[1;32mIn [56]\u001b[0m, in \u001b[0;36m<cell line: 2>\u001b[1;34m()\u001b[0m\n\u001b[0;32m      1\u001b[0m listy \u001b[38;5;241m=\u001b[39m [\u001b[38;5;241m1\u001b[39m,\u001b[38;5;241m2\u001b[39m,\u001b[38;5;241m3\u001b[39m,\u001b[38;5;241m4\u001b[39m,\u001b[38;5;241m5\u001b[39m] \u001b[38;5;66;03m# lets add 4 in every element of the list\u001b[39;00m\n\u001b[1;32m----> 2\u001b[0m listy \u001b[38;5;241m=\u001b[39m \u001b[43mlisty\u001b[49m\u001b[43m \u001b[49m\u001b[38;5;241;43m+\u001b[39;49m\u001b[43m \u001b[49m\u001b[38;5;241;43m4\u001b[39;49m\n\u001b[0;32m      3\u001b[0m \u001b[38;5;28mprint\u001b[39m(listy)\n",
      "\u001b[1;31mTypeError\u001b[0m: can only concatenate list (not \"int\") to list"
     ]
    }
   ],
   "source": [
    "listy = [1,2,3,4,5] # lets add 4 in every element of the list\n",
    "listy = listy + 4 # what exactly are we doing here we are adding list data type with element 4 which is bizzare.\n",
    "print(listy)\n",
    "# here it throws an error because the plus sign is not a artematic plus rather it is a concatenate sign \n",
    "# so in oder to increase the elements in the list we would need to run a code"
   ]
  },
  {
   "cell_type": "code",
   "execution_count": 58,
   "id": "5e9dff98",
   "metadata": {},
   "outputs": [
    {
     "name": "stdout",
     "output_type": "stream",
     "text": [
      "[5, 6, 7, 8, 9]\n"
     ]
    }
   ],
   "source": [
    "emp = []\n",
    "for i in listy:\n",
    "    i += 4\n",
    "    emp.append(i)\n",
    "print(emp)    "
   ]
  },
  {
   "cell_type": "code",
   "execution_count": 59,
   "id": "053d200a",
   "metadata": {},
   "outputs": [
    {
     "name": "stdout",
     "output_type": "stream",
     "text": [
      "[5, 6, 7, 8, 9]\n"
     ]
    }
   ],
   "source": [
    "# one liner\n",
    "list_ = [i+4 for i in listy]\n",
    "print(list_)"
   ]
  },
  {
   "cell_type": "markdown",
   "id": "b2252cc9",
   "metadata": {},
   "source": [
    "One major advantage of ndarray is you will not have to do this much coding \n",
    "lets see what are we talking here"
   ]
  },
  {
   "cell_type": "code",
   "execution_count": 4,
   "id": "33a74a40",
   "metadata": {},
   "outputs": [
    {
     "name": "stdout",
     "output_type": "stream",
     "text": [
      "[5 6 7 8 9]\n"
     ]
    }
   ],
   "source": [
    "arr = np.array([1,2,3,4,5])\n",
    "arr = arr + 4 # this is done by broadcasting \n",
    "print(arr)\n",
    "# this is done via broadcasting "
   ]
  },
  {
   "cell_type": "code",
   "execution_count": 67,
   "id": "8740f282",
   "metadata": {},
   "outputs": [
    {
     "name": "stdout",
     "output_type": "stream",
     "text": [
      "[1 2 3 4 5 6 7 8 9 0]\n"
     ]
    }
   ],
   "source": [
    "#we cn alos write\n",
    "listy_1= [1,2,3,4,5,6,7,8,9,0]\n",
    "arr = np.array(listy_1)\n",
    "print(arr)\n"
   ]
  },
  {
   "cell_type": "code",
   "execution_count": 3,
   "id": "350feefb",
   "metadata": {},
   "outputs": [
    {
     "name": "stdout",
     "output_type": "stream",
     "text": [
      "[ 1  4  9 16 25]\n"
     ]
    }
   ],
   "source": [
    "#and we have this functionlity as well\n",
    "arr = np.array([1,2,3,4,5])\n",
    "arr = arr*arr\n",
    "# this is done by broadcasting \n",
    "print(arr)\n",
    "# this is being done via broadcasting "
   ]
  },
  {
   "cell_type": "markdown",
   "id": "78204015",
   "metadata": {},
   "source": [
    "So are you inquisitive about how this works but before that lets us make ourselves acquainted with the term like vectorizing an array.\n",
    "\n",
    "\"Vectorization\" (simplified) is the process of rewriting a loop so that instead of processing a single element of an array N times, it processes (say) 4 elements of the array simultaneously."
   ]
  },
  {
   "cell_type": "markdown",
   "id": "5fb0694d",
   "metadata": {},
   "source": [
    "So the above code where we added a scalar which is 0-d and value is 4 is done by using broadcasting in numpy \n",
    "The term broadcasting describes how NumPy treats arrays with different shapes during arithmetic operations. Subject to certain constraints, the smaller array is “broadcast” across the larger array so that they have compatible shapes\n",
    "there are some rules which the broadcasting follows you can read the documnentation. Here is a link to understand broadcasting in numpy visit https://www.youtube.com/watch?v=0u9OzBSRZec&t=23s\n"
   ]
  },
  {
   "cell_type": "markdown",
   "id": "692fe4af",
   "metadata": {},
   "source": [
    "# From chat gpt"
   ]
  },
  {
   "cell_type": "markdown",
   "id": "3141636b",
   "metadata": {},
   "source": [
    "**Q. what is vectorization in numpy ?**\n",
    "\n",
    "Ans. Vectorization is a technique in computer programming in which operations are performed on entire arrays, rather than on individual elements. It is a way of achieving faster and more efficient computations by utilizing the processing power of modern CPUs.\n",
    "\n",
    "**In the context of NumPy, vectorization refers to the use of functions and operations that are designed to operate on arrays, rather than on individual elements**. For example, you can use the sum function to compute the sum of all the elements in an array, rather than having to loop over the array and add each element separately. This can lead to significant performance improvements, especially for large arrays or when performing a large number of operations."
   ]
  },
  {
   "cell_type": "code",
   "execution_count": 43,
   "id": "32dbcb06",
   "metadata": {},
   "outputs": [
    {
     "name": "stdout",
     "output_type": "stream",
     "text": [
      "[ 1  4  9 16]\n",
      "30\n"
     ]
    }
   ],
   "source": [
    "# Here is an example of how vectorization can be used in NumPy:\n",
    "import numpy as np\n",
    "\n",
    "# Create a NumPy array\n",
    "a = np.array([1, 2, 3, 4])\n",
    "\n",
    "# Use a vectorized operation to compute the square of each element\n",
    "b = a**2\n",
    "print(b)  # Output: [1 4 9 16]\n",
    "\n",
    "# Use a vectorized function to compute the sum of all the elements\n",
    "c = np.sum(b)\n",
    "print(c)  # Output: 30\n"
   ]
  },
  {
   "cell_type": "markdown",
   "id": "575facf3",
   "metadata": {},
   "source": [
    "In this example, the ** operator and the sum function are both vectorized operations, meaning that they operate on the entire array a rather than on individual elements. This makes it much faster and more efficient to perform these operations."
   ]
  },
  {
   "cell_type": "markdown",
   "id": "6389819e",
   "metadata": {},
   "source": [
    "**What is broadcasting ?**"
   ]
  },
  {
   "cell_type": "markdown",
   "id": "47fc0191",
   "metadata": {},
   "source": [
    "**Broadcasting** is a powerful mechanism in NumPy that allows arithmetic operations to be performed on arrays of different shapes. It **allows you to perform operations on arrays of different shapes, as long as they are \"broadcastable.\"**\n",
    "\n",
    "Broadcastable arrays are arrays that are compatible in their shapes and dimensions. In general, two arrays are broadcastable if the following rules are satisfied:\n",
    "\n",
    "The arrays have the same number of dimensions.\n",
    "\n",
    "The shape of the arrays in each dimension is either the same size, or one of the arrays has shape 1 in that dimension."
   ]
  },
  {
   "cell_type": "code",
   "execution_count": null,
   "id": "a46fba5d",
   "metadata": {},
   "outputs": [],
   "source": [
    "#Here is an example of how broadcasting works in NumPy:\n",
    "import numpy as np\n",
    "\n",
    "# Create a 2D array with shape (3, 4)\n",
    "a = np.array([[1, 2, 3, 4],\n",
    "              [5, 6, 7, 8],\n",
    "              [9, 10, 11, 12]])\n",
    "\n",
    "# Create a 1D array with shape (4,)\n",
    "b = np.array([10, 20, 30, 40])\n",
    "\n",
    "# Perform an element-wise multiplication using broadcasting\n",
    "c = a * b\n",
    "print(c)\n",
    "\n",
    "# Output:\n",
    "# [[ 10  40  90 160]\n",
    "#  [ 50 120 210 320]\n",
    "#  [ 90 200 330 480]]\n"
   ]
  },
  {
   "cell_type": "markdown",
   "id": "cb3b2824",
   "metadata": {},
   "source": [
    "In this example, the array **b** is broadcast to the shape of **a** so that the element-wise multiplication can be performed. The resulting array **c** has the same shape as **a**.\n",
    "\n",
    "Broadcasting is a useful technique that can greatly simplify and speed up your code, especially when working with large arrays. It allows you to perform operations on arrays of different shapes in a concise and efficient manner."
   ]
  },
  {
   "cell_type": "markdown",
   "id": "5c0185ff",
   "metadata": {},
   "source": [
    "**I have not covered the rules for brodcasting explicitly, Do it if the time premits**"
   ]
  },
  {
   "cell_type": "markdown",
   "id": "686e24c1",
   "metadata": {},
   "source": [
    "## Here's a tip if you want to pass a matrix in the arguments of the array generators, always start with the no. of rows and column you want in matrix then move on to the no. of matrix you want this will give you a 3-d matrix if you move further, then type in the no. of 3-d matrix bunches you want, this will give you a 4 d matirx"
   ]
  },
  {
   "cell_type": "code",
   "execution_count": 9,
   "id": "217e725a",
   "metadata": {},
   "outputs": [
    {
     "name": "stdout",
     "output_type": "stream",
     "text": [
      "[[[3801155 5570652 6619251]\n",
      "  [7536754 4456540 6619237]]\n",
      "\n",
      " [[7667824 4259932 7340144]\n",
      "  [6357060 6357108 4980828]]\n",
      "\n",
      " [[6488175 7077985 5505116]\n",
      "  [7143525     112       0]]]\n"
     ]
    }
   ],
   "source": [
    "test = np.empty([3,2,3],dtype=int)# np.\n",
    "print(test)"
   ]
  },
  {
   "cell_type": "markdown",
   "id": "7fd61e27",
   "metadata": {},
   "source": [
    "### Uninttialize array\n",
    "so while creating an array in the above code to understand how things work in array, it took us time. Here is where the np.empty method in array comes into action. we have to assign the n-dim and dtype it will create an nd-array for us   "
   ]
  },
  {
   "cell_type": "code",
   "execution_count": 28,
   "id": "aeebcf5b",
   "metadata": {},
   "outputs": [
    {
     "name": "stdout",
     "output_type": "stream",
     "text": [
      "[[[5242880 5177426 5242957]\n",
      "  [3997780 6422568 7536737]]]\n"
     ]
    }
   ],
   "source": [
    "# it will give a ndarray with arbitrary elements\n",
    "auto_array=np.empty((1,2,3), dtype=int) # you can use parenthesis or square brackets, it still works the same \n",
    "print(auto_array)\n",
    "# here the dimension is 3"
   ]
  },
  {
   "cell_type": "code",
   "execution_count": 3,
   "id": "d3ff6514",
   "metadata": {
    "scrolled": true
   },
   "outputs": [
    {
     "name": "stdout",
     "output_type": "stream",
     "text": [
      "[[[0 0 0]\n",
      "  [0 0 0]]\n",
      "\n",
      " [[0 0 0]\n",
      "  [0 0 0]]]\n"
     ]
    }
   ],
   "source": [
    "# you can make all the elements zero by np.zeros\n",
    "auto_zero = np.zeros([2,2,3],dtype=int) # default values of datatype is float if dtype not passed\n",
    "print(auto_zero)"
   ]
  },
  {
   "cell_type": "code",
   "execution_count": 24,
   "id": "c359b34b",
   "metadata": {},
   "outputs": [
    {
     "name": "stdout",
     "output_type": "stream",
     "text": [
      "[[[1 1 1]\n",
      "  [1 1 1]]\n",
      "\n",
      " [[1 1 1]\n",
      "  [1 1 1]]\n",
      "\n",
      " [[1 1 1]\n",
      "  [1 1 1]]]\n"
     ]
    }
   ],
   "source": [
    "# you can create an array with all elements as 1\n",
    "auto_ones = np.ones([3,2,3],dtype=int) # arrgument should be shape and data type \n",
    "print(auto_ones)"
   ]
  },
  {
   "cell_type": "markdown",
   "id": "dd689ec2",
   "metadata": {},
   "source": [
    "# We can change the shape of the array\n",
    "# Note: We can only do that by keeping in mind that the multiplication of the tuple elments equals to the no. of element"
   ]
  },
  {
   "cell_type": "code",
   "execution_count": 34,
   "id": "24d4af08",
   "metadata": {},
   "outputs": [
    {
     "name": "stdout",
     "output_type": "stream",
     "text": [
      "[[1]\n",
      " [2]\n",
      " [3]\n",
      " [4]\n",
      " [5]\n",
      " [6]\n",
      " [7]\n",
      " [8]\n",
      " [9]\n",
      " [0]]\n"
     ]
    }
   ],
   "source": [
    "listy = np.array([[1,2,3,4,5],[6,7,8,9,0]]) # total elements here is 10\n",
    "listy.shape = (10,1) # shapes that we can have is (1,10) ,(10,1),(2,5), (5,2) only\n",
    "print(listy)"
   ]
  },
  {
   "cell_type": "markdown",
   "id": "dda4a225",
   "metadata": {},
   "source": [
    "# We can create array using arange \n",
    "### It works same like range \n",
    "np.arange(start_value, end_value, steps, dtype = ' ')\n",
    "This will give us a 1d array . In order to get a ndarray we will have to exploit the reshape property and convert the 1-d array into n-d array \n",
    "\n",
    "Note: While converting the 1-d array into n-d array keep in mind that the dimensions which you want have has to be a factor of elements"
   ]
  },
  {
   "cell_type": "code",
   "execution_count": 4,
   "id": "23b77bc4",
   "metadata": {},
   "outputs": [
    {
     "data": {
      "text/plain": [
       "array([ 5.,  7.,  9., 11., 13., 15., 17., 19., 21., 23., 25., 27., 29.,\n",
       "       31., 33., 35., 37., 39., 41., 43., 45., 47., 49., 51., 53., 55.,\n",
       "       57., 59., 61., 63., 65., 67., 69., 71., 73., 75., 77., 79., 81.,\n",
       "       83., 85., 87., 89., 91., 93., 95., 97., 99.])"
      ]
     },
     "execution_count": 4,
     "metadata": {},
     "output_type": "execute_result"
    }
   ],
   "source": [
    "rangy=np.arange(5,100,2,dtype = float)\n",
    "rangy"
   ]
  },
  {
   "cell_type": "code",
   "execution_count": 11,
   "id": "5ffc1141",
   "metadata": {},
   "outputs": [
    {
     "name": "stdout",
     "output_type": "stream",
     "text": [
      "This is a one d array: [ 5  7  9 11 13 15 17 19]\n",
      "We have converted the 1-d array into 2-d array using arange & shape: [[ 5  7  9 11]\n",
      " [13 15 17 19]]\n"
     ]
    }
   ],
   "source": [
    "rang=np.arange(5,20,2,dtype = int) # arguments are start value, end value, steps, data type\n",
    "print(f'This is a one d array: {rang}')\n",
    "rang.shape = (2,4) # try doing (2,2) it will throw an error why because the factor of elem = 8 is 1 X 8, 2 X 4, 4 x 2, 8 X 1\n",
    "print('We have converted the 1-d array into 2-d array using arange & shape:',rang)# we can only have the above combination only"
   ]
  },
  {
   "cell_type": "markdown",
   "id": "e06868d3",
   "metadata": {},
   "source": [
    "## Linspace , its argument are start point , end point , include endpoint, retain steps\n",
    "We can create an array between defined numbers with steps using linspace method \n",
    "\n",
    "Note: The endpoint and the retstep is the parameter which is defined in the function so bear in mind to not do typo there\n",
    "\n",
    "The number displayed out of the array is the difference between two numbers in the array. This is only displayed when the retain space is set to True "
   ]
  },
  {
   "cell_type": "code",
   "execution_count": 13,
   "id": "4d17f321",
   "metadata": {},
   "outputs": [
    {
     "name": "stdout",
     "output_type": "stream",
     "text": [
      "(array([ 1.        ,  1.52631579,  2.05263158,  2.57894737,  3.10526316,\n",
      "        3.63157895,  4.15789474,  4.68421053,  5.21052632,  5.73684211,\n",
      "        6.26315789,  6.78947368,  7.31578947,  7.84210526,  8.36842105,\n",
      "        8.89473684,  9.42105263,  9.94736842, 10.47368421, 11.        ]), 0.5263157894736842)\n"
     ]
    }
   ],
   "source": [
    "lin = np.linspace(1, 11, 20, endpoint = True, retstep = True) # The end point will include last value if endpoint is set to true\n",
    "print(lin) # the steps will be in order if retstep is assigned to true \n",
    "# lets understand the 1,11,20 as well \n",
    "# 1 lets canvas it as a so a is the lower limit of the numbers in the matrix/array\n",
    "# 11 lets canvas it as b so b is the upper limit of the numbers in the matrix/array note the upper limit i.e 11 here will not be\n",
    "# included so basically a no. lower than 11 i.e 10 will be included\n",
    "# 20 lets canvas this as well to c so c is no of divisions you want between a and b-1 \n"
   ]
  },
  {
   "cell_type": "markdown",
   "id": "3283e326",
   "metadata": {},
   "source": [
    "# Generate random array using random.random()\n",
    "# We are going to use this alot in the further operations "
   ]
  },
  {
   "cell_type": "markdown",
   "id": "9c57527a",
   "metadata": {},
   "source": [
    "**NOTE**:**use np.random.seed() to preserve the randomness of the array**"
   ]
  },
  {
   "cell_type": "code",
   "execution_count": 10,
   "id": "2c4b650c",
   "metadata": {},
   "outputs": [
    {
     "name": "stdout",
     "output_type": "stream",
     "text": [
      "[[0.7543027  0.71255372 0.39811761 0.22919404 0.71302664]\n",
      " [0.05419885 0.13431235 0.92701306 0.44023724 0.44101306]\n",
      " [0.99321369 0.51888398 0.92118299 0.92236958 0.0866307 ]\n",
      " [0.86938917 0.19307853 0.97557693 0.72248969 0.15333608]]\n"
     ]
    }
   ],
   "source": [
    "# We can also get an array with random numbers using np.random.random()\n",
    "# Note it gives us the array in float which are between 0.0 and 1.0\n",
    "# Argument is np.random.random(size=(4,5)) it take both the square and parenthesis i.e size = [4,5]\n",
    "# also you don't have to mention the keyword size it takes it as default \n",
    "random_array = np.random.random([4,5]) # note you have to pass the dimension in (4,5)/[4,5] and not 4,5 like you were doing earlier \n",
    "print(random_array) # note the o/p has elements between 0 and 1 only"
   ]
  },
  {
   "cell_type": "code",
   "execution_count": 34,
   "id": "ccfdd1fe",
   "metadata": {},
   "outputs": [
    {
     "name": "stdout",
     "output_type": "stream",
     "text": [
      "[[3 7 4 3 2]\n",
      " [6 6 7 6 7]\n",
      " [6 6 1 1 4]\n",
      " [3 2 7 3 5]]\n"
     ]
    }
   ],
   "source": [
    "# if we want array between set numbers than \n",
    "random_array_between_number = np.random.randint(1,8, size =(4,5)) # arguments are number between = 1,8 and size = (4,5)\n",
    "print(random_array_between_number) # the output will not have the last number 8, works just like range in this regard "
   ]
  },
  {
   "cell_type": "markdown",
   "id": "5088f1ae",
   "metadata": {},
   "source": [
    "**Remember we did np.ones and it gave array of only 1 as elements in the array well we can also create an array will equal elements by defining the value of element by np.full() method**"
   ]
  },
  {
   "cell_type": "code",
   "execution_count": 30,
   "id": "18a649ad",
   "metadata": {},
   "outputs": [
    {
     "name": "stdout",
     "output_type": "stream",
     "text": [
      "[[49 49 49 49]\n",
      " [49 49 49 49]\n",
      " [49 49 49 49]\n",
      " [49 49 49 49]]\n"
     ]
    }
   ],
   "source": [
    "array_user_defined_all_same = np.full((4,4),49)# or we can wirte it as np.full(size = (4,4), fill_value = 49) \n",
    "# arguments are shape = (4,4) and fill_value = 49\n",
    "print(array_user_defined_all_same)"
   ]
  },
  {
   "cell_type": "code",
   "execution_count": 29,
   "id": "5de69bc3",
   "metadata": {},
   "outputs": [
    {
     "name": "stdout",
     "output_type": "stream",
     "text": [
      "[[49 49 49 49]\n",
      " [49 49 49 49]\n",
      " [49 49 49 49]\n",
      " [49 49 49 49]]\n"
     ]
    }
   ],
   "source": [
    "# we can also get the same result via broadcasting \n",
    "arr = np.ones((4,4), dtype = int) # argument are shape and dtype \n",
    "arr = arr*49\n",
    "print(arr)\n"
   ]
  },
  {
   "cell_type": "code",
   "execution_count": 37,
   "id": "c67ca195",
   "metadata": {},
   "outputs": [
    {
     "name": "stdout",
     "output_type": "stream",
     "text": [
      "[[1 0 0 0]\n",
      " [0 1 0 0]\n",
      " [0 0 1 0]\n",
      " [0 0 0 1]]\n"
     ]
    }
   ],
   "source": [
    "# We can also get identity matxic in the form of square (of course identity matirix are square matrix)\n",
    "identity_matrix = np.identity(4, dtype = int) # it will atomatically come to know that you want a 4 X 4 matrix\n",
    "print(identity_matrix) # if you don't give dtype it will take float by default "
   ]
  },
  {
   "cell_type": "code",
   "execution_count": 38,
   "id": "b0905f73",
   "metadata": {},
   "outputs": [
    {
     "name": "stdout",
     "output_type": "stream",
     "text": [
      "[1 2 3 4 5]\n"
     ]
    }
   ],
   "source": [
    "# you can assign a list into variable and pass that variable to nparray and get aa array \n",
    "listy = [1,2,3,4,5]\n",
    "arr = np.array(listy)\n",
    "print(arr)"
   ]
  },
  {
   "cell_type": "code",
   "execution_count": 39,
   "id": "1b9cd648",
   "metadata": {},
   "outputs": [
    {
     "name": "stdout",
     "output_type": "stream",
     "text": [
      "[1 2 3 4 5 6 7 8 0]\n"
     ]
    }
   ],
   "source": [
    "#you can do the same thing with tuple as well \n",
    "tup = (1,2,3,4,5,6,7,8,0)\n",
    "arr_tup = np.array(tup)\n",
    "print(arr_tup)"
   ]
  },
  {
   "cell_type": "markdown",
   "id": "063eda78",
   "metadata": {},
   "source": [
    "# Indexing and Slicing in n-d array "
   ]
  },
  {
   "cell_type": "markdown",
   "id": "027d61b9",
   "metadata": {},
   "source": [
    "lets understand the difference between indexing and slicing indexing is when you want one element , slicing is when you want a group of element\n",
    "\n",
    "Lets understand how the indexing workks in 1-d array , 2-D array and 3-D array "
   ]
  },
  {
   "cell_type": "markdown",
   "id": "8f246c1d",
   "metadata": {},
   "source": [
    "1-d array has the same indexing and slicing as that of list data type "
   ]
  },
  {
   "cell_type": "code",
   "execution_count": 24,
   "id": "69205478",
   "metadata": {},
   "outputs": [
    {
     "name": "stdout",
     "output_type": "stream",
     "text": [
      "[0.27097843 0.69913441 0.12303431 0.84031941 0.00406752]\n",
      "\n",
      "[0.27097843 0.69913441 0.12303431]\n",
      "[0.84031941 0.12303431 0.69913441]\n"
     ]
    }
   ],
   "source": [
    "#lets create a random one dimensional array first \n",
    "one_array = np.random.random(5) # takes one argument only that argument is the number of elments you wnat in the array will only\n",
    "#give one dimensional array \n",
    "print(one_array)\n",
    "print('')\n",
    "print(one_array[0:3:1]) # this is sclicing in positive direction from 0 till 2 in step of positive 1\n",
    "print(one_array[3:0:-1]) # this is sciling in negative direction form 3 till 1 in the step of negative 1\n",
    "\n"
   ]
  },
  {
   "cell_type": "markdown",
   "id": "6e45dcdf",
   "metadata": {},
   "source": [
    "**Instead of doing slicing on float lets do it on int value. We can generate a random matrix using the method random.randint(\n",
    "( )). the argument for the randint are np.random.randint(a,b, size =(c,d)) where a is the lower limit of the value of element you want in the array b is the upper value of element you want in your array, and c,d is actually the size o/p(output) that is it has to be in tuple and** "
   ]
  },
  {
   "cell_type": "code",
   "execution_count": 49,
   "id": "cfdc3424",
   "metadata": {},
   "outputs": [
    {
     "name": "stdout",
     "output_type": "stream",
     "text": [
      "[4 4 8 4 5 4 8 5 8]\n",
      "4\n",
      "[8 4 5 4]\n",
      "[4 5 4 8]\n"
     ]
    }
   ],
   "source": [
    "# lets do indexing and sclicing \n",
    "array_1 = np.random.randint(1,9, size = (9,))\n",
    "print(array_1)\n",
    "print(array_1[5]) # we are doing indexing here this will give us only one element at position/index no. 5\n",
    "print(array_1[2:6]) # we are doing slicing here it will give us a group of elements starting from element at position 2 \n",
    "#till element at position 5\n",
    "print(array_1[5:1:-1]) # this is the same sclicing but in negative direction by using step in negaive direction i.e -1"
   ]
  },
  {
   "cell_type": "markdown",
   "id": "d48373da",
   "metadata": {},
   "source": [
    "let's now understand how does slicing and indexing happens in 2-d array, the very first thing which we have to keep in mind and (which also falls under note) is that every 2-d array is nothing but a matrix. so in order to pull out only one element from the matrix we will use the concept of the rows and coloums that we already got acquainted with during our matrix and determinent class when we were in 12th grade \n",
    "\n",
    "So to pick the single element from the matrix we will have to specify its row and coloum , the row and coloumn corresponds to \n",
    "the position of that element in the matrix\n",
    "\n",
    "**NOTE: THE ROWS START FROM ZERO AND GOES ALL THE WAY UPTO N , THE COLOUMN STARTS FROM ZERO AND GOES ALL THE WAY TILL N**"
   ]
  },
  {
   "cell_type": "code",
   "execution_count": 3,
   "id": "a48a4846",
   "metadata": {},
   "outputs": [
    {
     "name": "stdout",
     "output_type": "stream",
     "text": [
      "[[5 2 3 3]\n",
      " [4 3 9 5]\n",
      " [3 1 6 1]]\n",
      "the argument for the index is like (row,coloum) in 2 d matrix\n"
     ]
    }
   ],
   "source": [
    "two_array = np.random.randint(1,10, size = (3,4))\n",
    "print(two_array)\n",
    "two_array[1,2] # so this is basically get me the element which is at 2nd row and 3rd coloum and since we know that the rows and\n",
    "#coloum start form 0 and 0 in array so the index of second row is 1 and the index of 3rd coloum is 2\n",
    "print('the argument for the index is like (row,coloum) in 2 d matrix')"
   ]
  },
  {
   "cell_type": "code",
   "execution_count": 55,
   "id": "a926b660",
   "metadata": {},
   "outputs": [
    {
     "data": {
      "text/plain": [
       "6"
      ]
     },
     "execution_count": 55,
     "metadata": {},
     "output_type": "execute_result"
    }
   ],
   "source": [
    "two_array[2,3] # ans is worng seed issue"
   ]
  },
  {
   "cell_type": "markdown",
   "id": "c04f036b",
   "metadata": {},
   "source": [
    "**Now lets understand slicing in 2-d array** This concept will also pave the way for us to understand/is a prequisite for slicing in 3-d Now we now that in indexing it takes [rows,coloumn] now what will happend in [slicing of rows , slicing of coloums]\n",
    "the slicing part will pick bunch of rows together and bunch of coloums together this is what it will look like two_array[0:3,1:3] so what will it do is it will pick the row from 0 till 2 and it will pick coloum from 1 to 2 and will give you all the elements which will lie in the intersection "
   ]
  },
  {
   "cell_type": "code",
   "execution_count": 5,
   "id": "bc854258",
   "metadata": {},
   "outputs": [
    {
     "data": {
      "text/plain": [
       "array([[2, 3],\n",
       "       [3, 9],\n",
       "       [1, 6]])"
      ]
     },
     "execution_count": 5,
     "metadata": {},
     "output_type": "execute_result"
    }
   ],
   "source": [
    "two_array[0:3,1:3] "
   ]
  },
  {
   "cell_type": "code",
   "execution_count": 4,
   "id": "f162f71f",
   "metadata": {},
   "outputs": [
    {
     "data": {
      "text/plain": [
       "array([[2, 3],\n",
       "       [3, 9],\n",
       "       [1, 6]])"
      ]
     },
     "execution_count": 4,
     "metadata": {},
     "output_type": "execute_result"
    }
   ],
   "source": [
    "# you can also do that in step in negative directions etc\n",
    "two_array[-3:,-3:-1] # note since we are not giving the dirction that slicing will happen from positive direction only we will have\n",
    "# to give the index as per the positive direstion only \n",
    "# same o/p but different slicing values \n",
    "# you can also use steps to skip alternate rows or coloumn"
   ]
  },
  {
   "cell_type": "markdown",
   "id": "e4595b99",
   "metadata": {},
   "source": [
    "**Note: Since we have created a random matrix every time you import or run the code the matrix will change**"
   ]
  },
  {
   "cell_type": "markdown",
   "id": "bca7d64f",
   "metadata": {},
   "source": [
    "**Now lets understand how does indexing and slicing works in 3-d array**\n",
    "\n",
    "3-d array are basically collection of 2 day array: let just leave this thing and think how would you pick element form the matrix first you will decide that out of 4 , 2-d matrix from which matrix you want to pick the element, after that you will find the row and coloumn of the matrix and pull the no. out \n",
    "\n",
    "This indexing also does the same thing you define the index of the matrix , then in that matrix define row and after that coloumn arr[index, row, coloumn] i would like to remind you here that tha"
   ]
  },
  {
   "cell_type": "code",
   "execution_count": 9,
   "id": "2f0faba5",
   "metadata": {},
   "outputs": [
    {
     "name": "stdout",
     "output_type": "stream",
     "text": [
      "[[[6 9 8 1 7]\n",
      "  [2 7 3 5 1]\n",
      "  [2 9 7 3 8]\n",
      "  [3 9 2 6 8]\n",
      "  [2 7 6 3 3]]\n",
      "\n",
      " [[8 4 2 9 8]\n",
      "  [7 3 3 8 4]\n",
      "  [8 2 4 1 5]\n",
      "  [3 2 5 1 1]\n",
      "  [3 8 4 1 7]]\n",
      "\n",
      " [[6 9 5 4 1]\n",
      "  [7 9 5 1 1]\n",
      "  [2 1 6 8 9]\n",
      "  [5 3 4 8 2]\n",
      "  [1 3 3 2 5]]\n",
      "\n",
      " [[3 5 2 5 9]\n",
      "  [9 7 9 7 2]\n",
      "  [3 6 5 9 1]\n",
      "  [5 9 9 5 5]\n",
      "  [6 3 6 9 7]]]\n",
      "\n",
      "[[[7]]]\n"
     ]
    },
    {
     "data": {
      "text/plain": [
       "7"
      ]
     },
     "execution_count": 9,
     "metadata": {},
     "output_type": "execute_result"
    }
   ],
   "source": [
    "import numpy as np\n",
    "arr = np.random.randint(1,10, size = (4,5,5))\n",
    "print(arr)\n",
    "print('')\n",
    "print(arr[0:1,2:3,2:3]) # this will give you in array consider this as more like slicing example\n",
    "arr[0,2,2] # this will give you in single element"
   ]
  },
  {
   "cell_type": "markdown",
   "id": "359935bc",
   "metadata": {},
   "source": [
    "**3-d array slicing**\n",
    "\n",
    "Now lets see how slicing is done \n",
    "so the arr[a,b,c] will be [index, row, coloumn] this will all be in slicing format\n",
    "if you want that value form two matrix than \n",
    "index = select the index of the 2-d matrixs\n",
    "row = now select the row of selected 2-d matrix in the index ( it will automatically select the rows from 2 matrix)\n",
    "coloumn = now select the coloumn of selected 2-d matrix in the index ( it will automatically select the coloumn form 2 matrix)"
   ]
  },
  {
   "cell_type": "code",
   "execution_count": 11,
   "id": "4f2eeeae",
   "metadata": {},
   "outputs": [
    {
     "name": "stdout",
     "output_type": "stream",
     "text": [
      "[[[4 1 3 3 5]\n",
      "  [3 2 2 6 3]\n",
      "  [2 4 3 2 3]\n",
      "  [4 6 6 4 1]\n",
      "  [4 2 1 2 1]]\n",
      "\n",
      " [[6 4 3 1 5]\n",
      "  [3 5 6 6 3]\n",
      "  [6 1 2 4 4]\n",
      "  [1 6 5 4 5]\n",
      "  [3 6 4 5 6]]\n",
      "\n",
      " [[1 5 2 6 4]\n",
      "  [6 4 3 3 2]\n",
      "  [6 6 3 5 2]\n",
      "  [2 6 4 5 1]\n",
      "  [2 3 3 4 3]]\n",
      "\n",
      " [[2 2 3 6 1]\n",
      "  [4 5 1 4 2]\n",
      "  [3 6 6 4 5]\n",
      "  [6 3 6 1 4]\n",
      "  [5 4 5 2 2]]]\n"
     ]
    },
    {
     "data": {
      "text/plain": [
       "array([[[4, 1, 3, 3, 5]],\n",
       "\n",
       "       [[6, 4, 3, 1, 5]],\n",
       "\n",
       "       [[1, 5, 2, 6, 4]]])"
      ]
     },
     "execution_count": 11,
     "metadata": {},
     "output_type": "execute_result"
    }
   ],
   "source": [
    "array = np.random.randint(1,7, size = (4,5,5))\n",
    "print(array)\n",
    "array[0:3,0:1,0:] # this is [index slicing of  of 2-d matrix, row slicing of all sellected matrix (selected matrix in the index)\n",
    "#, coloumn slicing of all  selected matrix (selected matrix in the index)]"
   ]
  },
  {
   "cell_type": "markdown",
   "id": "230f7be8",
   "metadata": {},
   "source": [
    "** Rough work to understand 3-d array sclicing. You can use assign function to understand the thing more clearly**"
   ]
  },
  {
   "cell_type": "code",
   "execution_count": 13,
   "id": "bdf46891",
   "metadata": {},
   "outputs": [
    {
     "name": "stdout",
     "output_type": "stream",
     "text": [
      "[[[ 1  2]\n",
      "  [ 3  4]\n",
      "  [ 5  6]]\n",
      "\n",
      " [[ 7  8]\n",
      "  [ 9 10]\n",
      "  [11 12]]\n",
      "\n",
      " [[13 14]\n",
      "  [15 16]\n",
      "  [17 18]]]\n",
      "\n",
      "\n",
      "[[[ 1  2]\n",
      "  [ 3  4]\n",
      "  [ 5  6]]\n",
      "\n",
      " [[ 7  8]\n",
      "  [ 9 10]\n",
      "  [11 12]]]\n",
      "\n",
      "[[[ 3  4]\n",
      "  [ 5  6]]\n",
      "\n",
      " [[ 9 10]\n",
      "  [11 12]]]\n"
     ]
    }
   ],
   "source": [
    "#it's a bit confusing but see if you can understand\n",
    "# For 3-D array slicing the format is array[index,row,column]\n",
    "a = np.array([[[1,2],[3,4],[5,6]],\n",
    "             [[7,8],[9,10],[11,12]],\n",
    "             [[13,14],[15,16],[17,18]]])\n",
    "print(a)\n",
    "print('')\n",
    "print('')\n",
    "print(a[0:2])\n",
    "print('')\n",
    "print(a[0:2,1:])\n",
    "#print(a[0:2,1:,1:])"
   ]
  },
  {
   "cell_type": "code",
   "execution_count": 15,
   "id": "01e1cea6",
   "metadata": {},
   "outputs": [
    {
     "name": "stdout",
     "output_type": "stream",
     "text": [
      "[[[4 4 5 3]\n",
      "  [7 7 7 4]\n",
      "  [7 5 3 5]\n",
      "  [3 6 7 3]\n",
      "  [6 6 6 3]]\n",
      "\n",
      " [[4 4 7 4]\n",
      "  [6 5 6 4]\n",
      "  [6 7 3 4]\n",
      "  [6 7 4 4]\n",
      "  [7 3 7 7]]\n",
      "\n",
      " [[3 6 5 4]\n",
      "  [5 5 6 3]\n",
      "  [5 3 7 3]\n",
      "  [7 4 3 5]\n",
      "  [5 6 6 3]]]\n",
      "\n",
      "[[[9999 9999    5    3]\n",
      "  [9999 9999    7    4]\n",
      "  [   7    5    3    5]\n",
      "  [   3    6    7    3]\n",
      "  [   6    6    6    3]]\n",
      "\n",
      " [[9999 9999    7    4]\n",
      "  [9999 9999    6    4]\n",
      "  [   6    7    3    4]\n",
      "  [   6    7    4    4]\n",
      "  [   7    3    7    7]]\n",
      "\n",
      " [[   3    6    5    4]\n",
      "  [   5    5    6    3]\n",
      "  [   5    3    7    3]\n",
      "  [   7    4    3    5]\n",
      "  [   5    6    6    3]]]\n"
     ]
    }
   ],
   "source": [
    "#this may help a bit\n",
    "# lets create a random array\n",
    "array_1 = np.random.randint(3,8, size = (3,5,4))\n",
    "print(array_1)\n",
    "print('')\n",
    "array_1[0:2,0:2,0:2] = 9999 # this is in the format index of the 2 d , index/slicing of row, indix/slicing of coloum\n",
    "print(array_1)"
   ]
  },
  {
   "cell_type": "code",
   "execution_count": 11,
   "id": "134f2cb3",
   "metadata": {},
   "outputs": [
    {
     "name": "stdout",
     "output_type": "stream",
     "text": [
      "[[[3 5 3 3]\n",
      "  [6 1 3 6]\n",
      "  [3 1 1 3]\n",
      "  [6 3 1 4]\n",
      "  [2 6 4 1]]\n",
      "\n",
      " [[4 2 3 3]\n",
      "  [1 4 6 5]\n",
      "  [5 6 3 6]\n",
      "  [6 5 1 6]\n",
      "  [1 3 4 2]]\n",
      "\n",
      " [[1 4 2 3]\n",
      "  [2 4 5 1]\n",
      "  [4 3 3 5]\n",
      "  [5 4 2 1]\n",
      "  [3 1 5 5]]\n",
      "\n",
      " [[6 3 5 5]\n",
      "  [2 6 2 5]\n",
      "  [1 5 4 1]\n",
      "  [3 4 4 6]\n",
      "  [5 1 1 4]]\n",
      "\n",
      " [[3 2 1 2]\n",
      "  [2 6 1 5]\n",
      "  [4 6 5 2]\n",
      "  [5 3 5 1]\n",
      "  [2 1 6 5]]\n",
      "\n",
      " [[1 1 3 1]\n",
      "  [6 6 5 5]\n",
      "  [5 5 1 4]\n",
      "  [2 3 2 1]\n",
      "  [5 2 3 4]]]\n"
     ]
    },
    {
     "data": {
      "text/plain": [
       "array([[[3],\n",
       "        [6],\n",
       "        [3],\n",
       "        [1],\n",
       "        [4]],\n",
       "\n",
       "       [[2],\n",
       "        [5],\n",
       "        [3],\n",
       "        [2],\n",
       "        [5]],\n",
       "\n",
       "       [[5],\n",
       "        [2],\n",
       "        [4],\n",
       "        [4],\n",
       "        [1]]])"
      ]
     },
     "execution_count": 11,
     "metadata": {},
     "output_type": "execute_result"
    }
   ],
   "source": [
    "array_2 = np.random.randint(1,7, size = (6,5,4))\n",
    "print(array_2)\n",
    "array_2[1:4,0:,2:3] # has a format of - (index of 2-d array, rows in general, coloum in general)"
   ]
  },
  {
   "cell_type": "code",
   "execution_count": 19,
   "id": "c30dc42f",
   "metadata": {},
   "outputs": [
    {
     "name": "stdout",
     "output_type": "stream",
     "text": [
      "[3 4 1 6 3 1]\n",
      "[3 6 3 6 2]\n",
      "[3 5 3 3]\n",
      "\n",
      "[[3 5 3 3]\n",
      " [6 1 3 6]\n",
      " [3 1 1 3]\n",
      " [6 3 1 4]\n",
      " [2 6 4 1]]\n",
      "\n",
      "(5, 4)\n",
      "3\n"
     ]
    }
   ],
   "source": [
    "#\n",
    "print(array_2[0:,0,0]) # count of this gives you how many matrix are placed one after the other( into the plane) \n",
    "print(array_2[0,0:,0]) #  count of this gives row\n",
    "print(array_2[0,0,0:]) # count of this gives column\n",
    "print('')\n",
    "print(array_2[0])\n",
    "print('')\n",
    "print(array_2[0].shape)\n",
    "print(array_2[0,0,0])"
   ]
  },
  {
   "cell_type": "code",
   "execution_count": 17,
   "id": "6d73ed2f",
   "metadata": {},
   "outputs": [
    {
     "name": "stdout",
     "output_type": "stream",
     "text": [
      "[[[[1 4 6 3 4]\n",
      "   [1 3 1 4 6]\n",
      "   [6 6 2 3 6]\n",
      "   [1 2 2 6 6]\n",
      "   [2 3 1 6 6]]\n",
      "\n",
      "  [[3 2 1 6 6]\n",
      "   [1 6 5 5 3]\n",
      "   [3 1 6 2 2]\n",
      "   [2 3 2 3 3]\n",
      "   [2 6 4 3 6]]\n",
      "\n",
      "  [[6 2 6 5 1]\n",
      "   [2 3 1 1 6]\n",
      "   [1 3 3 5 4]\n",
      "   [5 6 6 3 4]\n",
      "   [5 1 5 1 6]]\n",
      "\n",
      "  [[3 1 4 4 1]\n",
      "   [5 6 3 5 6]\n",
      "   [2 1 6 5 6]\n",
      "   [4 1 2 6 1]\n",
      "   [2 1 6 6 3]]\n",
      "\n",
      "  [[6 4 1 1 1]\n",
      "   [2 3 3 4 3]\n",
      "   [5 2 1 3 4]\n",
      "   [3 6 4 6 3]\n",
      "   [3 4 2 3 2]]]\n",
      "\n",
      "\n",
      " [[[6 5 1 6 5]\n",
      "   [5 2 4 1 1]\n",
      "   [1 6 1 3 2]\n",
      "   [4 5 1 3 1]\n",
      "   [4 5 5 2 3]]\n",
      "\n",
      "  [[6 6 4 2 2]\n",
      "   [2 2 6 3 6]\n",
      "   [6 4 3 5 6]\n",
      "   [5 3 2 2 3]\n",
      "   [1 4 3 4 3]]\n",
      "\n",
      "  [[4 3 1 4 4]\n",
      "   [3 2 4 4 1]\n",
      "   [1 1 2 1 1]\n",
      "   [3 4 5 6 1]\n",
      "   [2 5 5 6 1]]\n",
      "\n",
      "  [[2 1 3 3 1]\n",
      "   [4 4 3 6 3]\n",
      "   [2 4 5 5 1]\n",
      "   [3 4 2 2 3]\n",
      "   [4 3 3 4 2]]\n",
      "\n",
      "  [[1 2 4 6 2]\n",
      "   [1 2 3 2 6]\n",
      "   [4 4 1 5 6]\n",
      "   [6 5 1 4 1]\n",
      "   [5 2 6 4 1]]]\n",
      "\n",
      "\n",
      " [[[4 1 2 6 2]\n",
      "   [1 6 4 2 3]\n",
      "   [1 5 5 4 6]\n",
      "   [4 5 5 4 4]\n",
      "   [4 4 6 1 2]]\n",
      "\n",
      "  [[1 3 5 2 4]\n",
      "   [3 6 5 2 4]\n",
      "   [1 3 4 1 2]\n",
      "   [2 4 5 2 2]\n",
      "   [6 1 3 2 3]]\n",
      "\n",
      "  [[3 6 2 3 2]\n",
      "   [1 3 6 1 1]\n",
      "   [2 3 2 5 3]\n",
      "   [4 4 5 3 6]\n",
      "   [5 5 1 1 2]]\n",
      "\n",
      "  [[2 2 4 3 2]\n",
      "   [6 5 1 2 3]\n",
      "   [1 6 2 6 6]\n",
      "   [6 1 1 4 3]\n",
      "   [1 6 5 1 3]]\n",
      "\n",
      "  [[1 4 5 5 6]\n",
      "   [3 3 4 2 4]\n",
      "   [2 5 4 4 4]\n",
      "   [5 5 6 2 2]\n",
      "   [3 5 6 4 6]]]\n",
      "\n",
      "\n",
      " [[[1 1 3 2 6]\n",
      "   [5 4 1 5 4]\n",
      "   [2 4 5 3 2]\n",
      "   [5 5 2 3 3]\n",
      "   [5 2 1 3 1]]\n",
      "\n",
      "  [[2 5 3 3 1]\n",
      "   [4 6 1 3 3]\n",
      "   [2 3 3 6 6]\n",
      "   [5 4 5 2 6]\n",
      "   [6 3 2 3 5]]\n",
      "\n",
      "  [[1 4 1 6 6]\n",
      "   [3 4 3 2 3]\n",
      "   [4 5 1 5 5]\n",
      "   [4 5 5 4 5]\n",
      "   [4 4 4 6 5]]\n",
      "\n",
      "  [[1 4 1 3 3]\n",
      "   [1 1 3 3 3]\n",
      "   [1 6 5 4 1]\n",
      "   [5 3 6 1 1]\n",
      "   [1 4 1 2 2]]\n",
      "\n",
      "  [[5 6 1 5 3]\n",
      "   [6 3 1 5 6]\n",
      "   [5 1 6 3 4]\n",
      "   [4 1 6 3 3]\n",
      "   [2 6 3 4 5]]]\n",
      "\n",
      "\n",
      " [[[3 2 2 1 3]\n",
      "   [2 1 6 6 5]\n",
      "   [2 5 3 6 1]\n",
      "   [6 3 2 3 3]\n",
      "   [6 4 1 5 2]]\n",
      "\n",
      "  [[5 6 3 4 2]\n",
      "   [1 6 3 2 3]\n",
      "   [5 4 4 4 5]\n",
      "   [4 5 5 4 5]\n",
      "   [2 4 2 1 3]]\n",
      "\n",
      "  [[1 5 2 3 4]\n",
      "   [2 2 5 2 5]\n",
      "   [6 2 6 1 2]\n",
      "   [3 3 5 1 5]\n",
      "   [6 6 2 5 3]]\n",
      "\n",
      "  [[2 1 4 6 6]\n",
      "   [3 6 2 1 1]\n",
      "   [4 2 5 6 6]\n",
      "   [4 1 2 3 6]\n",
      "   [6 6 5 3 2]]\n",
      "\n",
      "  [[3 6 2 5 6]\n",
      "   [3 4 3 6 2]\n",
      "   [2 1 3 4 1]\n",
      "   [2 5 6 4 3]\n",
      "   [6 3 2 6 4]]]\n",
      "\n",
      "\n",
      " [[[5 3 4 4 2]\n",
      "   [6 3 6 5 4]\n",
      "   [2 5 6 3 2]\n",
      "   [4 3 3 5 1]\n",
      "   [4 3 1 6 6]]\n",
      "\n",
      "  [[5 1 3 4 6]\n",
      "   [3 3 6 3 4]\n",
      "   [3 4 2 1 5]\n",
      "   [1 4 1 5 2]\n",
      "   [2 6 6 3 6]]\n",
      "\n",
      "  [[5 2 2 6 6]\n",
      "   [6 1 6 3 3]\n",
      "   [3 6 6 6 3]\n",
      "   [5 1 2 5 4]\n",
      "   [5 5 2 3 1]]\n",
      "\n",
      "  [[3 2 4 5 6]\n",
      "   [5 6 2 2 2]\n",
      "   [6 4 3 3 6]\n",
      "   [5 1 2 3 6]\n",
      "   [6 6 1 1 3]]\n",
      "\n",
      "  [[2 6 6 5 3]\n",
      "   [1 1 6 3 4]\n",
      "   [6 2 2 1 5]\n",
      "   [6 3 4 2 2]\n",
      "   [6 2 4 1 3]]]]\n"
     ]
    },
    {
     "data": {
      "text/plain": [
       "array([[[[1, 4],\n",
       "         [1, 3]]]])"
      ]
     },
     "execution_count": 17,
     "metadata": {},
     "output_type": "execute_result"
    }
   ],
   "source": [
    "array_2 = np.random.randint(1,7, size = (6,5,5,5))\n",
    "print(array_2)\n",
    "array_2[0:1,0:1,0:2,:2] # so this is (index,index,row,coloum)"
   ]
  },
  {
   "cell_type": "code",
   "execution_count": null,
   "id": "354e10a9",
   "metadata": {},
   "outputs": [],
   "source": []
  }
 ],
 "metadata": {
  "kernelspec": {
   "display_name": "Python 3 (ipykernel)",
   "language": "python",
   "name": "python3"
  },
  "language_info": {
   "codemirror_mode": {
    "name": "ipython",
    "version": 3
   },
   "file_extension": ".py",
   "mimetype": "text/x-python",
   "name": "python",
   "nbconvert_exporter": "python",
   "pygments_lexer": "ipython3",
   "version": "3.9.12"
  }
 },
 "nbformat": 4,
 "nbformat_minor": 5
}
