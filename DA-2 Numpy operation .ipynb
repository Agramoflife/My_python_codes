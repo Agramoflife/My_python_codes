{
 "cells": [
  {
   "cell_type": "markdown",
   "id": "461e1527",
   "metadata": {},
   "source": [
    "# Numpy operations "
   ]
  },
  {
   "cell_type": "code",
   "execution_count": 1,
   "id": "38b3501f",
   "metadata": {},
   "outputs": [],
   "source": [
    "import numpy as np"
   ]
  },
  {
   "cell_type": "code",
   "execution_count": 3,
   "id": "dda98ac0",
   "metadata": {},
   "outputs": [],
   "source": [
    "np.random.seed()\n",
    "matrix=np.random.randint(11,49, size = (2,4,4))"
   ]
  },
  {
   "cell_type": "code",
   "execution_count": 4,
   "id": "ae86e00c",
   "metadata": {},
   "outputs": [
    {
     "data": {
      "text/plain": [
       "array([[[46, 11, 12, 28],\n",
       "        [15, 40, 31, 34],\n",
       "        [48, 15, 48, 32],\n",
       "        [39, 43, 38, 19]],\n",
       "\n",
       "       [[36, 17, 18, 42],\n",
       "        [48, 23, 47, 36],\n",
       "        [30, 34, 43, 31],\n",
       "        [40, 14, 20, 24]]])"
      ]
     },
     "execution_count": 4,
     "metadata": {},
     "output_type": "execute_result"
    }
   ],
   "source": [
    "matrix"
   ]
  },
  {
   "cell_type": "code",
   "execution_count": 5,
   "id": "892783fa",
   "metadata": {},
   "outputs": [
    {
     "data": {
      "text/plain": [
       "array([[[46, 36],\n",
       "        [15, 48],\n",
       "        [48, 30],\n",
       "        [39, 40]],\n",
       "\n",
       "       [[11, 17],\n",
       "        [40, 23],\n",
       "        [15, 34],\n",
       "        [43, 14]],\n",
       "\n",
       "       [[12, 18],\n",
       "        [31, 47],\n",
       "        [48, 43],\n",
       "        [38, 20]],\n",
       "\n",
       "       [[28, 42],\n",
       "        [34, 36],\n",
       "        [32, 31],\n",
       "        [19, 24]]])"
      ]
     },
     "execution_count": 5,
     "metadata": {},
     "output_type": "execute_result"
    }
   ],
   "source": [
    "matrix.transpose()"
   ]
  },
  {
   "cell_type": "code",
   "execution_count": 6,
   "id": "5398bf46",
   "metadata": {},
   "outputs": [
    {
     "data": {
      "text/plain": [
       "array([[46, 11, 12, 28],\n",
       "       [15, 40, 31, 34],\n",
       "       [48, 15, 48, 32],\n",
       "       [39, 43, 38, 19],\n",
       "       [36, 17, 18, 42],\n",
       "       [48, 23, 47, 36],\n",
       "       [30, 34, 43, 31],\n",
       "       [40, 14, 20, 24]])"
      ]
     },
     "execution_count": 6,
     "metadata": {},
     "output_type": "execute_result"
    }
   ],
   "source": [
    "matrix.reshape((8,4))"
   ]
  },
  {
   "cell_type": "code",
   "execution_count": 7,
   "id": "4a425684",
   "metadata": {},
   "outputs": [
    {
     "data": {
      "text/plain": [
       "array([[46, 11, 12, 28, 15, 40, 31, 34],\n",
       "       [48, 15, 48, 32, 39, 43, 38, 19],\n",
       "       [36, 17, 18, 42, 48, 23, 47, 36],\n",
       "       [30, 34, 43, 31, 40, 14, 20, 24]])"
      ]
     },
     "execution_count": 7,
     "metadata": {},
     "output_type": "execute_result"
    }
   ],
   "source": [
    "np.reshape(matrix,(4,8))"
   ]
  },
  {
   "cell_type": "code",
   "execution_count": 9,
   "id": "91c0760e",
   "metadata": {},
   "outputs": [
    {
     "data": {
      "text/plain": [
       "array([[[46, 11, 12, 28],\n",
       "        [15, 40, 31, 34]],\n",
       "\n",
       "       [[48, 15, 48, 32],\n",
       "        [39, 43, 38, 19]],\n",
       "\n",
       "       [[36, 17, 18, 42],\n",
       "        [48, 23, 47, 36]],\n",
       "\n",
       "       [[30, 34, 43, 31],\n",
       "        [40, 14, 20, 24]]])"
      ]
     },
     "execution_count": 9,
     "metadata": {},
     "output_type": "execute_result"
    }
   ],
   "source": [
    "matrix.shape = (4,2,4)\n",
    "matrix"
   ]
  },
  {
   "cell_type": "code",
   "execution_count": 11,
   "id": "38726cdb",
   "metadata": {},
   "outputs": [
    {
     "data": {
      "text/plain": [
       "array([[46, 11, 12, 28],\n",
       "       [15, 40, 31, 34],\n",
       "       [48, 15, 48, 32],\n",
       "       [39, 43, 38, 19],\n",
       "       [36, 17, 18, 42],\n",
       "       [48, 23, 47, 36],\n",
       "       [30, 34, 43, 31],\n",
       "       [40, 14, 20, 24]])"
      ]
     },
     "execution_count": 11,
     "metadata": {},
     "output_type": "execute_result"
    }
   ],
   "source": [
    "matrix.reshape((-1,4)) # if you don't know how many rows you need you can do this "
   ]
  },
  {
   "cell_type": "code",
   "execution_count": 14,
   "id": "e5476b13",
   "metadata": {},
   "outputs": [
    {
     "data": {
      "text/plain": [
       "array([[96, 19,  6, 67, 97, 29],\n",
       "       [30, 43, 53,  4, 16, 85],\n",
       "       [30, 62, 35, 39, 77, 38],\n",
       "       [91, 89, 43, 68, 75, 57],\n",
       "       [62, 61, 23, 30, 44, 72],\n",
       "       [65, 13, 46, 97, 95, 65]])"
      ]
     },
     "execution_count": 14,
     "metadata": {},
     "output_type": "execute_result"
    }
   ],
   "source": [
    "mat1 = np.array(np.random.randint(1,100, size =(6,6)))\n",
    "mat1"
   ]
  },
  {
   "cell_type": "code",
   "execution_count": 16,
   "id": "1377daa3",
   "metadata": {},
   "outputs": [
    {
     "data": {
      "text/plain": [
       "array([[96, 19,  6, 67],\n",
       "       [97, 29, 30, 43],\n",
       "       [53,  4, 16, 85],\n",
       "       [30, 62, 35, 39],\n",
       "       [77, 38, 91, 89],\n",
       "       [43, 68, 75, 57],\n",
       "       [62, 61, 23, 30],\n",
       "       [44, 72, 65, 13],\n",
       "       [46, 97, 95, 65]])"
      ]
     },
     "execution_count": 16,
     "metadata": {},
     "output_type": "execute_result"
    }
   ],
   "source": [
    "np.reshape(mat1,(-1,4))"
   ]
  },
  {
   "cell_type": "markdown",
   "id": "af2a27c1",
   "metadata": {},
   "source": [
    "So the reshape can take negative values and basically those negative value means the you hand not made up you mind about how many rows/ columns you want "
   ]
  },
  {
   "cell_type": "code",
   "execution_count": 17,
   "id": "b53ea3ee",
   "metadata": {},
   "outputs": [
    {
     "data": {
      "text/plain": [
       "array([[96, 19,  6, 67, 97, 29, 30, 43, 53],\n",
       "       [ 4, 16, 85, 30, 62, 35, 39, 77, 38],\n",
       "       [91, 89, 43, 68, 75, 57, 62, 61, 23],\n",
       "       [30, 44, 72, 65, 13, 46, 97, 95, 65]])"
      ]
     },
     "execution_count": 17,
     "metadata": {},
     "output_type": "execute_result"
    }
   ],
   "source": [
    "mat1.reshape((4,-1)) # "
   ]
  },
  {
   "cell_type": "markdown",
   "id": "b10dc937",
   "metadata": {},
   "source": [
    "# It's either np.method or array.method try both way in most cases both of them work but not with the array.flatten()"
   ]
  },
  {
   "cell_type": "code",
   "execution_count": 20,
   "id": "87e93c03",
   "metadata": {},
   "outputs": [
    {
     "ename": "ValueError",
     "evalue": "can only specify one unknown dimension",
     "output_type": "error",
     "traceback": [
      "\u001b[1;31m---------------------------------------------------------------------------\u001b[0m",
      "\u001b[1;31mValueError\u001b[0m                                Traceback (most recent call last)",
      "Input \u001b[1;32mIn [20]\u001b[0m, in \u001b[0;36m<cell line: 1>\u001b[1;34m()\u001b[0m\n\u001b[1;32m----> 1\u001b[0m \u001b[43mmat1\u001b[49m\u001b[38;5;241;43m.\u001b[39;49m\u001b[43mreshape\u001b[49m\u001b[43m(\u001b[49m\u001b[38;5;241;43m-\u001b[39;49m\u001b[38;5;241;43m1\u001b[39;49m\u001b[43m,\u001b[49m\u001b[38;5;241;43m-\u001b[39;49m\u001b[38;5;241;43m1\u001b[39;49m\u001b[43m,\u001b[49m\u001b[38;5;241;43m4\u001b[39;49m\u001b[43m)\u001b[49m\n",
      "\u001b[1;31mValueError\u001b[0m: can only specify one unknown dimension"
     ]
    }
   ],
   "source": [
    "mat1.reshape(-1,-1,4) # takes only one unknown"
   ]
  },
  {
   "cell_type": "code",
   "execution_count": 21,
   "id": "be39d10f",
   "metadata": {},
   "outputs": [
    {
     "data": {
      "text/plain": [
       "array([[[96, 19,  6],\n",
       "        [67, 97, 29],\n",
       "        [30, 43, 53],\n",
       "        [ 4, 16, 85]],\n",
       "\n",
       "       [[30, 62, 35],\n",
       "        [39, 77, 38],\n",
       "        [91, 89, 43],\n",
       "        [68, 75, 57]],\n",
       "\n",
       "       [[62, 61, 23],\n",
       "        [30, 44, 72],\n",
       "        [65, 13, 46],\n",
       "        [97, 95, 65]]])"
      ]
     },
     "execution_count": 21,
     "metadata": {},
     "output_type": "execute_result"
    }
   ],
   "source": [
    "np.reshape(mat1,(-1,4,3))"
   ]
  },
  {
   "cell_type": "code",
   "execution_count": 24,
   "id": "7546785a",
   "metadata": {},
   "outputs": [
    {
     "data": {
      "text/plain": [
       "array([96, 19,  6, 67, 97, 29, 30, 43, 53,  4, 16, 85, 30, 62, 35, 39, 77,\n",
       "       38, 91, 89, 43, 68, 75, 57, 62, 61, 23, 30, 44, 72, 65, 13, 46, 97,\n",
       "       95, 65])"
      ]
     },
     "execution_count": 24,
     "metadata": {},
     "output_type": "execute_result"
    }
   ],
   "source": [
    "np.reshape(mat1,(-1,))"
   ]
  },
  {
   "cell_type": "code",
   "execution_count": 25,
   "id": "6bd8069a",
   "metadata": {},
   "outputs": [
    {
     "data": {
      "text/plain": [
       "array([[96, 19,  6, 67, 97, 29, 30, 43, 53,  4, 16, 85, 30, 62, 35, 39,\n",
       "        77, 38, 91, 89, 43, 68, 75, 57, 62, 61, 23, 30, 44, 72, 65, 13,\n",
       "        46, 97, 95, 65]])"
      ]
     },
     "execution_count": 25,
     "metadata": {},
     "output_type": "execute_result"
    }
   ],
   "source": [
    "np.reshape(mat1,(1,-1))"
   ]
  },
  {
   "cell_type": "code",
   "execution_count": 26,
   "id": "bd050324",
   "metadata": {},
   "outputs": [
    {
     "data": {
      "text/plain": [
       "array([[96],\n",
       "       [19],\n",
       "       [ 6],\n",
       "       [67],\n",
       "       [97],\n",
       "       [29],\n",
       "       [30],\n",
       "       [43],\n",
       "       [53],\n",
       "       [ 4],\n",
       "       [16],\n",
       "       [85],\n",
       "       [30],\n",
       "       [62],\n",
       "       [35],\n",
       "       [39],\n",
       "       [77],\n",
       "       [38],\n",
       "       [91],\n",
       "       [89],\n",
       "       [43],\n",
       "       [68],\n",
       "       [75],\n",
       "       [57],\n",
       "       [62],\n",
       "       [61],\n",
       "       [23],\n",
       "       [30],\n",
       "       [44],\n",
       "       [72],\n",
       "       [65],\n",
       "       [13],\n",
       "       [46],\n",
       "       [97],\n",
       "       [95],\n",
       "       [65]])"
      ]
     },
     "execution_count": 26,
     "metadata": {},
     "output_type": "execute_result"
    }
   ],
   "source": [
    "np.reshape(mat1,(-1,1))"
   ]
  },
  {
   "cell_type": "code",
   "execution_count": 28,
   "id": "388b3478",
   "metadata": {},
   "outputs": [
    {
     "data": {
      "text/plain": [
       "array([[88, 13, 61, 10],\n",
       "       [68, 40, 33, 32],\n",
       "       [ 7, 17, 59, 46],\n",
       "       [82, 84, 92, 65]])"
      ]
     },
     "execution_count": 28,
     "metadata": {},
     "output_type": "execute_result"
    }
   ],
   "source": [
    "mat2 = np.array(np.random.randint(1,100, size = (4,4)))\n",
    "mat2"
   ]
  },
  {
   "cell_type": "markdown",
   "id": "88cf9561",
   "metadata": {},
   "source": [
    "In resize when you are resizeing the array it does not created new elements it just choose same elemnts from the original list starting from the a[0,0] and moves so on"
   ]
  },
  {
   "cell_type": "code",
   "execution_count": 29,
   "id": "1ee15dea",
   "metadata": {},
   "outputs": [
    {
     "data": {
      "text/plain": [
       "array([[[88, 13, 61],\n",
       "        [10, 68, 40],\n",
       "        [33, 32,  7],\n",
       "        [17, 59, 46]],\n",
       "\n",
       "       [[82, 84, 92],\n",
       "        [65, 88, 13],\n",
       "        [61, 10, 68],\n",
       "        [40, 33, 32]]])"
      ]
     },
     "execution_count": 29,
     "metadata": {},
     "output_type": "execute_result"
    }
   ],
   "source": [
    "np.resize(mat2,(2,4,3)) "
   ]
  },
  {
   "cell_type": "code",
   "execution_count": 33,
   "id": "45585fe3",
   "metadata": {},
   "outputs": [
    {
     "data": {
      "text/plain": [
       "array([[ 8, 76, 19, 65, 34],\n",
       "       [20, 61, 87, 10, 17],\n",
       "       [77, 72, 40, 83,  5],\n",
       "       [65, 24, 59, 26, 13],\n",
       "       [35, 15, 56, 35, 63]])"
      ]
     },
     "execution_count": 33,
     "metadata": {},
     "output_type": "execute_result"
    }
   ],
   "source": [
    "np.random.seed()\n",
    "mat3=np.random.randint(1,99,size = (5,5))\n",
    "mat3"
   ]
  },
  {
   "cell_type": "code",
   "execution_count": 35,
   "id": "b7a50c97",
   "metadata": {},
   "outputs": [
    {
     "ename": "ValueError",
     "evalue": "cannot resize an array that references or is referenced\nby another array in this way.\nUse the np.resize function or refcheck=False",
     "output_type": "error",
     "traceback": [
      "\u001b[1;31m---------------------------------------------------------------------------\u001b[0m",
      "\u001b[1;31mValueError\u001b[0m                                Traceback (most recent call last)",
      "Input \u001b[1;32mIn [35]\u001b[0m, in \u001b[0;36m<cell line: 2>\u001b[1;34m()\u001b[0m\n\u001b[0;32m      1\u001b[0m s \u001b[38;5;241m=\u001b[39m (\u001b[38;5;241m3\u001b[39m,\u001b[38;5;241m3\u001b[39m,\u001b[38;5;241m4\u001b[39m)\n\u001b[1;32m----> 2\u001b[0m \u001b[43mmat3\u001b[49m\u001b[38;5;241;43m.\u001b[39;49m\u001b[43mresize\u001b[49m\u001b[43m(\u001b[49m\u001b[43ms\u001b[49m\u001b[43m)\u001b[49m\n",
      "\u001b[1;31mValueError\u001b[0m: cannot resize an array that references or is referenced\nby another array in this way.\nUse the np.resize function or refcheck=False"
     ]
    }
   ],
   "source": [
    "s = (3,3,4)\n",
    "mat3.resize(s)"
   ]
  },
  {
   "cell_type": "code",
   "execution_count": 43,
   "id": "8d01a821",
   "metadata": {},
   "outputs": [
    {
     "data": {
      "text/plain": [
       "array([[ 8, 76, 19, 65, 34],\n",
       "       [20, 61, 87, 10, 17],\n",
       "       [77, 72, 40, 83,  5],\n",
       "       [65, 24, 59, 26, 13],\n",
       "       [35, 15, 56, 35, 63]])"
      ]
     },
     "execution_count": 43,
     "metadata": {},
     "output_type": "execute_result"
    }
   ],
   "source": [
    "matrix  = np.array([[ 8, 76, 19, 65, 34],\n",
    "       [20, 61, 87, 10, 17],\n",
    "       [77, 72, 40, 83,  5],\n",
    "       [65, 24, 59, 26, 13],\n",
    "       [35, 15, 56, 35, 63]])\n",
    "matrix"
   ]
  },
  {
   "cell_type": "code",
   "execution_count": 44,
   "id": "40abf296",
   "metadata": {},
   "outputs": [
    {
     "ename": "ValueError",
     "evalue": "cannot resize an array that references or is referenced\nby another array in this way.\nUse the np.resize function or refcheck=False",
     "output_type": "error",
     "traceback": [
      "\u001b[1;31m---------------------------------------------------------------------------\u001b[0m",
      "\u001b[1;31mValueError\u001b[0m                                Traceback (most recent call last)",
      "Input \u001b[1;32mIn [44]\u001b[0m, in \u001b[0;36m<cell line: 1>\u001b[1;34m()\u001b[0m\n\u001b[1;32m----> 1\u001b[0m \u001b[43mmatrix\u001b[49m\u001b[38;5;241;43m.\u001b[39;49m\u001b[43mresize\u001b[49m\u001b[43m(\u001b[49m\u001b[43m(\u001b[49m\u001b[38;5;241;43m3\u001b[39;49m\u001b[43m,\u001b[49m\u001b[38;5;241;43m3\u001b[39;49m\u001b[43m,\u001b[49m\u001b[38;5;241;43m4\u001b[39;49m\u001b[43m)\u001b[49m\u001b[43m)\u001b[49m\n",
      "\u001b[1;31mValueError\u001b[0m: cannot resize an array that references or is referenced\nby another array in this way.\nUse the np.resize function or refcheck=False"
     ]
    }
   ],
   "source": [
    "matrix.resize((3,3,4))"
   ]
  },
  {
   "cell_type": "code",
   "execution_count": 39,
   "id": "770f81fe",
   "metadata": {},
   "outputs": [
    {
     "data": {
      "text/plain": [
       "array([ 8, 76, 19, 65, 34, 20, 61, 87, 10, 17, 77, 72, 40, 83,  5, 65, 24,\n",
       "       59, 26, 13, 35, 15, 56, 35, 63])"
      ]
     },
     "execution_count": 39,
     "metadata": {},
     "output_type": "execute_result"
    }
   ],
   "source": [
    "matrix.flatten()"
   ]
  },
  {
   "cell_type": "code",
   "execution_count": 40,
   "id": "67288dc2",
   "metadata": {},
   "outputs": [
    {
     "ename": "AttributeError",
     "evalue": "module 'numpy' has no attribute 'flatten'",
     "output_type": "error",
     "traceback": [
      "\u001b[1;31m---------------------------------------------------------------------------\u001b[0m",
      "\u001b[1;31mAttributeError\u001b[0m                            Traceback (most recent call last)",
      "Input \u001b[1;32mIn [40]\u001b[0m, in \u001b[0;36m<cell line: 1>\u001b[1;34m()\u001b[0m\n\u001b[1;32m----> 1\u001b[0m \u001b[43mnp\u001b[49m\u001b[38;5;241;43m.\u001b[39;49m\u001b[43mflatten\u001b[49m(matrix)\n",
      "File \u001b[1;32mC:\\ProgramData\\Anaconda3\\lib\\site-packages\\numpy\\__init__.py:313\u001b[0m, in \u001b[0;36m__getattr__\u001b[1;34m(attr)\u001b[0m\n\u001b[0;32m    310\u001b[0m     \u001b[38;5;28;01mfrom\u001b[39;00m \u001b[38;5;21;01m.\u001b[39;00m\u001b[38;5;21;01mtesting\u001b[39;00m \u001b[38;5;28;01mimport\u001b[39;00m Tester\n\u001b[0;32m    311\u001b[0m     \u001b[38;5;28;01mreturn\u001b[39;00m Tester\n\u001b[1;32m--> 313\u001b[0m \u001b[38;5;28;01mraise\u001b[39;00m \u001b[38;5;167;01mAttributeError\u001b[39;00m(\u001b[38;5;124m\"\u001b[39m\u001b[38;5;124mmodule \u001b[39m\u001b[38;5;132;01m{!r}\u001b[39;00m\u001b[38;5;124m has no attribute \u001b[39m\u001b[38;5;124m\"\u001b[39m\n\u001b[0;32m    314\u001b[0m                      \u001b[38;5;124m\"\u001b[39m\u001b[38;5;132;01m{!r}\u001b[39;00m\u001b[38;5;124m\"\u001b[39m\u001b[38;5;241m.\u001b[39mformat(\u001b[38;5;18m__name__\u001b[39m, attr))\n",
      "\u001b[1;31mAttributeError\u001b[0m: module 'numpy' has no attribute 'flatten'"
     ]
    }
   ],
   "source": [
    "np.flatten(matrix)"
   ]
  },
  {
   "cell_type": "code",
   "execution_count": 47,
   "id": "592fb5a9",
   "metadata": {},
   "outputs": [
    {
     "data": {
      "text/plain": [
       "array([[ 8, 76, 19, 65, 34],\n",
       "       [20, 61, 87, 10, 17],\n",
       "       [77, 72, 40, 83,  5],\n",
       "       [65, 24, 59, 26, 13],\n",
       "       [35, 15, 56, 35, 63]])"
      ]
     },
     "execution_count": 47,
     "metadata": {},
     "output_type": "execute_result"
    }
   ],
   "source": [
    "matrix"
   ]
  },
  {
   "cell_type": "code",
   "execution_count": 46,
   "id": "bc5af311",
   "metadata": {},
   "outputs": [
    {
     "data": {
      "text/plain": [
       "array([ 8, 76, 19, 65, 34, 20, 61, 87, 10, 17, 77, 72, 40, 83,  5, 65, 24,\n",
       "       59, 26, 13, 35, 15, 56, 35, 63])"
      ]
     },
     "execution_count": 46,
     "metadata": {},
     "output_type": "execute_result"
    }
   ],
   "source": [
    "matrix.flatten('C') # column wise flattening "
   ]
  },
  {
   "cell_type": "code",
   "execution_count": 49,
   "id": "b1d6e84b",
   "metadata": {},
   "outputs": [
    {
     "data": {
      "text/plain": [
       "array([ 8, 20, 77, 65, 35, 76, 61, 72, 24, 15, 19, 87, 40, 59, 56, 65, 10,\n",
       "       83, 26, 35, 34, 17,  5, 13, 63])"
      ]
     },
     "execution_count": 49,
     "metadata": {},
     "output_type": "execute_result"
    }
   ],
   "source": [
    "matrix.flatten('F') # row wise flattening "
   ]
  },
  {
   "cell_type": "code",
   "execution_count": 57,
   "id": "3108de7b",
   "metadata": {},
   "outputs": [
    {
     "name": "stdout",
     "output_type": "stream",
     "text": [
      "The defined array is \n",
      "[[[33 34 32 37]\n",
      "  [37 11 40 37]]\n",
      "\n",
      " [[14 14 27 23]\n",
      "  [20 40 12 31]]\n",
      "\n",
      " [[37 42 13 42]\n",
      "  [27 33 36 37]]]\n",
      " \n",
      " The shape of the array is (3, 2, 4)\n"
     ]
    }
   ],
   "source": [
    "# 3D Array\n",
    "random_3d_array = np.array(np.random.randint(10,45,(3,2,4)))\n",
    "print(f\"The defined array is \\n{random_3d_array}\")\n",
    "print(f\" \\n The shape of the array is {random_3d_array.shape}\")"
   ]
  },
  {
   "cell_type": "code",
   "execution_count": 59,
   "id": "53f470d2",
   "metadata": {},
   "outputs": [
    {
     "name": "stdout",
     "output_type": "stream",
     "text": [
      "[[[33 14 37]\n",
      "  [37 20 27]]\n",
      "\n",
      " [[34 14 42]\n",
      "  [11 40 33]]\n",
      "\n",
      " [[32 27 13]\n",
      "  [40 12 36]]\n",
      "\n",
      " [[37 23 42]\n",
      "  [37 31 37]]]\n",
      "(4, 2, 3)\n",
      "(3, 2, 4)\n"
     ]
    }
   ],
   "source": [
    "transposed = np.transpose(random_3d_array)\n",
    "print(transposed)\n",
    "print(transposed.shape)\n",
    "print(random_3d_array.shape)"
   ]
  },
  {
   "cell_type": "code",
   "execution_count": 61,
   "id": "5749af0b",
   "metadata": {},
   "outputs": [
    {
     "data": {
      "text/plain": [
       "array([[[38, 39,  1],\n",
       "        [ 8, 44, 41],\n",
       "        [32, 23, 16]],\n",
       "\n",
       "       [[ 5, 26, 48],\n",
       "        [32, 34, 11],\n",
       "        [24, 16, 47]],\n",
       "\n",
       "       [[41, 17, 39],\n",
       "        [49,  2, 44],\n",
       "        [20, 20,  9]]])"
      ]
     },
     "execution_count": 61,
     "metadata": {},
     "output_type": "execute_result"
    }
   ],
   "source": [
    "np.random.seed()\n",
    "mat1 = np.array(np.random.randint(1,50,(3,3,3)))\n",
    "mat1"
   ]
  },
  {
   "cell_type": "markdown",
   "id": "a242355f",
   "metadata": {},
   "source": [
    "# np.insert()"
   ]
  },
  {
   "cell_type": "code",
   "execution_count": 62,
   "id": "9ee690ba",
   "metadata": {},
   "outputs": [
    {
     "data": {
      "text/plain": [
       "array([[[ 38,  39,   1],\n",
       "        [  8,  44,  41],\n",
       "        [ 32,  23,  16]],\n",
       "\n",
       "       [[-99, -99, -99],\n",
       "        [-99, -99, -99],\n",
       "        [-99, -99, -99]],\n",
       "\n",
       "       [[  5,  26,  48],\n",
       "        [ 32,  34,  11],\n",
       "        [ 24,  16,  47]],\n",
       "\n",
       "       [[ 41,  17,  39],\n",
       "        [ 49,   2,  44],\n",
       "        [ 20,  20,   9]]])"
      ]
     },
     "execution_count": 62,
     "metadata": {},
     "output_type": "execute_result"
    }
   ],
   "source": [
    "np.insert(mat1,1,-99,axis = 0)"
   ]
  },
  {
   "cell_type": "code",
   "execution_count": 63,
   "id": "c98cdc1d",
   "metadata": {},
   "outputs": [
    {
     "data": {
      "text/plain": [
       "array([[[ 38,  39,   1],\n",
       "        [-99, -99, -99],\n",
       "        [  8,  44,  41],\n",
       "        [ 32,  23,  16]],\n",
       "\n",
       "       [[  5,  26,  48],\n",
       "        [-99, -99, -99],\n",
       "        [ 32,  34,  11],\n",
       "        [ 24,  16,  47]],\n",
       "\n",
       "       [[ 41,  17,  39],\n",
       "        [-99, -99, -99],\n",
       "        [ 49,   2,  44],\n",
       "        [ 20,  20,   9]]])"
      ]
     },
     "execution_count": 63,
     "metadata": {},
     "output_type": "execute_result"
    }
   ],
   "source": [
    "np.insert(mat1,1,-99,axis = 1)"
   ]
  },
  {
   "cell_type": "code",
   "execution_count": 64,
   "id": "08e16905",
   "metadata": {},
   "outputs": [
    {
     "data": {
      "text/plain": [
       "array([[[38, 99, 39,  1],\n",
       "        [ 8, 99, 44, 41],\n",
       "        [32, 99, 23, 16]],\n",
       "\n",
       "       [[ 5, 99, 26, 48],\n",
       "        [32, 99, 34, 11],\n",
       "        [24, 99, 16, 47]],\n",
       "\n",
       "       [[41, 99, 17, 39],\n",
       "        [49, 99,  2, 44],\n",
       "        [20, 99, 20,  9]]])"
      ]
     },
     "execution_count": 64,
     "metadata": {},
     "output_type": "execute_result"
    }
   ],
   "source": [
    "np.insert(mat1,1,99,axis = 2)"
   ]
  },
  {
   "cell_type": "markdown",
   "id": "780c115a",
   "metadata": {},
   "source": [
    "**So in the np.insert(array,index, value,axis) axis here corrospond to something different, it kind of relates more to the shape of the matrix rather than the conventional idea of axis,lets understand this, we have a 3d matrix whose shape, lets say is (3,4,2) where 3 is the no. of 2d array( no. of 2 matrix), 4 is the no. of row in each matrix and 2 is the no. of column in each matrix, Now when we talk about the np.insert, the axis and shape are corelated,usually we are acoustumed with the concept of having only 2 axis i.e row or col but in this method the  no. of axis is equal to no. of elements in the array.shape so axis = 0 means that at what layer you want the new array  to be added, axis = 1 means at what row (each row in the composition) you want the new values to be added  and  axis = 2 means at what column in the matrix(each column in the compostion) you want the values  to be added we can futher expand this concpet ot 4d,5d,6d and so on...  which will have axis = 4, 5, 6 and so on.....**"
   ]
  },
  {
   "cell_type": "code",
   "execution_count": 65,
   "id": "a8d4360f",
   "metadata": {},
   "outputs": [
    {
     "data": {
      "text/plain": [
       "array([[[38, 39,  1],\n",
       "        [ 8, 44, 41],\n",
       "        [32, 23, 16]],\n",
       "\n",
       "       [[ 5, 26, 48],\n",
       "        [32, 34, 11],\n",
       "        [24, 16, 47]],\n",
       "\n",
       "       [[41, 17, 39],\n",
       "        [49,  2, 44],\n",
       "        [20, 20,  9]]])"
      ]
     },
     "execution_count": 65,
     "metadata": {},
     "output_type": "execute_result"
    }
   ],
   "source": [
    "mat1"
   ]
  },
  {
   "cell_type": "code",
   "execution_count": 68,
   "id": "228864cd",
   "metadata": {},
   "outputs": [
    {
     "data": {
      "text/plain": [
       "array([[[ 1, 38, 39,  1],\n",
       "        [ 2,  8, 44, 41],\n",
       "        [ 3, 32, 23, 16]],\n",
       "\n",
       "       [[ 1,  5, 26, 48],\n",
       "        [ 2, 32, 34, 11],\n",
       "        [ 3, 24, 16, 47]],\n",
       "\n",
       "       [[ 1, 41, 17, 39],\n",
       "        [ 2, 49,  2, 44],\n",
       "        [ 3, 20, 20,  9]]])"
      ]
     },
     "execution_count": 68,
     "metadata": {},
     "output_type": "execute_result"
    }
   ],
   "source": [
    "np.insert(mat1,0,[1,2,3],axis = 2)"
   ]
  },
  {
   "cell_type": "code",
   "execution_count": 73,
   "id": "62b3ca2e",
   "metadata": {},
   "outputs": [
    {
     "data": {
      "text/plain": [
       "array([[[38, 39,  1],\n",
       "        [ 8, 44, 41],\n",
       "        [ 1,  2,  3],\n",
       "        [32, 23, 16]],\n",
       "\n",
       "       [[ 5, 26, 48],\n",
       "        [32, 34, 11],\n",
       "        [ 1,  2,  3],\n",
       "        [24, 16, 47]],\n",
       "\n",
       "       [[41, 17, 39],\n",
       "        [49,  2, 44],\n",
       "        [ 1,  2,  3],\n",
       "        [20, 20,  9]]])"
      ]
     },
     "execution_count": 73,
     "metadata": {},
     "output_type": "execute_result"
    }
   ],
   "source": [
    "np.insert(mat1,2,[1,2,3],axis = 1)"
   ]
  },
  {
   "cell_type": "code",
   "execution_count": 74,
   "id": "73fb85fa",
   "metadata": {},
   "outputs": [
    {
     "ename": "ValueError",
     "evalue": "could not broadcast input array from shape (1,1,2) into shape (3,1,3)",
     "output_type": "error",
     "traceback": [
      "\u001b[1;31m---------------------------------------------------------------------------\u001b[0m",
      "\u001b[1;31mValueError\u001b[0m                                Traceback (most recent call last)",
      "Input \u001b[1;32mIn [74]\u001b[0m, in \u001b[0;36m<cell line: 1>\u001b[1;34m()\u001b[0m\n\u001b[1;32m----> 1\u001b[0m \u001b[43mnp\u001b[49m\u001b[38;5;241;43m.\u001b[39;49m\u001b[43minsert\u001b[49m\u001b[43m(\u001b[49m\u001b[43mmat1\u001b[49m\u001b[43m,\u001b[49m\u001b[38;5;241;43m2\u001b[39;49m\u001b[43m,\u001b[49m\u001b[43m[\u001b[49m\u001b[38;5;241;43m1\u001b[39;49m\u001b[43m,\u001b[49m\u001b[38;5;241;43m2\u001b[39;49m\u001b[43m]\u001b[49m\u001b[43m,\u001b[49m\u001b[43maxis\u001b[49m\u001b[43m \u001b[49m\u001b[38;5;241;43m=\u001b[39;49m\u001b[43m \u001b[49m\u001b[38;5;241;43m1\u001b[39;49m\u001b[43m)\u001b[49m\n",
      "File \u001b[1;32m<__array_function__ internals>:5\u001b[0m, in \u001b[0;36minsert\u001b[1;34m(*args, **kwargs)\u001b[0m\n",
      "File \u001b[1;32mC:\\ProgramData\\Anaconda3\\lib\\site-packages\\numpy\\lib\\function_base.py:4724\u001b[0m, in \u001b[0;36minsert\u001b[1;34m(arr, obj, values, axis)\u001b[0m\n\u001b[0;32m   4722\u001b[0m new[\u001b[38;5;28mtuple\u001b[39m(slobj)] \u001b[38;5;241m=\u001b[39m arr[\u001b[38;5;28mtuple\u001b[39m(slobj)]\n\u001b[0;32m   4723\u001b[0m slobj[axis] \u001b[38;5;241m=\u001b[39m \u001b[38;5;28mslice\u001b[39m(index, index\u001b[38;5;241m+\u001b[39mnumnew)\n\u001b[1;32m-> 4724\u001b[0m new[\u001b[38;5;28mtuple\u001b[39m(slobj)] \u001b[38;5;241m=\u001b[39m values\n\u001b[0;32m   4725\u001b[0m slobj[axis] \u001b[38;5;241m=\u001b[39m \u001b[38;5;28mslice\u001b[39m(index\u001b[38;5;241m+\u001b[39mnumnew, \u001b[38;5;28;01mNone\u001b[39;00m)\n\u001b[0;32m   4726\u001b[0m slobj2 \u001b[38;5;241m=\u001b[39m [\u001b[38;5;28mslice\u001b[39m(\u001b[38;5;28;01mNone\u001b[39;00m)] \u001b[38;5;241m*\u001b[39m ndim\n",
      "\u001b[1;31mValueError\u001b[0m: could not broadcast input array from shape (1,1,2) into shape (3,1,3)"
     ]
    }
   ],
   "source": [
    "np.insert(mat1,2,[1,2],axis = 1)"
   ]
  },
  {
   "cell_type": "code",
   "execution_count": 78,
   "id": "337edb73",
   "metadata": {},
   "outputs": [
    {
     "data": {
      "text/plain": [
       "array([[ 2,  3,  4],\n",
       "       [ 5,  6,  7],\n",
       "       [ 8,  9, 10]])"
      ]
     },
     "execution_count": 78,
     "metadata": {},
     "output_type": "execute_result"
    }
   ],
   "source": [
    "np.arange(2,11).reshape(3,3)"
   ]
  },
  {
   "cell_type": "code",
   "execution_count": 1,
   "id": "9fbb1431",
   "metadata": {},
   "outputs": [],
   "source": [
    "import numpy as np"
   ]
  },
  {
   "cell_type": "code",
   "execution_count": 31,
   "id": "306049ea",
   "metadata": {},
   "outputs": [],
   "source": [
    "array1 = np.random.randint(1,100, size = (4,5))"
   ]
  },
  {
   "cell_type": "code",
   "execution_count": 32,
   "id": "9a22e0dc",
   "metadata": {},
   "outputs": [
    {
     "data": {
      "text/plain": [
       "array([[56, 19, 95, 38, 66],\n",
       "       [21, 38, 28, 25, 77],\n",
       "       [ 9, 16, 55, 54, 50],\n",
       "       [21, 49, 11, 90, 55]])"
      ]
     },
     "execution_count": 32,
     "metadata": {},
     "output_type": "execute_result"
    }
   ],
   "source": [
    "array1 "
   ]
  },
  {
   "cell_type": "code",
   "execution_count": 33,
   "id": "a121dfb2",
   "metadata": {},
   "outputs": [
    {
     "data": {
      "text/plain": [
       "array([[56, 21,  9, 21],\n",
       "       [19, 38, 16, 49],\n",
       "       [95, 28, 55, 11],\n",
       "       [38, 25, 54, 90],\n",
       "       [66, 77, 50, 55]])"
      ]
     },
     "execution_count": 33,
     "metadata": {},
     "output_type": "execute_result"
    }
   ],
   "source": [
    "np.transpose(array1)"
   ]
  },
  {
   "cell_type": "code",
   "execution_count": 34,
   "id": "74e5dd63",
   "metadata": {},
   "outputs": [
    {
     "data": {
      "text/plain": [
       "array([[56, 19, 95, 38, 66],\n",
       "       [21, 38, 28, 25, 77],\n",
       "       [ 9, 16, 55, 54, 50],\n",
       "       [21, 49, 11, 90, 55]])"
      ]
     },
     "execution_count": 34,
     "metadata": {},
     "output_type": "execute_result"
    }
   ],
   "source": [
    "array1"
   ]
  },
  {
   "cell_type": "code",
   "execution_count": 35,
   "id": "64e1cba3",
   "metadata": {},
   "outputs": [
    {
     "data": {
      "text/plain": [
       "array([[56, 21,  9, 21],\n",
       "       [19, 38, 16, 49],\n",
       "       [95, 28, 55, 11],\n",
       "       [38, 25, 54, 90],\n",
       "       [66, 77, 50, 55]])"
      ]
     },
     "execution_count": 35,
     "metadata": {},
     "output_type": "execute_result"
    }
   ],
   "source": [
    "array1.transpose()"
   ]
  },
  {
   "cell_type": "code",
   "execution_count": 36,
   "id": "b92b4886",
   "metadata": {},
   "outputs": [
    {
     "data": {
      "text/plain": [
       "array([[56, 19, 95, 38, 66],\n",
       "       [21, 38, 28, 25, 77],\n",
       "       [ 9, 16, 55, 54, 50],\n",
       "       [21, 49, 11, 90, 55]])"
      ]
     },
     "execution_count": 36,
     "metadata": {},
     "output_type": "execute_result"
    }
   ],
   "source": [
    "array1"
   ]
  },
  {
   "cell_type": "code",
   "execution_count": 37,
   "id": "3431a6db",
   "metadata": {},
   "outputs": [],
   "source": [
    "array2 = np.array(np.random.randint(1,100,size=(2,3,4)))"
   ]
  },
  {
   "cell_type": "code",
   "execution_count": 38,
   "id": "108d7f0b",
   "metadata": {},
   "outputs": [
    {
     "data": {
      "text/plain": [
       "array([[[13, 80, 56, 43],\n",
       "        [28, 43, 94,  3],\n",
       "        [92, 34, 77, 22]],\n",
       "\n",
       "       [[66, 40, 54, 52],\n",
       "        [11, 57, 22, 95],\n",
       "        [27, 84, 43, 26]]])"
      ]
     },
     "execution_count": 38,
     "metadata": {},
     "output_type": "execute_result"
    }
   ],
   "source": [
    "array2"
   ]
  },
  {
   "cell_type": "code",
   "execution_count": 39,
   "id": "aa5d31aa",
   "metadata": {},
   "outputs": [
    {
     "data": {
      "text/plain": [
       "array([[[13, 66],\n",
       "        [28, 11],\n",
       "        [92, 27]],\n",
       "\n",
       "       [[80, 40],\n",
       "        [43, 57],\n",
       "        [34, 84]],\n",
       "\n",
       "       [[56, 54],\n",
       "        [94, 22],\n",
       "        [77, 43]],\n",
       "\n",
       "       [[43, 52],\n",
       "        [ 3, 95],\n",
       "        [22, 26]]])"
      ]
     },
     "execution_count": 39,
     "metadata": {},
     "output_type": "execute_result"
    }
   ],
   "source": [
    "array2.transpose()"
   ]
  },
  {
   "cell_type": "code",
   "execution_count": 40,
   "id": "37b71242",
   "metadata": {},
   "outputs": [
    {
     "data": {
      "text/plain": [
       "array([[56, 19, 95, 38],\n",
       "       [66, 21, 38, 28],\n",
       "       [25, 77,  9, 16],\n",
       "       [55, 54, 50, 21],\n",
       "       [49, 11, 90, 55]])"
      ]
     },
     "execution_count": 40,
     "metadata": {},
     "output_type": "execute_result"
    }
   ],
   "source": [
    "np.reshape(array1,(5,4))"
   ]
  },
  {
   "cell_type": "code",
   "execution_count": 41,
   "id": "c08271a9",
   "metadata": {},
   "outputs": [
    {
     "data": {
      "text/plain": [
       "array([[56, 19, 95, 38, 66],\n",
       "       [21, 38, 28, 25, 77],\n",
       "       [ 9, 16, 55, 54, 50],\n",
       "       [21, 49, 11, 90, 55]])"
      ]
     },
     "execution_count": 41,
     "metadata": {},
     "output_type": "execute_result"
    }
   ],
   "source": [
    "array1"
   ]
  },
  {
   "cell_type": "code",
   "execution_count": 42,
   "id": "b3fc53d5",
   "metadata": {},
   "outputs": [
    {
     "data": {
      "text/plain": [
       "array([[56, 19, 95, 38],\n",
       "       [66, 21, 38, 28],\n",
       "       [25, 77,  9, 16],\n",
       "       [55, 54, 50, 21],\n",
       "       [49, 11, 90, 55]])"
      ]
     },
     "execution_count": 42,
     "metadata": {},
     "output_type": "execute_result"
    }
   ],
   "source": [
    "array1.reshape(5,4)"
   ]
  },
  {
   "cell_type": "code",
   "execution_count": 43,
   "id": "9cc35601",
   "metadata": {},
   "outputs": [
    {
     "data": {
      "text/plain": [
       "array([[56, 19, 95, 38, 66],\n",
       "       [21, 38, 28, 25, 77],\n",
       "       [ 9, 16, 55, 54, 50],\n",
       "       [21, 49, 11, 90, 55]])"
      ]
     },
     "execution_count": 43,
     "metadata": {},
     "output_type": "execute_result"
    }
   ],
   "source": [
    "array1"
   ]
  },
  {
   "cell_type": "code",
   "execution_count": 44,
   "id": "b43ceb5b",
   "metadata": {},
   "outputs": [
    {
     "data": {
      "text/plain": [
       "array([[13, 80, 56, 43],\n",
       "       [28, 43, 94,  3],\n",
       "       [92, 34, 77, 22],\n",
       "       [66, 40, 54, 52],\n",
       "       [11, 57, 22, 95],\n",
       "       [27, 84, 43, 26]])"
      ]
     },
     "execution_count": 44,
     "metadata": {},
     "output_type": "execute_result"
    }
   ],
   "source": [
    "array2.reshape(6,4)"
   ]
  },
  {
   "cell_type": "code",
   "execution_count": 47,
   "id": "2406433a",
   "metadata": {},
   "outputs": [
    {
     "data": {
      "text/plain": [
       "array([[[13, 80, 56],\n",
       "        [43, 28, 43],\n",
       "        [94,  3, 92],\n",
       "        [34, 77, 22]],\n",
       "\n",
       "       [[66, 40, 54],\n",
       "        [52, 11, 57],\n",
       "        [22, 95, 27],\n",
       "        [84, 43, 26]]])"
      ]
     },
     "execution_count": 47,
     "metadata": {},
     "output_type": "execute_result"
    }
   ],
   "source": [
    "np.reshape(array2,(2,4,3))"
   ]
  },
  {
   "cell_type": "code",
   "execution_count": 48,
   "id": "f7515c97",
   "metadata": {},
   "outputs": [
    {
     "data": {
      "text/plain": [
       "array([[56, 19, 95, 38, 66],\n",
       "       [21, 38, 28, 25, 77],\n",
       "       [ 9, 16, 55, 54, 50],\n",
       "       [21, 49, 11, 90, 55]])"
      ]
     },
     "execution_count": 48,
     "metadata": {},
     "output_type": "execute_result"
    }
   ],
   "source": [
    "array1"
   ]
  },
  {
   "cell_type": "code",
   "execution_count": 49,
   "id": "4edede39",
   "metadata": {},
   "outputs": [
    {
     "data": {
      "text/plain": [
       "array([[56, 19, 95, 38, 66],\n",
       "       [21, 38, 28, 25, 77],\n",
       "       [ 9, 16, 55, 54, 50],\n",
       "       [21, 49, 11, 90, 55],\n",
       "       [56, 19, 95, 38, 66]])"
      ]
     },
     "execution_count": 49,
     "metadata": {},
     "output_type": "execute_result"
    }
   ],
   "source": [
    "np.resize(array1,(5,5))"
   ]
  },
  {
   "cell_type": "code",
   "execution_count": 56,
   "id": "15cb52ee",
   "metadata": {},
   "outputs": [
    {
     "data": {
      "text/plain": [
       "array([[56, 19, 95, 38, 66],\n",
       "       [21, 38, 28, 25, 77],\n",
       "       [ 9, 16, 55, 54, 50],\n",
       "       [21, 49, 11, 90, 55]])"
      ]
     },
     "execution_count": 56,
     "metadata": {},
     "output_type": "execute_result"
    }
   ],
   "source": [
    "#array1.resize(6,5)\n",
    "np.resize(array1,(4,5))"
   ]
  },
  {
   "cell_type": "code",
   "execution_count": 57,
   "id": "0bbaacd9",
   "metadata": {},
   "outputs": [
    {
     "data": {
      "text/plain": [
       "array([56, 19, 95, 38, 66, 21, 38, 28, 25, 77,  9, 16, 55, 54, 50, 21, 49,\n",
       "       11, 90, 55])"
      ]
     },
     "execution_count": 57,
     "metadata": {},
     "output_type": "execute_result"
    }
   ],
   "source": [
    "array1.flatten()"
   ]
  },
  {
   "cell_type": "code",
   "execution_count": 58,
   "id": "11a16803",
   "metadata": {},
   "outputs": [
    {
     "data": {
      "text/plain": [
       "array([[56, 19, 95, 38, 66],\n",
       "       [21, 38, 28, 25, 77],\n",
       "       [ 9, 16, 55, 54, 50],\n",
       "       [21, 49, 11, 90, 55]])"
      ]
     },
     "execution_count": 58,
     "metadata": {},
     "output_type": "execute_result"
    }
   ],
   "source": [
    "array1"
   ]
  },
  {
   "cell_type": "code",
   "execution_count": 59,
   "id": "84a505e1",
   "metadata": {},
   "outputs": [
    {
     "ename": "AttributeError",
     "evalue": "module 'numpy' has no attribute 'flatten'",
     "output_type": "error",
     "traceback": [
      "\u001b[1;31m---------------------------------------------------------------------------\u001b[0m",
      "\u001b[1;31mAttributeError\u001b[0m                            Traceback (most recent call last)",
      "Input \u001b[1;32mIn [59]\u001b[0m, in \u001b[0;36m<cell line: 1>\u001b[1;34m()\u001b[0m\n\u001b[1;32m----> 1\u001b[0m \u001b[43mnp\u001b[49m\u001b[38;5;241;43m.\u001b[39;49m\u001b[43mflatten\u001b[49m(array1)\n",
      "File \u001b[1;32mC:\\ProgramData\\Anaconda3\\lib\\site-packages\\numpy\\__init__.py:313\u001b[0m, in \u001b[0;36m__getattr__\u001b[1;34m(attr)\u001b[0m\n\u001b[0;32m    310\u001b[0m     \u001b[38;5;28;01mfrom\u001b[39;00m \u001b[38;5;21;01m.\u001b[39;00m\u001b[38;5;21;01mtesting\u001b[39;00m \u001b[38;5;28;01mimport\u001b[39;00m Tester\n\u001b[0;32m    311\u001b[0m     \u001b[38;5;28;01mreturn\u001b[39;00m Tester\n\u001b[1;32m--> 313\u001b[0m \u001b[38;5;28;01mraise\u001b[39;00m \u001b[38;5;167;01mAttributeError\u001b[39;00m(\u001b[38;5;124m\"\u001b[39m\u001b[38;5;124mmodule \u001b[39m\u001b[38;5;132;01m{!r}\u001b[39;00m\u001b[38;5;124m has no attribute \u001b[39m\u001b[38;5;124m\"\u001b[39m\n\u001b[0;32m    314\u001b[0m                      \u001b[38;5;124m\"\u001b[39m\u001b[38;5;132;01m{!r}\u001b[39;00m\u001b[38;5;124m\"\u001b[39m\u001b[38;5;241m.\u001b[39mformat(\u001b[38;5;18m__name__\u001b[39m, attr))\n",
      "\u001b[1;31mAttributeError\u001b[0m: module 'numpy' has no attribute 'flatten'"
     ]
    }
   ],
   "source": [
    "np.flatten(array1)"
   ]
  },
  {
   "cell_type": "code",
   "execution_count": 60,
   "id": "e7adcf3a",
   "metadata": {},
   "outputs": [
    {
     "data": {
      "text/plain": [
       "array([[56, 19, 95, 38, 66],\n",
       "       [99, 99, 99, 99, 99],\n",
       "       [21, 38, 28, 25, 77],\n",
       "       [ 9, 16, 55, 54, 50],\n",
       "       [21, 49, 11, 90, 55]])"
      ]
     },
     "execution_count": 60,
     "metadata": {},
     "output_type": "execute_result"
    }
   ],
   "source": [
    "np.insert(array1,1,99,axis = 0)"
   ]
  },
  {
   "cell_type": "code",
   "execution_count": 61,
   "id": "3cd9c969",
   "metadata": {},
   "outputs": [
    {
     "data": {
      "text/plain": [
       "array([ 1,  2,  3,  4,  5,  6,  7,  8,  9, 10, 11, 12, 13, 14])"
      ]
     },
     "execution_count": 61,
     "metadata": {},
     "output_type": "execute_result"
    }
   ],
   "source": [
    "array0 = np.arange(1,15)\n",
    "array0"
   ]
  },
  {
   "cell_type": "code",
   "execution_count": 62,
   "id": "74c7d15a",
   "metadata": {},
   "outputs": [
    {
     "data": {
      "text/plain": [
       "array([ 1, 99,  2,  3,  4,  5,  6,  7,  8,  9, 10, 11, 12, 13, 14])"
      ]
     },
     "execution_count": 62,
     "metadata": {},
     "output_type": "execute_result"
    }
   ],
   "source": [
    "np.insert(array0,1,99,axis = 0)"
   ]
  },
  {
   "cell_type": "code",
   "execution_count": 63,
   "id": "66e57cf2",
   "metadata": {},
   "outputs": [
    {
     "data": {
      "text/plain": [
       "array([[[13, 80, 56, 43],\n",
       "        [28, 43, 94,  3],\n",
       "        [92, 34, 77, 22]],\n",
       "\n",
       "       [[66, 40, 54, 52],\n",
       "        [11, 57, 22, 95],\n",
       "        [27, 84, 43, 26]]])"
      ]
     },
     "execution_count": 63,
     "metadata": {},
     "output_type": "execute_result"
    }
   ],
   "source": [
    "array2"
   ]
  },
  {
   "cell_type": "code",
   "execution_count": 65,
   "id": "c897bb80",
   "metadata": {},
   "outputs": [
    {
     "data": {
      "text/plain": [
       "array([[[13, 80, 56, 43],\n",
       "        [28, 43, 94,  3],\n",
       "        [92, 34, 77, 22]],\n",
       "\n",
       "       [[-1, -2, -3, -4],\n",
       "        [-1, -2, -3, -4],\n",
       "        [-1, -2, -3, -4]],\n",
       "\n",
       "       [[66, 40, 54, 52],\n",
       "        [11, 57, 22, 95],\n",
       "        [27, 84, 43, 26]]])"
      ]
     },
     "execution_count": 65,
     "metadata": {},
     "output_type": "execute_result"
    }
   ],
   "source": [
    "np.insert(array2,1,[[-1,-2,-3,-4],[-1,-2,-3,-4],[-1,-2,-3,-4]], axis = 0)"
   ]
  },
  {
   "cell_type": "code",
   "execution_count": 66,
   "id": "9398f484",
   "metadata": {},
   "outputs": [
    {
     "data": {
      "text/plain": [
       "array([[[13, 80, 56, 43],\n",
       "        [28, 43, 94,  3],\n",
       "        [92, 34, 77, 22]],\n",
       "\n",
       "       [[99, 99, 99, 99],\n",
       "        [99, 99, 99, 99],\n",
       "        [99, 99, 99, 99]],\n",
       "\n",
       "       [[66, 40, 54, 52],\n",
       "        [11, 57, 22, 95],\n",
       "        [27, 84, 43, 26]]])"
      ]
     },
     "execution_count": 66,
     "metadata": {},
     "output_type": "execute_result"
    }
   ],
   "source": [
    "np.insert(array2,1,99,axis = 0)"
   ]
  },
  {
   "cell_type": "code",
   "execution_count": 67,
   "id": "a654288b",
   "metadata": {},
   "outputs": [
    {
     "data": {
      "text/plain": [
       "array([[[13, 80,  1, 56, 43],\n",
       "        [28, 43,  2, 94,  3],\n",
       "        [92, 34,  3, 77, 22]],\n",
       "\n",
       "       [[66, 40,  1, 54, 52],\n",
       "        [11, 57,  2, 22, 95],\n",
       "        [27, 84,  3, 43, 26]]])"
      ]
     },
     "execution_count": 67,
     "metadata": {},
     "output_type": "execute_result"
    }
   ],
   "source": [
    "np.insert(array2,2,[1,2,3],axis = 2)"
   ]
  },
  {
   "cell_type": "code",
   "execution_count": 68,
   "id": "7017f728",
   "metadata": {},
   "outputs": [
    {
     "data": {
      "text/plain": [
       "array([[[13, 80, 56, 43],\n",
       "        [28, 43, 94,  3],\n",
       "        [ 6,  5,  4,  5],\n",
       "        [92, 34, 77, 22]],\n",
       "\n",
       "       [[66, 40, 54, 52],\n",
       "        [11, 57, 22, 95],\n",
       "        [ 6,  5,  4,  5],\n",
       "        [27, 84, 43, 26]]])"
      ]
     },
     "execution_count": 68,
     "metadata": {},
     "output_type": "execute_result"
    }
   ],
   "source": [
    "np.insert(array2,2,[6,5,4,5],axis = 1)"
   ]
  },
  {
   "cell_type": "code",
   "execution_count": 74,
   "id": "d0ad88b7",
   "metadata": {},
   "outputs": [
    {
     "data": {
      "text/plain": [
       "array([[56, 19, 95, 38, 66],\n",
       "       [21, 38, 28, 25, 77],\n",
       "       [ 9, 16, 55, 54, 50],\n",
       "       [21, 49, 11, 90, 55]])"
      ]
     },
     "execution_count": 74,
     "metadata": {},
     "output_type": "execute_result"
    }
   ],
   "source": [
    "array1"
   ]
  },
  {
   "cell_type": "code",
   "execution_count": 75,
   "id": "a7c4bd09",
   "metadata": {},
   "outputs": [
    {
     "data": {
      "text/plain": [
       "array([[1, 2, 3, 4, 5]])"
      ]
     },
     "execution_count": 75,
     "metadata": {},
     "output_type": "execute_result"
    }
   ],
   "source": [
    "a = np.array([[1,2,3,4,5]])\n",
    "a"
   ]
  },
  {
   "cell_type": "code",
   "execution_count": 80,
   "id": "5b38d4d0",
   "metadata": {},
   "outputs": [
    {
     "data": {
      "text/plain": [
       "array([[56, 19, 95, 38, 66],\n",
       "       [21, 38, 28, 25, 77],\n",
       "       [ 9, 16, 55, 54, 50],\n",
       "       [21, 49, 11, 90, 55],\n",
       "       [ 1,  2,  3,  4,  5]])"
      ]
     },
     "execution_count": 80,
     "metadata": {},
     "output_type": "execute_result"
    }
   ],
   "source": [
    "np.append(array1,a,axis = 0)"
   ]
  },
  {
   "cell_type": "code",
   "execution_count": 81,
   "id": "3a41aaa6",
   "metadata": {},
   "outputs": [],
   "source": [
    "a = np.array(np.random.randint(1,100,size= (3,4)))"
   ]
  },
  {
   "cell_type": "code",
   "execution_count": 95,
   "id": "0c37757f",
   "metadata": {},
   "outputs": [
    {
     "data": {
      "text/plain": [
       "array([[23, 29, 89, 71],\n",
       "       [96, 72, 14, 92],\n",
       "       [21, 32, 59,  2]])"
      ]
     },
     "execution_count": 95,
     "metadata": {},
     "output_type": "execute_result"
    }
   ],
   "source": [
    "a"
   ]
  },
  {
   "cell_type": "code",
   "execution_count": 97,
   "id": "e44b3299",
   "metadata": {},
   "outputs": [],
   "source": [
    "b = np.array(np.random.randint(1,100,size=(1,4)))"
   ]
  },
  {
   "cell_type": "code",
   "execution_count": 98,
   "id": "585e9b0e",
   "metadata": {},
   "outputs": [
    {
     "data": {
      "text/plain": [
       "array([[54, 59, 37, 80]])"
      ]
     },
     "execution_count": 98,
     "metadata": {},
     "output_type": "execute_result"
    }
   ],
   "source": [
    "b"
   ]
  },
  {
   "cell_type": "code",
   "execution_count": 100,
   "id": "6e7cc304",
   "metadata": {},
   "outputs": [
    {
     "data": {
      "text/plain": [
       "((1, 4), 2)"
      ]
     },
     "execution_count": 100,
     "metadata": {},
     "output_type": "execute_result"
    }
   ],
   "source": [
    "b.shape,b.ndim"
   ]
  },
  {
   "cell_type": "code",
   "execution_count": 91,
   "id": "135ea593",
   "metadata": {},
   "outputs": [
    {
     "data": {
      "text/plain": [
       "array([[23, 29, 89, 71],\n",
       "       [96, 72, 14, 92],\n",
       "       [21, 32, 59,  2],\n",
       "       [39, 63,  2, 96]])"
      ]
     },
     "execution_count": 91,
     "metadata": {},
     "output_type": "execute_result"
    }
   ],
   "source": [
    "np.append(a,b, axis = 0)"
   ]
  },
  {
   "cell_type": "code",
   "execution_count": 103,
   "id": "1a133eb1",
   "metadata": {},
   "outputs": [
    {
     "ename": "ValueError",
     "evalue": "all the input array dimensions for the concatenation axis must match exactly, but along dimension 0, the array at index 0 has size 3 and the array at index 1 has size 1",
     "output_type": "error",
     "traceback": [
      "\u001b[1;31m---------------------------------------------------------------------------\u001b[0m",
      "\u001b[1;31mValueError\u001b[0m                                Traceback (most recent call last)",
      "Input \u001b[1;32mIn [103]\u001b[0m, in \u001b[0;36m<cell line: 1>\u001b[1;34m()\u001b[0m\n\u001b[1;32m----> 1\u001b[0m \u001b[43mnp\u001b[49m\u001b[38;5;241;43m.\u001b[39;49m\u001b[43mappend\u001b[49m\u001b[43m(\u001b[49m\u001b[43ma\u001b[49m\u001b[43m,\u001b[49m\u001b[43mb\u001b[49m\u001b[43m,\u001b[49m\u001b[43maxis\u001b[49m\u001b[43m \u001b[49m\u001b[38;5;241;43m=\u001b[39;49m\u001b[43m \u001b[49m\u001b[38;5;241;43m1\u001b[39;49m\u001b[43m)\u001b[49m\n",
      "File \u001b[1;32m<__array_function__ internals>:5\u001b[0m, in \u001b[0;36mappend\u001b[1;34m(*args, **kwargs)\u001b[0m\n",
      "File \u001b[1;32mC:\\ProgramData\\Anaconda3\\lib\\site-packages\\numpy\\lib\\function_base.py:4817\u001b[0m, in \u001b[0;36mappend\u001b[1;34m(arr, values, axis)\u001b[0m\n\u001b[0;32m   4815\u001b[0m     values \u001b[38;5;241m=\u001b[39m ravel(values)\n\u001b[0;32m   4816\u001b[0m     axis \u001b[38;5;241m=\u001b[39m arr\u001b[38;5;241m.\u001b[39mndim\u001b[38;5;241m-\u001b[39m\u001b[38;5;241m1\u001b[39m\n\u001b[1;32m-> 4817\u001b[0m \u001b[38;5;28;01mreturn\u001b[39;00m \u001b[43mconcatenate\u001b[49m\u001b[43m(\u001b[49m\u001b[43m(\u001b[49m\u001b[43marr\u001b[49m\u001b[43m,\u001b[49m\u001b[43m \u001b[49m\u001b[43mvalues\u001b[49m\u001b[43m)\u001b[49m\u001b[43m,\u001b[49m\u001b[43m \u001b[49m\u001b[43maxis\u001b[49m\u001b[38;5;241;43m=\u001b[39;49m\u001b[43maxis\u001b[49m\u001b[43m)\u001b[49m\n",
      "File \u001b[1;32m<__array_function__ internals>:5\u001b[0m, in \u001b[0;36mconcatenate\u001b[1;34m(*args, **kwargs)\u001b[0m\n",
      "\u001b[1;31mValueError\u001b[0m: all the input array dimensions for the concatenation axis must match exactly, but along dimension 0, the array at index 0 has size 3 and the array at index 1 has size 1"
     ]
    }
   ],
   "source": [
    "np.append(a,b,axis = 1)"
   ]
  },
  {
   "cell_type": "code",
   "execution_count": 105,
   "id": "76d68c4c",
   "metadata": {},
   "outputs": [
    {
     "name": "stdout",
     "output_type": "stream",
     "text": [
      "[[ 8 14 96]\n",
      " [ 1 97 23]]\n",
      "[[15 92 22]\n",
      " [43 64 97]]\n"
     ]
    }
   ],
   "source": [
    "x = np.random.randint(1,100,size = (2,3))\n",
    "y = np.random.randint(1,100,size = (2,3))\n",
    "print(x)\n",
    "print(y)"
   ]
  },
  {
   "cell_type": "code",
   "execution_count": 106,
   "id": "5ac3eb27",
   "metadata": {},
   "outputs": [
    {
     "data": {
      "text/plain": [
       "array([[ 8, 14, 96],\n",
       "       [ 1, 97, 23],\n",
       "       [15, 92, 22],\n",
       "       [43, 64, 97]])"
      ]
     },
     "execution_count": 106,
     "metadata": {},
     "output_type": "execute_result"
    }
   ],
   "source": [
    "np.append(x,y,axis = 0)"
   ]
  },
  {
   "cell_type": "code",
   "execution_count": 107,
   "id": "b32f72e2",
   "metadata": {},
   "outputs": [
    {
     "data": {
      "text/plain": [
       "array([[ 8, 14, 96, 15, 92, 22],\n",
       "       [ 1, 97, 23, 43, 64, 97]])"
      ]
     },
     "execution_count": 107,
     "metadata": {},
     "output_type": "execute_result"
    }
   ],
   "source": [
    "np.append(x,y,axis = 1)"
   ]
  },
  {
   "cell_type": "code",
   "execution_count": 108,
   "id": "9c968050",
   "metadata": {},
   "outputs": [
    {
     "ename": "AttributeError",
     "evalue": "'numpy.ndarray' object has no attribute 'append'",
     "output_type": "error",
     "traceback": [
      "\u001b[1;31m---------------------------------------------------------------------------\u001b[0m",
      "\u001b[1;31mAttributeError\u001b[0m                            Traceback (most recent call last)",
      "Input \u001b[1;32mIn [108]\u001b[0m, in \u001b[0;36m<cell line: 1>\u001b[1;34m()\u001b[0m\n\u001b[1;32m----> 1\u001b[0m \u001b[43mx\u001b[49m\u001b[38;5;241;43m.\u001b[39;49m\u001b[43mappend\u001b[49m(y)\n",
      "\u001b[1;31mAttributeError\u001b[0m: 'numpy.ndarray' object has no attribute 'append'"
     ]
    }
   ],
   "source": [
    "x.append(y)"
   ]
  },
  {
   "cell_type": "code",
   "execution_count": 110,
   "id": "0022658a",
   "metadata": {},
   "outputs": [
    {
     "data": {
      "text/plain": [
       "array([ 8, 14, 96,  1, 97, 23, 50])"
      ]
     },
     "execution_count": 110,
     "metadata": {},
     "output_type": "execute_result"
    }
   ],
   "source": [
    "np.append(x,50)"
   ]
  },
  {
   "cell_type": "code",
   "execution_count": 113,
   "id": "7e751c9a",
   "metadata": {},
   "outputs": [
    {
     "data": {
      "text/plain": [
       "array([[15, 92, 22,  8, 14, 96],\n",
       "       [43, 64, 97,  1, 97, 23]])"
      ]
     },
     "execution_count": 113,
     "metadata": {},
     "output_type": "execute_result"
    }
   ],
   "source": [
    "np.append(y,x,axis = 1)"
   ]
  },
  {
   "cell_type": "code",
   "execution_count": 117,
   "id": "f3c64a65",
   "metadata": {},
   "outputs": [
    {
     "data": {
      "text/plain": [
       "25"
      ]
     },
     "execution_count": 117,
     "metadata": {},
     "output_type": "execute_result"
    }
   ],
   "source": [
    "array = np.array(np.random.randint(1,100,size = (5,5)))\n",
    "array.size"
   ]
  },
  {
   "cell_type": "code",
   "execution_count": 118,
   "id": "031916c6",
   "metadata": {},
   "outputs": [
    {
     "data": {
      "text/plain": [
       "array([53,  4, 91, 11, 38, 80, 15, 91,  6, 27, 66,  7, 23, 41, 67, 27, 76,\n",
       "       51, 14, 92, 25, 28, 38, 69])"
      ]
     },
     "execution_count": 118,
     "metadata": {},
     "output_type": "execute_result"
    }
   ],
   "source": [
    "np.delete(array,1)"
   ]
  },
  {
   "cell_type": "code",
   "execution_count": 119,
   "id": "83ce960d",
   "metadata": {},
   "outputs": [
    {
     "data": {
      "text/plain": [
       "array([[53, 63,  4, 91, 11],\n",
       "       [27, 66,  7, 23, 41],\n",
       "       [67, 27, 76, 51, 14],\n",
       "       [92, 25, 28, 38, 69]])"
      ]
     },
     "execution_count": 119,
     "metadata": {},
     "output_type": "execute_result"
    }
   ],
   "source": [
    "np.delete(array,1,axis = 0)"
   ]
  },
  {
   "cell_type": "code",
   "execution_count": 120,
   "id": "2eecfc15",
   "metadata": {},
   "outputs": [
    {
     "data": {
      "text/plain": [
       "array([[53,  4, 91, 11],\n",
       "       [38, 15, 91,  6],\n",
       "       [27,  7, 23, 41],\n",
       "       [67, 76, 51, 14],\n",
       "       [92, 28, 38, 69]])"
      ]
     },
     "execution_count": 120,
     "metadata": {},
     "output_type": "execute_result"
    }
   ],
   "source": [
    "np.delete(array,1,axis = 1)"
   ]
  },
  {
   "cell_type": "code",
   "execution_count": 122,
   "id": "797c13a4",
   "metadata": {},
   "outputs": [
    {
     "data": {
      "text/plain": [
       "array([53, 63,  4, 91, 11, 38, 80, 15, 91,  6, 27, 66,  7, 23, 41, 67, 27,\n",
       "       76, 51, 14, 92, 25, 28, 38, 69])"
      ]
     },
     "execution_count": 122,
     "metadata": {},
     "output_type": "execute_result"
    }
   ],
   "source": [
    "array.flatten()"
   ]
  },
  {
   "cell_type": "code",
   "execution_count": 123,
   "id": "79bb8487",
   "metadata": {},
   "outputs": [
    {
     "data": {
      "text/plain": [
       "array([53, 38, 27, 67, 92, 63, 80, 66, 27, 25,  4, 15,  7, 76, 28, 91, 91,\n",
       "       23, 51, 38, 11,  6, 41, 14, 69])"
      ]
     },
     "execution_count": 123,
     "metadata": {},
     "output_type": "execute_result"
    }
   ],
   "source": [
    "array.flatten('F')"
   ]
  },
  {
   "cell_type": "code",
   "execution_count": 124,
   "id": "c45179ab",
   "metadata": {},
   "outputs": [
    {
     "data": {
      "text/plain": [
       "array([53, 63,  4, 91, 11, 38, 80, 15, 91,  6, 27, 66,  7, 23, 41, 67, 27,\n",
       "       76, 51, 14, 92, 25, 28, 38, 69])"
      ]
     },
     "execution_count": 124,
     "metadata": {},
     "output_type": "execute_result"
    }
   ],
   "source": [
    "array.flatten('C')"
   ]
  },
  {
   "cell_type": "code",
   "execution_count": 129,
   "id": "d6a71fb3",
   "metadata": {},
   "outputs": [
    {
     "data": {
      "text/plain": [
       "array([ 4,  6,  7, 11, 14, 15, 23, 25, 27, 28, 38, 41, 51, 53, 63, 66, 67,\n",
       "       69, 76, 80, 91, 92])"
      ]
     },
     "execution_count": 129,
     "metadata": {},
     "output_type": "execute_result"
    }
   ],
   "source": [
    "np.unique(array)"
   ]
  },
  {
   "cell_type": "code",
   "execution_count": 130,
   "id": "a25001d4",
   "metadata": {},
   "outputs": [
    {
     "data": {
      "text/plain": [
       "(array([ 4,  6,  7, 11, 14, 15, 23, 25, 27, 28, 38, 41, 51, 53, 63, 66, 67,\n",
       "        69, 76, 80, 91, 92]),\n",
       " array([1, 1, 1, 1, 1, 1, 1, 1, 2, 1, 2, 1, 1, 1, 1, 1, 1, 1, 1, 1, 2, 1],\n",
       "       dtype=int64))"
      ]
     },
     "execution_count": 130,
     "metadata": {},
     "output_type": "execute_result"
    }
   ],
   "source": [
    "np.unique(array,return_counts = True)"
   ]
  },
  {
   "cell_type": "code",
   "execution_count": 131,
   "id": "04d90f17",
   "metadata": {},
   "outputs": [
    {
     "data": {
      "text/plain": [
       "(array([ 4,  6,  7, 11, 14, 15, 23, 25, 27, 28, 38, 41, 51, 53, 63, 66, 67,\n",
       "        69, 76, 80, 91, 92]),\n",
       " array([ 2,  9, 12,  4, 19,  7, 13, 21, 10, 22,  5, 14, 18,  0,  1, 11, 15,\n",
       "        24, 17,  6,  3, 20], dtype=int64),\n",
       " array([1, 1, 1, 1, 1, 1, 1, 1, 2, 1, 2, 1, 1, 1, 1, 1, 1, 1, 1, 1, 2, 1],\n",
       "       dtype=int64))"
      ]
     },
     "execution_count": 131,
     "metadata": {},
     "output_type": "execute_result"
    }
   ],
   "source": [
    "np.unique(array,return_counts = True,return_index = True )"
   ]
  },
  {
   "cell_type": "markdown",
   "id": "af4a0c46",
   "metadata": {},
   "source": [
    "## the return_index returns the index of flattened array "
   ]
  },
  {
   "cell_type": "code",
   "execution_count": 132,
   "id": "4c1f1200",
   "metadata": {},
   "outputs": [
    {
     "name": "stdout",
     "output_type": "stream",
     "text": [
      "[[ 0.17647059 -0.00326797 -0.02287582]\n",
      " [ 0.05882353 -0.13071895  0.08496732]\n",
      " [-0.11764706  0.1503268   0.05228758]]\n"
     ]
    }
   ],
   "source": [
    "# Python program to inverse\n",
    "# a matrix using numpy\n",
    "\n",
    "# Import required package\n",
    "import numpy as np\n",
    "\n",
    "# Taking a 3 * 3 matrix\n",
    "A = np.array([[6, 1, 1],\n",
    "\t\t\t[4, -2, 5],\n",
    "\t\t\t[2, 8, 7]])\n",
    "\n",
    "# Calculating the inverse of the matrix\n",
    "print(np.linalg.inv(A))\n"
   ]
  },
  {
   "cell_type": "code",
   "execution_count": 133,
   "id": "13d6fbc3",
   "metadata": {},
   "outputs": [
    {
     "data": {
      "text/plain": [
       "array([[53, 63,  4, 91, 11],\n",
       "       [38, 80, 15, 91,  6],\n",
       "       [27, 66,  7, 23, 41],\n",
       "       [67, 27, 76, 51, 14],\n",
       "       [92, 25, 28, 38, 69]])"
      ]
     },
     "execution_count": 133,
     "metadata": {},
     "output_type": "execute_result"
    }
   ],
   "source": [
    "array "
   ]
  },
  {
   "cell_type": "code",
   "execution_count": 139,
   "id": "24d358c5",
   "metadata": {},
   "outputs": [
    {
     "ename": "AxisError",
     "evalue": "axis 3 is out of bounds for array of dimension 2",
     "output_type": "error",
     "traceback": [
      "\u001b[1;31m---------------------------------------------------------------------------\u001b[0m",
      "\u001b[1;31mAxisError\u001b[0m                                 Traceback (most recent call last)",
      "Input \u001b[1;32mIn [139]\u001b[0m, in \u001b[0;36m<cell line: 1>\u001b[1;34m()\u001b[0m\n\u001b[1;32m----> 1\u001b[0m \u001b[43mnp\u001b[49m\u001b[38;5;241;43m.\u001b[39;49m\u001b[43msum\u001b[49m\u001b[43m(\u001b[49m\u001b[43marray\u001b[49m\u001b[43m,\u001b[49m\u001b[38;5;241;43m3\u001b[39;49m\u001b[43m)\u001b[49m\n",
      "File \u001b[1;32m<__array_function__ internals>:5\u001b[0m, in \u001b[0;36msum\u001b[1;34m(*args, **kwargs)\u001b[0m\n",
      "File \u001b[1;32mC:\\ProgramData\\Anaconda3\\lib\\site-packages\\numpy\\core\\fromnumeric.py:2259\u001b[0m, in \u001b[0;36msum\u001b[1;34m(a, axis, dtype, out, keepdims, initial, where)\u001b[0m\n\u001b[0;32m   2256\u001b[0m         \u001b[38;5;28;01mreturn\u001b[39;00m out\n\u001b[0;32m   2257\u001b[0m     \u001b[38;5;28;01mreturn\u001b[39;00m res\n\u001b[1;32m-> 2259\u001b[0m \u001b[38;5;28;01mreturn\u001b[39;00m \u001b[43m_wrapreduction\u001b[49m\u001b[43m(\u001b[49m\u001b[43ma\u001b[49m\u001b[43m,\u001b[49m\u001b[43m \u001b[49m\u001b[43mnp\u001b[49m\u001b[38;5;241;43m.\u001b[39;49m\u001b[43madd\u001b[49m\u001b[43m,\u001b[49m\u001b[43m \u001b[49m\u001b[38;5;124;43m'\u001b[39;49m\u001b[38;5;124;43msum\u001b[39;49m\u001b[38;5;124;43m'\u001b[39;49m\u001b[43m,\u001b[49m\u001b[43m \u001b[49m\u001b[43maxis\u001b[49m\u001b[43m,\u001b[49m\u001b[43m \u001b[49m\u001b[43mdtype\u001b[49m\u001b[43m,\u001b[49m\u001b[43m \u001b[49m\u001b[43mout\u001b[49m\u001b[43m,\u001b[49m\u001b[43m \u001b[49m\u001b[43mkeepdims\u001b[49m\u001b[38;5;241;43m=\u001b[39;49m\u001b[43mkeepdims\u001b[49m\u001b[43m,\u001b[49m\n\u001b[0;32m   2260\u001b[0m \u001b[43m                      \u001b[49m\u001b[43minitial\u001b[49m\u001b[38;5;241;43m=\u001b[39;49m\u001b[43minitial\u001b[49m\u001b[43m,\u001b[49m\u001b[43m \u001b[49m\u001b[43mwhere\u001b[49m\u001b[38;5;241;43m=\u001b[39;49m\u001b[43mwhere\u001b[49m\u001b[43m)\u001b[49m\n",
      "File \u001b[1;32mC:\\ProgramData\\Anaconda3\\lib\\site-packages\\numpy\\core\\fromnumeric.py:86\u001b[0m, in \u001b[0;36m_wrapreduction\u001b[1;34m(obj, ufunc, method, axis, dtype, out, **kwargs)\u001b[0m\n\u001b[0;32m     83\u001b[0m         \u001b[38;5;28;01melse\u001b[39;00m:\n\u001b[0;32m     84\u001b[0m             \u001b[38;5;28;01mreturn\u001b[39;00m reduction(axis\u001b[38;5;241m=\u001b[39maxis, out\u001b[38;5;241m=\u001b[39mout, \u001b[38;5;241m*\u001b[39m\u001b[38;5;241m*\u001b[39mpasskwargs)\n\u001b[1;32m---> 86\u001b[0m \u001b[38;5;28;01mreturn\u001b[39;00m ufunc\u001b[38;5;241m.\u001b[39mreduce(obj, axis, dtype, out, \u001b[38;5;241m*\u001b[39m\u001b[38;5;241m*\u001b[39mpasskwargs)\n",
      "\u001b[1;31mAxisError\u001b[0m: axis 3 is out of bounds for array of dimension 2"
     ]
    }
   ],
   "source": [
    "np.sum(array,3)"
   ]
  },
  {
   "cell_type": "code",
   "execution_count": 142,
   "id": "4c2f3ad5",
   "metadata": {},
   "outputs": [
    {
     "data": {
      "text/plain": [
       "array([277, 261, 130, 294, 141])"
      ]
     },
     "execution_count": 142,
     "metadata": {},
     "output_type": "execute_result"
    }
   ],
   "source": [
    "np.sum(array,0)"
   ]
  },
  {
   "cell_type": "code",
   "execution_count": 143,
   "id": "81cdf118",
   "metadata": {},
   "outputs": [
    {
     "data": {
      "text/plain": [
       "array([[53, 63,  4, 91, 11],\n",
       "       [38, 80, 15, 91,  6],\n",
       "       [27, 66,  7, 23, 41],\n",
       "       [67, 27, 76, 51, 14],\n",
       "       [92, 25, 28, 38, 69]])"
      ]
     },
     "execution_count": 143,
     "metadata": {},
     "output_type": "execute_result"
    }
   ],
   "source": [
    "array"
   ]
  },
  {
   "cell_type": "code",
   "execution_count": 145,
   "id": "92321597",
   "metadata": {},
   "outputs": [
    {
     "data": {
      "text/plain": [
       "130"
      ]
     },
     "execution_count": 145,
     "metadata": {},
     "output_type": "execute_result"
    }
   ],
   "source": [
    "np.sum(array[:,2],axis = 0)"
   ]
  },
  {
   "cell_type": "code",
   "execution_count": 147,
   "id": "62986f4e",
   "metadata": {},
   "outputs": [
    {
     "data": {
      "text/plain": [
       "array([277, 261, 130, 294, 141])"
      ]
     },
     "execution_count": 147,
     "metadata": {},
     "output_type": "execute_result"
    }
   ],
   "source": [
    "np.sum(array,axis = 0)"
   ]
  },
  {
   "cell_type": "code",
   "execution_count": 148,
   "id": "ddcb0efc",
   "metadata": {},
   "outputs": [
    {
     "data": {
      "text/plain": [
       "array([44.4, 46. , 32.8, 47. , 50.4])"
      ]
     },
     "execution_count": 148,
     "metadata": {},
     "output_type": "execute_result"
    }
   ],
   "source": [
    "np.average(array,)"
   ]
  },
  {
   "cell_type": "code",
   "execution_count": 3,
   "id": "cc5799a9",
   "metadata": {},
   "outputs": [],
   "source": [
    "array1 = np.array(np.random.randint(1,100,size = (3,3)))\n",
    "array2 = np.array(np.random.randint(1,100,size = (3,3)))"
   ]
  },
  {
   "cell_type": "code",
   "execution_count": 4,
   "id": "b1c03191",
   "metadata": {},
   "outputs": [
    {
     "name": "stdout",
     "output_type": "stream",
     "text": [
      "[[73  8 49]\n",
      " [25 28 38]\n",
      " [83 65 71]]\n",
      "[[74 83 87]\n",
      " [81 59 22]\n",
      " [22 72 33]]\n"
     ]
    }
   ],
   "source": [
    "print(array1)\n",
    "print(array2)"
   ]
  },
  {
   "cell_type": "code",
   "execution_count": 6,
   "id": "5cb43b7f",
   "metadata": {},
   "outputs": [
    {
     "data": {
      "text/plain": [
       "array([[73,  8, 49, 74, 83, 87],\n",
       "       [25, 28, 38, 81, 59, 22],\n",
       "       [83, 65, 71, 22, 72, 33]])"
      ]
     },
     "execution_count": 6,
     "metadata": {},
     "output_type": "execute_result"
    }
   ],
   "source": [
    "np.append(array1,array2,axis = 1)"
   ]
  },
  {
   "cell_type": "code",
   "execution_count": 12,
   "id": "18e22485",
   "metadata": {},
   "outputs": [
    {
     "data": {
      "text/plain": [
       "(array([ 8, 25, 28, 38, 49, 65, 71, 73, 83]),\n",
       " array([1, 3, 4, 5, 2, 7, 8, 0, 6], dtype=int64))"
      ]
     },
     "execution_count": 12,
     "metadata": {},
     "output_type": "execute_result"
    }
   ],
   "source": [
    "np.unique(array1,1)"
   ]
  },
  {
   "cell_type": "code",
   "execution_count": 14,
   "id": "3d4c0554",
   "metadata": {},
   "outputs": [
    {
     "data": {
      "text/plain": [
       "array([[73,  8, 49],\n",
       "       [25, 28, 38],\n",
       "       [83, 65, 71]])"
      ]
     },
     "execution_count": 14,
     "metadata": {},
     "output_type": "execute_result"
    }
   ],
   "source": [
    "array1"
   ]
  },
  {
   "cell_type": "code",
   "execution_count": 15,
   "id": "0d5e70e5",
   "metadata": {},
   "outputs": [
    {
     "data": {
      "text/plain": [
       "array([[74, 83, 87],\n",
       "       [81, 59, 22],\n",
       "       [22, 72, 33]])"
      ]
     },
     "execution_count": 15,
     "metadata": {},
     "output_type": "execute_result"
    }
   ],
   "source": [
    "array2"
   ]
  },
  {
   "cell_type": "code",
   "execution_count": 21,
   "id": "ab3c39c4",
   "metadata": {},
   "outputs": [],
   "source": [
    "array3 = array1.view()"
   ]
  },
  {
   "cell_type": "code",
   "execution_count": 23,
   "id": "94e1e7f1",
   "metadata": {},
   "outputs": [],
   "source": [
    "array3[0,0] = 999"
   ]
  },
  {
   "cell_type": "code",
   "execution_count": 24,
   "id": "e656273c",
   "metadata": {},
   "outputs": [
    {
     "data": {
      "text/plain": [
       "array([[999,   8,  49],\n",
       "       [ 25,  28,  38],\n",
       "       [ 83,  65,  71]])"
      ]
     },
     "execution_count": 24,
     "metadata": {},
     "output_type": "execute_result"
    }
   ],
   "source": [
    "array3"
   ]
  },
  {
   "cell_type": "code",
   "execution_count": 25,
   "id": "862fd5c0",
   "metadata": {},
   "outputs": [
    {
     "data": {
      "text/plain": [
       "array([[999,   8,  49],\n",
       "       [ 25,  28,  38],\n",
       "       [ 83,  65,  71]])"
      ]
     },
     "execution_count": 25,
     "metadata": {},
     "output_type": "execute_result"
    }
   ],
   "source": [
    "array1"
   ]
  },
  {
   "cell_type": "code",
   "execution_count": 26,
   "id": "767efec8",
   "metadata": {},
   "outputs": [],
   "source": [
    "array4 = array2.copy()"
   ]
  },
  {
   "cell_type": "code",
   "execution_count": 27,
   "id": "7d412445",
   "metadata": {},
   "outputs": [
    {
     "data": {
      "text/plain": [
       "(array([[74, 83, 87],\n",
       "        [81, 59, 22],\n",
       "        [22, 72, 33]]),\n",
       " array([[74, 83, 87],\n",
       "        [81, 59, 22],\n",
       "        [22, 72, 33]]))"
      ]
     },
     "execution_count": 27,
     "metadata": {},
     "output_type": "execute_result"
    }
   ],
   "source": [
    "array2,array4"
   ]
  },
  {
   "cell_type": "code",
   "execution_count": 28,
   "id": "c9a4f814",
   "metadata": {},
   "outputs": [],
   "source": [
    "array4[0,0] = 100000"
   ]
  },
  {
   "cell_type": "code",
   "execution_count": 29,
   "id": "82205a93",
   "metadata": {},
   "outputs": [
    {
     "data": {
      "text/plain": [
       "array([[100000,     83,     87],\n",
       "       [    81,     59,     22],\n",
       "       [    22,     72,     33]])"
      ]
     },
     "execution_count": 29,
     "metadata": {},
     "output_type": "execute_result"
    }
   ],
   "source": [
    "array4"
   ]
  },
  {
   "cell_type": "code",
   "execution_count": 30,
   "id": "366773b9",
   "metadata": {},
   "outputs": [
    {
     "data": {
      "text/plain": [
       "array([[74, 83, 87],\n",
       "       [81, 59, 22],\n",
       "       [22, 72, 33]])"
      ]
     },
     "execution_count": 30,
     "metadata": {},
     "output_type": "execute_result"
    }
   ],
   "source": [
    "array2"
   ]
  },
  {
   "cell_type": "code",
   "execution_count": 31,
   "id": "58c132d2",
   "metadata": {},
   "outputs": [
    {
     "data": {
      "text/plain": [
       "array([[999,   8,  49],\n",
       "       [ 25,  28,  38],\n",
       "       [ 83,  65,  71]])"
      ]
     },
     "execution_count": 31,
     "metadata": {},
     "output_type": "execute_result"
    }
   ],
   "source": [
    "array1"
   ]
  },
  {
   "cell_type": "code",
   "execution_count": 43,
   "id": "ba580642",
   "metadata": {},
   "outputs": [],
   "source": [
    "a=np.array([1,2,3]) # try undertanding this with the excel drag anology "
   ]
  },
  {
   "cell_type": "code",
   "execution_count": 44,
   "id": "9b819deb",
   "metadata": {},
   "outputs": [
    {
     "data": {
      "text/plain": [
       "array([[1000,   10,   52],\n",
       "       [  26,   30,   41],\n",
       "       [  84,   67,   74]])"
      ]
     },
     "execution_count": 44,
     "metadata": {},
     "output_type": "execute_result"
    }
   ],
   "source": [
    "array1 + a"
   ]
  },
  {
   "cell_type": "markdown",
   "id": "3dd4db75",
   "metadata": {},
   "source": [
    "# if you have unique elements than it becomes easy for the interpreter to broadcast but it it has non unique elements then it gets confused , the uniqueness is both when it comes to column and rows"
   ]
  },
  {
   "cell_type": "code",
   "execution_count": 46,
   "id": "059f7fe2",
   "metadata": {},
   "outputs": [
    {
     "data": {
      "text/plain": [
       "array([[999,   8,  49],\n",
       "       [ 25,  28,  38],\n",
       "       [ 83,  65,  71]])"
      ]
     },
     "execution_count": 46,
     "metadata": {},
     "output_type": "execute_result"
    }
   ],
   "source": [
    "array1"
   ]
  },
  {
   "cell_type": "code",
   "execution_count": 47,
   "id": "a9a05244",
   "metadata": {},
   "outputs": [
    {
     "data": {
      "text/plain": [
       "array([1056,   91,  219])"
      ]
     },
     "execution_count": 47,
     "metadata": {},
     "output_type": "execute_result"
    }
   ],
   "source": [
    "np.sum(array1,axis = 1)"
   ]
  },
  {
   "cell_type": "code",
   "execution_count": 48,
   "id": "1e64f067",
   "metadata": {},
   "outputs": [
    {
     "data": {
      "text/plain": [
       "array([1107,  101,  158])"
      ]
     },
     "execution_count": 48,
     "metadata": {},
     "output_type": "execute_result"
    }
   ],
   "source": [
    "np.sum(array1,axis = 0)"
   ]
  },
  {
   "cell_type": "code",
   "execution_count": 49,
   "id": "487beefa",
   "metadata": {},
   "outputs": [
    {
     "data": {
      "text/plain": [
       "999"
      ]
     },
     "execution_count": 49,
     "metadata": {},
     "output_type": "execute_result"
    }
   ],
   "source": [
    "np.max(array1)"
   ]
  },
  {
   "cell_type": "code",
   "execution_count": 50,
   "id": "792320af",
   "metadata": {},
   "outputs": [
    {
     "data": {
      "text/plain": [
       "array([999,  65,  71])"
      ]
     },
     "execution_count": 50,
     "metadata": {},
     "output_type": "execute_result"
    }
   ],
   "source": [
    "np.max(array1,axis = 0)"
   ]
  },
  {
   "cell_type": "code",
   "execution_count": 53,
   "id": "81652d1c",
   "metadata": {},
   "outputs": [
    {
     "data": {
      "text/plain": [
       "array([999,  38,  83])"
      ]
     },
     "execution_count": 53,
     "metadata": {},
     "output_type": "execute_result"
    }
   ],
   "source": [
    "np.max(array1,axis = 1)"
   ]
  },
  {
   "cell_type": "code",
   "execution_count": null,
   "id": "6205e2be",
   "metadata": {},
   "outputs": [],
   "source": []
  }
 ],
 "metadata": {
  "kernelspec": {
   "display_name": "Python 3 (ipykernel)",
   "language": "python",
   "name": "python3"
  },
  "language_info": {
   "codemirror_mode": {
    "name": "ipython",
    "version": 3
   },
   "file_extension": ".py",
   "mimetype": "text/x-python",
   "name": "python",
   "nbconvert_exporter": "python",
   "pygments_lexer": "ipython3",
   "version": "3.9.12"
  }
 },
 "nbformat": 4,
 "nbformat_minor": 5
}
