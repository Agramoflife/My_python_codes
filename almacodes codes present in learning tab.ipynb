{
 "cells": [
  {
   "cell_type": "code",
   "execution_count": 1,
   "id": "27798b34",
   "metadata": {},
   "outputs": [
    {
     "name": "stdout",
     "output_type": "stream",
     "text": [
      "3\n",
      "4\n",
      "2\n",
      "3\n",
      "2.5 3.5\n"
     ]
    }
   ],
   "source": [
    "\n",
    "x1 = float(input())\n",
    "y1 = float(input())\n",
    "\n",
    "x2 = float(input())\n",
    "y2 = float(input())\n",
    "\n",
    "midpoint_1 = (x1 +x2)/2\n",
    "midpoint_2 = (y1 +y2)/2\n",
    "print(f'{midpoint_1} {midpoint_2}')"
   ]
  },
  {
   "cell_type": "code",
   "execution_count": 4,
   "id": "e50bd2b1",
   "metadata": {},
   "outputs": [
    {
     "name": "stdout",
     "output_type": "stream",
     "text": [
      "3\n",
      "4\n",
      "49\n"
     ]
    }
   ],
   "source": [
    "x = int(input())\n",
    "y = int(input())\n",
    "z = (x+y)*(x+y)\n",
    "print(z)"
   ]
  },
  {
   "cell_type": "code",
   "execution_count": 7,
   "id": "b2220042",
   "metadata": {},
   "outputs": [
    {
     "name": "stdout",
     "output_type": "stream",
     "text": [
      "30\n",
      "20\n",
      "30 20 20 30\n"
     ]
    }
   ],
   "source": [
    "x = int(input())\n",
    "y = int(input())\n",
    "a = x\n",
    "x=y\n",
    "y=a\n",
    "print(f'{a} {x} {x} {y}')"
   ]
  },
  {
   "cell_type": "markdown",
   "id": "41287e50",
   "metadata": {},
   "source": [
    "## How to print the result in one line "
   ]
  },
  {
   "cell_type": "code",
   "execution_count": 6,
   "id": "2c12dea8",
   "metadata": {},
   "outputs": [
    {
     "name": "stdout",
     "output_type": "stream",
     "text": [
      "4\n",
      "1\n",
      "x: 1 y: 4\n"
     ]
    }
   ],
   "source": [
    "x = int(input())\n",
    "y = int(input())\n",
    "x,y = y,x\n",
    "print('x:',x,'y:',y)"
   ]
  },
  {
   "cell_type": "code",
   "execution_count": 1,
   "id": "134944cc",
   "metadata": {},
   "outputs": [
    {
     "name": "stdout",
     "output_type": "stream",
     "text": [
      "6\n",
      "65\n",
      "Your BMI is 1.81\n"
     ]
    }
   ],
   "source": [
    "height = float(input())\n",
    "weight = float(input())\n",
    "BMI = weight/(height)**2\n",
    "bmi = round(BMI,2)\n",
    "print(f'Your BMI is',bmi)"
   ]
  },
  {
   "cell_type": "code",
   "execution_count": 2,
   "id": "52bcd360",
   "metadata": {},
   "outputs": [
    {
     "name": "stdout",
     "output_type": "stream",
     "text": [
      "10.5247\n",
      "2\n",
      "10.52\n"
     ]
    }
   ],
   "source": [
    "number = float(input())\n",
    "digit = int(input())\n",
    "print(round(number,digit))"
   ]
  },
  {
   "cell_type": "code",
   "execution_count": 7,
   "id": "54b0b9c0",
   "metadata": {},
   "outputs": [
    {
     "name": "stdout",
     "output_type": "stream",
     "text": [
      "Hello Deepu\n"
     ]
    }
   ],
   "source": [
    "print('Hello','Deepu')"
   ]
  },
  {
   "cell_type": "code",
   "execution_count": 12,
   "id": "4a99a728",
   "metadata": {},
   "outputs": [
    {
     "name": "stdout",
     "output_type": "stream",
     "text": [
      "code debug debug code\n"
     ]
    }
   ],
   "source": [
    "x = 'code'\n",
    "y = 'debug'\n",
    "a = x\n",
    "b = y\n",
    "x,y = y,x\n",
    "print(a,b,x,y)"
   ]
  },
  {
   "cell_type": "code",
   "execution_count": 15,
   "id": "3db3d0bf",
   "metadata": {},
   "outputs": [
    {
     "name": "stdout",
     "output_type": "stream",
     "text": [
      "deco\n"
     ]
    }
   ],
   "source": [
    "a = x[:2]+\n",
    "print(a)"
   ]
  },
  {
   "cell_type": "code",
   "execution_count": 33,
   "id": "fe8efe1e",
   "metadata": {},
   "outputs": [
    {
     "name": "stdout",
     "output_type": "stream",
     "text": [
      "1 2 2 3 4 5 6 7 8  9\n",
      "1 2 2 3 4 5 6 7 8 9\n"
     ]
    }
   ],
   "source": [
    "s = str(input())\n",
    "# lis = list(s)\n",
    "lis = s.split()\n",
    "empt = ''\n",
    "for i in lis:\n",
    "    x=(i[0].upper()+i[1:])\n",
    "    empt = empt +' '+ x\n",
    "print(empt.strip())"
   ]
  },
  {
   "cell_type": "code",
   "execution_count": 5,
   "id": "5f10644c",
   "metadata": {},
   "outputs": [
    {
     "name": "stdout",
     "output_type": "stream",
     "text": [
      "code\n",
      "debug\n",
      "dede cobug\n"
     ]
    }
   ],
   "source": [
    "val1 = str(input())\n",
    "val2 = str(input())\n",
    "# print(val2[:2] + val1[-1:-3:-1])\n",
    "print(val2[:2] + val1[2:] + ' ' + val1[:2] + val2[2:])"
   ]
  },
  {
   "cell_type": "code",
   "execution_count": 13,
   "id": "b69e8066",
   "metadata": {},
   "outputs": [
    {
     "name": "stdout",
     "output_type": "stream",
     "text": [
      "Sanjay Kumar Ram\n",
      "4\n",
      "Sanjy Kumar Ram\n"
     ]
    }
   ],
   "source": [
    "val1 = str(input())\n",
    "val2 = int(input())\n",
    "print(val1[:val2]+val1[val2+1:])\n",
    "    "
   ]
  },
  {
   "cell_type": "code",
   "execution_count": 15,
   "id": "369f49e5",
   "metadata": {},
   "outputs": [
    {
     "name": "stdout",
     "output_type": "stream",
     "text": [
      "Sanjay\n",
      "4\n",
      "San\n"
     ]
    }
   ],
   "source": [
    "val1 = str(input())\n",
    "val2 = int(input())\n",
    "print(val1[:val2-1])"
   ]
  },
  {
   "cell_type": "markdown",
   "id": "88dcf3bd",
   "metadata": {},
   "source": [
    "# list code questions"
   ]
  },
  {
   "cell_type": "markdown",
   "id": "419ea0cc",
   "metadata": {},
   "source": [
    "# under code tab in lectures "
   ]
  },
  {
   "cell_type": "code",
   "execution_count": 8,
   "id": "7f4a67ea",
   "metadata": {},
   "outputs": [
    {
     "name": "stdout",
     "output_type": "stream",
     "text": [
      "1,2,3,4\n"
     ]
    },
    {
     "ename": "AttributeError",
     "evalue": "'list' object has no attribute 'split'",
     "output_type": "error",
     "traceback": [
      "\u001b[1;31m---------------------------------------------------------------------------\u001b[0m",
      "\u001b[1;31mAttributeError\u001b[0m                            Traceback (most recent call last)",
      "Input \u001b[1;32mIn [8]\u001b[0m, in \u001b[0;36m<cell line: 2>\u001b[1;34m()\u001b[0m\n\u001b[0;32m      1\u001b[0m val \u001b[38;5;241m=\u001b[39m \u001b[38;5;28mlist\u001b[39m(\u001b[38;5;28minput\u001b[39m())\n\u001b[1;32m----> 2\u001b[0m \u001b[43mval\u001b[49m\u001b[38;5;241;43m.\u001b[39;49m\u001b[43msplit\u001b[49m()\n\u001b[0;32m      3\u001b[0m \u001b[38;5;28mprint\u001b[39m(\u001b[38;5;28mlist\u001b[39m(val))\n",
      "\u001b[1;31mAttributeError\u001b[0m: 'list' object has no attribute 'split'"
     ]
    }
   ],
   "source": [
    "val = list(input())\n",
    "val.split()\n",
    "print(list(val))\n"
   ]
  },
  {
   "cell_type": "code",
   "execution_count": 2,
   "id": "2845569d",
   "metadata": {},
   "outputs": [
    {
     "name": "stdout",
     "output_type": "stream",
     "text": [
      "True\n"
     ]
    }
   ],
   "source": [
    "# find if e is smaller than all the elements in lis\n",
    "lis = [2, 3, 4, 5]\n",
    "e = []\n",
    "for i in lis:\n",
    "    if i > 1:\n",
    "        e.append(True)\n",
    "        #print(e)\n",
    "    else:\n",
    "        #print('False')\n",
    "        e.append('False')\n",
    "        \n",
    "# print(e)\n",
    "if 'False' in e:\n",
    "    print('False')\n",
    "else:\n",
    "    print('True')\n",
    "\n",
    "# a little compressed    \n",
    "# y = []\n",
    "# lis = [6,5,1,4,7]\n",
    "# for i in lis:\n",
    "#     y.append(i>0)\n",
    "# if False in y:\n",
    "#     print(False)\n",
    "# else:\n",
    "#     print(True)"
   ]
  },
  {
   "cell_type": "code",
   "execution_count": 2,
   "id": "66e998b2",
   "metadata": {},
   "outputs": [
    {
     "name": "stdout",
     "output_type": "stream",
     "text": [
      "enter the no. of elements: 1\n",
      "2\n",
      "You list consist of following elements  [2]\n",
      "enter the value to compare 1\n",
      "True\n"
     ]
    }
   ],
   "source": [
    "# same code with step wise user input\n",
    "val = int(input('enter the no. of elements: '))\n",
    "mylist = []\n",
    "for i in range(val):\n",
    "    numb = int(input())\n",
    "    mylist.append(numb)\n",
    "print('You list consist of following elements ',mylist)\n",
    "val1 = int(input('enter the value to compare '))\n",
    "cal_list = []\n",
    "for i in mylist:\n",
    "    cal_list.append(i > val1)\n",
    "if False in cal_list:\n",
    "    print(False)\n",
    "else:\n",
    "    print(True)"
   ]
  },
  {
   "cell_type": "code",
   "execution_count": 43,
   "id": "dd11c60f",
   "metadata": {},
   "outputs": [
    {
     "data": {
      "text/plain": [
       "False"
      ]
     },
     "execution_count": 43,
     "metadata": {},
     "output_type": "execute_result"
    }
   ],
   "source": [
    "lis = [2, 3, 4, 5]\n",
    "min(lis) > 4"
   ]
  },
  {
   "cell_type": "markdown",
   "id": "d35176ce",
   "metadata": {},
   "source": [
    "# Something new than usual"
   ]
  },
  {
   "cell_type": "code",
   "execution_count": 48,
   "id": "098feec7",
   "metadata": {},
   "outputs": [
    {
     "name": "stdout",
     "output_type": "stream",
     "text": [
      "1,2,3,4,5\n",
      "[1, 2, 3, 4, 5]\n"
     ]
    }
   ],
   "source": [
    "# Take input and convert into list\n",
    "val1 = eval(input())\n",
    "print(list(val1))\n"
   ]
  },
  {
   "cell_type": "code",
   "execution_count": 53,
   "id": "e728c71c",
   "metadata": {},
   "outputs": [
    {
     "name": "stdout",
     "output_type": "stream",
     "text": [
      "3\n",
      "1\n",
      "2\n",
      "2\n",
      "[1, 2, 2]\n"
     ]
    }
   ],
   "source": [
    "# take input and convert into list using the for loop \n",
    "lis = []\n",
    "element = int(input())\n",
    "for i in range(0,element):\n",
    "    value = int(input())\n",
    "    lis.append(value)\n",
    "print(lis)    \n",
    "    "
   ]
  },
  {
   "cell_type": "code",
   "execution_count": 51,
   "id": "439a2716",
   "metadata": {},
   "outputs": [
    {
     "name": "stdout",
     "output_type": "stream",
     "text": [
      "1,2,3,4\n",
      "3\n",
      "False\n"
     ]
    }
   ],
   "source": [
    "num = eval(input())\n",
    "n = int(input())\n",
    "print(all(x > n for x in num))\n",
    "# This is basically a combination of list comprehension and all function"
   ]
  },
  {
   "cell_type": "code",
   "execution_count": 54,
   "id": "3bada8bd",
   "metadata": {},
   "outputs": [
    {
     "data": {
      "text/plain": [
       "True"
      ]
     },
     "execution_count": 54,
     "metadata": {},
     "output_type": "execute_result"
    }
   ],
   "source": [
    "x = [1,2,3,4]\n",
    "all(x)"
   ]
  },
  {
   "cell_type": "code",
   "execution_count": 55,
   "id": "193d8c30",
   "metadata": {},
   "outputs": [
    {
     "ename": "SyntaxError",
     "evalue": "invalid syntax (3027583562.py, line 1)",
     "output_type": "error",
     "traceback": [
      "\u001b[1;36m  Input \u001b[1;32mIn [55]\u001b[1;36m\u001b[0m\n\u001b[1;33m    x > n for x in num\u001b[0m\n\u001b[1;37m          ^\u001b[0m\n\u001b[1;31mSyntaxError\u001b[0m\u001b[1;31m:\u001b[0m invalid syntax\n"
     ]
    }
   ],
   "source": [
    "x > n for x in num"
   ]
  },
  {
   "cell_type": "code",
   "execution_count": 58,
   "id": "c2228732",
   "metadata": {},
   "outputs": [
    {
     "name": "stdout",
     "output_type": "stream",
     "text": [
      "[1, 2, 3]\n"
     ]
    }
   ],
   "source": [
    "List = [character for character in [1, 2, 3]]\n",
    "print(List)"
   ]
  },
  {
   "cell_type": "code",
   "execution_count": 59,
   "id": "558c9ab7",
   "metadata": {},
   "outputs": [
    {
     "data": {
      "text/plain": [
       "False"
      ]
     },
     "execution_count": 59,
     "metadata": {},
     "output_type": "execute_result"
    }
   ],
   "source": [
    "x = [1,3,4,5]\n",
    "all(i>2for i in x)"
   ]
  },
  {
   "cell_type": "code",
   "execution_count": 6,
   "id": "f226a7e7",
   "metadata": {},
   "outputs": [
    {
     "name": "stdout",
     "output_type": "stream",
     "text": [
      "1,2,3,4,5\n",
      "0\n",
      "[True, True, True, True, True]\n"
     ]
    }
   ],
   "source": [
    "val = eval(input())\n",
    "value = int(input())\n",
    "lis = (list(val))\n",
    "t=(i> value for i in lis)\n",
    "print(list(t))"
   ]
  },
  {
   "cell_type": "code",
   "execution_count": 13,
   "id": "63a82f14",
   "metadata": {},
   "outputs": [
    {
     "name": "stdout",
     "output_type": "stream",
     "text": [
      "[True, True, True, True, True]\n"
     ]
    }
   ],
   "source": [
    "emp = []\n",
    "lis = [1,2,3,4,5]\n",
    "for i in lis:\n",
    "#     i > 0\n",
    "    emp.append(i>0)\n",
    "print(emp)    "
   ]
  },
  {
   "cell_type": "code",
   "execution_count": 8,
   "id": "7b9df668",
   "metadata": {},
   "outputs": [
    {
     "data": {
      "text/plain": [
       "False"
      ]
     },
     "execution_count": 8,
     "metadata": {},
     "output_type": "execute_result"
    }
   ],
   "source": [
    "1>8"
   ]
  },
  {
   "cell_type": "code",
   "execution_count": 11,
   "id": "6655843a",
   "metadata": {},
   "outputs": [
    {
     "name": "stdout",
     "output_type": "stream",
     "text": [
      "[True, True, True, True, True]\n"
     ]
    }
   ],
   "source": [
    "y=[i > 0 for i in lis]\n",
    "print(y)"
   ]
  },
  {
   "cell_type": "code",
   "execution_count": 16,
   "id": "504a2975",
   "metadata": {},
   "outputs": [
    {
     "name": "stdout",
     "output_type": "stream",
     "text": [
      "3\n",
      "1\n",
      "3\n",
      "5\n",
      "[1, 3, 5]\n"
     ]
    }
   ],
   "source": [
    "# other way to take input \n",
    "your_list = []\n",
    "val = int(input())\n",
    "for i in range(val):\n",
    "    value = int(input())\n",
    "    your_list.append(value)\n",
    "#     print(your_list)   \n",
    "print(your_list)"
   ]
  },
  {
   "cell_type": "code",
   "execution_count": null,
   "id": "8998de2e",
   "metadata": {},
   "outputs": [],
   "source": []
  },
  {
   "cell_type": "code",
   "execution_count": 18,
   "id": "5487869d",
   "metadata": {},
   "outputs": [
    {
     "name": "stdout",
     "output_type": "stream",
     "text": [
      "Red Black\n"
     ]
    }
   ],
   "source": [
    "color_list = [\"Red\",\"Green\",\"White\" ,\"Black\"]\n",
    "print(color_list[0] +' '+ color_list[-1])"
   ]
  },
  {
   "cell_type": "code",
   "execution_count": 9,
   "id": "842f8536",
   "metadata": {},
   "outputs": [
    {
     "name": "stdout",
     "output_type": "stream",
     "text": [
      "Hello deepu!\n"
     ]
    }
   ],
   "source": [
    "y = 'deepu'\n",
    "print(\"Hello %s!\" % y)"
   ]
  },
  {
   "cell_type": "code",
   "execution_count": null,
   "id": "ca16657d",
   "metadata": {},
   "outputs": [],
   "source": [
    "(\"Hey, %s!\" % name)"
   ]
  },
  {
   "cell_type": "code",
   "execution_count": 11,
   "id": "d202eae4",
   "metadata": {},
   "outputs": [
    {
     "name": "stdout",
     "output_type": "stream",
     "text": [
      "Hey,my name deepu is \n"
     ]
    }
   ],
   "source": [
    "print(\"Hey,my name %s is \" % y)"
   ]
  },
  {
   "cell_type": "code",
   "execution_count": 12,
   "id": "b76ada33",
   "metadata": {},
   "outputs": [
    {
     "name": "stdout",
     "output_type": "stream",
     "text": [
      "1,2,5,9\n",
      "1 9\n"
     ]
    }
   ],
   "source": [
    "# your code goes here\n",
    "lst = eval(input())\n",
    "print( \"%s %s\"%(lst[0],lst[-1]))"
   ]
  },
  {
   "cell_type": "code",
   "execution_count": 20,
   "id": "e402f917",
   "metadata": {},
   "outputs": [
    {
     "name": "stdout",
     "output_type": "stream",
     "text": [
      "a b\n"
     ]
    }
   ],
   "source": [
    "x='a'\n",
    "y='b'\n",
    "print(\"%s %s\"%(x,y))"
   ]
  },
  {
   "cell_type": "markdown",
   "id": "cc4d39e9",
   "metadata": {},
   "source": [
    "## %s is basically concat function made obscure % here can be considered as + for your understanding below is the syntax "
   ]
  },
  {
   "cell_type": "code",
   "execution_count": 29,
   "id": "d4380589",
   "metadata": {},
   "outputs": [
    {
     "name": "stdout",
     "output_type": "stream",
     "text": [
      "I prefer to stay single \n"
     ]
    }
   ],
   "source": [
    "a = 'I'\n",
    "b = 'prefer'\n",
    "c = 'to'\n",
    "d = 'stay'\n",
    "e = 'single'\n",
    "\n",
    "print('%s %s %s %s %s '%(a,b,c,d,e))"
   ]
  },
  {
   "cell_type": "code",
   "execution_count": 30,
   "id": "e7dac775",
   "metadata": {},
   "outputs": [
    {
     "name": "stdout",
     "output_type": "stream",
     "text": [
      "I prefer to stay single ['I', 'have']\n"
     ]
    }
   ],
   "source": [
    "a = 'I'\n",
    "b = 'prefer'\n",
    "c = 'to'\n",
    "d = 'stay'\n",
    "e = 'single'\n",
    "f = ['I','have']\n",
    "print('%s %s %s %s %s %s'%(a,b,c,d,e,f))"
   ]
  },
  {
   "cell_type": "code",
   "execution_count": 31,
   "id": "e7de307b",
   "metadata": {},
   "outputs": [
    {
     "name": "stdout",
     "output_type": "stream",
     "text": [
      "always I have been single\n"
     ]
    }
   ],
   "source": [
    "dic = {'str1':'I','str2':'have','str3':'always','str4':'been','str5':'single'} # this is the syntax you can't argue\n",
    "print(\"%(str3)s %(str1)s %(str2)s %(str4)s %(str5)s\" % dic) "
   ]
  },
  {
   "cell_type": "code",
   "execution_count": 32,
   "id": "c5ddea48",
   "metadata": {},
   "outputs": [
    {
     "name": "stdout",
     "output_type": "stream",
     "text": [
      "1,2,3,4,5\n",
      "1 5\n"
     ]
    }
   ],
   "source": [
    "value = eval(input())\n",
    "print(\"%s %s\" %(value[0],value[-1]))"
   ]
  },
  {
   "cell_type": "code",
   "execution_count": null,
   "id": "fd7e7880",
   "metadata": {},
   "outputs": [],
   "source": []
  },
  {
   "cell_type": "code",
   "execution_count": 43,
   "id": "e17a8eba",
   "metadata": {},
   "outputs": [
    {
     "name": "stdout",
     "output_type": "stream",
     "text": [
      "Enter the length of the list10\n",
      "1\n",
      "2\n",
      "3\n",
      "4\n",
      "5\n",
      "6\n",
      "7\n",
      "8\n",
      "9\n",
      "10\n",
      "Enter the steps2\n",
      "[2, 4, 6, 8, 10]\n"
     ]
    }
   ],
   "source": [
    "your_list = []\n",
    "shots = int(input('Enter the length of the list'))\n",
    "for i in range(shots):\n",
    "    value = int(input())\n",
    "    your_list.append(value)\n",
    "steps = int(input('Enter the steps'))    \n",
    "print(your_list[1::steps])    "
   ]
  },
  {
   "cell_type": "code",
   "execution_count": 42,
   "id": "838c6ad4",
   "metadata": {},
   "outputs": [
    {
     "data": {
      "text/plain": [
       "[2, 4, 6, 8, 10]"
      ]
     },
     "execution_count": 42,
     "metadata": {},
     "output_type": "execute_result"
    }
   ],
   "source": [
    "lis = [1,2,3,4,5,6,7,8,9,10]\n",
    "lis[1::2]"
   ]
  },
  {
   "cell_type": "code",
   "execution_count": null,
   "id": "00ff0c72",
   "metadata": {},
   "outputs": [],
   "source": [
    "x = [1,2,3]\n",
    "y = ['red','green','blue']\n",
    "x.extend(y)\n",
    "print(x)"
   ]
  },
  {
   "cell_type": "code",
   "execution_count": 12,
   "id": "81b15951",
   "metadata": {},
   "outputs": [
    {
     "name": "stdout",
     "output_type": "stream",
     "text": [
      "[34, 1, 12]\n"
     ]
    }
   ],
   "source": [
    "# seprating the negative from the positive\n",
    "lis=[34, 1, 0, -23, 12, -88]\n",
    "y=filter(lambda x: x > 0,lis)\n",
    "print(list(y))\n"
   ]
  },
  {
   "cell_type": "code",
   "execution_count": 16,
   "id": "8d715fdc",
   "metadata": {},
   "outputs": [
    {
     "name": "stdout",
     "output_type": "stream",
     "text": [
      "[34, 1, 12]\n"
     ]
    }
   ],
   "source": [
    "# seprating the negative from the positive using for loop\n",
    "y = []\n",
    "for i in lis:\n",
    "    if i > 0:\n",
    "        y.append(i)\n",
    "print(y)    "
   ]
  },
  {
   "cell_type": "markdown",
   "id": "9a6c606b",
   "metadata": {},
   "source": [
    "# Assignements"
   ]
  },
  {
   "cell_type": "code",
   "execution_count": 25,
   "id": "f2066a3f",
   "metadata": {},
   "outputs": [
    {
     "name": "stdout",
     "output_type": "stream",
     "text": [
      "[34, 40, 42, 33, 29, 37, 39]\n"
     ]
    }
   ],
   "source": [
    "temperatures = [34, 40, 29, 33, 42, 37, 39 ]\n",
    "# print(max(temperatures))\n",
    "# print(min(temperatures))\n",
    "temperatures[temperatures.index(max(temperatures))],temperatures[temperatures.index(min(temperatures))] = temperatures[temperatures.index(min(temperatures))],temperatures[temperatures.index(max(temperatures))]\n",
    "print(temperatures)"
   ]
  },
  {
   "cell_type": "code",
   "execution_count": 30,
   "id": "a09bcf40",
   "metadata": {},
   "outputs": [],
   "source": [
    "tech_companies = ['Qualcomm','Google','Apple',['Nvidia','Cisco','Samsung']]\n",
    "x = tech_companies[-1]\n",
    "tech_companies.remove(tech_companies[-1])\n"
   ]
  },
  {
   "cell_type": "code",
   "execution_count": 32,
   "id": "14cf0ad0",
   "metadata": {},
   "outputs": [
    {
     "data": {
      "text/plain": [
       "['Qualcomm', 'Google', 'Apple', 'Nvidia', 'Cisco', 'Samsung']"
      ]
     },
     "execution_count": 32,
     "metadata": {},
     "output_type": "execute_result"
    }
   ],
   "source": [
    "tech_companies + x"
   ]
  },
  {
   "cell_type": "code",
   "execution_count": 34,
   "id": "994b1c37",
   "metadata": {},
   "outputs": [],
   "source": [
    "prod_price_list = [400, 250, 800, 550, 600, 820, 720, 15000, 360,250]"
   ]
  },
  {
   "cell_type": "code",
   "execution_count": 48,
   "id": "bca935c0",
   "metadata": {},
   "outputs": [
    {
     "name": "stdout",
     "output_type": "stream",
     "text": [
      "[0, 1, 2, 3, 4, 5, 6, 7, 8, 9]\n",
      "[0, 1, 2, 3, 4, 5, 6, 7, 8, 9]\n",
      "[0, 1, 2, 3, 4, 5, 6, 7, 8, 9]\n",
      "[0, 1, 2, 3, 4, 5, 6, 7, 8, 9]\n",
      "[0, 1, 2, 3, 4, 5, 6, 7, 8, 9]\n",
      "[0, 1, 2, 3, 4, 5, 6, 7, 8, 9]\n",
      "[0, 1, 2, 3, 4, 5, 6, 7, 8, 9]\n",
      "[0, 1, 2, 3, 4, 5, 6, 7, 8, 9]\n",
      "[0, 1, 2, 3, 4, 5, 6, 7, 8, 9]\n",
      "[0, 1, 2, 3, 4, 5, 6, 7, 8, 9]\n"
     ]
    }
   ],
   "source": [
    "lis = prod_price_list\n",
    "for i in range(len(lis)):\n",
    "    value = lis[i]\n",
    "    j = i\n",
    "    if j > 0 and lis[j-1] > value: # check which statement you have used here \n",
    "        lis[j],lis[j-1] = lis[j-1],lis[j]\n",
    "        j = j-1\n",
    "#     lis[j] = value  \n",
    "    print(lis)        "
   ]
  },
  {
   "cell_type": "code",
   "execution_count": 49,
   "id": "171e5a8a",
   "metadata": {},
   "outputs": [
    {
     "data": {
      "text/plain": [
       "['Mean Absolute Error']"
      ]
     },
     "execution_count": 49,
     "metadata": {},
     "output_type": "execute_result"
    }
   ],
   "source": [
    "loss_function= ['Mean Absolute Error','Mean Squared Error','Huber Loss','Log Loss','Hinge Loss']\n",
    "loss_function[0:-10:-1]\n"
   ]
  },
  {
   "cell_type": "markdown",
   "id": "aa14188c",
   "metadata": {},
   "source": [
    "# questions worngs"
   ]
  },
  {
   "cell_type": "code",
   "execution_count": 52,
   "id": "5c06b38d",
   "metadata": {},
   "outputs": [
    {
     "name": "stdout",
     "output_type": "stream",
     "text": [
      "True\n",
      "False\n"
     ]
    }
   ],
   "source": [
    "word1=\"Apple\"\n",
    "word2=\"Apple\"\n",
    "list1=[1,2,3]\n",
    "list2=[1,2,3]\n",
    "print(word1 is word2) \n",
    "print(list1 is list2)"
   ]
  },
  {
   "cell_type": "code",
   "execution_count": 56,
   "id": "87fd4875",
   "metadata": {},
   "outputs": [
    {
     "name": "stdout",
     "output_type": "stream",
     "text": [
      "[[], [], []]\n"
     ]
    }
   ],
   "source": [
    "a=[[]]*3\n",
    "# a[1].append(7) \n",
    "print(a)\n"
   ]
  },
  {
   "cell_type": "code",
   "execution_count": 58,
   "id": "3a3fbddf",
   "metadata": {},
   "outputs": [
    {
     "name": "stdout",
     "output_type": "stream",
     "text": [
      "[10, 23, 56, [95]]\n"
     ]
    }
   ],
   "source": [
    "a=[10,23,56,[78]]\n",
    "b=list(a) \n",
    "a[3][0]=95\n",
    "a[1]=34\n",
    "print(b)"
   ]
  },
  {
   "cell_type": "code",
   "execution_count": 5,
   "id": "b2720135",
   "metadata": {},
   "outputs": [
    {
     "name": "stdout",
     "output_type": "stream",
     "text": [
      "[10, 23, 56, [78]]\n"
     ]
    }
   ],
   "source": [
    "a=[10,23,56,[78]]\n",
    "b = list(a)\n",
    "print(b)"
   ]
  },
  {
   "cell_type": "code",
   "execution_count": 4,
   "id": "2545e500",
   "metadata": {},
   "outputs": [
    {
     "data": {
      "text/plain": [
       "[10, 34, 56, [78]]"
      ]
     },
     "execution_count": 4,
     "metadata": {},
     "output_type": "execute_result"
    }
   ],
   "source": [
    "a"
   ]
  },
  {
   "cell_type": "code",
   "execution_count": 59,
   "id": "e5d2c225",
   "metadata": {},
   "outputs": [
    {
     "name": "stdout",
     "output_type": "stream",
     "text": [
      "[1, 2, 3, 4]\n"
     ]
    }
   ],
   "source": [
    "lst=[[1,2],[3,4]]\n",
    "print(sum(lst,[]))"
   ]
  },
  {
   "cell_type": "markdown",
   "id": "ec4c0691",
   "metadata": {},
   "source": [
    "# tuple , set, dictonary"
   ]
  },
  {
   "cell_type": "code",
   "execution_count": 2,
   "id": "e896a60e",
   "metadata": {},
   "outputs": [
    {
     "name": "stdout",
     "output_type": "stream",
     "text": [
      "deepu, kumar \n"
     ]
    }
   ],
   "source": [
    "val = input().split(',')"
   ]
  },
  {
   "cell_type": "code",
   "execution_count": 3,
   "id": "7be173c0",
   "metadata": {},
   "outputs": [
    {
     "data": {
      "text/plain": [
       "['deepu ', ' kumar', ' gond']"
      ]
     },
     "execution_count": 3,
     "metadata": {},
     "output_type": "execute_result"
    }
   ],
   "source": [
    "string = 'deepu , kumar, gond'\n",
    "string.split(',')"
   ]
  },
  {
   "cell_type": "code",
   "execution_count": 6,
   "id": "57f445b3",
   "metadata": {},
   "outputs": [
    {
     "data": {
      "text/plain": [
       "['deepu']"
      ]
     },
     "execution_count": 6,
     "metadata": {},
     "output_type": "execute_result"
    }
   ],
   "source": [
    "string = 'deepu'\n",
    "string.split()"
   ]
  },
  {
   "cell_type": "code",
   "execution_count": null,
   "id": "f69c613b",
   "metadata": {},
   "outputs": [],
   "source": []
  },
  {
   "cell_type": "code",
   "execution_count": null,
   "id": "24f6cce4",
   "metadata": {},
   "outputs": [],
   "source": []
  },
  {
   "cell_type": "code",
   "execution_count": null,
   "id": "0c94e093",
   "metadata": {},
   "outputs": [],
   "source": []
  },
  {
   "cell_type": "markdown",
   "id": "b6a90072",
   "metadata": {},
   "source": [
    "# Statement and inentation"
   ]
  },
  {
   "cell_type": "markdown",
   "id": "cf9d5212",
   "metadata": {},
   "source": [
    "### Write a Python program to calculate a dog's age in dog's years. Note: For the first two years, a dog year is equal to 10.5 human years.After that, each dog year equals 4 human years."
   ]
  },
  {
   "cell_type": "code",
   "execution_count": null,
   "id": "8165c894",
   "metadata": {},
   "outputs": [],
   "source": [
    "#my code\n",
    "age_input = int(input())\n",
    "if 0 <= age_input <= 2:\n",
    "    print(age_input*10.5)\n",
    "else:\n",
    "    print(21 + (age_input - 2)* 4)"
   ]
  },
  {
   "cell_type": "code",
   "execution_count": null,
   "id": "a6a66f95",
   "metadata": {},
   "outputs": [],
   "source": [
    "#sol code\n",
    "# your code goes here\n",
    "h_age = int(input())\n",
    "d_age = 0\n",
    "if h_age <= 2 and h_age >= 0:\n",
    "        d_age = h_age * 10.5\n",
    "else:\n",
    "        d_age = 21 + (h_age - 2)*4\n",
    "\n",
    "print(\"Dog's age:\", d_age)"
   ]
  },
  {
   "cell_type": "markdown",
   "id": "769d4111",
   "metadata": {},
   "source": [
    "### Write a Python program to check whether an alphabet is a vowel or consonant."
   ]
  },
  {
   "cell_type": "code",
   "execution_count": null,
   "id": "57ea6a14",
   "metadata": {},
   "outputs": [],
   "source": [
    "#So before going forward lets clear the confusion between \n",
    "x = 'hello'\n",
    "x.split()"
   ]
  },
  {
   "cell_type": "code",
   "execution_count": null,
   "id": "c9b97f9b",
   "metadata": {},
   "outputs": [],
   "source": [
    "x = 'hello'\n",
    "list(x)\n",
    "\n",
    "# These both are two differnt functions"
   ]
  },
  {
   "cell_type": "code",
   "execution_count": null,
   "id": "9ca0cb8e",
   "metadata": {},
   "outputs": [],
   "source": [
    "#my sol\n",
    "val = input()\n",
    "vowels = 'aeiou'\n",
    "lis = list(vowels)\n",
    "if val.lower() in lis: # val.lower will convert the alphabet into lower and check if its in lis\n",
    "    print('Vowel')\n",
    "else:\n",
    "    print('Not a vowel')"
   ]
  },
  {
   "cell_type": "code",
   "execution_count": null,
   "id": "c01a9682",
   "metadata": {},
   "outputs": [],
   "source": [
    "#code sol\n",
    "# your code goes here\n",
    "l = input()\n",
    "\n",
    "if l in ('a', 'e', 'i', 'o', 'u', 'A', 'E', 'I', 'O', 'U'):\n",
    "        print(\"Vowel\")\n",
    "else:\n",
    "        print(\"Consonant\") "
   ]
  },
  {
   "cell_type": "markdown",
   "id": "bc515957",
   "metadata": {},
   "source": [
    "### Write a Python program to convert month name to a number of days. Print 'Wrong month name' for incorrect input. Note: February has 28/29 days."
   ]
  },
  {
   "cell_type": "code",
   "execution_count": null,
   "id": "e4130b0e",
   "metadata": {},
   "outputs": [],
   "source": [
    "val = str(input())\n",
    "lis1 = ['january','march','may','july','august','october','december']\n",
    "lis2 = ['april','june','september','november']\n",
    "if val.lower() in lis1:\n",
    "    print(31)\n",
    "elif val.lower in lis2:\n",
    "    print(30)\n",
    "elif val.lower() == 'feburary':\n",
    "    print('28/29')\n",
    "else:\n",
    "    print('Wrong month name')"
   ]
  },
  {
   "cell_type": "markdown",
   "id": "8dc8fc23",
   "metadata": {},
   "source": [
    "### Write a Python program to check a triangle is equilateral, isosceles or scalene. Note : An equilateral triangle is a triangle in which all three sides are equal. A scalene triangle is a triangle that has three unequal sides. An isosceles triangle is a triangle with (at least) two equal sides."
   ]
  },
  {
   "cell_type": "code",
   "execution_count": null,
   "id": "a7f4252a",
   "metadata": {},
   "outputs": [],
   "source": [
    "#my code\n",
    "val1 = int(input())\n",
    "val2 = int(input())\n",
    "val3 = int(input())\n",
    "if val1 != val2 and val1 != val3:\n",
    "    print('Scalen')\n",
    "elif val1 == val2 == val3:\n",
    "    print('Equaliteral')\n",
    "else:\n",
    "    print('Isoceles')"
   ]
  },
  {
   "cell_type": "code",
   "execution_count": null,
   "id": "0d5236ec",
   "metadata": {},
   "outputs": [],
   "source": [
    "# code sol\n",
    "# your code goes here\n",
    "x = int(input())\n",
    "y = int(input())\n",
    "z = int(input())\n",
    "\n",
    "if x == y == z:\n",
    "        print(\"Equilateral triangle\")\n",
    "elif x==y or y==z or z==x:\n",
    "        print(\"Isosceles triangle\")\n",
    "else:\n",
    "        print(\"Scalene triangle\")"
   ]
  },
  {
   "cell_type": "markdown",
   "id": "cd48a23c",
   "metadata": {},
   "source": [
    "### Write a Python program to find the biggest even number between two numbers inclusive."
   ]
  },
  {
   "cell_type": "code",
   "execution_count": 12,
   "id": "b327e892",
   "metadata": {},
   "outputs": [
    {
     "name": "stdout",
     "output_type": "stream",
     "text": [
      "54\n",
      "09\n",
      "54\n"
     ]
    }
   ],
   "source": [
    "x = int(input())\n",
    "y = int(input())\n",
    "if x > y:\n",
    "    if x % 2 == 0:\n",
    "        print(x)\n",
    "    else:\n",
    "        print(x - 1)\n",
    "elif y % 2 == 0:\n",
    "    print(y)\n",
    "\n",
    "else:\n",
    "    print(y-1)"
   ]
  },
  {
   "cell_type": "code",
   "execution_count": 11,
   "id": "5c59687c",
   "metadata": {},
   "outputs": [
    {
     "name": "stdout",
     "output_type": "stream",
     "text": [
      "56\n"
     ]
    }
   ],
   "source": [
    "x = 21 \n",
    "y = 56\n",
    "if x > y and x%2 == 0:\n",
    "    print(x)\n",
    "elif x>y and x%2 != 0:\n",
    "    print(x-1)\n",
    "else:\n",
    "    print(y)"
   ]
  },
  {
   "cell_type": "code",
   "execution_count": 8,
   "id": "76cfa4a4",
   "metadata": {},
   "outputs": [
    {
     "data": {
      "text/plain": [
       "False"
      ]
     },
     "execution_count": 8,
     "metadata": {},
     "output_type": "execute_result"
    }
   ],
   "source": [
    "x = 1\n",
    "x == 2"
   ]
  },
  {
   "cell_type": "code",
   "execution_count": 20,
   "id": "b6cc6e14",
   "metadata": {},
   "outputs": [
    {
     "name": "stdout",
     "output_type": "stream",
     "text": [
      "4\n",
      "3\n",
      "-1\n",
      "2\n"
     ]
    }
   ],
   "source": [
    "#code solution\n",
    "m = int(input())\n",
    "n = int(input())\n",
    "if m > n or (m == n and m % 2 == 1):\n",
    "    print(\"-1\")\n",
    "if n % 2 == 0: \n",
    "    print(n) \n",
    "else:\n",
    "    print(n - 1)"
   ]
  },
  {
   "cell_type": "code",
   "execution_count": 17,
   "id": "82e9d944",
   "metadata": {},
   "outputs": [
    {
     "name": "stdout",
     "output_type": "stream",
     "text": [
      "87\n",
      "90\n",
      "90\n"
     ]
    }
   ],
   "source": [
    "# my code\n",
    "x = int(input())\n",
    "y = int(input())\n",
    "if x > y:\n",
    "    if x % 2 == 0:\n",
    "        print(x)\n",
    "    else:\n",
    "        print(x-1)\n",
    "elif y > x:\n",
    "    if y % 2 == 0:\n",
    "        print(y)\n",
    "    else:\n",
    "        print(y-1)\n",
    "elif x == y:\n",
    "    if x % 2 == 0:\n",
    "        print(x)\n",
    "    else:\n",
    "        print(x-1)\n"
   ]
  },
  {
   "cell_type": "markdown",
   "id": "8095ee6c",
   "metadata": {},
   "source": [
    "# loops and iteration"
   ]
  },
  {
   "cell_type": "code",
   "execution_count": 3,
   "id": "b71616e6",
   "metadata": {},
   "outputs": [
    {
     "name": "stdout",
     "output_type": "stream",
     "text": [
      "1\n",
      "2\n",
      "3\n",
      "4\n",
      "0\n",
      "[2, 3, 4, 0]\n"
     ]
    }
   ],
   "source": [
    "user_list = []\n",
    "val = int(input()) # started the input to start the while loop once you enter )\n",
    "while val != 0:\n",
    "    val = int(input())\n",
    "    user_list.append(val)\n",
    "print(user_list)    "
   ]
  },
  {
   "cell_type": "code",
   "execution_count": 1,
   "id": "0fa57e39",
   "metadata": {},
   "outputs": [
    {
     "name": "stdout",
     "output_type": "stream",
     "text": [
      "2\n",
      "4\n",
      "8\n",
      "10\n",
      "0\n",
      "[2, 4, 8, 10, 0]\n",
      "Sum is 24.0\n",
      "Average is 6.0\n"
     ]
    }
   ],
   "source": [
    "#code to calculate the sum and average of list of user_input numbers\n",
    "user_list = []\n",
    "val = int(input())\n",
    "while val != 0:\n",
    "    user_list.append(val)\n",
    "    val = int(input())\n",
    "user_list.append(val)\n",
    "print(user_list)\n",
    "print(f'Sum is {float(sum(user_list))}')\n",
    "print(f'Average is {(sum(user_list))/(len(user_list)-1)}')"
   ]
  },
  {
   "cell_type": "code",
   "execution_count": 10,
   "id": "f33b49a5",
   "metadata": {},
   "outputs": [
    {
     "name": "stdout",
     "output_type": "stream",
     "text": [
      "0\n"
     ]
    },
    {
     "ename": "ZeroDivisionError",
     "evalue": "float division by zero",
     "output_type": "error",
     "traceback": [
      "\u001b[1;31m---------------------------------------------------------------------------\u001b[0m",
      "\u001b[1;31mZeroDivisionError\u001b[0m                         Traceback (most recent call last)",
      "Input \u001b[1;32mIn [10]\u001b[0m, in \u001b[0;36m<cell line: 11>\u001b[1;34m()\u001b[0m\n\u001b[0;32m     12\u001b[0m         \u001b[38;5;28mprint\u001b[39m(\u001b[38;5;124m\"\u001b[39m\u001b[38;5;124mInput some numbers\u001b[39m\u001b[38;5;124m\"\u001b[39m)\n\u001b[0;32m     13\u001b[0m \u001b[38;5;28;01melse\u001b[39;00m:\n\u001b[1;32m---> 14\u001b[0m         \u001b[38;5;28mprint\u001b[39m(\u001b[38;5;124m\"\u001b[39m\u001b[38;5;124mAverage and Sum of the above numbers are: \u001b[39m\u001b[38;5;124m\"\u001b[39m, \u001b[38;5;28;43msum\u001b[39;49m\u001b[43m \u001b[49m\u001b[38;5;241;43m/\u001b[39;49m\u001b[43m \u001b[49m\u001b[43m(\u001b[49m\u001b[43mcount\u001b[49m\u001b[38;5;241;43m-\u001b[39;49m\u001b[38;5;241;43m1\u001b[39;49m\u001b[43m)\u001b[49m, \u001b[38;5;28msum\u001b[39m)\n",
      "\u001b[1;31mZeroDivisionError\u001b[0m: float division by zero"
     ]
    }
   ],
   "source": [
    "# code solutions\n",
    "count = 0\n",
    "sum = 0.0\n",
    "number = 1\n",
    "\n",
    "while number != 0:\n",
    "        number = int(input(\"\"))\n",
    "        sum = sum + number\n",
    "        count += 1\n",
    "\n",
    "if count == 0:\n",
    "        print(\"Input some numbers\")\n",
    "else:\n",
    "        print(\"Average and Sum of the above numbers are: \", sum / (count-1), sum)"
   ]
  },
  {
   "cell_type": "markdown",
   "id": "eb71143d",
   "metadata": {},
   "source": [
    "# Note: From next time onwards try not to used list  as it hampers the space time complexity of the code "
   ]
  },
  {
   "cell_type": "code",
   "execution_count": 21,
   "id": "f1f75f25",
   "metadata": {},
   "outputs": [
    {
     "name": "stdout",
     "output_type": "stream",
     "text": [
      "4\n",
      "1\n",
      "22\n",
      "333\n",
      "4444\n"
     ]
    }
   ],
   "source": [
    "# my solution and their solution are same \n",
    "val = int(input())\n",
    "for i in range(1,val+1):\n",
    "    print(str(i)*i)"
   ]
  },
  {
   "cell_type": "code",
   "execution_count": 18,
   "id": "7ea5ebee",
   "metadata": {},
   "outputs": [
    {
     "name": "stdout",
     "output_type": "stream",
     "text": [
      "22\n"
     ]
    }
   ],
   "source": [
    "x = '2'*2\n",
    "print(x)"
   ]
  },
  {
   "cell_type": "code",
   "execution_count": 25,
   "id": "9339e308",
   "metadata": {},
   "outputs": [
    {
     "name": "stdout",
     "output_type": "stream",
     "text": [
      "4\n",
      "1\n",
      "2\n",
      "2 1\n",
      "3\n",
      "3 1\n",
      "3 2\n"
     ]
    }
   ],
   "source": [
    "vala = int(input())\n",
    "for i in range(1,vala):\n",
    "    print(i)\n",
    "    for j in range(1,i):\n",
    "        print(i,j)"
   ]
  },
  {
   "cell_type": "code",
   "execution_count": 28,
   "id": "2dc09781",
   "metadata": {},
   "outputs": [],
   "source": [
    "for i in range(1,1):\n",
    "    print(i)\n",
    "    "
   ]
  },
  {
   "cell_type": "code",
   "execution_count": 29,
   "id": "2789aafb",
   "metadata": {},
   "outputs": [
    {
     "name": "stdout",
     "output_type": "stream",
     "text": [
      "1\n"
     ]
    }
   ],
   "source": [
    "for i in range(1,2):\n",
    "    print(i)"
   ]
  },
  {
   "cell_type": "code",
   "execution_count": 30,
   "id": "1598c2e9",
   "metadata": {},
   "outputs": [
    {
     "name": "stdout",
     "output_type": "stream",
     "text": [
      "7\n",
      "7 x 1 = 7\n",
      "7 x 2 = 14\n",
      "7 x 3 = 21\n",
      "7 x 4 = 28\n",
      "7 x 5 = 35\n",
      "7 x 6 = 42\n",
      "7 x 7 = 49\n",
      "7 x 8 = 56\n",
      "7 x 9 = 63\n",
      "7 x 10 = 70\n"
     ]
    }
   ],
   "source": [
    "n = int(input())\n",
    "for i in range(1,11):\n",
    "  print(n, 'x', i, '=', n*i)"
   ]
  },
  {
   "cell_type": "code",
   "execution_count": 32,
   "id": "a8958f51",
   "metadata": {},
   "outputs": [
    {
     "name": "stdout",
     "output_type": "stream",
     "text": [
      "10\n",
      "10 X 1 10\n",
      "10 X 2 20\n",
      "10 X 3 30\n",
      "10 X 4 40\n",
      "10 X 5 50\n",
      "10 X 6 60\n",
      "10 X 7 70\n",
      "10 X 8 80\n",
      "10 X 9 90\n",
      "10 X 10 100\n"
     ]
    }
   ],
   "source": [
    "val = int(input())\n",
    "for i in range(1,11):\n",
    "    print(val,'X',i,val*i) # print(multiple things in one one)"
   ]
  },
  {
   "cell_type": "code",
   "execution_count": 53,
   "id": "f38840a6",
   "metadata": {},
   "outputs": [
    {
     "name": "stdout",
     "output_type": "stream",
     "text": [
      "2011\n",
      "12\n",
      "31\n",
      "2011 12 31\n",
      "2011 12 1\n"
     ]
    }
   ],
   "source": [
    "year = int(input())\n",
    "month = int(input())\n",
    "day = int(input())\n",
    "print(year,month,day)\n",
    "counter = 0\n",
    "if day == 31:\n",
    "    day = counter\n",
    "    counter += 1\n",
    "    day = counter\n",
    "else:\n",
    "    day += 1\n",
    "\n",
    "if month == 12 and day == 31:\n",
    "    month = counter\n",
    "    counter += 1\n",
    "    month = counter\n",
    "else:\n",
    "    month = month\n",
    "\n",
    "print(year,month,day)    \n"
   ]
  },
  {
   "cell_type": "code",
   "execution_count": 37,
   "id": "f4b0295b",
   "metadata": {},
   "outputs": [
    {
     "ename": "SyntaxError",
     "evalue": "invalid syntax (1061205631.py, line 3)",
     "output_type": "error",
     "traceback": [
      "\u001b[1;36m  Input \u001b[1;32mIn [37]\u001b[1;36m\u001b[0m\n\u001b[1;33m    print(va;)\u001b[0m\n\u001b[1;37m            ^\u001b[0m\n\u001b[1;31mSyntaxError\u001b[0m\u001b[1;31m:\u001b[0m invalid syntax\n"
     ]
    }
   ],
   "source": [
    "val = int(input())\n",
    "val = val + 1\n",
    "print(va;)"
   ]
  },
  {
   "cell_type": "code",
   "execution_count": 47,
   "id": "1550bb04",
   "metadata": {},
   "outputs": [
    {
     "name": "stdout",
     "output_type": "stream",
     "text": [
      "30\n",
      "31\n"
     ]
    }
   ],
   "source": [
    "reset = 0\n",
    "val = int(input())\n",
    "if val == 31:\n",
    "    val = reset\n",
    "    reset += 1\n",
    "    print(reset)\n",
    "else: \n",
    "    val += 1\n",
    "    print(val)\n",
    "\n",
    "    "
   ]
  },
  {
   "cell_type": "code",
   "execution_count": 8,
   "id": "10e6a100",
   "metadata": {},
   "outputs": [
    {
     "name": "stdout",
     "output_type": "stream",
     "text": [
      "12\n",
      "12\n",
      "2022\n",
      "The date you have enter is 12-12-2022\n",
      "Tomorrows date is 12-12-2022\n"
     ]
    }
   ],
   "source": [
    "# taking input form the user\n",
    "day = int(input())\n",
    "month = int(input())\n",
    "year = int(input())\n",
    "\n",
    "#printing the user input \n",
    "print(f'The date you have enter is {day}-{month}-{year}')\n",
    "\n",
    "# assigning the reset\n",
    "reset = 0\n",
    "\n",
    "#logic\n",
    "if 1 <= day <= 30 and 1 <= month <= 11:\n",
    "    day += 1\n",
    "\n",
    "elif day == 31 and 1 <= month <= 11:\n",
    "    day = reset\n",
    "    day += 1\n",
    "    month += 1\n",
    "\n",
    "elif day == 31 and month == 12:\n",
    "    day = reset \n",
    "    day += 1\n",
    "    month = reset \n",
    "    month += 1\n",
    "    year += 1\n",
    "elif day > 31 and month > 12:\n",
    "    print('Please enter correct date')\n",
    "\n",
    "print(f'Tomorrows date is {day}-{month}-{year}')"
   ]
  },
  {
   "cell_type": "code",
   "execution_count": 16,
   "id": "5ec22903",
   "metadata": {},
   "outputs": [
    {
     "name": "stdout",
     "output_type": "stream",
     "text": [
      "2012\n",
      "Leap year\n"
     ]
    }
   ],
   "source": [
    "# code to check if a given year is leap year or not \n",
    "year = int(input())\n",
    "if year % 4 == 0:\n",
    "    if year % 100 == 0:\n",
    "        if year % 400 == 0:\n",
    "            print('Leap year')\n",
    "        else:\n",
    "            print('Not a leap year')\n",
    "    else:\n",
    "        print('Leap year')\n",
    "\n",
    "else:\n",
    "    print('Not a leap year')"
   ]
  },
  {
   "cell_type": "code",
   "execution_count": 2,
   "id": "bb0a185f",
   "metadata": {},
   "outputs": [],
   "source": [
    "def leap_check(year):\n",
    "    '''Tells if the year is leap or not '''\n",
    "    if year % 4 == 0:\n",
    "        if year % 100 == 0:\n",
    "            if year % 400 == 0:\n",
    "                #print('Leap year')\n",
    "                #result = 'Leap_year'\n",
    "                #return result\n",
    "                return True\n",
    "            \n",
    "            else:\n",
    "                #print('Not a leap year')\n",
    "                #result = 'Not Leap_year'\n",
    "                #return result\n",
    "                return False\n",
    "        else:\n",
    "            #print('Leap year')\n",
    "            #result = 'Leap_year'\n",
    "            #return result\n",
    "            return True\n",
    "\n",
    "    else:\n",
    "        #print('Not a leap year')\n",
    "        #result = 'Not Leap_year'\n",
    "        #return result\n",
    "        return False\n",
    "    "
   ]
  },
  {
   "cell_type": "code",
   "execution_count": 24,
   "id": "3ec70c92",
   "metadata": {},
   "outputs": [
    {
     "data": {
      "text/plain": [
       "True"
      ]
     },
     "execution_count": 24,
     "metadata": {},
     "output_type": "execute_result"
    }
   ],
   "source": [
    "leap_check(2000)"
   ]
  },
  {
   "cell_type": "code",
   "execution_count": 17,
   "id": "7bbc55ea",
   "metadata": {
    "scrolled": true
   },
   "outputs": [
    {
     "name": "stdout",
     "output_type": "stream",
     "text": [
      "29\n",
      "02\n",
      "2012\n",
      "The date you have entered is: 29-2-2012\n",
      "Tomorrow's date is 1-3-2012\n"
     ]
    }
   ],
   "source": [
    "# version 2\n",
    "\n",
    "# user date input \n",
    "day = int(input())\n",
    "month = int(input())\n",
    "year = int(input())\n",
    "\n",
    "# print user input \n",
    "print(f'The date you have entered is: {day}-{month}-{year}')\n",
    "\n",
    "\"\"\"Pre-requisite counter reset , 30/31- month check, leap year- check\"\"\"\n",
    "reset = 0\n",
    "month_31= [1,3,5,7,8,10,12]\n",
    "month_30= [4,6,9,11]\n",
    "year_check = leap_check(year)\n",
    "\n",
    "\n",
    "# this code will be executed for not leap year\n",
    "if year_check != True: # checks for leap year\n",
    "    if month in month_30: # checks for 30 days\n",
    "        if 1 <= day <= 29:\n",
    "            day += 1\n",
    "        \n",
    "        elif day == 30:\n",
    "            day = reset\n",
    "            day += 1\n",
    "            month += 1\n",
    "    \n",
    "    elif month in month_31:\n",
    "        if 1 <= day <= 30:\n",
    "            day += 1\n",
    "        \n",
    "        elif day == 31 and month != 12:\n",
    "            day = reset\n",
    "            day += 1\n",
    "            month += 1\n",
    "        \n",
    "        elif day == 31 and month == 12:\n",
    "            day = reset\n",
    "            day += 1\n",
    "            month = reset\n",
    "            month += 1\n",
    "            year +=1\n",
    "    \n",
    "    elif month == 2:\n",
    "        if 1 <= day <= 27:\n",
    "            day += 1\n",
    "        \n",
    "        elif day == 28:\n",
    "            day = reset\n",
    "            day += 1\n",
    "            month += 1\n",
    "else:                                               # same logic is used for leap year code with a bit empasis of day in feb\n",
    "    if month in month_30: # checks for 30 days\n",
    "        if 1 <= day <= 29:\n",
    "            day += 1\n",
    "        \n",
    "        elif day == 30:\n",
    "            day = reset\n",
    "            day += 1\n",
    "            month += 1\n",
    "    \n",
    "    elif month in month_31:\n",
    "        if 1 <= day <= 30:\n",
    "            day += 1\n",
    "        \n",
    "        elif day == 31 and month != 12:\n",
    "            day = reset\n",
    "            day += 1\n",
    "            month += 1\n",
    "        \n",
    "        elif day == 31 and month == 12:\n",
    "            day = reset\n",
    "            day += 1\n",
    "            month = reset\n",
    "            month += 1\n",
    "            year +=1\n",
    "    \n",
    "    elif month == 2:\n",
    "        if 1 <= day <= 28:\n",
    "            day += 1\n",
    "        \n",
    "        elif day == 29:\n",
    "            day = reset\n",
    "            day += 1\n",
    "            month += 1\n",
    "\n",
    "print(f'Tomorrow\\'s date is {day}-{month}-{year}')"
   ]
  },
  {
   "cell_type": "code",
   "execution_count": 19,
   "id": "f042990e",
   "metadata": {},
   "outputs": [
    {
     "name": "stdout",
     "output_type": "stream",
     "text": [
      "2001\n",
      "12\n",
      "31\n",
      "The next date is [yyyy-mm-dd] 2002-1-1.\n"
     ]
    }
   ],
   "source": [
    "# A much better code then mine and exquisitively organised\n",
    "year = int(input())\n",
    "month = int(input())\n",
    "day = int(input())\n",
    "    \n",
    "if (year % 400 == 0):\n",
    "  leap_year = True\n",
    "elif (year % 100 == 0):\n",
    "  leap_year = False\n",
    "elif (year % 4 == 0):\n",
    "  leap_year = True\n",
    "else:\n",
    "  leap_year = False\n",
    "\n",
    "\n",
    "if month in (1, 3, 5, 7, 8, 10, 12):\n",
    "  month_length = 31\n",
    "elif month == 2:\n",
    "  if leap_year:\n",
    "    month_length = 29\n",
    "  else:\n",
    "    month_length = 28\n",
    "else:\n",
    "  month_length = 30\n",
    "\n",
    "if day < month_length:\n",
    "  day += 1\n",
    "else:\n",
    "  day = 1\n",
    "  if month == 12:\n",
    "    month = 1\n",
    "    year += 1\n",
    "  else:\n",
    "    month += 1\n",
    "print (\"The next date is [yyyy-mm-dd] %d-%d-%d.\" % (year, month, day))"
   ]
  },
  {
   "cell_type": "code",
   "execution_count": 32,
   "id": "86d2ec96",
   "metadata": {},
   "outputs": [
    {
     "name": "stdout",
     "output_type": "stream",
     "text": [
      "Hey\n"
     ]
    }
   ],
   "source": [
    "# a complex code to comprehend \n",
    "x = True\n",
    "if x == 1: # I have used truthy falsey logic here\n",
    "    print('Hey')"
   ]
  },
  {
   "cell_type": "code",
   "execution_count": 34,
   "id": "f8885268",
   "metadata": {},
   "outputs": [
    {
     "name": "stdout",
     "output_type": "stream",
     "text": [
      "hey\n"
     ]
    }
   ],
   "source": [
    "# easier version\n",
    "if x == True:\n",
    "    print('hey')"
   ]
  },
  {
   "cell_type": "code",
   "execution_count": 36,
   "id": "d950648a",
   "metadata": {},
   "outputs": [
    {
     "name": "stdout",
     "output_type": "stream",
     "text": [
      "check\n"
     ]
    }
   ],
   "source": [
    "x,y,z  = 1,2,3\n",
    "if x == 1 and y == 2 and z == 3:\n",
    "    print('check')"
   ]
  },
  {
   "cell_type": "code",
   "execution_count": null,
   "id": "68091073",
   "metadata": {},
   "outputs": [],
   "source": [
    "da = int(input())\n",
    "if da ==  31:\n",
    "    print('enter right day')\n",
    "    break\n",
    "else:\n",
    "    pass\n",
    "mo = int(input())\n",
    "if mo > 12:\n",
    "    print('enter right month')\n",
    "    break\n",
    "else:\n",
    "    pass\n",
    "ye = int(input())\n",
    "print(da,mo,ye)"
   ]
  },
  {
   "cell_type": "markdown",
   "id": "873b8a2d",
   "metadata": {},
   "source": [
    "# list comprehension"
   ]
  },
  {
   "cell_type": "code",
   "execution_count": 1,
   "id": "0aa315a8",
   "metadata": {},
   "outputs": [
    {
     "name": "stdout",
     "output_type": "stream",
     "text": [
      "[12, 0, 23, -55, 234, 89, 0, 6, -12]\n"
     ]
    }
   ],
   "source": [
    "#my solutions\n",
    "x = [12, 0, None, 23, None, -55, 234, 89, None, 0, 6, -12]\n",
    "list_comprehension = [i for i in x if i != None]\n",
    "print(list_comprehension)"
   ]
  },
  {
   "cell_type": "code",
   "execution_count": null,
   "id": "777994d1",
   "metadata": {},
   "outputs": [],
   "source": [
    "# given solutions\n",
    "nums = eval(input())\n",
    "result = [x for x in nums if x is not None]\n",
    "print(result)"
   ]
  },
  {
   "cell_type": "code",
   "execution_count": 4,
   "id": "7a01f3fe",
   "metadata": {},
   "outputs": [
    {
     "data": {
      "text/plain": [
       "1"
      ]
     },
     "execution_count": 4,
     "metadata": {},
     "output_type": "execute_result"
    }
   ],
   "source": [
    "lis = [1, None, 5, 4,None, 0, None, None]\n",
    "lis.index(None)"
   ]
  },
  {
   "cell_type": "code",
   "execution_count": 5,
   "id": "e4341394",
   "metadata": {},
   "outputs": [
    {
     "data": {
      "text/plain": [
       "[1, 4, 6, 7]"
      ]
     },
     "execution_count": 5,
     "metadata": {},
     "output_type": "execute_result"
    }
   ],
   "source": [
    "# my solution\n",
    "[i for i in range(len(lis)) if lis[i] == None] "
   ]
  },
  {
   "cell_type": "code",
   "execution_count": 6,
   "id": "b3d583b3",
   "metadata": {},
   "outputs": [],
   "source": [
    "# given solution\n",
    "lst = eval(input())\n",
    "result = [i for i in range(len(lst)) if lst[i] == None]\n",
    "print(result)"
   ]
  },
  {
   "cell_type": "code",
   "execution_count": 7,
   "id": "e1ad4960",
   "metadata": {},
   "outputs": [],
   "source": [
    "mlis = ['red', 'green', 'blue', 'white', 'black', 'orange']\n",
    "\n",
    "ulis = ['white', 'orange']"
   ]
  },
  {
   "cell_type": "code",
   "execution_count": 8,
   "id": "4e0790d8",
   "metadata": {},
   "outputs": [
    {
     "data": {
      "text/plain": [
       "['red', 'green', 'blue', 'black']"
      ]
     },
     "execution_count": 8,
     "metadata": {},
     "output_type": "execute_result"
    }
   ],
   "source": [
    "#my solution\n",
    "[i for i in mlis if i not in ulis]"
   ]
  },
  {
   "cell_type": "code",
   "execution_count": 9,
   "id": "c8283861",
   "metadata": {},
   "outputs": [],
   "source": [
    "# code solution\n",
    "word = eval(input())\n",
    "remove_word = eval(input())\n",
    "lst = [word for word in word if word not in remove_word]\n",
    "print(lst)"
   ]
  },
  {
   "cell_type": "code",
   "execution_count": 28,
   "id": "0270897d",
   "metadata": {},
   "outputs": [],
   "source": [
    "lisy = [\"red\", \"black\", \"white\", \"green\", \"orange\"]\n"
   ]
  },
  {
   "cell_type": "code",
   "execution_count": 16,
   "id": "e98d7835",
   "metadata": {},
   "outputs": [
    {
     "name": "stdout",
     "output_type": "stream",
     "text": [
      "['red', 'white', 'orange']\n"
     ]
    }
   ],
   "source": [
    "for i in lisy:\n",
    "    print(lisy[::2])\n",
    "    break"
   ]
  },
  {
   "cell_type": "code",
   "execution_count": 40,
   "id": "b0b2395c",
   "metadata": {},
   "outputs": [
    {
     "name": "stdout",
     "output_type": "stream",
     "text": [
      "red\n",
      "white\n",
      "orange\n"
     ]
    }
   ],
   "source": [
    "for i in range(0,len(lisy),2):\n",
    "    print(lisy[i])"
   ]
  },
  {
   "cell_type": "code",
   "execution_count": 39,
   "id": "7b64210c",
   "metadata": {},
   "outputs": [
    {
     "name": "stdout",
     "output_type": "stream",
     "text": [
      "['red', 'white', 'orange']\n"
     ]
    }
   ],
   "source": [
    "#my solution\n",
    "lisy = [\"red\", \"black\", \"white\", \"green\", \"orange\"]\n",
    "print([lisy[i] for i in range(0,len(lisy),2)])"
   ]
  },
  {
   "cell_type": "code",
   "execution_count": null,
   "id": "eb17052d",
   "metadata": {},
   "outputs": [],
   "source": [
    "#code solution\n",
    "# this one is good\n",
    "colors = eval(input())\n",
    "result = [item for item in colors[::2]]\n",
    "print(result)"
   ]
  },
  {
   "cell_type": "code",
   "execution_count": 29,
   "id": "f84b5280",
   "metadata": {},
   "outputs": [],
   "source": [
    "list1 = [1,2,3,4,5,6,7,8,9,10]\n",
    "\n",
    "list2 = [2,4,6,8]"
   ]
  },
  {
   "cell_type": "code",
   "execution_count": 41,
   "id": "01c15014",
   "metadata": {},
   "outputs": [
    {
     "data": {
      "text/plain": [
       "[1, 3, 5, 7, 9, 10]"
      ]
     },
     "execution_count": 41,
     "metadata": {},
     "output_type": "execute_result"
    }
   ],
   "source": [
    "#my solution\n",
    "[i for i in list1 if i not in list2]"
   ]
  },
  {
   "cell_type": "code",
   "execution_count": null,
   "id": "3fd08189",
   "metadata": {},
   "outputs": [],
   "source": [
    "# code solution\n",
    "list1 = eval(input())\n",
    "list2 = eval(input())\n",
    "result = [x for x in list1 if x not in list2]\n",
    "print(result)"
   ]
  },
  {
   "cell_type": "markdown",
   "id": "934d59ab",
   "metadata": {},
   "source": [
    "# Function and methods"
   ]
  },
  {
   "cell_type": "code",
   "execution_count": 3,
   "id": "9e90f1d4",
   "metadata": {},
   "outputs": [
    {
     "name": "stdout",
     "output_type": "stream",
     "text": [
      "1,2,3,4,\n",
      "4\n"
     ]
    }
   ],
   "source": [
    "y = eval(input())\n",
    "print(max(y))"
   ]
  },
  {
   "cell_type": "code",
   "execution_count": 4,
   "id": "c47e5c04",
   "metadata": {},
   "outputs": [],
   "source": [
    "def max_fun(lis):\n",
    "    return max(lis)"
   ]
  },
  {
   "cell_type": "code",
   "execution_count": 5,
   "id": "14d17224",
   "metadata": {},
   "outputs": [
    {
     "data": {
      "text/plain": [
       "78"
      ]
     },
     "execution_count": 5,
     "metadata": {},
     "output_type": "execute_result"
    }
   ],
   "source": [
    "lis = [1,5,78]\n",
    "max_fun(lis)"
   ]
  },
  {
   "cell_type": "code",
   "execution_count": 8,
   "id": "86ce6127",
   "metadata": {},
   "outputs": [],
   "source": [
    "def max_two(a,b):\n",
    "    if a>b:\n",
    "        return a\n",
    "    return b"
   ]
  },
  {
   "cell_type": "code",
   "execution_count": 9,
   "id": "6b452c19",
   "metadata": {},
   "outputs": [
    {
     "data": {
      "text/plain": [
       "6"
      ]
     },
     "execution_count": 9,
     "metadata": {},
     "output_type": "execute_result"
    }
   ],
   "source": [
    "max_two(4,6)"
   ]
  },
  {
   "cell_type": "code",
   "execution_count": 10,
   "id": "c4c1a41b",
   "metadata": {},
   "outputs": [],
   "source": [
    "def max_3(a,b,c):\n",
    "    if a>b and a>c:\n",
    "        return a\n",
    "    elif b>a and b>c:\n",
    "        return b\n",
    "    else:\n",
    "        return c"
   ]
  },
  {
   "cell_type": "code",
   "execution_count": 13,
   "id": "b9df3121",
   "metadata": {},
   "outputs": [
    {
     "data": {
      "text/plain": [
       "6"
      ]
     },
     "execution_count": 13,
     "metadata": {},
     "output_type": "execute_result"
    }
   ],
   "source": [
    "max_3()"
   ]
  },
  {
   "cell_type": "code",
   "execution_count": null,
   "id": "cdeccdd4",
   "metadata": {},
   "outputs": [],
   "source": [
    "# how to take input in the function"
   ]
  },
  {
   "cell_type": "code",
   "execution_count": 23,
   "id": "35ef5f75",
   "metadata": {},
   "outputs": [],
   "source": [
    "def max_3i(): # don't set the parameteres \n",
    "    a = int(input()) # ask for parameteres here instead\n",
    "    b = int(input())\n",
    "    c = int(input())\n",
    "    if a>b and a>c: # the logic part which we write normally \n",
    "        return a\n",
    "    elif b>a and b>c:\n",
    "        return b\n",
    "    else:\n",
    "        return c"
   ]
  },
  {
   "cell_type": "code",
   "execution_count": 22,
   "id": "cfcfb321",
   "metadata": {},
   "outputs": [
    {
     "name": "stdout",
     "output_type": "stream",
     "text": [
      "4\n",
      "56\n",
      "7\n"
     ]
    },
    {
     "data": {
      "text/plain": [
       "56"
      ]
     },
     "execution_count": 22,
     "metadata": {},
     "output_type": "execute_result"
    }
   ],
   "source": [
    "max_3i()"
   ]
  },
  {
   "cell_type": "code",
   "execution_count": 24,
   "id": "31cfc36c",
   "metadata": {},
   "outputs": [],
   "source": [
    "def sum_lis(lis):\n",
    "    total = 0\n",
    "    for i in lis:\n",
    "        total = total + i\n",
    "    return total    "
   ]
  },
  {
   "cell_type": "code",
   "execution_count": 25,
   "id": "d6db0bc4",
   "metadata": {},
   "outputs": [
    {
     "data": {
      "text/plain": [
       "10"
      ]
     },
     "execution_count": 25,
     "metadata": {},
     "output_type": "execute_result"
    }
   ],
   "source": [
    "sum_lis([1,2,3,4])"
   ]
  },
  {
   "cell_type": "code",
   "execution_count": 26,
   "id": "e3756398",
   "metadata": {},
   "outputs": [],
   "source": [
    "lis = list(range(10))"
   ]
  },
  {
   "cell_type": "code",
   "execution_count": 27,
   "id": "67599017",
   "metadata": {},
   "outputs": [
    {
     "data": {
      "text/plain": [
       "45"
      ]
     },
     "execution_count": 27,
     "metadata": {},
     "output_type": "execute_result"
    }
   ],
   "source": [
    "sum_lis(lis)"
   ]
  },
  {
   "cell_type": "code",
   "execution_count": 33,
   "id": "de0b7eb2",
   "metadata": {},
   "outputs": [],
   "source": [
    "def multiply(listy):\n",
    "    product = 1\n",
    "    for i in listy:\n",
    "        product *= i # product = product * i \n",
    "    return product     "
   ]
  },
  {
   "cell_type": "code",
   "execution_count": 34,
   "id": "90fc8ac7",
   "metadata": {},
   "outputs": [
    {
     "data": {
      "text/plain": [
       "120"
      ]
     },
     "execution_count": 34,
     "metadata": {},
     "output_type": "execute_result"
    }
   ],
   "source": [
    "multiply(lis)"
   ]
  },
  {
   "cell_type": "code",
   "execution_count": 35,
   "id": "f8a97c1f",
   "metadata": {},
   "outputs": [
    {
     "data": {
      "text/plain": [
       "120"
      ]
     },
     "execution_count": 35,
     "metadata": {},
     "output_type": "execute_result"
    }
   ],
   "source": [
    "lis = [1,2,3,4,5]\n",
    "multiply(lis)"
   ]
  },
  {
   "cell_type": "code",
   "execution_count": 36,
   "id": "245efb51",
   "metadata": {},
   "outputs": [
    {
     "name": "stdout",
     "output_type": "stream",
     "text": [
      "1,2,3,4,5\n",
      "120\n"
     ]
    }
   ],
   "source": [
    "user_list = eval(input())\n",
    "print(multiply(user_list))"
   ]
  },
  {
   "cell_type": "code",
   "execution_count": 37,
   "id": "a3377a68",
   "metadata": {},
   "outputs": [],
   "source": [
    "def reverse_string(string):\n",
    "    return string[::-1]"
   ]
  },
  {
   "cell_type": "code",
   "execution_count": 38,
   "id": "b7f74da0",
   "metadata": {},
   "outputs": [
    {
     "name": "stdout",
     "output_type": "stream",
     "text": [
      "deepu\n",
      "upeed\n"
     ]
    }
   ],
   "source": [
    "user_string = str(input())\n",
    "print(reverse_string(user_string))"
   ]
  },
  {
   "cell_type": "code",
   "execution_count": 40,
   "id": "23efac0f",
   "metadata": {},
   "outputs": [
    {
     "name": "stdout",
     "output_type": "stream",
     "text": [
      "ramuK upeeD\n"
     ]
    }
   ],
   "source": [
    "x = 'Deepu Kumar'\n",
    "reversed_string = ''\n",
    "y = len(x)-1\n",
    "while y >= 0:\n",
    "    reversed_string = reversed_string + x[y]\n",
    "    y = y - 1\n",
    "print(reversed_string)    \n",
    "    "
   ]
  },
  {
   "cell_type": "code",
   "execution_count": 54,
   "id": "21a3e988",
   "metadata": {},
   "outputs": [],
   "source": [
    "def reverse_while(string):\n",
    "    reversed_string = ''\n",
    "    index = len(string) - 1\n",
    "    while index >= 0:\n",
    "        reversed_string += string[index]\n",
    "        index -= 1\n",
    "    return reversed_string    "
   ]
  },
  {
   "cell_type": "code",
   "execution_count": 57,
   "id": "2be5b7fd",
   "metadata": {},
   "outputs": [
    {
     "name": "stdout",
     "output_type": "stream",
     "text": [
      "The quick brown fox jumps over the lazy dog\n",
      "god yzal eht revo spmuj xof nworb kciuq ehT\n"
     ]
    }
   ],
   "source": [
    "user_string = str(input())\n",
    "print(reverse_while(user_string))"
   ]
  },
  {
   "cell_type": "code",
   "execution_count": 51,
   "id": "6feb4fbb",
   "metadata": {},
   "outputs": [
    {
     "data": {
      "text/plain": [
       "''"
      ]
     },
     "execution_count": 51,
     "metadata": {},
     "output_type": "execute_result"
    }
   ],
   "source": [
    "reverse_while('deepu kumar')"
   ]
  },
  {
   "cell_type": "code",
   "execution_count": 67,
   "id": "69c35e8f",
   "metadata": {},
   "outputs": [
    {
     "name": "stdout",
     "output_type": "stream",
     "text": [
      "god yzal eht revo spmuj xof nworb kciuq ehT\n"
     ]
    }
   ],
   "source": [
    "string = 'The quick brown fox jumps over the lazy dog'\n",
    "string_reversed = ''\n",
    "for i in range(1,len(string)+1):\n",
    "    index = -1*i\n",
    "    string_reversed=string_reversed + string[index] \n",
    "    #print(i)\n",
    "print(string_reversed)    "
   ]
  },
  {
   "cell_type": "code",
   "execution_count": 68,
   "id": "aab164b3",
   "metadata": {},
   "outputs": [],
   "source": [
    "def reverse_for(string):\n",
    "    string_reversed = ''\n",
    "    for i in range(1,len(string)+1):\n",
    "        index = -1*i\n",
    "        string_reversed = string_reversed + string[index]\n",
    "    return string_reversed        "
   ]
  },
  {
   "cell_type": "code",
   "execution_count": 69,
   "id": "41e2105d",
   "metadata": {},
   "outputs": [
    {
     "data": {
      "text/plain": [
       "'upeed'"
      ]
     },
     "execution_count": 69,
     "metadata": {},
     "output_type": "execute_result"
    }
   ],
   "source": [
    "reverse_for('deepu')"
   ]
  },
  {
   "cell_type": "code",
   "execution_count": 90,
   "id": "81b5bf37",
   "metadata": {},
   "outputs": [
    {
     "name": "stdout",
     "output_type": "stream",
     "text": [
      "4\n",
      "24\n"
     ]
    }
   ],
   "source": [
    "val = int(input())\n",
    "factorial = 1\n",
    "if val>0:\n",
    "    for i in range(1,val+1):\n",
    "        factorial *= i\n",
    "    print(factorial)\n",
    "elif val == 0:\n",
    "    print('enter a non zero number')\n",
    "else:\n",
    "    print('enter a positive number')"
   ]
  },
  {
   "cell_type": "code",
   "execution_count": 95,
   "id": "5b5eb57c",
   "metadata": {},
   "outputs": [],
   "source": [
    "def factorial_numb(val):\n",
    "    factorial = 1\n",
    "    if val>0:\n",
    "        for i in range(1,val+1):\n",
    "            factorial *= i\n",
    "        return factorial\n",
    "    elif val == 0:\n",
    "        result = 'enter a non zero number'\n",
    "        return result\n",
    "    else:\n",
    "        result = 'enter a positive number'\n",
    "        return result"
   ]
  },
  {
   "cell_type": "code",
   "execution_count": 100,
   "id": "ed0a9eb4",
   "metadata": {},
   "outputs": [
    {
     "name": "stdout",
     "output_type": "stream",
     "text": [
      "10\n",
      "3628800\n"
     ]
    }
   ],
   "source": [
    "user_input = int(input())\n",
    "print(factorial_numb(user_input))"
   ]
  },
  {
   "cell_type": "code",
   "execution_count": null,
   "id": "de44d85d",
   "metadata": {},
   "outputs": [],
   "source": []
  },
  {
   "cell_type": "code",
   "execution_count": null,
   "id": "53e7f30d",
   "metadata": {},
   "outputs": [],
   "source": []
  }
 ],
 "metadata": {
  "kernelspec": {
   "display_name": "Python 3 (ipykernel)",
   "language": "python",
   "name": "python3"
  },
  "language_info": {
   "codemirror_mode": {
    "name": "ipython",
    "version": 3
   },
   "file_extension": ".py",
   "mimetype": "text/x-python",
   "name": "python",
   "nbconvert_exporter": "python",
   "pygments_lexer": "ipython3",
   "version": "3.9.12"
  }
 },
 "nbformat": 4,
 "nbformat_minor": 5
}
