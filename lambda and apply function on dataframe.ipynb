{
 "cells": [
  {
   "cell_type": "code",
   "execution_count": 8,
   "id": "5ceffef2",
   "metadata": {},
   "outputs": [],
   "source": [
    "import numpy as np \n",
    "import pandas as pd"
   ]
  },
  {
   "cell_type": "code",
   "execution_count": 15,
   "id": "d39d878b",
   "metadata": {},
   "outputs": [
    {
     "name": "stdout",
     "output_type": "stream",
     "text": [
      "[[83 89 66 14]\n",
      " [58 45 70 84]\n",
      " [82 73 54 71]\n",
      " [58 94 69 30]\n",
      " [86 66 51 15]\n",
      " [28 80 60 66]\n",
      " [58 63 15 90]\n",
      " [45 43 22 92]\n",
      " [25 16 94 38]\n",
      " [19 90 10 15]]\n"
     ]
    }
   ],
   "source": [
    "np.random.seed(21)\n",
    "array = np.random.randint(10,99, size = (10,4))\n",
    "print(array)"
   ]
  },
  {
   "cell_type": "code",
   "execution_count": 17,
   "id": "b5364825",
   "metadata": {},
   "outputs": [],
   "source": [
    "df = pd.DataFrame(array, index = ['a','b','c','d','e','f','g','h','i','j'], columns = ['class 1','class 2','class 3', 'class 4'])"
   ]
  },
  {
   "cell_type": "code",
   "execution_count": 18,
   "id": "1fd7348f",
   "metadata": {},
   "outputs": [
    {
     "data": {
      "text/html": [
       "<div>\n",
       "<style scoped>\n",
       "    .dataframe tbody tr th:only-of-type {\n",
       "        vertical-align: middle;\n",
       "    }\n",
       "\n",
       "    .dataframe tbody tr th {\n",
       "        vertical-align: top;\n",
       "    }\n",
       "\n",
       "    .dataframe thead th {\n",
       "        text-align: right;\n",
       "    }\n",
       "</style>\n",
       "<table border=\"1\" class=\"dataframe\">\n",
       "  <thead>\n",
       "    <tr style=\"text-align: right;\">\n",
       "      <th></th>\n",
       "      <th>class 1</th>\n",
       "      <th>class 2</th>\n",
       "      <th>class 3</th>\n",
       "      <th>class 4</th>\n",
       "    </tr>\n",
       "  </thead>\n",
       "  <tbody>\n",
       "    <tr>\n",
       "      <th>a</th>\n",
       "      <td>83</td>\n",
       "      <td>89</td>\n",
       "      <td>66</td>\n",
       "      <td>14</td>\n",
       "    </tr>\n",
       "    <tr>\n",
       "      <th>b</th>\n",
       "      <td>58</td>\n",
       "      <td>45</td>\n",
       "      <td>70</td>\n",
       "      <td>84</td>\n",
       "    </tr>\n",
       "    <tr>\n",
       "      <th>c</th>\n",
       "      <td>82</td>\n",
       "      <td>73</td>\n",
       "      <td>54</td>\n",
       "      <td>71</td>\n",
       "    </tr>\n",
       "    <tr>\n",
       "      <th>d</th>\n",
       "      <td>58</td>\n",
       "      <td>94</td>\n",
       "      <td>69</td>\n",
       "      <td>30</td>\n",
       "    </tr>\n",
       "    <tr>\n",
       "      <th>e</th>\n",
       "      <td>86</td>\n",
       "      <td>66</td>\n",
       "      <td>51</td>\n",
       "      <td>15</td>\n",
       "    </tr>\n",
       "    <tr>\n",
       "      <th>f</th>\n",
       "      <td>28</td>\n",
       "      <td>80</td>\n",
       "      <td>60</td>\n",
       "      <td>66</td>\n",
       "    </tr>\n",
       "    <tr>\n",
       "      <th>g</th>\n",
       "      <td>58</td>\n",
       "      <td>63</td>\n",
       "      <td>15</td>\n",
       "      <td>90</td>\n",
       "    </tr>\n",
       "    <tr>\n",
       "      <th>h</th>\n",
       "      <td>45</td>\n",
       "      <td>43</td>\n",
       "      <td>22</td>\n",
       "      <td>92</td>\n",
       "    </tr>\n",
       "    <tr>\n",
       "      <th>i</th>\n",
       "      <td>25</td>\n",
       "      <td>16</td>\n",
       "      <td>94</td>\n",
       "      <td>38</td>\n",
       "    </tr>\n",
       "    <tr>\n",
       "      <th>j</th>\n",
       "      <td>19</td>\n",
       "      <td>90</td>\n",
       "      <td>10</td>\n",
       "      <td>15</td>\n",
       "    </tr>\n",
       "  </tbody>\n",
       "</table>\n",
       "</div>"
      ],
      "text/plain": [
       "   class 1  class 2  class 3  class 4\n",
       "a       83       89       66       14\n",
       "b       58       45       70       84\n",
       "c       82       73       54       71\n",
       "d       58       94       69       30\n",
       "e       86       66       51       15\n",
       "f       28       80       60       66\n",
       "g       58       63       15       90\n",
       "h       45       43       22       92\n",
       "i       25       16       94       38\n",
       "j       19       90       10       15"
      ]
     },
     "execution_count": 18,
     "metadata": {},
     "output_type": "execute_result"
    }
   ],
   "source": [
    "df"
   ]
  },
  {
   "cell_type": "code",
   "execution_count": 19,
   "id": "9f68e2f8",
   "metadata": {},
   "outputs": [],
   "source": [
    "def dif_per(cola,colb):\n",
    "    if cola > colb:\n",
    "        dif = cola - colb\n",
    "    else:\n",
    "        dif = colb - cola\n",
    "    \n",
    "    y = round(dif/cola*100,2)\n",
    "    return y    "
   ]
  },
  {
   "cell_type": "code",
   "execution_count": 21,
   "id": "73727fee",
   "metadata": {},
   "outputs": [
    {
     "data": {
      "text/plain": [
       "47.83"
      ]
     },
     "execution_count": 21,
     "metadata": {},
     "output_type": "execute_result"
    }
   ],
   "source": [
    "dif_per(23,34)"
   ]
  },
  {
   "cell_type": "code",
   "execution_count": 8,
   "id": "0507fc14",
   "metadata": {},
   "outputs": [
    {
     "ename": "TypeError",
     "evalue": "dif_per() missing 1 required positional argument: 'colb'",
     "output_type": "error",
     "traceback": [
      "\u001b[1;31m---------------------------------------------------------------------------\u001b[0m",
      "\u001b[1;31mTypeError\u001b[0m                                 Traceback (most recent call last)",
      "Input \u001b[1;32mIn [8]\u001b[0m, in \u001b[0;36m<cell line: 1>\u001b[1;34m()\u001b[0m\n\u001b[1;32m----> 1\u001b[0m \u001b[43mdf\u001b[49m\u001b[38;5;241;43m.\u001b[39;49m\u001b[43mapply\u001b[49m\u001b[43m(\u001b[49m\u001b[43mdif_per\u001b[49m\u001b[43m,\u001b[49m\u001b[43maxis\u001b[49m\u001b[38;5;241;43m=\u001b[39;49m\u001b[38;5;241;43m1\u001b[39;49m\u001b[43m)\u001b[49m\n",
      "File \u001b[1;32mC:\\ProgramData\\Anaconda3\\lib\\site-packages\\pandas\\core\\frame.py:8839\u001b[0m, in \u001b[0;36mDataFrame.apply\u001b[1;34m(self, func, axis, raw, result_type, args, **kwargs)\u001b[0m\n\u001b[0;32m   8828\u001b[0m \u001b[38;5;28;01mfrom\u001b[39;00m \u001b[38;5;21;01mpandas\u001b[39;00m\u001b[38;5;21;01m.\u001b[39;00m\u001b[38;5;21;01mcore\u001b[39;00m\u001b[38;5;21;01m.\u001b[39;00m\u001b[38;5;21;01mapply\u001b[39;00m \u001b[38;5;28;01mimport\u001b[39;00m frame_apply\n\u001b[0;32m   8830\u001b[0m op \u001b[38;5;241m=\u001b[39m frame_apply(\n\u001b[0;32m   8831\u001b[0m     \u001b[38;5;28mself\u001b[39m,\n\u001b[0;32m   8832\u001b[0m     func\u001b[38;5;241m=\u001b[39mfunc,\n\u001b[1;32m   (...)\u001b[0m\n\u001b[0;32m   8837\u001b[0m     kwargs\u001b[38;5;241m=\u001b[39mkwargs,\n\u001b[0;32m   8838\u001b[0m )\n\u001b[1;32m-> 8839\u001b[0m \u001b[38;5;28;01mreturn\u001b[39;00m \u001b[43mop\u001b[49m\u001b[38;5;241;43m.\u001b[39;49m\u001b[43mapply\u001b[49m\u001b[43m(\u001b[49m\u001b[43m)\u001b[49m\u001b[38;5;241m.\u001b[39m__finalize__(\u001b[38;5;28mself\u001b[39m, method\u001b[38;5;241m=\u001b[39m\u001b[38;5;124m\"\u001b[39m\u001b[38;5;124mapply\u001b[39m\u001b[38;5;124m\"\u001b[39m)\n",
      "File \u001b[1;32mC:\\ProgramData\\Anaconda3\\lib\\site-packages\\pandas\\core\\apply.py:727\u001b[0m, in \u001b[0;36mFrameApply.apply\u001b[1;34m(self)\u001b[0m\n\u001b[0;32m    724\u001b[0m \u001b[38;5;28;01melif\u001b[39;00m \u001b[38;5;28mself\u001b[39m\u001b[38;5;241m.\u001b[39mraw:\n\u001b[0;32m    725\u001b[0m     \u001b[38;5;28;01mreturn\u001b[39;00m \u001b[38;5;28mself\u001b[39m\u001b[38;5;241m.\u001b[39mapply_raw()\n\u001b[1;32m--> 727\u001b[0m \u001b[38;5;28;01mreturn\u001b[39;00m \u001b[38;5;28;43mself\u001b[39;49m\u001b[38;5;241;43m.\u001b[39;49m\u001b[43mapply_standard\u001b[49m\u001b[43m(\u001b[49m\u001b[43m)\u001b[49m\n",
      "File \u001b[1;32mC:\\ProgramData\\Anaconda3\\lib\\site-packages\\pandas\\core\\apply.py:851\u001b[0m, in \u001b[0;36mFrameApply.apply_standard\u001b[1;34m(self)\u001b[0m\n\u001b[0;32m    850\u001b[0m \u001b[38;5;28;01mdef\u001b[39;00m \u001b[38;5;21mapply_standard\u001b[39m(\u001b[38;5;28mself\u001b[39m):\n\u001b[1;32m--> 851\u001b[0m     results, res_index \u001b[38;5;241m=\u001b[39m \u001b[38;5;28;43mself\u001b[39;49m\u001b[38;5;241;43m.\u001b[39;49m\u001b[43mapply_series_generator\u001b[49m\u001b[43m(\u001b[49m\u001b[43m)\u001b[49m\n\u001b[0;32m    853\u001b[0m     \u001b[38;5;66;03m# wrap results\u001b[39;00m\n\u001b[0;32m    854\u001b[0m     \u001b[38;5;28;01mreturn\u001b[39;00m \u001b[38;5;28mself\u001b[39m\u001b[38;5;241m.\u001b[39mwrap_results(results, res_index)\n",
      "File \u001b[1;32mC:\\ProgramData\\Anaconda3\\lib\\site-packages\\pandas\\core\\apply.py:867\u001b[0m, in \u001b[0;36mFrameApply.apply_series_generator\u001b[1;34m(self)\u001b[0m\n\u001b[0;32m    864\u001b[0m \u001b[38;5;28;01mwith\u001b[39;00m option_context(\u001b[38;5;124m\"\u001b[39m\u001b[38;5;124mmode.chained_assignment\u001b[39m\u001b[38;5;124m\"\u001b[39m, \u001b[38;5;28;01mNone\u001b[39;00m):\n\u001b[0;32m    865\u001b[0m     \u001b[38;5;28;01mfor\u001b[39;00m i, v \u001b[38;5;129;01min\u001b[39;00m \u001b[38;5;28menumerate\u001b[39m(series_gen):\n\u001b[0;32m    866\u001b[0m         \u001b[38;5;66;03m# ignore SettingWithCopy here in case the user mutates\u001b[39;00m\n\u001b[1;32m--> 867\u001b[0m         results[i] \u001b[38;5;241m=\u001b[39m \u001b[38;5;28;43mself\u001b[39;49m\u001b[38;5;241;43m.\u001b[39;49m\u001b[43mf\u001b[49m\u001b[43m(\u001b[49m\u001b[43mv\u001b[49m\u001b[43m)\u001b[49m\n\u001b[0;32m    868\u001b[0m         \u001b[38;5;28;01mif\u001b[39;00m \u001b[38;5;28misinstance\u001b[39m(results[i], ABCSeries):\n\u001b[0;32m    869\u001b[0m             \u001b[38;5;66;03m# If we have a view on v, we need to make a copy because\u001b[39;00m\n\u001b[0;32m    870\u001b[0m             \u001b[38;5;66;03m#  series_generator will swap out the underlying data\u001b[39;00m\n\u001b[0;32m    871\u001b[0m             results[i] \u001b[38;5;241m=\u001b[39m results[i]\u001b[38;5;241m.\u001b[39mcopy(deep\u001b[38;5;241m=\u001b[39m\u001b[38;5;28;01mFalse\u001b[39;00m)\n",
      "\u001b[1;31mTypeError\u001b[0m: dif_per() missing 1 required positional argument: 'colb'"
     ]
    }
   ],
   "source": [
    "df.apply(dif_per,axis=1)"
   ]
  },
  {
   "cell_type": "code",
   "execution_count": 22,
   "id": "9758a1c4",
   "metadata": {},
   "outputs": [],
   "source": [
    "def y(cl):\n",
    "    return cl[2] + cl[3]"
   ]
  },
  {
   "cell_type": "code",
   "execution_count": 26,
   "id": "9d6d7062",
   "metadata": {},
   "outputs": [],
   "source": [
    "df['addy']=df.apply(y,axis=1)"
   ]
  },
  {
   "cell_type": "code",
   "execution_count": 27,
   "id": "ca66369c",
   "metadata": {},
   "outputs": [
    {
     "data": {
      "text/html": [
       "<div>\n",
       "<style scoped>\n",
       "    .dataframe tbody tr th:only-of-type {\n",
       "        vertical-align: middle;\n",
       "    }\n",
       "\n",
       "    .dataframe tbody tr th {\n",
       "        vertical-align: top;\n",
       "    }\n",
       "\n",
       "    .dataframe thead th {\n",
       "        text-align: right;\n",
       "    }\n",
       "</style>\n",
       "<table border=\"1\" class=\"dataframe\">\n",
       "  <thead>\n",
       "    <tr style=\"text-align: right;\">\n",
       "      <th></th>\n",
       "      <th>class 1</th>\n",
       "      <th>class 2</th>\n",
       "      <th>class 3</th>\n",
       "      <th>class 4</th>\n",
       "      <th>addy</th>\n",
       "    </tr>\n",
       "  </thead>\n",
       "  <tbody>\n",
       "    <tr>\n",
       "      <th>a</th>\n",
       "      <td>83</td>\n",
       "      <td>89</td>\n",
       "      <td>66</td>\n",
       "      <td>14</td>\n",
       "      <td>80</td>\n",
       "    </tr>\n",
       "    <tr>\n",
       "      <th>b</th>\n",
       "      <td>58</td>\n",
       "      <td>45</td>\n",
       "      <td>70</td>\n",
       "      <td>84</td>\n",
       "      <td>154</td>\n",
       "    </tr>\n",
       "    <tr>\n",
       "      <th>c</th>\n",
       "      <td>82</td>\n",
       "      <td>73</td>\n",
       "      <td>54</td>\n",
       "      <td>71</td>\n",
       "      <td>125</td>\n",
       "    </tr>\n",
       "    <tr>\n",
       "      <th>d</th>\n",
       "      <td>58</td>\n",
       "      <td>94</td>\n",
       "      <td>69</td>\n",
       "      <td>30</td>\n",
       "      <td>99</td>\n",
       "    </tr>\n",
       "    <tr>\n",
       "      <th>e</th>\n",
       "      <td>86</td>\n",
       "      <td>66</td>\n",
       "      <td>51</td>\n",
       "      <td>15</td>\n",
       "      <td>66</td>\n",
       "    </tr>\n",
       "    <tr>\n",
       "      <th>f</th>\n",
       "      <td>28</td>\n",
       "      <td>80</td>\n",
       "      <td>60</td>\n",
       "      <td>66</td>\n",
       "      <td>126</td>\n",
       "    </tr>\n",
       "    <tr>\n",
       "      <th>g</th>\n",
       "      <td>58</td>\n",
       "      <td>63</td>\n",
       "      <td>15</td>\n",
       "      <td>90</td>\n",
       "      <td>105</td>\n",
       "    </tr>\n",
       "    <tr>\n",
       "      <th>h</th>\n",
       "      <td>45</td>\n",
       "      <td>43</td>\n",
       "      <td>22</td>\n",
       "      <td>92</td>\n",
       "      <td>114</td>\n",
       "    </tr>\n",
       "    <tr>\n",
       "      <th>i</th>\n",
       "      <td>25</td>\n",
       "      <td>16</td>\n",
       "      <td>94</td>\n",
       "      <td>38</td>\n",
       "      <td>132</td>\n",
       "    </tr>\n",
       "    <tr>\n",
       "      <th>j</th>\n",
       "      <td>19</td>\n",
       "      <td>90</td>\n",
       "      <td>10</td>\n",
       "      <td>15</td>\n",
       "      <td>25</td>\n",
       "    </tr>\n",
       "  </tbody>\n",
       "</table>\n",
       "</div>"
      ],
      "text/plain": [
       "   class 1  class 2  class 3  class 4  addy\n",
       "a       83       89       66       14    80\n",
       "b       58       45       70       84   154\n",
       "c       82       73       54       71   125\n",
       "d       58       94       69       30    99\n",
       "e       86       66       51       15    66\n",
       "f       28       80       60       66   126\n",
       "g       58       63       15       90   105\n",
       "h       45       43       22       92   114\n",
       "i       25       16       94       38   132\n",
       "j       19       90       10       15    25"
      ]
     },
     "execution_count": 27,
     "metadata": {},
     "output_type": "execute_result"
    }
   ],
   "source": [
    "df"
   ]
  },
  {
   "cell_type": "markdown",
   "id": "6a59de69",
   "metadata": {},
   "source": [
    "# Lets make a practical example "
   ]
  },
  {
   "cell_type": "code",
   "execution_count": 9,
   "id": "f1a7577f",
   "metadata": {},
   "outputs": [],
   "source": [
    "def profit_percentage(x):\n",
    "    profit = x[1] - x[0]\n",
    "    pp = profit/x[0] * 100\n",
    "    return pp"
   ]
  },
  {
   "cell_type": "code",
   "execution_count": 10,
   "id": "57f21dc5",
   "metadata": {},
   "outputs": [
    {
     "data": {
      "text/html": [
       "<div>\n",
       "<style scoped>\n",
       "    .dataframe tbody tr th:only-of-type {\n",
       "        vertical-align: middle;\n",
       "    }\n",
       "\n",
       "    .dataframe tbody tr th {\n",
       "        vertical-align: top;\n",
       "    }\n",
       "\n",
       "    .dataframe thead th {\n",
       "        text-align: right;\n",
       "    }\n",
       "</style>\n",
       "<table border=\"1\" class=\"dataframe\">\n",
       "  <thead>\n",
       "    <tr style=\"text-align: right;\">\n",
       "      <th></th>\n",
       "      <th>class 1</th>\n",
       "      <th>class 2</th>\n",
       "      <th>class 3</th>\n",
       "      <th>class 4</th>\n",
       "      <th>profit_percentage</th>\n",
       "    </tr>\n",
       "  </thead>\n",
       "  <tbody>\n",
       "    <tr>\n",
       "      <th>a</th>\n",
       "      <td>24</td>\n",
       "      <td>53</td>\n",
       "      <td>63</td>\n",
       "      <td>93</td>\n",
       "      <td>120.833333</td>\n",
       "    </tr>\n",
       "    <tr>\n",
       "      <th>b</th>\n",
       "      <td>38</td>\n",
       "      <td>10</td>\n",
       "      <td>59</td>\n",
       "      <td>61</td>\n",
       "      <td>-73.684211</td>\n",
       "    </tr>\n",
       "    <tr>\n",
       "      <th>c</th>\n",
       "      <td>96</td>\n",
       "      <td>10</td>\n",
       "      <td>50</td>\n",
       "      <td>44</td>\n",
       "      <td>-89.583333</td>\n",
       "    </tr>\n",
       "    <tr>\n",
       "      <th>d</th>\n",
       "      <td>93</td>\n",
       "      <td>87</td>\n",
       "      <td>95</td>\n",
       "      <td>18</td>\n",
       "      <td>-6.451613</td>\n",
       "    </tr>\n",
       "    <tr>\n",
       "      <th>e</th>\n",
       "      <td>85</td>\n",
       "      <td>77</td>\n",
       "      <td>29</td>\n",
       "      <td>57</td>\n",
       "      <td>-9.411765</td>\n",
       "    </tr>\n",
       "    <tr>\n",
       "      <th>f</th>\n",
       "      <td>87</td>\n",
       "      <td>54</td>\n",
       "      <td>17</td>\n",
       "      <td>80</td>\n",
       "      <td>-37.931034</td>\n",
       "    </tr>\n",
       "    <tr>\n",
       "      <th>g</th>\n",
       "      <td>10</td>\n",
       "      <td>69</td>\n",
       "      <td>56</td>\n",
       "      <td>48</td>\n",
       "      <td>590.000000</td>\n",
       "    </tr>\n",
       "    <tr>\n",
       "      <th>h</th>\n",
       "      <td>19</td>\n",
       "      <td>20</td>\n",
       "      <td>25</td>\n",
       "      <td>35</td>\n",
       "      <td>5.263158</td>\n",
       "    </tr>\n",
       "    <tr>\n",
       "      <th>i</th>\n",
       "      <td>49</td>\n",
       "      <td>89</td>\n",
       "      <td>90</td>\n",
       "      <td>14</td>\n",
       "      <td>81.632653</td>\n",
       "    </tr>\n",
       "    <tr>\n",
       "      <th>j</th>\n",
       "      <td>57</td>\n",
       "      <td>79</td>\n",
       "      <td>68</td>\n",
       "      <td>20</td>\n",
       "      <td>38.596491</td>\n",
       "    </tr>\n",
       "  </tbody>\n",
       "</table>\n",
       "</div>"
      ],
      "text/plain": [
       "   class 1  class 2  class 3  class 4  profit_percentage\n",
       "a       24       53       63       93         120.833333\n",
       "b       38       10       59       61         -73.684211\n",
       "c       96       10       50       44         -89.583333\n",
       "d       93       87       95       18          -6.451613\n",
       "e       85       77       29       57          -9.411765\n",
       "f       87       54       17       80         -37.931034\n",
       "g       10       69       56       48         590.000000\n",
       "h       19       20       25       35           5.263158\n",
       "i       49       89       90       14          81.632653\n",
       "j       57       79       68       20          38.596491"
      ]
     },
     "execution_count": 10,
     "metadata": {},
     "output_type": "execute_result"
    }
   ],
   "source": [
    "df.apply(profit_percentage,axis = 1)\n",
    "df['profit_percentage'] = df.apply(profit_percentage,axis = 1)\n",
    "df"
   ]
  },
  {
   "cell_type": "markdown",
   "id": "c801b8f4",
   "metadata": {},
   "source": [
    "**This is basically using functions with out using lambda functions**"
   ]
  },
  {
   "cell_type": "markdown",
   "id": "7292268c",
   "metadata": {},
   "source": [
    "Now since I am returning from break lets do it again to understand"
   ]
  },
  {
   "cell_type": "code",
   "execution_count": 11,
   "id": "d3c79400",
   "metadata": {},
   "outputs": [
    {
     "data": {
      "text/plain": [
       "array([29, 84, 70, 96])"
      ]
     },
     "execution_count": 11,
     "metadata": {},
     "output_type": "execute_result"
    }
   ],
   "source": [
    "# lets do error handling as well \n",
    "new_array = np.array([29,84,70,96])\n",
    "new_array"
   ]
  },
  {
   "cell_type": "code",
   "execution_count": 42,
   "id": "5a26cf83",
   "metadata": {},
   "outputs": [
    {
     "data": {
      "text/html": [
       "<div>\n",
       "<style scoped>\n",
       "    .dataframe tbody tr th:only-of-type {\n",
       "        vertical-align: middle;\n",
       "    }\n",
       "\n",
       "    .dataframe tbody tr th {\n",
       "        vertical-align: top;\n",
       "    }\n",
       "\n",
       "    .dataframe thead th {\n",
       "        text-align: right;\n",
       "    }\n",
       "</style>\n",
       "<table border=\"1\" class=\"dataframe\">\n",
       "  <thead>\n",
       "    <tr style=\"text-align: right;\">\n",
       "      <th></th>\n",
       "      <th>Physics</th>\n",
       "      <th>chemistry</th>\n",
       "      <th>Maths</th>\n",
       "      <th>English</th>\n",
       "      <th>Physical_education</th>\n",
       "    </tr>\n",
       "  </thead>\n",
       "  <tbody>\n",
       "    <tr>\n",
       "      <th>Deepu</th>\n",
       "      <td>24</td>\n",
       "      <td>44</td>\n",
       "      <td>6</td>\n",
       "      <td>25</td>\n",
       "      <td>20</td>\n",
       "    </tr>\n",
       "    <tr>\n",
       "      <th>Sachin</th>\n",
       "      <td>8</td>\n",
       "      <td>26</td>\n",
       "      <td>4</td>\n",
       "      <td>38</td>\n",
       "      <td>43</td>\n",
       "    </tr>\n",
       "    <tr>\n",
       "      <th>Rahul</th>\n",
       "      <td>10</td>\n",
       "      <td>5</td>\n",
       "      <td>12</td>\n",
       "      <td>18</td>\n",
       "      <td>4</td>\n",
       "    </tr>\n",
       "    <tr>\n",
       "      <th>Prashant</th>\n",
       "      <td>2</td>\n",
       "      <td>35</td>\n",
       "      <td>36</td>\n",
       "      <td>25</td>\n",
       "      <td>43</td>\n",
       "    </tr>\n",
       "    <tr>\n",
       "      <th>Vikas</th>\n",
       "      <td>19</td>\n",
       "      <td>11</td>\n",
       "      <td>21</td>\n",
       "      <td>37</td>\n",
       "      <td>37</td>\n",
       "    </tr>\n",
       "    <tr>\n",
       "      <th>Chittranjan</th>\n",
       "      <td>6</td>\n",
       "      <td>39</td>\n",
       "      <td>14</td>\n",
       "      <td>12</td>\n",
       "      <td>12</td>\n",
       "    </tr>\n",
       "    <tr>\n",
       "      <th>Pawan</th>\n",
       "      <td>27</td>\n",
       "      <td>30</td>\n",
       "      <td>30</td>\n",
       "      <td>27</td>\n",
       "      <td>48</td>\n",
       "    </tr>\n",
       "    <tr>\n",
       "      <th>Amit</th>\n",
       "      <td>1</td>\n",
       "      <td>12</td>\n",
       "      <td>7</td>\n",
       "      <td>47</td>\n",
       "      <td>31</td>\n",
       "    </tr>\n",
       "    <tr>\n",
       "      <th>Ashok</th>\n",
       "      <td>5</td>\n",
       "      <td>42</td>\n",
       "      <td>31</td>\n",
       "      <td>17</td>\n",
       "      <td>20</td>\n",
       "    </tr>\n",
       "    <tr>\n",
       "      <th>Bhanu</th>\n",
       "      <td>38</td>\n",
       "      <td>11</td>\n",
       "      <td>36</td>\n",
       "      <td>46</td>\n",
       "      <td>25</td>\n",
       "    </tr>\n",
       "  </tbody>\n",
       "</table>\n",
       "</div>"
      ],
      "text/plain": [
       "             Physics  chemistry  Maths  English  Physical_education\n",
       "Deepu             24         44      6       25                  20\n",
       "Sachin             8         26      4       38                  43\n",
       "Rahul             10          5     12       18                   4\n",
       "Prashant           2         35     36       25                  43\n",
       "Vikas             19         11     21       37                  37\n",
       "Chittranjan        6         39     14       12                  12\n",
       "Pawan             27         30     30       27                  48\n",
       "Amit               1         12      7       47                  31\n",
       "Ashok              5         42     31       17                  20\n",
       "Bhanu             38         11     36       46                  25"
      ]
     },
     "metadata": {},
     "output_type": "display_data"
    }
   ],
   "source": [
    "np.random.seed(32)\n",
    "array=np.random.randint(1,50, size = (10,5))\n",
    "df = pd.DataFrame(array,columns = ['Physics','chemistry','Maths','English','Physical_education'],index = ['Deepu','Sachin','Rahul'\\\n",
    "                                ,'Prashant','Vikas','Chittranjan','Pawan','Amit','Ashok','Bhanu'])\n",
    "display(df)"
   ]
  },
  {
   "cell_type": "code",
   "execution_count": 53,
   "id": "89431a56",
   "metadata": {},
   "outputs": [],
   "source": [
    "# lets write a fucntion to calculate percentage of every student \n",
    "def percentage(col):\n",
    "    marks_obtained = col[0] + col[1] + col[2] + col[3] + col[4]\n",
    "    percent = (marks_obtained/250)*100\n",
    "    percentage = round(percent,2)\n",
    "    return percentage\n",
    "\n",
    "# When working with funciton on df it does not matter what parameter you set when you are defining your function. because when\n",
    "# when funtion enters the dataframe the the parameter which you had set while defining the function will now be the dataframe\n",
    "# so if while defining it was col(the paramenter) and in the later part of the code you are calling col[1] so when the function\n",
    "# has entered the dataframe it will refere to it as dataframe[1] i.e 2nd coloum of the dataframe."
   ]
  },
  {
   "cell_type": "code",
   "execution_count": 54,
   "id": "02409c7a",
   "metadata": {},
   "outputs": [],
   "source": [
    "df['percentage']=df.apply(percentage,axis = 1)"
   ]
  },
  {
   "cell_type": "code",
   "execution_count": 45,
   "id": "a0387d18",
   "metadata": {},
   "outputs": [
    {
     "data": {
      "text/html": [
       "<div>\n",
       "<style scoped>\n",
       "    .dataframe tbody tr th:only-of-type {\n",
       "        vertical-align: middle;\n",
       "    }\n",
       "\n",
       "    .dataframe tbody tr th {\n",
       "        vertical-align: top;\n",
       "    }\n",
       "\n",
       "    .dataframe thead th {\n",
       "        text-align: right;\n",
       "    }\n",
       "</style>\n",
       "<table border=\"1\" class=\"dataframe\">\n",
       "  <thead>\n",
       "    <tr style=\"text-align: right;\">\n",
       "      <th></th>\n",
       "      <th>Physics</th>\n",
       "      <th>chemistry</th>\n",
       "      <th>Maths</th>\n",
       "      <th>English</th>\n",
       "      <th>Physical_education</th>\n",
       "      <th>percentage</th>\n",
       "    </tr>\n",
       "  </thead>\n",
       "  <tbody>\n",
       "    <tr>\n",
       "      <th>Deepu</th>\n",
       "      <td>24</td>\n",
       "      <td>44</td>\n",
       "      <td>6</td>\n",
       "      <td>25</td>\n",
       "      <td>20</td>\n",
       "      <td>47.6</td>\n",
       "    </tr>\n",
       "    <tr>\n",
       "      <th>Sachin</th>\n",
       "      <td>8</td>\n",
       "      <td>26</td>\n",
       "      <td>4</td>\n",
       "      <td>38</td>\n",
       "      <td>43</td>\n",
       "      <td>47.6</td>\n",
       "    </tr>\n",
       "    <tr>\n",
       "      <th>Rahul</th>\n",
       "      <td>10</td>\n",
       "      <td>5</td>\n",
       "      <td>12</td>\n",
       "      <td>18</td>\n",
       "      <td>4</td>\n",
       "      <td>19.6</td>\n",
       "    </tr>\n",
       "    <tr>\n",
       "      <th>Prashant</th>\n",
       "      <td>2</td>\n",
       "      <td>35</td>\n",
       "      <td>36</td>\n",
       "      <td>25</td>\n",
       "      <td>43</td>\n",
       "      <td>56.4</td>\n",
       "    </tr>\n",
       "    <tr>\n",
       "      <th>Vikas</th>\n",
       "      <td>19</td>\n",
       "      <td>11</td>\n",
       "      <td>21</td>\n",
       "      <td>37</td>\n",
       "      <td>37</td>\n",
       "      <td>50.0</td>\n",
       "    </tr>\n",
       "    <tr>\n",
       "      <th>Chittranjan</th>\n",
       "      <td>6</td>\n",
       "      <td>39</td>\n",
       "      <td>14</td>\n",
       "      <td>12</td>\n",
       "      <td>12</td>\n",
       "      <td>33.2</td>\n",
       "    </tr>\n",
       "    <tr>\n",
       "      <th>Pawan</th>\n",
       "      <td>27</td>\n",
       "      <td>30</td>\n",
       "      <td>30</td>\n",
       "      <td>27</td>\n",
       "      <td>48</td>\n",
       "      <td>64.8</td>\n",
       "    </tr>\n",
       "    <tr>\n",
       "      <th>Amit</th>\n",
       "      <td>1</td>\n",
       "      <td>12</td>\n",
       "      <td>7</td>\n",
       "      <td>47</td>\n",
       "      <td>31</td>\n",
       "      <td>39.2</td>\n",
       "    </tr>\n",
       "    <tr>\n",
       "      <th>Ashok</th>\n",
       "      <td>5</td>\n",
       "      <td>42</td>\n",
       "      <td>31</td>\n",
       "      <td>17</td>\n",
       "      <td>20</td>\n",
       "      <td>46.0</td>\n",
       "    </tr>\n",
       "    <tr>\n",
       "      <th>Bhanu</th>\n",
       "      <td>38</td>\n",
       "      <td>11</td>\n",
       "      <td>36</td>\n",
       "      <td>46</td>\n",
       "      <td>25</td>\n",
       "      <td>62.4</td>\n",
       "    </tr>\n",
       "  </tbody>\n",
       "</table>\n",
       "</div>"
      ],
      "text/plain": [
       "             Physics  chemistry  Maths  English  Physical_education  \\\n",
       "Deepu             24         44      6       25                  20   \n",
       "Sachin             8         26      4       38                  43   \n",
       "Rahul             10          5     12       18                   4   \n",
       "Prashant           2         35     36       25                  43   \n",
       "Vikas             19         11     21       37                  37   \n",
       "Chittranjan        6         39     14       12                  12   \n",
       "Pawan             27         30     30       27                  48   \n",
       "Amit               1         12      7       47                  31   \n",
       "Ashok              5         42     31       17                  20   \n",
       "Bhanu             38         11     36       46                  25   \n",
       "\n",
       "             percentage  \n",
       "Deepu              47.6  \n",
       "Sachin             47.6  \n",
       "Rahul              19.6  \n",
       "Prashant           56.4  \n",
       "Vikas              50.0  \n",
       "Chittranjan        33.2  \n",
       "Pawan              64.8  \n",
       "Amit               39.2  \n",
       "Ashok              46.0  \n",
       "Bhanu              62.4  "
      ]
     },
     "execution_count": 45,
     "metadata": {},
     "output_type": "execute_result"
    }
   ],
   "source": [
    "df"
   ]
  },
  {
   "cell_type": "code",
   "execution_count": 47,
   "id": "7c8ea90c",
   "metadata": {},
   "outputs": [],
   "source": [
    "# lets write a fucntion to calculate percentage of every student \n",
    "# while writing the funciton to call the columns you can use df.column_name \n",
    "# Note df is general does not make any sense but it does only when the function enters the dataframe \n",
    "# here you can also write col.Physics , col.chemistry , col.Maths , col.English , col.Physical_education the result will be same\n",
    "def using_coloumn_name(df):\n",
    "    marks_obtained = df.Physics + df.chemistry + df.Maths + df.English + df.Physical_education\n",
    "    percent = (marks_obtained/250)*100\n",
    "    percentage = round(percent,2)\n",
    "    return percentage"
   ]
  },
  {
   "cell_type": "code",
   "execution_count": 55,
   "id": "5cb955e9",
   "metadata": {},
   "outputs": [],
   "source": [
    "df['Percentage_using_conlumn_name']=df.apply(using_coloumn_name, axis = 1) # Please define the axis"
   ]
  },
  {
   "cell_type": "code",
   "execution_count": 50,
   "id": "21436434",
   "metadata": {},
   "outputs": [
    {
     "data": {
      "text/html": [
       "<div>\n",
       "<style scoped>\n",
       "    .dataframe tbody tr th:only-of-type {\n",
       "        vertical-align: middle;\n",
       "    }\n",
       "\n",
       "    .dataframe tbody tr th {\n",
       "        vertical-align: top;\n",
       "    }\n",
       "\n",
       "    .dataframe thead th {\n",
       "        text-align: right;\n",
       "    }\n",
       "</style>\n",
       "<table border=\"1\" class=\"dataframe\">\n",
       "  <thead>\n",
       "    <tr style=\"text-align: right;\">\n",
       "      <th></th>\n",
       "      <th>Physics</th>\n",
       "      <th>chemistry</th>\n",
       "      <th>Maths</th>\n",
       "      <th>English</th>\n",
       "      <th>Physical_education</th>\n",
       "      <th>percentage</th>\n",
       "      <th>Percentage_using_conlumn_name</th>\n",
       "    </tr>\n",
       "  </thead>\n",
       "  <tbody>\n",
       "    <tr>\n",
       "      <th>Deepu</th>\n",
       "      <td>24</td>\n",
       "      <td>44</td>\n",
       "      <td>6</td>\n",
       "      <td>25</td>\n",
       "      <td>20</td>\n",
       "      <td>47.6</td>\n",
       "      <td>47.6</td>\n",
       "    </tr>\n",
       "    <tr>\n",
       "      <th>Sachin</th>\n",
       "      <td>8</td>\n",
       "      <td>26</td>\n",
       "      <td>4</td>\n",
       "      <td>38</td>\n",
       "      <td>43</td>\n",
       "      <td>47.6</td>\n",
       "      <td>47.6</td>\n",
       "    </tr>\n",
       "    <tr>\n",
       "      <th>Rahul</th>\n",
       "      <td>10</td>\n",
       "      <td>5</td>\n",
       "      <td>12</td>\n",
       "      <td>18</td>\n",
       "      <td>4</td>\n",
       "      <td>19.6</td>\n",
       "      <td>19.6</td>\n",
       "    </tr>\n",
       "    <tr>\n",
       "      <th>Prashant</th>\n",
       "      <td>2</td>\n",
       "      <td>35</td>\n",
       "      <td>36</td>\n",
       "      <td>25</td>\n",
       "      <td>43</td>\n",
       "      <td>56.4</td>\n",
       "      <td>56.4</td>\n",
       "    </tr>\n",
       "    <tr>\n",
       "      <th>Vikas</th>\n",
       "      <td>19</td>\n",
       "      <td>11</td>\n",
       "      <td>21</td>\n",
       "      <td>37</td>\n",
       "      <td>37</td>\n",
       "      <td>50.0</td>\n",
       "      <td>50.0</td>\n",
       "    </tr>\n",
       "    <tr>\n",
       "      <th>Chittranjan</th>\n",
       "      <td>6</td>\n",
       "      <td>39</td>\n",
       "      <td>14</td>\n",
       "      <td>12</td>\n",
       "      <td>12</td>\n",
       "      <td>33.2</td>\n",
       "      <td>33.2</td>\n",
       "    </tr>\n",
       "    <tr>\n",
       "      <th>Pawan</th>\n",
       "      <td>27</td>\n",
       "      <td>30</td>\n",
       "      <td>30</td>\n",
       "      <td>27</td>\n",
       "      <td>48</td>\n",
       "      <td>64.8</td>\n",
       "      <td>64.8</td>\n",
       "    </tr>\n",
       "    <tr>\n",
       "      <th>Amit</th>\n",
       "      <td>1</td>\n",
       "      <td>12</td>\n",
       "      <td>7</td>\n",
       "      <td>47</td>\n",
       "      <td>31</td>\n",
       "      <td>39.2</td>\n",
       "      <td>39.2</td>\n",
       "    </tr>\n",
       "    <tr>\n",
       "      <th>Ashok</th>\n",
       "      <td>5</td>\n",
       "      <td>42</td>\n",
       "      <td>31</td>\n",
       "      <td>17</td>\n",
       "      <td>20</td>\n",
       "      <td>46.0</td>\n",
       "      <td>46.0</td>\n",
       "    </tr>\n",
       "    <tr>\n",
       "      <th>Bhanu</th>\n",
       "      <td>38</td>\n",
       "      <td>11</td>\n",
       "      <td>36</td>\n",
       "      <td>46</td>\n",
       "      <td>25</td>\n",
       "      <td>62.4</td>\n",
       "      <td>62.4</td>\n",
       "    </tr>\n",
       "  </tbody>\n",
       "</table>\n",
       "</div>"
      ],
      "text/plain": [
       "             Physics  chemistry  Maths  English  Physical_education  \\\n",
       "Deepu             24         44      6       25                  20   \n",
       "Sachin             8         26      4       38                  43   \n",
       "Rahul             10          5     12       18                   4   \n",
       "Prashant           2         35     36       25                  43   \n",
       "Vikas             19         11     21       37                  37   \n",
       "Chittranjan        6         39     14       12                  12   \n",
       "Pawan             27         30     30       27                  48   \n",
       "Amit               1         12      7       47                  31   \n",
       "Ashok              5         42     31       17                  20   \n",
       "Bhanu             38         11     36       46                  25   \n",
       "\n",
       "             percentage  Percentage_using_conlumn_name  \n",
       "Deepu              47.6                           47.6  \n",
       "Sachin             47.6                           47.6  \n",
       "Rahul              19.6                           19.6  \n",
       "Prashant           56.4                           56.4  \n",
       "Vikas              50.0                           50.0  \n",
       "Chittranjan        33.2                           33.2  \n",
       "Pawan              64.8                           64.8  \n",
       "Amit               39.2                           39.2  \n",
       "Ashok              46.0                           46.0  \n",
       "Bhanu              62.4                           62.4  "
      ]
     },
     "execution_count": 50,
     "metadata": {},
     "output_type": "execute_result"
    }
   ],
   "source": [
    "df"
   ]
  },
  {
   "cell_type": "code",
   "execution_count": 83,
   "id": "e8954796",
   "metadata": {},
   "outputs": [],
   "source": [
    "# let do it using lamda function\n",
    "def per_gen(a,b,c,d,e): # as far as i have seen the parameter datatype need not be defined\n",
    "    total = a + b + c + d + e\n",
    "    percent = (total/250)*100\n",
    "    p = round(percent,2)\n",
    "    return p"
   ]
  },
  {
   "cell_type": "code",
   "execution_count": 84,
   "id": "c35740dd",
   "metadata": {},
   "outputs": [
    {
     "data": {
      "text/plain": [
       "62.4"
      ]
     },
     "execution_count": 84,
     "metadata": {},
     "output_type": "execute_result"
    }
   ],
   "source": [
    "per_gen(38,11,36,46,25)"
   ]
  },
  {
   "cell_type": "code",
   "execution_count": 111,
   "id": "3321079b",
   "metadata": {},
   "outputs": [],
   "source": [
    "df['launda'] = df.apply(lambda x:per_gen(x['Physics'],x['chemistry'],x['Maths'],x['English'],x['Physical_education']), axis = 1)"
   ]
  },
  {
   "cell_type": "code",
   "execution_count": 95,
   "id": "e39371a5",
   "metadata": {},
   "outputs": [
    {
     "data": {
      "text/plain": [
       "15"
      ]
     },
     "execution_count": 95,
     "metadata": {},
     "output_type": "execute_result"
    }
   ],
   "source": [
    "u=lambda a,b,c,d,e:a+b+c+d+e\n",
    "u(1,2,3,4,5)"
   ]
  },
  {
   "cell_type": "code",
   "execution_count": 112,
   "id": "24792645",
   "metadata": {},
   "outputs": [
    {
     "data": {
      "text/html": [
       "<div>\n",
       "<style scoped>\n",
       "    .dataframe tbody tr th:only-of-type {\n",
       "        vertical-align: middle;\n",
       "    }\n",
       "\n",
       "    .dataframe tbody tr th {\n",
       "        vertical-align: top;\n",
       "    }\n",
       "\n",
       "    .dataframe thead th {\n",
       "        text-align: right;\n",
       "    }\n",
       "</style>\n",
       "<table border=\"1\" class=\"dataframe\">\n",
       "  <thead>\n",
       "    <tr style=\"text-align: right;\">\n",
       "      <th></th>\n",
       "      <th>Physics</th>\n",
       "      <th>chemistry</th>\n",
       "      <th>Maths</th>\n",
       "      <th>English</th>\n",
       "      <th>Physical_education</th>\n",
       "      <th>percentage</th>\n",
       "      <th>Percentage_using_conlumn_name</th>\n",
       "      <th>launda</th>\n",
       "    </tr>\n",
       "  </thead>\n",
       "  <tbody>\n",
       "    <tr>\n",
       "      <th>Deepu</th>\n",
       "      <td>24</td>\n",
       "      <td>44</td>\n",
       "      <td>6</td>\n",
       "      <td>25</td>\n",
       "      <td>20</td>\n",
       "      <td>47.6</td>\n",
       "      <td>47.6</td>\n",
       "      <td>47.6</td>\n",
       "    </tr>\n",
       "    <tr>\n",
       "      <th>Sachin</th>\n",
       "      <td>8</td>\n",
       "      <td>26</td>\n",
       "      <td>4</td>\n",
       "      <td>38</td>\n",
       "      <td>43</td>\n",
       "      <td>47.6</td>\n",
       "      <td>47.6</td>\n",
       "      <td>47.6</td>\n",
       "    </tr>\n",
       "    <tr>\n",
       "      <th>Rahul</th>\n",
       "      <td>10</td>\n",
       "      <td>5</td>\n",
       "      <td>12</td>\n",
       "      <td>18</td>\n",
       "      <td>4</td>\n",
       "      <td>19.6</td>\n",
       "      <td>19.6</td>\n",
       "      <td>19.6</td>\n",
       "    </tr>\n",
       "    <tr>\n",
       "      <th>Prashant</th>\n",
       "      <td>2</td>\n",
       "      <td>35</td>\n",
       "      <td>36</td>\n",
       "      <td>25</td>\n",
       "      <td>43</td>\n",
       "      <td>56.4</td>\n",
       "      <td>56.4</td>\n",
       "      <td>56.4</td>\n",
       "    </tr>\n",
       "    <tr>\n",
       "      <th>Vikas</th>\n",
       "      <td>19</td>\n",
       "      <td>11</td>\n",
       "      <td>21</td>\n",
       "      <td>37</td>\n",
       "      <td>37</td>\n",
       "      <td>50.0</td>\n",
       "      <td>50.0</td>\n",
       "      <td>50.0</td>\n",
       "    </tr>\n",
       "    <tr>\n",
       "      <th>Chittranjan</th>\n",
       "      <td>6</td>\n",
       "      <td>39</td>\n",
       "      <td>14</td>\n",
       "      <td>12</td>\n",
       "      <td>12</td>\n",
       "      <td>33.2</td>\n",
       "      <td>33.2</td>\n",
       "      <td>33.2</td>\n",
       "    </tr>\n",
       "    <tr>\n",
       "      <th>Pawan</th>\n",
       "      <td>27</td>\n",
       "      <td>30</td>\n",
       "      <td>30</td>\n",
       "      <td>27</td>\n",
       "      <td>48</td>\n",
       "      <td>64.8</td>\n",
       "      <td>64.8</td>\n",
       "      <td>64.8</td>\n",
       "    </tr>\n",
       "    <tr>\n",
       "      <th>Amit</th>\n",
       "      <td>1</td>\n",
       "      <td>12</td>\n",
       "      <td>7</td>\n",
       "      <td>47</td>\n",
       "      <td>31</td>\n",
       "      <td>39.2</td>\n",
       "      <td>39.2</td>\n",
       "      <td>39.2</td>\n",
       "    </tr>\n",
       "    <tr>\n",
       "      <th>Ashok</th>\n",
       "      <td>5</td>\n",
       "      <td>42</td>\n",
       "      <td>31</td>\n",
       "      <td>17</td>\n",
       "      <td>20</td>\n",
       "      <td>46.0</td>\n",
       "      <td>46.0</td>\n",
       "      <td>46.0</td>\n",
       "    </tr>\n",
       "    <tr>\n",
       "      <th>Bhanu</th>\n",
       "      <td>38</td>\n",
       "      <td>11</td>\n",
       "      <td>36</td>\n",
       "      <td>46</td>\n",
       "      <td>25</td>\n",
       "      <td>62.4</td>\n",
       "      <td>62.4</td>\n",
       "      <td>62.4</td>\n",
       "    </tr>\n",
       "  </tbody>\n",
       "</table>\n",
       "</div>"
      ],
      "text/plain": [
       "             Physics  chemistry  Maths  English  Physical_education  \\\n",
       "Deepu             24         44      6       25                  20   \n",
       "Sachin             8         26      4       38                  43   \n",
       "Rahul             10          5     12       18                   4   \n",
       "Prashant           2         35     36       25                  43   \n",
       "Vikas             19         11     21       37                  37   \n",
       "Chittranjan        6         39     14       12                  12   \n",
       "Pawan             27         30     30       27                  48   \n",
       "Amit               1         12      7       47                  31   \n",
       "Ashok              5         42     31       17                  20   \n",
       "Bhanu             38         11     36       46                  25   \n",
       "\n",
       "             percentage  Percentage_using_conlumn_name  launda  \n",
       "Deepu              47.6                           47.6    47.6  \n",
       "Sachin             47.6                           47.6    47.6  \n",
       "Rahul              19.6                           19.6    19.6  \n",
       "Prashant           56.4                           56.4    56.4  \n",
       "Vikas              50.0                           50.0    50.0  \n",
       "Chittranjan        33.2                           33.2    33.2  \n",
       "Pawan              64.8                           64.8    64.8  \n",
       "Amit               39.2                           39.2    39.2  \n",
       "Ashok              46.0                           46.0    46.0  \n",
       "Bhanu              62.4                           62.4    62.4  "
      ]
     },
     "execution_count": 112,
     "metadata": {},
     "output_type": "execute_result"
    }
   ],
   "source": [
    "df"
   ]
  },
  {
   "cell_type": "code",
   "execution_count": 116,
   "id": "844fed2d",
   "metadata": {},
   "outputs": [
    {
     "name": "stdout",
     "output_type": "stream",
     "text": [
      "<function <lambda> at 0x000001780699D8B0>\n"
     ]
    }
   ],
   "source": [
    "y = lambda x : per_gen(12,12,2,32,12)\n",
    "print(y)\n"
   ]
  },
  {
   "cell_type": "code",
   "execution_count": 117,
   "id": "2b47f2f1",
   "metadata": {},
   "outputs": [
    {
     "ename": "TypeError",
     "evalue": "<lambda>() takes 1 positional argument but 5 were given",
     "output_type": "error",
     "traceback": [
      "\u001b[1;31m---------------------------------------------------------------------------\u001b[0m",
      "\u001b[1;31mTypeError\u001b[0m                                 Traceback (most recent call last)",
      "Input \u001b[1;32mIn [117]\u001b[0m, in \u001b[0;36m<cell line: 2>\u001b[1;34m()\u001b[0m\n\u001b[0;32m      1\u001b[0m y \u001b[38;5;241m=\u001b[39m \u001b[38;5;28;01mlambda\u001b[39;00m x : per_gen(\u001b[38;5;241m12\u001b[39m,\u001b[38;5;241m12\u001b[39m,\u001b[38;5;241m2\u001b[39m,\u001b[38;5;241m32\u001b[39m,\u001b[38;5;241m12\u001b[39m)\n\u001b[1;32m----> 2\u001b[0m \u001b[43my\u001b[49m\u001b[43m(\u001b[49m\u001b[38;5;241;43m1\u001b[39;49m\u001b[43m,\u001b[49m\u001b[38;5;241;43m2\u001b[39;49m\u001b[43m,\u001b[49m\u001b[38;5;241;43m3\u001b[39;49m\u001b[43m,\u001b[49m\u001b[38;5;241;43m3\u001b[39;49m\u001b[43m,\u001b[49m\u001b[38;5;241;43m4\u001b[39;49m\u001b[43m)\u001b[49m\n",
      "\u001b[1;31mTypeError\u001b[0m: <lambda>() takes 1 positional argument but 5 were given"
     ]
    }
   ],
   "source": [
    "y = lambda x : per_gen(12,12,2,32,12)\n",
    "y(1,2,3,3,4)"
   ]
  },
  {
   "cell_type": "code",
   "execution_count": 1,
   "id": "efd8316e",
   "metadata": {},
   "outputs": [],
   "source": [
    "# This was when there was not zero value in the dataframe what if there was a zero value "
   ]
  },
  {
   "cell_type": "code",
   "execution_count": 2,
   "id": "2d938e8d",
   "metadata": {},
   "outputs": [],
   "source": [
    "import numpy as np\n",
    "import pandas as pd"
   ]
  },
  {
   "cell_type": "code",
   "execution_count": 13,
   "id": "7873635a",
   "metadata": {},
   "outputs": [
    {
     "data": {
      "text/html": [
       "<div>\n",
       "<style scoped>\n",
       "    .dataframe tbody tr th:only-of-type {\n",
       "        vertical-align: middle;\n",
       "    }\n",
       "\n",
       "    .dataframe tbody tr th {\n",
       "        vertical-align: top;\n",
       "    }\n",
       "\n",
       "    .dataframe thead th {\n",
       "        text-align: right;\n",
       "    }\n",
       "</style>\n",
       "<table border=\"1\" class=\"dataframe\">\n",
       "  <thead>\n",
       "    <tr style=\"text-align: right;\">\n",
       "      <th></th>\n",
       "      <th>cost_price</th>\n",
       "      <th>selling_price</th>\n",
       "    </tr>\n",
       "  </thead>\n",
       "  <tbody>\n",
       "    <tr>\n",
       "      <th>0</th>\n",
       "      <td>5</td>\n",
       "      <td>11</td>\n",
       "    </tr>\n",
       "    <tr>\n",
       "      <th>1</th>\n",
       "      <td>12</td>\n",
       "      <td>8</td>\n",
       "    </tr>\n",
       "    <tr>\n",
       "      <th>2</th>\n",
       "      <td>9</td>\n",
       "      <td>11</td>\n",
       "    </tr>\n",
       "    <tr>\n",
       "      <th>3</th>\n",
       "      <td>5</td>\n",
       "      <td>15</td>\n",
       "    </tr>\n",
       "    <tr>\n",
       "      <th>4</th>\n",
       "      <td>0</td>\n",
       "      <td>16</td>\n",
       "    </tr>\n",
       "    <tr>\n",
       "      <th>5</th>\n",
       "      <td>1</td>\n",
       "      <td>12</td>\n",
       "    </tr>\n",
       "    <tr>\n",
       "      <th>6</th>\n",
       "      <td>7</td>\n",
       "      <td>13</td>\n",
       "    </tr>\n",
       "    <tr>\n",
       "      <th>7</th>\n",
       "      <td>6</td>\n",
       "      <td>18</td>\n",
       "    </tr>\n",
       "    <tr>\n",
       "      <th>8</th>\n",
       "      <td>5</td>\n",
       "      <td>18</td>\n",
       "    </tr>\n",
       "    <tr>\n",
       "      <th>9</th>\n",
       "      <td>11</td>\n",
       "      <td>10</td>\n",
       "    </tr>\n",
       "  </tbody>\n",
       "</table>\n",
       "</div>"
      ],
      "text/plain": [
       "   cost_price  selling_price\n",
       "0           5             11\n",
       "1          12              8\n",
       "2           9             11\n",
       "3           5             15\n",
       "4           0             16\n",
       "5           1             12\n",
       "6           7             13\n",
       "7           6             18\n",
       "8           5             18\n",
       "9          11             10"
      ]
     },
     "execution_count": 13,
     "metadata": {},
     "output_type": "execute_result"
    }
   ],
   "source": [
    "np.random.seed(1)\n",
    "data = np.random.randint(0,20,size = (10,2))\n",
    "df = pd.DataFrame(data,columns = ['cost_price','selling_price'])\n",
    "df"
   ]
  },
  {
   "cell_type": "markdown",
   "id": "790c0b25",
   "metadata": {},
   "source": [
    "lets use lambda function "
   ]
  },
  {
   "cell_type": "code",
   "execution_count": 31,
   "id": "4e7a6cb1",
   "metadata": {},
   "outputs": [],
   "source": [
    "def profit_percent(a,b):\n",
    "    percent = ((b-a)/a)*100\n",
    "    return round(percent,2)"
   ]
  },
  {
   "cell_type": "code",
   "execution_count": 15,
   "id": "72f6c197",
   "metadata": {},
   "outputs": [
    {
     "data": {
      "text/plain": [
       "20.0"
      ]
     },
     "execution_count": 15,
     "metadata": {},
     "output_type": "execute_result"
    }
   ],
   "source": [
    "profit_percent(100,120)"
   ]
  },
  {
   "cell_type": "code",
   "execution_count": 16,
   "id": "7e0fec82",
   "metadata": {},
   "outputs": [
    {
     "ename": "ZeroDivisionError",
     "evalue": "division by zero",
     "output_type": "error",
     "traceback": [
      "\u001b[1;31m---------------------------------------------------------------------------\u001b[0m",
      "\u001b[1;31mZeroDivisionError\u001b[0m                         Traceback (most recent call last)",
      "Input \u001b[1;32mIn [16]\u001b[0m, in \u001b[0;36m<cell line: 1>\u001b[1;34m()\u001b[0m\n\u001b[1;32m----> 1\u001b[0m \u001b[43mprofit_percent\u001b[49m\u001b[43m(\u001b[49m\u001b[38;5;241;43m0\u001b[39;49m\u001b[43m,\u001b[49m\u001b[38;5;241;43m100\u001b[39;49m\u001b[43m)\u001b[49m\n",
      "Input \u001b[1;32mIn [14]\u001b[0m, in \u001b[0;36mprofit_percent\u001b[1;34m(a, b)\u001b[0m\n\u001b[0;32m      1\u001b[0m \u001b[38;5;28;01mdef\u001b[39;00m \u001b[38;5;21mprofit_percent\u001b[39m(a,b):\n\u001b[1;32m----> 2\u001b[0m     percent \u001b[38;5;241m=\u001b[39m (\u001b[43m(\u001b[49m\u001b[43mb\u001b[49m\u001b[38;5;241;43m-\u001b[39;49m\u001b[43ma\u001b[49m\u001b[43m)\u001b[49m\u001b[38;5;241;43m/\u001b[39;49m\u001b[43ma\u001b[49m)\u001b[38;5;241m*\u001b[39m\u001b[38;5;241m100\u001b[39m\n\u001b[0;32m      3\u001b[0m     \u001b[38;5;28;01mreturn\u001b[39;00m percent\n",
      "\u001b[1;31mZeroDivisionError\u001b[0m: division by zero"
     ]
    }
   ],
   "source": [
    "profit_percent(0,100)"
   ]
  },
  {
   "cell_type": "code",
   "execution_count": 19,
   "id": "83cadc12",
   "metadata": {},
   "outputs": [
    {
     "name": "stderr",
     "output_type": "stream",
     "text": [
      "C:\\Users\\Deepu\\AppData\\Local\\Temp\\ipykernel_3184\\1523864537.py:2: RuntimeWarning: divide by zero encountered in long_scalars\n",
      "  percent = ((b-a)/a)*100\n"
     ]
    },
    {
     "data": {
      "text/plain": [
       "0     120.000000\n",
       "1     -33.333333\n",
       "2      22.222222\n",
       "3     200.000000\n",
       "4            inf\n",
       "5    1100.000000\n",
       "6      85.714286\n",
       "7     200.000000\n",
       "8     260.000000\n",
       "9      -9.090909\n",
       "dtype: float64"
      ]
     },
     "execution_count": 19,
     "metadata": {},
     "output_type": "execute_result"
    }
   ],
   "source": [
    "df.apply(lambda x: profit_percent(x[0],x[1]),axis = 1)"
   ]
  },
  {
   "cell_type": "code",
   "execution_count": 20,
   "id": "44e4a9c0",
   "metadata": {},
   "outputs": [],
   "source": [
    "# there is a problem first lets try to solve it in the funciton only using error handling "
   ]
  },
  {
   "cell_type": "code",
   "execution_count": 21,
   "id": "43c8a701",
   "metadata": {},
   "outputs": [],
   "source": [
    "def profit_percent_1(a,b):\n",
    "    try:\n",
    "        percent = ((b-a)/a)* 100\n",
    "        return percent\n",
    "    except:\n",
    "        percent = np.nan\n",
    "        return percent"
   ]
  },
  {
   "cell_type": "code",
   "execution_count": 23,
   "id": "0905c7c3",
   "metadata": {},
   "outputs": [
    {
     "data": {
      "text/plain": [
       "28.000000000000004"
      ]
     },
     "execution_count": 23,
     "metadata": {},
     "output_type": "execute_result"
    }
   ],
   "source": [
    "profit_percent_1(100,128)"
   ]
  },
  {
   "cell_type": "code",
   "execution_count": 24,
   "id": "c6a0ff94",
   "metadata": {},
   "outputs": [
    {
     "data": {
      "text/plain": [
       "nan"
      ]
     },
     "execution_count": 24,
     "metadata": {},
     "output_type": "execute_result"
    }
   ],
   "source": [
    "profit_percent_1(0,19)"
   ]
  },
  {
   "cell_type": "code",
   "execution_count": 25,
   "id": "890ac0b6",
   "metadata": {},
   "outputs": [
    {
     "name": "stderr",
     "output_type": "stream",
     "text": [
      "C:\\Users\\Deepu\\AppData\\Local\\Temp\\ipykernel_3184\\3930674006.py:3: RuntimeWarning: divide by zero encountered in long_scalars\n",
      "  percent = ((b-a)/a)* 100\n"
     ]
    },
    {
     "data": {
      "text/plain": [
       "0     120.000000\n",
       "1     -33.333333\n",
       "2      22.222222\n",
       "3     200.000000\n",
       "4            inf\n",
       "5    1100.000000\n",
       "6      85.714286\n",
       "7     200.000000\n",
       "8     260.000000\n",
       "9      -9.090909\n",
       "dtype: float64"
      ]
     },
     "execution_count": 25,
     "metadata": {},
     "output_type": "execute_result"
    }
   ],
   "source": [
    "df.apply(lambda x:profit_percent_1(x[0],x[1]),axis =1)\n",
    "# the problem is still not solved this solves the probelm in imdb data set though"
   ]
  },
  {
   "cell_type": "markdown",
   "id": "f883a6f6",
   "metadata": {},
   "source": [
    "# scrutinize the below line of code carefully "
   ]
  },
  {
   "cell_type": "code",
   "execution_count": 28,
   "id": "f4e703a7",
   "metadata": {},
   "outputs": [
    {
     "data": {
      "text/plain": [
       "0     120.000000\n",
       "1     -33.333333\n",
       "2      22.222222\n",
       "3     200.000000\n",
       "4            NaN\n",
       "5    1100.000000\n",
       "6      85.714286\n",
       "7     200.000000\n",
       "8     260.000000\n",
       "9      -9.090909\n",
       "dtype: float64"
      ]
     },
     "execution_count": 28,
     "metadata": {},
     "output_type": "execute_result"
    }
   ],
   "source": [
    "df.apply(lambda x: profit_percent(x[0],x[1]) if x[0] != 0 else np.nan,axis = 1)"
   ]
  },
  {
   "cell_type": "code",
   "execution_count": 32,
   "id": "a695f2b8",
   "metadata": {},
   "outputs": [],
   "source": [
    "df['profit_percent'] = df.apply(lambda x: profit_percent(x[0],x[1]) if x[0] != 0 else np.nan,axis = 1)"
   ]
  },
  {
   "cell_type": "code",
   "execution_count": 33,
   "id": "2f3b3dc4",
   "metadata": {},
   "outputs": [
    {
     "data": {
      "text/html": [
       "<div>\n",
       "<style scoped>\n",
       "    .dataframe tbody tr th:only-of-type {\n",
       "        vertical-align: middle;\n",
       "    }\n",
       "\n",
       "    .dataframe tbody tr th {\n",
       "        vertical-align: top;\n",
       "    }\n",
       "\n",
       "    .dataframe thead th {\n",
       "        text-align: right;\n",
       "    }\n",
       "</style>\n",
       "<table border=\"1\" class=\"dataframe\">\n",
       "  <thead>\n",
       "    <tr style=\"text-align: right;\">\n",
       "      <th></th>\n",
       "      <th>cost_price</th>\n",
       "      <th>selling_price</th>\n",
       "      <th>profit_percent</th>\n",
       "    </tr>\n",
       "  </thead>\n",
       "  <tbody>\n",
       "    <tr>\n",
       "      <th>0</th>\n",
       "      <td>5</td>\n",
       "      <td>11</td>\n",
       "      <td>120.00</td>\n",
       "    </tr>\n",
       "    <tr>\n",
       "      <th>1</th>\n",
       "      <td>12</td>\n",
       "      <td>8</td>\n",
       "      <td>-33.33</td>\n",
       "    </tr>\n",
       "    <tr>\n",
       "      <th>2</th>\n",
       "      <td>9</td>\n",
       "      <td>11</td>\n",
       "      <td>22.22</td>\n",
       "    </tr>\n",
       "    <tr>\n",
       "      <th>3</th>\n",
       "      <td>5</td>\n",
       "      <td>15</td>\n",
       "      <td>200.00</td>\n",
       "    </tr>\n",
       "    <tr>\n",
       "      <th>4</th>\n",
       "      <td>0</td>\n",
       "      <td>16</td>\n",
       "      <td>NaN</td>\n",
       "    </tr>\n",
       "    <tr>\n",
       "      <th>5</th>\n",
       "      <td>1</td>\n",
       "      <td>12</td>\n",
       "      <td>1100.00</td>\n",
       "    </tr>\n",
       "    <tr>\n",
       "      <th>6</th>\n",
       "      <td>7</td>\n",
       "      <td>13</td>\n",
       "      <td>85.71</td>\n",
       "    </tr>\n",
       "    <tr>\n",
       "      <th>7</th>\n",
       "      <td>6</td>\n",
       "      <td>18</td>\n",
       "      <td>200.00</td>\n",
       "    </tr>\n",
       "    <tr>\n",
       "      <th>8</th>\n",
       "      <td>5</td>\n",
       "      <td>18</td>\n",
       "      <td>260.00</td>\n",
       "    </tr>\n",
       "    <tr>\n",
       "      <th>9</th>\n",
       "      <td>11</td>\n",
       "      <td>10</td>\n",
       "      <td>-9.09</td>\n",
       "    </tr>\n",
       "  </tbody>\n",
       "</table>\n",
       "</div>"
      ],
      "text/plain": [
       "   cost_price  selling_price  profit_percent\n",
       "0           5             11          120.00\n",
       "1          12              8          -33.33\n",
       "2           9             11           22.22\n",
       "3           5             15          200.00\n",
       "4           0             16             NaN\n",
       "5           1             12         1100.00\n",
       "6           7             13           85.71\n",
       "7           6             18          200.00\n",
       "8           5             18          260.00\n",
       "9          11             10           -9.09"
      ]
     },
     "execution_count": 33,
     "metadata": {},
     "output_type": "execute_result"
    }
   ],
   "source": [
    "df"
   ]
  },
  {
   "cell_type": "markdown",
   "id": "78054f2d",
   "metadata": {},
   "source": [
    "**When we use lambda in apply it basically iterates the rows if we don't use the lamda and do directly it will take a series** "
   ]
  },
  {
   "cell_type": "code",
   "execution_count": 39,
   "id": "a56262c0",
   "metadata": {},
   "outputs": [
    {
     "ename": "AssertionError",
     "evalue": "",
     "output_type": "error",
     "traceback": [
      "\u001b[1;31m---------------------------------------------------------------------------\u001b[0m",
      "\u001b[1;31mAssertionError\u001b[0m                            Traceback (most recent call last)",
      "Input \u001b[1;32mIn [39]\u001b[0m, in \u001b[0;36m<cell line: 1>\u001b[1;34m()\u001b[0m\n\u001b[1;32m----> 1\u001b[0m \u001b[43mdf\u001b[49m\u001b[38;5;241;43m.\u001b[39;49m\u001b[43mapply\u001b[49m\u001b[43m(\u001b[49m\u001b[43mprofit_percent\u001b[49m\u001b[43m(\u001b[49m\u001b[43mdf\u001b[49m\u001b[38;5;241;43m.\u001b[39;49m\u001b[43mcost_price\u001b[49m\u001b[43m,\u001b[49m\u001b[43mdf\u001b[49m\u001b[38;5;241;43m.\u001b[39;49m\u001b[43mselling_price\u001b[49m\u001b[43m)\u001b[49m\u001b[43m,\u001b[49m\u001b[43maxis\u001b[49m\u001b[43m \u001b[49m\u001b[38;5;241;43m=\u001b[39;49m\u001b[43m \u001b[49m\u001b[38;5;241;43m1\u001b[39;49m\u001b[43m)\u001b[49m\n",
      "File \u001b[1;32mC:\\ProgramData\\Anaconda3\\lib\\site-packages\\pandas\\core\\frame.py:8839\u001b[0m, in \u001b[0;36mDataFrame.apply\u001b[1;34m(self, func, axis, raw, result_type, args, **kwargs)\u001b[0m\n\u001b[0;32m   8828\u001b[0m \u001b[38;5;28;01mfrom\u001b[39;00m \u001b[38;5;21;01mpandas\u001b[39;00m\u001b[38;5;21;01m.\u001b[39;00m\u001b[38;5;21;01mcore\u001b[39;00m\u001b[38;5;21;01m.\u001b[39;00m\u001b[38;5;21;01mapply\u001b[39;00m \u001b[38;5;28;01mimport\u001b[39;00m frame_apply\n\u001b[0;32m   8830\u001b[0m op \u001b[38;5;241m=\u001b[39m frame_apply(\n\u001b[0;32m   8831\u001b[0m     \u001b[38;5;28mself\u001b[39m,\n\u001b[0;32m   8832\u001b[0m     func\u001b[38;5;241m=\u001b[39mfunc,\n\u001b[1;32m   (...)\u001b[0m\n\u001b[0;32m   8837\u001b[0m     kwargs\u001b[38;5;241m=\u001b[39mkwargs,\n\u001b[0;32m   8838\u001b[0m )\n\u001b[1;32m-> 8839\u001b[0m \u001b[38;5;28;01mreturn\u001b[39;00m \u001b[43mop\u001b[49m\u001b[38;5;241;43m.\u001b[39;49m\u001b[43mapply\u001b[49m\u001b[43m(\u001b[49m\u001b[43m)\u001b[49m\u001b[38;5;241m.\u001b[39m__finalize__(\u001b[38;5;28mself\u001b[39m, method\u001b[38;5;241m=\u001b[39m\u001b[38;5;124m\"\u001b[39m\u001b[38;5;124mapply\u001b[39m\u001b[38;5;124m\"\u001b[39m)\n",
      "File \u001b[1;32mC:\\ProgramData\\Anaconda3\\lib\\site-packages\\pandas\\core\\apply.py:698\u001b[0m, in \u001b[0;36mFrameApply.apply\u001b[1;34m(self)\u001b[0m\n\u001b[0;32m    696\u001b[0m \u001b[38;5;66;03m# dispatch to agg\u001b[39;00m\n\u001b[0;32m    697\u001b[0m \u001b[38;5;28;01mif\u001b[39;00m is_list_like(\u001b[38;5;28mself\u001b[39m\u001b[38;5;241m.\u001b[39mf):\n\u001b[1;32m--> 698\u001b[0m     \u001b[38;5;28;01mreturn\u001b[39;00m \u001b[38;5;28;43mself\u001b[39;49m\u001b[38;5;241;43m.\u001b[39;49m\u001b[43mapply_multiple\u001b[49m\u001b[43m(\u001b[49m\u001b[43m)\u001b[49m\n\u001b[0;32m    700\u001b[0m \u001b[38;5;66;03m# all empty\u001b[39;00m\n\u001b[0;32m    701\u001b[0m \u001b[38;5;28;01mif\u001b[39;00m \u001b[38;5;28mlen\u001b[39m(\u001b[38;5;28mself\u001b[39m\u001b[38;5;241m.\u001b[39mcolumns) \u001b[38;5;241m==\u001b[39m \u001b[38;5;241m0\u001b[39m \u001b[38;5;129;01mand\u001b[39;00m \u001b[38;5;28mlen\u001b[39m(\u001b[38;5;28mself\u001b[39m\u001b[38;5;241m.\u001b[39mindex) \u001b[38;5;241m==\u001b[39m \u001b[38;5;241m0\u001b[39m:\n",
      "File \u001b[1;32mC:\\ProgramData\\Anaconda3\\lib\\site-packages\\pandas\\core\\apply.py:557\u001b[0m, in \u001b[0;36mApply.apply_multiple\u001b[1;34m(self)\u001b[0m\n\u001b[0;32m    548\u001b[0m \u001b[38;5;28;01mdef\u001b[39;00m \u001b[38;5;21mapply_multiple\u001b[39m(\u001b[38;5;28mself\u001b[39m) \u001b[38;5;241m-\u001b[39m\u001b[38;5;241m>\u001b[39m DataFrame \u001b[38;5;241m|\u001b[39m Series:\n\u001b[0;32m    549\u001b[0m     \u001b[38;5;124;03m\"\"\"\u001b[39;00m\n\u001b[0;32m    550\u001b[0m \u001b[38;5;124;03m    Compute apply in case of a list-like or dict-like.\u001b[39;00m\n\u001b[0;32m    551\u001b[0m \n\u001b[1;32m   (...)\u001b[0m\n\u001b[0;32m    555\u001b[0m \u001b[38;5;124;03m        Result when self.f is a list-like or dict-like, None otherwise.\u001b[39;00m\n\u001b[0;32m    556\u001b[0m \u001b[38;5;124;03m    \"\"\"\u001b[39;00m\n\u001b[1;32m--> 557\u001b[0m     \u001b[38;5;28;01mreturn\u001b[39;00m \u001b[38;5;28mself\u001b[39m\u001b[38;5;241m.\u001b[39mobj\u001b[38;5;241m.\u001b[39maggregate(\u001b[38;5;28mself\u001b[39m\u001b[38;5;241m.\u001b[39mf, \u001b[38;5;28mself\u001b[39m\u001b[38;5;241m.\u001b[39maxis, \u001b[38;5;241m*\u001b[39m\u001b[38;5;28mself\u001b[39m\u001b[38;5;241m.\u001b[39margs, \u001b[38;5;241m*\u001b[39m\u001b[38;5;241m*\u001b[39m\u001b[38;5;28mself\u001b[39m\u001b[38;5;241m.\u001b[39mkwargs)\n",
      "File \u001b[1;32mC:\\ProgramData\\Anaconda3\\lib\\site-packages\\pandas\\core\\frame.py:8649\u001b[0m, in \u001b[0;36mDataFrame.aggregate\u001b[1;34m(self, func, axis, *args, **kwargs)\u001b[0m\n\u001b[0;32m   8646\u001b[0m relabeling, func, columns, order \u001b[38;5;241m=\u001b[39m reconstruct_func(func, \u001b[38;5;241m*\u001b[39m\u001b[38;5;241m*\u001b[39mkwargs)\n\u001b[0;32m   8648\u001b[0m op \u001b[38;5;241m=\u001b[39m frame_apply(\u001b[38;5;28mself\u001b[39m, func\u001b[38;5;241m=\u001b[39mfunc, axis\u001b[38;5;241m=\u001b[39maxis, args\u001b[38;5;241m=\u001b[39margs, kwargs\u001b[38;5;241m=\u001b[39mkwargs)\n\u001b[1;32m-> 8649\u001b[0m result \u001b[38;5;241m=\u001b[39m \u001b[43mop\u001b[49m\u001b[38;5;241;43m.\u001b[39;49m\u001b[43magg\u001b[49m\u001b[43m(\u001b[49m\u001b[43m)\u001b[49m\n\u001b[0;32m   8651\u001b[0m \u001b[38;5;28;01mif\u001b[39;00m relabeling:\n\u001b[0;32m   8652\u001b[0m     \u001b[38;5;66;03m# This is to keep the order to columns occurrence unchanged, and also\u001b[39;00m\n\u001b[0;32m   8653\u001b[0m     \u001b[38;5;66;03m# keep the order of new columns occurrence unchanged\u001b[39;00m\n\u001b[0;32m   8654\u001b[0m \n\u001b[0;32m   8655\u001b[0m     \u001b[38;5;66;03m# For the return values of reconstruct_func, if relabeling is\u001b[39;00m\n\u001b[0;32m   8656\u001b[0m     \u001b[38;5;66;03m# False, columns and order will be None.\u001b[39;00m\n\u001b[0;32m   8657\u001b[0m     \u001b[38;5;28;01massert\u001b[39;00m columns \u001b[38;5;129;01mis\u001b[39;00m \u001b[38;5;129;01mnot\u001b[39;00m \u001b[38;5;28;01mNone\u001b[39;00m\n",
      "File \u001b[1;32mC:\\ProgramData\\Anaconda3\\lib\\site-packages\\pandas\\core\\apply.py:739\u001b[0m, in \u001b[0;36mFrameApply.agg\u001b[1;34m(self)\u001b[0m\n\u001b[0;32m    737\u001b[0m result \u001b[38;5;241m=\u001b[39m \u001b[38;5;28;01mNone\u001b[39;00m\n\u001b[0;32m    738\u001b[0m \u001b[38;5;28;01mtry\u001b[39;00m:\n\u001b[1;32m--> 739\u001b[0m     result \u001b[38;5;241m=\u001b[39m \u001b[38;5;28;43msuper\u001b[39;49m\u001b[43m(\u001b[49m\u001b[43m)\u001b[49m\u001b[38;5;241;43m.\u001b[39;49m\u001b[43magg\u001b[49m\u001b[43m(\u001b[49m\u001b[43m)\u001b[49m\n\u001b[0;32m    740\u001b[0m \u001b[38;5;28;01mexcept\u001b[39;00m \u001b[38;5;167;01mTypeError\u001b[39;00m \u001b[38;5;28;01mas\u001b[39;00m err:\n\u001b[0;32m    741\u001b[0m     exc \u001b[38;5;241m=\u001b[39m \u001b[38;5;167;01mTypeError\u001b[39;00m(\n\u001b[0;32m    742\u001b[0m         \u001b[38;5;124m\"\u001b[39m\u001b[38;5;124mDataFrame constructor called with \u001b[39m\u001b[38;5;124m\"\u001b[39m\n\u001b[0;32m    743\u001b[0m         \u001b[38;5;124mf\u001b[39m\u001b[38;5;124m\"\u001b[39m\u001b[38;5;124mincompatible data and dtype: \u001b[39m\u001b[38;5;132;01m{\u001b[39;00merr\u001b[38;5;132;01m}\u001b[39;00m\u001b[38;5;124m\"\u001b[39m\n\u001b[0;32m    744\u001b[0m     )\n",
      "File \u001b[1;32mC:\\ProgramData\\Anaconda3\\lib\\site-packages\\pandas\\core\\apply.py:168\u001b[0m, in \u001b[0;36mApply.agg\u001b[1;34m(self)\u001b[0m\n\u001b[0;32m    165\u001b[0m     \u001b[38;5;28;01mreturn\u001b[39;00m \u001b[38;5;28mself\u001b[39m\u001b[38;5;241m.\u001b[39mapply_str()\n\u001b[0;32m    167\u001b[0m \u001b[38;5;28;01mif\u001b[39;00m is_dict_like(arg):\n\u001b[1;32m--> 168\u001b[0m     \u001b[38;5;28;01mreturn\u001b[39;00m \u001b[38;5;28;43mself\u001b[39;49m\u001b[38;5;241;43m.\u001b[39;49m\u001b[43magg_dict_like\u001b[49m\u001b[43m(\u001b[49m\u001b[43m)\u001b[49m\n\u001b[0;32m    169\u001b[0m \u001b[38;5;28;01melif\u001b[39;00m is_list_like(arg):\n\u001b[0;32m    170\u001b[0m     \u001b[38;5;66;03m# we require a list, but not a 'str'\u001b[39;00m\n\u001b[0;32m    171\u001b[0m     \u001b[38;5;28;01mreturn\u001b[39;00m \u001b[38;5;28mself\u001b[39m\u001b[38;5;241m.\u001b[39magg_list_like()\n",
      "File \u001b[1;32mC:\\ProgramData\\Anaconda3\\lib\\site-packages\\pandas\\core\\apply.py:475\u001b[0m, in \u001b[0;36mApply.agg_dict_like\u001b[1;34m(self)\u001b[0m\n\u001b[0;32m    472\u001b[0m     results \u001b[38;5;241m=\u001b[39m {key: colg\u001b[38;5;241m.\u001b[39magg(how) \u001b[38;5;28;01mfor\u001b[39;00m key, how \u001b[38;5;129;01min\u001b[39;00m arg\u001b[38;5;241m.\u001b[39mitems()}\n\u001b[0;32m    473\u001b[0m \u001b[38;5;28;01melse\u001b[39;00m:\n\u001b[0;32m    474\u001b[0m     \u001b[38;5;66;03m# key used for column selection and output\u001b[39;00m\n\u001b[1;32m--> 475\u001b[0m     results \u001b[38;5;241m=\u001b[39m {\n\u001b[0;32m    476\u001b[0m         key: obj\u001b[38;5;241m.\u001b[39m_gotitem(key, ndim\u001b[38;5;241m=\u001b[39m\u001b[38;5;241m1\u001b[39m)\u001b[38;5;241m.\u001b[39magg(how) \u001b[38;5;28;01mfor\u001b[39;00m key, how \u001b[38;5;129;01min\u001b[39;00m arg\u001b[38;5;241m.\u001b[39mitems()\n\u001b[0;32m    477\u001b[0m     }\n\u001b[0;32m    479\u001b[0m \u001b[38;5;66;03m# set the final keys\u001b[39;00m\n\u001b[0;32m    480\u001b[0m keys \u001b[38;5;241m=\u001b[39m \u001b[38;5;28mlist\u001b[39m(arg\u001b[38;5;241m.\u001b[39mkeys())\n",
      "File \u001b[1;32mC:\\ProgramData\\Anaconda3\\lib\\site-packages\\pandas\\core\\apply.py:476\u001b[0m, in \u001b[0;36m<dictcomp>\u001b[1;34m(.0)\u001b[0m\n\u001b[0;32m    472\u001b[0m     results \u001b[38;5;241m=\u001b[39m {key: colg\u001b[38;5;241m.\u001b[39magg(how) \u001b[38;5;28;01mfor\u001b[39;00m key, how \u001b[38;5;129;01min\u001b[39;00m arg\u001b[38;5;241m.\u001b[39mitems()}\n\u001b[0;32m    473\u001b[0m \u001b[38;5;28;01melse\u001b[39;00m:\n\u001b[0;32m    474\u001b[0m     \u001b[38;5;66;03m# key used for column selection and output\u001b[39;00m\n\u001b[0;32m    475\u001b[0m     results \u001b[38;5;241m=\u001b[39m {\n\u001b[1;32m--> 476\u001b[0m         key: \u001b[43mobj\u001b[49m\u001b[38;5;241;43m.\u001b[39;49m\u001b[43m_gotitem\u001b[49m\u001b[43m(\u001b[49m\u001b[43mkey\u001b[49m\u001b[43m,\u001b[49m\u001b[43m \u001b[49m\u001b[43mndim\u001b[49m\u001b[38;5;241;43m=\u001b[39;49m\u001b[38;5;241;43m1\u001b[39;49m\u001b[43m)\u001b[49m\u001b[38;5;241;43m.\u001b[39;49m\u001b[43magg\u001b[49m\u001b[43m(\u001b[49m\u001b[43mhow\u001b[49m\u001b[43m)\u001b[49m \u001b[38;5;28;01mfor\u001b[39;00m key, how \u001b[38;5;129;01min\u001b[39;00m arg\u001b[38;5;241m.\u001b[39mitems()\n\u001b[0;32m    477\u001b[0m     }\n\u001b[0;32m    479\u001b[0m \u001b[38;5;66;03m# set the final keys\u001b[39;00m\n\u001b[0;32m    480\u001b[0m keys \u001b[38;5;241m=\u001b[39m \u001b[38;5;28mlist\u001b[39m(arg\u001b[38;5;241m.\u001b[39mkeys())\n",
      "File \u001b[1;32mC:\\ProgramData\\Anaconda3\\lib\\site-packages\\pandas\\core\\series.py:4303\u001b[0m, in \u001b[0;36mSeries.aggregate\u001b[1;34m(self, func, axis, *args, **kwargs)\u001b[0m\n\u001b[0;32m   4300\u001b[0m     func \u001b[38;5;241m=\u001b[39m \u001b[38;5;28mdict\u001b[39m(kwargs\u001b[38;5;241m.\u001b[39mitems())\n\u001b[0;32m   4302\u001b[0m op \u001b[38;5;241m=\u001b[39m SeriesApply(\u001b[38;5;28mself\u001b[39m, func, convert_dtype\u001b[38;5;241m=\u001b[39m\u001b[38;5;28;01mFalse\u001b[39;00m, args\u001b[38;5;241m=\u001b[39margs, kwargs\u001b[38;5;241m=\u001b[39mkwargs)\n\u001b[1;32m-> 4303\u001b[0m result \u001b[38;5;241m=\u001b[39m \u001b[43mop\u001b[49m\u001b[38;5;241;43m.\u001b[39;49m\u001b[43magg\u001b[49m\u001b[43m(\u001b[49m\u001b[43m)\u001b[49m\n\u001b[0;32m   4304\u001b[0m \u001b[38;5;28;01mreturn\u001b[39;00m result\n",
      "File \u001b[1;32mC:\\ProgramData\\Anaconda3\\lib\\site-packages\\pandas\\core\\apply.py:1091\u001b[0m, in \u001b[0;36mSeriesApply.agg\u001b[1;34m(self)\u001b[0m\n\u001b[0;32m   1088\u001b[0m kwargs \u001b[38;5;241m=\u001b[39m \u001b[38;5;28mself\u001b[39m\u001b[38;5;241m.\u001b[39mkwargs\n\u001b[0;32m   1090\u001b[0m \u001b[38;5;66;03m# string, list-like, and dict-like are entirely handled in super\u001b[39;00m\n\u001b[1;32m-> 1091\u001b[0m \u001b[38;5;28;01massert\u001b[39;00m callable(f)\n\u001b[0;32m   1093\u001b[0m \u001b[38;5;66;03m# we can be called from an inner function which\u001b[39;00m\n\u001b[0;32m   1094\u001b[0m \u001b[38;5;66;03m# passes this meta-data\u001b[39;00m\n\u001b[0;32m   1095\u001b[0m kwargs\u001b[38;5;241m.\u001b[39mpop(\u001b[38;5;124m\"\u001b[39m\u001b[38;5;124m_level\u001b[39m\u001b[38;5;124m\"\u001b[39m, \u001b[38;5;28;01mNone\u001b[39;00m)\n",
      "\u001b[1;31mAssertionError\u001b[0m: "
     ]
    }
   ],
   "source": [
    "df.apply(profit_percent(df.cost_price,df.selling_price),axis = 1) # takes as series "
   ]
  },
  {
   "cell_type": "markdown",
   "id": "0158be5a",
   "metadata": {},
   "source": [
    "# summarize the lambda function and apply function tomorrow"
   ]
  },
  {
   "cell_type": "markdown",
   "id": "bc9e0091",
   "metadata": {},
   "source": [
    "So first there are some syntax which you have to folow and can't do much about it "
   ]
  },
  {
   "cell_type": "markdown",
   "id": "87c591a1",
   "metadata": {},
   "source": [
    "Lambda function is basically a anonynomous function which can have multiple arugments and only one expression "
   ]
  },
  {
   "cell_type": "markdown",
   "id": "4c5c8e04",
   "metadata": {},
   "source": [
    "Now when it comes to code on dataframe you can do it in two ways one is to write customize function this way you are picking \n",
    "an element from the series one by one and then applying the code \n",
    "The other way is throught lambda funciton , this funciton when used on dataframe iterates the series that is it picks one \n",
    "element form the series and then apply codes on it \n",
    "the other part of the function is unexplored right now "
   ]
  },
  {
   "cell_type": "code",
   "execution_count": 4,
   "id": "001ba8fc",
   "metadata": {},
   "outputs": [
    {
     "data": {
      "text/plain": [
       "4"
      ]
     },
     "execution_count": 4,
     "metadata": {},
     "output_type": "execute_result"
    }
   ],
   "source": [
    "x = lambda a: a*a # a lambda function which returns square of a number\n",
    "x(2) # callng lambda function by the variable to which it is assigned"
   ]
  },
  {
   "cell_type": "code",
   "execution_count": 5,
   "id": "60633a66",
   "metadata": {},
   "outputs": [
    {
     "data": {
      "text/plain": [
       "27"
      ]
     },
     "execution_count": 5,
     "metadata": {},
     "output_type": "execute_result"
    }
   ],
   "source": [
    "# lambda function with multiple arguments \n",
    "y = lambda a,b,c,d,e,f,g: a+b+c+d+e+f+g\n",
    "y(1,2,3,4,5,6,6)"
   ]
  },
  {
   "cell_type": "markdown",
   "id": "b1572df0",
   "metadata": {},
   "source": [
    "**lets apply lambda function on data set via customized functions**"
   ]
  },
  {
   "cell_type": "code",
   "execution_count": 9,
   "id": "c253abb8",
   "metadata": {},
   "outputs": [
    {
     "data": {
      "text/plain": [
       "'C:\\\\Users\\\\Deepu\\\\Documents\\\\My_Python_codes'"
      ]
     },
     "execution_count": 9,
     "metadata": {},
     "output_type": "execute_result"
    }
   ],
   "source": [
    "pwd"
   ]
  },
  {
   "cell_type": "code",
   "execution_count": 10,
   "id": "6da6dfd3",
   "metadata": {},
   "outputs": [
    {
     "name": "stdout",
     "output_type": "stream",
     "text": [
      "C:\\Users\\Deepu\\Downloads\n"
     ]
    }
   ],
   "source": [
    "cd C:\\\\Users\\\\Deepu\\\\Downloads"
   ]
  },
  {
   "cell_type": "code",
   "execution_count": 11,
   "id": "501d08b5",
   "metadata": {},
   "outputs": [],
   "source": [
    "df = pd.read_csv('imdb_data.csv')"
   ]
  },
  {
   "cell_type": "code",
   "execution_count": 12,
   "id": "148b82c3",
   "metadata": {},
   "outputs": [
    {
     "data": {
      "text/html": [
       "<div>\n",
       "<style scoped>\n",
       "    .dataframe tbody tr th:only-of-type {\n",
       "        vertical-align: middle;\n",
       "    }\n",
       "\n",
       "    .dataframe tbody tr th {\n",
       "        vertical-align: top;\n",
       "    }\n",
       "\n",
       "    .dataframe thead th {\n",
       "        text-align: right;\n",
       "    }\n",
       "</style>\n",
       "<table border=\"1\" class=\"dataframe\">\n",
       "  <thead>\n",
       "    <tr style=\"text-align: right;\">\n",
       "      <th></th>\n",
       "      <th>id</th>\n",
       "      <th>belongs_to_collection</th>\n",
       "      <th>budget</th>\n",
       "      <th>genres</th>\n",
       "      <th>homepage</th>\n",
       "      <th>imdb_id</th>\n",
       "      <th>original_language</th>\n",
       "      <th>original_title</th>\n",
       "      <th>overview</th>\n",
       "      <th>popularity</th>\n",
       "      <th>...</th>\n",
       "      <th>release_date</th>\n",
       "      <th>runtime</th>\n",
       "      <th>spoken_languages</th>\n",
       "      <th>status</th>\n",
       "      <th>tagline</th>\n",
       "      <th>title</th>\n",
       "      <th>Keywords</th>\n",
       "      <th>cast</th>\n",
       "      <th>crew</th>\n",
       "      <th>revenue</th>\n",
       "    </tr>\n",
       "  </thead>\n",
       "  <tbody>\n",
       "    <tr>\n",
       "      <th>0</th>\n",
       "      <td>1</td>\n",
       "      <td>[{'id': 313576, 'name': 'Hot Tub Time Machine ...</td>\n",
       "      <td>14000000</td>\n",
       "      <td>[{'id': 35, 'name': 'Comedy'}]</td>\n",
       "      <td>NaN</td>\n",
       "      <td>tt2637294</td>\n",
       "      <td>en</td>\n",
       "      <td>Hot Tub Time Machine 2</td>\n",
       "      <td>When Lou, who has become the \"father of the In...</td>\n",
       "      <td>6.575393</td>\n",
       "      <td>...</td>\n",
       "      <td>2/20/15</td>\n",
       "      <td>93.0</td>\n",
       "      <td>[{'iso_639_1': 'en', 'name': 'English'}]</td>\n",
       "      <td>Released</td>\n",
       "      <td>The Laws of Space and Time are About to be Vio...</td>\n",
       "      <td>Hot Tub Time Machine 2</td>\n",
       "      <td>[{'id': 4379, 'name': 'time travel'}, {'id': 9...</td>\n",
       "      <td>[{'cast_id': 4, 'character': 'Lou', 'credit_id...</td>\n",
       "      <td>[{'credit_id': '59ac067c92514107af02c8c8', 'de...</td>\n",
       "      <td>12314651</td>\n",
       "    </tr>\n",
       "    <tr>\n",
       "      <th>1</th>\n",
       "      <td>2</td>\n",
       "      <td>[{'id': 107674, 'name': 'The Princess Diaries ...</td>\n",
       "      <td>40000000</td>\n",
       "      <td>[{'id': 35, 'name': 'Comedy'}, {'id': 18, 'nam...</td>\n",
       "      <td>NaN</td>\n",
       "      <td>tt0368933</td>\n",
       "      <td>en</td>\n",
       "      <td>The Princess Diaries 2: Royal Engagement</td>\n",
       "      <td>Mia Thermopolis is now a college graduate and ...</td>\n",
       "      <td>8.248895</td>\n",
       "      <td>...</td>\n",
       "      <td>8/6/04</td>\n",
       "      <td>113.0</td>\n",
       "      <td>[{'iso_639_1': 'en', 'name': 'English'}]</td>\n",
       "      <td>Released</td>\n",
       "      <td>It can take a lifetime to find true love; she'...</td>\n",
       "      <td>The Princess Diaries 2: Royal Engagement</td>\n",
       "      <td>[{'id': 2505, 'name': 'coronation'}, {'id': 42...</td>\n",
       "      <td>[{'cast_id': 1, 'character': 'Mia Thermopolis'...</td>\n",
       "      <td>[{'credit_id': '52fe43fe9251416c7502563d', 'de...</td>\n",
       "      <td>95149435</td>\n",
       "    </tr>\n",
       "    <tr>\n",
       "      <th>2</th>\n",
       "      <td>3</td>\n",
       "      <td>NaN</td>\n",
       "      <td>3300000</td>\n",
       "      <td>[{'id': 18, 'name': 'Drama'}]</td>\n",
       "      <td>http://sonyclassics.com/whiplash/</td>\n",
       "      <td>tt2582802</td>\n",
       "      <td>en</td>\n",
       "      <td>Whiplash</td>\n",
       "      <td>Under the direction of a ruthless instructor, ...</td>\n",
       "      <td>64.299990</td>\n",
       "      <td>...</td>\n",
       "      <td>10/10/14</td>\n",
       "      <td>105.0</td>\n",
       "      <td>[{'iso_639_1': 'en', 'name': 'English'}]</td>\n",
       "      <td>Released</td>\n",
       "      <td>The road to greatness can take you to the edge.</td>\n",
       "      <td>Whiplash</td>\n",
       "      <td>[{'id': 1416, 'name': 'jazz'}, {'id': 1523, 'n...</td>\n",
       "      <td>[{'cast_id': 5, 'character': 'Andrew Neimann',...</td>\n",
       "      <td>[{'credit_id': '54d5356ec3a3683ba0000039', 'de...</td>\n",
       "      <td>13092000</td>\n",
       "    </tr>\n",
       "    <tr>\n",
       "      <th>3</th>\n",
       "      <td>4</td>\n",
       "      <td>NaN</td>\n",
       "      <td>1200000</td>\n",
       "      <td>[{'id': 53, 'name': 'Thriller'}, {'id': 18, 'n...</td>\n",
       "      <td>http://kahaanithefilm.com/</td>\n",
       "      <td>tt1821480</td>\n",
       "      <td>hi</td>\n",
       "      <td>Kahaani</td>\n",
       "      <td>Vidya Bagchi (Vidya Balan) arrives in Kolkata ...</td>\n",
       "      <td>3.174936</td>\n",
       "      <td>...</td>\n",
       "      <td>3/9/12</td>\n",
       "      <td>122.0</td>\n",
       "      <td>[{'iso_639_1': 'en', 'name': 'English'}, {'iso...</td>\n",
       "      <td>Released</td>\n",
       "      <td>NaN</td>\n",
       "      <td>Kahaani</td>\n",
       "      <td>[{'id': 10092, 'name': 'mystery'}, {'id': 1054...</td>\n",
       "      <td>[{'cast_id': 1, 'character': 'Vidya Bagchi', '...</td>\n",
       "      <td>[{'credit_id': '52fe48779251416c9108d6eb', 'de...</td>\n",
       "      <td>16000000</td>\n",
       "    </tr>\n",
       "    <tr>\n",
       "      <th>4</th>\n",
       "      <td>5</td>\n",
       "      <td>NaN</td>\n",
       "      <td>0</td>\n",
       "      <td>[{'id': 28, 'name': 'Action'}, {'id': 53, 'nam...</td>\n",
       "      <td>NaN</td>\n",
       "      <td>tt1380152</td>\n",
       "      <td>ko</td>\n",
       "      <td>마린보이</td>\n",
       "      <td>Marine Boy is the story of a former national s...</td>\n",
       "      <td>1.148070</td>\n",
       "      <td>...</td>\n",
       "      <td>2/5/09</td>\n",
       "      <td>118.0</td>\n",
       "      <td>[{'iso_639_1': 'ko', 'name': '한국어/조선말'}]</td>\n",
       "      <td>Released</td>\n",
       "      <td>NaN</td>\n",
       "      <td>Marine Boy</td>\n",
       "      <td>NaN</td>\n",
       "      <td>[{'cast_id': 3, 'character': 'Chun-soo', 'cred...</td>\n",
       "      <td>[{'credit_id': '52fe464b9251416c75073b43', 'de...</td>\n",
       "      <td>3923970</td>\n",
       "    </tr>\n",
       "    <tr>\n",
       "      <th>...</th>\n",
       "      <td>...</td>\n",
       "      <td>...</td>\n",
       "      <td>...</td>\n",
       "      <td>...</td>\n",
       "      <td>...</td>\n",
       "      <td>...</td>\n",
       "      <td>...</td>\n",
       "      <td>...</td>\n",
       "      <td>...</td>\n",
       "      <td>...</td>\n",
       "      <td>...</td>\n",
       "      <td>...</td>\n",
       "      <td>...</td>\n",
       "      <td>...</td>\n",
       "      <td>...</td>\n",
       "      <td>...</td>\n",
       "      <td>...</td>\n",
       "      <td>...</td>\n",
       "      <td>...</td>\n",
       "      <td>...</td>\n",
       "      <td>...</td>\n",
       "    </tr>\n",
       "    <tr>\n",
       "      <th>2995</th>\n",
       "      <td>2996</td>\n",
       "      <td>NaN</td>\n",
       "      <td>0</td>\n",
       "      <td>[{'id': 35, 'name': 'Comedy'}, {'id': 10749, '...</td>\n",
       "      <td>NaN</td>\n",
       "      <td>tt0109403</td>\n",
       "      <td>en</td>\n",
       "      <td>Chasers</td>\n",
       "      <td>Military men Rock Reilly and Eddie Devane are ...</td>\n",
       "      <td>9.853270</td>\n",
       "      <td>...</td>\n",
       "      <td>4/22/94</td>\n",
       "      <td>102.0</td>\n",
       "      <td>[{'iso_639_1': 'en', 'name': 'English'}]</td>\n",
       "      <td>Released</td>\n",
       "      <td>It was supposed to be a routine prisoner trans...</td>\n",
       "      <td>Chasers</td>\n",
       "      <td>[{'id': 378, 'name': 'prison'}, {'id': 572, 'n...</td>\n",
       "      <td>[{'cast_id': 2, 'character': 'Rock Reilly', 'c...</td>\n",
       "      <td>[{'credit_id': '52fe4494c3a368484e02ac7d', 'de...</td>\n",
       "      <td>1596687</td>\n",
       "    </tr>\n",
       "    <tr>\n",
       "      <th>2996</th>\n",
       "      <td>2997</td>\n",
       "      <td>NaN</td>\n",
       "      <td>0</td>\n",
       "      <td>[{'id': 18, 'name': 'Drama'}, {'id': 10402, 'n...</td>\n",
       "      <td>NaN</td>\n",
       "      <td>tt2364975</td>\n",
       "      <td>sv</td>\n",
       "      <td>Vi är bäst!</td>\n",
       "      <td>Three girls in 1980s Stockholm decide to form ...</td>\n",
       "      <td>3.727996</td>\n",
       "      <td>...</td>\n",
       "      <td>3/28/13</td>\n",
       "      <td>102.0</td>\n",
       "      <td>[{'iso_639_1': 'sv', 'name': 'svenska'}]</td>\n",
       "      <td>Released</td>\n",
       "      <td>NaN</td>\n",
       "      <td>We Are the Best!</td>\n",
       "      <td>[{'id': 1192, 'name': 'sweden'}, {'id': 4470, ...</td>\n",
       "      <td>[{'cast_id': 5, 'character': 'Bobo', 'credit_i...</td>\n",
       "      <td>[{'credit_id': '5716b72ac3a3686678012c84', 'de...</td>\n",
       "      <td>180590</td>\n",
       "    </tr>\n",
       "    <tr>\n",
       "      <th>2997</th>\n",
       "      <td>2998</td>\n",
       "      <td>NaN</td>\n",
       "      <td>65000000</td>\n",
       "      <td>[{'id': 80, 'name': 'Crime'}, {'id': 28, 'name...</td>\n",
       "      <td>NaN</td>\n",
       "      <td>tt0116908</td>\n",
       "      <td>en</td>\n",
       "      <td>The Long Kiss Goodnight</td>\n",
       "      <td>Samantha Caine, suburban homemaker, is the ide...</td>\n",
       "      <td>14.482345</td>\n",
       "      <td>...</td>\n",
       "      <td>10/11/96</td>\n",
       "      <td>120.0</td>\n",
       "      <td>[{'iso_639_1': 'en', 'name': 'English'}]</td>\n",
       "      <td>Released</td>\n",
       "      <td>What's forgotten is not always gone.</td>\n",
       "      <td>The Long Kiss Goodnight</td>\n",
       "      <td>[{'id': 441, 'name': 'assassination'}, {'id': ...</td>\n",
       "      <td>[{'cast_id': 10, 'character': 'Samantha Caine ...</td>\n",
       "      <td>[{'credit_id': '52fe443a9251416c7502d579', 'de...</td>\n",
       "      <td>89456761</td>\n",
       "    </tr>\n",
       "    <tr>\n",
       "      <th>2998</th>\n",
       "      <td>2999</td>\n",
       "      <td>NaN</td>\n",
       "      <td>42000000</td>\n",
       "      <td>[{'id': 35, 'name': 'Comedy'}, {'id': 10749, '...</td>\n",
       "      <td>http://www.alongcamepolly.com/</td>\n",
       "      <td>tt0343135</td>\n",
       "      <td>en</td>\n",
       "      <td>Along Came Polly</td>\n",
       "      <td>Reuben Feffer is a guy who's spent his entire ...</td>\n",
       "      <td>15.725542</td>\n",
       "      <td>...</td>\n",
       "      <td>1/16/04</td>\n",
       "      <td>90.0</td>\n",
       "      <td>[{'iso_639_1': 'en', 'name': 'English'}]</td>\n",
       "      <td>Released</td>\n",
       "      <td>For the most cautious man on Earth, life is ab...</td>\n",
       "      <td>Along Came Polly</td>\n",
       "      <td>[{'id': 966, 'name': 'beach'}, {'id': 2676, 'n...</td>\n",
       "      <td>[{'cast_id': 8, 'character': 'Reuben Feffer', ...</td>\n",
       "      <td>[{'credit_id': '556f817b9251410866000a63', 'de...</td>\n",
       "      <td>171963386</td>\n",
       "    </tr>\n",
       "    <tr>\n",
       "      <th>2999</th>\n",
       "      <td>3000</td>\n",
       "      <td>NaN</td>\n",
       "      <td>35000000</td>\n",
       "      <td>[{'id': 53, 'name': 'Thriller'}, {'id': 28, 'n...</td>\n",
       "      <td>http://www.abductionthefilm.com/</td>\n",
       "      <td>tt1600195</td>\n",
       "      <td>en</td>\n",
       "      <td>Abduction</td>\n",
       "      <td>A young man sets out to uncover the truth abou...</td>\n",
       "      <td>10.512109</td>\n",
       "      <td>...</td>\n",
       "      <td>9/22/11</td>\n",
       "      <td>106.0</td>\n",
       "      <td>[{'iso_639_1': 'en', 'name': 'English'}]</td>\n",
       "      <td>Released</td>\n",
       "      <td>They stole his life. He's taking it back.</td>\n",
       "      <td>Abduction</td>\n",
       "      <td>[{'id': 591, 'name': 'cia'}, {'id': 822, 'name...</td>\n",
       "      <td>[{'cast_id': 2, 'character': 'Nathan Harper', ...</td>\n",
       "      <td>[{'credit_id': '5391990d0e0a260fb5001629', 'de...</td>\n",
       "      <td>82087155</td>\n",
       "    </tr>\n",
       "  </tbody>\n",
       "</table>\n",
       "<p>3000 rows × 23 columns</p>\n",
       "</div>"
      ],
      "text/plain": [
       "        id                              belongs_to_collection    budget  \\\n",
       "0        1  [{'id': 313576, 'name': 'Hot Tub Time Machine ...  14000000   \n",
       "1        2  [{'id': 107674, 'name': 'The Princess Diaries ...  40000000   \n",
       "2        3                                                NaN   3300000   \n",
       "3        4                                                NaN   1200000   \n",
       "4        5                                                NaN         0   \n",
       "...    ...                                                ...       ...   \n",
       "2995  2996                                                NaN         0   \n",
       "2996  2997                                                NaN         0   \n",
       "2997  2998                                                NaN  65000000   \n",
       "2998  2999                                                NaN  42000000   \n",
       "2999  3000                                                NaN  35000000   \n",
       "\n",
       "                                                 genres  \\\n",
       "0                        [{'id': 35, 'name': 'Comedy'}]   \n",
       "1     [{'id': 35, 'name': 'Comedy'}, {'id': 18, 'nam...   \n",
       "2                         [{'id': 18, 'name': 'Drama'}]   \n",
       "3     [{'id': 53, 'name': 'Thriller'}, {'id': 18, 'n...   \n",
       "4     [{'id': 28, 'name': 'Action'}, {'id': 53, 'nam...   \n",
       "...                                                 ...   \n",
       "2995  [{'id': 35, 'name': 'Comedy'}, {'id': 10749, '...   \n",
       "2996  [{'id': 18, 'name': 'Drama'}, {'id': 10402, 'n...   \n",
       "2997  [{'id': 80, 'name': 'Crime'}, {'id': 28, 'name...   \n",
       "2998  [{'id': 35, 'name': 'Comedy'}, {'id': 10749, '...   \n",
       "2999  [{'id': 53, 'name': 'Thriller'}, {'id': 28, 'n...   \n",
       "\n",
       "                               homepage    imdb_id original_language  \\\n",
       "0                                   NaN  tt2637294                en   \n",
       "1                                   NaN  tt0368933                en   \n",
       "2     http://sonyclassics.com/whiplash/  tt2582802                en   \n",
       "3            http://kahaanithefilm.com/  tt1821480                hi   \n",
       "4                                   NaN  tt1380152                ko   \n",
       "...                                 ...        ...               ...   \n",
       "2995                                NaN  tt0109403                en   \n",
       "2996                                NaN  tt2364975                sv   \n",
       "2997                                NaN  tt0116908                en   \n",
       "2998     http://www.alongcamepolly.com/  tt0343135                en   \n",
       "2999   http://www.abductionthefilm.com/  tt1600195                en   \n",
       "\n",
       "                                original_title  \\\n",
       "0                       Hot Tub Time Machine 2   \n",
       "1     The Princess Diaries 2: Royal Engagement   \n",
       "2                                     Whiplash   \n",
       "3                                      Kahaani   \n",
       "4                                         마린보이   \n",
       "...                                        ...   \n",
       "2995                                   Chasers   \n",
       "2996                               Vi är bäst!   \n",
       "2997                   The Long Kiss Goodnight   \n",
       "2998                          Along Came Polly   \n",
       "2999                                 Abduction   \n",
       "\n",
       "                                               overview  popularity  ...  \\\n",
       "0     When Lou, who has become the \"father of the In...    6.575393  ...   \n",
       "1     Mia Thermopolis is now a college graduate and ...    8.248895  ...   \n",
       "2     Under the direction of a ruthless instructor, ...   64.299990  ...   \n",
       "3     Vidya Bagchi (Vidya Balan) arrives in Kolkata ...    3.174936  ...   \n",
       "4     Marine Boy is the story of a former national s...    1.148070  ...   \n",
       "...                                                 ...         ...  ...   \n",
       "2995  Military men Rock Reilly and Eddie Devane are ...    9.853270  ...   \n",
       "2996  Three girls in 1980s Stockholm decide to form ...    3.727996  ...   \n",
       "2997  Samantha Caine, suburban homemaker, is the ide...   14.482345  ...   \n",
       "2998  Reuben Feffer is a guy who's spent his entire ...   15.725542  ...   \n",
       "2999  A young man sets out to uncover the truth abou...   10.512109  ...   \n",
       "\n",
       "     release_date runtime                                   spoken_languages  \\\n",
       "0         2/20/15    93.0           [{'iso_639_1': 'en', 'name': 'English'}]   \n",
       "1          8/6/04   113.0           [{'iso_639_1': 'en', 'name': 'English'}]   \n",
       "2        10/10/14   105.0           [{'iso_639_1': 'en', 'name': 'English'}]   \n",
       "3          3/9/12   122.0  [{'iso_639_1': 'en', 'name': 'English'}, {'iso...   \n",
       "4          2/5/09   118.0           [{'iso_639_1': 'ko', 'name': '한국어/조선말'}]   \n",
       "...           ...     ...                                                ...   \n",
       "2995      4/22/94   102.0           [{'iso_639_1': 'en', 'name': 'English'}]   \n",
       "2996      3/28/13   102.0           [{'iso_639_1': 'sv', 'name': 'svenska'}]   \n",
       "2997     10/11/96   120.0           [{'iso_639_1': 'en', 'name': 'English'}]   \n",
       "2998      1/16/04    90.0           [{'iso_639_1': 'en', 'name': 'English'}]   \n",
       "2999      9/22/11   106.0           [{'iso_639_1': 'en', 'name': 'English'}]   \n",
       "\n",
       "        status                                            tagline  \\\n",
       "0     Released  The Laws of Space and Time are About to be Vio...   \n",
       "1     Released  It can take a lifetime to find true love; she'...   \n",
       "2     Released    The road to greatness can take you to the edge.   \n",
       "3     Released                                                NaN   \n",
       "4     Released                                                NaN   \n",
       "...        ...                                                ...   \n",
       "2995  Released  It was supposed to be a routine prisoner trans...   \n",
       "2996  Released                                                NaN   \n",
       "2997  Released               What's forgotten is not always gone.   \n",
       "2998  Released  For the most cautious man on Earth, life is ab...   \n",
       "2999  Released          They stole his life. He's taking it back.   \n",
       "\n",
       "                                         title  \\\n",
       "0                       Hot Tub Time Machine 2   \n",
       "1     The Princess Diaries 2: Royal Engagement   \n",
       "2                                     Whiplash   \n",
       "3                                      Kahaani   \n",
       "4                                   Marine Boy   \n",
       "...                                        ...   \n",
       "2995                                   Chasers   \n",
       "2996                          We Are the Best!   \n",
       "2997                   The Long Kiss Goodnight   \n",
       "2998                          Along Came Polly   \n",
       "2999                                 Abduction   \n",
       "\n",
       "                                               Keywords  \\\n",
       "0     [{'id': 4379, 'name': 'time travel'}, {'id': 9...   \n",
       "1     [{'id': 2505, 'name': 'coronation'}, {'id': 42...   \n",
       "2     [{'id': 1416, 'name': 'jazz'}, {'id': 1523, 'n...   \n",
       "3     [{'id': 10092, 'name': 'mystery'}, {'id': 1054...   \n",
       "4                                                   NaN   \n",
       "...                                                 ...   \n",
       "2995  [{'id': 378, 'name': 'prison'}, {'id': 572, 'n...   \n",
       "2996  [{'id': 1192, 'name': 'sweden'}, {'id': 4470, ...   \n",
       "2997  [{'id': 441, 'name': 'assassination'}, {'id': ...   \n",
       "2998  [{'id': 966, 'name': 'beach'}, {'id': 2676, 'n...   \n",
       "2999  [{'id': 591, 'name': 'cia'}, {'id': 822, 'name...   \n",
       "\n",
       "                                                   cast  \\\n",
       "0     [{'cast_id': 4, 'character': 'Lou', 'credit_id...   \n",
       "1     [{'cast_id': 1, 'character': 'Mia Thermopolis'...   \n",
       "2     [{'cast_id': 5, 'character': 'Andrew Neimann',...   \n",
       "3     [{'cast_id': 1, 'character': 'Vidya Bagchi', '...   \n",
       "4     [{'cast_id': 3, 'character': 'Chun-soo', 'cred...   \n",
       "...                                                 ...   \n",
       "2995  [{'cast_id': 2, 'character': 'Rock Reilly', 'c...   \n",
       "2996  [{'cast_id': 5, 'character': 'Bobo', 'credit_i...   \n",
       "2997  [{'cast_id': 10, 'character': 'Samantha Caine ...   \n",
       "2998  [{'cast_id': 8, 'character': 'Reuben Feffer', ...   \n",
       "2999  [{'cast_id': 2, 'character': 'Nathan Harper', ...   \n",
       "\n",
       "                                                   crew    revenue  \n",
       "0     [{'credit_id': '59ac067c92514107af02c8c8', 'de...   12314651  \n",
       "1     [{'credit_id': '52fe43fe9251416c7502563d', 'de...   95149435  \n",
       "2     [{'credit_id': '54d5356ec3a3683ba0000039', 'de...   13092000  \n",
       "3     [{'credit_id': '52fe48779251416c9108d6eb', 'de...   16000000  \n",
       "4     [{'credit_id': '52fe464b9251416c75073b43', 'de...    3923970  \n",
       "...                                                 ...        ...  \n",
       "2995  [{'credit_id': '52fe4494c3a368484e02ac7d', 'de...    1596687  \n",
       "2996  [{'credit_id': '5716b72ac3a3686678012c84', 'de...     180590  \n",
       "2997  [{'credit_id': '52fe443a9251416c7502d579', 'de...   89456761  \n",
       "2998  [{'credit_id': '556f817b9251410866000a63', 'de...  171963386  \n",
       "2999  [{'credit_id': '5391990d0e0a260fb5001629', 'de...   82087155  \n",
       "\n",
       "[3000 rows x 23 columns]"
      ]
     },
     "execution_count": 12,
     "metadata": {},
     "output_type": "execute_result"
    }
   ],
   "source": [
    "df"
   ]
  },
  {
   "cell_type": "code",
   "execution_count": 16,
   "id": "43d3e2dc",
   "metadata": {},
   "outputs": [],
   "source": [
    "def c_profit(a):\n",
    "    '''the data has zero hence do error handling also'''\n",
    "    try:\n",
    "        profit = ((a.budget-a.revenue)/a.budget)*100\n",
    "        return round(profit,2)\n",
    "    except:\n",
    "        return np.nan # return np.nan when budget is zero"
   ]
  },
  {
   "cell_type": "markdown",
   "id": "6d3a2779",
   "metadata": {},
   "source": [
    "In this code below you must be wondering that why have I not passed the arguments in the function c_profit well the argument is already taken care while define the funciton "
   ]
  },
  {
   "cell_type": "code",
   "execution_count": 18,
   "id": "02fce18c",
   "metadata": {},
   "outputs": [
    {
     "data": {
      "text/plain": [
       "0         12.04\n",
       "1       -137.87\n",
       "2       -296.73\n",
       "3      -1233.33\n",
       "4           NaN\n",
       "         ...   \n",
       "2995        NaN\n",
       "2996        NaN\n",
       "2997     -37.63\n",
       "2998    -309.44\n",
       "2999    -134.53\n",
       "Length: 3000, dtype: float64"
      ]
     },
     "execution_count": 18,
     "metadata": {},
     "output_type": "execute_result"
    }
   ],
   "source": [
    "df.apply(c_profit,axis = 1)"
   ]
  },
  {
   "cell_type": "markdown",
   "id": "49957109",
   "metadata": {},
   "source": [
    "**lets use lambda function to apply the same operation**\n",
    "Note I am again mentioning that the lambdda function basically iterates the series "
   ]
  },
  {
   "cell_type": "code",
   "execution_count": 21,
   "id": "02d286bb",
   "metadata": {},
   "outputs": [],
   "source": [
    "def profit_percent(cp,sp):\n",
    "    try:\n",
    "        profit = ((sp-cp)/cp)*100\n",
    "        return round(profit,2)\n",
    "    except:\n",
    "        profit = np.nan\n",
    "        return profit\n",
    "        "
   ]
  },
  {
   "cell_type": "code",
   "execution_count": 22,
   "id": "f141b8f2",
   "metadata": {},
   "outputs": [
    {
     "data": {
      "text/plain": [
       "20.0"
      ]
     },
     "execution_count": 22,
     "metadata": {},
     "output_type": "execute_result"
    }
   ],
   "source": [
    "profit_percent(100,120)"
   ]
  },
  {
   "cell_type": "code",
   "execution_count": 24,
   "id": "9dc1e6ed",
   "metadata": {},
   "outputs": [
    {
     "data": {
      "text/plain": [
       "nan"
      ]
     },
     "execution_count": 24,
     "metadata": {},
     "output_type": "execute_result"
    }
   ],
   "source": [
    "profit_percent(0,120)"
   ]
  },
  {
   "cell_type": "code",
   "execution_count": 25,
   "id": "8fb0e29c",
   "metadata": {},
   "outputs": [
    {
     "data": {
      "text/plain": [
       "0        -12.04\n",
       "1        137.87\n",
       "2        296.73\n",
       "3       1233.33\n",
       "4           NaN\n",
       "         ...   \n",
       "2995        NaN\n",
       "2996        NaN\n",
       "2997      37.63\n",
       "2998     309.44\n",
       "2999     134.53\n",
       "Length: 3000, dtype: float64"
      ]
     },
     "execution_count": 25,
     "metadata": {},
     "output_type": "execute_result"
    }
   ],
   "source": [
    "df.apply(lambda x: profit_percent(x.budget,x.revenue),axis =1)"
   ]
  },
  {
   "cell_type": "markdown",
   "id": "36b7f5c1",
   "metadata": {},
   "source": [
    "Now the thrid case where we are handling the error in the apply code only "
   ]
  },
  {
   "cell_type": "code",
   "execution_count": 27,
   "id": "1615be43",
   "metadata": {},
   "outputs": [],
   "source": [
    "def profit_percent(cp,sp):\n",
    "    profit = ((sp-cp)/cp)*100\n",
    "    return round(profit)"
   ]
  },
  {
   "cell_type": "code",
   "execution_count": 29,
   "id": "cc9f88cf",
   "metadata": {},
   "outputs": [
    {
     "data": {
      "text/plain": [
       "0        -12.0\n",
       "1        138.0\n",
       "2        297.0\n",
       "3       1233.0\n",
       "4          NaN\n",
       "         ...  \n",
       "2995       NaN\n",
       "2996       NaN\n",
       "2997      38.0\n",
       "2998     309.0\n",
       "2999     135.0\n",
       "Length: 3000, dtype: float64"
      ]
     },
     "execution_count": 29,
     "metadata": {},
     "output_type": "execute_result"
    }
   ],
   "source": [
    "# agian this is a syntax and you can not do much about it \n",
    "df.apply(lambda x: profit_percent(x.budget,x.revenue) if x.budget != 0 else np.nan,axis = 1)"
   ]
  },
  {
   "cell_type": "markdown",
   "id": "b1a4b4b7",
   "metadata": {},
   "source": [
    "Unexplored part "
   ]
  },
  {
   "cell_type": "code",
   "execution_count": 31,
   "id": "e493d6b9",
   "metadata": {},
   "outputs": [],
   "source": [
    "def caps(a):\n",
    "    return a.upper()"
   ]
  },
  {
   "cell_type": "code",
   "execution_count": 37,
   "id": "39acab2c",
   "metadata": {},
   "outputs": [
    {
     "data": {
      "text/plain": [
       "0                         HOT TUB TIME MACHINE 2\n",
       "1       THE PRINCESS DIARIES 2: ROYAL ENGAGEMENT\n",
       "2                                       WHIPLASH\n",
       "3                                        KAHAANI\n",
       "4                                           마린보이\n",
       "                          ...                   \n",
       "2995                                     CHASERS\n",
       "2996                                 VI ÄR BÄST!\n",
       "2997                     THE LONG KISS GOODNIGHT\n",
       "2998                            ALONG CAME POLLY\n",
       "2999                                   ABDUCTION\n",
       "Name: original_title, Length: 3000, dtype: object"
      ]
     },
     "execution_count": 37,
     "metadata": {},
     "output_type": "execute_result"
    }
   ],
   "source": [
    "''' note here when you are doing df.column_name.apply you don't have to use the arguent axis = 1\n",
    "because you are already defining the name of the column you want to used the code on '''\n",
    "df.original_title.apply(caps)"
   ]
  },
  {
   "cell_type": "markdown",
   "id": "8fa479d4",
   "metadata": {},
   "source": [
    "You can use inbuit function on dataframe provided by pandas and you can create some new function and use them by apply method"
   ]
  },
  {
   "cell_type": "code",
   "execution_count": 39,
   "id": "2f341951",
   "metadata": {},
   "outputs": [
    {
     "data": {
      "text/plain": [
       "0                         HOT TUB TIME MACHINE 2\n",
       "1       THE PRINCESS DIARIES 2: ROYAL ENGAGEMENT\n",
       "2                                       WHIPLASH\n",
       "3                                        KAHAANI\n",
       "4                                           마린보이\n",
       "                          ...                   \n",
       "2995                                     CHASERS\n",
       "2996                                 VI ÄR BÄST!\n",
       "2997                     THE LONG KISS GOODNIGHT\n",
       "2998                            ALONG CAME POLLY\n",
       "2999                                   ABDUCTION\n",
       "Length: 3000, dtype: object"
      ]
     },
     "execution_count": 39,
     "metadata": {},
     "output_type": "execute_result"
    }
   ],
   "source": [
    "# you can run the same function using lambda function \n",
    "df.apply(lambda x: x.original_title.upper(),axis = 1)"
   ]
  },
  {
   "cell_type": "markdown",
   "id": "f3fa79f9",
   "metadata": {},
   "source": [
    "One more method which comes in handy to find the index of the columns in dataframe is"
   ]
  },
  {
   "cell_type": "code",
   "execution_count": 44,
   "id": "b9c50c67",
   "metadata": {},
   "outputs": [
    {
     "data": {
      "text/plain": [
       "2"
      ]
     },
     "execution_count": 44,
     "metadata": {},
     "output_type": "execute_result"
    }
   ],
   "source": [
    "df.columns.get_loc('budget')"
   ]
  },
  {
   "cell_type": "code",
   "execution_count": 43,
   "id": "6c5803cb",
   "metadata": {},
   "outputs": [
    {
     "data": {
      "text/plain": [
       "22"
      ]
     },
     "execution_count": 43,
     "metadata": {},
     "output_type": "execute_result"
    }
   ],
   "source": [
    "df.columns.get_loc('revenue')"
   ]
  },
  {
   "cell_type": "markdown",
   "id": "94ce79a7",
   "metadata": {},
   "source": [
    "So when writing the customize funciton you can directy use index as well "
   ]
  },
  {
   "cell_type": "markdown",
   "id": "5f35b352",
   "metadata": {},
   "source": [
    "# There are 3 ways to use apply methods\n",
    "## 1.df.column_name.apply(general_function_name) \n",
    "## here you are directly applying the funciton on the column , no need to mention axis in that case this comes in handy when you have to operate on a single column only \n",
    "## 2.df.apply(lambda x: function(x.column),axis = 1)\n",
    "## 3.df.apply(custom_function,axis = 1)"
   ]
  },
  {
   "cell_type": "code",
   "execution_count": null,
   "id": "cd9ff93c",
   "metadata": {},
   "outputs": [],
   "source": []
  }
 ],
 "metadata": {
  "kernelspec": {
   "display_name": "Python 3 (ipykernel)",
   "language": "python",
   "name": "python3"
  },
  "language_info": {
   "codemirror_mode": {
    "name": "ipython",
    "version": 3
   },
   "file_extension": ".py",
   "mimetype": "text/x-python",
   "name": "python",
   "nbconvert_exporter": "python",
   "pygments_lexer": "ipython3",
   "version": "3.9.12"
  }
 },
 "nbformat": 4,
 "nbformat_minor": 5
}
