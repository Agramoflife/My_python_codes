{
 "cells": [
  {
   "cell_type": "code",
   "execution_count": 1,
   "id": "8551ec78",
   "metadata": {},
   "outputs": [],
   "source": [
    "from datetime import datetime,time"
   ]
  },
  {
   "cell_type": "code",
   "execution_count": 2,
   "id": "645204f2",
   "metadata": {},
   "outputs": [],
   "source": [
    "din = datetime.now()"
   ]
  },
  {
   "cell_type": "code",
   "execution_count": 3,
   "id": "3e72cecb",
   "metadata": {},
   "outputs": [
    {
     "name": "stdout",
     "output_type": "stream",
     "text": [
      "2023-02-26 13:06:21.476065\n"
     ]
    }
   ],
   "source": [
    "print(din)"
   ]
  },
  {
   "cell_type": "code",
   "execution_count": 6,
   "id": "e826aae5",
   "metadata": {},
   "outputs": [
    {
     "name": "stdout",
     "output_type": "stream",
     "text": [
      "02-26-23\n"
     ]
    }
   ],
   "source": [
    "din_stringed=din.strftime('%m-%d-%y')\n",
    "print(din_stringed)"
   ]
  },
  {
   "cell_type": "code",
   "execution_count": 8,
   "id": "f3e492c9",
   "metadata": {},
   "outputs": [
    {
     "name": "stdout",
     "output_type": "stream",
     "text": [
      "02/26\n"
     ]
    }
   ],
   "source": [
    "din_sliced = din.strftime('%m/%d')\n",
    "print(din_sliced)"
   ]
  },
  {
   "cell_type": "code",
   "execution_count": null,
   "id": "28ebeda5",
   "metadata": {},
   "outputs": [],
   "source": []
  }
 ],
 "metadata": {
  "kernelspec": {
   "display_name": "Python 3 (ipykernel)",
   "language": "python",
   "name": "python3"
  },
  "language_info": {
   "codemirror_mode": {
    "name": "ipython",
    "version": 3
   },
   "file_extension": ".py",
   "mimetype": "text/x-python",
   "name": "python",
   "nbconvert_exporter": "python",
   "pygments_lexer": "ipython3",
   "version": "3.9.12"
  }
 },
 "nbformat": 4,
 "nbformat_minor": 5
}
